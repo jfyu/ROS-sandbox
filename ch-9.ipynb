{
 "cells": [
  {
   "cell_type": "code",
   "execution_count": 1,
   "id": "db1e637b",
   "metadata": {
    "execution": {
     "iopub.execute_input": "2021-05-30T16:46:26.005269Z",
     "iopub.status.busy": "2021-05-30T16:46:26.005077Z",
     "iopub.status.idle": "2021-05-30T16:46:33.043561Z",
     "shell.execute_reply": "2021-05-30T16:46:33.041495Z",
     "shell.execute_reply.started": "2021-05-30T16:46:26.005218Z"
    },
    "tags": []
   },
   "outputs": [],
   "source": [
    "import pandas as pd\n",
    "import numpy as np\n",
    "import matplotlib.pyplot as plt\n",
    "import seaborn as sns\n",
    "\n",
    "import scipy.stats as stats"
   ]
  },
  {
   "cell_type": "code",
   "execution_count": 82,
   "id": "3168617d",
   "metadata": {
    "execution": {
     "iopub.execute_input": "2021-05-30T19:37:25.454147Z",
     "iopub.status.busy": "2021-05-30T19:37:25.453474Z",
     "iopub.status.idle": "2021-05-30T19:37:25.462038Z",
     "shell.execute_reply": "2021-05-30T19:37:25.459982Z",
     "shell.execute_reply.started": "2021-05-30T19:37:25.454074Z"
    },
    "tags": []
   },
   "outputs": [],
   "source": [
    "from scipy.stats import median_abs_deviation as mad"
   ]
  },
  {
   "cell_type": "code",
   "execution_count": 2,
   "id": "8fc14469",
   "metadata": {
    "execution": {
     "iopub.execute_input": "2021-05-30T16:46:33.046964Z",
     "iopub.status.busy": "2021-05-30T16:46:33.046375Z",
     "iopub.status.idle": "2021-05-30T16:46:36.520556Z",
     "shell.execute_reply": "2021-05-30T16:46:36.520038Z",
     "shell.execute_reply.started": "2021-05-30T16:46:33.046894Z"
    },
    "tags": []
   },
   "outputs": [],
   "source": [
    "import statsmodels.api as sm\n",
    "import statsmodels.formula.api as smf"
   ]
  },
  {
   "cell_type": "code",
   "execution_count": 3,
   "id": "1085c9f1",
   "metadata": {
    "execution": {
     "iopub.execute_input": "2021-05-30T16:46:36.521469Z",
     "iopub.status.busy": "2021-05-30T16:46:36.521345Z",
     "iopub.status.idle": "2021-05-30T16:46:36.523983Z",
     "shell.execute_reply": "2021-05-30T16:46:36.523495Z",
     "shell.execute_reply.started": "2021-05-30T16:46:36.521453Z"
    },
    "tags": []
   },
   "outputs": [],
   "source": [
    "plt.style.use('seaborn-notebook')\n",
    "plt.style.use('ggplot')"
   ]
  },
  {
   "cell_type": "code",
   "execution_count": 4,
   "id": "0ba76b65",
   "metadata": {
    "execution": {
     "iopub.execute_input": "2021-05-30T16:46:36.524697Z",
     "iopub.status.busy": "2021-05-30T16:46:36.524575Z",
     "iopub.status.idle": "2021-05-30T16:46:41.421232Z",
     "shell.execute_reply": "2021-05-30T16:46:41.419857Z",
     "shell.execute_reply.started": "2021-05-30T16:46:36.524682Z"
    },
    "tags": []
   },
   "outputs": [],
   "source": [
    "import pymc3 as pm"
   ]
  },
  {
   "cell_type": "markdown",
   "id": "25da3ef3",
   "metadata": {},
   "source": [
    "# 9.3 Uncertainty in the predicted expectation and the forecast"
   ]
  },
  {
   "cell_type": "code",
   "execution_count": 5,
   "id": "406fedb6",
   "metadata": {
    "execution": {
     "iopub.execute_input": "2021-05-30T16:50:54.444634Z",
     "iopub.status.busy": "2021-05-30T16:50:54.443976Z",
     "iopub.status.idle": "2021-05-30T16:50:54.566157Z",
     "shell.execute_reply": "2021-05-30T16:50:54.564033Z",
     "shell.execute_reply.started": "2021-05-30T16:50:54.444555Z"
    },
    "tags": []
   },
   "outputs": [],
   "source": [
    "data = pd.read_csv('../ROS-Examples/ElectionsEconomy/data/hibbs.dat', sep=' ')"
   ]
  },
  {
   "cell_type": "code",
   "execution_count": 6,
   "id": "aa21c3af",
   "metadata": {
    "execution": {
     "iopub.execute_input": "2021-05-30T16:50:54.607946Z",
     "iopub.status.busy": "2021-05-30T16:50:54.607443Z",
     "iopub.status.idle": "2021-05-30T16:50:54.778777Z",
     "shell.execute_reply": "2021-05-30T16:50:54.776784Z",
     "shell.execute_reply.started": "2021-05-30T16:50:54.607890Z"
    },
    "tags": []
   },
   "outputs": [
    {
     "data": {
      "text/html": [
       "<div>\n",
       "<style scoped>\n",
       "    .dataframe tbody tr th:only-of-type {\n",
       "        vertical-align: middle;\n",
       "    }\n",
       "\n",
       "    .dataframe tbody tr th {\n",
       "        vertical-align: top;\n",
       "    }\n",
       "\n",
       "    .dataframe thead th {\n",
       "        text-align: right;\n",
       "    }\n",
       "</style>\n",
       "<table border=\"1\" class=\"dataframe\">\n",
       "  <thead>\n",
       "    <tr style=\"text-align: right;\">\n",
       "      <th></th>\n",
       "      <th>year</th>\n",
       "      <th>growth</th>\n",
       "      <th>vote</th>\n",
       "      <th>inc_party_candidate</th>\n",
       "      <th>other_candidate</th>\n",
       "    </tr>\n",
       "  </thead>\n",
       "  <tbody>\n",
       "    <tr>\n",
       "      <th>0</th>\n",
       "      <td>1952</td>\n",
       "      <td>2.40</td>\n",
       "      <td>44.60</td>\n",
       "      <td>Stevenson</td>\n",
       "      <td>Eisenhower</td>\n",
       "    </tr>\n",
       "    <tr>\n",
       "      <th>1</th>\n",
       "      <td>1956</td>\n",
       "      <td>2.89</td>\n",
       "      <td>57.76</td>\n",
       "      <td>Eisenhower</td>\n",
       "      <td>Stevenson</td>\n",
       "    </tr>\n",
       "    <tr>\n",
       "      <th>2</th>\n",
       "      <td>1960</td>\n",
       "      <td>0.85</td>\n",
       "      <td>49.91</td>\n",
       "      <td>Nixon</td>\n",
       "      <td>Kennedy</td>\n",
       "    </tr>\n",
       "    <tr>\n",
       "      <th>3</th>\n",
       "      <td>1964</td>\n",
       "      <td>4.21</td>\n",
       "      <td>61.34</td>\n",
       "      <td>Johnson</td>\n",
       "      <td>Goldwater</td>\n",
       "    </tr>\n",
       "    <tr>\n",
       "      <th>4</th>\n",
       "      <td>1968</td>\n",
       "      <td>3.02</td>\n",
       "      <td>49.60</td>\n",
       "      <td>Humphrey</td>\n",
       "      <td>Nixon</td>\n",
       "    </tr>\n",
       "  </tbody>\n",
       "</table>\n",
       "</div>"
      ],
      "text/plain": [
       "   year  growth   vote inc_party_candidate other_candidate\n",
       "0  1952    2.40  44.60           Stevenson      Eisenhower\n",
       "1  1956    2.89  57.76          Eisenhower       Stevenson\n",
       "2  1960    0.85  49.91               Nixon         Kennedy\n",
       "3  1964    4.21  61.34             Johnson       Goldwater\n",
       "4  1968    3.02  49.60            Humphrey           Nixon"
      ]
     },
     "execution_count": 6,
     "metadata": {},
     "output_type": "execute_result"
    }
   ],
   "source": [
    "data.head()"
   ]
  },
  {
   "cell_type": "code",
   "execution_count": 57,
   "id": "0f70027f",
   "metadata": {
    "execution": {
     "iopub.execute_input": "2021-05-30T17:12:27.679755Z",
     "iopub.status.busy": "2021-05-30T17:12:27.679577Z",
     "iopub.status.idle": "2021-05-30T17:12:28.431188Z",
     "shell.execute_reply": "2021-05-30T17:12:28.430499Z",
     "shell.execute_reply.started": "2021-05-30T17:12:27.679737Z"
    }
   },
   "outputs": [
    {
     "data": {
      "text/html": [
       "<table class=\"simpletable\">\n",
       "<caption>Generalized Linear Model Regression Results</caption>\n",
       "<tr>\n",
       "  <th>Dep. Variable:</th>         <td>vote</td>       <th>  No. Observations:  </th>  <td>    16</td> \n",
       "</tr>\n",
       "<tr>\n",
       "  <th>Model:</th>                  <td>GLM</td>       <th>  Df Residuals:      </th>  <td>    14</td> \n",
       "</tr>\n",
       "<tr>\n",
       "  <th>Model Family:</th>        <td>Gaussian</td>     <th>  Df Model:          </th>  <td>     1</td> \n",
       "</tr>\n",
       "<tr>\n",
       "  <th>Link Function:</th>       <td>identity</td>     <th>  Scale:             </th> <td>  14.162</td>\n",
       "</tr>\n",
       "<tr>\n",
       "  <th>Method:</th>                <td>IRLS</td>       <th>  Log-Likelihood:    </th> <td> -42.839</td>\n",
       "</tr>\n",
       "<tr>\n",
       "  <th>Date:</th>            <td>Sun, 30 May 2021</td> <th>  Deviance:          </th> <td>  198.27</td>\n",
       "</tr>\n",
       "<tr>\n",
       "  <th>Time:</th>                <td>13:12:28</td>     <th>  Pearson chi2:      </th>  <td>  198.</td> \n",
       "</tr>\n",
       "<tr>\n",
       "  <th>No. Iterations:</th>          <td>3</td>        <th>                     </th>     <td> </td>   \n",
       "</tr>\n",
       "<tr>\n",
       "  <th>Covariance Type:</th>     <td>nonrobust</td>    <th>                     </th>     <td> </td>   \n",
       "</tr>\n",
       "</table>\n",
       "<table class=\"simpletable\">\n",
       "<tr>\n",
       "      <td></td>         <th>coef</th>     <th>std err</th>      <th>z</th>      <th>P>|z|</th>  <th>[0.025</th>    <th>0.975]</th>  \n",
       "</tr>\n",
       "<tr>\n",
       "  <th>Intercept</th> <td>   46.2476</td> <td>    1.622</td> <td>   28.514</td> <td> 0.000</td> <td>   43.069</td> <td>   49.427</td>\n",
       "</tr>\n",
       "<tr>\n",
       "  <th>growth</th>    <td>    3.0605</td> <td>    0.696</td> <td>    4.396</td> <td> 0.000</td> <td>    1.696</td> <td>    4.425</td>\n",
       "</tr>\n",
       "</table>"
      ],
      "text/plain": [
       "<class 'statsmodels.iolib.summary.Summary'>\n",
       "\"\"\"\n",
       "                 Generalized Linear Model Regression Results                  \n",
       "==============================================================================\n",
       "Dep. Variable:                   vote   No. Observations:                   16\n",
       "Model:                            GLM   Df Residuals:                       14\n",
       "Model Family:                Gaussian   Df Model:                            1\n",
       "Link Function:               identity   Scale:                          14.162\n",
       "Method:                          IRLS   Log-Likelihood:                -42.839\n",
       "Date:                Sun, 30 May 2021   Deviance:                       198.27\n",
       "Time:                        13:12:28   Pearson chi2:                     198.\n",
       "No. Iterations:                     3                                         \n",
       "Covariance Type:            nonrobust                                         \n",
       "==============================================================================\n",
       "                 coef    std err          z      P>|z|      [0.025      0.975]\n",
       "------------------------------------------------------------------------------\n",
       "Intercept     46.2476      1.622     28.514      0.000      43.069      49.427\n",
       "growth         3.0605      0.696      4.396      0.000       1.696       4.425\n",
       "==============================================================================\n",
       "\"\"\""
      ]
     },
     "execution_count": 57,
     "metadata": {},
     "output_type": "execute_result"
    }
   ],
   "source": [
    "res = smf.glm('vote~growth', data).fit()\n",
    "res.summary()"
   ]
  },
  {
   "cell_type": "code",
   "execution_count": 39,
   "id": "d55412a9",
   "metadata": {
    "execution": {
     "iopub.execute_input": "2021-05-30T17:05:12.540321Z",
     "iopub.status.busy": "2021-05-30T17:05:12.539683Z",
     "iopub.status.idle": "2021-05-30T17:05:22.544615Z",
     "shell.execute_reply": "2021-05-30T17:05:22.544092Z",
     "shell.execute_reply.started": "2021-05-30T17:05:12.540246Z"
    },
    "tags": []
   },
   "outputs": [
    {
     "name": "stderr",
     "output_type": "stream",
     "text": [
      "Auto-assigning NUTS sampler...\n",
      "Initializing NUTS using jitter+adapt_diag...\n",
      "Multiprocess sampling (3 chains in 3 jobs)\n",
      "NUTS: [sd, growth, Intercept]\n"
     ]
    },
    {
     "data": {
      "text/html": [
       "\n",
       "    <div>\n",
       "        <style>\n",
       "            /* Turns off some styling */\n",
       "            progress {\n",
       "                /* gets rid of default border in Firefox and Opera. */\n",
       "                border: none;\n",
       "                /* Needs to be in here for Safari polyfill so background images work as expected. */\n",
       "                background-size: auto;\n",
       "            }\n",
       "            .progress-bar-interrupted, .progress-bar-interrupted::-webkit-progress-bar {\n",
       "                background: #F44336;\n",
       "            }\n",
       "        </style>\n",
       "      <progress value='33000' class='' max='33000' style='width:300px; height:20px; vertical-align: middle;'></progress>\n",
       "      100.00% [33000/33000 00:08<00:00 Sampling 3 chains, 0 divergences]\n",
       "    </div>\n",
       "    "
      ],
      "text/plain": [
       "<IPython.core.display.HTML object>"
      ]
     },
     "metadata": {},
     "output_type": "display_data"
    },
    {
     "name": "stderr",
     "output_type": "stream",
     "text": [
      "Sampling 3 chains for 1_000 tune and 10_000 draw iterations (3_000 + 30_000 draws total) took 8 seconds.\n"
     ]
    }
   ],
   "source": [
    "with pm.Model() as model:\n",
    "    pm.glm.linear.GLM.from_formula('vote~growth', data)\n",
    "    trace = pm.sample(10000)"
   ]
  },
  {
   "cell_type": "code",
   "execution_count": 40,
   "id": "33d35fa0",
   "metadata": {
    "execution": {
     "iopub.execute_input": "2021-05-30T17:05:22.545508Z",
     "iopub.status.busy": "2021-05-30T17:05:22.545350Z",
     "iopub.status.idle": "2021-05-30T17:05:25.222330Z",
     "shell.execute_reply": "2021-05-30T17:05:25.221773Z",
     "shell.execute_reply.started": "2021-05-30T17:05:22.545488Z"
    },
    "tags": []
   },
   "outputs": [
    {
     "name": "stderr",
     "output_type": "stream",
     "text": [
      "/home/jfyu/miniconda3/envs/ros/lib/python3.8/site-packages/arviz/data/io_pymc3.py:88: FutureWarning: Using `from_pymc3` without the model will be deprecated in a future release. Not using the model will return less accurate and less useful results. Make sure you use the model argument or call from_pymc3 within a model context.\n",
      "  warnings.warn(\n"
     ]
    },
    {
     "data": {
      "text/plain": [
       "array([[<matplotlib.axes._subplots.AxesSubplot object at 0x7f080a071490>,\n",
       "        <matplotlib.axes._subplots.AxesSubplot object at 0x7f08145557f0>],\n",
       "       [<matplotlib.axes._subplots.AxesSubplot object at 0x7f0814ad3550>,\n",
       "        <matplotlib.axes._subplots.AxesSubplot object at 0x7f0814f4ae50>],\n",
       "       [<matplotlib.axes._subplots.AxesSubplot object at 0x7f080a2f7820>,\n",
       "        <matplotlib.axes._subplots.AxesSubplot object at 0x7f080a35cee0>]],\n",
       "      dtype=object)"
      ]
     },
     "execution_count": 40,
     "metadata": {},
     "output_type": "execute_result"
    },
    {
     "data": {
      "image/png": "[encoded data removed]",
      "text/plain": [
       "<Figure size 864x432 with 6 Axes>"
      ]
     },
     "metadata": {},
     "output_type": "display_data"
    }
   ],
   "source": [
    "pm.traceplot(trace)"
   ]
  },
  {
   "cell_type": "code",
   "execution_count": 42,
   "id": "5a26e91e",
   "metadata": {
    "execution": {
     "iopub.execute_input": "2021-05-30T17:05:45.662473Z",
     "iopub.status.busy": "2021-05-30T17:05:45.662309Z",
     "iopub.status.idle": "2021-05-30T17:05:45.900724Z",
     "shell.execute_reply": "2021-05-30T17:05:45.900205Z",
     "shell.execute_reply.started": "2021-05-30T17:05:45.662457Z"
    },
    "tags": []
   },
   "outputs": [
    {
     "data": {
      "image/png": "[encoded data removed]",
      "text/plain": [
       "<Figure size 576x396 with 1 Axes>"
      ]
     },
     "metadata": {},
     "output_type": "display_data"
    }
   ],
   "source": [
    "plt.plot(data['growth'], data['vote'], 'o',label=\"data\")\n",
    "pm.plot_posterior_predictive_glm(trace, samples=100, \n",
    "                                 lm = lambda x, sample: sample[\"Intercept\"] + sample[\"growth\"] * x, \n",
    "                                 label=\"posterior predictive regression lines\",\n",
    "                                eval = data['growth'])"
   ]
  },
  {
   "cell_type": "code",
   "execution_count": 71,
   "id": "01baeda1",
   "metadata": {
    "execution": {
     "iopub.execute_input": "2021-05-30T19:13:45.318270Z",
     "iopub.status.busy": "2021-05-30T19:13:45.318101Z",
     "iopub.status.idle": "2021-05-30T19:13:45.321646Z",
     "shell.execute_reply": "2021-05-30T19:13:45.321065Z",
     "shell.execute_reply.started": "2021-05-30T19:13:45.318253Z"
    },
    "tags": []
   },
   "outputs": [],
   "source": [
    "a_hat = np.mean(trace['Intercept'])\n",
    "b_hat = np.mean(trace['growth'])\n",
    "sigma_hat = np.mean(trace['sd'])"
   ]
  },
  {
   "cell_type": "code",
   "execution_count": 72,
   "id": "87e0d961",
   "metadata": {
    "execution": {
     "iopub.execute_input": "2021-05-30T19:13:45.744286Z",
     "iopub.status.busy": "2021-05-30T19:13:45.744121Z",
     "iopub.status.idle": "2021-05-30T19:13:45.802675Z",
     "shell.execute_reply": "2021-05-30T19:13:45.801730Z",
     "shell.execute_reply.started": "2021-05-30T19:13:45.744270Z"
    },
    "tags": []
   },
   "outputs": [
    {
     "data": {
      "text/plain": [
       "46.24827909265164"
      ]
     },
     "execution_count": 72,
     "metadata": {},
     "output_type": "execute_result"
    }
   ],
   "source": [
    "a_hat"
   ]
  },
  {
   "cell_type": "code",
   "execution_count": 73,
   "id": "65141a0c",
   "metadata": {
    "execution": {
     "iopub.execute_input": "2021-05-30T19:13:46.046131Z",
     "iopub.status.busy": "2021-05-30T19:13:46.045908Z",
     "iopub.status.idle": "2021-05-30T19:13:46.424025Z",
     "shell.execute_reply": "2021-05-30T19:13:46.422062Z",
     "shell.execute_reply.started": "2021-05-30T19:13:46.046111Z"
    },
    "tags": []
   },
   "outputs": [
    {
     "data": {
      "text/plain": [
       "3.055998834364025"
      ]
     },
     "execution_count": 73,
     "metadata": {},
     "output_type": "execute_result"
    }
   ],
   "source": [
    "b_hat"
   ]
  },
  {
   "cell_type": "code",
   "execution_count": 74,
   "id": "ae19fa48",
   "metadata": {
    "execution": {
     "iopub.execute_input": "2021-05-30T19:13:46.438519Z",
     "iopub.status.busy": "2021-05-30T19:13:46.438328Z",
     "iopub.status.idle": "2021-05-30T19:13:46.504530Z",
     "shell.execute_reply": "2021-05-30T19:13:46.503348Z",
     "shell.execute_reply.started": "2021-05-30T19:13:46.438500Z"
    },
    "tags": []
   },
   "outputs": [
    {
     "data": {
      "text/plain": [
       "4.094912370980202"
      ]
     },
     "execution_count": 74,
     "metadata": {},
     "output_type": "execute_result"
    }
   ],
   "source": [
    "sigma_hat"
   ]
  },
  {
   "cell_type": "markdown",
   "id": "a41051dd",
   "metadata": {},
   "source": [
    "Point estimate"
   ]
  },
  {
   "cell_type": "code",
   "execution_count": 65,
   "id": "65398972",
   "metadata": {
    "execution": {
     "iopub.execute_input": "2021-05-30T17:19:26.333451Z",
     "iopub.status.busy": "2021-05-30T17:19:26.333277Z",
     "iopub.status.idle": "2021-05-30T17:19:26.336249Z",
     "shell.execute_reply": "2021-05-30T17:19:26.335578Z",
     "shell.execute_reply.started": "2021-05-30T17:19:26.333435Z"
    },
    "tags": []
   },
   "outputs": [],
   "source": [
    "x_new = 2"
   ]
  },
  {
   "cell_type": "code",
   "execution_count": 66,
   "id": "1dec8957",
   "metadata": {
    "execution": {
     "iopub.execute_input": "2021-05-30T17:19:26.600938Z",
     "iopub.status.busy": "2021-05-30T17:19:26.600281Z",
     "iopub.status.idle": "2021-05-30T17:19:26.612377Z",
     "shell.execute_reply": "2021-05-30T17:19:26.610356Z",
     "shell.execute_reply.started": "2021-05-30T17:19:26.600863Z"
    },
    "tags": []
   },
   "outputs": [
    {
     "data": {
      "text/plain": [
       "52.364641870946656"
      ]
     },
     "execution_count": 66,
     "metadata": {},
     "output_type": "execute_result"
    }
   ],
   "source": [
    "a_hat+b_hat*x_new"
   ]
  },
  {
   "cell_type": "code",
   "execution_count": 78,
   "id": "47dbc553",
   "metadata": {
    "execution": {
     "iopub.execute_input": "2021-05-30T19:35:56.279955Z",
     "iopub.status.busy": "2021-05-30T19:35:56.279672Z",
     "iopub.status.idle": "2021-05-30T19:35:56.285470Z",
     "shell.execute_reply": "2021-05-30T19:35:56.284810Z",
     "shell.execute_reply.started": "2021-05-30T19:35:56.279929Z"
    },
    "tags": []
   },
   "outputs": [],
   "source": [
    "sigma_linpred = sigma_hat*np.sqrt(1/len(data['vote'])+\n",
    "                                 np.power(x_new-np.mean(data['growth']),2)\n",
    "                                 /np.sum(np.power(data['growth']-np.mean(data['growth']), 2)))"
   ]
  },
  {
   "cell_type": "code",
   "execution_count": 68,
   "id": "4c0ade28",
   "metadata": {
    "execution": {
     "iopub.execute_input": "2021-05-30T17:19:27.073904Z",
     "iopub.status.busy": "2021-05-30T17:19:27.073235Z",
     "iopub.status.idle": "2021-05-30T17:19:27.084725Z",
     "shell.execute_reply": "2021-05-30T17:19:27.082695Z",
     "shell.execute_reply.started": "2021-05-30T17:19:27.073801Z"
    },
    "tags": []
   },
   "outputs": [
    {
     "data": {
      "text/plain": [
       "0.9924373967171424"
      ]
     },
     "execution_count": 68,
     "metadata": {},
     "output_type": "execute_result"
    }
   ],
   "source": [
    "sigma_linpred"
   ]
  },
  {
   "cell_type": "code",
   "execution_count": 69,
   "id": "eef265e4",
   "metadata": {
    "execution": {
     "iopub.execute_input": "2021-05-30T17:19:27.292626Z",
     "iopub.status.busy": "2021-05-30T17:19:27.292421Z",
     "iopub.status.idle": "2021-05-30T17:19:27.905809Z",
     "shell.execute_reply": "2021-05-30T17:19:27.905288Z",
     "shell.execute_reply.started": "2021-05-30T17:19:27.292610Z"
    },
    "tags": []
   },
   "outputs": [],
   "source": [
    "sigma_prediction = sigma_hat*np.sqrt(1+1/len(data['vote'])+\n",
    "                                 np.power(x_new-np.mean(data['growth']),2)\n",
    "                                 /np.sum(np.power(data['growth']-np.mean(data['growth']), 2)))"
   ]
  },
  {
   "cell_type": "code",
   "execution_count": 70,
   "id": "594f2862",
   "metadata": {
    "execution": {
     "iopub.execute_input": "2021-05-30T17:19:27.906584Z",
     "iopub.status.busy": "2021-05-30T17:19:27.906457Z",
     "iopub.status.idle": "2021-05-30T17:19:27.963706Z",
     "shell.execute_reply": "2021-05-30T17:19:27.961609Z",
     "shell.execute_reply.started": "2021-05-30T17:19:27.906569Z"
    },
    "tags": []
   },
   "outputs": [
    {
     "data": {
      "text/plain": [
       "4.080892178698337"
      ]
     },
     "execution_count": 70,
     "metadata": {},
     "output_type": "execute_result"
    }
   ],
   "source": [
    "sigma_prediction"
   ]
  },
  {
   "cell_type": "markdown",
   "id": "156dbd17",
   "metadata": {},
   "source": [
    "Doing `linpred` by hand using `pymc3`"
   ]
  },
  {
   "cell_type": "code",
   "execution_count": 75,
   "id": "3064a806",
   "metadata": {
    "execution": {
     "iopub.execute_input": "2021-05-30T19:35:27.980740Z",
     "iopub.status.busy": "2021-05-30T19:35:27.980391Z",
     "iopub.status.idle": "2021-05-30T19:35:27.986102Z",
     "shell.execute_reply": "2021-05-30T19:35:27.985170Z",
     "shell.execute_reply.started": "2021-05-30T19:35:27.980703Z"
    }
   },
   "outputs": [],
   "source": [
    "y_linpred = trace['Intercept']+trace['growth']*x_new"
   ]
  },
  {
   "cell_type": "code",
   "execution_count": 76,
   "id": "9227f882",
   "metadata": {
    "execution": {
     "iopub.execute_input": "2021-05-30T19:35:32.520766Z",
     "iopub.status.busy": "2021-05-30T19:35:32.520126Z",
     "iopub.status.idle": "2021-05-30T19:35:32.532147Z",
     "shell.execute_reply": "2021-05-30T19:35:32.530645Z",
     "shell.execute_reply.started": "2021-05-30T19:35:32.520694Z"
    }
   },
   "outputs": [
    {
     "data": {
      "text/plain": [
       "52.3602767613797"
      ]
     },
     "execution_count": 76,
     "metadata": {},
     "output_type": "execute_result"
    }
   ],
   "source": [
    "y_linpred.mean()"
   ]
  },
  {
   "cell_type": "code",
   "execution_count": 77,
   "id": "dbadc980",
   "metadata": {
    "execution": {
     "iopub.execute_input": "2021-05-30T19:35:41.192413Z",
     "iopub.status.busy": "2021-05-30T19:35:41.191743Z",
     "iopub.status.idle": "2021-05-30T19:35:41.206294Z",
     "shell.execute_reply": "2021-05-30T19:35:41.203765Z",
     "shell.execute_reply.started": "2021-05-30T19:35:41.192338Z"
    }
   },
   "outputs": [
    {
     "data": {
      "text/plain": [
       "1.0501921152863063"
      ]
     },
     "execution_count": 77,
     "metadata": {},
     "output_type": "execute_result"
    }
   ],
   "source": [
    "y_linpred.std()"
   ]
  },
  {
   "cell_type": "code",
   "execution_count": 84,
   "id": "ab035dce",
   "metadata": {
    "execution": {
     "iopub.execute_input": "2021-05-30T19:38:04.441867Z",
     "iopub.status.busy": "2021-05-30T19:38:04.441194Z",
     "iopub.status.idle": "2021-05-30T19:38:04.454830Z",
     "shell.execute_reply": "2021-05-30T19:38:04.453602Z",
     "shell.execute_reply.started": "2021-05-30T19:38:04.441772Z"
    },
    "tags": []
   },
   "outputs": [
    {
     "data": {
      "text/plain": [
       "0.9858752625408395"
      ]
     },
     "execution_count": 84,
     "metadata": {},
     "output_type": "execute_result"
    }
   ],
   "source": [
    "mad(y_linpred, scale='normal')"
   ]
  },
  {
   "cell_type": "markdown",
   "id": "99dc05bf",
   "metadata": {},
   "source": [
    "this is close to the sigma calculated"
   ]
  },
  {
   "cell_type": "markdown",
   "id": "2ab25f81",
   "metadata": {},
   "source": [
    "Doing `psosterior_predict`"
   ]
  },
  {
   "cell_type": "code",
   "execution_count": 85,
   "id": "c7ed4a5c",
   "metadata": {
    "execution": {
     "iopub.execute_input": "2021-05-30T19:39:01.236218Z",
     "iopub.status.busy": "2021-05-30T19:39:01.235573Z",
     "iopub.status.idle": "2021-05-30T19:39:01.248148Z",
     "shell.execute_reply": "2021-05-30T19:39:01.245979Z",
     "shell.execute_reply.started": "2021-05-30T19:39:01.236145Z"
    }
   },
   "outputs": [
    {
     "data": {
      "text/plain": [
       "10000"
      ]
     },
     "execution_count": 85,
     "metadata": {},
     "output_type": "execute_result"
    }
   ],
   "source": [
    "len(trace)"
   ]
  },
  {
   "cell_type": "code",
   "execution_count": 87,
   "id": "3aff08ce",
   "metadata": {
    "execution": {
     "iopub.execute_input": "2021-05-30T19:39:48.489547Z",
     "iopub.status.busy": "2021-05-30T19:39:48.489044Z",
     "iopub.status.idle": "2021-05-30T19:39:48.499480Z",
     "shell.execute_reply": "2021-05-30T19:39:48.498546Z",
     "shell.execute_reply.started": "2021-05-30T19:39:48.489493Z"
    },
    "tags": []
   },
   "outputs": [],
   "source": [
    "y_pred = trace['Intercept']+trace['growth']*x_new + np.random.normal(0, trace['sd'])"
   ]
  },
  {
   "cell_type": "code",
   "execution_count": 88,
   "id": "579587cf",
   "metadata": {
    "execution": {
     "iopub.execute_input": "2021-05-30T19:39:56.979583Z",
     "iopub.status.busy": "2021-05-30T19:39:56.978955Z",
     "iopub.status.idle": "2021-05-30T19:39:56.994405Z",
     "shell.execute_reply": "2021-05-30T19:39:56.992325Z",
     "shell.execute_reply.started": "2021-05-30T19:39:56.979512Z"
    }
   },
   "outputs": [
    {
     "data": {
      "text/plain": [
       "4.102878008689911"
      ]
     },
     "execution_count": 88,
     "metadata": {},
     "output_type": "execute_result"
    }
   ],
   "source": [
    "mad(y_pred, scale='normal')"
   ]
  },
  {
   "cell_type": "code",
   "execution_count": 89,
   "id": "54ad6d15",
   "metadata": {
    "execution": {
     "iopub.execute_input": "2021-05-30T19:40:03.080309Z",
     "iopub.status.busy": "2021-05-30T19:40:03.079649Z",
     "iopub.status.idle": "2021-05-30T19:40:03.092178Z",
     "shell.execute_reply": "2021-05-30T19:40:03.089259Z",
     "shell.execute_reply.started": "2021-05-30T19:40:03.080235Z"
    }
   },
   "outputs": [
    {
     "data": {
      "text/plain": [
       "52.37936963931058"
      ]
     },
     "execution_count": 89,
     "metadata": {},
     "output_type": "execute_result"
    }
   ],
   "source": [
    "y_pred.mean()"
   ]
  },
  {
   "cell_type": "markdown",
   "id": "f0d3855a",
   "metadata": {},
   "source": [
    "# 9.4 Partial Pooling"
   ]
  },
  {
   "cell_type": "markdown",
   "id": "65ed1642",
   "metadata": {},
   "source": [
    "Need to solve Eq. 9.3 given everything but $se_{data}$"
   ]
  },
  {
   "cell_type": "code",
   "execution_count": 98,
   "id": "52e9ea4f",
   "metadata": {
    "execution": {
     "iopub.execute_input": "2021-05-30T20:02:17.599517Z",
     "iopub.status.busy": "2021-05-30T20:02:17.599337Z",
     "iopub.status.idle": "2021-05-30T20:02:17.603228Z",
     "shell.execute_reply": "2021-05-30T20:02:17.602667Z",
     "shell.execute_reply.started": "2021-05-30T20:02:17.599499Z"
    },
    "tags": []
   },
   "outputs": [
    {
     "data": {
      "text/plain": [
       "139.10399999999998"
      ]
     },
     "execution_count": 98,
     "metadata": {},
     "output_type": "execute_result"
    }
   ],
   "source": [
    "0.07/np.power(0.05,3)*0.54*(1-0.54)"
   ]
  },
  {
   "cell_type": "markdown",
   "id": "8f5ec76b",
   "metadata": {},
   "source": [
    "n = 139"
   ]
  },
  {
   "cell_type": "code",
   "execution_count": 115,
   "id": "81972a9e",
   "metadata": {
    "execution": {
     "iopub.execute_input": "2021-05-30T20:15:13.859993Z",
     "iopub.status.busy": "2021-05-30T20:15:13.859361Z",
     "iopub.status.idle": "2021-05-30T20:15:13.865422Z",
     "shell.execute_reply": "2021-05-30T20:15:13.864984Z",
     "shell.execute_reply.started": "2021-05-30T20:15:13.859922Z"
    },
    "tags": []
   },
   "outputs": [],
   "source": [
    "# sd for the posterior is in Eq. 9.4\n",
    "\n",
    "sd_posterior = 1/np.sqrt((1/np.power(0.05,2)+1/(0.54*(1-0.54)/139)))"
   ]
  },
  {
   "cell_type": "code",
   "execution_count": 116,
   "id": "1cb1f8eb",
   "metadata": {
    "execution": {
     "iopub.execute_input": "2021-05-30T20:15:14.299089Z",
     "iopub.status.busy": "2021-05-30T20:15:14.298459Z",
     "iopub.status.idle": "2021-05-30T20:15:14.310968Z",
     "shell.execute_reply": "2021-05-30T20:15:14.308367Z",
     "shell.execute_reply.started": "2021-05-30T20:15:14.299016Z"
    },
    "tags": []
   },
   "outputs": [
    {
     "data": {
      "text/plain": [
       "0.03228190145063747"
      ]
     },
     "execution_count": 116,
     "metadata": {},
     "output_type": "execute_result"
    }
   ],
   "source": [
    "sd_posterior"
   ]
  },
  {
   "cell_type": "code",
   "execution_count": 117,
   "id": "b46d049b",
   "metadata": {
    "execution": {
     "iopub.execute_input": "2021-05-30T20:15:15.663538Z",
     "iopub.status.busy": "2021-05-30T20:15:15.663368Z",
     "iopub.status.idle": "2021-05-30T20:15:15.667082Z",
     "shell.execute_reply": "2021-05-30T20:15:15.666706Z",
     "shell.execute_reply.started": "2021-05-30T20:15:15.663521Z"
    },
    "tags": []
   },
   "outputs": [
    {
     "data": {
      "text/plain": [
       "0.8923428754058724"
      ]
     },
     "execution_count": 117,
     "metadata": {},
     "output_type": "execute_result"
    }
   ],
   "source": [
    "# if the candidate wins election, then they would have share of vote > 0.5\n",
    "\n",
    "1-stats.norm.cdf(0.5, loc=0.54, scale = sd_posterior)"
   ]
  },
  {
   "cell_type": "markdown",
   "id": "ca2e374f",
   "metadata": {},
   "source": [
    "# 9.5 Combining prior information and data"
   ]
  },
  {
   "cell_type": "code",
   "execution_count": 118,
   "id": "d2c0f6d2",
   "metadata": {
    "execution": {
     "iopub.execute_input": "2021-05-30T20:15:18.150034Z",
     "iopub.status.busy": "2021-05-30T20:15:18.149369Z",
     "iopub.status.idle": "2021-05-30T20:15:18.159263Z",
     "shell.execute_reply": "2021-05-30T20:15:18.157112Z",
     "shell.execute_reply.started": "2021-05-30T20:15:18.149960Z"
    },
    "tags": []
   },
   "outputs": [],
   "source": [
    "def bayes_sd(se_prior, se_data):\n",
    "    return 1/(np.sqrt(1/np.power(se_prior,2)+1/np.power(se_data,2)))"
   ]
  },
  {
   "cell_type": "code",
   "execution_count": 124,
   "id": "a0b37660",
   "metadata": {
    "execution": {
     "iopub.execute_input": "2021-05-30T20:17:41.944443Z",
     "iopub.status.busy": "2021-05-30T20:17:41.943803Z",
     "iopub.status.idle": "2021-05-30T20:17:41.953313Z",
     "shell.execute_reply": "2021-05-30T20:17:41.951714Z",
     "shell.execute_reply.started": "2021-05-30T20:17:41.944369Z"
    },
    "tags": []
   },
   "outputs": [],
   "source": [
    "def bayes_mean(theta_prior, theta_data, se_prior, se_data):\n",
    "    return (theta_prior/np.power(se_prior,2)+theta_data/np.power(se_data,2))*np.power(bayes_sd(se_prior,se_data),2)"
   ]
  },
  {
   "cell_type": "code",
   "execution_count": 125,
   "id": "e2a81695",
   "metadata": {
    "execution": {
     "iopub.execute_input": "2021-05-30T20:17:42.306119Z",
     "iopub.status.busy": "2021-05-30T20:17:42.305920Z",
     "iopub.status.idle": "2021-05-30T20:17:42.308894Z",
     "shell.execute_reply": "2021-05-30T20:17:42.308353Z",
     "shell.execute_reply.started": "2021-05-30T20:17:42.306099Z"
    },
    "tags": []
   },
   "outputs": [],
   "source": [
    "def se_data(p,n):\n",
    "    return np.sqrt(p*(1-p)/n)"
   ]
  },
  {
   "cell_type": "markdown",
   "id": "f4a26821",
   "metadata": {},
   "source": [
    "Just checking"
   ]
  },
  {
   "cell_type": "code",
   "execution_count": 126,
   "id": "64dda24a",
   "metadata": {
    "execution": {
     "iopub.execute_input": "2021-05-30T20:17:42.728103Z",
     "iopub.status.busy": "2021-05-30T20:17:42.727451Z",
     "iopub.status.idle": "2021-05-30T20:17:42.739835Z",
     "shell.execute_reply": "2021-05-30T20:17:42.738048Z",
     "shell.execute_reply.started": "2021-05-30T20:17:42.728029Z"
    },
    "tags": []
   },
   "outputs": [
    {
     "data": {
      "text/plain": [
       "0.042273518421255527"
      ]
     },
     "execution_count": 126,
     "metadata": {},
     "output_type": "execute_result"
    }
   ],
   "source": [
    "se_data(0.54, 139)"
   ]
  },
  {
   "cell_type": "code",
   "execution_count": 127,
   "id": "a90bada0",
   "metadata": {
    "execution": {
     "iopub.execute_input": "2021-05-30T20:17:42.901354Z",
     "iopub.status.busy": "2021-05-30T20:17:42.900697Z",
     "iopub.status.idle": "2021-05-30T20:17:42.913265Z",
     "shell.execute_reply": "2021-05-30T20:17:42.911182Z",
     "shell.execute_reply.started": "2021-05-30T20:17:42.901280Z"
    },
    "tags": []
   },
   "outputs": [
    {
     "data": {
      "text/plain": [
       "0.03228190145063747"
      ]
     },
     "execution_count": 127,
     "metadata": {},
     "output_type": "execute_result"
    }
   ],
   "source": [
    "bayes_sd(0.05, se_data(0.54, 139))"
   ]
  },
  {
   "cell_type": "code",
   "execution_count": 128,
   "id": "dfa4dd4d",
   "metadata": {
    "execution": {
     "iopub.execute_input": "2021-05-30T20:17:43.093500Z",
     "iopub.status.busy": "2021-05-30T20:17:43.093323Z",
     "iopub.status.idle": "2021-05-30T20:17:43.097140Z",
     "shell.execute_reply": "2021-05-30T20:17:43.096618Z",
     "shell.execute_reply.started": "2021-05-30T20:17:43.093481Z"
    },
    "tags": []
   },
   "outputs": [
    {
     "data": {
      "text/plain": [
       "0.48997818425910394"
      ]
     },
     "execution_count": 128,
     "metadata": {},
     "output_type": "execute_result"
    }
   ],
   "source": [
    "bayes_mean(0.42, 0.54, 0.05, se_data(0.54, 139))"
   ]
  },
  {
   "cell_type": "markdown",
   "id": "0e52975a",
   "metadata": {},
   "source": [
    "Ok let's do the work"
   ]
  },
  {
   "cell_type": "code",
   "execution_count": 129,
   "id": "6bda740c",
   "metadata": {
    "execution": {
     "iopub.execute_input": "2021-05-30T20:18:28.690722Z",
     "iopub.status.busy": "2021-05-30T20:18:28.690097Z",
     "iopub.status.idle": "2021-05-30T20:18:28.702253Z",
     "shell.execute_reply": "2021-05-30T20:18:28.700445Z",
     "shell.execute_reply.started": "2021-05-30T20:18:28.690651Z"
    }
   },
   "outputs": [
    {
     "data": {
      "text/plain": [
       "0.03056179775280899"
      ]
     },
     "execution_count": 129,
     "metadata": {},
     "output_type": "execute_result"
    }
   ],
   "source": [
    "bayes_mean(-0.02, 0.16, 0.05, 0.08)"
   ]
  },
  {
   "cell_type": "code",
   "execution_count": 130,
   "id": "d73db9d1",
   "metadata": {
    "execution": {
     "iopub.execute_input": "2021-05-30T20:18:41.063094Z",
     "iopub.status.busy": "2021-05-30T20:18:41.062424Z",
     "iopub.status.idle": "2021-05-30T20:18:41.074411Z",
     "shell.execute_reply": "2021-05-30T20:18:41.072522Z",
     "shell.execute_reply.started": "2021-05-30T20:18:41.063019Z"
    }
   },
   "outputs": [
    {
     "data": {
      "text/plain": [
       "0.0423999152002544"
      ]
     },
     "execution_count": 130,
     "metadata": {},
     "output_type": "execute_result"
    }
   ],
   "source": [
    "bayes_sd(0.05, 0.08)"
   ]
  },
  {
   "cell_type": "markdown",
   "id": "8f10c249",
   "metadata": {},
   "source": [
    "# 9.6 Bayesian inference with a zero-centered informative prior on the log scale"
   ]
  },
  {
   "cell_type": "markdown",
   "id": "e633b83c",
   "metadata": {},
   "source": [
    "it's actually Exercise 4.8 they are referring to"
   ]
  },
  {
   "cell_type": "code",
   "execution_count": 158,
   "id": "38a22921",
   "metadata": {
    "execution": {
     "iopub.execute_input": "2021-05-30T21:38:33.140663Z",
     "iopub.status.busy": "2021-05-30T21:38:33.140036Z",
     "iopub.status.idle": "2021-05-30T21:38:33.149246Z",
     "shell.execute_reply": "2021-05-30T21:38:33.148064Z",
     "shell.execute_reply.started": "2021-05-30T21:38:33.140591Z"
    },
    "tags": []
   },
   "outputs": [
    {
     "data": {
      "text/plain": [
       "0.08997429305912598"
      ]
     },
     "execution_count": 158,
     "metadata": {},
     "output_type": "execute_result"
    }
   ],
   "source": [
    "b_mean = bayes_mean(0, 0.35, 0.1, 0.17)\n",
    "b_mean"
   ]
  },
  {
   "cell_type": "code",
   "execution_count": 165,
   "id": "67661f11",
   "metadata": {
    "execution": {
     "iopub.execute_input": "2021-05-30T21:39:27.784960Z",
     "iopub.status.busy": "2021-05-30T21:39:27.784742Z",
     "iopub.status.idle": "2021-05-30T21:39:27.789283Z",
     "shell.execute_reply": "2021-05-30T21:39:27.788590Z",
     "shell.execute_reply.started": "2021-05-30T21:39:27.784937Z"
    },
    "tags": []
   },
   "outputs": [
    {
     "data": {
      "text/plain": [
       "0.08619342151577697"
      ]
     },
     "execution_count": 165,
     "metadata": {},
     "output_type": "execute_result"
    }
   ],
   "source": [
    "b_sd = bayes_sd(0.1, 0.17)\n",
    "b_sd"
   ]
  },
  {
   "cell_type": "code",
   "execution_count": 166,
   "id": "23e16dc7",
   "metadata": {
    "execution": {
     "iopub.execute_input": "2021-05-30T21:39:28.359048Z",
     "iopub.status.busy": "2021-05-30T21:39:28.358744Z",
     "iopub.status.idle": "2021-05-30T21:39:28.364313Z",
     "shell.execute_reply": "2021-05-30T21:39:28.363491Z",
     "shell.execute_reply.started": "2021-05-30T21:39:28.359017Z"
    },
    "tags": []
   },
   "outputs": [
    {
     "data": {
      "text/plain": [
       "1.094146156193131"
      ]
     },
     "execution_count": 166,
     "metadata": {},
     "output_type": "execute_result"
    }
   ],
   "source": [
    "np.exp(b_mean)"
   ]
  },
  {
   "cell_type": "code",
   "execution_count": 167,
   "id": "866a8971",
   "metadata": {
    "execution": {
     "iopub.execute_input": "2021-05-30T21:39:28.582421Z",
     "iopub.status.busy": "2021-05-30T21:39:28.581731Z",
     "iopub.status.idle": "2021-05-30T21:39:28.595436Z",
     "shell.execute_reply": "2021-05-30T21:39:28.593888Z",
     "shell.execute_reply.started": "2021-05-30T21:39:28.582344Z"
    },
    "tags": []
   },
   "outputs": [
    {
     "data": {
      "text/plain": [
       "1.299995933116507"
      ]
     },
     "execution_count": 167,
     "metadata": {},
     "output_type": "execute_result"
    }
   ],
   "source": [
    "np.exp(b_mean+2*b_sd) #one end point of the 95 CL"
   ]
  },
  {
   "cell_type": "code",
   "execution_count": 168,
   "id": "92017b6d",
   "metadata": {
    "execution": {
     "iopub.execute_input": "2021-05-30T21:39:29.215121Z",
     "iopub.status.busy": "2021-05-30T21:39:29.214489Z",
     "iopub.status.idle": "2021-05-30T21:39:29.756899Z",
     "shell.execute_reply": "2021-05-30T21:39:29.755158Z",
     "shell.execute_reply.started": "2021-05-30T21:39:29.215050Z"
    },
    "tags": []
   },
   "outputs": [
    {
     "data": {
      "text/plain": [
       "0.9208919663634926"
      ]
     },
     "execution_count": 168,
     "metadata": {},
     "output_type": "execute_result"
    }
   ],
   "source": [
    "np.exp(b_mean-2*b_sd) #one end point of the 95 CL"
   ]
  },
  {
   "cell_type": "code",
   "execution_count": null,
   "id": "b607e4f9",
   "metadata": {},
   "outputs": [],
   "source": []
  }
 ],
 "metadata": {
  "kernelspec": {
   "display_name": "Python [conda env:ros]",
   "language": "python",
   "name": "conda-env-ros-py"
  },
  "language_info": {
   "codemirror_mode": {
    "name": "ipython",
    "version": 3
   },
   "file_extension": ".py",
   "mimetype": "text/x-python",
   "name": "python",
   "nbconvert_exporter": "python",
   "pygments_lexer": "ipython3",
   "version": "3.8.8"
  }
 },
 "nbformat": 4,
 "nbformat_minor": 5
}
