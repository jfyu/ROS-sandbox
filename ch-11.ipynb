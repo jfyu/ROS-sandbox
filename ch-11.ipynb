{
 "cells": [
  {
   "cell_type": "code",
   "execution_count": 1,
   "id": "ee879856",
   "metadata": {
    "execution": {
     "iopub.execute_input": "2021-08-29T14:50:13.762232Z",
     "iopub.status.busy": "2021-08-29T14:50:13.761486Z",
     "iopub.status.idle": "2021-08-29T14:50:21.051437Z",
     "shell.execute_reply": "2021-08-29T14:50:21.050953Z",
     "shell.execute_reply.started": "2021-08-29T14:50:13.762029Z"
    },
    "tags": []
   },
   "outputs": [],
   "source": [
    "import pandas as pd\n",
    "import numpy as np\n",
    "import matplotlib.pyplot as plt\n",
    "import seaborn as sns\n",
    "\n",
    "import scipy.stats as stats"
   ]
  },
  {
   "cell_type": "code",
   "execution_count": 2,
   "id": "2c673939",
   "metadata": {
    "execution": {
     "iopub.execute_input": "2021-08-29T14:50:21.052365Z",
     "iopub.status.busy": "2021-08-29T14:50:21.052169Z",
     "iopub.status.idle": "2021-08-29T14:50:21.055141Z",
     "shell.execute_reply": "2021-08-29T14:50:21.054527Z",
     "shell.execute_reply.started": "2021-08-29T14:50:21.052349Z"
    },
    "tags": []
   },
   "outputs": [],
   "source": [
    "from scipy.stats import median_abs_deviation as mad"
   ]
  },
  {
   "cell_type": "code",
   "execution_count": 3,
   "id": "6208c758",
   "metadata": {
    "execution": {
     "iopub.execute_input": "2021-08-29T14:50:21.056255Z",
     "iopub.status.busy": "2021-08-29T14:50:21.056095Z",
     "iopub.status.idle": "2021-08-29T14:50:23.853373Z",
     "shell.execute_reply": "2021-08-29T14:50:23.852746Z",
     "shell.execute_reply.started": "2021-08-29T14:50:21.056240Z"
    },
    "tags": []
   },
   "outputs": [],
   "source": [
    "import statsmodels.api as sm\n",
    "import statsmodels.formula.api as smf"
   ]
  },
  {
   "cell_type": "code",
   "execution_count": 4,
   "id": "1217dcce",
   "metadata": {
    "execution": {
     "iopub.execute_input": "2021-08-29T14:50:23.854316Z",
     "iopub.status.busy": "2021-08-29T14:50:23.854084Z",
     "iopub.status.idle": "2021-08-29T14:50:23.858960Z",
     "shell.execute_reply": "2021-08-29T14:50:23.856773Z",
     "shell.execute_reply.started": "2021-08-29T14:50:23.854297Z"
    },
    "tags": []
   },
   "outputs": [],
   "source": [
    "plt.style.use('seaborn-notebook')\n",
    "plt.style.use('ggplot')"
   ]
  },
  {
   "cell_type": "code",
   "execution_count": 5,
   "id": "c88ebb02",
   "metadata": {
    "execution": {
     "iopub.execute_input": "2021-08-29T14:50:23.859945Z",
     "iopub.status.busy": "2021-08-29T14:50:23.859778Z",
     "iopub.status.idle": "2021-08-29T14:50:29.253556Z",
     "shell.execute_reply": "2021-08-29T14:50:29.251376Z",
     "shell.execute_reply.started": "2021-08-29T14:50:23.859925Z"
    },
    "tags": []
   },
   "outputs": [],
   "source": [
    "import pymc3 as pm"
   ]
  },
  {
   "cell_type": "markdown",
   "id": "6a072cc1",
   "metadata": {},
   "source": [
    "# 11.1 Assumpitons of regression model"
   ]
  },
  {
   "cell_type": "markdown",
   "id": "9dfcba94",
   "metadata": {},
   "source": [
    "## the model"
   ]
  },
  {
   "cell_type": "code",
   "execution_count": 6,
   "id": "6ca0cef0",
   "metadata": {
    "execution": {
     "iopub.execute_input": "2021-08-29T15:09:42.821860Z",
     "iopub.status.busy": "2021-08-29T15:09:42.821187Z",
     "iopub.status.idle": "2021-08-29T15:09:43.256524Z",
     "shell.execute_reply": "2021-08-29T15:09:43.255881Z",
     "shell.execute_reply.started": "2021-08-29T15:09:42.821778Z"
    },
    "tags": []
   },
   "outputs": [],
   "source": [
    "hibbs = pd.read_csv('../ROS-Examples/ElectionsEconomy/data/hibbs.dat', sep=' ')"
   ]
  },
  {
   "cell_type": "code",
   "execution_count": 7,
   "id": "22970be6",
   "metadata": {
    "execution": {
     "iopub.execute_input": "2021-08-29T15:09:43.257624Z",
     "iopub.status.busy": "2021-08-29T15:09:43.257423Z",
     "iopub.status.idle": "2021-08-29T15:09:44.007107Z",
     "shell.execute_reply": "2021-08-29T15:09:44.006496Z",
     "shell.execute_reply.started": "2021-08-29T15:09:43.257599Z"
    },
    "tags": []
   },
   "outputs": [
    {
     "data": {
      "text/html": [
       "<div>\n",
       "<style scoped>\n",
       "    .dataframe tbody tr th:only-of-type {\n",
       "        vertical-align: middle;\n",
       "    }\n",
       "\n",
       "    .dataframe tbody tr th {\n",
       "        vertical-align: top;\n",
       "    }\n",
       "\n",
       "    .dataframe thead th {\n",
       "        text-align: right;\n",
       "    }\n",
       "</style>\n",
       "<table border=\"1\" class=\"dataframe\">\n",
       "  <thead>\n",
       "    <tr style=\"text-align: right;\">\n",
       "      <th></th>\n",
       "      <th>year</th>\n",
       "      <th>growth</th>\n",
       "      <th>vote</th>\n",
       "      <th>inc_party_candidate</th>\n",
       "      <th>other_candidate</th>\n",
       "    </tr>\n",
       "  </thead>\n",
       "  <tbody>\n",
       "    <tr>\n",
       "      <th>0</th>\n",
       "      <td>1952</td>\n",
       "      <td>2.40</td>\n",
       "      <td>44.60</td>\n",
       "      <td>Stevenson</td>\n",
       "      <td>Eisenhower</td>\n",
       "    </tr>\n",
       "    <tr>\n",
       "      <th>1</th>\n",
       "      <td>1956</td>\n",
       "      <td>2.89</td>\n",
       "      <td>57.76</td>\n",
       "      <td>Eisenhower</td>\n",
       "      <td>Stevenson</td>\n",
       "    </tr>\n",
       "    <tr>\n",
       "      <th>2</th>\n",
       "      <td>1960</td>\n",
       "      <td>0.85</td>\n",
       "      <td>49.91</td>\n",
       "      <td>Nixon</td>\n",
       "      <td>Kennedy</td>\n",
       "    </tr>\n",
       "    <tr>\n",
       "      <th>3</th>\n",
       "      <td>1964</td>\n",
       "      <td>4.21</td>\n",
       "      <td>61.34</td>\n",
       "      <td>Johnson</td>\n",
       "      <td>Goldwater</td>\n",
       "    </tr>\n",
       "    <tr>\n",
       "      <th>4</th>\n",
       "      <td>1968</td>\n",
       "      <td>3.02</td>\n",
       "      <td>49.60</td>\n",
       "      <td>Humphrey</td>\n",
       "      <td>Nixon</td>\n",
       "    </tr>\n",
       "  </tbody>\n",
       "</table>\n",
       "</div>"
      ],
      "text/plain": [
       "   year  growth   vote inc_party_candidate other_candidate\n",
       "0  1952    2.40  44.60           Stevenson      Eisenhower\n",
       "1  1956    2.89  57.76          Eisenhower       Stevenson\n",
       "2  1960    0.85  49.91               Nixon         Kennedy\n",
       "3  1964    4.21  61.34             Johnson       Goldwater\n",
       "4  1968    3.02  49.60            Humphrey           Nixon"
      ]
     },
     "execution_count": 7,
     "metadata": {},
     "output_type": "execute_result"
    }
   ],
   "source": [
    "hibbs.head()"
   ]
  },
  {
   "cell_type": "code",
   "execution_count": 8,
   "id": "cadd21a9",
   "metadata": {
    "execution": {
     "iopub.execute_input": "2021-08-29T15:10:53.186418Z",
     "iopub.status.busy": "2021-08-29T15:10:53.185767Z",
     "iopub.status.idle": "2021-08-29T15:11:13.372774Z",
     "shell.execute_reply": "2021-08-29T15:11:13.372198Z",
     "shell.execute_reply.started": "2021-08-29T15:10:53.186343Z"
    }
   },
   "outputs": [
    {
     "name": "stderr",
     "output_type": "stream",
     "text": [
      "Auto-assigning NUTS sampler...\n",
      "Initializing NUTS using jitter+adapt_diag...\n",
      "Multiprocess sampling (3 chains in 3 jobs)\n",
      "NUTS: [sd, growth, Intercept]\n"
     ]
    },
    {
     "data": {
      "text/html": [
       "\n",
       "    <div>\n",
       "        <style>\n",
       "            /* Turns off some styling */\n",
       "            progress {\n",
       "                /* gets rid of default border in Firefox and Opera. */\n",
       "                border: none;\n",
       "                /* Needs to be in here for Safari polyfill so background images work as expected. */\n",
       "                background-size: auto;\n",
       "            }\n",
       "            .progress-bar-interrupted, .progress-bar-interrupted::-webkit-progress-bar {\n",
       "                background: #F44336;\n",
       "            }\n",
       "        </style>\n",
       "      <progress value='33000' class='' max='33000' style='width:300px; height:20px; vertical-align: middle;'></progress>\n",
       "      100.00% [33000/33000 00:08<00:00 Sampling 3 chains, 0 divergences]\n",
       "    </div>\n",
       "    "
      ],
      "text/plain": [
       "<IPython.core.display.HTML object>"
      ]
     },
     "metadata": {},
     "output_type": "display_data"
    },
    {
     "name": "stderr",
     "output_type": "stream",
     "text": [
      "Sampling 3 chains for 1_000 tune and 10_000 draw iterations (3_000 + 30_000 draws total) took 9 seconds.\n"
     ]
    }
   ],
   "source": [
    "with pm.Model() as model:\n",
    "    pm.glm.linear.GLM.from_formula('vote~growth', hibbs)\n",
    "    trace = pm.sample(10000)"
   ]
  },
  {
   "cell_type": "code",
   "execution_count": 12,
   "id": "b17c87b8",
   "metadata": {
    "execution": {
     "iopub.execute_input": "2021-08-29T15:11:29.118426Z",
     "iopub.status.busy": "2021-08-29T15:11:29.118265Z",
     "iopub.status.idle": "2021-08-29T15:11:29.145648Z",
     "shell.execute_reply": "2021-08-29T15:11:29.144871Z",
     "shell.execute_reply.started": "2021-08-29T15:11:29.118410Z"
    },
    "tags": []
   },
   "outputs": [
    {
     "data": {
      "text/plain": [
       "Intercept    46.248847\n",
       "growth        3.060345\n",
       "sd            4.091421\n",
       "dtype: float64"
      ]
     },
     "execution_count": 12,
     "metadata": {},
     "output_type": "execute_result"
    }
   ],
   "source": [
    "trace_df = pm.trace_to_dataframe(trace[:3000])\n",
    "trace_df.mean()"
   ]
  },
  {
   "cell_type": "code",
   "execution_count": 13,
   "id": "419c2b7c",
   "metadata": {
    "execution": {
     "iopub.execute_input": "2021-08-29T15:15:18.855663Z",
     "iopub.status.busy": "2021-08-29T15:15:18.855498Z",
     "iopub.status.idle": "2021-08-29T15:15:18.859625Z",
     "shell.execute_reply": "2021-08-29T15:15:18.859035Z",
     "shell.execute_reply.started": "2021-08-29T15:15:18.855645Z"
    }
   },
   "outputs": [
    {
     "data": {
      "text/plain": [
       "<bound method Series.sort_values of 0     1952\n",
       "1     1956\n",
       "2     1960\n",
       "3     1964\n",
       "4     1968\n",
       "5     1972\n",
       "6     1976\n",
       "7     1980\n",
       "8     1984\n",
       "9     1988\n",
       "10    1992\n",
       "11    1996\n",
       "12    2000\n",
       "13    2004\n",
       "14    2008\n",
       "15    2012\n",
       "Name: year, dtype: int64>"
      ]
     },
     "execution_count": 13,
     "metadata": {},
     "output_type": "execute_result"
    }
   ],
   "source": [
    "hibbs['year'].sort_values"
   ]
  },
  {
   "cell_type": "markdown",
   "id": "3073abf0",
   "metadata": {},
   "source": [
    "## Assumption 1: Validity\n",
    "\n",
    "Is the research question mapped reasonably to the data? The model is called `bread and peace`. So th eidea is that if the populance gets enough \"bread\" (i.e. economy doing well), they would vote in a certain way towards the incumbents. I think this makes sense. There is not really a question of sampling aside from choosing the years and the country (US). The country is a choice for the study, the years have been chosen presumably for the availablility of data and does not appear to have skipped any special term. "
   ]
  },
  {
   "cell_type": "markdown",
   "id": "3ce52173",
   "metadata": {},
   "source": [
    "## Assumption 2: Representativeness\n",
    "\n",
    "This dataset is a case where there is no real selection of data as explained above, but the potential issue from representativeness comes from the fact that we assume the past and the future elections are sub-populations of one super-population. There are at least 2 possible issues at stake: \n",
    "\n",
    "1. The population composition itself has changed over the course of years, with more immigration and decline of birth rate. This would represent a gradual shift of attitudes over the years and therefore the data is not really a random selection from a super popualtion \n",
    "\n",
    "2. Economic growth definition: the way we define economic growth is the average growth in personal income. This does not take into consideration the inflation as well as asset value change. If inflation was higher than income growth, then effective purchase power has actually gone down; If asset valuation changes a lot either way, the wealth of individuals would be influenced by this and also that influence would be very unequal across social classes (with or without assets)\n",
    "\n",
    "\n",
    "These issues could be addressed by adding new predicators that would take these factors into considerations. Increase to net worth as opposed to net income, for example, might address some of these issues. Adding purchase power parity for example might help as well. The population composition shift is hard to accommodate, but it's possible that accommodating for different income classes might address that issue as well. "
   ]
  },
  {
   "cell_type": "markdown",
   "id": "efcdc4c1",
   "metadata": {},
   "source": [
    "## Assumption 3: additivity and linearity\n",
    "\n",
    "We chose to do this model as a linear model since there is only one predicator. There is no additivity which would come into play if we add more predicators. There is no a priori reason why it would not be linear, so I think this assumption is valid. "
   ]
  },
  {
   "cell_type": "markdown",
   "id": "ac6e46d0",
   "metadata": {},
   "source": [
    "## Assumption 4: independence of errors\n",
    "\n",
    "I do think there is some auto-correlation within elections (because it's a time series), so this assumption is violated"
   ]
  },
  {
   "cell_type": "markdown",
   "id": "305d46ff",
   "metadata": {},
   "source": [
    "## Assumption 5: Equal variance of errors\n",
    "\n",
    "This is probably also violated given errors are not even independent"
   ]
  },
  {
   "cell_type": "markdown",
   "id": "27b75c23",
   "metadata": {},
   "source": [
    "## Assumption 6: Normality of errors\n",
    "\n",
    "We make this assumption based on our model, but I do not think there is much to change on this front"
   ]
  },
  {
   "cell_type": "markdown",
   "id": "edf85df5",
   "metadata": {},
   "source": [
    "# 11.2 Descriptive and causal inference"
   ]
  },
  {
   "cell_type": "code",
   "execution_count": 14,
   "id": "078902b5",
   "metadata": {
    "execution": {
     "iopub.execute_input": "2021-08-29T15:34:17.385206Z",
     "iopub.status.busy": "2021-08-29T15:34:17.385030Z",
     "iopub.status.idle": "2021-08-29T15:34:17.389619Z",
     "shell.execute_reply": "2021-08-29T15:34:17.389105Z",
     "shell.execute_reply.started": "2021-08-29T15:34:17.385187Z"
    }
   },
   "outputs": [
    {
     "data": {
      "text/plain": [
       "Intercept    46.248847\n",
       "growth        3.060345\n",
       "sd            4.091421\n",
       "dtype: float64"
      ]
     },
     "execution_count": 14,
     "metadata": {},
     "output_type": "execute_result"
    }
   ],
   "source": [
    "trace_df.mean()"
   ]
  },
  {
   "cell_type": "markdown",
   "id": "af3777bc",
   "metadata": {},
   "source": [
    "## Descriptive:\n",
    "On average, the vote share of the incumbent would be increased by 3.06% for every 1% increase in personal income"
   ]
  },
  {
   "cell_type": "markdown",
   "id": "a6c75df6",
   "metadata": {},
   "source": [
    "## Causual\n",
    "\n",
    "We would say then a 1% increase in personal income would increase the incumbent's vote share by 3.06%, which, if used in prediction of elections, is hardly relevant since we must consider all other issues at stake. Also, since growth is almost almost positive, it would have predicted that every incumbent would just kept winnning elections in vote share (since they obviously won the previous one), which is not necessarily true"
   ]
  },
  {
   "cell_type": "markdown",
   "id": "821d502f",
   "metadata": {},
   "source": [
    "# 11.3 Coverage of confidence intervals"
   ]
  },
  {
   "cell_type": "code",
   "execution_count": 34,
   "id": "fd4375fd",
   "metadata": {
    "execution": {
     "iopub.execute_input": "2021-08-29T15:53:58.110472Z",
     "iopub.status.busy": "2021-08-29T15:53:58.109862Z",
     "iopub.status.idle": "2021-08-29T15:53:58.119912Z",
     "shell.execute_reply": "2021-08-29T15:53:58.117994Z",
     "shell.execute_reply.started": "2021-08-29T15:53:58.110401Z"
    },
    "tags": []
   },
   "outputs": [],
   "source": [
    "def simulate_y(n):\n",
    "    x = np.random.uniform(0,10,n)\n",
    "    y = 2+3*x+np.random.normal(0,size = n)\n",
    "    return x,y"
   ]
  },
  {
   "cell_type": "code",
   "execution_count": 37,
   "id": "015f8911",
   "metadata": {
    "execution": {
     "iopub.execute_input": "2021-08-29T15:55:57.867638Z",
     "iopub.status.busy": "2021-08-29T15:55:57.866980Z",
     "iopub.status.idle": "2021-08-29T15:55:57.883381Z",
     "shell.execute_reply": "2021-08-29T15:55:57.880048Z",
     "shell.execute_reply.started": "2021-08-29T15:55:57.867560Z"
    },
    "tags": []
   },
   "outputs": [],
   "source": [
    "def repeated_regression(N, n):\n",
    "    slope_list = []\n",
    "    mad_sd =[]\n",
    "    x,y = simulate_y(n)\n",
    "    for i in range(0,N):\n",
    "        with pm.Model() as model:\n",
    "            pm.glm.GLM(x,y,intercept=True)\n",
    "            trace = pm.sample(1000)\n",
    "        trace_df = pm.trace_to_dataframe(trace[:300])\n",
    "        slope_list.append(trace_df['x0'].median())\n",
    "        mad_sd.append(trace_df['x0'].mad())\n",
    "    return slope_list, mad_sd"
   ]
  },
  {
   "cell_type": "code",
   "execution_count": null,
   "id": "e6f3a852",
   "metadata": {
    "tags": []
   },
   "outputs": [],
   "source": [
    "slope, mad_sd = repeated_regression(100, 100) #this will take a while"
   ]
  },
  {
   "cell_type": "markdown",
   "id": "02ceed50",
   "metadata": {},
   "source": [
    "this took too long, we will just do once"
   ]
  },
  {
   "cell_type": "code",
   "execution_count": 41,
   "id": "66356cf6",
   "metadata": {
    "execution": {
     "iopub.execute_input": "2021-08-29T16:17:30.324563Z",
     "iopub.status.busy": "2021-08-29T16:17:30.324310Z",
     "iopub.status.idle": "2021-08-29T16:17:33.782000Z",
     "shell.execute_reply": "2021-08-29T16:17:33.781480Z",
     "shell.execute_reply.started": "2021-08-29T16:17:30.324534Z"
    },
    "tags": []
   },
   "outputs": [
    {
     "name": "stderr",
     "output_type": "stream",
     "text": [
      "Auto-assigning NUTS sampler...\n",
      "Initializing NUTS using jitter+adapt_diag...\n",
      "Multiprocess sampling (3 chains in 3 jobs)\n",
      "NUTS: [sd, x0, Intercept]\n"
     ]
    },
    {
     "data": {
      "text/html": [
       "\n",
       "    <div>\n",
       "        <style>\n",
       "            /* Turns off some styling */\n",
       "            progress {\n",
       "                /* gets rid of default border in Firefox and Opera. */\n",
       "                border: none;\n",
       "                /* Needs to be in here for Safari polyfill so background images work as expected. */\n",
       "                background-size: auto;\n",
       "            }\n",
       "            .progress-bar-interrupted, .progress-bar-interrupted::-webkit-progress-bar {\n",
       "                background: #F44336;\n",
       "            }\n",
       "        </style>\n",
       "      <progress value='6000' class='' max='6000' style='width:300px; height:20px; vertical-align: middle;'></progress>\n",
       "      100.00% [6000/6000 00:02<00:00 Sampling 3 chains, 0 divergences]\n",
       "    </div>\n",
       "    "
      ],
      "text/plain": [
       "<IPython.core.display.HTML object>"
      ]
     },
     "metadata": {},
     "output_type": "display_data"
    },
    {
     "name": "stderr",
     "output_type": "stream",
     "text": [
      "Sampling 3 chains for 1_000 tune and 1_000 draw iterations (3_000 + 3_000 draws total) took 2 seconds.\n"
     ]
    }
   ],
   "source": [
    "slope, mad_sd = repeated_regression(1, 100) #this will take a while"
   ]
  },
  {
   "cell_type": "code",
   "execution_count": 42,
   "id": "aa633b7d",
   "metadata": {
    "execution": {
     "iopub.execute_input": "2021-08-29T16:17:36.395061Z",
     "iopub.status.busy": "2021-08-29T16:17:36.394330Z",
     "iopub.status.idle": "2021-08-29T16:17:36.406942Z",
     "shell.execute_reply": "2021-08-29T16:17:36.405232Z",
     "shell.execute_reply.started": "2021-08-29T16:17:36.394967Z"
    }
   },
   "outputs": [
    {
     "data": {
      "text/plain": [
       "[2.9748300392993636]"
      ]
     },
     "execution_count": 42,
     "metadata": {},
     "output_type": "execute_result"
    }
   ],
   "source": [
    "slope"
   ]
  },
  {
   "cell_type": "code",
   "execution_count": 43,
   "id": "737b2bb2",
   "metadata": {
    "execution": {
     "iopub.execute_input": "2021-08-29T16:17:40.520687Z",
     "iopub.status.busy": "2021-08-29T16:17:40.520018Z",
     "iopub.status.idle": "2021-08-29T16:17:40.532174Z",
     "shell.execute_reply": "2021-08-29T16:17:40.529647Z",
     "shell.execute_reply.started": "2021-08-29T16:17:40.520611Z"
    }
   },
   "outputs": [
    {
     "data": {
      "text/plain": [
       "[0.032930372642943]"
      ]
     },
     "execution_count": 43,
     "metadata": {},
     "output_type": "execute_result"
    }
   ],
   "source": [
    "mad_sd"
   ]
  },
  {
   "cell_type": "markdown",
   "id": "51edaefc",
   "metadata": {},
   "source": [
    "So yes, slope $ \\pm $ 2 $ \\times $mad_sd"
   ]
  },
  {
   "cell_type": "markdown",
   "id": "1ea77839",
   "metadata": {},
   "source": [
    "# 11.4 Interpreting residual plots\n",
    "\n",
    "The residual plots would be non-linear if we do not have interactions term"
   ]
  },
  {
   "cell_type": "code",
   "execution_count": 69,
   "id": "abc2f781",
   "metadata": {
    "execution": {
     "iopub.execute_input": "2021-08-29T16:40:27.114013Z",
     "iopub.status.busy": "2021-08-29T16:40:27.113384Z",
     "iopub.status.idle": "2021-08-29T16:40:27.123245Z",
     "shell.execute_reply": "2021-08-29T16:40:27.121593Z",
     "shell.execute_reply.started": "2021-08-29T16:40:27.113939Z"
    },
    "tags": []
   },
   "outputs": [],
   "source": [
    "x = np.random.uniform(0,10,100)\n",
    "x2 = np.random.binomial(1, 0.5,100)\n",
    "y = 2+3*x+np.random.normal(0,size = 100)+x2*x*5"
   ]
  },
  {
   "cell_type": "code",
   "execution_count": 70,
   "id": "3f4ac36b",
   "metadata": {
    "execution": {
     "iopub.execute_input": "2021-08-29T16:40:27.558939Z",
     "iopub.status.busy": "2021-08-29T16:40:27.558276Z",
     "iopub.status.idle": "2021-08-29T16:40:27.569926Z",
     "shell.execute_reply": "2021-08-29T16:40:27.567854Z",
     "shell.execute_reply.started": "2021-08-29T16:40:27.558865Z"
    },
    "tags": []
   },
   "outputs": [],
   "source": [
    "data = pd.DataFrame({'x':x, 'x2':x2, 'y':y})"
   ]
  },
  {
   "cell_type": "code",
   "execution_count": 71,
   "id": "6ac75685",
   "metadata": {
    "execution": {
     "iopub.execute_input": "2021-08-29T16:40:27.906020Z",
     "iopub.status.busy": "2021-08-29T16:40:27.905757Z",
     "iopub.status.idle": "2021-08-29T16:40:27.917590Z",
     "shell.execute_reply": "2021-08-29T16:40:27.916876Z",
     "shell.execute_reply.started": "2021-08-29T16:40:27.905990Z"
    },
    "tags": []
   },
   "outputs": [
    {
     "data": {
      "text/html": [
       "<div>\n",
       "<style scoped>\n",
       "    .dataframe tbody tr th:only-of-type {\n",
       "        vertical-align: middle;\n",
       "    }\n",
       "\n",
       "    .dataframe tbody tr th {\n",
       "        vertical-align: top;\n",
       "    }\n",
       "\n",
       "    .dataframe thead th {\n",
       "        text-align: right;\n",
       "    }\n",
       "</style>\n",
       "<table border=\"1\" class=\"dataframe\">\n",
       "  <thead>\n",
       "    <tr style=\"text-align: right;\">\n",
       "      <th></th>\n",
       "      <th>x</th>\n",
       "      <th>x2</th>\n",
       "      <th>y</th>\n",
       "    </tr>\n",
       "  </thead>\n",
       "  <tbody>\n",
       "    <tr>\n",
       "      <th>0</th>\n",
       "      <td>6.022735</td>\n",
       "      <td>1</td>\n",
       "      <td>50.418891</td>\n",
       "    </tr>\n",
       "    <tr>\n",
       "      <th>1</th>\n",
       "      <td>7.256480</td>\n",
       "      <td>0</td>\n",
       "      <td>23.376753</td>\n",
       "    </tr>\n",
       "    <tr>\n",
       "      <th>2</th>\n",
       "      <td>0.564837</td>\n",
       "      <td>0</td>\n",
       "      <td>3.153016</td>\n",
       "    </tr>\n",
       "    <tr>\n",
       "      <th>3</th>\n",
       "      <td>3.025347</td>\n",
       "      <td>0</td>\n",
       "      <td>10.879114</td>\n",
       "    </tr>\n",
       "    <tr>\n",
       "      <th>4</th>\n",
       "      <td>9.960666</td>\n",
       "      <td>1</td>\n",
       "      <td>80.915877</td>\n",
       "    </tr>\n",
       "    <tr>\n",
       "      <th>...</th>\n",
       "      <td>...</td>\n",
       "      <td>...</td>\n",
       "      <td>...</td>\n",
       "    </tr>\n",
       "    <tr>\n",
       "      <th>95</th>\n",
       "      <td>3.913465</td>\n",
       "      <td>0</td>\n",
       "      <td>11.583940</td>\n",
       "    </tr>\n",
       "    <tr>\n",
       "      <th>96</th>\n",
       "      <td>0.322724</td>\n",
       "      <td>0</td>\n",
       "      <td>2.920160</td>\n",
       "    </tr>\n",
       "    <tr>\n",
       "      <th>97</th>\n",
       "      <td>6.828352</td>\n",
       "      <td>1</td>\n",
       "      <td>55.812607</td>\n",
       "    </tr>\n",
       "    <tr>\n",
       "      <th>98</th>\n",
       "      <td>4.085145</td>\n",
       "      <td>1</td>\n",
       "      <td>34.854781</td>\n",
       "    </tr>\n",
       "    <tr>\n",
       "      <th>99</th>\n",
       "      <td>0.240146</td>\n",
       "      <td>1</td>\n",
       "      <td>3.510819</td>\n",
       "    </tr>\n",
       "  </tbody>\n",
       "</table>\n",
       "<p>100 rows × 3 columns</p>\n",
       "</div>"
      ],
      "text/plain": [
       "           x  x2          y\n",
       "0   6.022735   1  50.418891\n",
       "1   7.256480   0  23.376753\n",
       "2   0.564837   0   3.153016\n",
       "3   3.025347   0  10.879114\n",
       "4   9.960666   1  80.915877\n",
       "..       ...  ..        ...\n",
       "95  3.913465   0  11.583940\n",
       "96  0.322724   0   2.920160\n",
       "97  6.828352   1  55.812607\n",
       "98  4.085145   1  34.854781\n",
       "99  0.240146   1   3.510819\n",
       "\n",
       "[100 rows x 3 columns]"
      ]
     },
     "execution_count": 71,
     "metadata": {},
     "output_type": "execute_result"
    }
   ],
   "source": [
    "data"
   ]
  },
  {
   "cell_type": "code",
   "execution_count": 72,
   "id": "ebd59867",
   "metadata": {
    "execution": {
     "iopub.execute_input": "2021-08-29T16:40:29.632857Z",
     "iopub.status.busy": "2021-08-29T16:40:29.632208Z",
     "iopub.status.idle": "2021-08-29T16:40:44.914056Z",
     "shell.execute_reply": "2021-08-29T16:40:44.913543Z",
     "shell.execute_reply.started": "2021-08-29T16:40:29.632783Z"
    },
    "tags": []
   },
   "outputs": [
    {
     "name": "stderr",
     "output_type": "stream",
     "text": [
      "Auto-assigning NUTS sampler...\n",
      "Initializing NUTS using jitter+adapt_diag...\n",
      "Multiprocess sampling (3 chains in 3 jobs)\n",
      "NUTS: [sd, x2, x, Intercept]\n"
     ]
    },
    {
     "data": {
      "text/html": [
       "\n",
       "    <div>\n",
       "        <style>\n",
       "            /* Turns off some styling */\n",
       "            progress {\n",
       "                /* gets rid of default border in Firefox and Opera. */\n",
       "                border: none;\n",
       "                /* Needs to be in here for Safari polyfill so background images work as expected. */\n",
       "                background-size: auto;\n",
       "            }\n",
       "            .progress-bar-interrupted, .progress-bar-interrupted::-webkit-progress-bar {\n",
       "                background: #F44336;\n",
       "            }\n",
       "        </style>\n",
       "      <progress value='33000' class='' max='33000' style='width:300px; height:20px; vertical-align: middle;'></progress>\n",
       "      100.00% [33000/33000 00:12<00:00 Sampling 3 chains, 0 divergences]\n",
       "    </div>\n",
       "    "
      ],
      "text/plain": [
       "<IPython.core.display.HTML object>"
      ]
     },
     "metadata": {},
     "output_type": "display_data"
    },
    {
     "name": "stderr",
     "output_type": "stream",
     "text": [
      "Sampling 3 chains for 1_000 tune and 10_000 draw iterations (3_000 + 30_000 draws total) took 13 seconds.\n",
      "The acceptance probability does not match the target. It is 0.8789582274690785, but should be close to 0.8. Try to increase the number of tuning steps.\n"
     ]
    }
   ],
   "source": [
    "with pm.Model() as model:\n",
    "    pm.glm.linear.GLM.from_formula('y~x+x2', data)\n",
    "    trace = pm.sample(10000)\n",
    "trace_df = pm.trace_to_dataframe(trace[:3000])"
   ]
  },
  {
   "cell_type": "code",
   "execution_count": 73,
   "id": "e68bacb9",
   "metadata": {
    "execution": {
     "iopub.execute_input": "2021-08-29T16:40:44.915070Z",
     "iopub.status.busy": "2021-08-29T16:40:44.914904Z",
     "iopub.status.idle": "2021-08-29T16:40:44.920671Z",
     "shell.execute_reply": "2021-08-29T16:40:44.919922Z",
     "shell.execute_reply.started": "2021-08-29T16:40:44.915052Z"
    },
    "tags": []
   },
   "outputs": [],
   "source": [
    "coeff = trace_df.median()"
   ]
  },
  {
   "cell_type": "code",
   "execution_count": 74,
   "id": "fa5eabfd",
   "metadata": {
    "execution": {
     "iopub.execute_input": "2021-08-29T16:40:44.921775Z",
     "iopub.status.busy": "2021-08-29T16:40:44.921619Z",
     "iopub.status.idle": "2021-08-29T16:40:45.193575Z",
     "shell.execute_reply": "2021-08-29T16:40:45.191507Z",
     "shell.execute_reply.started": "2021-08-29T16:40:44.921757Z"
    },
    "tags": []
   },
   "outputs": [
    {
     "data": {
      "text/plain": [
       "4.979243801322451"
      ]
     },
     "execution_count": 74,
     "metadata": {},
     "output_type": "execute_result"
    }
   ],
   "source": [
    "coeff['x']"
   ]
  },
  {
   "cell_type": "code",
   "execution_count": 75,
   "id": "fb25555a",
   "metadata": {
    "execution": {
     "iopub.execute_input": "2021-08-29T16:40:45.851228Z",
     "iopub.status.busy": "2021-08-29T16:40:45.850580Z",
     "iopub.status.idle": "2021-08-29T16:40:45.857437Z",
     "shell.execute_reply": "2021-08-29T16:40:45.856897Z",
     "shell.execute_reply.started": "2021-08-29T16:40:45.851154Z"
    },
    "tags": []
   },
   "outputs": [
    {
     "data": {
      "text/plain": [
       "Intercept    -8.313672\n",
       "x             4.979244\n",
       "x2           24.945949\n",
       "sd            6.272814\n",
       "dtype: float64"
      ]
     },
     "execution_count": 75,
     "metadata": {},
     "output_type": "execute_result"
    }
   ],
   "source": [
    "coeff"
   ]
  },
  {
   "cell_type": "code",
   "execution_count": 76,
   "id": "47cea25f",
   "metadata": {
    "execution": {
     "iopub.execute_input": "2021-08-29T16:40:46.751200Z",
     "iopub.status.busy": "2021-08-29T16:40:46.750535Z",
     "iopub.status.idle": "2021-08-29T16:40:46.756075Z",
     "shell.execute_reply": "2021-08-29T16:40:46.755542Z",
     "shell.execute_reply.started": "2021-08-29T16:40:46.751123Z"
    },
    "tags": []
   },
   "outputs": [],
   "source": [
    "y_hat = coeff['x']*x+coeff['x2']*x2+coeff['Intercept']"
   ]
  },
  {
   "cell_type": "code",
   "execution_count": 79,
   "id": "338cb483",
   "metadata": {
    "execution": {
     "iopub.execute_input": "2021-08-29T16:40:59.318893Z",
     "iopub.status.busy": "2021-08-29T16:40:59.318210Z",
     "iopub.status.idle": "2021-08-29T16:40:59.328608Z",
     "shell.execute_reply": "2021-08-29T16:40:59.326519Z",
     "shell.execute_reply.started": "2021-08-29T16:40:59.318814Z"
    }
   },
   "outputs": [],
   "source": [
    "data['y_hat'] = y_hat"
   ]
  },
  {
   "cell_type": "code",
   "execution_count": 81,
   "id": "98a5df37",
   "metadata": {
    "execution": {
     "iopub.execute_input": "2021-08-29T16:41:09.459997Z",
     "iopub.status.busy": "2021-08-29T16:41:09.459423Z",
     "iopub.status.idle": "2021-08-29T16:41:09.469441Z",
     "shell.execute_reply": "2021-08-29T16:41:09.467501Z",
     "shell.execute_reply.started": "2021-08-29T16:41:09.459929Z"
    },
    "tags": []
   },
   "outputs": [],
   "source": [
    "data['residual'] = y-y_hat"
   ]
  },
  {
   "cell_type": "code",
   "execution_count": 82,
   "id": "e9a47e9a",
   "metadata": {
    "execution": {
     "iopub.execute_input": "2021-08-29T16:41:12.063709Z",
     "iopub.status.busy": "2021-08-29T16:41:12.063076Z",
     "iopub.status.idle": "2021-08-29T16:41:12.095730Z",
     "shell.execute_reply": "2021-08-29T16:41:12.094852Z",
     "shell.execute_reply.started": "2021-08-29T16:41:12.063632Z"
    }
   },
   "outputs": [
    {
     "data": {
      "text/html": [
       "<div>\n",
       "<style scoped>\n",
       "    .dataframe tbody tr th:only-of-type {\n",
       "        vertical-align: middle;\n",
       "    }\n",
       "\n",
       "    .dataframe tbody tr th {\n",
       "        vertical-align: top;\n",
       "    }\n",
       "\n",
       "    .dataframe thead th {\n",
       "        text-align: right;\n",
       "    }\n",
       "</style>\n",
       "<table border=\"1\" class=\"dataframe\">\n",
       "  <thead>\n",
       "    <tr style=\"text-align: right;\">\n",
       "      <th></th>\n",
       "      <th>x</th>\n",
       "      <th>x2</th>\n",
       "      <th>y</th>\n",
       "      <th>y_hat</th>\n",
       "      <th>residual</th>\n",
       "    </tr>\n",
       "  </thead>\n",
       "  <tbody>\n",
       "    <tr>\n",
       "      <th>0</th>\n",
       "      <td>6.022735</td>\n",
       "      <td>1</td>\n",
       "      <td>50.418891</td>\n",
       "      <td>46.620944</td>\n",
       "      <td>3.797947</td>\n",
       "    </tr>\n",
       "    <tr>\n",
       "      <th>1</th>\n",
       "      <td>7.256480</td>\n",
       "      <td>0</td>\n",
       "      <td>23.376753</td>\n",
       "      <td>27.818113</td>\n",
       "      <td>-4.441360</td>\n",
       "    </tr>\n",
       "    <tr>\n",
       "      <th>2</th>\n",
       "      <td>0.564837</td>\n",
       "      <td>0</td>\n",
       "      <td>3.153016</td>\n",
       "      <td>-5.501211</td>\n",
       "      <td>8.654226</td>\n",
       "    </tr>\n",
       "    <tr>\n",
       "      <th>3</th>\n",
       "      <td>3.025347</td>\n",
       "      <td>0</td>\n",
       "      <td>10.879114</td>\n",
       "      <td>6.750269</td>\n",
       "      <td>4.128845</td>\n",
       "    </tr>\n",
       "    <tr>\n",
       "      <th>4</th>\n",
       "      <td>9.960666</td>\n",
       "      <td>1</td>\n",
       "      <td>80.915877</td>\n",
       "      <td>66.228864</td>\n",
       "      <td>14.687013</td>\n",
       "    </tr>\n",
       "    <tr>\n",
       "      <th>...</th>\n",
       "      <td>...</td>\n",
       "      <td>...</td>\n",
       "      <td>...</td>\n",
       "      <td>...</td>\n",
       "      <td>...</td>\n",
       "    </tr>\n",
       "    <tr>\n",
       "      <th>95</th>\n",
       "      <td>3.913465</td>\n",
       "      <td>0</td>\n",
       "      <td>11.583940</td>\n",
       "      <td>11.172422</td>\n",
       "      <td>0.411518</td>\n",
       "    </tr>\n",
       "    <tr>\n",
       "      <th>96</th>\n",
       "      <td>0.322724</td>\n",
       "      <td>0</td>\n",
       "      <td>2.920160</td>\n",
       "      <td>-6.706750</td>\n",
       "      <td>9.626910</td>\n",
       "    </tr>\n",
       "    <tr>\n",
       "      <th>97</th>\n",
       "      <td>6.828352</td>\n",
       "      <td>1</td>\n",
       "      <td>55.812607</td>\n",
       "      <td>50.632308</td>\n",
       "      <td>5.180299</td>\n",
       "    </tr>\n",
       "    <tr>\n",
       "      <th>98</th>\n",
       "      <td>4.085145</td>\n",
       "      <td>1</td>\n",
       "      <td>34.854781</td>\n",
       "      <td>36.973213</td>\n",
       "      <td>-2.118432</td>\n",
       "    </tr>\n",
       "    <tr>\n",
       "      <th>99</th>\n",
       "      <td>0.240146</td>\n",
       "      <td>1</td>\n",
       "      <td>3.510819</td>\n",
       "      <td>17.828024</td>\n",
       "      <td>-14.317205</td>\n",
       "    </tr>\n",
       "  </tbody>\n",
       "</table>\n",
       "<p>100 rows × 5 columns</p>\n",
       "</div>"
      ],
      "text/plain": [
       "           x  x2          y      y_hat   residual\n",
       "0   6.022735   1  50.418891  46.620944   3.797947\n",
       "1   7.256480   0  23.376753  27.818113  -4.441360\n",
       "2   0.564837   0   3.153016  -5.501211   8.654226\n",
       "3   3.025347   0  10.879114   6.750269   4.128845\n",
       "4   9.960666   1  80.915877  66.228864  14.687013\n",
       "..       ...  ..        ...        ...        ...\n",
       "95  3.913465   0  11.583940  11.172422   0.411518\n",
       "96  0.322724   0   2.920160  -6.706750   9.626910\n",
       "97  6.828352   1  55.812607  50.632308   5.180299\n",
       "98  4.085145   1  34.854781  36.973213  -2.118432\n",
       "99  0.240146   1   3.510819  17.828024 -14.317205\n",
       "\n",
       "[100 rows x 5 columns]"
      ]
     },
     "execution_count": 82,
     "metadata": {},
     "output_type": "execute_result"
    }
   ],
   "source": [
    "data"
   ]
  },
  {
   "cell_type": "code",
   "execution_count": 87,
   "id": "6cd23750",
   "metadata": {
    "execution": {
     "iopub.execute_input": "2021-08-29T16:43:43.882706Z",
     "iopub.status.busy": "2021-08-29T16:43:43.882533Z",
     "iopub.status.idle": "2021-08-29T16:43:44.051766Z",
     "shell.execute_reply": "2021-08-29T16:43:44.051314Z",
     "shell.execute_reply.started": "2021-08-29T16:43:43.882687Z"
    },
    "tags": []
   },
   "outputs": [
    {
     "data": {
      "text/plain": [
       "<matplotlib.axes._subplots.AxesSubplot at 0x7faff03f4760>"
      ]
     },
     "execution_count": 87,
     "metadata": {},
     "output_type": "execute_result"
    },
    {
     "data": {
      "image/png": "[encoded data removed]",
      "text/plain": [
       "<Figure size 576x396 with 1 Axes>"
      ]
     },
     "metadata": {},
     "output_type": "display_data"
    }
   ],
   "source": [
    "sns.scatterplot(data = data, x='x', y='residual',hue='x2')"
   ]
  },
  {
   "cell_type": "markdown",
   "id": "9a4db5f7",
   "metadata": {},
   "source": [
    "For example, suppose $y = ax_1+bx_2+c+dx_1x_2$, and $\\hat{y} = \\hat{a}x_1+\\hat{b}x_2+c$, then\n",
    "\n",
    "$$\n",
    "residual = y-\\hat{y} = (a-\\hat{a})x_1+(b-\\hat{b})x_2+c-\\hat{c}+dx_1x_2\n",
    "$$\n",
    "\n",
    "which means if we plot residual against $x_1$, then we get\n",
    "$$\n",
    "res \\sim (a-\\hat{a}+d)x_1\n",
    "$$\n",
    "if $x_2 = 1$, else\n",
    "$$\n",
    "res \\sim (a-\\hat{a})x_1\n",
    "$$\n",
    "\n",
    "Therefore the slope will change, in our case this is dramatic (flipped)"
   ]
  },
  {
   "cell_type": "markdown",
   "id": "9aa38c9c",
   "metadata": {},
   "source": [
    "in terms of why the error term is correlated with the data $y$, see [this lecture notes](https://www.stat.berkeley.edu/~census/epsilon.pdf), but essentially the error term is correlated with each data point "
   ]
  },
  {
   "cell_type": "markdown",
   "id": "70240a62",
   "metadata": {},
   "source": [
    "# 11.5 Residuals and Predictions"
   ]
  },
  {
   "cell_type": "code",
   "execution_count": 97,
   "id": "95322f56",
   "metadata": {
    "execution": {
     "iopub.execute_input": "2021-08-29T18:05:55.996882Z",
     "iopub.status.busy": "2021-08-29T18:05:55.996714Z",
     "iopub.status.idle": "2021-08-29T18:05:56.001029Z",
     "shell.execute_reply": "2021-08-29T18:05:56.000458Z",
     "shell.execute_reply.started": "2021-08-29T18:05:55.996864Z"
    },
    "tags": []
   },
   "outputs": [],
   "source": [
    "data = pd.read_csv('~/projects/ROS-Examples/Pyth/pyth.txt', sep=' ')"
   ]
  },
  {
   "cell_type": "code",
   "execution_count": 98,
   "id": "f6a71bc0",
   "metadata": {
    "execution": {
     "iopub.execute_input": "2021-08-29T18:05:56.427016Z",
     "iopub.status.busy": "2021-08-29T18:05:56.426353Z",
     "iopub.status.idle": "2021-08-29T18:05:56.444988Z",
     "shell.execute_reply": "2021-08-29T18:05:56.443945Z",
     "shell.execute_reply.started": "2021-08-29T18:05:56.426939Z"
    },
    "tags": []
   },
   "outputs": [
    {
     "data": {
      "text/html": [
       "<div>\n",
       "<style scoped>\n",
       "    .dataframe tbody tr th:only-of-type {\n",
       "        vertical-align: middle;\n",
       "    }\n",
       "\n",
       "    .dataframe tbody tr th {\n",
       "        vertical-align: top;\n",
       "    }\n",
       "\n",
       "    .dataframe thead th {\n",
       "        text-align: right;\n",
       "    }\n",
       "</style>\n",
       "<table border=\"1\" class=\"dataframe\">\n",
       "  <thead>\n",
       "    <tr style=\"text-align: right;\">\n",
       "      <th></th>\n",
       "      <th>y</th>\n",
       "      <th>x1</th>\n",
       "      <th>x2</th>\n",
       "    </tr>\n",
       "  </thead>\n",
       "  <tbody>\n",
       "    <tr>\n",
       "      <th>0</th>\n",
       "      <td>15.68</td>\n",
       "      <td>6.87</td>\n",
       "      <td>14.09</td>\n",
       "    </tr>\n",
       "    <tr>\n",
       "      <th>1</th>\n",
       "      <td>6.18</td>\n",
       "      <td>4.40</td>\n",
       "      <td>4.35</td>\n",
       "    </tr>\n",
       "    <tr>\n",
       "      <th>2</th>\n",
       "      <td>18.10</td>\n",
       "      <td>0.43</td>\n",
       "      <td>18.09</td>\n",
       "    </tr>\n",
       "    <tr>\n",
       "      <th>3</th>\n",
       "      <td>9.07</td>\n",
       "      <td>2.73</td>\n",
       "      <td>8.65</td>\n",
       "    </tr>\n",
       "    <tr>\n",
       "      <th>4</th>\n",
       "      <td>17.97</td>\n",
       "      <td>3.25</td>\n",
       "      <td>17.68</td>\n",
       "    </tr>\n",
       "  </tbody>\n",
       "</table>\n",
       "</div>"
      ],
      "text/plain": [
       "       y    x1     x2\n",
       "0  15.68  6.87  14.09\n",
       "1   6.18  4.40   4.35\n",
       "2  18.10  0.43  18.09\n",
       "3   9.07  2.73   8.65\n",
       "4  17.97  3.25  17.68"
      ]
     },
     "execution_count": 98,
     "metadata": {},
     "output_type": "execute_result"
    }
   ],
   "source": [
    "data.head()"
   ]
  },
  {
   "cell_type": "code",
   "execution_count": 99,
   "id": "899f6d72",
   "metadata": {
    "execution": {
     "iopub.execute_input": "2021-08-29T18:06:33.927004Z",
     "iopub.status.busy": "2021-08-29T18:06:33.926838Z",
     "iopub.status.idle": "2021-08-29T18:06:33.930280Z",
     "shell.execute_reply": "2021-08-29T18:06:33.929764Z",
     "shell.execute_reply.started": "2021-08-29T18:06:33.926986Z"
    }
   },
   "outputs": [
    {
     "data": {
      "text/plain": [
       "60"
      ]
     },
     "execution_count": 99,
     "metadata": {},
     "output_type": "execute_result"
    }
   ],
   "source": [
    "len(data)"
   ]
  },
  {
   "cell_type": "code",
   "execution_count": 100,
   "id": "0613f17e",
   "metadata": {
    "execution": {
     "iopub.execute_input": "2021-08-29T18:06:39.283023Z",
     "iopub.status.busy": "2021-08-29T18:06:39.282859Z",
     "iopub.status.idle": "2021-08-29T18:06:39.285818Z",
     "shell.execute_reply": "2021-08-29T18:06:39.285200Z",
     "shell.execute_reply.started": "2021-08-29T18:06:39.283006Z"
    }
   },
   "outputs": [],
   "source": [
    "train = data[:40]"
   ]
  },
  {
   "cell_type": "code",
   "execution_count": 103,
   "id": "2595bd2a",
   "metadata": {
    "execution": {
     "iopub.execute_input": "2021-08-29T18:06:54.177026Z",
     "iopub.status.busy": "2021-08-29T18:06:54.176546Z",
     "iopub.status.idle": "2021-08-29T18:06:54.182150Z",
     "shell.execute_reply": "2021-08-29T18:06:54.181284Z",
     "shell.execute_reply.started": "2021-08-29T18:06:54.176971Z"
    },
    "tags": []
   },
   "outputs": [],
   "source": [
    "test = data[40:]"
   ]
  },
  {
   "cell_type": "code",
   "execution_count": 105,
   "id": "d6281406",
   "metadata": {
    "execution": {
     "iopub.execute_input": "2021-08-29T18:07:10.709528Z",
     "iopub.status.busy": "2021-08-29T18:07:10.708982Z",
     "iopub.status.idle": "2021-08-29T18:07:27.069645Z",
     "shell.execute_reply": "2021-08-29T18:07:27.069085Z",
     "shell.execute_reply.started": "2021-08-29T18:07:10.709464Z"
    }
   },
   "outputs": [
    {
     "name": "stderr",
     "output_type": "stream",
     "text": [
      "Auto-assigning NUTS sampler...\n",
      "Initializing NUTS using jitter+adapt_diag...\n",
      "Multiprocess sampling (3 chains in 3 jobs)\n",
      "NUTS: [sd, x2, x1, Intercept]\n"
     ]
    },
    {
     "data": {
      "text/html": [
       "\n",
       "    <div>\n",
       "        <style>\n",
       "            /* Turns off some styling */\n",
       "            progress {\n",
       "                /* gets rid of default border in Firefox and Opera. */\n",
       "                border: none;\n",
       "                /* Needs to be in here for Safari polyfill so background images work as expected. */\n",
       "                background-size: auto;\n",
       "            }\n",
       "            .progress-bar-interrupted, .progress-bar-interrupted::-webkit-progress-bar {\n",
       "                background: #F44336;\n",
       "            }\n",
       "        </style>\n",
       "      <progress value='33000' class='' max='33000' style='width:300px; height:20px; vertical-align: middle;'></progress>\n",
       "      100.00% [33000/33000 00:13<00:00 Sampling 3 chains, 1 divergences]\n",
       "    </div>\n",
       "    "
      ],
      "text/plain": [
       "<IPython.core.display.HTML object>"
      ]
     },
     "metadata": {},
     "output_type": "display_data"
    },
    {
     "name": "stderr",
     "output_type": "stream",
     "text": [
      "Sampling 3 chains for 1_000 tune and 10_000 draw iterations (3_000 + 30_000 draws total) took 14 seconds.\n",
      "There was 1 divergence after tuning. Increase `target_accept` or reparameterize.\n",
      "The acceptance probability does not match the target. It is 0.8854858172271063, but should be close to 0.8. Try to increase the number of tuning steps.\n"
     ]
    }
   ],
   "source": [
    "with pm.Model() as model:\n",
    "    pm.glm.linear.GLM.from_formula('y~x1+x2', train)\n",
    "    trace = pm.sample(10000)\n",
    "trace_df = pm.trace_to_dataframe(trace[:3000])"
   ]
  },
  {
   "cell_type": "code",
   "execution_count": 106,
   "id": "0b613df1",
   "metadata": {
    "execution": {
     "iopub.execute_input": "2021-08-29T18:07:36.377246Z",
     "iopub.status.busy": "2021-08-29T18:07:36.377080Z",
     "iopub.status.idle": "2021-08-29T18:07:36.381481Z",
     "shell.execute_reply": "2021-08-29T18:07:36.381090Z",
     "shell.execute_reply.started": "2021-08-29T18:07:36.377227Z"
    }
   },
   "outputs": [],
   "source": [
    "coeff = trace_df.median()"
   ]
  },
  {
   "cell_type": "code",
   "execution_count": 107,
   "id": "904f02aa",
   "metadata": {
    "execution": {
     "iopub.execute_input": "2021-08-29T18:10:00.749777Z",
     "iopub.status.busy": "2021-08-29T18:10:00.749142Z",
     "iopub.status.idle": "2021-08-29T18:10:00.760771Z",
     "shell.execute_reply": "2021-08-29T18:10:00.759634Z",
     "shell.execute_reply.started": "2021-08-29T18:10:00.749704Z"
    }
   },
   "outputs": [
    {
     "data": {
      "text/plain": [
       "Intercept    1.312393\n",
       "x1           0.514158\n",
       "x2           0.807044\n",
       "sd           0.917930\n",
       "dtype: float64"
      ]
     },
     "execution_count": 107,
     "metadata": {},
     "output_type": "execute_result"
    }
   ],
   "source": [
    "coeff"
   ]
  },
  {
   "cell_type": "code",
   "execution_count": 130,
   "id": "f819fb70",
   "metadata": {
    "execution": {
     "iopub.execute_input": "2021-08-29T18:18:16.085614Z",
     "iopub.status.busy": "2021-08-29T18:18:16.085335Z",
     "iopub.status.idle": "2021-08-29T18:18:16.089678Z",
     "shell.execute_reply": "2021-08-29T18:18:16.089153Z",
     "shell.execute_reply.started": "2021-08-29T18:18:16.085593Z"
    },
    "tags": []
   },
   "outputs": [
    {
     "data": {
      "text/plain": [
       "Intercept    1.312393\n",
       "x1           0.514158\n",
       "x2           0.807044\n",
       "sd           0.917930\n",
       "dtype: float64"
      ]
     },
     "execution_count": 130,
     "metadata": {},
     "output_type": "execute_result"
    }
   ],
   "source": [
    "coeff"
   ]
  },
  {
   "cell_type": "markdown",
   "id": "4d8047bf",
   "metadata": {},
   "source": [
    "Calcualting Bayes R is really hard in this context, just do residual"
   ]
  },
  {
   "cell_type": "code",
   "execution_count": 138,
   "id": "3435c7a9",
   "metadata": {
    "execution": {
     "iopub.execute_input": "2021-08-29T18:20:04.834475Z",
     "iopub.status.busy": "2021-08-29T18:20:04.834298Z",
     "iopub.status.idle": "2021-08-29T18:20:04.838124Z",
     "shell.execute_reply": "2021-08-29T18:20:04.837431Z",
     "shell.execute_reply.started": "2021-08-29T18:20:04.834457Z"
    }
   },
   "outputs": [],
   "source": [
    "y_hat =  coeff['x1']*train['x1']+coeff['x2']*train['x2']+coeff['Intercept'] "
   ]
  },
  {
   "cell_type": "code",
   "execution_count": 139,
   "id": "be23b7e8",
   "metadata": {
    "execution": {
     "iopub.execute_input": "2021-08-29T18:20:11.341115Z",
     "iopub.status.busy": "2021-08-29T18:20:11.340877Z",
     "iopub.status.idle": "2021-08-29T18:20:11.344489Z",
     "shell.execute_reply": "2021-08-29T18:20:11.343793Z",
     "shell.execute_reply.started": "2021-08-29T18:20:11.341088Z"
    },
    "tags": []
   },
   "outputs": [],
   "source": [
    "res = y_hat- train['y']"
   ]
  },
  {
   "cell_type": "code",
   "execution_count": 140,
   "id": "ca90d69e",
   "metadata": {
    "execution": {
     "iopub.execute_input": "2021-08-29T18:20:16.146538Z",
     "iopub.status.busy": "2021-08-29T18:20:16.146348Z",
     "iopub.status.idle": "2021-08-29T18:20:16.264645Z",
     "shell.execute_reply": "2021-08-29T18:20:16.263855Z",
     "shell.execute_reply.started": "2021-08-29T18:20:16.146517Z"
    },
    "tags": []
   },
   "outputs": [
    {
     "data": {
      "text/plain": [
       "<matplotlib.collections.PathCollection at 0x7faff0403f70>"
      ]
     },
     "execution_count": 140,
     "metadata": {},
     "output_type": "execute_result"
    },
    {
     "data": {
      "image/png": "[encoded data removed]",
      "text/plain": [
       "<Figure size 576x396 with 1 Axes>"
      ]
     },
     "metadata": {},
     "output_type": "display_data"
    }
   ],
   "source": [
    "plt.scatter(x = y_hat , y = res)"
   ]
  },
  {
   "cell_type": "markdown",
   "id": "c95226dc",
   "metadata": {},
   "source": [
    "does not look all that well I would say, the scatter is not uniform across y_hat values"
   ]
  },
  {
   "cell_type": "code",
   "execution_count": null,
   "id": "28b8f04a",
   "metadata": {},
   "outputs": [],
   "source": []
  }
 ],
 "metadata": {
  "kernelspec": {
   "display_name": "Python [conda env:ros]",
   "language": "python",
   "name": "conda-env-ros-py"
  },
  "language_info": {
   "codemirror_mode": {
    "name": "ipython",
    "version": 3
   },
   "file_extension": ".py",
   "mimetype": "text/x-python",
   "name": "python",
   "nbconvert_exporter": "python",
   "pygments_lexer": "ipython3",
   "version": "3.8.8"
  }
 },
 "nbformat": 4,
 "nbformat_minor": 5
}
