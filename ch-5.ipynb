{
 "cells": [
  {
   "cell_type": "code",
   "execution_count": 1,
   "id": "43dd091e",
   "metadata": {
    "execution": {
     "iopub.execute_input": "2021-04-17T18:23:48.549431Z",
     "iopub.status.busy": "2021-04-17T18:23:48.549242Z",
     "iopub.status.idle": "2021-04-17T18:23:49.430870Z",
     "shell.execute_reply": "2021-04-17T18:23:49.430138Z",
     "shell.execute_reply.started": "2021-04-17T18:23:48.549382Z"
    },
    "tags": []
   },
   "outputs": [],
   "source": [
    "import pandas as pd\n",
    "import numpy as np\n",
    "import matplotlib.pyplot as plt\n",
    "import seaborn as sns\n",
    "\n",
    "import scipy.stats as stats"
   ]
  },
  {
   "cell_type": "code",
   "execution_count": 36,
   "id": "0421c007",
   "metadata": {
    "execution": {
     "iopub.execute_input": "2021-04-17T18:28:34.304286Z",
     "iopub.status.busy": "2021-04-17T18:28:34.304111Z",
     "iopub.status.idle": "2021-04-17T18:28:34.307032Z",
     "shell.execute_reply": "2021-04-17T18:28:34.306536Z",
     "shell.execute_reply.started": "2021-04-17T18:28:34.304268Z"
    }
   },
   "outputs": [],
   "source": [
    "plt.style.use('seaborn-notebook')\n",
    "plt.style.use('ggplot')"
   ]
  },
  {
   "cell_type": "markdown",
   "id": "d401e0ed",
   "metadata": {},
   "source": [
    "# 5.1 Discrete probability simulation"
   ]
  },
  {
   "cell_type": "markdown",
   "id": "a6939a2c",
   "metadata": {},
   "source": [
    "a) simlluate process\n",
    "\n",
    "This would be a binomial process with success rate 0.6 and stopping criteria of failure 2 in a row"
   ]
  },
  {
   "cell_type": "code",
   "execution_count": 2,
   "id": "fb8c931f",
   "metadata": {
    "execution": {
     "iopub.execute_input": "2021-04-17T18:23:49.431968Z",
     "iopub.status.busy": "2021-04-17T18:23:49.431767Z",
     "iopub.status.idle": "2021-04-17T18:23:49.437547Z",
     "shell.execute_reply": "2021-04-17T18:23:49.436918Z",
     "shell.execute_reply.started": "2021-04-17T18:23:49.431943Z"
    },
    "tags": []
   },
   "outputs": [
    {
     "data": {
      "text/plain": [
       "1"
      ]
     },
     "execution_count": 2,
     "metadata": {},
     "output_type": "execute_result"
    }
   ],
   "source": [
    "np.random.binomial(1,0.6)"
   ]
  },
  {
   "cell_type": "code",
   "execution_count": 3,
   "id": "6a3c92fe",
   "metadata": {
    "execution": {
     "iopub.execute_input": "2021-04-17T18:23:49.438624Z",
     "iopub.status.busy": "2021-04-17T18:23:49.438461Z",
     "iopub.status.idle": "2021-04-17T18:23:49.552402Z",
     "shell.execute_reply": "2021-04-17T18:23:49.551697Z",
     "shell.execute_reply.started": "2021-04-17T18:23:49.438604Z"
    },
    "tags": []
   },
   "outputs": [
    {
     "name": "stdout",
     "output_type": "stream",
     "text": [
      "shot is 0, last shot is 1\n",
      "shot is 1, last shot is 0\n",
      "shot is 0, last shot is 1\n",
      "shot is 1, last shot is 0\n",
      "shot is 0, last shot is 1\n",
      "shot is 1, last shot is 0\n",
      "shot is 0, last shot is 1\n",
      "shot is 1, last shot is 0\n",
      "shot is 1, last shot is 1\n",
      "shot is 0, last shot is 1\n",
      "shot is 1, last shot is 0\n",
      "shot is 1, last shot is 1\n",
      "shot is 0, last shot is 1\n",
      "shot is 1, last shot is 0\n",
      "shot is 0, last shot is 1\n",
      "shot is 0, last shot is 0\n"
     ]
    }
   ],
   "source": [
    "stopping_criteria = False\n",
    "shots = []\n",
    "p = 0.6\n",
    "shots.append(np.random.binomial(1,0.6)) #first shot\n",
    "while stopping_criteria == False:\n",
    "    shot = np.random.binomial(1,0.6)\n",
    "    print(f\"shot is {shot}, last shot is {shots[-1]}\")\n",
    "    if (shots[-1] == 0) & (shot == 0):\n",
    "        stopping_criteria = True\n",
    "    shots.append(shot)"
   ]
  },
  {
   "cell_type": "code",
   "execution_count": 16,
   "id": "daca6474",
   "metadata": {
    "execution": {
     "iopub.execute_input": "2021-04-17T18:24:53.351932Z",
     "iopub.status.busy": "2021-04-17T18:24:53.351774Z",
     "iopub.status.idle": "2021-04-17T18:24:53.355406Z",
     "shell.execute_reply": "2021-04-17T18:24:53.354943Z",
     "shell.execute_reply.started": "2021-04-17T18:24:53.351915Z"
    },
    "tags": []
   },
   "outputs": [],
   "source": [
    "def basketball_throws(n):\n",
    "    dist_shots = []\n",
    "    for i in range(0,n):\n",
    "        stopping_criteria = False\n",
    "        shots = []\n",
    "        p = 0.6\n",
    "        shots.append(np.random.binomial(1,0.6)) #first shot\n",
    "        while stopping_criteria == False:\n",
    "            shot = np.random.binomial(1,0.6)\n",
    "            if (shots[-1] == 0) & (shot == 0):\n",
    "                stopping_criteria = True\n",
    "            shots.append(shot)\n",
    "        dist_shots.append(shots)\n",
    "    return dist_shots"
   ]
  },
  {
   "cell_type": "code",
   "execution_count": 17,
   "id": "2cda69db",
   "metadata": {
    "execution": {
     "iopub.execute_input": "2021-04-17T18:24:53.817023Z",
     "iopub.status.busy": "2021-04-17T18:24:53.816860Z",
     "iopub.status.idle": "2021-04-17T18:24:54.343233Z",
     "shell.execute_reply": "2021-04-17T18:24:54.342760Z",
     "shell.execute_reply.started": "2021-04-17T18:24:53.817007Z"
    },
    "tags": []
   },
   "outputs": [],
   "source": [
    "dist_shots = basketball_throws(1000)"
   ]
  },
  {
   "cell_type": "code",
   "execution_count": 18,
   "id": "9126fb8f",
   "metadata": {
    "execution": {
     "iopub.execute_input": "2021-04-17T18:25:07.293235Z",
     "iopub.status.busy": "2021-04-17T18:25:07.292858Z",
     "iopub.status.idle": "2021-04-17T18:25:07.298024Z",
     "shell.execute_reply": "2021-04-17T18:25:07.296929Z",
     "shell.execute_reply.started": "2021-04-17T18:25:07.293195Z"
    }
   },
   "outputs": [],
   "source": [
    "num_shots_sim = [len(x) for x in dist_shots]"
   ]
  },
  {
   "cell_type": "code",
   "execution_count": 20,
   "id": "78aed258",
   "metadata": {
    "execution": {
     "iopub.execute_input": "2021-04-17T18:25:19.233573Z",
     "iopub.status.busy": "2021-04-17T18:25:19.233390Z",
     "iopub.status.idle": "2021-04-17T18:25:19.237157Z",
     "shell.execute_reply": "2021-04-17T18:25:19.236582Z",
     "shell.execute_reply.started": "2021-04-17T18:25:19.233554Z"
    },
    "tags": []
   },
   "outputs": [
    {
     "data": {
      "text/plain": [
       "8.814"
      ]
     },
     "execution_count": 20,
     "metadata": {},
     "output_type": "execute_result"
    }
   ],
   "source": [
    "np.mean(num_shots_sim)"
   ]
  },
  {
   "cell_type": "code",
   "execution_count": 21,
   "id": "ff35cdba",
   "metadata": {
    "execution": {
     "iopub.execute_input": "2021-04-17T18:25:23.898413Z",
     "iopub.status.busy": "2021-04-17T18:25:23.898246Z",
     "iopub.status.idle": "2021-04-17T18:25:23.901896Z",
     "shell.execute_reply": "2021-04-17T18:25:23.901383Z",
     "shell.execute_reply.started": "2021-04-17T18:25:23.898395Z"
    },
    "tags": []
   },
   "outputs": [
    {
     "data": {
      "text/plain": [
       "7.1767265518479935"
      ]
     },
     "execution_count": 21,
     "metadata": {},
     "output_type": "execute_result"
    }
   ],
   "source": [
    "np.std(num_shots_sim)"
   ]
  },
  {
   "cell_type": "code",
   "execution_count": 37,
   "id": "554d2706",
   "metadata": {
    "execution": {
     "iopub.execute_input": "2021-04-17T18:28:37.277523Z",
     "iopub.status.busy": "2021-04-17T18:28:37.277289Z",
     "iopub.status.idle": "2021-04-17T18:28:37.379374Z",
     "shell.execute_reply": "2021-04-17T18:28:37.378842Z",
     "shell.execute_reply.started": "2021-04-17T18:28:37.277497Z"
    },
    "tags": []
   },
   "outputs": [
    {
     "data": {
      "text/plain": [
       "(array([564., 203., 126.,  53.,  32.,  14.,   5.,   1.,   1.,   1.]),\n",
       " array([ 2. ,  7.3, 12.6, 17.9, 23.2, 28.5, 33.8, 39.1, 44.4, 49.7, 55. ]),\n",
       " <a list of 10 Patch objects>)"
      ]
     },
     "execution_count": 37,
     "metadata": {},
     "output_type": "execute_result"
    },
    {
     "data": {
      "image/png": "[encoded data removed]",
      "text/plain": [
       "<Figure size 576x396 with 1 Axes>"
      ]
     },
     "metadata": {},
     "output_type": "display_data"
    }
   ],
   "source": [
    "plt.hist(num_shots_sim)"
   ]
  },
  {
   "cell_type": "code",
   "execution_count": 38,
   "id": "3ea61537",
   "metadata": {
    "execution": {
     "iopub.execute_input": "2021-04-17T18:28:37.638942Z",
     "iopub.status.busy": "2021-04-17T18:28:37.638701Z",
     "iopub.status.idle": "2021-04-17T18:28:37.642723Z",
     "shell.execute_reply": "2021-04-17T18:28:37.641996Z",
     "shell.execute_reply.started": "2021-04-17T18:28:37.638915Z"
    },
    "tags": []
   },
   "outputs": [],
   "source": [
    "success_shots_sim = [sum(x)/len(x) for x in dist_shots]"
   ]
  },
  {
   "cell_type": "code",
   "execution_count": 39,
   "id": "7933502b",
   "metadata": {
    "execution": {
     "iopub.execute_input": "2021-04-17T18:28:38.463541Z",
     "iopub.status.busy": "2021-04-17T18:28:38.463383Z",
     "iopub.status.idle": "2021-04-17T18:28:38.565359Z",
     "shell.execute_reply": "2021-04-17T18:28:38.564913Z",
     "shell.execute_reply.started": "2021-04-17T18:28:38.463525Z"
    },
    "tags": []
   },
   "outputs": [
    {
     "data": {
      "text/plain": [
       "<matplotlib.collections.PathCollection at 0x7f471c07d7f0>"
      ]
     },
     "execution_count": 39,
     "metadata": {},
     "output_type": "execute_result"
    },
    {
     "data": {
      "image/png": "[encoded data removed]",
      "text/plain": [
       "<Figure size 576x396 with 1 Axes>"
      ]
     },
     "metadata": {},
     "output_type": "display_data"
    }
   ],
   "source": [
    "plt.scatter(num_shots_sim, success_shots_sim)"
   ]
  },
  {
   "cell_type": "markdown",
   "id": "3c746802",
   "metadata": {},
   "source": [
    "# 5.2 Continuous probability simulation\n",
    "\n",
    "An additional information here is that there's approximately 52% women in US and 48% men. I wish the problem gives all the necessary information...."
   ]
  },
  {
   "cell_type": "code",
   "execution_count": 426,
   "id": "c6f46a5a",
   "metadata": {
    "execution": {
     "iopub.execute_input": "2021-04-17T21:44:05.679226Z",
     "iopub.status.busy": "2021-04-17T21:44:05.678580Z",
     "iopub.status.idle": "2021-04-17T21:44:05.685254Z",
     "shell.execute_reply": "2021-04-17T21:44:05.684574Z",
     "shell.execute_reply.started": "2021-04-17T21:44:05.679149Z"
    },
    "tags": []
   },
   "outputs": [],
   "source": [
    "def sim_weight(n_sim=1000, n_draw=10):\n",
    "    dist_log_weight = []\n",
    "    for i in range(0, n_sim):\n",
    "        #initialize\n",
    "        log_weight = []\n",
    "        for j in range(1,n_draw):\n",
    "            gender = np.random.binomial(0,0.52)# 1 being female\n",
    "            if gender == 1:\n",
    "                person_log_weight = np.random.normal(4.96, 0.20)\n",
    "            else:\n",
    "                person_log_weight = np.random.normal(5.13, 0.17)\n",
    "            log_weight.append(person_log_weight)\n",
    "        dist_log_weight.append(log_weight)\n",
    "    return dist_log_weight"
   ]
  },
  {
   "cell_type": "code",
   "execution_count": 427,
   "id": "b849026a",
   "metadata": {
    "execution": {
     "iopub.execute_input": "2021-04-17T21:44:05.823752Z",
     "iopub.status.busy": "2021-04-17T21:44:05.823589Z",
     "iopub.status.idle": "2021-04-17T21:44:06.493339Z",
     "shell.execute_reply": "2021-04-17T21:44:06.492843Z",
     "shell.execute_reply.started": "2021-04-17T21:44:05.823735Z"
    },
    "tags": []
   },
   "outputs": [],
   "source": [
    "dist_log_weight = sim_weight()"
   ]
  },
  {
   "cell_type": "code",
   "execution_count": 428,
   "id": "2fb07389",
   "metadata": {
    "execution": {
     "iopub.execute_input": "2021-04-17T21:44:06.494078Z",
     "iopub.status.busy": "2021-04-17T21:44:06.493960Z",
     "iopub.status.idle": "2021-04-17T21:44:06.519148Z",
     "shell.execute_reply": "2021-04-17T21:44:06.518652Z",
     "shell.execute_reply.started": "2021-04-17T21:44:06.494063Z"
    },
    "tags": []
   },
   "outputs": [],
   "source": [
    "#calculate the sum of each of those 10 people"
   ]
  },
  {
   "cell_type": "code",
   "execution_count": 429,
   "id": "07dd018b",
   "metadata": {
    "execution": {
     "iopub.execute_input": "2021-04-17T21:44:06.520155Z",
     "iopub.status.busy": "2021-04-17T21:44:06.520005Z",
     "iopub.status.idle": "2021-04-17T21:44:06.607211Z",
     "shell.execute_reply": "2021-04-17T21:44:06.606734Z",
     "shell.execute_reply.started": "2021-04-17T21:44:06.520139Z"
    },
    "tags": []
   },
   "outputs": [],
   "source": [
    "sum_weight = [sum(np.exp(x)) for x in dist_log_weight]"
   ]
  },
  {
   "cell_type": "code",
   "execution_count": 430,
   "id": "db3dbc93",
   "metadata": {
    "execution": {
     "iopub.execute_input": "2021-04-17T21:44:06.607980Z",
     "iopub.status.busy": "2021-04-17T21:44:06.607859Z",
     "iopub.status.idle": "2021-04-17T21:44:06.691874Z",
     "shell.execute_reply": "2021-04-17T21:44:06.689920Z",
     "shell.execute_reply.started": "2021-04-17T21:44:06.607965Z"
    },
    "tags": []
   },
   "outputs": [],
   "source": [
    "max_weight = 1750"
   ]
  },
  {
   "cell_type": "code",
   "execution_count": 431,
   "id": "fc98361b",
   "metadata": {
    "execution": {
     "iopub.execute_input": "2021-04-17T21:44:06.695238Z",
     "iopub.status.busy": "2021-04-17T21:44:06.694654Z",
     "iopub.status.idle": "2021-04-17T21:44:06.740081Z",
     "shell.execute_reply": "2021-04-17T21:44:06.739494Z",
     "shell.execute_reply.started": "2021-04-17T21:44:06.695166Z"
    },
    "tags": []
   },
   "outputs": [],
   "source": [
    "greater_than_max = np.where(np.array(sum_weight) > max_weight, 1, 0)"
   ]
  },
  {
   "cell_type": "markdown",
   "id": "ffa50713",
   "metadata": {},
   "source": [
    "do it by the discrete probability from last time. Assume that each trial (get 10 ppl) is an independent survey, and we have surveyed 1000 times, what's the proportion of surveys that exceeds the max weight and the error?"
   ]
  },
  {
   "cell_type": "code",
   "execution_count": 432,
   "id": "e91da4e6",
   "metadata": {
    "execution": {
     "iopub.execute_input": "2021-04-17T21:44:06.949578Z",
     "iopub.status.busy": "2021-04-17T21:44:06.948954Z",
     "iopub.status.idle": "2021-04-17T21:44:06.957281Z",
     "shell.execute_reply": "2021-04-17T21:44:06.955231Z",
     "shell.execute_reply.started": "2021-04-17T21:44:06.949505Z"
    },
    "tags": []
   },
   "outputs": [],
   "source": [
    "#empirical odds\n",
    "empirical_odds = greater_than_max.sum()/len(greater_than_max)"
   ]
  },
  {
   "cell_type": "code",
   "execution_count": 433,
   "id": "8a4f8de1",
   "metadata": {
    "execution": {
     "iopub.execute_input": "2021-04-17T21:44:07.157144Z",
     "iopub.status.busy": "2021-04-17T21:44:07.156990Z",
     "iopub.status.idle": "2021-04-17T21:44:07.160375Z",
     "shell.execute_reply": "2021-04-17T21:44:07.159834Z",
     "shell.execute_reply.started": "2021-04-17T21:44:07.157128Z"
    },
    "tags": []
   },
   "outputs": [
    {
     "data": {
      "text/plain": [
       "0.015"
      ]
     },
     "execution_count": 433,
     "metadata": {},
     "output_type": "execute_result"
    }
   ],
   "source": [
    "empirical_odds"
   ]
  },
  {
   "cell_type": "code",
   "execution_count": 434,
   "id": "cccaf924",
   "metadata": {
    "execution": {
     "iopub.execute_input": "2021-04-17T21:44:07.369733Z",
     "iopub.status.busy": "2021-04-17T21:44:07.369076Z",
     "iopub.status.idle": "2021-04-17T21:44:07.378098Z",
     "shell.execute_reply": "2021-04-17T21:44:07.376066Z",
     "shell.execute_reply.started": "2021-04-17T21:44:07.369655Z"
    },
    "tags": []
   },
   "outputs": [],
   "source": [
    "#empirical error \n",
    "empirical_error = np.sqrt(empirical_odds*(1-empirical_odds)/len(greater_than_max))"
   ]
  },
  {
   "cell_type": "code",
   "execution_count": 435,
   "id": "55e1ce91",
   "metadata": {
    "execution": {
     "iopub.execute_input": "2021-04-17T21:44:07.578122Z",
     "iopub.status.busy": "2021-04-17T21:44:07.577950Z",
     "iopub.status.idle": "2021-04-17T21:44:07.581427Z",
     "shell.execute_reply": "2021-04-17T21:44:07.580879Z",
     "shell.execute_reply.started": "2021-04-17T21:44:07.578104Z"
    },
    "tags": []
   },
   "outputs": [
    {
     "data": {
      "text/plain": [
       "0.003843826218756514"
      ]
     },
     "execution_count": 435,
     "metadata": {},
     "output_type": "execute_result"
    }
   ],
   "source": [
    "empirical_error"
   ]
  },
  {
   "cell_type": "markdown",
   "id": "e0d2deac",
   "metadata": {},
   "source": [
    "Alternatively we can think about it in terms of just distributions. NULL hypothesis is that weight - max_weight = 0. What is the probability (i.e cdf of this normal distribution that weight-max_weight > 0)?\n",
    "\n",
    "Essentially, we just have to find the standard deviation of the distribution weight - max_weight"
   ]
  },
  {
   "cell_type": "code",
   "execution_count": 436,
   "id": "3e6c6cf0",
   "metadata": {
    "execution": {
     "iopub.execute_input": "2021-04-17T21:44:07.997668Z",
     "iopub.status.busy": "2021-04-17T21:44:07.997021Z",
     "iopub.status.idle": "2021-04-17T21:44:08.002758Z",
     "shell.execute_reply": "2021-04-17T21:44:08.002215Z",
     "shell.execute_reply.started": "2021-04-17T21:44:07.997593Z"
    },
    "tags": []
   },
   "outputs": [],
   "source": [
    "sigma = np.std(np.array(sum_weight) - max_weight)"
   ]
  },
  {
   "cell_type": "code",
   "execution_count": 437,
   "id": "42670473",
   "metadata": {
    "execution": {
     "iopub.execute_input": "2021-04-17T21:44:08.371582Z",
     "iopub.status.busy": "2021-04-17T21:44:08.371407Z",
     "iopub.status.idle": "2021-04-17T21:44:09.464331Z",
     "shell.execute_reply": "2021-04-17T21:44:09.462510Z",
     "shell.execute_reply.started": "2021-04-17T21:44:08.371563Z"
    },
    "tags": []
   },
   "outputs": [
    {
     "data": {
      "text/plain": [
       "88.97144477882809"
      ]
     },
     "execution_count": 437,
     "metadata": {},
     "output_type": "execute_result"
    }
   ],
   "source": [
    "sigma"
   ]
  },
  {
   "cell_type": "code",
   "execution_count": 438,
   "id": "c559b529",
   "metadata": {
    "execution": {
     "iopub.execute_input": "2021-04-17T21:44:09.468057Z",
     "iopub.status.busy": "2021-04-17T21:44:09.467457Z",
     "iopub.status.idle": "2021-04-17T21:44:09.517988Z",
     "shell.execute_reply": "2021-04-17T21:44:09.517047Z",
     "shell.execute_reply.started": "2021-04-17T21:44:09.467984Z"
    },
    "tags": []
   },
   "outputs": [],
   "source": [
    "mean = np.mean(np.array(sum_weight)-max_weight)"
   ]
  },
  {
   "cell_type": "code",
   "execution_count": 439,
   "id": "47b72e0e",
   "metadata": {
    "execution": {
     "iopub.execute_input": "2021-04-17T21:44:09.520153Z",
     "iopub.status.busy": "2021-04-17T21:44:09.519794Z",
     "iopub.status.idle": "2021-04-17T21:44:09.593363Z",
     "shell.execute_reply": "2021-04-17T21:44:09.592778Z",
     "shell.execute_reply.started": "2021-04-17T21:44:09.520113Z"
    },
    "tags": []
   },
   "outputs": [
    {
     "data": {
      "text/plain": [
       "-205.34006922476013"
      ]
     },
     "execution_count": 439,
     "metadata": {},
     "output_type": "execute_result"
    }
   ],
   "source": [
    "mean"
   ]
  },
  {
   "cell_type": "code",
   "execution_count": 440,
   "id": "c2c4bd06",
   "metadata": {
    "execution": {
     "iopub.execute_input": "2021-04-17T21:44:09.594460Z",
     "iopub.status.busy": "2021-04-17T21:44:09.594250Z",
     "iopub.status.idle": "2021-04-17T21:44:09.795378Z",
     "shell.execute_reply": "2021-04-17T21:44:09.794915Z",
     "shell.execute_reply.started": "2021-04-17T21:44:09.594435Z"
    },
    "tags": []
   },
   "outputs": [
    {
     "data": {
      "text/plain": [
       "[<matplotlib.lines.Line2D at 0x7f4712e9c880>]"
      ]
     },
     "execution_count": 440,
     "metadata": {},
     "output_type": "execute_result"
    },
    {
     "data": {
      "image/png": "[encoded data removed]",
      "text/plain": [
       "<Figure size 576x396 with 1 Axes>"
      ]
     },
     "metadata": {},
     "output_type": "display_data"
    }
   ],
   "source": [
    "plt.hist(np.array(sum_weight)-max_weight, bins=20, density=True)\n",
    "x = np.linspace(-400,100)\n",
    "y = stats.norm.pdf(x,mean,sigma)\n",
    "plt.plot(x,y)"
   ]
  },
  {
   "cell_type": "code",
   "execution_count": 441,
   "id": "3897794a",
   "metadata": {
    "execution": {
     "iopub.execute_input": "2021-04-17T21:44:09.796000Z",
     "iopub.status.busy": "2021-04-17T21:44:09.795873Z",
     "iopub.status.idle": "2021-04-17T21:44:09.799428Z",
     "shell.execute_reply": "2021-04-17T21:44:09.798944Z",
     "shell.execute_reply.started": "2021-04-17T21:44:09.795984Z"
    },
    "tags": []
   },
   "outputs": [
    {
     "data": {
      "text/plain": [
       "2.3079322779933484"
      ]
     },
     "execution_count": 441,
     "metadata": {},
     "output_type": "execute_result"
    }
   ],
   "source": [
    "z = (0-mean)/(sigma)\n",
    "z"
   ]
  },
  {
   "cell_type": "markdown",
   "id": "8e3a202b",
   "metadata": {},
   "source": [
    "This mean would shift depending on the draws as well "
   ]
  },
  {
   "cell_type": "code",
   "execution_count": 442,
   "id": "871513aa",
   "metadata": {
    "execution": {
     "iopub.execute_input": "2021-04-17T21:44:10.418523Z",
     "iopub.status.busy": "2021-04-17T21:44:10.417878Z",
     "iopub.status.idle": "2021-04-17T21:44:10.424436Z",
     "shell.execute_reply": "2021-04-17T21:44:10.423881Z",
     "shell.execute_reply.started": "2021-04-17T21:44:10.418448Z"
    },
    "tags": []
   },
   "outputs": [
    {
     "data": {
      "text/plain": [
       "0.010501451720852484"
      ]
     },
     "execution_count": 442,
     "metadata": {},
     "output_type": "execute_result"
    }
   ],
   "source": [
    "1-stats.norm.cdf(z)"
   ]
  },
  {
   "cell_type": "markdown",
   "id": "ee33e5c7",
   "metadata": {},
   "source": [
    "Is this within the empirical observation?"
   ]
  },
  {
   "cell_type": "code",
   "execution_count": 443,
   "id": "5da38ef7",
   "metadata": {
    "execution": {
     "iopub.execute_input": "2021-04-17T21:44:11.446259Z",
     "iopub.status.busy": "2021-04-17T21:44:11.446097Z",
     "iopub.status.idle": "2021-04-17T21:44:11.449706Z",
     "shell.execute_reply": "2021-04-17T21:44:11.449151Z",
     "shell.execute_reply.started": "2021-04-17T21:44:11.446242Z"
    },
    "tags": []
   },
   "outputs": [
    {
     "data": {
      "text/plain": [
       "0.007312347562486971"
      ]
     },
     "execution_count": 443,
     "metadata": {},
     "output_type": "execute_result"
    }
   ],
   "source": [
    "empirical_odds-2*empirical_error"
   ]
  },
  {
   "cell_type": "code",
   "execution_count": 444,
   "id": "9f7a61f3",
   "metadata": {
    "execution": {
     "iopub.execute_input": "2021-04-17T21:44:11.971372Z",
     "iopub.status.busy": "2021-04-17T21:44:11.971209Z",
     "iopub.status.idle": "2021-04-17T21:44:11.974844Z",
     "shell.execute_reply": "2021-04-17T21:44:11.974213Z",
     "shell.execute_reply.started": "2021-04-17T21:44:11.971355Z"
    },
    "tags": []
   },
   "outputs": [
    {
     "data": {
      "text/plain": [
       "0.015"
      ]
     },
     "execution_count": 444,
     "metadata": {},
     "output_type": "execute_result"
    }
   ],
   "source": [
    "empirical_odds"
   ]
  },
  {
   "cell_type": "markdown",
   "id": "289729ee",
   "metadata": {},
   "source": [
    "Actually repeatedly doing this show the z-score and the empirical odds do shift quite a bit, but maybe the empirical odds makes more sense if we do larger draws"
   ]
  },
  {
   "cell_type": "code",
   "execution_count": 445,
   "id": "a4878c52",
   "metadata": {
    "execution": {
     "iopub.execute_input": "2021-04-17T21:44:22.946097Z",
     "iopub.status.busy": "2021-04-17T21:44:22.945467Z",
     "iopub.status.idle": "2021-04-17T21:44:22.952792Z",
     "shell.execute_reply": "2021-04-17T21:44:22.952352Z",
     "shell.execute_reply.started": "2021-04-17T21:44:22.946022Z"
    },
    "tags": []
   },
   "outputs": [],
   "source": [
    "def weight_n_sims(n_sim):\n",
    "    dist_log_weight = sim_weight(n_sim=n_sim)\n",
    "\n",
    "    sum_weight = [sum(np.exp(x)) for x in dist_log_weight]\n",
    "\n",
    "    max_weight = 1750\n",
    "\n",
    "    greater_than_max = np.where(np.array(sum_weight) > max_weight, 1, 0)\n",
    "\n",
    "    #empirical odds\n",
    "    empirical_odds = greater_than_max.sum()/len(greater_than_max)\n",
    "\n",
    "    #empirical error \n",
    "    empirical_error = np.sqrt(empirical_odds*(1-empirical_odds)/len(greater_than_max))\n",
    "\n",
    "    mean = np.mean(np.array(sum_weight)-max_weight)\n",
    "\n",
    "    sigma = np.std(np.array(sum_weight) - max_weight)\n",
    "    z = (0-mean)/(sigma)\n",
    "\n",
    "    z_odds = 1-stats.norm.cdf(z)\n",
    "\n",
    "    print(f\"n_sim is {len(greater_than_max)}, empirical odds is {empirical_odds}, empirical error is {empirical_error}, 95% is [{empirical_odds-2*empirical_error}, {empirical_odds+2*empirical_error}], z_score prob is {z_odds}\")"
   ]
  },
  {
   "cell_type": "code",
   "execution_count": 446,
   "id": "2ccea2fa",
   "metadata": {
    "execution": {
     "iopub.execute_input": "2021-04-17T21:44:23.302522Z",
     "iopub.status.busy": "2021-04-17T21:44:23.301878Z",
     "iopub.status.idle": "2021-04-17T21:44:53.100553Z",
     "shell.execute_reply": "2021-04-17T21:44:53.100088Z",
     "shell.execute_reply.started": "2021-04-17T21:44:23.302447Z"
    },
    "tags": []
   },
   "outputs": [
    {
     "name": "stdout",
     "output_type": "stream",
     "text": [
      "n_sim is 20000, empirical odds is 0.0127, empirical error is 0.0007917925864770395, 95% is [0.011116414827045921, 0.014283585172954078], z_score prob is 0.00889367179047662\n",
      "n_sim is 30000, empirical odds is 0.012566666666666667, empirical error is 0.0006431367287380281, 95% is [0.01128039320919061, 0.013852940124142723], z_score prob is 0.009058106666519627\n",
      "n_sim is 50000, empirical odds is 0.01288, empirical error is 0.0005042639308933368, 95% is [0.011871472138213327, 0.013888527861786674], z_score prob is 0.009382897801543555\n",
      "n_sim is 100000, empirical odds is 0.01288, empirical error is 0.0003565684450424631, 95% is [0.012166863109915075, 0.013593136890084926], z_score prob is 0.009457233875838966\n",
      "n_sim is 500000, empirical odds is 0.013034, empirical error is 0.00016040021723177312, 95% is [0.012713199565536454, 0.013354800434463547], z_score prob is 0.009512221850943026\n"
     ]
    }
   ],
   "source": [
    "weight_n_sims(20000)\n",
    "weight_n_sims(30000)\n",
    "weight_n_sims(50000)\n",
    "weight_n_sims(100000)\n",
    "weight_n_sims(500000)\n"
   ]
  },
  {
   "cell_type": "markdown",
   "id": "280af006",
   "metadata": {},
   "source": [
    "Looks very consistent that the z-score prob is outside of the 95% confidence interval in the empirical odds......."
   ]
  },
  {
   "cell_type": "markdown",
   "id": "1e9dbbcb",
   "metadata": {},
   "source": [
    "# 5.3 Binomial Distribution"
   ]
  },
  {
   "cell_type": "code",
   "execution_count": 278,
   "id": "37fba872",
   "metadata": {
    "execution": {
     "iopub.execute_input": "2021-04-17T20:57:26.435567Z",
     "iopub.status.busy": "2021-04-17T20:57:26.435324Z",
     "iopub.status.idle": "2021-04-17T20:57:26.440524Z",
     "shell.execute_reply": "2021-04-17T20:57:26.439882Z",
     "shell.execute_reply.started": "2021-04-17T20:57:26.435540Z"
    },
    "tags": []
   },
   "outputs": [
    {
     "data": {
      "text/plain": [
       "0.21499084800000012"
      ]
     },
     "execution_count": 278,
     "metadata": {},
     "output_type": "execute_result"
    }
   ],
   "source": [
    "stats.binom.pmf(k=3,n=10,p=0.4)"
   ]
  },
  {
   "cell_type": "code",
   "execution_count": 279,
   "id": "001eb529",
   "metadata": {
    "execution": {
     "iopub.execute_input": "2021-04-17T20:57:26.566610Z",
     "iopub.status.busy": "2021-04-17T20:57:26.566442Z",
     "iopub.status.idle": "2021-04-17T20:57:26.673851Z",
     "shell.execute_reply": "2021-04-17T20:57:26.671828Z",
     "shell.execute_reply.started": "2021-04-17T20:57:26.566593Z"
    },
    "tags": []
   },
   "outputs": [],
   "source": [
    "def basketball_throws_3shots(n_sim=10000, n_trial=10):\n",
    "    dist_shots = []\n",
    "    for i in range(0,n_sim):\n",
    "        trial = []\n",
    "        for j in range(0, n_trial):\n",
    "            x = np.random.binomial(1,0.4)\n",
    "            trial.append(x)\n",
    "        dist_shots.append(trial)\n",
    "    return dist_shots"
   ]
  },
  {
   "cell_type": "code",
   "execution_count": 280,
   "id": "1d31bc36",
   "metadata": {
    "execution": {
     "iopub.execute_input": "2021-04-17T20:57:26.737878Z",
     "iopub.status.busy": "2021-04-17T20:57:26.737602Z",
     "iopub.status.idle": "2021-04-17T20:57:26.979969Z",
     "shell.execute_reply": "2021-04-17T20:57:26.979500Z",
     "shell.execute_reply.started": "2021-04-17T20:57:26.737848Z"
    },
    "tags": []
   },
   "outputs": [],
   "source": [
    "dist_shots_3shots = basketball_throws_3shots()"
   ]
  },
  {
   "cell_type": "code",
   "execution_count": 281,
   "id": "358440d6",
   "metadata": {
    "execution": {
     "iopub.execute_input": "2021-04-17T20:57:26.980710Z",
     "iopub.status.busy": "2021-04-17T20:57:26.980594Z",
     "iopub.status.idle": "2021-04-17T20:57:26.985264Z",
     "shell.execute_reply": "2021-04-17T20:57:26.984715Z",
     "shell.execute_reply.started": "2021-04-17T20:57:26.980696Z"
    },
    "tags": []
   },
   "outputs": [],
   "source": [
    "shots_made = [sum(x) for x in dist_shots_3shots]"
   ]
  },
  {
   "cell_type": "code",
   "execution_count": 282,
   "id": "7e4c8e61",
   "metadata": {
    "execution": {
     "iopub.execute_input": "2021-04-17T20:57:27.131615Z",
     "iopub.status.busy": "2021-04-17T20:57:27.130966Z",
     "iopub.status.idle": "2021-04-17T20:57:27.141988Z",
     "shell.execute_reply": "2021-04-17T20:57:27.140539Z",
     "shell.execute_reply.started": "2021-04-17T20:57:27.131540Z"
    },
    "tags": []
   },
   "outputs": [],
   "source": [
    "exact_3_shots = np.where(np.array(shots_made)==3, 1, 0)"
   ]
  },
  {
   "cell_type": "code",
   "execution_count": 283,
   "id": "294a3cbc",
   "metadata": {
    "execution": {
     "iopub.execute_input": "2021-04-17T20:57:27.309569Z",
     "iopub.status.busy": "2021-04-17T20:57:27.309391Z",
     "iopub.status.idle": "2021-04-17T20:57:27.312905Z",
     "shell.execute_reply": "2021-04-17T20:57:27.312371Z",
     "shell.execute_reply.started": "2021-04-17T20:57:27.309550Z"
    },
    "tags": []
   },
   "outputs": [
    {
     "data": {
      "text/plain": [
       "0.2163"
      ]
     },
     "execution_count": 283,
     "metadata": {},
     "output_type": "execute_result"
    }
   ],
   "source": [
    "exact_3_shots.sum()/len(exact_3_shots)"
   ]
  },
  {
   "cell_type": "markdown",
   "id": "c5eb977b",
   "metadata": {},
   "source": [
    "pretty close"
   ]
  },
  {
   "cell_type": "code",
   "execution_count": 284,
   "id": "0058b230",
   "metadata": {
    "execution": {
     "iopub.execute_input": "2021-04-17T20:57:27.704852Z",
     "iopub.status.busy": "2021-04-17T20:57:27.704207Z",
     "iopub.status.idle": "2021-04-17T20:57:27.710334Z",
     "shell.execute_reply": "2021-04-17T20:57:27.709628Z",
     "shell.execute_reply.started": "2021-04-17T20:57:27.704775Z"
    },
    "tags": []
   },
   "outputs": [],
   "source": [
    "empirical_error = np.sqrt(exact_3_shots.sum()/len(exact_3_shots)*(1-exact_3_shots.sum()/len(exact_3_shots))/len(exact_3_shots))"
   ]
  },
  {
   "cell_type": "code",
   "execution_count": 285,
   "id": "1cce8fa3",
   "metadata": {
    "execution": {
     "iopub.execute_input": "2021-04-17T20:57:28.107469Z",
     "iopub.status.busy": "2021-04-17T20:57:28.107168Z",
     "iopub.status.idle": "2021-04-17T20:57:28.112793Z",
     "shell.execute_reply": "2021-04-17T20:57:28.111806Z",
     "shell.execute_reply.started": "2021-04-17T20:57:28.107435Z"
    },
    "tags": []
   },
   "outputs": [
    {
     "data": {
      "text/plain": [
       "0.004117211556381333"
      ]
     },
     "execution_count": 285,
     "metadata": {},
     "output_type": "execute_result"
    }
   ],
   "source": [
    "empirical_error"
   ]
  },
  {
   "cell_type": "code",
   "execution_count": 286,
   "id": "d2b49f84",
   "metadata": {
    "execution": {
     "iopub.execute_input": "2021-04-17T20:57:28.294778Z",
     "iopub.status.busy": "2021-04-17T20:57:28.294610Z",
     "iopub.status.idle": "2021-04-17T20:57:28.297943Z",
     "shell.execute_reply": "2021-04-17T20:57:28.297508Z",
     "shell.execute_reply.started": "2021-04-17T20:57:28.294761Z"
    },
    "tags": []
   },
   "outputs": [
    {
     "data": {
      "text/plain": [
       "0.20766557688723733"
      ]
     },
     "execution_count": 286,
     "metadata": {},
     "output_type": "execute_result"
    }
   ],
   "source": [
    "0.2159-2*empirical_error"
   ]
  },
  {
   "cell_type": "code",
   "execution_count": 287,
   "id": "e2648f3b",
   "metadata": {
    "execution": {
     "iopub.execute_input": "2021-04-17T20:57:28.781819Z",
     "iopub.status.busy": "2021-04-17T20:57:28.781609Z",
     "iopub.status.idle": "2021-04-17T20:57:28.785644Z",
     "shell.execute_reply": "2021-04-17T20:57:28.784978Z",
     "shell.execute_reply.started": "2021-04-17T20:57:28.781797Z"
    },
    "tags": []
   },
   "outputs": [
    {
     "data": {
      "text/plain": [
       "0.2241344231127627"
      ]
     },
     "execution_count": 287,
     "metadata": {},
     "output_type": "execute_result"
    }
   ],
   "source": [
    "0.2159+2*empirical_error"
   ]
  },
  {
   "cell_type": "markdown",
   "id": "8dfbbc37",
   "metadata": {},
   "source": [
    "So interestingly, this actually gives a 95% confidence interval that includes the actual value. what happens if we approx by a normal??"
   ]
  },
  {
   "cell_type": "code",
   "execution_count": 378,
   "id": "178292d1",
   "metadata": {
    "execution": {
     "iopub.execute_input": "2021-04-17T21:34:24.673530Z",
     "iopub.status.busy": "2021-04-17T21:34:24.673365Z",
     "iopub.status.idle": "2021-04-17T21:34:24.676683Z",
     "shell.execute_reply": "2021-04-17T21:34:24.676156Z",
     "shell.execute_reply.started": "2021-04-17T21:34:24.673513Z"
    },
    "tags": []
   },
   "outputs": [],
   "source": [
    "mean = np.mean(np.array(shots_made)-3)"
   ]
  },
  {
   "cell_type": "code",
   "execution_count": 379,
   "id": "72560c94",
   "metadata": {
    "execution": {
     "iopub.execute_input": "2021-04-17T21:34:24.880667Z",
     "iopub.status.busy": "2021-04-17T21:34:24.879980Z",
     "iopub.status.idle": "2021-04-17T21:34:25.442962Z",
     "shell.execute_reply": "2021-04-17T21:34:25.441340Z",
     "shell.execute_reply.started": "2021-04-17T21:34:24.880592Z"
    },
    "tags": []
   },
   "outputs": [
    {
     "data": {
      "text/plain": [
       "0.9773"
      ]
     },
     "execution_count": 379,
     "metadata": {},
     "output_type": "execute_result"
    }
   ],
   "source": [
    "mean"
   ]
  },
  {
   "cell_type": "code",
   "execution_count": 380,
   "id": "9d0660a9",
   "metadata": {
    "execution": {
     "iopub.execute_input": "2021-04-17T21:34:25.445265Z",
     "iopub.status.busy": "2021-04-17T21:34:25.444851Z",
     "iopub.status.idle": "2021-04-17T21:34:25.487982Z",
     "shell.execute_reply": "2021-04-17T21:34:25.487514Z",
     "shell.execute_reply.started": "2021-04-17T21:34:25.445214Z"
    },
    "tags": []
   },
   "outputs": [],
   "source": [
    "sigma = np.std(np.array(shots_made) - 3) #note np.std is standard error, it divides by the sqrt(n)"
   ]
  },
  {
   "cell_type": "code",
   "execution_count": 381,
   "id": "7b30045c",
   "metadata": {
    "execution": {
     "iopub.execute_input": "2021-04-17T21:34:25.488847Z",
     "iopub.status.busy": "2021-04-17T21:34:25.488707Z",
     "iopub.status.idle": "2021-04-17T21:34:25.539475Z",
     "shell.execute_reply": "2021-04-17T21:34:25.538949Z",
     "shell.execute_reply.started": "2021-04-17T21:34:25.488830Z"
    },
    "tags": []
   },
   "outputs": [
    {
     "data": {
      "text/plain": [
       "1.5462809285508246"
      ]
     },
     "execution_count": 381,
     "metadata": {},
     "output_type": "execute_result"
    }
   ],
   "source": [
    "sigma"
   ]
  },
  {
   "cell_type": "code",
   "execution_count": 382,
   "id": "af42daf2",
   "metadata": {
    "execution": {
     "iopub.execute_input": "2021-04-17T21:34:25.540533Z",
     "iopub.status.busy": "2021-04-17T21:34:25.540174Z",
     "iopub.status.idle": "2021-04-17T21:34:25.613849Z",
     "shell.execute_reply": "2021-04-17T21:34:25.613372Z",
     "shell.execute_reply.started": "2021-04-17T21:34:25.540300Z"
    },
    "tags": []
   },
   "outputs": [],
   "source": [
    "z = (0-mean)/sigma"
   ]
  },
  {
   "cell_type": "code",
   "execution_count": 383,
   "id": "07188021",
   "metadata": {
    "execution": {
     "iopub.execute_input": "2021-04-17T21:34:25.614701Z",
     "iopub.status.busy": "2021-04-17T21:34:25.614566Z",
     "iopub.status.idle": "2021-04-17T21:34:25.690919Z",
     "shell.execute_reply": "2021-04-17T21:34:25.690530Z",
     "shell.execute_reply.started": "2021-04-17T21:34:25.614684Z"
    },
    "tags": []
   },
   "outputs": [
    {
     "data": {
      "text/plain": [
       "0.3267136580743244"
      ]
     },
     "execution_count": 383,
     "metadata": {},
     "output_type": "execute_result"
    }
   ],
   "source": [
    "stats.norm.pdf(z)"
   ]
  },
  {
   "cell_type": "markdown",
   "id": "27206a63",
   "metadata": {},
   "source": [
    "Very much skewed. I think this is what's happening in the above example as well, when we cannot just approximate everything by normal, because there was a binomial process involved to select male/female distribution"
   ]
  },
  {
   "cell_type": "markdown",
   "id": "4321ff69",
   "metadata": {},
   "source": [
    "# 5.4 Demonstration of the CLT"
   ]
  },
  {
   "cell_type": "code",
   "execution_count": 386,
   "id": "4937d118",
   "metadata": {
    "execution": {
     "iopub.execute_input": "2021-04-17T21:39:13.296516Z",
     "iopub.status.busy": "2021-04-17T21:39:13.296353Z",
     "iopub.status.idle": "2021-04-17T21:39:13.299798Z",
     "shell.execute_reply": "2021-04-17T21:39:13.299106Z",
     "shell.execute_reply.started": "2021-04-17T21:39:13.296499Z"
    },
    "tags": []
   },
   "outputs": [],
   "source": [
    "def clt_sim(n_sim, n_trials=20):\n",
    "    x = []\n",
    "    for i in range(0, n_sim):\n",
    "        x_j = 0\n",
    "        for j in range(0, n_trials):\n",
    "            x_j = x_j+np.random.uniform(0,1)\n",
    "        x.append(x_j)\n",
    "    return x"
   ]
  },
  {
   "cell_type": "code",
   "execution_count": 387,
   "id": "cf8e08e8",
   "metadata": {
    "execution": {
     "iopub.execute_input": "2021-04-17T21:39:13.520363Z",
     "iopub.status.busy": "2021-04-17T21:39:13.519707Z",
     "iopub.status.idle": "2021-04-17T21:39:13.562412Z",
     "shell.execute_reply": "2021-04-17T21:39:13.561822Z",
     "shell.execute_reply.started": "2021-04-17T21:39:13.520290Z"
    },
    "tags": []
   },
   "outputs": [],
   "source": [
    "x = clt_sim(1000)"
   ]
  },
  {
   "cell_type": "code",
   "execution_count": 392,
   "id": "16a260c2",
   "metadata": {
    "execution": {
     "iopub.execute_input": "2021-04-17T21:39:30.596261Z",
     "iopub.status.busy": "2021-04-17T21:39:30.595592Z",
     "iopub.status.idle": "2021-04-17T21:39:30.601354Z",
     "shell.execute_reply": "2021-04-17T21:39:30.600695Z",
     "shell.execute_reply.started": "2021-04-17T21:39:30.596184Z"
    },
    "tags": []
   },
   "outputs": [],
   "source": [
    "mean = np.mean(x)\n",
    "sigma = np.std(x)"
   ]
  },
  {
   "cell_type": "code",
   "execution_count": 393,
   "id": "ed2b6099",
   "metadata": {
    "execution": {
     "iopub.execute_input": "2021-04-17T21:39:30.845190Z",
     "iopub.status.busy": "2021-04-17T21:39:30.845022Z",
     "iopub.status.idle": "2021-04-17T21:39:30.848761Z",
     "shell.execute_reply": "2021-04-17T21:39:30.848113Z",
     "shell.execute_reply.started": "2021-04-17T21:39:30.845173Z"
    },
    "tags": []
   },
   "outputs": [
    {
     "data": {
      "text/plain": [
       "9.959122284863591"
      ]
     },
     "execution_count": 393,
     "metadata": {},
     "output_type": "execute_result"
    }
   ],
   "source": [
    "mean"
   ]
  },
  {
   "cell_type": "code",
   "execution_count": 394,
   "id": "d3fd8eef",
   "metadata": {
    "execution": {
     "iopub.execute_input": "2021-04-17T21:39:31.044135Z",
     "iopub.status.busy": "2021-04-17T21:39:31.043963Z",
     "iopub.status.idle": "2021-04-17T21:39:31.047302Z",
     "shell.execute_reply": "2021-04-17T21:39:31.046727Z",
     "shell.execute_reply.started": "2021-04-17T21:39:31.044117Z"
    },
    "tags": []
   },
   "outputs": [
    {
     "data": {
      "text/plain": [
       "1.3110402883014645"
      ]
     },
     "execution_count": 394,
     "metadata": {},
     "output_type": "execute_result"
    }
   ],
   "source": [
    "sigma #note the actual sigma of the population is sigma*sqrt(n_trials)"
   ]
  },
  {
   "cell_type": "code",
   "execution_count": 395,
   "id": "2de55efa",
   "metadata": {
    "execution": {
     "iopub.execute_input": "2021-04-17T21:39:31.479385Z",
     "iopub.status.busy": "2021-04-17T21:39:31.479221Z",
     "iopub.status.idle": "2021-04-17T21:39:31.673977Z",
     "shell.execute_reply": "2021-04-17T21:39:31.673531Z",
     "shell.execute_reply.started": "2021-04-17T21:39:31.479369Z"
    },
    "tags": []
   },
   "outputs": [
    {
     "data": {
      "text/plain": [
       "[<matplotlib.lines.Line2D at 0x7f4718bf5d30>]"
      ]
     },
     "execution_count": 395,
     "metadata": {},
     "output_type": "execute_result"
    },
    {
     "data": {
      "image/png": "[encoded data removed]",
      "text/plain": [
       "<Figure size 576x396 with 1 Axes>"
      ]
     },
     "metadata": {},
     "output_type": "display_data"
    }
   ],
   "source": [
    "plt.hist(x, bins = 100, density=True)\n",
    "plt.plot(np.linspace(6,15), stats.norm.pdf(np.linspace(6,15), mean,sigma))"
   ]
  },
  {
   "cell_type": "markdown",
   "id": "f6fffe7e",
   "metadata": {},
   "source": [
    "More or less the same, but we are seeing some outliers here and there, there seem notably less distribution near the mean"
   ]
  },
  {
   "cell_type": "markdown",
   "id": "fe817b51",
   "metadata": {},
   "source": [
    "# 5.4 Distribution of averages and differences"
   ]
  },
  {
   "cell_type": "code",
   "execution_count": 320,
   "id": "3107c136",
   "metadata": {
    "execution": {
     "iopub.execute_input": "2021-04-17T21:18:54.427921Z",
     "iopub.status.busy": "2021-04-17T21:18:54.427756Z",
     "iopub.status.idle": "2021-04-17T21:18:54.431555Z",
     "shell.execute_reply": "2021-04-17T21:18:54.431017Z",
     "shell.execute_reply.started": "2021-04-17T21:18:54.427904Z"
    },
    "tags": []
   },
   "outputs": [],
   "source": [
    "def height_sim(n_sim=1000, n_trial=100):\n",
    "    height_diff = []\n",
    "    for i in range(0, n_sim):\n",
    "        male_height = []\n",
    "        female_height = []\n",
    "        for j in range(0, n_trial):\n",
    "            male_height.append(np.random.normal(69.1, 2.9))\n",
    "            female_height.append(np.random.normal(63.7,2.7))\n",
    "        height_diff.append(np.mean(male_height)-np.mean(female_height))\n",
    "    return height_diff"
   ]
  },
  {
   "cell_type": "code",
   "execution_count": 321,
   "id": "bfe102aa",
   "metadata": {
    "execution": {
     "iopub.execute_input": "2021-04-17T21:18:54.604623Z",
     "iopub.status.busy": "2021-04-17T21:18:54.604345Z",
     "iopub.status.idle": "2021-04-17T21:18:55.070847Z",
     "shell.execute_reply": "2021-04-17T21:18:55.070366Z",
     "shell.execute_reply.started": "2021-04-17T21:18:54.604592Z"
    },
    "tags": []
   },
   "outputs": [],
   "source": [
    "height_diff = height_sim()"
   ]
  },
  {
   "cell_type": "code",
   "execution_count": 326,
   "id": "e360860a",
   "metadata": {
    "execution": {
     "iopub.execute_input": "2021-04-17T21:21:20.742151Z",
     "iopub.status.busy": "2021-04-17T21:21:20.741991Z",
     "iopub.status.idle": "2021-04-17T21:21:20.745527Z",
     "shell.execute_reply": "2021-04-17T21:21:20.744976Z",
     "shell.execute_reply.started": "2021-04-17T21:21:20.742134Z"
    },
    "tags": []
   },
   "outputs": [
    {
     "name": "stdout",
     "output_type": "stream",
     "text": [
      "simulated x-y mean is 5.416324640638626, simulated x-y std is 0.39830539875336474\n",
      "        actual x-y mean is 5.3999999999999915, actual x-y std is 3.96232255123179\n",
      "        \n"
     ]
    }
   ],
   "source": [
    "print(f\"\"\"simulated x-y mean is {np.mean(height_diff)}, simulated x-y std is {np.std(height_diff)}\n",
    "        actual x-y mean is {69.1-63.7}, actual x-y std is {np.sqrt(np.power(2.9,2)+np.power(2.7,2))}\n",
    "        \"\"\")"
   ]
  },
  {
   "cell_type": "markdown",
   "id": "a4751019",
   "metadata": {},
   "source": [
    "The standard deviation is way off, but that's because we are using standard error rather than standard deviation"
   ]
  },
  {
   "cell_type": "code",
   "execution_count": 333,
   "id": "7efb9b8e",
   "metadata": {
    "execution": {
     "iopub.execute_input": "2021-04-17T21:29:10.153965Z",
     "iopub.status.busy": "2021-04-17T21:29:10.153724Z",
     "iopub.status.idle": "2021-04-17T21:29:10.158542Z",
     "shell.execute_reply": "2021-04-17T21:29:10.157907Z",
     "shell.execute_reply.started": "2021-04-17T21:29:10.153938Z"
    },
    "tags": []
   },
   "outputs": [
    {
     "data": {
      "text/plain": [
       "3.9830539875336473"
      ]
     },
     "execution_count": 333,
     "metadata": {},
     "output_type": "execute_result"
    }
   ],
   "source": [
    "np.std(height_diff)*np.sqrt(100) #we are using the 100 trial"
   ]
  },
  {
   "cell_type": "code",
   "execution_count": 327,
   "id": "250c05a2",
   "metadata": {
    "execution": {
     "iopub.execute_input": "2021-04-17T21:22:52.450756Z",
     "iopub.status.busy": "2021-04-17T21:22:52.450596Z",
     "iopub.status.idle": "2021-04-17T21:22:52.554914Z",
     "shell.execute_reply": "2021-04-17T21:22:52.554436Z",
     "shell.execute_reply.started": "2021-04-17T21:22:52.450740Z"
    }
   },
   "outputs": [
    {
     "data": {
      "text/plain": [
       "(array([  1.,  18.,  92., 180., 275., 276., 110.,  36.,  11.,   1.]),\n",
       " array([4.03112708, 4.32439912, 4.61767116, 4.9109432 , 5.20421524,\n",
       "        5.49748728, 5.79075932, 6.08403136, 6.3773034 , 6.67057544,\n",
       "        6.96384748]),\n",
       " <a list of 10 Patch objects>)"
      ]
     },
     "execution_count": 327,
     "metadata": {},
     "output_type": "execute_result"
    },
    {
     "data": {
      "image/png": "[encoded data removed]",
      "text/plain": [
       "<Figure size 576x396 with 1 Axes>"
      ]
     },
     "metadata": {},
     "output_type": "display_data"
    }
   ],
   "source": [
    "plt.hist(height_diff)"
   ]
  },
  {
   "cell_type": "code",
   "execution_count": null,
   "id": "a957123b",
   "metadata": {},
   "outputs": [],
   "source": []
  }
 ],
 "metadata": {
  "kernelspec": {
   "display_name": "Python [conda env:ros]",
   "language": "python",
   "name": "conda-env-ros-py"
  },
  "language_info": {
   "codemirror_mode": {
    "name": "ipython",
    "version": 3
   },
   "file_extension": ".py",
   "mimetype": "text/x-python",
   "name": "python",
   "nbconvert_exporter": "python",
   "pygments_lexer": "ipython3",
   "version": "3.8.8"
  }
 },
 "nbformat": 4,
 "nbformat_minor": 5
}
