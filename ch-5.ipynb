{
 "cells": [
  {
   "cell_type": "code",
   "execution_count": 1,
   "id": "70327692",
   "metadata": {
    "execution": {
     "iopub.execute_input": "2021-04-30T13:57:27.865275Z",
     "iopub.status.busy": "2021-04-30T13:57:27.864989Z",
     "iopub.status.idle": "2021-04-30T13:57:35.455563Z",
     "shell.execute_reply": "2021-04-30T13:57:35.454908Z",
     "shell.execute_reply.started": "2021-04-30T13:57:27.865202Z"
    },
    "tags": []
   },
   "outputs": [],
   "source": [
    "import pandas as pd\n",
    "import numpy as np\n",
    "import matplotlib.pyplot as plt\n",
    "import seaborn as sns\n",
    "\n",
    "import scipy.stats as stats"
   ]
  },
  {
   "cell_type": "code",
   "execution_count": 2,
   "id": "793d7759",
   "metadata": {
    "execution": {
     "iopub.execute_input": "2021-04-30T13:57:35.456869Z",
     "iopub.status.busy": "2021-04-30T13:57:35.456597Z",
     "iopub.status.idle": "2021-04-30T13:57:35.459978Z",
     "shell.execute_reply": "2021-04-30T13:57:35.459258Z",
     "shell.execute_reply.started": "2021-04-30T13:57:35.456846Z"
    },
    "tags": []
   },
   "outputs": [],
   "source": [
    "plt.style.use('seaborn-notebook')\n",
    "plt.style.use('ggplot')"
   ]
  },
  {
   "cell_type": "markdown",
   "id": "7f2a0df7",
   "metadata": {},
   "source": [
    "# 5.1 Discrete probability simulation"
   ]
  },
  {
   "cell_type": "markdown",
   "id": "cc04ce83",
   "metadata": {},
   "source": [
    "a) simlluate process\n",
    "\n",
    "This would be a binomial process with success rate 0.6 and stopping criteria of failure 2 in a row"
   ]
  },
  {
   "cell_type": "code",
   "execution_count": 3,
   "id": "10426f2f",
   "metadata": {
    "execution": {
     "iopub.execute_input": "2021-04-30T13:57:35.461082Z",
     "iopub.status.busy": "2021-04-30T13:57:35.460851Z",
     "iopub.status.idle": "2021-04-30T13:57:35.616618Z",
     "shell.execute_reply": "2021-04-30T13:57:35.614647Z",
     "shell.execute_reply.started": "2021-04-30T13:57:35.461057Z"
    },
    "tags": []
   },
   "outputs": [
    {
     "data": {
      "text/plain": [
       "0"
      ]
     },
     "execution_count": 3,
     "metadata": {},
     "output_type": "execute_result"
    }
   ],
   "source": [
    "np.random.binomial(1,0.6)"
   ]
  },
  {
   "cell_type": "code",
   "execution_count": 4,
   "id": "2e9b2880",
   "metadata": {
    "execution": {
     "iopub.execute_input": "2021-04-30T13:57:35.619729Z",
     "iopub.status.busy": "2021-04-30T13:57:35.619114Z",
     "iopub.status.idle": "2021-04-30T13:57:36.009797Z",
     "shell.execute_reply": "2021-04-30T13:57:36.007610Z",
     "shell.execute_reply.started": "2021-04-30T13:57:35.619657Z"
    },
    "tags": []
   },
   "outputs": [
    {
     "name": "stdout",
     "output_type": "stream",
     "text": [
      "shot is 0, last shot is 0\n"
     ]
    }
   ],
   "source": [
    "stopping_criteria = False\n",
    "shots = []\n",
    "p = 0.6\n",
    "shots.append(np.random.binomial(1,0.6)) #first shot\n",
    "while stopping_criteria == False:\n",
    "    shot = np.random.binomial(1,0.6)\n",
    "    print(f\"shot is {shot}, last shot is {shots[-1]}\")\n",
    "    if (shots[-1] == 0) & (shot == 0):\n",
    "        stopping_criteria = True\n",
    "    shots.append(shot)"
   ]
  },
  {
   "cell_type": "code",
   "execution_count": 5,
   "id": "9d911f0f",
   "metadata": {
    "execution": {
     "iopub.execute_input": "2021-04-30T13:57:36.018099Z",
     "iopub.status.busy": "2021-04-30T13:57:36.017530Z",
     "iopub.status.idle": "2021-04-30T13:57:36.667578Z",
     "shell.execute_reply": "2021-04-30T13:57:36.666007Z",
     "shell.execute_reply.started": "2021-04-30T13:57:36.018030Z"
    },
    "tags": []
   },
   "outputs": [],
   "source": [
    "def basketball_throws(n):\n",
    "    dist_shots = []\n",
    "    for i in range(0,n):\n",
    "        stopping_criteria = False\n",
    "        shots = []\n",
    "        p = 0.6\n",
    "        shots.append(np.random.binomial(1,0.6)) #first shot\n",
    "        while stopping_criteria == False:\n",
    "            shot = np.random.binomial(1,0.6)\n",
    "            if (shots[-1] == 0) & (shot == 0):\n",
    "                stopping_criteria = True\n",
    "            shots.append(shot)\n",
    "        dist_shots.append(shots)\n",
    "    return dist_shots"
   ]
  },
  {
   "cell_type": "code",
   "execution_count": 6,
   "id": "9ffeb892",
   "metadata": {
    "execution": {
     "iopub.execute_input": "2021-04-30T13:57:36.675295Z",
     "iopub.status.busy": "2021-04-30T13:57:36.675015Z",
     "iopub.status.idle": "2021-04-30T13:57:36.818193Z",
     "shell.execute_reply": "2021-04-30T13:57:36.817558Z",
     "shell.execute_reply.started": "2021-04-30T13:57:36.675264Z"
    },
    "tags": []
   },
   "outputs": [],
   "source": [
    "dist_shots = basketball_throws(1000)"
   ]
  },
  {
   "cell_type": "code",
   "execution_count": 7,
   "id": "ea64e831",
   "metadata": {
    "execution": {
     "iopub.execute_input": "2021-04-30T13:57:36.820502Z",
     "iopub.status.busy": "2021-04-30T13:57:36.820352Z",
     "iopub.status.idle": "2021-04-30T13:57:36.908233Z",
     "shell.execute_reply": "2021-04-30T13:57:36.906057Z",
     "shell.execute_reply.started": "2021-04-30T13:57:36.820482Z"
    },
    "tags": []
   },
   "outputs": [],
   "source": [
    "num_shots_sim = [len(x) for x in dist_shots]"
   ]
  },
  {
   "cell_type": "code",
   "execution_count": 8,
   "id": "8d67eb79",
   "metadata": {
    "execution": {
     "iopub.execute_input": "2021-04-30T13:57:36.911227Z",
     "iopub.status.busy": "2021-04-30T13:57:36.910655Z",
     "iopub.status.idle": "2021-04-30T13:57:37.025026Z",
     "shell.execute_reply": "2021-04-30T13:57:37.024170Z",
     "shell.execute_reply.started": "2021-04-30T13:57:36.911158Z"
    },
    "tags": []
   },
   "outputs": [
    {
     "data": {
      "text/plain": [
       "8.513"
      ]
     },
     "execution_count": 8,
     "metadata": {},
     "output_type": "execute_result"
    }
   ],
   "source": [
    "np.mean(num_shots_sim)"
   ]
  },
  {
   "cell_type": "code",
   "execution_count": 9,
   "id": "b81f242b",
   "metadata": {
    "execution": {
     "iopub.execute_input": "2021-04-30T13:57:37.026344Z",
     "iopub.status.busy": "2021-04-30T13:57:37.026126Z",
     "iopub.status.idle": "2021-04-30T13:57:37.213428Z",
     "shell.execute_reply": "2021-04-30T13:57:37.212788Z",
     "shell.execute_reply.started": "2021-04-30T13:57:37.026326Z"
    },
    "tags": []
   },
   "outputs": [
    {
     "data": {
      "text/plain": [
       "6.574179112254244"
      ]
     },
     "execution_count": 9,
     "metadata": {},
     "output_type": "execute_result"
    }
   ],
   "source": [
    "np.std(num_shots_sim)"
   ]
  },
  {
   "cell_type": "code",
   "execution_count": 10,
   "id": "2bba9540",
   "metadata": {
    "execution": {
     "iopub.execute_input": "2021-04-30T13:57:37.214421Z",
     "iopub.status.busy": "2021-04-30T13:57:37.214216Z",
     "iopub.status.idle": "2021-04-30T13:57:37.776099Z",
     "shell.execute_reply": "2021-04-30T13:57:37.775268Z",
     "shell.execute_reply.started": "2021-04-30T13:57:37.214398Z"
    },
    "tags": []
   },
   "outputs": [
    {
     "data": {
      "text/plain": [
       "(array([405., 269., 143.,  86.,  37.,  29.,  12.,  12.,   4.,   3.]),\n",
       " array([ 2. ,  5.8,  9.6, 13.4, 17.2, 21. , 24.8, 28.6, 32.4, 36.2, 40. ]),\n",
       " <a list of 10 Patch objects>)"
      ]
     },
     "execution_count": 10,
     "metadata": {},
     "output_type": "execute_result"
    },
    {
     "data": {
      "image/png": "[encoded data removed]",
      "text/plain": [
       "<Figure size 576x396 with 1 Axes>"
      ]
     },
     "metadata": {},
     "output_type": "display_data"
    }
   ],
   "source": [
    "plt.hist(num_shots_sim)"
   ]
  },
  {
   "cell_type": "code",
   "execution_count": 11,
   "id": "c66fc101",
   "metadata": {
    "execution": {
     "iopub.execute_input": "2021-04-30T13:57:37.777595Z",
     "iopub.status.busy": "2021-04-30T13:57:37.777320Z",
     "iopub.status.idle": "2021-04-30T13:57:37.782785Z",
     "shell.execute_reply": "2021-04-30T13:57:37.781825Z",
     "shell.execute_reply.started": "2021-04-30T13:57:37.777563Z"
    },
    "tags": []
   },
   "outputs": [],
   "source": [
    "success_shots_sim = [sum(x)/len(x) for x in dist_shots]"
   ]
  },
  {
   "cell_type": "code",
   "execution_count": 12,
   "id": "5ee8032b",
   "metadata": {
    "execution": {
     "iopub.execute_input": "2021-04-30T13:57:37.784429Z",
     "iopub.status.busy": "2021-04-30T13:57:37.784114Z",
     "iopub.status.idle": "2021-04-30T13:57:38.095957Z",
     "shell.execute_reply": "2021-04-30T13:57:38.095444Z",
     "shell.execute_reply.started": "2021-04-30T13:57:37.784399Z"
    },
    "tags": []
   },
   "outputs": [
    {
     "data": {
      "text/plain": [
       "<matplotlib.collections.PathCollection at 0x7f5e6d3b3640>"
      ]
     },
     "execution_count": 12,
     "metadata": {},
     "output_type": "execute_result"
    },
    {
     "data": {
      "image/png": "[encoded data removed]",
      "text/plain": [
       "<Figure size 576x396 with 1 Axes>"
      ]
     },
     "metadata": {},
     "output_type": "display_data"
    }
   ],
   "source": [
    "plt.scatter(num_shots_sim, success_shots_sim)"
   ]
  },
  {
   "cell_type": "markdown",
   "id": "1e8d723b",
   "metadata": {},
   "source": [
    "# 5.2 Continuous probability simulation\n",
    "\n",
    "An additional information here is that there's approximately 52% women in US and 48% men. I wish the problem gives all the necessary information...."
   ]
  },
  {
   "cell_type": "code",
   "execution_count": 13,
   "id": "c2eb78a5",
   "metadata": {
    "execution": {
     "iopub.execute_input": "2021-04-30T13:57:38.096765Z",
     "iopub.status.busy": "2021-04-30T13:57:38.096605Z",
     "iopub.status.idle": "2021-04-30T13:57:38.100278Z",
     "shell.execute_reply": "2021-04-30T13:57:38.099887Z",
     "shell.execute_reply.started": "2021-04-30T13:57:38.096748Z"
    },
    "tags": []
   },
   "outputs": [],
   "source": [
    "def sim_weight(n_sim=1000, n_draw=10):\n",
    "    dist_log_weight = []\n",
    "    for i in range(0, n_sim):\n",
    "        #initialize\n",
    "        log_weight = []\n",
    "        for j in range(1,n_draw):\n",
    "            gender = np.random.binomial(0,0.52)# 1 being female\n",
    "            if gender == 1:\n",
    "                person_log_weight = np.random.normal(4.96, 0.20)\n",
    "            else:\n",
    "                person_log_weight = np.random.normal(5.13, 0.17)\n",
    "            log_weight.append(person_log_weight)\n",
    "        dist_log_weight.append(log_weight)\n",
    "    return dist_log_weight"
   ]
  },
  {
   "cell_type": "code",
   "execution_count": 14,
   "id": "7290d6c1",
   "metadata": {
    "execution": {
     "iopub.execute_input": "2021-04-30T13:57:38.100969Z",
     "iopub.status.busy": "2021-04-30T13:57:38.100842Z",
     "iopub.status.idle": "2021-04-30T13:57:39.039002Z",
     "shell.execute_reply": "2021-04-30T13:57:39.038386Z",
     "shell.execute_reply.started": "2021-04-30T13:57:38.100953Z"
    },
    "tags": []
   },
   "outputs": [],
   "source": [
    "dist_log_weight = sim_weight()"
   ]
  },
  {
   "cell_type": "code",
   "execution_count": 15,
   "id": "40b4f835",
   "metadata": {
    "execution": {
     "iopub.execute_input": "2021-04-30T13:57:39.040192Z",
     "iopub.status.busy": "2021-04-30T13:57:39.039879Z",
     "iopub.status.idle": "2021-04-30T13:57:39.056792Z",
     "shell.execute_reply": "2021-04-30T13:57:39.055990Z",
     "shell.execute_reply.started": "2021-04-30T13:57:39.040173Z"
    },
    "tags": []
   },
   "outputs": [],
   "source": [
    "#calculate the sum of each of those 10 people"
   ]
  },
  {
   "cell_type": "code",
   "execution_count": 16,
   "id": "f4365f2a",
   "metadata": {
    "execution": {
     "iopub.execute_input": "2021-04-30T13:57:39.057615Z",
     "iopub.status.busy": "2021-04-30T13:57:39.057470Z",
     "iopub.status.idle": "2021-04-30T13:57:39.208076Z",
     "shell.execute_reply": "2021-04-30T13:57:39.205962Z",
     "shell.execute_reply.started": "2021-04-30T13:57:39.057598Z"
    },
    "tags": []
   },
   "outputs": [],
   "source": [
    "sum_weight = [sum(np.exp(x)) for x in dist_log_weight]"
   ]
  },
  {
   "cell_type": "code",
   "execution_count": 17,
   "id": "17e6cb16",
   "metadata": {
    "execution": {
     "iopub.execute_input": "2021-04-30T13:57:39.211393Z",
     "iopub.status.busy": "2021-04-30T13:57:39.210794Z",
     "iopub.status.idle": "2021-04-30T13:57:39.335057Z",
     "shell.execute_reply": "2021-04-30T13:57:39.333477Z",
     "shell.execute_reply.started": "2021-04-30T13:57:39.211321Z"
    },
    "tags": []
   },
   "outputs": [],
   "source": [
    "max_weight = 1750"
   ]
  },
  {
   "cell_type": "code",
   "execution_count": 18,
   "id": "5f45fd87",
   "metadata": {
    "execution": {
     "iopub.execute_input": "2021-04-30T13:57:39.337141Z",
     "iopub.status.busy": "2021-04-30T13:57:39.336742Z",
     "iopub.status.idle": "2021-04-30T13:57:39.474865Z",
     "shell.execute_reply": "2021-04-30T13:57:39.472733Z",
     "shell.execute_reply.started": "2021-04-30T13:57:39.337092Z"
    },
    "tags": []
   },
   "outputs": [],
   "source": [
    "greater_than_max = np.where(np.array(sum_weight) > max_weight, 1, 0)"
   ]
  },
  {
   "cell_type": "markdown",
   "id": "50e4b78a",
   "metadata": {},
   "source": [
    "do it by the discrete probability from last time. Assume that each trial (get 10 ppl) is an independent survey, and we have surveyed 1000 times, what's the proportion of surveys that exceeds the max weight and the error?"
   ]
  },
  {
   "cell_type": "code",
   "execution_count": 19,
   "id": "5207a3a7",
   "metadata": {
    "execution": {
     "iopub.execute_input": "2021-04-30T13:57:39.477916Z",
     "iopub.status.busy": "2021-04-30T13:57:39.477312Z",
     "iopub.status.idle": "2021-04-30T13:57:39.558711Z",
     "shell.execute_reply": "2021-04-30T13:57:39.557467Z",
     "shell.execute_reply.started": "2021-04-30T13:57:39.477845Z"
    },
    "tags": []
   },
   "outputs": [],
   "source": [
    "#empirical odds\n",
    "empirical_odds = greater_than_max.sum()/len(greater_than_max)"
   ]
  },
  {
   "cell_type": "code",
   "execution_count": 20,
   "id": "a5b8709c",
   "metadata": {
    "execution": {
     "iopub.execute_input": "2021-04-17T21:54:55.157963Z",
     "iopub.status.busy": "2021-04-17T21:54:55.157258Z",
     "iopub.status.idle": "2021-04-17T21:54:55.170523Z",
     "shell.execute_reply": "2021-04-17T21:54:55.168533Z",
     "shell.execute_reply.started": "2021-04-17T21:54:55.157885Z"
    },
    "tags": []
   },
   "outputs": [
    {
     "data": {
      "text/plain": [
       "0.012"
      ]
     },
     "execution_count": 20,
     "metadata": {},
     "output_type": "execute_result"
    }
   ],
   "source": [
    "empirical_odds"
   ]
  },
  {
   "cell_type": "code",
   "execution_count": 20,
   "id": "88604e29",
   "metadata": {
    "execution": {
     "iopub.execute_input": "2021-04-30T13:57:39.560335Z",
     "iopub.status.busy": "2021-04-30T13:57:39.560030Z",
     "iopub.status.idle": "2021-04-30T13:57:39.691293Z",
     "shell.execute_reply": "2021-04-30T13:57:39.689364Z",
     "shell.execute_reply.started": "2021-04-30T13:57:39.560301Z"
    },
    "tags": []
   },
   "outputs": [],
   "source": [
    "#empirical error \n",
    "empirical_error = np.sqrt(empirical_odds*(1-empirical_odds)/10) #10 because that's the actual sample, we just did the 10 draws 1000 times"
   ]
  },
  {
   "cell_type": "code",
   "execution_count": 21,
   "id": "eb22cd8c",
   "metadata": {
    "execution": {
     "iopub.execute_input": "2021-04-30T13:57:39.694698Z",
     "iopub.status.busy": "2021-04-30T13:57:39.694079Z",
     "iopub.status.idle": "2021-04-30T13:57:39.826400Z",
     "shell.execute_reply": "2021-04-30T13:57:39.825860Z",
     "shell.execute_reply.started": "2021-04-30T13:57:39.694626Z"
    },
    "tags": []
   },
   "outputs": [
    {
     "data": {
      "text/plain": [
       "0.04204283529925164"
      ]
     },
     "execution_count": 21,
     "metadata": {},
     "output_type": "execute_result"
    }
   ],
   "source": [
    "empirical_error"
   ]
  },
  {
   "cell_type": "markdown",
   "id": "15e1526b",
   "metadata": {},
   "source": [
    "Alternatively we can think about it in terms of just distributions. NULL hypothesis is that weight - max_weight = 0. What is the probability (i.e cdf of this normal distribution that weight-max_weight > 0)?\n",
    "\n",
    "Essentially, we just have to find the standard deviation of the distribution weight - max_weight"
   ]
  },
  {
   "cell_type": "code",
   "execution_count": 22,
   "id": "f4d93afd",
   "metadata": {
    "execution": {
     "iopub.execute_input": "2021-04-30T13:57:39.828575Z",
     "iopub.status.busy": "2021-04-30T13:57:39.828389Z",
     "iopub.status.idle": "2021-04-30T13:57:40.806973Z",
     "shell.execute_reply": "2021-04-30T13:57:40.804973Z",
     "shell.execute_reply.started": "2021-04-30T13:57:39.828556Z"
    },
    "tags": []
   },
   "outputs": [],
   "source": [
    "sigma = np.std(np.array(sum_weight) - max_weight)"
   ]
  },
  {
   "cell_type": "code",
   "execution_count": 23,
   "id": "757de25d",
   "metadata": {
    "execution": {
     "iopub.execute_input": "2021-04-30T13:57:40.810472Z",
     "iopub.status.busy": "2021-04-30T13:57:40.810016Z",
     "iopub.status.idle": "2021-04-30T13:57:41.018931Z",
     "shell.execute_reply": "2021-04-30T13:57:41.016960Z",
     "shell.execute_reply.started": "2021-04-30T13:57:40.810405Z"
    },
    "tags": []
   },
   "outputs": [
    {
     "data": {
      "text/plain": [
       "90.20763983253585"
      ]
     },
     "execution_count": 23,
     "metadata": {},
     "output_type": "execute_result"
    }
   ],
   "source": [
    "sigma"
   ]
  },
  {
   "cell_type": "code",
   "execution_count": 24,
   "id": "3f55dd58",
   "metadata": {
    "execution": {
     "iopub.execute_input": "2021-04-30T13:57:41.022173Z",
     "iopub.status.busy": "2021-04-30T13:57:41.021540Z",
     "iopub.status.idle": "2021-04-30T13:57:41.079162Z",
     "shell.execute_reply": "2021-04-30T13:57:41.078373Z",
     "shell.execute_reply.started": "2021-04-30T13:57:41.022098Z"
    },
    "tags": []
   },
   "outputs": [],
   "source": [
    "mean = np.mean(np.array(sum_weight)-max_weight)"
   ]
  },
  {
   "cell_type": "code",
   "execution_count": 25,
   "id": "5a3d1f1f",
   "metadata": {
    "execution": {
     "iopub.execute_input": "2021-04-30T13:57:41.080629Z",
     "iopub.status.busy": "2021-04-30T13:57:41.080337Z",
     "iopub.status.idle": "2021-04-30T13:57:41.169929Z",
     "shell.execute_reply": "2021-04-30T13:57:41.167926Z",
     "shell.execute_reply.started": "2021-04-30T13:57:41.080600Z"
    },
    "tags": []
   },
   "outputs": [
    {
     "data": {
      "text/plain": [
       "-207.53613330010347"
      ]
     },
     "execution_count": 25,
     "metadata": {},
     "output_type": "execute_result"
    }
   ],
   "source": [
    "mean"
   ]
  },
  {
   "cell_type": "code",
   "execution_count": 26,
   "id": "1dba3f34",
   "metadata": {
    "execution": {
     "iopub.execute_input": "2021-04-30T13:57:41.173081Z",
     "iopub.status.busy": "2021-04-30T13:57:41.172469Z",
     "iopub.status.idle": "2021-04-30T13:57:41.353844Z",
     "shell.execute_reply": "2021-04-30T13:57:41.353387Z",
     "shell.execute_reply.started": "2021-04-30T13:57:41.172990Z"
    },
    "tags": []
   },
   "outputs": [
    {
     "data": {
      "text/plain": [
       "[<matplotlib.lines.Line2D at 0x7f5e6d26a880>]"
      ]
     },
     "execution_count": 26,
     "metadata": {},
     "output_type": "execute_result"
    },
    {
     "data": {
      "image/png": "[encoded data removed]",
      "text/plain": [
       "<Figure size 576x396 with 1 Axes>"
      ]
     },
     "metadata": {},
     "output_type": "display_data"
    }
   ],
   "source": [
    "plt.hist(np.array(sum_weight)-max_weight, bins=20, density=True)\n",
    "x = np.linspace(-400,100)\n",
    "y = stats.norm.pdf(x,mean,sigma)\n",
    "plt.plot(x,y)"
   ]
  },
  {
   "cell_type": "code",
   "execution_count": 27,
   "id": "0a1c2c1b",
   "metadata": {
    "execution": {
     "iopub.execute_input": "2021-04-30T13:57:41.354576Z",
     "iopub.status.busy": "2021-04-30T13:57:41.354444Z",
     "iopub.status.idle": "2021-04-30T13:57:41.357641Z",
     "shell.execute_reply": "2021-04-30T13:57:41.357179Z",
     "shell.execute_reply.started": "2021-04-30T13:57:41.354560Z"
    },
    "tags": []
   },
   "outputs": [
    {
     "data": {
      "text/plain": [
       "2.300649187645079"
      ]
     },
     "execution_count": 27,
     "metadata": {},
     "output_type": "execute_result"
    }
   ],
   "source": [
    "z = (0-mean)/(sigma)\n",
    "z"
   ]
  },
  {
   "cell_type": "markdown",
   "id": "e1c8131c",
   "metadata": {},
   "source": [
    "This mean would shift depending on the draws as well "
   ]
  },
  {
   "cell_type": "code",
   "execution_count": 28,
   "id": "3c0e7839",
   "metadata": {
    "execution": {
     "iopub.execute_input": "2021-04-30T13:57:41.358278Z",
     "iopub.status.busy": "2021-04-30T13:57:41.358156Z",
     "iopub.status.idle": "2021-04-30T13:57:41.407151Z",
     "shell.execute_reply": "2021-04-30T13:57:41.406565Z",
     "shell.execute_reply.started": "2021-04-30T13:57:41.358263Z"
    },
    "tags": []
   },
   "outputs": [
    {
     "data": {
      "text/plain": [
       "0.010705734182230642"
      ]
     },
     "execution_count": 28,
     "metadata": {},
     "output_type": "execute_result"
    }
   ],
   "source": [
    "1-stats.norm.cdf(z)"
   ]
  },
  {
   "cell_type": "markdown",
   "id": "e73fd1cf",
   "metadata": {},
   "source": [
    "Is this within the empirical observation?"
   ]
  },
  {
   "cell_type": "code",
   "execution_count": 29,
   "id": "04e9c850",
   "metadata": {
    "execution": {
     "iopub.execute_input": "2021-04-30T13:57:41.407926Z",
     "iopub.status.busy": "2021-04-30T13:57:41.407776Z",
     "iopub.status.idle": "2021-04-30T13:57:41.483043Z",
     "shell.execute_reply": "2021-04-30T13:57:41.482481Z",
     "shell.execute_reply.started": "2021-04-30T13:57:41.407908Z"
    },
    "tags": []
   },
   "outputs": [
    {
     "data": {
      "text/plain": [
       "-0.06608567059850327"
      ]
     },
     "execution_count": 29,
     "metadata": {},
     "output_type": "execute_result"
    }
   ],
   "source": [
    "empirical_odds-2*empirical_error"
   ]
  },
  {
   "cell_type": "code",
   "execution_count": 30,
   "id": "ca91b298",
   "metadata": {
    "execution": {
     "iopub.execute_input": "2021-04-30T13:57:41.483793Z",
     "iopub.status.busy": "2021-04-30T13:57:41.483654Z",
     "iopub.status.idle": "2021-04-30T13:57:41.567356Z",
     "shell.execute_reply": "2021-04-30T13:57:41.566794Z",
     "shell.execute_reply.started": "2021-04-30T13:57:41.483776Z"
    },
    "tags": []
   },
   "outputs": [
    {
     "data": {
      "text/plain": [
       "0.018"
      ]
     },
     "execution_count": 30,
     "metadata": {},
     "output_type": "execute_result"
    }
   ],
   "source": [
    "empirical_odds"
   ]
  },
  {
   "cell_type": "markdown",
   "id": "1d92b39d",
   "metadata": {},
   "source": [
    "# 5.3 Binomial Distribution"
   ]
  },
  {
   "cell_type": "code",
   "execution_count": 31,
   "id": "73ff1039",
   "metadata": {
    "execution": {
     "iopub.execute_input": "2021-04-30T14:09:13.047287Z",
     "iopub.status.busy": "2021-04-30T14:09:13.046643Z",
     "iopub.status.idle": "2021-04-30T14:09:13.059454Z",
     "shell.execute_reply": "2021-04-30T14:09:13.057932Z",
     "shell.execute_reply.started": "2021-04-30T14:09:13.047213Z"
    },
    "tags": []
   },
   "outputs": [
    {
     "data": {
      "text/plain": [
       "0.21499084800000012"
      ]
     },
     "execution_count": 31,
     "metadata": {},
     "output_type": "execute_result"
    }
   ],
   "source": [
    "stats.binom.pmf(k=3,n=10,p=0.4)"
   ]
  },
  {
   "cell_type": "code",
   "execution_count": 32,
   "id": "5ae72cf4",
   "metadata": {
    "execution": {
     "iopub.execute_input": "2021-04-30T14:09:13.572937Z",
     "iopub.status.busy": "2021-04-30T14:09:13.572574Z",
     "iopub.status.idle": "2021-04-30T14:09:13.577371Z",
     "shell.execute_reply": "2021-04-30T14:09:13.576831Z",
     "shell.execute_reply.started": "2021-04-30T14:09:13.572919Z"
    },
    "tags": []
   },
   "outputs": [],
   "source": [
    "def basketball_throws_3shots(n_sim=10000, n_trial=10):\n",
    "    dist_shots = []\n",
    "    for i in range(0,n_sim):\n",
    "        trial = []\n",
    "        for j in range(0, n_trial):\n",
    "            x = np.random.binomial(1,0.4)\n",
    "            trial.append(x)\n",
    "        dist_shots.append(trial)\n",
    "    return dist_shots"
   ]
  },
  {
   "cell_type": "code",
   "execution_count": 33,
   "id": "df58afe1",
   "metadata": {
    "execution": {
     "iopub.execute_input": "2021-04-30T14:09:13.965405Z",
     "iopub.status.busy": "2021-04-30T14:09:13.964769Z",
     "iopub.status.idle": "2021-04-30T14:09:14.211289Z",
     "shell.execute_reply": "2021-04-30T14:09:14.210798Z",
     "shell.execute_reply.started": "2021-04-30T14:09:13.965332Z"
    },
    "tags": []
   },
   "outputs": [],
   "source": [
    "dist_shots_3shots = basketball_throws_3shots()"
   ]
  },
  {
   "cell_type": "code",
   "execution_count": 34,
   "id": "5c3137a9",
   "metadata": {
    "execution": {
     "iopub.execute_input": "2021-04-30T14:09:14.324923Z",
     "iopub.status.busy": "2021-04-30T14:09:14.324557Z",
     "iopub.status.idle": "2021-04-30T14:09:14.333589Z",
     "shell.execute_reply": "2021-04-30T14:09:14.332452Z",
     "shell.execute_reply.started": "2021-04-30T14:09:14.324882Z"
    },
    "tags": []
   },
   "outputs": [],
   "source": [
    "shots_made = [sum(x) for x in dist_shots_3shots]"
   ]
  },
  {
   "cell_type": "code",
   "execution_count": 35,
   "id": "d95a29df",
   "metadata": {
    "execution": {
     "iopub.execute_input": "2021-04-30T14:09:14.543020Z",
     "iopub.status.busy": "2021-04-30T14:09:14.542320Z",
     "iopub.status.idle": "2021-04-30T14:09:14.554136Z",
     "shell.execute_reply": "2021-04-30T14:09:14.552216Z",
     "shell.execute_reply.started": "2021-04-30T14:09:14.542945Z"
    },
    "tags": []
   },
   "outputs": [],
   "source": [
    "exact_3_shots = np.where(np.array(shots_made)==3, 1, 0)"
   ]
  },
  {
   "cell_type": "code",
   "execution_count": 36,
   "id": "01b515f6",
   "metadata": {
    "execution": {
     "iopub.execute_input": "2021-04-30T14:09:14.737426Z",
     "iopub.status.busy": "2021-04-30T14:09:14.736779Z",
     "iopub.status.idle": "2021-04-30T14:09:14.748553Z",
     "shell.execute_reply": "2021-04-30T14:09:14.747254Z",
     "shell.execute_reply.started": "2021-04-30T14:09:14.737351Z"
    },
    "tags": []
   },
   "outputs": [
    {
     "data": {
      "text/plain": [
       "0.2118"
      ]
     },
     "execution_count": 36,
     "metadata": {},
     "output_type": "execute_result"
    }
   ],
   "source": [
    "exact_3_shots.sum()/len(exact_3_shots)"
   ]
  },
  {
   "cell_type": "markdown",
   "id": "70f7cad7",
   "metadata": {},
   "source": [
    "pretty close"
   ]
  },
  {
   "cell_type": "code",
   "execution_count": 37,
   "id": "3d852824",
   "metadata": {
    "execution": {
     "iopub.execute_input": "2021-04-30T14:09:15.379998Z",
     "iopub.status.busy": "2021-04-30T14:09:15.379827Z",
     "iopub.status.idle": "2021-04-30T14:09:15.383897Z",
     "shell.execute_reply": "2021-04-30T14:09:15.383324Z",
     "shell.execute_reply.started": "2021-04-30T14:09:15.379981Z"
    },
    "tags": []
   },
   "outputs": [],
   "source": [
    "empirical_error = np.sqrt(exact_3_shots.sum()/len(exact_3_shots)*(1-exact_3_shots.sum()/len(exact_3_shots))/len(exact_3_shots))"
   ]
  },
  {
   "cell_type": "code",
   "execution_count": 38,
   "id": "4dbf49d2",
   "metadata": {
    "execution": {
     "iopub.execute_input": "2021-04-30T14:09:15.568296Z",
     "iopub.status.busy": "2021-04-30T14:09:15.567631Z",
     "iopub.status.idle": "2021-04-30T14:09:15.578818Z",
     "shell.execute_reply": "2021-04-30T14:09:15.577033Z",
     "shell.execute_reply.started": "2021-04-30T14:09:15.568220Z"
    },
    "tags": []
   },
   "outputs": [
    {
     "data": {
      "text/plain": [
       "0.0040858384696412075"
      ]
     },
     "execution_count": 38,
     "metadata": {},
     "output_type": "execute_result"
    }
   ],
   "source": [
    "empirical_error"
   ]
  },
  {
   "cell_type": "code",
   "execution_count": 39,
   "id": "934a3bad",
   "metadata": {
    "execution": {
     "iopub.execute_input": "2021-04-30T14:09:15.740926Z",
     "iopub.status.busy": "2021-04-30T14:09:15.740323Z",
     "iopub.status.idle": "2021-04-30T14:09:15.751296Z",
     "shell.execute_reply": "2021-04-30T14:09:15.749457Z",
     "shell.execute_reply.started": "2021-04-30T14:09:15.740859Z"
    },
    "tags": []
   },
   "outputs": [
    {
     "data": {
      "text/plain": [
       "0.2077283230607176"
      ]
     },
     "execution_count": 39,
     "metadata": {},
     "output_type": "execute_result"
    }
   ],
   "source": [
    "0.2159-2*empirical_error"
   ]
  },
  {
   "cell_type": "code",
   "execution_count": 40,
   "id": "f38f30f7",
   "metadata": {
    "execution": {
     "iopub.execute_input": "2021-04-30T14:09:16.036601Z",
     "iopub.status.busy": "2021-04-30T14:09:16.035958Z",
     "iopub.status.idle": "2021-04-30T14:09:16.047420Z",
     "shell.execute_reply": "2021-04-30T14:09:16.045635Z",
     "shell.execute_reply.started": "2021-04-30T14:09:16.036527Z"
    },
    "tags": []
   },
   "outputs": [
    {
     "data": {
      "text/plain": [
       "0.22407167693928243"
      ]
     },
     "execution_count": 40,
     "metadata": {},
     "output_type": "execute_result"
    }
   ],
   "source": [
    "0.2159+2*empirical_error"
   ]
  },
  {
   "cell_type": "code",
   "execution_count": 41,
   "id": "969538c3",
   "metadata": {
    "execution": {
     "iopub.execute_input": "2021-04-30T14:09:16.215525Z",
     "iopub.status.busy": "2021-04-30T14:09:16.214889Z",
     "iopub.status.idle": "2021-04-30T14:09:16.226001Z",
     "shell.execute_reply": "2021-04-30T14:09:16.223956Z",
     "shell.execute_reply.started": "2021-04-30T14:09:16.215451Z"
    },
    "tags": []
   },
   "outputs": [],
   "source": [
    "mean = np.mean(np.array(shots_made)-3)"
   ]
  },
  {
   "cell_type": "code",
   "execution_count": 42,
   "id": "9e311444",
   "metadata": {
    "execution": {
     "iopub.execute_input": "2021-04-30T14:09:16.747867Z",
     "iopub.status.busy": "2021-04-30T14:09:16.747543Z",
     "iopub.status.idle": "2021-04-30T14:09:16.751063Z",
     "shell.execute_reply": "2021-04-30T14:09:16.750541Z",
     "shell.execute_reply.started": "2021-04-30T14:09:16.747847Z"
    },
    "tags": []
   },
   "outputs": [
    {
     "data": {
      "text/plain": [
       "1.0025"
      ]
     },
     "execution_count": 42,
     "metadata": {},
     "output_type": "execute_result"
    }
   ],
   "source": [
    "mean"
   ]
  },
  {
   "cell_type": "code",
   "execution_count": 43,
   "id": "63e4e91d",
   "metadata": {
    "execution": {
     "iopub.execute_input": "2021-04-30T14:09:16.963395Z",
     "iopub.status.busy": "2021-04-30T14:09:16.962747Z",
     "iopub.status.idle": "2021-04-30T14:09:16.974415Z",
     "shell.execute_reply": "2021-04-30T14:09:16.972254Z",
     "shell.execute_reply.started": "2021-04-30T14:09:16.963322Z"
    },
    "tags": []
   },
   "outputs": [],
   "source": [
    "sigma = np.std(np.array(shots_made) - 3) #note np.std is standard error, it divides by the sqrt(n)"
   ]
  },
  {
   "cell_type": "code",
   "execution_count": 44,
   "id": "4e6cbb4a",
   "metadata": {
    "execution": {
     "iopub.execute_input": "2021-04-30T14:09:17.165307Z",
     "iopub.status.busy": "2021-04-30T14:09:17.164677Z",
     "iopub.status.idle": "2021-04-30T14:09:18.155933Z",
     "shell.execute_reply": "2021-04-30T14:09:18.153962Z",
     "shell.execute_reply.started": "2021-04-30T14:09:17.165234Z"
    },
    "tags": []
   },
   "outputs": [
    {
     "data": {
      "text/plain": [
       "1.5616957930403732"
      ]
     },
     "execution_count": 44,
     "metadata": {},
     "output_type": "execute_result"
    }
   ],
   "source": [
    "sigma"
   ]
  },
  {
   "cell_type": "code",
   "execution_count": 45,
   "id": "0d0d3545",
   "metadata": {
    "execution": {
     "iopub.execute_input": "2021-04-30T14:09:18.159502Z",
     "iopub.status.busy": "2021-04-30T14:09:18.158889Z",
     "iopub.status.idle": "2021-04-30T14:09:18.212111Z",
     "shell.execute_reply": "2021-04-30T14:09:18.211602Z",
     "shell.execute_reply.started": "2021-04-30T14:09:18.159430Z"
    },
    "tags": []
   },
   "outputs": [],
   "source": [
    "z = (0-mean)/sigma"
   ]
  },
  {
   "cell_type": "code",
   "execution_count": 46,
   "id": "df4bc388",
   "metadata": {
    "execution": {
     "iopub.execute_input": "2021-04-30T14:09:18.213073Z",
     "iopub.status.busy": "2021-04-30T14:09:18.212902Z",
     "iopub.status.idle": "2021-04-30T14:09:18.314886Z",
     "shell.execute_reply": "2021-04-30T14:09:18.312973Z",
     "shell.execute_reply.started": "2021-04-30T14:09:18.213055Z"
    },
    "tags": []
   },
   "outputs": [
    {
     "data": {
      "text/plain": [
       "0.324660307703468"
      ]
     },
     "execution_count": 46,
     "metadata": {},
     "output_type": "execute_result"
    }
   ],
   "source": [
    "stats.norm.pdf(z)"
   ]
  },
  {
   "cell_type": "markdown",
   "id": "b4c18790",
   "metadata": {},
   "source": [
    "Very much skewed. I think this is what's happening in the above example as well, when we cannot just approximate everything by normal, because there was a binomial process involved to select male/female distribution"
   ]
  },
  {
   "cell_type": "markdown",
   "id": "66ce3609",
   "metadata": {},
   "source": [
    "# 5.4 Demonstration of the CLT"
   ]
  },
  {
   "cell_type": "code",
   "execution_count": 47,
   "id": "9f813fa2",
   "metadata": {
    "execution": {
     "iopub.execute_input": "2021-04-30T14:11:13.763299Z",
     "iopub.status.busy": "2021-04-30T14:11:13.763127Z",
     "iopub.status.idle": "2021-04-30T14:11:13.766424Z",
     "shell.execute_reply": "2021-04-30T14:11:13.765855Z",
     "shell.execute_reply.started": "2021-04-30T14:11:13.763281Z"
    },
    "tags": []
   },
   "outputs": [],
   "source": [
    "def clt_sim(n_sim, n_trials=20):\n",
    "    x = []\n",
    "    for i in range(0, n_sim):\n",
    "        x_j = 0\n",
    "        for j in range(0, n_trials):\n",
    "            x_j = x_j+np.random.uniform(0,1)\n",
    "        x.append(x_j)\n",
    "    return x"
   ]
  },
  {
   "cell_type": "code",
   "execution_count": 48,
   "id": "321dffba",
   "metadata": {
    "execution": {
     "iopub.execute_input": "2021-04-30T14:11:13.959630Z",
     "iopub.status.busy": "2021-04-30T14:11:13.958974Z",
     "iopub.status.idle": "2021-04-30T14:11:14.028853Z",
     "shell.execute_reply": "2021-04-30T14:11:14.028349Z",
     "shell.execute_reply.started": "2021-04-30T14:11:13.959555Z"
    },
    "tags": []
   },
   "outputs": [],
   "source": [
    "x = clt_sim(1000)"
   ]
  },
  {
   "cell_type": "code",
   "execution_count": 49,
   "id": "0a999765",
   "metadata": {
    "execution": {
     "iopub.execute_input": "2021-04-30T14:11:14.154307Z",
     "iopub.status.busy": "2021-04-30T14:11:14.153654Z",
     "iopub.status.idle": "2021-04-30T14:11:14.162460Z",
     "shell.execute_reply": "2021-04-30T14:11:14.160572Z",
     "shell.execute_reply.started": "2021-04-30T14:11:14.154236Z"
    },
    "tags": []
   },
   "outputs": [],
   "source": [
    "mean = np.mean(x)\n",
    "sigma = np.std(x)"
   ]
  },
  {
   "cell_type": "code",
   "execution_count": 50,
   "id": "31a54d85",
   "metadata": {
    "execution": {
     "iopub.execute_input": "2021-04-30T14:11:14.342515Z",
     "iopub.status.busy": "2021-04-30T14:11:14.341855Z",
     "iopub.status.idle": "2021-04-30T14:11:14.352842Z",
     "shell.execute_reply": "2021-04-30T14:11:14.350975Z",
     "shell.execute_reply.started": "2021-04-30T14:11:14.342415Z"
    },
    "tags": []
   },
   "outputs": [
    {
     "data": {
      "text/plain": [
       "10.011537468628871"
      ]
     },
     "execution_count": 50,
     "metadata": {},
     "output_type": "execute_result"
    }
   ],
   "source": [
    "mean"
   ]
  },
  {
   "cell_type": "code",
   "execution_count": 51,
   "id": "28ef94e4",
   "metadata": {
    "execution": {
     "iopub.execute_input": "2021-04-30T14:11:14.538498Z",
     "iopub.status.busy": "2021-04-30T14:11:14.537842Z",
     "iopub.status.idle": "2021-04-30T14:11:14.549307Z",
     "shell.execute_reply": "2021-04-30T14:11:14.547320Z",
     "shell.execute_reply.started": "2021-04-30T14:11:14.538404Z"
    },
    "tags": []
   },
   "outputs": [
    {
     "data": {
      "text/plain": [
       "1.2929488131596638"
      ]
     },
     "execution_count": 51,
     "metadata": {},
     "output_type": "execute_result"
    }
   ],
   "source": [
    "sigma #note the actual sigma of the population is sigma*sqrt(n_trials)"
   ]
  },
  {
   "cell_type": "code",
   "execution_count": 52,
   "id": "84845573",
   "metadata": {
    "execution": {
     "iopub.execute_input": "2021-04-30T14:11:14.766800Z",
     "iopub.status.busy": "2021-04-30T14:11:14.766135Z",
     "iopub.status.idle": "2021-04-30T14:11:14.988812Z",
     "shell.execute_reply": "2021-04-30T14:11:14.988358Z",
     "shell.execute_reply.started": "2021-04-30T14:11:14.766726Z"
    },
    "tags": []
   },
   "outputs": [
    {
     "data": {
      "text/plain": [
       "[<matplotlib.lines.Line2D at 0x7f5e6d061340>]"
      ]
     },
     "execution_count": 52,
     "metadata": {},
     "output_type": "execute_result"
    },
    {
     "data": {
      "image/png": "[encoded data removed]",
      "text/plain": [
       "<Figure size 576x396 with 1 Axes>"
      ]
     },
     "metadata": {},
     "output_type": "display_data"
    }
   ],
   "source": [
    "plt.hist(x, bins = 100, density=True)\n",
    "plt.plot(np.linspace(6,15), stats.norm.pdf(np.linspace(6,15), mean,sigma))"
   ]
  },
  {
   "cell_type": "markdown",
   "id": "400488ca",
   "metadata": {},
   "source": [
    "More or less the same, but we are seeing some outliers here and there, there seem notably less distribution near the mean"
   ]
  },
  {
   "cell_type": "markdown",
   "id": "1c0341d6",
   "metadata": {},
   "source": [
    "# 5.5 Distribution of averages and differences"
   ]
  },
  {
   "cell_type": "code",
   "execution_count": 53,
   "id": "a6beecc0",
   "metadata": {
    "execution": {
     "iopub.execute_input": "2021-04-30T14:11:16.377526Z",
     "iopub.status.busy": "2021-04-30T14:11:16.376880Z",
     "iopub.status.idle": "2021-04-30T14:11:16.389600Z",
     "shell.execute_reply": "2021-04-30T14:11:16.388237Z",
     "shell.execute_reply.started": "2021-04-30T14:11:16.377450Z"
    },
    "tags": []
   },
   "outputs": [],
   "source": [
    "def height_sim(n_sim=1000, n_trial=100):\n",
    "    height_diff = []\n",
    "    for i in range(0, n_sim):\n",
    "        male_height = []\n",
    "        female_height = []\n",
    "        for j in range(0, n_trial):\n",
    "            male_height.append(np.random.normal(69.1, 2.9))\n",
    "            female_height.append(np.random.normal(63.7,2.7))\n",
    "        height_diff.append(np.mean(male_height)-np.mean(female_height))\n",
    "    return height_diff"
   ]
  },
  {
   "cell_type": "code",
   "execution_count": 54,
   "id": "cbcf4b44",
   "metadata": {
    "execution": {
     "iopub.execute_input": "2021-04-30T14:11:16.561165Z",
     "iopub.status.busy": "2021-04-30T14:11:16.560540Z",
     "iopub.status.idle": "2021-04-30T14:11:17.023958Z",
     "shell.execute_reply": "2021-04-30T14:11:17.023472Z",
     "shell.execute_reply.started": "2021-04-30T14:11:16.561092Z"
    },
    "tags": []
   },
   "outputs": [],
   "source": [
    "height_diff = height_sim()"
   ]
  },
  {
   "cell_type": "code",
   "execution_count": 55,
   "id": "80093563",
   "metadata": {
    "execution": {
     "iopub.execute_input": "2021-04-30T14:11:17.024811Z",
     "iopub.status.busy": "2021-04-30T14:11:17.024619Z",
     "iopub.status.idle": "2021-04-30T14:11:17.028130Z",
     "shell.execute_reply": "2021-04-30T14:11:17.027585Z",
     "shell.execute_reply.started": "2021-04-30T14:11:17.024795Z"
    },
    "tags": []
   },
   "outputs": [
    {
     "name": "stdout",
     "output_type": "stream",
     "text": [
      "simulated x-y mean is 5.385900605945135, simulated x-y std is 0.4038015317607049\n",
      "        actual x-y mean is 5.3999999999999915, actual x-y std is 3.96232255123179\n",
      "        \n"
     ]
    }
   ],
   "source": [
    "print(f\"\"\"simulated x-y mean is {np.mean(height_diff)}, simulated x-y std is {np.std(height_diff)}\n",
    "        actual x-y mean is {69.1-63.7}, actual x-y std is {np.sqrt(np.power(2.9,2)+np.power(2.7,2))}\n",
    "        \"\"\")"
   ]
  },
  {
   "cell_type": "markdown",
   "id": "3437a5f9",
   "metadata": {},
   "source": [
    "The standard deviation is way off, but that's because we are using standard error rather than standard deviation"
   ]
  },
  {
   "cell_type": "code",
   "execution_count": 56,
   "id": "17e698c0",
   "metadata": {
    "execution": {
     "iopub.execute_input": "2021-04-30T14:11:17.606226Z",
     "iopub.status.busy": "2021-04-30T14:11:17.605586Z",
     "iopub.status.idle": "2021-04-30T14:11:17.611627Z",
     "shell.execute_reply": "2021-04-30T14:11:17.611226Z",
     "shell.execute_reply.started": "2021-04-30T14:11:17.606153Z"
    },
    "tags": []
   },
   "outputs": [
    {
     "data": {
      "text/plain": [
       "4.038015317607049"
      ]
     },
     "execution_count": 56,
     "metadata": {},
     "output_type": "execute_result"
    }
   ],
   "source": [
    "np.std(height_diff)*np.sqrt(100) #we are using the 100 trial"
   ]
  },
  {
   "cell_type": "code",
   "execution_count": 57,
   "id": "dbb8a649",
   "metadata": {
    "execution": {
     "iopub.execute_input": "2021-04-30T14:11:18.217365Z",
     "iopub.status.busy": "2021-04-30T14:11:18.216715Z",
     "iopub.status.idle": "2021-04-30T14:11:18.355092Z",
     "shell.execute_reply": "2021-04-30T14:11:18.354635Z",
     "shell.execute_reply.started": "2021-04-30T14:11:18.217291Z"
    },
    "tags": []
   },
   "outputs": [
    {
     "data": {
      "text/plain": [
       "(array([ 14.,  62., 133., 215., 241., 165., 105.,  46.,  14.,   5.]),\n",
       " array([4.32483012, 4.56788544, 4.81094077, 5.0539961 , 5.29705142,\n",
       "        5.54010675, 5.78316207, 6.0262174 , 6.26927273, 6.51232805,\n",
       "        6.75538338]),\n",
       " <a list of 10 Patch objects>)"
      ]
     },
     "execution_count": 57,
     "metadata": {},
     "output_type": "execute_result"
    },
    {
     "data": {
      "image/png": "[encoded data removed]",
      "text/plain": [
       "<Figure size 576x396 with 1 Axes>"
      ]
     },
     "metadata": {},
     "output_type": "display_data"
    }
   ],
   "source": [
    "plt.hist(height_diff)"
   ]
  },
  {
   "cell_type": "markdown",
   "id": "d16f4ede",
   "metadata": {},
   "source": [
    "# 5.6 Propagation of Uncertainty"
   ]
  },
  {
   "cell_type": "code",
   "execution_count": 83,
   "id": "dbb6f16c",
   "metadata": {
    "execution": {
     "iopub.execute_input": "2021-04-30T14:34:42.631146Z",
     "iopub.status.busy": "2021-04-30T14:34:42.630979Z",
     "iopub.status.idle": "2021-04-30T14:34:42.634906Z",
     "shell.execute_reply": "2021-04-30T14:34:42.634334Z",
     "shell.execute_reply.started": "2021-04-30T14:34:42.631129Z"
    },
    "tags": []
   },
   "outputs": [],
   "source": [
    "def cost_saving(trials = 10000, saving_per_unit = 5, error_saving = 4, volume = 40000, error = 10000):\n",
    "    trial_results = []\n",
    "    volume_results = []\n",
    "    unit_saving_results = []\n",
    "    for i in range(0, trials):\n",
    "        unit_saving = np.random.normal(saving_per_unit, error_saving)\n",
    "        unit_saving_results.append(unit_saving)\n",
    "        volume_num = np.random.normal(volume, error)\n",
    "        volume_results.append(volume_num)\n",
    "        trial_results.append(unit_saving*volume)\n",
    "    return trial_results, unit_saving_results, volume_results"
   ]
  },
  {
   "cell_type": "code",
   "execution_count": 84,
   "id": "ad44de9a",
   "metadata": {
    "execution": {
     "iopub.execute_input": "2021-04-30T14:34:43.196466Z",
     "iopub.status.busy": "2021-04-30T14:34:43.195656Z",
     "iopub.status.idle": "2021-04-30T14:34:43.248253Z",
     "shell.execute_reply": "2021-04-30T14:34:43.247789Z",
     "shell.execute_reply.started": "2021-04-30T14:34:43.196387Z"
    },
    "tags": []
   },
   "outputs": [],
   "source": [
    "trial_results, unit_saving_results, volume_results = cost_saving()"
   ]
  },
  {
   "cell_type": "code",
   "execution_count": 85,
   "id": "d9c7acbc",
   "metadata": {
    "execution": {
     "iopub.execute_input": "2021-04-30T14:34:43.709216Z",
     "iopub.status.busy": "2021-04-30T14:34:43.708578Z",
     "iopub.status.idle": "2021-04-30T14:34:43.721907Z",
     "shell.execute_reply": "2021-04-30T14:34:43.720280Z",
     "shell.execute_reply.started": "2021-04-30T14:34:43.709141Z"
    },
    "tags": []
   },
   "outputs": [
    {
     "data": {
      "text/plain": [
       "202219.72319519348"
      ]
     },
     "execution_count": 85,
     "metadata": {},
     "output_type": "execute_result"
    }
   ],
   "source": [
    "np.mean(trial_results)"
   ]
  },
  {
   "cell_type": "code",
   "execution_count": 86,
   "id": "75a4e8a5",
   "metadata": {
    "execution": {
     "iopub.execute_input": "2021-04-30T14:34:44.681225Z",
     "iopub.status.busy": "2021-04-30T14:34:44.680589Z",
     "iopub.status.idle": "2021-04-30T14:34:44.695331Z",
     "shell.execute_reply": "2021-04-30T14:34:44.693953Z",
     "shell.execute_reply.started": "2021-04-30T14:34:44.681151Z"
    },
    "tags": []
   },
   "outputs": [
    {
     "data": {
      "text/plain": [
       "160531.52865776123"
      ]
     },
     "execution_count": 86,
     "metadata": {},
     "output_type": "execute_result"
    }
   ],
   "source": [
    "np.std(trial_results)"
   ]
  },
  {
   "cell_type": "markdown",
   "id": "458001a2",
   "metadata": {},
   "source": [
    "Actual error is \n",
    "$\\frac{\\delta q}{Q} = \\sqrt{ (\\frac{\\delta a}{a})^2  + (\\frac{\\delta b}{b})^2}$"
   ]
  },
  {
   "cell_type": "code",
   "execution_count": 64,
   "id": "60c85170",
   "metadata": {
    "execution": {
     "iopub.execute_input": "2021-04-30T14:22:29.975366Z",
     "iopub.status.busy": "2021-04-30T14:22:29.974741Z",
     "iopub.status.idle": "2021-04-30T14:22:29.984124Z",
     "shell.execute_reply": "2021-04-30T14:22:29.983095Z",
     "shell.execute_reply.started": "2021-04-30T14:22:29.975295Z"
    }
   },
   "outputs": [
    {
     "data": {
      "text/plain": [
       "167630.5461424021"
      ]
     },
     "execution_count": 64,
     "metadata": {},
     "output_type": "execute_result"
    }
   ],
   "source": [
    "np.sqrt(np.power(4.0/5.0,2)+np.power(10000/40000.0, 2))*(5*40000)"
   ]
  },
  {
   "cell_type": "code",
   "execution_count": 75,
   "id": "ff3befaf",
   "metadata": {
    "execution": {
     "iopub.execute_input": "2021-04-30T14:31:54.481651Z",
     "iopub.status.busy": "2021-04-30T14:31:54.481019Z",
     "iopub.status.idle": "2021-04-30T14:31:54.491709Z",
     "shell.execute_reply": "2021-04-30T14:31:54.489858Z",
     "shell.execute_reply.started": "2021-04-30T14:31:54.481572Z"
    }
   },
   "outputs": [
    {
     "data": {
      "text/plain": [
       "200000"
      ]
     },
     "execution_count": 75,
     "metadata": {},
     "output_type": "execute_result"
    }
   ],
   "source": [
    "5*40000"
   ]
  },
  {
   "cell_type": "markdown",
   "id": "88b9c729",
   "metadata": {},
   "source": [
    "# 5.7 Coverage of confidence intervals\n",
    "\n",
    "So we assume it's normal"
   ]
  },
  {
   "cell_type": "code",
   "execution_count": 124,
   "id": "40379050",
   "metadata": {
    "execution": {
     "iopub.execute_input": "2021-04-30T14:57:26.164589Z",
     "iopub.status.busy": "2021-04-30T14:57:26.164418Z",
     "iopub.status.idle": "2021-04-30T14:57:26.168097Z",
     "shell.execute_reply": "2021-04-30T14:57:26.167478Z",
     "shell.execute_reply.started": "2021-04-30T14:57:26.164571Z"
    },
    "tags": []
   },
   "outputs": [],
   "source": [
    "def simulate_conf_int(n_trials = 100, mu = 6, sigma = 4):\n",
    "    x = np.linspace(0, n_trials,n_trials)\n",
    "    y = []\n",
    "    for i in range(0, n_trials):\n",
    "        y.append(np.random.normal(mu,sigma))\n",
    "    y_conf_50 = np.array(y)*0.67*sigma\n",
    "    y_conf_95 = np.array(y)*2*sigma\n",
    "    return x,np.array(y), y_conf_50, y_conf_95"
   ]
  },
  {
   "cell_type": "code",
   "execution_count": 125,
   "id": "4b90ed27",
   "metadata": {
    "execution": {
     "iopub.execute_input": "2021-04-30T14:57:35.103766Z",
     "iopub.status.busy": "2021-04-30T14:57:35.103124Z",
     "iopub.status.idle": "2021-04-30T14:57:35.108953Z",
     "shell.execute_reply": "2021-04-30T14:57:35.108396Z",
     "shell.execute_reply.started": "2021-04-30T14:57:35.103693Z"
    },
    "tags": []
   },
   "outputs": [],
   "source": [
    "x,y,y_conf_50, y_conf_95 = simulate_conf_int()"
   ]
  },
  {
   "cell_type": "code",
   "execution_count": 126,
   "id": "36799316",
   "metadata": {
    "execution": {
     "iopub.execute_input": "2021-04-30T14:58:04.411480Z",
     "iopub.status.busy": "2021-04-30T14:58:04.411319Z",
     "iopub.status.idle": "2021-04-30T14:58:04.516730Z",
     "shell.execute_reply": "2021-04-30T14:58:04.516281Z",
     "shell.execute_reply.started": "2021-04-30T14:58:04.411464Z"
    },
    "tags": []
   },
   "outputs": [
    {
     "data": {
      "text/plain": [
       "<ErrorbarContainer object of 3 artists>"
      ]
     },
     "execution_count": 126,
     "metadata": {},
     "output_type": "execute_result"
    },
    {
     "data": {
      "image/png": "[encoded data removed]",
      "text/plain": [
       "<Figure size 576x396 with 1 Axes>"
      ]
     },
     "metadata": {},
     "output_type": "display_data"
    }
   ],
   "source": [
    "plt.errorbar(x,y,yerr=y_conf_95, fmt='-o')\n",
    "plt.errorbar(x,y,yerr=y_conf_50, fmt='-o')"
   ]
  },
  {
   "cell_type": "markdown",
   "id": "4145ee8f",
   "metadata": {},
   "source": [
    "# 5.8 Converage of confidence intervals"
   ]
  },
  {
   "cell_type": "markdown",
   "id": "4cb7032d",
   "metadata": {},
   "source": [
    "a) simulate 1000 times, b) for each simulation check 95 confidence interval"
   ]
  },
  {
   "cell_type": "code",
   "execution_count": 163,
   "id": "8e690c87",
   "metadata": {
    "execution": {
     "iopub.execute_input": "2021-04-30T15:12:04.213184Z",
     "iopub.status.busy": "2021-04-30T15:12:04.212893Z",
     "iopub.status.idle": "2021-04-30T15:12:04.217478Z",
     "shell.execute_reply": "2021-04-30T15:12:04.216780Z",
     "shell.execute_reply.started": "2021-04-30T15:12:04.213151Z"
    },
    "tags": []
   },
   "outputs": [],
   "source": [
    "def simulate_study(n_trials = 1000, mu = 0.10, sigma = 0.17):\n",
    "    results = []\n",
    "    for i in range(0, n_trials):\n",
    "        results.append(np.random.normal(mu, sigma))\n",
    "    return results"
   ]
  },
  {
   "cell_type": "code",
   "execution_count": 164,
   "id": "39b91f2e",
   "metadata": {
    "execution": {
     "iopub.execute_input": "2021-04-30T15:12:04.345206Z",
     "iopub.status.busy": "2021-04-30T15:12:04.345003Z",
     "iopub.status.idle": "2021-04-30T15:12:04.350855Z",
     "shell.execute_reply": "2021-04-30T15:12:04.350171Z",
     "shell.execute_reply.started": "2021-04-30T15:12:04.345185Z"
    },
    "tags": []
   },
   "outputs": [],
   "source": [
    "results = simulate_study()"
   ]
  },
  {
   "cell_type": "code",
   "execution_count": 165,
   "id": "03be0eab",
   "metadata": {
    "execution": {
     "iopub.execute_input": "2021-04-30T15:12:09.659312Z",
     "iopub.status.busy": "2021-04-30T15:12:09.658678Z",
     "iopub.status.idle": "2021-04-30T15:12:09.666606Z",
     "shell.execute_reply": "2021-04-30T15:12:09.664673Z",
     "shell.execute_reply.started": "2021-04-30T15:12:09.659238Z"
    },
    "tags": []
   },
   "outputs": [],
   "source": [
    "mu = 0.10"
   ]
  },
  {
   "cell_type": "code",
   "execution_count": 166,
   "id": "6c56fc52",
   "metadata": {
    "execution": {
     "iopub.execute_input": "2021-04-30T15:12:09.823939Z",
     "iopub.status.busy": "2021-04-30T15:12:09.823303Z",
     "iopub.status.idle": "2021-04-30T15:12:10.909004Z",
     "shell.execute_reply": "2021-04-30T15:12:10.906937Z",
     "shell.execute_reply.started": "2021-04-30T15:12:09.823864Z"
    },
    "tags": []
   },
   "outputs": [],
   "source": [
    "sigma = 0.17"
   ]
  },
  {
   "cell_type": "code",
   "execution_count": 167,
   "id": "c63efce6",
   "metadata": {
    "execution": {
     "iopub.execute_input": "2021-04-30T15:12:10.912617Z",
     "iopub.status.busy": "2021-04-30T15:12:10.912036Z",
     "iopub.status.idle": "2021-04-30T15:12:10.994657Z",
     "shell.execute_reply": "2021-04-30T15:12:10.992575Z",
     "shell.execute_reply.started": "2021-04-30T15:12:10.912548Z"
    },
    "tags": []
   },
   "outputs": [],
   "source": [
    "success = 0\n",
    "for i in results:\n",
    "    if mu >= i-2*sigma and mu<=i+2*sigma:\n",
    "        success+=1"
   ]
  },
  {
   "cell_type": "code",
   "execution_count": 168,
   "id": "1a4924b9",
   "metadata": {
    "execution": {
     "iopub.execute_input": "2021-04-30T15:12:10.998785Z",
     "iopub.status.busy": "2021-04-30T15:12:10.998160Z",
     "iopub.status.idle": "2021-04-30T15:12:11.080961Z",
     "shell.execute_reply": "2021-04-30T15:12:11.078964Z",
     "shell.execute_reply.started": "2021-04-30T15:12:10.998710Z"
    },
    "tags": []
   },
   "outputs": [
    {
     "data": {
      "text/plain": [
       "953"
      ]
     },
     "execution_count": 168,
     "metadata": {},
     "output_type": "execute_result"
    }
   ],
   "source": [
    "success"
   ]
  },
  {
   "cell_type": "code",
   "execution_count": 169,
   "id": "4215b27a",
   "metadata": {
    "execution": {
     "iopub.execute_input": "2021-04-30T15:12:29.180158Z",
     "iopub.status.busy": "2021-04-30T15:12:29.179538Z",
     "iopub.status.idle": "2021-04-30T15:12:29.189345Z",
     "shell.execute_reply": "2021-04-30T15:12:29.187964Z",
     "shell.execute_reply.started": "2021-04-30T15:12:29.180085Z"
    }
   },
   "outputs": [
    {
     "data": {
      "text/plain": [
       "0.10428315468013404"
      ]
     },
     "execution_count": 169,
     "metadata": {},
     "output_type": "execute_result"
    }
   ],
   "source": [
    "np.mean(results)"
   ]
  },
  {
   "cell_type": "code",
   "execution_count": 170,
   "id": "50712f7d",
   "metadata": {
    "execution": {
     "iopub.execute_input": "2021-04-30T15:12:32.056689Z",
     "iopub.status.busy": "2021-04-30T15:12:32.056529Z",
     "iopub.status.idle": "2021-04-30T15:12:32.060008Z",
     "shell.execute_reply": "2021-04-30T15:12:32.059511Z",
     "shell.execute_reply.started": "2021-04-30T15:12:32.056673Z"
    }
   },
   "outputs": [
    {
     "data": {
      "text/plain": [
       "0.17220841037263154"
      ]
     },
     "execution_count": 170,
     "metadata": {},
     "output_type": "execute_result"
    }
   ],
   "source": [
    "np.std(results)"
   ]
  },
  {
   "cell_type": "markdown",
   "id": "81138b47",
   "metadata": {},
   "source": [
    "# 5.9 Coverage of confidence interval after selection on statistical significance"
   ]
  },
  {
   "cell_type": "code",
   "execution_count": 211,
   "id": "bc7a3f17",
   "metadata": {
    "execution": {
     "iopub.execute_input": "2021-04-30T15:30:35.066578Z",
     "iopub.status.busy": "2021-04-30T15:30:35.066106Z",
     "iopub.status.idle": "2021-04-30T15:30:35.072488Z",
     "shell.execute_reply": "2021-04-30T15:30:35.071430Z",
     "shell.execute_reply.started": "2021-04-30T15:30:35.066526Z"
    },
    "tags": []
   },
   "outputs": [],
   "source": [
    "sig_results = []\n",
    "for result in results:\n",
    "    if abs(result)/sigma > 1.96:\n",
    "        sig_results.append(result)"
   ]
  },
  {
   "cell_type": "code",
   "execution_count": 212,
   "id": "54781d8d",
   "metadata": {
    "execution": {
     "iopub.execute_input": "2021-04-30T15:30:35.485788Z",
     "iopub.status.busy": "2021-04-30T15:30:35.485611Z",
     "iopub.status.idle": "2021-04-30T15:30:35.556398Z",
     "shell.execute_reply": "2021-04-30T15:30:35.555765Z",
     "shell.execute_reply.started": "2021-04-30T15:30:35.485771Z"
    },
    "tags": []
   },
   "outputs": [
    {
     "data": {
      "text/plain": [
       "103"
      ]
     },
     "execution_count": 212,
     "metadata": {},
     "output_type": "execute_result"
    }
   ],
   "source": [
    "len(sig_results)"
   ]
  },
  {
   "cell_type": "code",
   "execution_count": 213,
   "id": "9ba72814",
   "metadata": {
    "execution": {
     "iopub.execute_input": "2021-04-30T15:30:35.981442Z",
     "iopub.status.busy": "2021-04-30T15:30:35.980804Z",
     "iopub.status.idle": "2021-04-30T15:30:35.992577Z",
     "shell.execute_reply": "2021-04-30T15:30:35.990521Z",
     "shell.execute_reply.started": "2021-04-30T15:30:35.981366Z"
    },
    "tags": []
   },
   "outputs": [
    {
     "data": {
      "text/plain": [
       "0.3660731748188591"
      ]
     },
     "execution_count": 213,
     "metadata": {},
     "output_type": "execute_result"
    }
   ],
   "source": [
    "np.mean(sig_results)"
   ]
  },
  {
   "cell_type": "code",
   "execution_count": 214,
   "id": "2b332171",
   "metadata": {
    "execution": {
     "iopub.execute_input": "2021-04-30T15:30:36.411435Z",
     "iopub.status.busy": "2021-04-30T15:30:36.410801Z",
     "iopub.status.idle": "2021-04-30T15:30:36.422540Z",
     "shell.execute_reply": "2021-04-30T15:30:36.420660Z",
     "shell.execute_reply.started": "2021-04-30T15:30:36.411362Z"
    },
    "tags": []
   },
   "outputs": [
    {
     "data": {
      "text/plain": [
       "0.2038357635231821"
      ]
     },
     "execution_count": 214,
     "metadata": {},
     "output_type": "execute_result"
    }
   ],
   "source": [
    "np.std(sig_results)"
   ]
  },
  {
   "cell_type": "markdown",
   "id": "26f7e0e0",
   "metadata": {},
   "source": [
    "Looks like this has a significantly different mean and std from the sampling distribution"
   ]
  },
  {
   "cell_type": "markdown",
   "id": "7ad90c03",
   "metadata": {},
   "source": [
    "So from p.15, we are saying that things are more likely to be reported when they _exclude_ zero, which in this case meant if the mean of each sample is statistically significantly different from 0 (i.e. z score assuming the mean is 0), then we get a very large effect"
   ]
  },
  {
   "cell_type": "markdown",
   "id": "01731f51",
   "metadata": {},
   "source": [
    "# 5.10 Inference for a ratio of parameters"
   ]
  },
  {
   "cell_type": "code",
   "execution_count": 239,
   "id": "ccb9a866",
   "metadata": {
    "execution": {
     "iopub.execute_input": "2021-04-30T15:49:33.306813Z",
     "iopub.status.busy": "2021-04-30T15:49:33.306618Z",
     "iopub.status.idle": "2021-04-30T15:49:33.310302Z",
     "shell.execute_reply": "2021-04-30T15:49:33.309528Z",
     "shell.execute_reply.started": "2021-04-30T15:49:33.306793Z"
    },
    "tags": []
   },
   "outputs": [],
   "source": [
    "def cost_trial(n_trial = 1000, mu = 600, sigma = 400):\n",
    "    results = []\n",
    "    for i in range(0, n_trial):\n",
    "        results.append(np.random.normal(mu, sigma))\n",
    "    return results"
   ]
  },
  {
   "cell_type": "code",
   "execution_count": 240,
   "id": "1f21badf",
   "metadata": {
    "execution": {
     "iopub.execute_input": "2021-04-30T15:49:33.488395Z",
     "iopub.status.busy": "2021-04-30T15:49:33.488123Z",
     "iopub.status.idle": "2021-04-30T15:49:33.492711Z",
     "shell.execute_reply": "2021-04-30T15:49:33.491802Z",
     "shell.execute_reply.started": "2021-04-30T15:49:33.488366Z"
    },
    "tags": []
   },
   "outputs": [],
   "source": [
    "def effective_trial(n_trial = 1000, mu = 3.0, sigma = 1.0):\n",
    "    results = []\n",
    "    for i in range(0, n_trial):\n",
    "        results.append(np.random.normal(mu, sigma))\n",
    "    return results"
   ]
  },
  {
   "cell_type": "code",
   "execution_count": 241,
   "id": "57536480",
   "metadata": {
    "execution": {
     "iopub.execute_input": "2021-04-30T15:49:33.716629Z",
     "iopub.status.busy": "2021-04-30T15:49:33.715977Z",
     "iopub.status.idle": "2021-04-30T15:49:33.743400Z",
     "shell.execute_reply": "2021-04-30T15:49:33.742312Z",
     "shell.execute_reply.started": "2021-04-30T15:49:33.716553Z"
    },
    "tags": []
   },
   "outputs": [],
   "source": [
    "cost_results = cost_trial()\n",
    "effect_results = effective_trial()"
   ]
  },
  {
   "cell_type": "code",
   "execution_count": 242,
   "id": "d5707691",
   "metadata": {
    "execution": {
     "iopub.execute_input": "2021-04-30T15:49:33.976725Z",
     "iopub.status.busy": "2021-04-30T15:49:33.976081Z",
     "iopub.status.idle": "2021-04-30T15:49:33.985845Z",
     "shell.execute_reply": "2021-04-30T15:49:33.983745Z",
     "shell.execute_reply.started": "2021-04-30T15:49:33.976651Z"
    },
    "tags": []
   },
   "outputs": [],
   "source": [
    "x = np.linspace(0, 1000, 1000)"
   ]
  },
  {
   "cell_type": "code",
   "execution_count": 243,
   "id": "918b36a0",
   "metadata": {
    "execution": {
     "iopub.execute_input": "2021-04-30T15:49:34.237492Z",
     "iopub.status.busy": "2021-04-30T15:49:34.236768Z",
     "iopub.status.idle": "2021-04-30T15:49:34.376255Z",
     "shell.execute_reply": "2021-04-30T15:49:34.375908Z",
     "shell.execute_reply.started": "2021-04-30T15:49:34.237413Z"
    },
    "tags": []
   },
   "outputs": [
    {
     "data": {
      "text/plain": [
       "<matplotlib.legend.Legend at 0x7f5e6aee58b0>"
      ]
     },
     "execution_count": 243,
     "metadata": {},
     "output_type": "execute_result"
    },
    {
     "data": {
      "image/png": "[encoded data removed]",
      "text/plain": [
       "<Figure size 576x396 with 1 Axes>"
      ]
     },
     "metadata": {},
     "output_type": "display_data"
    }
   ],
   "source": [
    "plt.scatter(x, cost_results, label='costs')\n",
    "plt.legend()"
   ]
  },
  {
   "cell_type": "code",
   "execution_count": 244,
   "id": "0d6bcade",
   "metadata": {
    "execution": {
     "iopub.execute_input": "2021-04-30T15:49:34.525672Z",
     "iopub.status.busy": "2021-04-30T15:49:34.525031Z",
     "iopub.status.idle": "2021-04-30T15:49:34.675404Z",
     "shell.execute_reply": "2021-04-30T15:49:34.674934Z",
     "shell.execute_reply.started": "2021-04-30T15:49:34.525598Z"
    },
    "tags": []
   },
   "outputs": [
    {
     "data": {
      "text/plain": [
       "<matplotlib.legend.Legend at 0x7f5e6bd1c2e0>"
      ]
     },
     "execution_count": 244,
     "metadata": {},
     "output_type": "execute_result"
    },
    {
     "data": {
      "image/png": "[encoded data removed]",
      "text/plain": [
       "<Figure size 576x396 with 1 Axes>"
      ]
     },
     "metadata": {},
     "output_type": "display_data"
    }
   ],
   "source": [
    "plt.scatter(x, effect_results, label='effectiveness')\n",
    "plt.legend()"
   ]
  },
  {
   "cell_type": "code",
   "execution_count": 245,
   "id": "56bfb10d",
   "metadata": {
    "execution": {
     "iopub.execute_input": "2021-04-30T15:49:35.093772Z",
     "iopub.status.busy": "2021-04-30T15:49:35.093084Z",
     "iopub.status.idle": "2021-04-30T15:49:35.098722Z",
     "shell.execute_reply": "2021-04-30T15:49:35.098188Z",
     "shell.execute_reply.started": "2021-04-30T15:49:35.093695Z"
    },
    "tags": []
   },
   "outputs": [],
   "source": [
    "cost_effective_results = np.array(cost_results)/np.array(effect_results)"
   ]
  },
  {
   "cell_type": "code",
   "execution_count": 246,
   "id": "a34df929",
   "metadata": {
    "execution": {
     "iopub.execute_input": "2021-04-30T15:49:35.676781Z",
     "iopub.status.busy": "2021-04-30T15:49:35.676614Z",
     "iopub.status.idle": "2021-04-30T15:49:35.772190Z",
     "shell.execute_reply": "2021-04-30T15:49:35.771742Z",
     "shell.execute_reply.started": "2021-04-30T15:49:35.676764Z"
    },
    "tags": []
   },
   "outputs": [
    {
     "data": {
      "text/plain": [
       "<matplotlib.collections.PathCollection at 0x7f5e694292e0>"
      ]
     },
     "execution_count": 246,
     "metadata": {},
     "output_type": "execute_result"
    },
    {
     "data": {
      "image/png": "[encoded data removed]",
      "text/plain": [
       "<Figure size 576x396 with 1 Axes>"
      ]
     },
     "metadata": {},
     "output_type": "display_data"
    }
   ],
   "source": [
    "plt.scatter(x, cost_effective_results)"
   ]
  },
  {
   "cell_type": "code",
   "execution_count": 247,
   "id": "94d85347",
   "metadata": {
    "execution": {
     "iopub.execute_input": "2021-04-30T15:49:36.777550Z",
     "iopub.status.busy": "2021-04-30T15:49:36.777359Z",
     "iopub.status.idle": "2021-04-30T15:49:36.781307Z",
     "shell.execute_reply": "2021-04-30T15:49:36.780823Z",
     "shell.execute_reply.started": "2021-04-30T15:49:36.777530Z"
    },
    "tags": []
   },
   "outputs": [
    {
     "data": {
      "text/plain": [
       "242.00756830497906"
      ]
     },
     "execution_count": 247,
     "metadata": {},
     "output_type": "execute_result"
    }
   ],
   "source": [
    "np.mean(cost_effective_results)"
   ]
  },
  {
   "cell_type": "code",
   "execution_count": 248,
   "id": "dbc59752",
   "metadata": {
    "execution": {
     "iopub.execute_input": "2021-04-30T15:49:37.425157Z",
     "iopub.status.busy": "2021-04-30T15:49:37.424993Z",
     "iopub.status.idle": "2021-04-30T15:49:37.429011Z",
     "shell.execute_reply": "2021-04-30T15:49:37.428420Z",
     "shell.execute_reply.started": "2021-04-30T15:49:37.425139Z"
    },
    "tags": []
   },
   "outputs": [
    {
     "data": {
      "text/plain": [
       "373.1570953754808"
      ]
     },
     "execution_count": 248,
     "metadata": {},
     "output_type": "execute_result"
    }
   ],
   "source": [
    "np.std(cost_effective_results)"
   ]
  },
  {
   "cell_type": "code",
   "execution_count": 251,
   "id": "9ada1d31",
   "metadata": {
    "execution": {
     "iopub.execute_input": "2021-04-30T15:50:29.241801Z",
     "iopub.status.busy": "2021-04-30T15:50:29.241641Z",
     "iopub.status.idle": "2021-04-30T15:50:29.246344Z",
     "shell.execute_reply": "2021-04-30T15:50:29.245919Z",
     "shell.execute_reply.started": "2021-04-30T15:50:29.241785Z"
    }
   },
   "outputs": [
    {
     "data": {
      "text/plain": [
       "180613.68249513852"
      ]
     },
     "execution_count": 251,
     "metadata": {},
     "output_type": "execute_result"
    }
   ],
   "source": [
    "np.mean(cost_effective_results)*2*np.std(cost_effective_results)"
   ]
  },
  {
   "cell_type": "code",
   "execution_count": 252,
   "id": "31d31692",
   "metadata": {
    "execution": {
     "iopub.execute_input": "2021-04-30T15:50:35.762454Z",
     "iopub.status.busy": "2021-04-30T15:50:35.762156Z",
     "iopub.status.idle": "2021-04-30T15:50:35.767802Z",
     "shell.execute_reply": "2021-04-30T15:50:35.767226Z",
     "shell.execute_reply.started": "2021-04-30T15:50:35.762407Z"
    }
   },
   "outputs": [
    {
     "data": {
      "text/plain": [
       "60505.58363587141"
      ]
     },
     "execution_count": 252,
     "metadata": {},
     "output_type": "execute_result"
    }
   ],
   "source": [
    "np.mean(cost_effective_results)*0.67*np.std(cost_effective_results)"
   ]
  },
  {
   "cell_type": "markdown",
   "id": "72085615",
   "metadata": {},
   "source": [
    "The cost effectiveness has a very wide range...."
   ]
  },
  {
   "cell_type": "code",
   "execution_count": null,
   "id": "6616bf8d",
   "metadata": {},
   "outputs": [],
   "source": []
  }
 ],
 "metadata": {
  "kernelspec": {
   "display_name": "Python [conda env:ros]",
   "language": "python",
   "name": "conda-env-ros-py"
  },
  "language_info": {
   "codemirror_mode": {
    "name": "ipython",
    "version": 3
   },
   "file_extension": ".py",
   "mimetype": "text/x-python",
   "name": "python",
   "nbconvert_exporter": "python",
   "pygments_lexer": "ipython3",
   "version": "3.8.8"
  }
 },
 "nbformat": 4,
 "nbformat_minor": 5
}
