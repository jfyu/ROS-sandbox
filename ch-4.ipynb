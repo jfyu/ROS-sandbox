{
 "cells": [
  {
   "cell_type": "code",
   "execution_count": 1,
   "id": "d57ab642",
   "metadata": {
    "execution": {
     "iopub.execute_input": "2021-04-05T19:17:44.788153Z",
     "iopub.status.busy": "2021-04-05T19:17:44.787943Z",
     "iopub.status.idle": "2021-04-05T19:17:51.792268Z",
     "shell.execute_reply": "2021-04-05T19:17:51.791761Z",
     "shell.execute_reply.started": "2021-04-05T19:17:44.788098Z"
    },
    "tags": []
   },
   "outputs": [],
   "source": [
    "import pandas as pd\n",
    "import numpy as np\n",
    "import matplotlib.pyplot as plt\n",
    "\n",
    "import scipy.stats as stats"
   ]
  },
  {
   "cell_type": "markdown",
   "id": "027e84e7",
   "metadata": {},
   "source": [
    "## inference for discrete data p. 54\n",
    "\n",
    "1000 randomly selected adults responding to questions about how many dogs they own. Q: what's the 95% confidence interval for the average number of dogs in the population"
   ]
  },
  {
   "cell_type": "code",
   "execution_count": 2,
   "id": "fae7c2fc",
   "metadata": {
    "execution": {
     "iopub.execute_input": "2021-04-05T19:17:51.793119Z",
     "iopub.status.busy": "2021-04-05T19:17:51.792994Z",
     "iopub.status.idle": "2021-04-05T19:17:51.818656Z",
     "shell.execute_reply": "2021-04-05T19:17:51.817883Z",
     "shell.execute_reply.started": "2021-04-05T19:17:51.793104Z"
    },
    "tags": []
   },
   "outputs": [],
   "source": [
    "df = pd.DataFrame(data={'n_dogs':[0,1,2,3,4], 'n_ppl':[600,300,50,30,20]})"
   ]
  },
  {
   "cell_type": "code",
   "execution_count": 3,
   "id": "7c321865",
   "metadata": {
    "execution": {
     "iopub.execute_input": "2021-04-05T19:17:51.819720Z",
     "iopub.status.busy": "2021-04-05T19:17:51.819577Z",
     "iopub.status.idle": "2021-04-05T19:17:52.081753Z",
     "shell.execute_reply": "2021-04-05T19:17:52.079710Z",
     "shell.execute_reply.started": "2021-04-05T19:17:51.819702Z"
    },
    "tags": []
   },
   "outputs": [
    {
     "data": {
      "text/html": [
       "<div>\n",
       "<style scoped>\n",
       "    .dataframe tbody tr th:only-of-type {\n",
       "        vertical-align: middle;\n",
       "    }\n",
       "\n",
       "    .dataframe tbody tr th {\n",
       "        vertical-align: top;\n",
       "    }\n",
       "\n",
       "    .dataframe thead th {\n",
       "        text-align: right;\n",
       "    }\n",
       "</style>\n",
       "<table border=\"1\" class=\"dataframe\">\n",
       "  <thead>\n",
       "    <tr style=\"text-align: right;\">\n",
       "      <th></th>\n",
       "      <th>n_dogs</th>\n",
       "      <th>n_ppl</th>\n",
       "    </tr>\n",
       "  </thead>\n",
       "  <tbody>\n",
       "    <tr>\n",
       "      <th>0</th>\n",
       "      <td>0</td>\n",
       "      <td>600</td>\n",
       "    </tr>\n",
       "    <tr>\n",
       "      <th>1</th>\n",
       "      <td>1</td>\n",
       "      <td>300</td>\n",
       "    </tr>\n",
       "    <tr>\n",
       "      <th>2</th>\n",
       "      <td>2</td>\n",
       "      <td>50</td>\n",
       "    </tr>\n",
       "    <tr>\n",
       "      <th>3</th>\n",
       "      <td>3</td>\n",
       "      <td>30</td>\n",
       "    </tr>\n",
       "    <tr>\n",
       "      <th>4</th>\n",
       "      <td>4</td>\n",
       "      <td>20</td>\n",
       "    </tr>\n",
       "  </tbody>\n",
       "</table>\n",
       "</div>"
      ],
      "text/plain": [
       "   n_dogs  n_ppl\n",
       "0       0    600\n",
       "1       1    300\n",
       "2       2     50\n",
       "3       3     30\n",
       "4       4     20"
      ]
     },
     "execution_count": 3,
     "metadata": {},
     "output_type": "execute_result"
    }
   ],
   "source": [
    "df"
   ]
  },
  {
   "cell_type": "markdown",
   "id": "c2749a89",
   "metadata": {},
   "source": [
    "Use formula $\\overline{y} = \\frac{1}{n}\\sum_{i=1}^{n}y_{i}$ where $n=1000$, $y_i = \\textrm{n_dogs}\\times\\textrm{n_ppl}$  "
   ]
  },
  {
   "cell_type": "code",
   "execution_count": 4,
   "id": "7131ceec",
   "metadata": {
    "execution": {
     "iopub.execute_input": "2021-04-05T19:17:52.085620Z",
     "iopub.status.busy": "2021-04-05T19:17:52.085002Z",
     "iopub.status.idle": "2021-04-05T19:17:52.301014Z",
     "shell.execute_reply": "2021-04-05T19:17:52.298969Z",
     "shell.execute_reply.started": "2021-04-05T19:17:52.085546Z"
    },
    "tags": []
   },
   "outputs": [
    {
     "data": {
      "text/plain": [
       "0.57"
      ]
     },
     "execution_count": 4,
     "metadata": {},
     "output_type": "execute_result"
    }
   ],
   "source": [
    "sum(df['n_dogs']*df['n_ppl'])/1000"
   ]
  },
  {
   "cell_type": "code",
   "execution_count": 5,
   "id": "22b523a1",
   "metadata": {
    "execution": {
     "iopub.execute_input": "2021-04-05T19:17:52.304495Z",
     "iopub.status.busy": "2021-04-05T19:17:52.303887Z",
     "iopub.status.idle": "2021-04-05T19:17:52.405715Z",
     "shell.execute_reply": "2021-04-05T19:17:52.405258Z",
     "shell.execute_reply.started": "2021-04-05T19:17:52.304422Z"
    },
    "tags": []
   },
   "outputs": [],
   "source": [
    "mean = 0.57"
   ]
  },
  {
   "cell_type": "markdown",
   "id": "e1b519ea",
   "metadata": {},
   "source": [
    "This is the average number of dogs per person, as agreed with R"
   ]
  },
  {
   "cell_type": "markdown",
   "id": "e5d42256",
   "metadata": {},
   "source": [
    "Use formula $s_{y} = \\sqrt{\\frac{1}{n-1}\\sum_{i=1}^{n}(y_{i}-\\overline{y})^2}$"
   ]
  },
  {
   "cell_type": "code",
   "execution_count": 6,
   "id": "b9b71078",
   "metadata": {
    "execution": {
     "iopub.execute_input": "2021-04-05T19:17:52.406487Z",
     "iopub.status.busy": "2021-04-05T19:17:52.406349Z",
     "iopub.status.idle": "2021-04-05T19:17:52.500099Z",
     "shell.execute_reply": "2021-04-05T19:17:52.499668Z",
     "shell.execute_reply.started": "2021-04-05T19:17:52.406470Z"
    },
    "tags": []
   },
   "outputs": [],
   "source": [
    "std = np.sqrt(sum(np.power((df['n_dogs']-0.57),2)*df['n_ppl'])/999)"
   ]
  },
  {
   "cell_type": "code",
   "execution_count": 7,
   "id": "4089f52e",
   "metadata": {
    "execution": {
     "iopub.execute_input": "2021-04-05T19:17:52.500779Z",
     "iopub.status.busy": "2021-04-05T19:17:52.500649Z",
     "iopub.status.idle": "2021-04-05T19:17:52.562440Z",
     "shell.execute_reply": "2021-04-05T19:17:52.561271Z",
     "shell.execute_reply.started": "2021-04-05T19:17:52.500763Z"
    },
    "tags": []
   },
   "outputs": [
    {
     "data": {
      "text/plain": [
       "0.8751376268141291"
      ]
     },
     "execution_count": 7,
     "metadata": {},
     "output_type": "execute_result"
    }
   ],
   "source": [
    "std"
   ]
  },
  {
   "cell_type": "markdown",
   "id": "eb7a7426",
   "metadata": {},
   "source": [
    "Also matches with the R output"
   ]
  },
  {
   "cell_type": "markdown",
   "id": "1afa0622",
   "metadata": {},
   "source": [
    "Standard Error is $se = \\frac{\\sigma}{\\sqrt{n}}$"
   ]
  },
  {
   "cell_type": "code",
   "execution_count": 8,
   "id": "9694cb3a",
   "metadata": {
    "execution": {
     "iopub.execute_input": "2021-04-05T19:17:52.566333Z",
     "iopub.status.busy": "2021-04-05T19:17:52.565919Z",
     "iopub.status.idle": "2021-04-05T19:17:52.620989Z",
     "shell.execute_reply": "2021-04-05T19:17:52.620280Z",
     "shell.execute_reply.started": "2021-04-05T19:17:52.566287Z"
    },
    "tags": []
   },
   "outputs": [],
   "source": [
    "se = std/np.sqrt(1000)"
   ]
  },
  {
   "cell_type": "code",
   "execution_count": 9,
   "id": "41ae1441",
   "metadata": {
    "execution": {
     "iopub.execute_input": "2021-04-05T19:17:52.622475Z",
     "iopub.status.busy": "2021-04-05T19:17:52.622281Z",
     "iopub.status.idle": "2021-04-05T19:17:52.721284Z",
     "shell.execute_reply": "2021-04-05T19:17:52.719286Z",
     "shell.execute_reply.started": "2021-04-05T19:17:52.622458Z"
    },
    "tags": []
   },
   "outputs": [
    {
     "data": {
      "text/plain": [
       "0.027674281668470926"
      ]
     },
     "execution_count": 9,
     "metadata": {},
     "output_type": "execute_result"
    }
   ],
   "source": [
    "se"
   ]
  },
  {
   "cell_type": "markdown",
   "id": "33f6dcb7",
   "metadata": {},
   "source": [
    "95% confidence interval is based on a t-distribution with n-1 degrees of freedom (dof)"
   ]
  },
  {
   "cell_type": "markdown",
   "id": "1bad13bd",
   "metadata": {},
   "source": [
    "`stats.t.ppf` seems to be the equivalent of `qt` in R"
   ]
  },
  {
   "cell_type": "code",
   "execution_count": 10,
   "id": "f37ba18d",
   "metadata": {
    "execution": {
     "iopub.execute_input": "2021-04-05T19:17:52.724725Z",
     "iopub.status.busy": "2021-04-05T19:17:52.724062Z",
     "iopub.status.idle": "2021-04-05T19:17:52.894316Z",
     "shell.execute_reply": "2021-04-05T19:17:52.893790Z",
     "shell.execute_reply.started": "2021-04-05T19:17:52.724648Z"
    },
    "tags": []
   },
   "outputs": [
    {
     "data": {
      "text/plain": [
       "\u001b[0;31mSignature:\u001b[0m \u001b[0mstats\u001b[0m\u001b[0;34m.\u001b[0m\u001b[0mt\u001b[0m\u001b[0;34m.\u001b[0m\u001b[0mppf\u001b[0m\u001b[0;34m(\u001b[0m\u001b[0mq\u001b[0m\u001b[0;34m,\u001b[0m \u001b[0;34m*\u001b[0m\u001b[0margs\u001b[0m\u001b[0;34m,\u001b[0m \u001b[0;34m**\u001b[0m\u001b[0mkwds\u001b[0m\u001b[0;34m)\u001b[0m\u001b[0;34m\u001b[0m\u001b[0;34m\u001b[0m\u001b[0m\n",
       "\u001b[0;31mDocstring:\u001b[0m\n",
       "Percent point function (inverse of `cdf`) at q of the given RV.\n",
       "\n",
       "Parameters\n",
       "----------\n",
       "q : array_like\n",
       "    lower tail probability\n",
       "arg1, arg2, arg3,... : array_like\n",
       "    The shape parameter(s) for the distribution (see docstring of the\n",
       "    instance object for more information)\n",
       "loc : array_like, optional\n",
       "    location parameter (default=0)\n",
       "scale : array_like, optional\n",
       "    scale parameter (default=1)\n",
       "\n",
       "Returns\n",
       "-------\n",
       "x : array_like\n",
       "    quantile corresponding to the lower tail probability q.\n",
       "\u001b[0;31mFile:\u001b[0m      ~/miniconda3/envs/ros/lib/python3.8/site-packages/scipy/stats/_distn_infrastructure.py\n",
       "\u001b[0;31mType:\u001b[0m      method\n"
      ]
     },
     "metadata": {},
     "output_type": "display_data"
    }
   ],
   "source": [
    "stats.t.ppf?"
   ]
  },
  {
   "cell_type": "code",
   "execution_count": 11,
   "id": "24d17829",
   "metadata": {
    "execution": {
     "iopub.execute_input": "2021-04-05T19:17:52.894971Z",
     "iopub.status.busy": "2021-04-05T19:17:52.894852Z",
     "iopub.status.idle": "2021-04-05T19:17:53.706839Z",
     "shell.execute_reply": "2021-04-05T19:17:53.704764Z",
     "shell.execute_reply.started": "2021-04-05T19:17:52.894955Z"
    },
    "tags": []
   },
   "outputs": [],
   "source": [
    "int_95 = mean+stats.t.ppf([0.025, 0.975], 1000-1)*se"
   ]
  },
  {
   "cell_type": "code",
   "execution_count": 12,
   "id": "93b5d8bd",
   "metadata": {
    "execution": {
     "iopub.execute_input": "2021-04-05T19:17:53.710170Z",
     "iopub.status.busy": "2021-04-05T19:17:53.709586Z",
     "iopub.status.idle": "2021-04-05T19:17:53.802628Z",
     "shell.execute_reply": "2021-04-05T19:17:53.800694Z",
     "shell.execute_reply.started": "2021-04-05T19:17:53.710100Z"
    },
    "tags": []
   },
   "outputs": [
    {
     "data": {
      "text/plain": [
       "array([0.51569361, 0.62430639])"
      ]
     },
     "execution_count": 12,
     "metadata": {},
     "output_type": "execute_result"
    }
   ],
   "source": [
    "int_95"
   ]
  },
  {
   "cell_type": "markdown",
   "id": "9eadef3f",
   "metadata": {},
   "source": [
    "This looks correct"
   ]
  },
  {
   "cell_type": "markdown",
   "id": "1f08f26a",
   "metadata": {},
   "source": [
    "# Exercises"
   ]
  },
  {
   "cell_type": "markdown",
   "id": "ddaf3ed1",
   "metadata": {},
   "source": [
    "## 4.1 Comparison of proportions"
   ]
  },
  {
   "cell_type": "code",
   "execution_count": 13,
   "id": "aeba71d0",
   "metadata": {
    "execution": {
     "iopub.execute_input": "2021-04-05T19:17:53.805731Z",
     "iopub.status.busy": "2021-04-05T19:17:53.805140Z",
     "iopub.status.idle": "2021-04-05T19:17:53.964285Z",
     "shell.execute_reply": "2021-04-05T19:17:53.962091Z",
     "shell.execute_reply.started": "2021-04-05T19:17:53.805659Z"
    },
    "tags": []
   },
   "outputs": [
    {
     "data": {
      "text/plain": [
       "0.09999999999999998"
      ]
     },
     "execution_count": 13,
     "metadata": {},
     "output_type": "execute_result"
    }
   ],
   "source": [
    "#average treatment effect\n",
    "estimate = 0.5-0.4\n",
    "estimate"
   ]
  },
  {
   "cell_type": "code",
   "execution_count": 14,
   "id": "241c4e14",
   "metadata": {
    "execution": {
     "iopub.execute_input": "2021-04-05T19:17:53.967420Z",
     "iopub.status.busy": "2021-04-05T19:17:53.966792Z",
     "iopub.status.idle": "2021-04-05T19:17:54.035191Z",
     "shell.execute_reply": "2021-04-05T19:17:54.034646Z",
     "shell.execute_reply.started": "2021-04-05T19:17:53.967344Z"
    },
    "tags": []
   },
   "outputs": [
    {
     "data": {
      "text/plain": [
       "0.03130495168499706"
      ]
     },
     "execution_count": 14,
     "metadata": {},
     "output_type": "execute_result"
    }
   ],
   "source": [
    "#standard error of the treatment effect, see standard error for a comparison\n",
    "se_ctrl = np.sqrt(0.4*0.6/500)\n",
    "se_treat = np.sqrt(0.5*0.5/500)\n",
    "se = np.sqrt(np.power(se_ctrl, 2)+np.power(se_treat,2))\n",
    "\n",
    "se"
   ]
  },
  {
   "cell_type": "markdown",
   "id": "8717175c",
   "metadata": {},
   "source": [
    "Answer: the estimated treatment effect is 0.1$\\pm$0.03, this answer is correct, according to [answer key](https://statmodeling.stat.columbia.edu/2019/06/02/question-2-of-our-applied-regression-final-exam-and-solution-to-question-1/)"
   ]
  },
  {
   "cell_type": "markdown",
   "id": "5b96d80f",
   "metadata": {},
   "source": [
    "## 4.2 Choosing sample size"
   ]
  },
  {
   "cell_type": "markdown",
   "id": "ccb34bb7",
   "metadata": {},
   "source": [
    "Note that $se_{\\textrm{tot}} = \\sqrt{se_{1}^2+se_{2}^2}$, and $se = \\sqrt{\\frac{\\hat{p}(1-\\hat{p})}{n}}$, so $se_{\\textrm{tot}} = \\sqrt{\\frac{\\hat{p}_1\\left(1-\\hat{p}_1\\right)}{N/2}+\\frac{\\hat{p}_2\\left(1-\\hat{p}_2\\right)}{N/2}}$, if we assume that men and women are making up 0.5 of the total population\n",
    "\n",
    "Since we are asking about supporting a candidate, we can assme 0.5 for $\\hat{p}$ for both men and women as a mean since the response is either 0 or 1. Then we have\n",
    "\n",
    "$se_{\\textrm{tot}}^2 = \\frac{4*0.5^2}{N} \\leq 0.05^2 \\implies \\frac{4*0.5^2}{0.05^2} \\leq N \\implies 400 \\leq N$"
   ]
  },
  {
   "cell_type": "code",
   "execution_count": 15,
   "id": "f300254b",
   "metadata": {
    "execution": {
     "iopub.execute_input": "2021-04-05T19:17:54.035930Z",
     "iopub.status.busy": "2021-04-05T19:17:54.035792Z",
     "iopub.status.idle": "2021-04-05T19:17:54.151707Z",
     "shell.execute_reply": "2021-04-05T19:17:54.149794Z",
     "shell.execute_reply.started": "2021-04-05T19:17:54.035913Z"
    },
    "tags": []
   },
   "outputs": [
    {
     "data": {
      "text/plain": [
       "400.0"
      ]
     },
     "execution_count": 15,
     "metadata": {},
     "output_type": "execute_result"
    }
   ],
   "source": [
    "4*0.5*0.5/0.05/0.05"
   ]
  },
  {
   "cell_type": "markdown",
   "id": "bff8b334",
   "metadata": {},
   "source": [
    "Or, you think, $se = \\frac{\\sigma}{\\sqrt{N}}$, for a general population $\\sigma = 1$, so $1/\\sqrt{N} \\leq 0.05 \\implies N \\geq 0.05^{-2} = 400$ "
   ]
  },
  {
   "cell_type": "code",
   "execution_count": 16,
   "id": "f36b8674",
   "metadata": {
    "execution": {
     "iopub.execute_input": "2021-04-05T19:17:54.154604Z",
     "iopub.status.busy": "2021-04-05T19:17:54.154018Z",
     "iopub.status.idle": "2021-04-05T19:17:54.222832Z",
     "shell.execute_reply": "2021-04-05T19:17:54.222173Z",
     "shell.execute_reply.started": "2021-04-05T19:17:54.154533Z"
    },
    "tags": []
   },
   "outputs": [
    {
     "data": {
      "text/plain": [
       "400.0"
      ]
     },
     "execution_count": 16,
     "metadata": {},
     "output_type": "execute_result"
    }
   ],
   "source": [
    "np.power((1/0.05),2)"
   ]
  },
  {
   "cell_type": "markdown",
   "id": "62277dca",
   "metadata": {},
   "source": [
    "## 4.3 Comparison of Proportions"
   ]
  },
  {
   "cell_type": "markdown",
   "id": "4716027f",
   "metadata": {},
   "source": [
    "The question is asking for a p-value, with Null hypothesis that the better shooter makes more shots\n",
    "\n",
    "average (mean) treatment effect is 0.1\n",
    "\n",
    "standard error is"
   ]
  },
  {
   "cell_type": "code",
   "execution_count": 17,
   "id": "a0ac90a8",
   "metadata": {
    "execution": {
     "iopub.execute_input": "2021-04-05T19:17:54.223588Z",
     "iopub.status.busy": "2021-04-05T19:17:54.223439Z",
     "iopub.status.idle": "2021-04-05T19:17:54.342756Z",
     "shell.execute_reply": "2021-04-05T19:17:54.340811Z",
     "shell.execute_reply.started": "2021-04-05T19:17:54.223571Z"
    },
    "tags": []
   },
   "outputs": [
    {
     "data": {
      "text/plain": [
       "0.15"
      ]
     },
     "execution_count": 17,
     "metadata": {},
     "output_type": "execute_result"
    }
   ],
   "source": [
    "se = se_ctrl = np.sqrt(0.4*0.6/20)\n",
    "se_treat = np.sqrt(0.3*0.7/20)\n",
    "se = np.sqrt(np.power(se_ctrl, 2)+np.power(se_treat,2))\n",
    "\n",
    "se"
   ]
  },
  {
   "cell_type": "markdown",
   "id": "777d0a63",
   "metadata": {},
   "source": [
    "We know for a normal distribution $z=\\frac{x-\\mu}{\\sigma/\\sqrt{N}}$, we are trying to find the p-value. Here we know that if $x=0$, then the z-score would be for all the cdf of a Normal distribution up to 0, which means the cdf for this z-score gives the probability mass for us seeing $x\\leq0$. So we need $1-\\textrm{cdf}(z)$"
   ]
  },
  {
   "cell_type": "code",
   "execution_count": 18,
   "id": "8e132d50",
   "metadata": {
    "execution": {
     "iopub.execute_input": "2021-04-05T19:17:54.345445Z",
     "iopub.status.busy": "2021-04-05T19:17:54.344868Z",
     "iopub.status.idle": "2021-04-05T19:17:54.412448Z",
     "shell.execute_reply": "2021-04-05T19:17:54.411772Z",
     "shell.execute_reply.started": "2021-04-05T19:17:54.345373Z"
    },
    "tags": []
   },
   "outputs": [
    {
     "data": {
      "text/plain": [
       "-0.6666666666666667"
      ]
     },
     "execution_count": 18,
     "metadata": {},
     "output_type": "execute_result"
    }
   ],
   "source": [
    "z = (0-0.1)/(0.15)\n",
    "z"
   ]
  },
  {
   "cell_type": "code",
   "execution_count": 19,
   "id": "a908ce76",
   "metadata": {
    "execution": {
     "iopub.execute_input": "2021-04-05T19:17:54.413643Z",
     "iopub.status.busy": "2021-04-05T19:17:54.413451Z",
     "iopub.status.idle": "2021-04-05T19:17:54.524069Z",
     "shell.execute_reply": "2021-04-05T19:17:54.523664Z",
     "shell.execute_reply.started": "2021-04-05T19:17:54.413623Z"
    },
    "tags": []
   },
   "outputs": [
    {
     "data": {
      "text/plain": [
       "0.7475074624530771"
      ]
     },
     "execution_count": 19,
     "metadata": {},
     "output_type": "execute_result"
    }
   ],
   "source": [
    "1-stats.norm.cdf(z)"
   ]
  },
  {
   "cell_type": "markdown",
   "id": "5a534394",
   "metadata": {},
   "source": [
    "So 75% chance of seeing a mean > 0 with normal"
   ]
  },
  {
   "cell_type": "markdown",
   "id": "f38d7915",
   "metadata": {},
   "source": [
    "But the book talked about t tests. And our N is way too small to use a normal distribution, so what does the t look like?"
   ]
  },
  {
   "cell_type": "code",
   "execution_count": 20,
   "id": "9a001654",
   "metadata": {
    "execution": {
     "iopub.execute_input": "2021-04-05T19:17:54.524792Z",
     "iopub.status.busy": "2021-04-05T19:17:54.524655Z",
     "iopub.status.idle": "2021-04-05T19:17:54.643088Z",
     "shell.execute_reply": "2021-04-05T19:17:54.641119Z",
     "shell.execute_reply.started": "2021-04-05T19:17:54.524775Z"
    },
    "tags": []
   },
   "outputs": [
    {
     "data": {
      "text/plain": [
       "0.7455937742565715"
      ]
     },
     "execution_count": 20,
     "metadata": {},
     "output_type": "execute_result"
    }
   ],
   "source": [
    "1-stats.t.cdf(-0.1/0.15, df=40)"
   ]
  },
  {
   "cell_type": "markdown",
   "id": "afecfc07",
   "metadata": {},
   "source": [
    "for a t distribution it appears that we will see the effect 74% of the time, which looks very close"
   ]
  },
  {
   "cell_type": "code",
   "execution_count": 21,
   "id": "4a0c0316",
   "metadata": {
    "execution": {
     "iopub.execute_input": "2021-04-05T19:17:54.646324Z",
     "iopub.status.busy": "2021-04-05T19:17:54.645473Z",
     "iopub.status.idle": "2021-04-05T19:18:00.852216Z",
     "shell.execute_reply": "2021-04-05T19:18:00.850476Z",
     "shell.execute_reply.started": "2021-04-05T19:17:54.646247Z"
    },
    "tags": []
   },
   "outputs": [],
   "source": [
    "import pymc3 as pm"
   ]
  },
  {
   "cell_type": "code",
   "execution_count": 22,
   "id": "98f0aa31",
   "metadata": {
    "execution": {
     "iopub.execute_input": "2021-04-05T19:18:00.854709Z",
     "iopub.status.busy": "2021-04-05T19:18:00.854289Z",
     "iopub.status.idle": "2021-04-05T19:19:37.438612Z",
     "shell.execute_reply": "2021-04-05T19:19:37.437952Z",
     "shell.execute_reply.started": "2021-04-05T19:18:00.854652Z"
    },
    "tags": []
   },
   "outputs": [
    {
     "name": "stderr",
     "output_type": "stream",
     "text": [
      "Multiprocess sampling (3 chains in 3 jobs)\n",
      "CompoundStep\n",
      ">Metropolis: [n2]\n",
      ">Metropolis: [n1]\n"
     ]
    },
    {
     "data": {
      "text/html": [
       "\n",
       "    <div>\n",
       "        <style>\n",
       "            /* Turns off some styling */\n",
       "            progress {\n",
       "                /* gets rid of default border in Firefox and Opera. */\n",
       "                border: none;\n",
       "                /* Needs to be in here for Safari polyfill so background images work as expected. */\n",
       "                background-size: auto;\n",
       "            }\n",
       "            .progress-bar-interrupted, .progress-bar-interrupted::-webkit-progress-bar {\n",
       "                background: #F44336;\n",
       "            }\n",
       "        </style>\n",
       "      <progress value='903000' class='' max='903000' style='width:300px; height:20px; vertical-align: middle;'></progress>\n",
       "      100.00% [903000/903000 01:30<00:00 Sampling 3 chains, 0 divergences]\n",
       "    </div>\n",
       "    "
      ],
      "text/plain": [
       "<IPython.core.display.HTML object>"
      ]
     },
     "metadata": {},
     "output_type": "display_data"
    },
    {
     "name": "stderr",
     "output_type": "stream",
     "text": [
      "Sampling 3 chains for 1_000 tune and 300_000 draw iterations (3_000 + 900_000 draws total) took 92 seconds.\n",
      "The number of effective samples is smaller than 25% for some parameters.\n"
     ]
    }
   ],
   "source": [
    "with pm.Model() as model:\n",
    "    n1 = pm.Binomial('n1',p=0.4,n=20)\n",
    "    n2 = pm.Binomial('n2',p=0.3,n=20)\n",
    "    diff = pm.Deterministic('diff', n1-n2)\n",
    "    \n",
    "    trace = pm.sample(300000)"
   ]
  },
  {
   "cell_type": "code",
   "execution_count": 23,
   "id": "5cab7363",
   "metadata": {
    "execution": {
     "iopub.execute_input": "2021-04-05T19:19:37.441071Z",
     "iopub.status.busy": "2021-04-05T19:19:37.440919Z",
     "iopub.status.idle": "2021-04-05T19:19:37.463904Z",
     "shell.execute_reply": "2021-04-05T19:19:37.463529Z",
     "shell.execute_reply.started": "2021-04-05T19:19:37.441051Z"
    },
    "tags": []
   },
   "outputs": [],
   "source": [
    "burned_trace = trace[10000:]"
   ]
  },
  {
   "cell_type": "code",
   "execution_count": 24,
   "id": "c7d307d8",
   "metadata": {
    "execution": {
     "iopub.execute_input": "2021-04-05T19:19:37.465044Z",
     "iopub.status.busy": "2021-04-05T19:19:37.464890Z",
     "iopub.status.idle": "2021-04-05T19:19:37.853928Z",
     "shell.execute_reply": "2021-04-05T19:19:37.851931Z",
     "shell.execute_reply.started": "2021-04-05T19:19:37.465026Z"
    },
    "tags": []
   },
   "outputs": [
    {
     "data": {
      "text/plain": [
       "array([ 9, 11, 11, ...,  6,  6,  6])"
      ]
     },
     "execution_count": 24,
     "metadata": {},
     "output_type": "execute_result"
    }
   ],
   "source": [
    "burned_trace['n1']"
   ]
  },
  {
   "cell_type": "code",
   "execution_count": 25,
   "id": "0038e3bc",
   "metadata": {
    "execution": {
     "iopub.execute_input": "2021-04-05T19:19:37.857037Z",
     "iopub.status.busy": "2021-04-05T19:19:37.856370Z",
     "iopub.status.idle": "2021-04-05T19:19:37.899153Z",
     "shell.execute_reply": "2021-04-05T19:19:37.898243Z",
     "shell.execute_reply.started": "2021-04-05T19:19:37.856958Z"
    },
    "tags": []
   },
   "outputs": [
    {
     "data": {
      "text/plain": [
       "array([2, 9, 1, ..., 6, 6, 6])"
      ]
     },
     "execution_count": 25,
     "metadata": {},
     "output_type": "execute_result"
    }
   ],
   "source": [
    "burned_trace['n2']"
   ]
  },
  {
   "cell_type": "code",
   "execution_count": 26,
   "id": "27a3cbfe",
   "metadata": {
    "execution": {
     "iopub.execute_input": "2021-04-05T19:19:37.900280Z",
     "iopub.status.busy": "2021-04-05T19:19:37.900034Z",
     "iopub.status.idle": "2021-04-05T19:19:37.973620Z",
     "shell.execute_reply": "2021-04-05T19:19:37.973215Z",
     "shell.execute_reply.started": "2021-04-05T19:19:37.900250Z"
    },
    "tags": []
   },
   "outputs": [
    {
     "data": {
      "text/plain": [
       "1.9959022988505748"
      ]
     },
     "execution_count": 26,
     "metadata": {},
     "output_type": "execute_result"
    }
   ],
   "source": [
    "burned_trace['diff'].mean()"
   ]
  },
  {
   "cell_type": "markdown",
   "id": "3fbc923c",
   "metadata": {},
   "source": [
    "This is correct, we should see $0.1*20 = 2$ as mean"
   ]
  },
  {
   "cell_type": "code",
   "execution_count": 27,
   "id": "2ecce2b2",
   "metadata": {
    "execution": {
     "iopub.execute_input": "2021-04-05T19:19:37.974307Z",
     "iopub.status.busy": "2021-04-05T19:19:37.974181Z",
     "iopub.status.idle": "2021-04-05T19:19:38.057963Z",
     "shell.execute_reply": "2021-04-05T19:19:38.056860Z",
     "shell.execute_reply.started": "2021-04-05T19:19:37.974291Z"
    },
    "tags": []
   },
   "outputs": [
    {
     "data": {
      "text/plain": [
       "3.0005980997080774"
      ]
     },
     "execution_count": 27,
     "metadata": {},
     "output_type": "execute_result"
    }
   ],
   "source": [
    "burned_trace['diff'].std()"
   ]
  },
  {
   "cell_type": "code",
   "execution_count": 28,
   "id": "f99d4e3d",
   "metadata": {
    "execution": {
     "iopub.execute_input": "2021-04-05T19:19:38.059559Z",
     "iopub.status.busy": "2021-04-05T19:19:38.059243Z",
     "iopub.status.idle": "2021-04-05T19:19:38.274954Z",
     "shell.execute_reply": "2021-04-05T19:19:38.274518Z",
     "shell.execute_reply.started": "2021-04-05T19:19:38.059519Z"
    },
    "tags": []
   },
   "outputs": [
    {
     "data": {
      "text/plain": [
       "0.6924747126436782"
      ]
     },
     "execution_count": 28,
     "metadata": {},
     "output_type": "execute_result"
    }
   ],
   "source": [
    "sum(np.where(burned_trace['diff']>0,1,0))/len(burned_trace['diff'])"
   ]
  },
  {
   "cell_type": "markdown",
   "id": "aae1b4fc",
   "metadata": {},
   "source": [
    "So actually it should be 69%, close to the normal value....."
   ]
  },
  {
   "cell_type": "markdown",
   "id": "83a79c27",
   "metadata": {},
   "source": [
    "## 4.4 Design an Experiment"
   ]
  },
  {
   "cell_type": "markdown",
   "id": "e9922b8d",
   "metadata": {},
   "source": [
    "This is the inverse of the previous question, I think this is asking for the 95% confidence interval"
   ]
  },
  {
   "cell_type": "code",
   "execution_count": 29,
   "id": "a12b5a39",
   "metadata": {
    "execution": {
     "iopub.execute_input": "2021-04-05T19:19:38.275702Z",
     "iopub.status.busy": "2021-04-05T19:19:38.275503Z",
     "iopub.status.idle": "2021-04-05T19:19:38.278155Z",
     "shell.execute_reply": "2021-04-05T19:19:38.277513Z",
     "shell.execute_reply.started": "2021-04-05T19:19:38.275658Z"
    },
    "tags": []
   },
   "outputs": [],
   "source": [
    "z = -1.65 #the z score for 95% one sided Normal distribution"
   ]
  },
  {
   "cell_type": "code",
   "execution_count": 30,
   "id": "d72de0df",
   "metadata": {
    "execution": {
     "iopub.execute_input": "2021-04-05T19:19:38.278941Z",
     "iopub.status.busy": "2021-04-05T19:19:38.278796Z",
     "iopub.status.idle": "2021-04-05T19:19:38.357933Z",
     "shell.execute_reply": "2021-04-05T19:19:38.357563Z",
     "shell.execute_reply.started": "2021-04-05T19:19:38.278924Z"
    },
    "tags": []
   },
   "outputs": [
    {
     "data": {
      "text/plain": [
       "122.5125"
      ]
     },
     "execution_count": 30,
     "metadata": {},
     "output_type": "execute_result"
    }
   ],
   "source": [
    "sigma = np.sqrt(0.6*0.4+0.3*0.7)\n",
    "\n",
    "N= np.power(sigma*z/(-0.1),2)\n",
    "\n",
    "N"
   ]
  },
  {
   "cell_type": "markdown",
   "id": "0611a82d",
   "metadata": {},
   "source": [
    "We need roughly 123 trials"
   ]
  },
  {
   "cell_type": "markdown",
   "id": "7a0d82e0",
   "metadata": {},
   "source": [
    "## 4.6 Hypothesis testing"
   ]
  },
  {
   "cell_type": "code",
   "execution_count": 31,
   "id": "68616ac1",
   "metadata": {
    "execution": {
     "iopub.execute_input": "2021-04-05T19:19:38.358630Z",
     "iopub.status.busy": "2021-04-05T19:19:38.358501Z",
     "iopub.status.idle": "2021-04-05T19:19:38.441480Z",
     "shell.execute_reply": "2021-04-05T19:19:38.439534Z",
     "shell.execute_reply.started": "2021-04-05T19:19:38.358614Z"
    },
    "tags": []
   },
   "outputs": [],
   "source": [
    "with open('/home/jfyu/projects/ROS-Examples/Girls/girls.dat', 'r') as f:\n",
    "    data = f.readlines()"
   ]
  },
  {
   "cell_type": "code",
   "execution_count": 32,
   "id": "98190754",
   "metadata": {
    "execution": {
     "iopub.execute_input": "2021-04-05T19:19:38.444226Z",
     "iopub.status.busy": "2021-04-05T19:19:38.443683Z",
     "iopub.status.idle": "2021-04-05T19:19:38.542149Z",
     "shell.execute_reply": "2021-04-05T19:19:38.541681Z",
     "shell.execute_reply.started": "2021-04-05T19:19:38.444155Z"
    },
    "tags": []
   },
   "outputs": [
    {
     "data": {
      "text/plain": [
       "['Proportion of girl births in 24 successive months in Vienna, 1908-1909, out of an average of 3900 births per month.  Data from Mises (1953). See Chapter 4 in Regression and Other Stories.\\n',\n",
       " ' .4777\\n',\n",
       " ' .4875\\n',\n",
       " ' .4859\\n',\n",
       " ' .4754\\n',\n",
       " ' .4874\\n',\n",
       " ' .4864\\n',\n",
       " ' .4813\\n',\n",
       " ' .4787\\n',\n",
       " ' .4895\\n',\n",
       " ' .4797\\n',\n",
       " ' .4876\\n',\n",
       " ' .4859\\n',\n",
       " ' .4857\\n',\n",
       " ' .4907\\n',\n",
       " ' .5010\\n',\n",
       " ' .4903\\n',\n",
       " ' .4860\\n',\n",
       " ' .4911\\n',\n",
       " ' .4871\\n',\n",
       " ' .4725\\n',\n",
       " ' .4822\\n',\n",
       " ' .4870\\n',\n",
       " ' .4823\\n',\n",
       " ' .4973']"
      ]
     },
     "execution_count": 32,
     "metadata": {},
     "output_type": "execute_result"
    }
   ],
   "source": [
    "data"
   ]
  },
  {
   "cell_type": "code",
   "execution_count": 33,
   "id": "023a1dc9",
   "metadata": {
    "execution": {
     "iopub.execute_input": "2021-04-05T19:19:38.542862Z",
     "iopub.status.busy": "2021-04-05T19:19:38.542729Z",
     "iopub.status.idle": "2021-04-05T19:19:38.591882Z",
     "shell.execute_reply": "2021-04-05T19:19:38.591421Z",
     "shell.execute_reply.started": "2021-04-05T19:19:38.542846Z"
    },
    "tags": []
   },
   "outputs": [],
   "source": [
    "data = data[1:]"
   ]
  },
  {
   "cell_type": "code",
   "execution_count": 34,
   "id": "6bb35ff7",
   "metadata": {
    "execution": {
     "iopub.execute_input": "2021-04-05T19:19:38.592648Z",
     "iopub.status.busy": "2021-04-05T19:19:38.592495Z",
     "iopub.status.idle": "2021-04-05T19:19:38.670939Z",
     "shell.execute_reply": "2021-04-05T19:19:38.669995Z",
     "shell.execute_reply.started": "2021-04-05T19:19:38.592630Z"
    },
    "tags": []
   },
   "outputs": [
    {
     "data": {
      "text/plain": [
       "[' .4777\\n',\n",
       " ' .4875\\n',\n",
       " ' .4859\\n',\n",
       " ' .4754\\n',\n",
       " ' .4874\\n',\n",
       " ' .4864\\n',\n",
       " ' .4813\\n',\n",
       " ' .4787\\n',\n",
       " ' .4895\\n',\n",
       " ' .4797\\n',\n",
       " ' .4876\\n',\n",
       " ' .4859\\n',\n",
       " ' .4857\\n',\n",
       " ' .4907\\n',\n",
       " ' .5010\\n',\n",
       " ' .4903\\n',\n",
       " ' .4860\\n',\n",
       " ' .4911\\n',\n",
       " ' .4871\\n',\n",
       " ' .4725\\n',\n",
       " ' .4822\\n',\n",
       " ' .4870\\n',\n",
       " ' .4823\\n',\n",
       " ' .4973']"
      ]
     },
     "execution_count": 34,
     "metadata": {},
     "output_type": "execute_result"
    }
   ],
   "source": [
    "data"
   ]
  },
  {
   "cell_type": "code",
   "execution_count": 35,
   "id": "a632b250",
   "metadata": {
    "execution": {
     "iopub.execute_input": "2021-04-05T19:19:38.672395Z",
     "iopub.status.busy": "2021-04-05T19:19:38.672045Z",
     "iopub.status.idle": "2021-04-05T19:19:38.743886Z",
     "shell.execute_reply": "2021-04-05T19:19:38.743377Z",
     "shell.execute_reply.started": "2021-04-05T19:19:38.672351Z"
    },
    "tags": []
   },
   "outputs": [],
   "source": [
    "girl_birth = []\n",
    "for i in data:\n",
    "    girl_birth.append(np.float(i.strip('\\n')))"
   ]
  },
  {
   "cell_type": "code",
   "execution_count": 36,
   "id": "72a74f0d",
   "metadata": {
    "execution": {
     "iopub.execute_input": "2021-04-05T19:19:38.744633Z",
     "iopub.status.busy": "2021-04-05T19:19:38.744497Z",
     "iopub.status.idle": "2021-04-05T19:19:38.825311Z",
     "shell.execute_reply": "2021-04-05T19:19:38.824792Z",
     "shell.execute_reply.started": "2021-04-05T19:19:38.744616Z"
    },
    "tags": []
   },
   "outputs": [],
   "source": [
    "df = pd.DataFrame({'girl_birth_rate':girl_birth})"
   ]
  },
  {
   "cell_type": "code",
   "execution_count": 37,
   "id": "a7f4db85",
   "metadata": {
    "execution": {
     "iopub.execute_input": "2021-04-05T19:19:38.825988Z",
     "iopub.status.busy": "2021-04-05T19:19:38.825865Z",
     "iopub.status.idle": "2021-04-05T19:19:39.707329Z",
     "shell.execute_reply": "2021-04-05T19:19:39.705270Z",
     "shell.execute_reply.started": "2021-04-05T19:19:38.825973Z"
    },
    "tags": []
   },
   "outputs": [
    {
     "data": {
      "text/html": [
       "<div>\n",
       "<style scoped>\n",
       "    .dataframe tbody tr th:only-of-type {\n",
       "        vertical-align: middle;\n",
       "    }\n",
       "\n",
       "    .dataframe tbody tr th {\n",
       "        vertical-align: top;\n",
       "    }\n",
       "\n",
       "    .dataframe thead th {\n",
       "        text-align: right;\n",
       "    }\n",
       "</style>\n",
       "<table border=\"1\" class=\"dataframe\">\n",
       "  <thead>\n",
       "    <tr style=\"text-align: right;\">\n",
       "      <th></th>\n",
       "      <th>girl_birth_rate</th>\n",
       "    </tr>\n",
       "  </thead>\n",
       "  <tbody>\n",
       "    <tr>\n",
       "      <th>0</th>\n",
       "      <td>0.4777</td>\n",
       "    </tr>\n",
       "    <tr>\n",
       "      <th>1</th>\n",
       "      <td>0.4875</td>\n",
       "    </tr>\n",
       "    <tr>\n",
       "      <th>2</th>\n",
       "      <td>0.4859</td>\n",
       "    </tr>\n",
       "    <tr>\n",
       "      <th>3</th>\n",
       "      <td>0.4754</td>\n",
       "    </tr>\n",
       "    <tr>\n",
       "      <th>4</th>\n",
       "      <td>0.4874</td>\n",
       "    </tr>\n",
       "    <tr>\n",
       "      <th>5</th>\n",
       "      <td>0.4864</td>\n",
       "    </tr>\n",
       "    <tr>\n",
       "      <th>6</th>\n",
       "      <td>0.4813</td>\n",
       "    </tr>\n",
       "    <tr>\n",
       "      <th>7</th>\n",
       "      <td>0.4787</td>\n",
       "    </tr>\n",
       "    <tr>\n",
       "      <th>8</th>\n",
       "      <td>0.4895</td>\n",
       "    </tr>\n",
       "    <tr>\n",
       "      <th>9</th>\n",
       "      <td>0.4797</td>\n",
       "    </tr>\n",
       "    <tr>\n",
       "      <th>10</th>\n",
       "      <td>0.4876</td>\n",
       "    </tr>\n",
       "    <tr>\n",
       "      <th>11</th>\n",
       "      <td>0.4859</td>\n",
       "    </tr>\n",
       "    <tr>\n",
       "      <th>12</th>\n",
       "      <td>0.4857</td>\n",
       "    </tr>\n",
       "    <tr>\n",
       "      <th>13</th>\n",
       "      <td>0.4907</td>\n",
       "    </tr>\n",
       "    <tr>\n",
       "      <th>14</th>\n",
       "      <td>0.5010</td>\n",
       "    </tr>\n",
       "    <tr>\n",
       "      <th>15</th>\n",
       "      <td>0.4903</td>\n",
       "    </tr>\n",
       "    <tr>\n",
       "      <th>16</th>\n",
       "      <td>0.4860</td>\n",
       "    </tr>\n",
       "    <tr>\n",
       "      <th>17</th>\n",
       "      <td>0.4911</td>\n",
       "    </tr>\n",
       "    <tr>\n",
       "      <th>18</th>\n",
       "      <td>0.4871</td>\n",
       "    </tr>\n",
       "    <tr>\n",
       "      <th>19</th>\n",
       "      <td>0.4725</td>\n",
       "    </tr>\n",
       "    <tr>\n",
       "      <th>20</th>\n",
       "      <td>0.4822</td>\n",
       "    </tr>\n",
       "    <tr>\n",
       "      <th>21</th>\n",
       "      <td>0.4870</td>\n",
       "    </tr>\n",
       "    <tr>\n",
       "      <th>22</th>\n",
       "      <td>0.4823</td>\n",
       "    </tr>\n",
       "    <tr>\n",
       "      <th>23</th>\n",
       "      <td>0.4973</td>\n",
       "    </tr>\n",
       "  </tbody>\n",
       "</table>\n",
       "</div>"
      ],
      "text/plain": [
       "    girl_birth_rate\n",
       "0            0.4777\n",
       "1            0.4875\n",
       "2            0.4859\n",
       "3            0.4754\n",
       "4            0.4874\n",
       "5            0.4864\n",
       "6            0.4813\n",
       "7            0.4787\n",
       "8            0.4895\n",
       "9            0.4797\n",
       "10           0.4876\n",
       "11           0.4859\n",
       "12           0.4857\n",
       "13           0.4907\n",
       "14           0.5010\n",
       "15           0.4903\n",
       "16           0.4860\n",
       "17           0.4911\n",
       "18           0.4871\n",
       "19           0.4725\n",
       "20           0.4822\n",
       "21           0.4870\n",
       "22           0.4823\n",
       "23           0.4973"
      ]
     },
     "execution_count": 37,
     "metadata": {},
     "output_type": "execute_result"
    }
   ],
   "source": [
    "df"
   ]
  },
  {
   "cell_type": "code",
   "execution_count": 38,
   "id": "50067376",
   "metadata": {
    "execution": {
     "iopub.execute_input": "2021-04-05T19:19:39.710436Z",
     "iopub.status.busy": "2021-04-05T19:19:39.709853Z",
     "iopub.status.idle": "2021-04-05T19:19:39.758834Z",
     "shell.execute_reply": "2021-04-05T19:19:39.758370Z",
     "shell.execute_reply.started": "2021-04-05T19:19:39.710362Z"
    },
    "tags": []
   },
   "outputs": [
    {
     "data": {
      "text/plain": [
       "0.006409724269997214"
      ]
     },
     "execution_count": 38,
     "metadata": {},
     "output_type": "execute_result"
    }
   ],
   "source": [
    "std_observed = df['girl_birth_rate'].std()\n",
    "std_observed"
   ]
  },
  {
   "cell_type": "markdown",
   "id": "68f6e246",
   "metadata": {},
   "source": [
    "what would be expected if the birth proportions were constant? See p. 64"
   ]
  },
  {
   "cell_type": "code",
   "execution_count": 39,
   "id": "af56a97a",
   "metadata": {
    "execution": {
     "iopub.execute_input": "2021-04-05T19:19:39.759570Z",
     "iopub.status.busy": "2021-04-05T19:19:39.759442Z",
     "iopub.status.idle": "2021-04-05T19:19:39.871589Z",
     "shell.execute_reply": "2021-04-05T19:19:39.869605Z",
     "shell.execute_reply.started": "2021-04-05T19:19:39.759553Z"
    },
    "tags": []
   },
   "outputs": [],
   "source": [
    "p_hat = sum(df['girl_birth_rate']*3900)/(3900*len(df)) #empirical rate\n",
    "theoretical_std = np.sqrt(p_hat*(1-p_hat)/3900)"
   ]
  },
  {
   "cell_type": "code",
   "execution_count": 40,
   "id": "b3571185",
   "metadata": {
    "execution": {
     "iopub.execute_input": "2021-04-05T19:19:39.874551Z",
     "iopub.status.busy": "2021-04-05T19:19:39.873952Z",
     "iopub.status.idle": "2021-04-05T19:19:39.955361Z",
     "shell.execute_reply": "2021-04-05T19:19:39.954048Z",
     "shell.execute_reply.started": "2021-04-05T19:19:39.874475Z"
    },
    "tags": []
   },
   "outputs": [
    {
     "data": {
      "text/plain": [
       "0.008003121095900088"
      ]
     },
     "execution_count": 40,
     "metadata": {},
     "output_type": "execute_result"
    }
   ],
   "source": [
    "theoretical_std"
   ]
  },
  {
   "cell_type": "code",
   "execution_count": 41,
   "id": "4eaef14b",
   "metadata": {
    "execution": {
     "iopub.execute_input": "2021-04-05T19:19:39.957032Z",
     "iopub.status.busy": "2021-04-05T19:19:39.956740Z",
     "iopub.status.idle": "2021-04-05T19:19:40.048061Z",
     "shell.execute_reply": "2021-04-05T19:19:40.046175Z",
     "shell.execute_reply.started": "2021-04-05T19:19:39.956998Z"
    },
    "tags": []
   },
   "outputs": [],
   "source": [
    "n = 24\n",
    "chi_stats = sum(np.power(df['girl_birth_rate']-p_hat,2))/np.power(p_hat,2)"
   ]
  },
  {
   "cell_type": "code",
   "execution_count": 42,
   "id": "5f99ad8c",
   "metadata": {
    "execution": {
     "iopub.execute_input": "2021-04-05T19:19:40.051020Z",
     "iopub.status.busy": "2021-04-05T19:19:40.050442Z",
     "iopub.status.idle": "2021-04-05T19:19:40.149779Z",
     "shell.execute_reply": "2021-04-05T19:19:40.148331Z",
     "shell.execute_reply.started": "2021-04-05T19:19:40.050947Z"
    },
    "tags": []
   },
   "outputs": [
    {
     "data": {
      "text/plain": [
       "0.004006037715187785"
      ]
     },
     "execution_count": 42,
     "metadata": {},
     "output_type": "execute_result"
    }
   ],
   "source": [
    "chi_stats"
   ]
  },
  {
   "cell_type": "code",
   "execution_count": 43,
   "id": "f027561c",
   "metadata": {
    "execution": {
     "iopub.execute_input": "2021-04-05T19:19:40.152457Z",
     "iopub.status.busy": "2021-04-05T19:19:40.151990Z",
     "iopub.status.idle": "2021-04-05T19:19:40.213382Z",
     "shell.execute_reply": "2021-04-05T19:19:40.212884Z",
     "shell.execute_reply.started": "2021-04-05T19:19:40.152400Z"
    },
    "tags": []
   },
   "outputs": [
    {
     "data": {
      "text/plain": [
       "0.5015809013819601"
      ]
     },
     "execution_count": 43,
     "metadata": {},
     "output_type": "execute_result"
    }
   ],
   "source": [
    "stats.t.cdf(chi_stats, df=23)"
   ]
  },
  {
   "cell_type": "markdown",
   "id": "b936f712",
   "metadata": {},
   "source": [
    "so there is not enough evidence to reject the hypothesis that the \"constant variance\" is actually chance"
   ]
  },
  {
   "cell_type": "markdown",
   "id": "fa9b77a4",
   "metadata": {},
   "source": [
    "## 4.7 Inference from a proportion with y=0"
   ]
  },
  {
   "cell_type": "markdown",
   "id": "6c8c1d21",
   "metadata": {},
   "source": [
    "apparently according to p. 52, if y = 0 then we use a quick correction where $\\hat{y} = \\frac{y+2}{n+4}$"
   ]
  },
  {
   "cell_type": "code",
   "execution_count": 44,
   "id": "10f1f705",
   "metadata": {
    "execution": {
     "iopub.execute_input": "2021-04-05T19:19:40.214046Z",
     "iopub.status.busy": "2021-04-05T19:19:40.213921Z",
     "iopub.status.idle": "2021-04-05T19:19:40.307182Z",
     "shell.execute_reply": "2021-04-05T19:19:40.306561Z",
     "shell.execute_reply.started": "2021-04-05T19:19:40.214030Z"
    },
    "tags": []
   },
   "outputs": [],
   "source": [
    "p_hat = 2/(50+4)\n",
    "\n",
    "se = np.sqrt(p_hat*(1-p_hat)/(50+4))"
   ]
  },
  {
   "cell_type": "code",
   "execution_count": 45,
   "id": "43df28f5",
   "metadata": {
    "execution": {
     "iopub.execute_input": "2021-04-05T19:19:40.308114Z",
     "iopub.status.busy": "2021-04-05T19:19:40.307953Z",
     "iopub.status.idle": "2021-04-05T19:19:40.407726Z",
     "shell.execute_reply": "2021-04-05T19:19:40.405601Z",
     "shell.execute_reply.started": "2021-04-05T19:19:40.308095Z"
    },
    "tags": []
   },
   "outputs": [
    {
     "data": {
      "text/plain": [
       "0.025699580240322626"
      ]
     },
     "execution_count": 45,
     "metadata": {},
     "output_type": "execute_result"
    }
   ],
   "source": [
    "se"
   ]
  },
  {
   "cell_type": "code",
   "execution_count": 46,
   "id": "70ce6f65",
   "metadata": {
    "execution": {
     "iopub.execute_input": "2021-04-05T19:19:40.410945Z",
     "iopub.status.busy": "2021-04-05T19:19:40.410328Z",
     "iopub.status.idle": "2021-04-05T19:19:40.468972Z",
     "shell.execute_reply": "2021-04-05T19:19:40.468376Z",
     "shell.execute_reply.started": "2021-04-05T19:19:40.410871Z"
    },
    "tags": []
   },
   "outputs": [
    {
     "data": {
      "text/plain": [
       "0.037037037037037035"
      ]
     },
     "execution_count": 46,
     "metadata": {},
     "output_type": "execute_result"
    }
   ],
   "source": [
    "p_hat"
   ]
  },
  {
   "cell_type": "code",
   "execution_count": 47,
   "id": "f9ca8acc",
   "metadata": {
    "execution": {
     "iopub.execute_input": "2021-04-05T19:19:40.470115Z",
     "iopub.status.busy": "2021-04-05T19:19:40.469923Z",
     "iopub.status.idle": "2021-04-05T19:19:40.601696Z",
     "shell.execute_reply": "2021-04-05T19:19:40.599811Z",
     "shell.execute_reply.started": "2021-04-05T19:19:40.470096Z"
    },
    "tags": []
   },
   "outputs": [
    {
     "data": {
      "text/plain": [
       "-0.014362123443608217"
      ]
     },
     "execution_count": 47,
     "metadata": {},
     "output_type": "execute_result"
    }
   ],
   "source": [
    "p_hat-2*se"
   ]
  },
  {
   "cell_type": "code",
   "execution_count": 48,
   "id": "8bc65d90",
   "metadata": {
    "execution": {
     "iopub.execute_input": "2021-04-05T19:19:40.606481Z",
     "iopub.status.busy": "2021-04-05T19:19:40.605849Z",
     "iopub.status.idle": "2021-04-05T19:19:40.656511Z",
     "shell.execute_reply": "2021-04-05T19:19:40.655997Z",
     "shell.execute_reply.started": "2021-04-05T19:19:40.606406Z"
    },
    "tags": []
   },
   "outputs": [
    {
     "data": {
      "text/plain": [
       "0.08843619751768228"
      ]
     },
     "execution_count": 48,
     "metadata": {},
     "output_type": "execute_result"
    }
   ],
   "source": [
    "p_hat+2*se"
   ]
  },
  {
   "cell_type": "markdown",
   "id": "96a560bb",
   "metadata": {},
   "source": [
    "Effect cannot be 0, so we have \\[0, 0.088\\]\n",
    "\n",
    "this answer is correct, according to the [answer key](https://statmodeling.stat.columbia.edu/2019/06/09/question-9-of-our-applied-regression-final-exam-and-solution-to-question-8/)"
   ]
  },
  {
   "cell_type": "markdown",
   "id": "2bffdd60",
   "metadata": {},
   "source": [
    "## 4.8 Transformation of confidence or uncertainty intervals"
   ]
  },
  {
   "cell_type": "markdown",
   "id": "6c35bba3",
   "metadata": {},
   "source": [
    "The multiplicative effect is that $y = 1.42x$, so if we take the log then $\\ln{y} = \\ln{1.42x} \\implies \\frac{\\ln{y}}{\\ln{x}} = \\ln{1.42}$"
   ]
  },
  {
   "cell_type": "code",
   "execution_count": 50,
   "id": "c888e2cc",
   "metadata": {
    "execution": {
     "iopub.execute_input": "2021-04-05T19:25:34.051286Z",
     "iopub.status.busy": "2021-04-05T19:25:34.051118Z",
     "iopub.status.idle": "2021-04-05T19:25:34.054508Z",
     "shell.execute_reply": "2021-04-05T19:25:34.053874Z",
     "shell.execute_reply.started": "2021-04-05T19:25:34.051269Z"
    }
   },
   "outputs": [
    {
     "data": {
      "text/plain": [
       "0.35065687161316933"
      ]
     },
     "execution_count": 50,
     "metadata": {},
     "output_type": "execute_result"
    }
   ],
   "source": [
    "np.log(1.42)"
   ]
  },
  {
   "cell_type": "markdown",
   "id": "060ec1ce",
   "metadata": {},
   "source": [
    "standard error in non-log scale is (1.42-1.02)/2 = 0.21/2 = 0.105, so one could say that the log version is also symmetric (i.e. should be $\\ln{1.05}$ in log space)"
   ]
  },
  {
   "cell_type": "code",
   "execution_count": 51,
   "id": "0e4a70f9",
   "metadata": {
    "execution": {
     "iopub.execute_input": "2021-04-05T19:26:13.901658Z",
     "iopub.status.busy": "2021-04-05T19:26:13.901503Z",
     "iopub.status.idle": "2021-04-05T19:26:13.904877Z",
     "shell.execute_reply": "2021-04-05T19:26:13.904378Z",
     "shell.execute_reply.started": "2021-04-05T19:26:13.901642Z"
    }
   },
   "outputs": [
    {
     "data": {
      "text/plain": [
       "0.04879016416943205"
      ]
     },
     "execution_count": 51,
     "metadata": {},
     "output_type": "execute_result"
    }
   ],
   "source": [
    "np.log(1.05)"
   ]
  },
  {
   "cell_type": "markdown",
   "id": "00a29103",
   "metadata": {},
   "source": [
    "## 4.9 Inference for a probability"
   ]
  },
  {
   "cell_type": "markdown",
   "id": "215abbfa",
   "metadata": {},
   "source": [
    "Let p be the proportion of students in the population who would get the question correct. p has an estimate of 0.6 and a standard error of sqrt(0.5^2/100) = 0.05.\n",
    "\n",
    "Let theta be the proportion of students in the population who actually know the answer. Based on the description above, we can write:\n",
    "p = theta + 0.25*(1 – theta) = 0.25 + 0.75*theta,\n",
    "thus theta = (p – 0.25)/0.75.\n",
    "This gives us an estimate of theta of (0.6 – 0.25)/0.75 = 0.47 and a standard error of 0.05/0.75 = 0.07, so the 95% confidence interval is [0.47 +/- 2*0.07] = [0.31, 0.59]\n",
    "\n",
    "this I got from [answer](https://statmodeling.stat.columbia.edu/2019/06/03/question-3-of-our-applied-regression-final-exam-and-solution-to-question-2/)"
   ]
  },
  {
   "cell_type": "markdown",
   "id": "98821dbe",
   "metadata": {},
   "source": [
    "this was a strange question for me because I wasn't sure what the question wanted me to do, as if there's some kind of shortcut somewhere that I am not seeing. Had I not have the context of the chapter, I probably would have started by writing down the Bayesian equation and try to do this in a probability, which is shown in [the first comment](https://statmodeling.stat.columbia.edu/2019/06/02/question-2-of-our-applied-regression-final-exam-and-solution-to-question-1/). But I didn't, kinda makes me feel stupid"
   ]
  },
  {
   "cell_type": "code",
   "execution_count": 53,
   "id": "83e39d79",
   "metadata": {
    "execution": {
     "iopub.execute_input": "2021-04-05T19:39:50.638830Z",
     "iopub.status.busy": "2021-04-05T19:39:50.638665Z",
     "iopub.status.idle": "2021-04-05T19:39:50.642405Z",
     "shell.execute_reply": "2021-04-05T19:39:50.641867Z",
     "shell.execute_reply.started": "2021-04-05T19:39:50.638813Z"
    },
    "tags": []
   },
   "outputs": [
    {
     "data": {
      "text/plain": [
       "0.05"
      ]
     },
     "execution_count": 53,
     "metadata": {},
     "output_type": "execute_result"
    }
   ],
   "source": [
    "p = 0.6\n",
    "se_p = np.sqrt(0.5*0.5/100) #this is apparently becuase that's standard practice when the probability is near 50%\n",
    "se_p"
   ]
  },
  {
   "cell_type": "code",
   "execution_count": 54,
   "id": "018d7f66",
   "metadata": {
    "execution": {
     "iopub.execute_input": "2021-04-05T19:41:55.890888Z",
     "iopub.status.busy": "2021-04-05T19:41:55.890733Z",
     "iopub.status.idle": "2021-04-05T19:41:55.893438Z",
     "shell.execute_reply": "2021-04-05T19:41:55.892889Z",
     "shell.execute_reply.started": "2021-04-05T19:41:55.890871Z"
    }
   },
   "outputs": [],
   "source": [
    "#p = theta + 0.25*(1-theta) where theta are people who knew the answer, 0.25 since pure guess\n",
    "theta = (p-0.25)/0.75"
   ]
  },
  {
   "cell_type": "code",
   "execution_count": 55,
   "id": "a36436d4",
   "metadata": {
    "execution": {
     "iopub.execute_input": "2021-04-05T19:41:57.542940Z",
     "iopub.status.busy": "2021-04-05T19:41:57.542780Z",
     "iopub.status.idle": "2021-04-05T19:41:57.545973Z",
     "shell.execute_reply": "2021-04-05T19:41:57.545456Z",
     "shell.execute_reply.started": "2021-04-05T19:41:57.542923Z"
    }
   },
   "outputs": [
    {
     "data": {
      "text/plain": [
       "0.4666666666666666"
      ]
     },
     "execution_count": 55,
     "metadata": {},
     "output_type": "execute_result"
    }
   ],
   "source": [
    "theta"
   ]
  },
  {
   "cell_type": "code",
   "execution_count": 57,
   "id": "aed97bcb",
   "metadata": {
    "execution": {
     "iopub.execute_input": "2021-04-05T19:55:10.358630Z",
     "iopub.status.busy": "2021-04-05T19:55:10.358445Z",
     "iopub.status.idle": "2021-04-05T19:55:10.361966Z",
     "shell.execute_reply": "2021-04-05T19:55:10.361358Z",
     "shell.execute_reply.started": "2021-04-05T19:55:10.358611Z"
    },
    "tags": []
   },
   "outputs": [
    {
     "data": {
      "text/plain": [
       "0.06666666666666667"
      ]
     },
     "execution_count": 57,
     "metadata": {},
     "output_type": "execute_result"
    }
   ],
   "source": [
    "0.05/0.75 # because SE is invariant under transformation"
   ]
  },
  {
   "cell_type": "markdown",
   "id": "72ae663c",
   "metadata": {
    "tags": []
   },
   "source": [
    "## 4.10 Survey weighting"
   ]
  },
  {
   "cell_type": "markdown",
   "id": "1b80e52c",
   "metadata": {},
   "source": [
    "Survey A is a random sample of 1000 Americans, survey B is a sample that over samples Lations with 300 randomly sapled Lationos and 700 other randomly sampled from non-Latinos. From a glance it would look like survey A would be a better representation of overall population, and the survey B would be better on the accurate comparisons. \n",
    "\n",
    "But we were told to check for the standard errors, so let's see. Assumption is that the national population is 15% Latino, and the questions are yes/no with approximately equal proportions of each response and there's no non-response"
   ]
  },
  {
   "cell_type": "code",
   "execution_count": 58,
   "id": "82c01a7c",
   "metadata": {
    "execution": {
     "iopub.execute_input": "2021-04-05T19:58:03.741975Z",
     "iopub.status.busy": "2021-04-05T19:58:03.741816Z",
     "iopub.status.idle": "2021-04-05T19:58:03.745926Z",
     "shell.execute_reply": "2021-04-05T19:58:03.745553Z",
     "shell.execute_reply.started": "2021-04-05T19:58:03.741958Z"
    }
   },
   "outputs": [
    {
     "data": {
      "text/plain": [
       "0.0447213595499958"
      ]
     },
     "execution_count": 58,
     "metadata": {},
     "output_type": "execute_result"
    }
   ],
   "source": [
    "# for Survey A, SE = sqrt(se1^2_+ se2^2)\n",
    "se1 = np.sqrt(0.5*0.5/(0.15*1000))\n",
    "se2 = np.sqrt(0.5*0.5/(0.75*1000))\n",
    "\n",
    "se_a = np.sqrt(np.power(se1,2)+np.power(se2,2))\n",
    "\n",
    "se_a"
   ]
  },
  {
   "cell_type": "code",
   "execution_count": 59,
   "id": "e48d5509",
   "metadata": {
    "execution": {
     "iopub.execute_input": "2021-04-05T19:58:36.622151Z",
     "iopub.status.busy": "2021-04-05T19:58:36.621901Z",
     "iopub.status.idle": "2021-04-05T19:58:36.627013Z",
     "shell.execute_reply": "2021-04-05T19:58:36.626372Z",
     "shell.execute_reply.started": "2021-04-05T19:58:36.622123Z"
    }
   },
   "outputs": [
    {
     "data": {
      "text/plain": [
       "0.03450327796711771"
      ]
     },
     "execution_count": 59,
     "metadata": {},
     "output_type": "execute_result"
    }
   ],
   "source": [
    "#for Survey B\n",
    "\n",
    "se1 = np.sqrt(0.5*0.5/(0.3*1000))\n",
    "se2 = np.sqrt(0.5*0.5/(0.7*1000))\n",
    "\n",
    "se_b = np.sqrt(np.power(se1,2)+np.power(se2,2))\n",
    "\n",
    "se_b"
   ]
  },
  {
   "cell_type": "markdown",
   "id": "d491e81c",
   "metadata": {},
   "source": [
    "Looks like SE_B would have a smaller 95% confidence interval than SE_A, so that supports that survey B is more appropriate for Latino specific response"
   ]
  },
  {
   "cell_type": "code",
   "execution_count": null,
   "id": "a089875d",
   "metadata": {},
   "outputs": [],
   "source": []
  }
 ],
 "metadata": {
  "kernelspec": {
   "display_name": "Python [conda env:ros]",
   "language": "python",
   "name": "conda-env-ros-py"
  },
  "language_info": {
   "codemirror_mode": {
    "name": "ipython",
    "version": 3
   },
   "file_extension": ".py",
   "mimetype": "text/x-python",
   "name": "python",
   "nbconvert_exporter": "python",
   "pygments_lexer": "ipython3",
   "version": "3.8.8"
  }
 },
 "nbformat": 4,
 "nbformat_minor": 5
}
