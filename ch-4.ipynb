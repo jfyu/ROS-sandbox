{
 "cells": [
  {
   "cell_type": "code",
   "execution_count": 2,
   "id": "8afb14d8",
   "metadata": {
    "execution": {
     "iopub.execute_input": "2021-05-30T20:40:49.429807Z",
     "iopub.status.busy": "2021-05-30T20:40:49.429570Z",
     "iopub.status.idle": "2021-05-30T20:40:49.921455Z",
     "shell.execute_reply": "2021-05-30T20:40:49.920981Z",
     "shell.execute_reply.started": "2021-05-30T20:40:49.429779Z"
    },
    "tags": []
   },
   "outputs": [],
   "source": [
    "import pandas as pd\n",
    "import numpy as np\n",
    "import matplotlib.pyplot as plt\n",
    "\n",
    "import scipy.stats as stats"
   ]
  },
  {
   "cell_type": "markdown",
   "id": "3b4ae87a",
   "metadata": {},
   "source": [
    "## inference for discrete data p. 54\n",
    "\n",
    "1000 randomly selected adults responding to questions about how many dogs they own. Q: what's the 95% confidence interval for the average number of dogs in the population"
   ]
  },
  {
   "cell_type": "code",
   "execution_count": 3,
   "id": "dce6826a",
   "metadata": {
    "execution": {
     "iopub.execute_input": "2021-05-30T20:40:49.922244Z",
     "iopub.status.busy": "2021-05-30T20:40:49.922119Z",
     "iopub.status.idle": "2021-05-30T20:40:49.925653Z",
     "shell.execute_reply": "2021-05-30T20:40:49.924930Z",
     "shell.execute_reply.started": "2021-05-30T20:40:49.922228Z"
    },
    "tags": []
   },
   "outputs": [],
   "source": [
    "df = pd.DataFrame(data={'n_dogs':[0,1,2,3,4], 'n_ppl':[600,300,50,30,20]})"
   ]
  },
  {
   "cell_type": "code",
   "execution_count": 4,
   "id": "2dff9547",
   "metadata": {
    "execution": {
     "iopub.execute_input": "2021-05-30T20:40:49.974134Z",
     "iopub.status.busy": "2021-05-30T20:40:49.973964Z",
     "iopub.status.idle": "2021-05-30T20:40:50.024619Z",
     "shell.execute_reply": "2021-05-30T20:40:50.024034Z",
     "shell.execute_reply.started": "2021-05-30T20:40:49.974117Z"
    },
    "tags": []
   },
   "outputs": [
    {
     "data": {
      "text/html": [
       "<div>\n",
       "<style scoped>\n",
       "    .dataframe tbody tr th:only-of-type {\n",
       "        vertical-align: middle;\n",
       "    }\n",
       "\n",
       "    .dataframe tbody tr th {\n",
       "        vertical-align: top;\n",
       "    }\n",
       "\n",
       "    .dataframe thead th {\n",
       "        text-align: right;\n",
       "    }\n",
       "</style>\n",
       "<table border=\"1\" class=\"dataframe\">\n",
       "  <thead>\n",
       "    <tr style=\"text-align: right;\">\n",
       "      <th></th>\n",
       "      <th>n_dogs</th>\n",
       "      <th>n_ppl</th>\n",
       "    </tr>\n",
       "  </thead>\n",
       "  <tbody>\n",
       "    <tr>\n",
       "      <th>0</th>\n",
       "      <td>0</td>\n",
       "      <td>600</td>\n",
       "    </tr>\n",
       "    <tr>\n",
       "      <th>1</th>\n",
       "      <td>1</td>\n",
       "      <td>300</td>\n",
       "    </tr>\n",
       "    <tr>\n",
       "      <th>2</th>\n",
       "      <td>2</td>\n",
       "      <td>50</td>\n",
       "    </tr>\n",
       "    <tr>\n",
       "      <th>3</th>\n",
       "      <td>3</td>\n",
       "      <td>30</td>\n",
       "    </tr>\n",
       "    <tr>\n",
       "      <th>4</th>\n",
       "      <td>4</td>\n",
       "      <td>20</td>\n",
       "    </tr>\n",
       "  </tbody>\n",
       "</table>\n",
       "</div>"
      ],
      "text/plain": [
       "   n_dogs  n_ppl\n",
       "0       0    600\n",
       "1       1    300\n",
       "2       2     50\n",
       "3       3     30\n",
       "4       4     20"
      ]
     },
     "execution_count": 4,
     "metadata": {},
     "output_type": "execute_result"
    }
   ],
   "source": [
    "df"
   ]
  },
  {
   "cell_type": "markdown",
   "id": "e3af600a",
   "metadata": {},
   "source": [
    "Use formula $\\overline{y} = \\frac{1}{n}\\sum_{i=1}^{n}y_{i}$ where $n=1000$, $y_i = \\textrm{n_dogs}\\times\\textrm{n_ppl}$  "
   ]
  },
  {
   "cell_type": "code",
   "execution_count": 5,
   "id": "303f3436",
   "metadata": {
    "execution": {
     "iopub.execute_input": "2021-05-30T20:40:50.318044Z",
     "iopub.status.busy": "2021-05-30T20:40:50.317366Z",
     "iopub.status.idle": "2021-05-30T20:40:50.332524Z",
     "shell.execute_reply": "2021-05-30T20:40:50.331200Z",
     "shell.execute_reply.started": "2021-05-30T20:40:50.317966Z"
    },
    "tags": []
   },
   "outputs": [
    {
     "data": {
      "text/plain": [
       "0.57"
      ]
     },
     "execution_count": 5,
     "metadata": {},
     "output_type": "execute_result"
    }
   ],
   "source": [
    "sum(df['n_dogs']*df['n_ppl'])/1000"
   ]
  },
  {
   "cell_type": "code",
   "execution_count": 6,
   "id": "f0b80522",
   "metadata": {
    "execution": {
     "iopub.execute_input": "2021-05-30T20:40:50.476143Z",
     "iopub.status.busy": "2021-05-30T20:40:50.475952Z",
     "iopub.status.idle": "2021-05-30T20:40:50.478918Z",
     "shell.execute_reply": "2021-05-30T20:40:50.478204Z",
     "shell.execute_reply.started": "2021-05-30T20:40:50.476122Z"
    },
    "tags": []
   },
   "outputs": [],
   "source": [
    "mean = 0.57"
   ]
  },
  {
   "cell_type": "markdown",
   "id": "47f8fe98",
   "metadata": {},
   "source": [
    "This is the average number of dogs per person, as agreed with R"
   ]
  },
  {
   "cell_type": "markdown",
   "id": "06c0a5e1",
   "metadata": {},
   "source": [
    "Use formula $s_{y} = \\sqrt{\\frac{1}{n-1}\\sum_{i=1}^{n}(y_{i}-\\overline{y})^2}$"
   ]
  },
  {
   "cell_type": "code",
   "execution_count": 7,
   "id": "4a2b9de5",
   "metadata": {
    "execution": {
     "iopub.execute_input": "2021-05-30T20:40:51.065639Z",
     "iopub.status.busy": "2021-05-30T20:40:51.064995Z",
     "iopub.status.idle": "2021-05-30T20:40:51.076443Z",
     "shell.execute_reply": "2021-05-30T20:40:51.074368Z",
     "shell.execute_reply.started": "2021-05-30T20:40:51.065563Z"
    },
    "tags": []
   },
   "outputs": [],
   "source": [
    "std = np.sqrt(sum(np.power((df['n_dogs']-0.57),2)*df['n_ppl'])/999)"
   ]
  },
  {
   "cell_type": "code",
   "execution_count": 8,
   "id": "07233d91",
   "metadata": {
    "execution": {
     "iopub.execute_input": "2021-05-30T20:40:51.252043Z",
     "iopub.status.busy": "2021-05-30T20:40:51.251671Z",
     "iopub.status.idle": "2021-05-30T20:40:51.258451Z",
     "shell.execute_reply": "2021-05-30T20:40:51.257216Z",
     "shell.execute_reply.started": "2021-05-30T20:40:51.252001Z"
    },
    "tags": []
   },
   "outputs": [
    {
     "data": {
      "text/plain": [
       "0.8751376268141291"
      ]
     },
     "execution_count": 8,
     "metadata": {},
     "output_type": "execute_result"
    }
   ],
   "source": [
    "std"
   ]
  },
  {
   "cell_type": "markdown",
   "id": "5c2bf4fa",
   "metadata": {},
   "source": [
    "Also matches with the R output"
   ]
  },
  {
   "cell_type": "markdown",
   "id": "7bdfbc7c",
   "metadata": {},
   "source": [
    "Standard Error is $se = \\frac{\\sigma}{\\sqrt{n}}$"
   ]
  },
  {
   "cell_type": "code",
   "execution_count": 9,
   "id": "78e8bd41",
   "metadata": {
    "execution": {
     "iopub.execute_input": "2021-05-30T20:40:51.837357Z",
     "iopub.status.busy": "2021-05-30T20:40:51.836699Z",
     "iopub.status.idle": "2021-05-30T20:40:51.845277Z",
     "shell.execute_reply": "2021-05-30T20:40:51.843204Z",
     "shell.execute_reply.started": "2021-05-30T20:40:51.837279Z"
    },
    "tags": []
   },
   "outputs": [],
   "source": [
    "se = std/np.sqrt(1000)"
   ]
  },
  {
   "cell_type": "code",
   "execution_count": 10,
   "id": "79269ad2",
   "metadata": {
    "execution": {
     "iopub.execute_input": "2021-05-30T20:40:52.032060Z",
     "iopub.status.busy": "2021-05-30T20:40:52.031422Z",
     "iopub.status.idle": "2021-05-30T20:40:52.496690Z",
     "shell.execute_reply": "2021-05-30T20:40:52.496259Z",
     "shell.execute_reply.started": "2021-05-30T20:40:52.031984Z"
    },
    "tags": []
   },
   "outputs": [
    {
     "data": {
      "text/plain": [
       "0.027674281668470926"
      ]
     },
     "execution_count": 10,
     "metadata": {},
     "output_type": "execute_result"
    }
   ],
   "source": [
    "se"
   ]
  },
  {
   "cell_type": "markdown",
   "id": "22369ab4",
   "metadata": {},
   "source": [
    "95% confidence interval is based on a t-distribution with n-1 degrees of freedom (dof)"
   ]
  },
  {
   "cell_type": "markdown",
   "id": "50aa08d3",
   "metadata": {},
   "source": [
    "`stats.t.ppf` seems to be the equivalent of `qt` in R"
   ]
  },
  {
   "cell_type": "code",
   "execution_count": 11,
   "id": "94b2f786",
   "metadata": {
    "execution": {
     "iopub.execute_input": "2021-05-30T20:40:52.587466Z",
     "iopub.status.busy": "2021-05-30T20:40:52.587189Z",
     "iopub.status.idle": "2021-05-30T20:40:52.641333Z",
     "shell.execute_reply": "2021-05-30T20:40:52.640935Z",
     "shell.execute_reply.started": "2021-05-30T20:40:52.587436Z"
    },
    "tags": []
   },
   "outputs": [
    {
     "data": {
      "text/plain": [
       "\u001b[0;31mSignature:\u001b[0m \u001b[0mstats\u001b[0m\u001b[0;34m.\u001b[0m\u001b[0mt\u001b[0m\u001b[0;34m.\u001b[0m\u001b[0mppf\u001b[0m\u001b[0;34m(\u001b[0m\u001b[0mq\u001b[0m\u001b[0;34m,\u001b[0m \u001b[0;34m*\u001b[0m\u001b[0margs\u001b[0m\u001b[0;34m,\u001b[0m \u001b[0;34m**\u001b[0m\u001b[0mkwds\u001b[0m\u001b[0;34m)\u001b[0m\u001b[0;34m\u001b[0m\u001b[0;34m\u001b[0m\u001b[0m\n",
       "\u001b[0;31mDocstring:\u001b[0m\n",
       "Percent point function (inverse of `cdf`) at q of the given RV.\n",
       "\n",
       "Parameters\n",
       "----------\n",
       "q : array_like\n",
       "    lower tail probability\n",
       "arg1, arg2, arg3,... : array_like\n",
       "    The shape parameter(s) for the distribution (see docstring of the\n",
       "    instance object for more information)\n",
       "loc : array_like, optional\n",
       "    location parameter (default=0)\n",
       "scale : array_like, optional\n",
       "    scale parameter (default=1)\n",
       "\n",
       "Returns\n",
       "-------\n",
       "x : array_like\n",
       "    quantile corresponding to the lower tail probability q.\n",
       "\u001b[0;31mFile:\u001b[0m      ~/miniconda3/envs/ros/lib/python3.8/site-packages/scipy/stats/_distn_infrastructure.py\n",
       "\u001b[0;31mType:\u001b[0m      method\n"
      ]
     },
     "metadata": {},
     "output_type": "display_data"
    }
   ],
   "source": [
    "stats.t.ppf?"
   ]
  },
  {
   "cell_type": "code",
   "execution_count": 12,
   "id": "6570a9b9",
   "metadata": {
    "execution": {
     "iopub.execute_input": "2021-05-30T20:40:52.782477Z",
     "iopub.status.busy": "2021-05-30T20:40:52.781683Z",
     "iopub.status.idle": "2021-05-30T20:40:52.787652Z",
     "shell.execute_reply": "2021-05-30T20:40:52.786849Z",
     "shell.execute_reply.started": "2021-05-30T20:40:52.782444Z"
    },
    "tags": []
   },
   "outputs": [],
   "source": [
    "int_95 = mean+stats.t.ppf([0.025, 0.975], 1000-1)*se"
   ]
  },
  {
   "cell_type": "code",
   "execution_count": 13,
   "id": "d64b12f4",
   "metadata": {
    "execution": {
     "iopub.execute_input": "2021-05-30T20:40:52.990251Z",
     "iopub.status.busy": "2021-05-30T20:40:52.989581Z",
     "iopub.status.idle": "2021-05-30T20:40:53.002381Z",
     "shell.execute_reply": "2021-05-30T20:40:53.000331Z",
     "shell.execute_reply.started": "2021-05-30T20:40:52.990173Z"
    },
    "tags": []
   },
   "outputs": [
    {
     "data": {
      "text/plain": [
       "array([0.51569361, 0.62430639])"
      ]
     },
     "execution_count": 13,
     "metadata": {},
     "output_type": "execute_result"
    }
   ],
   "source": [
    "int_95"
   ]
  },
  {
   "cell_type": "markdown",
   "id": "3701487c",
   "metadata": {},
   "source": [
    "This looks correct"
   ]
  },
  {
   "cell_type": "markdown",
   "id": "f85b78bc",
   "metadata": {},
   "source": [
    "# Exercises"
   ]
  },
  {
   "cell_type": "markdown",
   "id": "46dcc82d",
   "metadata": {},
   "source": [
    "## 4.1 Comparison of proportions"
   ]
  },
  {
   "cell_type": "code",
   "execution_count": 14,
   "id": "494b1082",
   "metadata": {
    "execution": {
     "iopub.execute_input": "2021-05-30T20:40:53.916890Z",
     "iopub.status.busy": "2021-05-30T20:40:53.916264Z",
     "iopub.status.idle": "2021-05-30T20:40:53.926086Z",
     "shell.execute_reply": "2021-05-30T20:40:53.924746Z",
     "shell.execute_reply.started": "2021-05-30T20:40:53.916816Z"
    },
    "tags": []
   },
   "outputs": [
    {
     "data": {
      "text/plain": [
       "0.09999999999999998"
      ]
     },
     "execution_count": 14,
     "metadata": {},
     "output_type": "execute_result"
    }
   ],
   "source": [
    "#average treatment effect\n",
    "estimate = 0.5-0.4\n",
    "estimate"
   ]
  },
  {
   "cell_type": "code",
   "execution_count": 15,
   "id": "27f673e2",
   "metadata": {
    "execution": {
     "iopub.execute_input": "2021-05-30T20:40:54.097889Z",
     "iopub.status.busy": "2021-05-30T20:40:54.097312Z",
     "iopub.status.idle": "2021-05-30T20:40:54.103623Z",
     "shell.execute_reply": "2021-05-30T20:40:54.102943Z",
     "shell.execute_reply.started": "2021-05-30T20:40:54.097863Z"
    },
    "tags": []
   },
   "outputs": [
    {
     "data": {
      "text/plain": [
       "0.03130495168499706"
      ]
     },
     "execution_count": 15,
     "metadata": {},
     "output_type": "execute_result"
    }
   ],
   "source": [
    "#standard error of the treatment effect, see standard error for a comparison\n",
    "se_ctrl = np.sqrt(0.4*0.6/500)\n",
    "se_treat = np.sqrt(0.5*0.5/500)\n",
    "se = np.sqrt(np.power(se_ctrl, 2)+np.power(se_treat,2))\n",
    "\n",
    "se"
   ]
  },
  {
   "cell_type": "markdown",
   "id": "856c536d",
   "metadata": {},
   "source": [
    "Answer: the estimated treatment effect is 0.1$\\pm$0.03, this answer is correct, according to [answer key](https://statmodeling.stat.columbia.edu/2019/06/02/question-2-of-our-applied-regression-final-exam-and-solution-to-question-1/)"
   ]
  },
  {
   "cell_type": "markdown",
   "id": "8eb74365",
   "metadata": {},
   "source": [
    "## 4.2 Choosing sample size"
   ]
  },
  {
   "cell_type": "markdown",
   "id": "e0a89c6c",
   "metadata": {},
   "source": [
    "Note that $se_{\\textrm{tot}} = \\sqrt{se_{1}^2+se_{2}^2}$, and $se = \\sqrt{\\frac{\\hat{p}(1-\\hat{p})}{n}}$, so $se_{\\textrm{tot}} = \\sqrt{\\frac{\\hat{p}_1\\left(1-\\hat{p}_1\\right)}{N/2}+\\frac{\\hat{p}_2\\left(1-\\hat{p}_2\\right)}{N/2}}$, if we assume that men and women are making up 0.5 of the total population\n",
    "\n",
    "Since we are asking about supporting a candidate, we can assme 0.5 for $\\hat{p}$ for both men and women as a mean since the response is either 0 or 1. Then we have\n",
    "\n",
    "$se_{\\textrm{tot}}^2 = \\frac{4*0.5^2}{N} \\leq 0.05^2 \\implies \\frac{4*0.5^2}{0.05^2} \\leq N \\implies 400 \\leq N$"
   ]
  },
  {
   "cell_type": "code",
   "execution_count": 16,
   "id": "661a6f2e",
   "metadata": {
    "execution": {
     "iopub.execute_input": "2021-05-30T20:40:54.955913Z",
     "iopub.status.busy": "2021-05-30T20:40:54.955263Z",
     "iopub.status.idle": "2021-05-30T20:40:54.966621Z",
     "shell.execute_reply": "2021-05-30T20:40:54.964550Z",
     "shell.execute_reply.started": "2021-05-30T20:40:54.955835Z"
    },
    "tags": []
   },
   "outputs": [
    {
     "data": {
      "text/plain": [
       "400.0"
      ]
     },
     "execution_count": 16,
     "metadata": {},
     "output_type": "execute_result"
    }
   ],
   "source": [
    "4*0.5*0.5/0.05/0.05"
   ]
  },
  {
   "cell_type": "markdown",
   "id": "33c1d306",
   "metadata": {},
   "source": [
    "Or, you think, $se = \\frac{\\sigma}{\\sqrt{N}}$, for a general population $\\sigma = 1$, so $1/\\sqrt{N} \\leq 0.05 \\implies N \\geq 0.05^{-2} = 400$ "
   ]
  },
  {
   "cell_type": "code",
   "execution_count": 17,
   "id": "e12804fc",
   "metadata": {
    "execution": {
     "iopub.execute_input": "2021-05-30T20:40:55.379869Z",
     "iopub.status.busy": "2021-05-30T20:40:55.379216Z",
     "iopub.status.idle": "2021-05-30T20:40:55.390940Z",
     "shell.execute_reply": "2021-05-30T20:40:55.389295Z",
     "shell.execute_reply.started": "2021-05-30T20:40:55.379793Z"
    },
    "tags": []
   },
   "outputs": [
    {
     "data": {
      "text/plain": [
       "400.0"
      ]
     },
     "execution_count": 17,
     "metadata": {},
     "output_type": "execute_result"
    }
   ],
   "source": [
    "np.power((1/0.05),2)"
   ]
  },
  {
   "cell_type": "markdown",
   "id": "bc23e57d",
   "metadata": {},
   "source": [
    "## 4.3 Comparison of Proportions"
   ]
  },
  {
   "cell_type": "markdown",
   "id": "e7491999",
   "metadata": {},
   "source": [
    "The question is asking for a p-value, with Null hypothesis that the better shooter makes more shots\n",
    "\n",
    "average (mean) treatment effect is 0.1\n",
    "\n",
    "standard error is"
   ]
  },
  {
   "cell_type": "code",
   "execution_count": 18,
   "id": "1682468e",
   "metadata": {
    "execution": {
     "iopub.execute_input": "2021-05-30T20:40:56.063879Z",
     "iopub.status.busy": "2021-05-30T20:40:56.063232Z",
     "iopub.status.idle": "2021-05-30T20:40:56.078559Z",
     "shell.execute_reply": "2021-05-30T20:40:56.076519Z",
     "shell.execute_reply.started": "2021-05-30T20:40:56.063803Z"
    },
    "tags": []
   },
   "outputs": [
    {
     "data": {
      "text/plain": [
       "0.15"
      ]
     },
     "execution_count": 18,
     "metadata": {},
     "output_type": "execute_result"
    }
   ],
   "source": [
    "se = se_ctrl = np.sqrt(0.4*0.6/20)\n",
    "se_treat = np.sqrt(0.3*0.7/20)\n",
    "se = np.sqrt(np.power(se_ctrl, 2)+np.power(se_treat,2))\n",
    "\n",
    "se"
   ]
  },
  {
   "cell_type": "markdown",
   "id": "c8dcba54",
   "metadata": {},
   "source": [
    "We know for a normal distribution $z=\\frac{x-\\mu}{\\sigma/\\sqrt{N}}$, we are trying to find the p-value. Here we know that if $x=0$, then the z-score would be for all the cdf of a Normal distribution up to 0, which means the cdf for this z-score gives the probability mass for us seeing $x\\leq0$. So we need $1-\\textrm{cdf}(z)$"
   ]
  },
  {
   "cell_type": "code",
   "execution_count": 19,
   "id": "4ce7a209",
   "metadata": {
    "execution": {
     "iopub.execute_input": "2021-05-30T20:40:56.527829Z",
     "iopub.status.busy": "2021-05-30T20:40:56.527152Z",
     "iopub.status.idle": "2021-05-30T20:40:56.537488Z",
     "shell.execute_reply": "2021-05-30T20:40:56.536075Z",
     "shell.execute_reply.started": "2021-05-30T20:40:56.527750Z"
    },
    "tags": []
   },
   "outputs": [
    {
     "data": {
      "text/plain": [
       "-0.6666666666666667"
      ]
     },
     "execution_count": 19,
     "metadata": {},
     "output_type": "execute_result"
    }
   ],
   "source": [
    "z = (0-0.1)/(0.15)\n",
    "z"
   ]
  },
  {
   "cell_type": "code",
   "execution_count": 20,
   "id": "075d28f0",
   "metadata": {
    "execution": {
     "iopub.execute_input": "2021-05-30T20:40:56.786561Z",
     "iopub.status.busy": "2021-05-30T20:40:56.785940Z",
     "iopub.status.idle": "2021-05-30T20:40:56.799461Z",
     "shell.execute_reply": "2021-05-30T20:40:56.797919Z",
     "shell.execute_reply.started": "2021-05-30T20:40:56.786489Z"
    },
    "tags": []
   },
   "outputs": [
    {
     "data": {
      "text/plain": [
       "0.7475074624530771"
      ]
     },
     "execution_count": 20,
     "metadata": {},
     "output_type": "execute_result"
    }
   ],
   "source": [
    "1-stats.norm.cdf(z)"
   ]
  },
  {
   "cell_type": "markdown",
   "id": "1b92aa97",
   "metadata": {},
   "source": [
    "So 75% chance of seeing a mean > 0 with normal"
   ]
  },
  {
   "cell_type": "markdown",
   "id": "17703c15",
   "metadata": {},
   "source": [
    "But the book talked about t tests. And our N is way too small to use a normal distribution, so what does the t look like?"
   ]
  },
  {
   "cell_type": "code",
   "execution_count": 21,
   "id": "fed98483",
   "metadata": {
    "execution": {
     "iopub.execute_input": "2021-05-30T20:40:57.549928Z",
     "iopub.status.busy": "2021-05-30T20:40:57.549258Z",
     "iopub.status.idle": "2021-05-30T20:40:57.562172Z",
     "shell.execute_reply": "2021-05-30T20:40:57.560338Z",
     "shell.execute_reply.started": "2021-05-30T20:40:57.549852Z"
    },
    "tags": []
   },
   "outputs": [
    {
     "data": {
      "text/plain": [
       "0.7455937742565715"
      ]
     },
     "execution_count": 21,
     "metadata": {},
     "output_type": "execute_result"
    }
   ],
   "source": [
    "1-stats.t.cdf(-0.1/0.15, df=40)"
   ]
  },
  {
   "cell_type": "markdown",
   "id": "61d016f3",
   "metadata": {},
   "source": [
    "for a t distribution it appears that we will see the effect 74% of the time, which looks very close"
   ]
  },
  {
   "cell_type": "code",
   "execution_count": 22,
   "id": "774e2e01",
   "metadata": {
    "execution": {
     "iopub.execute_input": "2021-05-30T20:40:58.005324Z",
     "iopub.status.busy": "2021-05-30T20:40:58.004683Z",
     "iopub.status.idle": "2021-05-30T20:40:58.636398Z",
     "shell.execute_reply": "2021-05-30T20:40:58.635824Z",
     "shell.execute_reply.started": "2021-05-30T20:40:58.005247Z"
    },
    "tags": []
   },
   "outputs": [],
   "source": [
    "import pymc3 as pm"
   ]
  },
  {
   "cell_type": "code",
   "execution_count": 23,
   "id": "a419f77c",
   "metadata": {
    "execution": {
     "iopub.execute_input": "2021-05-30T20:40:58.637298Z",
     "iopub.status.busy": "2021-05-30T20:40:58.637107Z",
     "iopub.status.idle": "2021-05-30T20:42:47.646247Z",
     "shell.execute_reply": "2021-05-30T20:42:47.645699Z",
     "shell.execute_reply.started": "2021-05-30T20:40:58.637263Z"
    },
    "tags": []
   },
   "outputs": [
    {
     "name": "stderr",
     "output_type": "stream",
     "text": [
      "Multiprocess sampling (3 chains in 3 jobs)\n",
      "CompoundStep\n",
      ">Metropolis: [n2]\n",
      ">Metropolis: [n1]\n"
     ]
    },
    {
     "data": {
      "text/html": [
       "\n",
       "    <div>\n",
       "        <style>\n",
       "            /* Turns off some styling */\n",
       "            progress {\n",
       "                /* gets rid of default border in Firefox and Opera. */\n",
       "                border: none;\n",
       "                /* Needs to be in here for Safari polyfill so background images work as expected. */\n",
       "                background-size: auto;\n",
       "            }\n",
       "            .progress-bar-interrupted, .progress-bar-interrupted::-webkit-progress-bar {\n",
       "                background: #F44336;\n",
       "            }\n",
       "        </style>\n",
       "      <progress value='903000' class='' max='903000' style='width:300px; height:20px; vertical-align: middle;'></progress>\n",
       "      100.00% [903000/903000 01:33<00:00 Sampling 3 chains, 0 divergences]\n",
       "    </div>\n",
       "    "
      ],
      "text/plain": [
       "<IPython.core.display.HTML object>"
      ]
     },
     "metadata": {},
     "output_type": "display_data"
    },
    {
     "name": "stderr",
     "output_type": "stream",
     "text": [
      "Sampling 3 chains for 1_000 tune and 300_000 draw iterations (3_000 + 900_000 draws total) took 94 seconds.\n",
      "The number of effective samples is smaller than 25% for some parameters.\n"
     ]
    }
   ],
   "source": [
    "with pm.Model() as model:\n",
    "    n1 = pm.Binomial('n1',p=0.4,n=20)\n",
    "    n2 = pm.Binomial('n2',p=0.3,n=20)\n",
    "    diff = pm.Deterministic('diff', n1-n2)\n",
    "    \n",
    "    trace = pm.sample(300000)"
   ]
  },
  {
   "cell_type": "code",
   "execution_count": 24,
   "id": "ab962cc2",
   "metadata": {
    "execution": {
     "iopub.execute_input": "2021-05-30T20:42:47.647728Z",
     "iopub.status.busy": "2021-05-30T20:42:47.647487Z",
     "iopub.status.idle": "2021-05-30T20:42:47.672511Z",
     "shell.execute_reply": "2021-05-30T20:42:47.671637Z",
     "shell.execute_reply.started": "2021-05-30T20:42:47.647691Z"
    },
    "tags": []
   },
   "outputs": [],
   "source": [
    "burned_trace = trace[10000:]"
   ]
  },
  {
   "cell_type": "code",
   "execution_count": 25,
   "id": "f48c2c98",
   "metadata": {
    "execution": {
     "iopub.execute_input": "2021-05-30T20:42:47.674553Z",
     "iopub.status.busy": "2021-05-30T20:42:47.674345Z",
     "iopub.status.idle": "2021-05-30T20:42:47.880956Z",
     "shell.execute_reply": "2021-05-30T20:42:47.878846Z",
     "shell.execute_reply.started": "2021-05-30T20:42:47.674534Z"
    },
    "tags": []
   },
   "outputs": [
    {
     "data": {
      "text/plain": [
       "array([ 9,  9,  4, ..., 12, 12, 13])"
      ]
     },
     "execution_count": 25,
     "metadata": {},
     "output_type": "execute_result"
    }
   ],
   "source": [
    "burned_trace['n1']"
   ]
  },
  {
   "cell_type": "code",
   "execution_count": 26,
   "id": "b6224ce9",
   "metadata": {
    "execution": {
     "iopub.execute_input": "2021-05-30T20:42:47.883924Z",
     "iopub.status.busy": "2021-05-30T20:42:47.883294Z",
     "iopub.status.idle": "2021-05-30T20:42:47.926365Z",
     "shell.execute_reply": "2021-05-30T20:42:47.925527Z",
     "shell.execute_reply.started": "2021-05-30T20:42:47.883847Z"
    },
    "tags": []
   },
   "outputs": [
    {
     "data": {
      "text/plain": [
       "array([11,  6,  8, ...,  9,  8,  9])"
      ]
     },
     "execution_count": 26,
     "metadata": {},
     "output_type": "execute_result"
    }
   ],
   "source": [
    "burned_trace['n2']"
   ]
  },
  {
   "cell_type": "code",
   "execution_count": 27,
   "id": "7e154290",
   "metadata": {
    "execution": {
     "iopub.execute_input": "2021-05-30T20:42:47.927568Z",
     "iopub.status.busy": "2021-05-30T20:42:47.927314Z",
     "iopub.status.idle": "2021-05-30T20:42:48.001757Z",
     "shell.execute_reply": "2021-05-30T20:42:48.001284Z",
     "shell.execute_reply.started": "2021-05-30T20:42:47.927541Z"
    },
    "tags": []
   },
   "outputs": [
    {
     "data": {
      "text/plain": [
       "2.0023218390804596"
      ]
     },
     "execution_count": 27,
     "metadata": {},
     "output_type": "execute_result"
    }
   ],
   "source": [
    "burned_trace['diff'].mean()"
   ]
  },
  {
   "cell_type": "markdown",
   "id": "0358adec",
   "metadata": {},
   "source": [
    "This is correct, we should see $0.1*20 = 2$ as mean"
   ]
  },
  {
   "cell_type": "code",
   "execution_count": 28,
   "id": "0badb423",
   "metadata": {
    "execution": {
     "iopub.execute_input": "2021-05-30T20:42:48.002820Z",
     "iopub.status.busy": "2021-05-30T20:42:48.002681Z",
     "iopub.status.idle": "2021-05-30T20:42:48.058199Z",
     "shell.execute_reply": "2021-05-30T20:42:48.057577Z",
     "shell.execute_reply.started": "2021-05-30T20:42:48.002802Z"
    },
    "tags": []
   },
   "outputs": [
    {
     "data": {
      "text/plain": [
       "3.0017828629315813"
      ]
     },
     "execution_count": 28,
     "metadata": {},
     "output_type": "execute_result"
    }
   ],
   "source": [
    "burned_trace['diff'].std()"
   ]
  },
  {
   "cell_type": "code",
   "execution_count": 29,
   "id": "05e4541f",
   "metadata": {
    "execution": {
     "iopub.execute_input": "2021-05-30T20:42:48.059474Z",
     "iopub.status.busy": "2021-05-30T20:42:48.059275Z",
     "iopub.status.idle": "2021-05-30T20:42:48.210436Z",
     "shell.execute_reply": "2021-05-30T20:42:48.209949Z",
     "shell.execute_reply.started": "2021-05-30T20:42:48.059452Z"
    },
    "tags": []
   },
   "outputs": [
    {
     "data": {
      "text/plain": [
       "0.6926413793103449"
      ]
     },
     "execution_count": 29,
     "metadata": {},
     "output_type": "execute_result"
    }
   ],
   "source": [
    "sum(np.where(burned_trace['diff']>0,1,0))/len(burned_trace['diff'])"
   ]
  },
  {
   "cell_type": "markdown",
   "id": "e8226232",
   "metadata": {},
   "source": [
    "So actually it should be 69%, close to the normal value....."
   ]
  },
  {
   "cell_type": "markdown",
   "id": "b2c8bc99",
   "metadata": {},
   "source": [
    "## 4.4 Design an Experiment"
   ]
  },
  {
   "cell_type": "markdown",
   "id": "50c2afde",
   "metadata": {},
   "source": [
    "This is the inverse of the previous question, I think this is asking for the 95% confidence interval"
   ]
  },
  {
   "cell_type": "code",
   "execution_count": 30,
   "id": "3e402042",
   "metadata": {
    "execution": {
     "iopub.execute_input": "2021-05-30T20:43:24.572919Z",
     "iopub.status.busy": "2021-05-30T20:43:24.572595Z",
     "iopub.status.idle": "2021-05-30T20:43:24.576977Z",
     "shell.execute_reply": "2021-05-30T20:43:24.576106Z",
     "shell.execute_reply.started": "2021-05-30T20:43:24.572882Z"
    },
    "tags": []
   },
   "outputs": [],
   "source": [
    "z = -1.65 #the z score for 95% one sided Normal distribution"
   ]
  },
  {
   "cell_type": "code",
   "execution_count": 31,
   "id": "194d4bb0",
   "metadata": {
    "execution": {
     "iopub.execute_input": "2021-05-30T20:43:24.715975Z",
     "iopub.status.busy": "2021-05-30T20:43:24.715787Z",
     "iopub.status.idle": "2021-05-30T20:43:24.719810Z",
     "shell.execute_reply": "2021-05-30T20:43:24.719354Z",
     "shell.execute_reply.started": "2021-05-30T20:43:24.715955Z"
    },
    "tags": []
   },
   "outputs": [
    {
     "data": {
      "text/plain": [
       "122.5125"
      ]
     },
     "execution_count": 31,
     "metadata": {},
     "output_type": "execute_result"
    }
   ],
   "source": [
    "sigma = np.sqrt(0.6*0.4+0.3*0.7)\n",
    "\n",
    "N= np.power(sigma*z/(-0.1),2)\n",
    "\n",
    "N"
   ]
  },
  {
   "cell_type": "markdown",
   "id": "fba5e2cc",
   "metadata": {},
   "source": [
    "We need roughly 123 trials"
   ]
  },
  {
   "cell_type": "markdown",
   "id": "c9ebc8c2",
   "metadata": {},
   "source": [
    "## 4.6 Hypothesis testing"
   ]
  },
  {
   "cell_type": "code",
   "execution_count": 32,
   "id": "13108748",
   "metadata": {
    "execution": {
     "iopub.execute_input": "2021-05-30T20:43:25.193290Z",
     "iopub.status.busy": "2021-05-30T20:43:25.192628Z",
     "iopub.status.idle": "2021-05-30T20:43:25.369595Z",
     "shell.execute_reply": "2021-05-30T20:43:25.368940Z",
     "shell.execute_reply.started": "2021-05-30T20:43:25.193212Z"
    },
    "tags": []
   },
   "outputs": [],
   "source": [
    "with open('/home/jfyu/projects/ROS-Examples/Girls/girls.dat', 'r') as f:\n",
    "    data = f.readlines()"
   ]
  },
  {
   "cell_type": "code",
   "execution_count": 33,
   "id": "f4dd0946",
   "metadata": {
    "execution": {
     "iopub.execute_input": "2021-05-30T20:43:25.370554Z",
     "iopub.status.busy": "2021-05-30T20:43:25.370401Z",
     "iopub.status.idle": "2021-05-30T20:43:26.134725Z",
     "shell.execute_reply": "2021-05-30T20:43:26.134154Z",
     "shell.execute_reply.started": "2021-05-30T20:43:25.370534Z"
    },
    "tags": []
   },
   "outputs": [
    {
     "data": {
      "text/plain": [
       "['Proportion of girl births in 24 successive months in Vienna, 1908-1909, out of an average of 3900 births per month.  Data from Mises (1953). See Chapter 4 in Regression and Other Stories.\\n',\n",
       " ' .4777\\n',\n",
       " ' .4875\\n',\n",
       " ' .4859\\n',\n",
       " ' .4754\\n',\n",
       " ' .4874\\n',\n",
       " ' .4864\\n',\n",
       " ' .4813\\n',\n",
       " ' .4787\\n',\n",
       " ' .4895\\n',\n",
       " ' .4797\\n',\n",
       " ' .4876\\n',\n",
       " ' .4859\\n',\n",
       " ' .4857\\n',\n",
       " ' .4907\\n',\n",
       " ' .5010\\n',\n",
       " ' .4903\\n',\n",
       " ' .4860\\n',\n",
       " ' .4911\\n',\n",
       " ' .4871\\n',\n",
       " ' .4725\\n',\n",
       " ' .4822\\n',\n",
       " ' .4870\\n',\n",
       " ' .4823\\n',\n",
       " ' .4973']"
      ]
     },
     "execution_count": 33,
     "metadata": {},
     "output_type": "execute_result"
    }
   ],
   "source": [
    "data"
   ]
  },
  {
   "cell_type": "code",
   "execution_count": 34,
   "id": "9c9b6ead",
   "metadata": {
    "execution": {
     "iopub.execute_input": "2021-05-30T20:43:26.135662Z",
     "iopub.status.busy": "2021-05-30T20:43:26.135525Z",
     "iopub.status.idle": "2021-05-30T20:43:26.183986Z",
     "shell.execute_reply": "2021-05-30T20:43:26.183577Z",
     "shell.execute_reply.started": "2021-05-30T20:43:26.135645Z"
    },
    "tags": []
   },
   "outputs": [],
   "source": [
    "data = data[1:]"
   ]
  },
  {
   "cell_type": "code",
   "execution_count": 35,
   "id": "d1303f66",
   "metadata": {
    "execution": {
     "iopub.execute_input": "2021-05-30T20:43:26.184754Z",
     "iopub.status.busy": "2021-05-30T20:43:26.184627Z",
     "iopub.status.idle": "2021-05-30T20:43:26.270197Z",
     "shell.execute_reply": "2021-05-30T20:43:26.268205Z",
     "shell.execute_reply.started": "2021-05-30T20:43:26.184737Z"
    },
    "tags": []
   },
   "outputs": [
    {
     "data": {
      "text/plain": [
       "[' .4777\\n',\n",
       " ' .4875\\n',\n",
       " ' .4859\\n',\n",
       " ' .4754\\n',\n",
       " ' .4874\\n',\n",
       " ' .4864\\n',\n",
       " ' .4813\\n',\n",
       " ' .4787\\n',\n",
       " ' .4895\\n',\n",
       " ' .4797\\n',\n",
       " ' .4876\\n',\n",
       " ' .4859\\n',\n",
       " ' .4857\\n',\n",
       " ' .4907\\n',\n",
       " ' .5010\\n',\n",
       " ' .4903\\n',\n",
       " ' .4860\\n',\n",
       " ' .4911\\n',\n",
       " ' .4871\\n',\n",
       " ' .4725\\n',\n",
       " ' .4822\\n',\n",
       " ' .4870\\n',\n",
       " ' .4823\\n',\n",
       " ' .4973']"
      ]
     },
     "execution_count": 35,
     "metadata": {},
     "output_type": "execute_result"
    }
   ],
   "source": [
    "data"
   ]
  },
  {
   "cell_type": "code",
   "execution_count": 36,
   "id": "b669ea8f",
   "metadata": {
    "execution": {
     "iopub.execute_input": "2021-05-30T20:43:26.273367Z",
     "iopub.status.busy": "2021-05-30T20:43:26.272773Z",
     "iopub.status.idle": "2021-05-30T20:43:26.319959Z",
     "shell.execute_reply": "2021-05-30T20:43:26.319117Z",
     "shell.execute_reply.started": "2021-05-30T20:43:26.273291Z"
    },
    "tags": []
   },
   "outputs": [],
   "source": [
    "girl_birth = []\n",
    "for i in data:\n",
    "    girl_birth.append(np.float(i.strip('\\n')))"
   ]
  },
  {
   "cell_type": "code",
   "execution_count": 37,
   "id": "042d23a5",
   "metadata": {
    "execution": {
     "iopub.execute_input": "2021-05-30T20:43:26.622163Z",
     "iopub.status.busy": "2021-05-30T20:43:26.621476Z",
     "iopub.status.idle": "2021-05-30T20:43:26.634467Z",
     "shell.execute_reply": "2021-05-30T20:43:26.630843Z",
     "shell.execute_reply.started": "2021-05-30T20:43:26.622083Z"
    },
    "tags": []
   },
   "outputs": [],
   "source": [
    "df = pd.DataFrame({'girl_birth_rate':girl_birth})"
   ]
  },
  {
   "cell_type": "code",
   "execution_count": 38,
   "id": "153db1fc",
   "metadata": {
    "execution": {
     "iopub.execute_input": "2021-05-30T20:43:27.061922Z",
     "iopub.status.busy": "2021-05-30T20:43:27.061270Z",
     "iopub.status.idle": "2021-05-30T20:43:27.084904Z",
     "shell.execute_reply": "2021-05-30T20:43:27.083998Z",
     "shell.execute_reply.started": "2021-05-30T20:43:27.061846Z"
    },
    "tags": []
   },
   "outputs": [
    {
     "data": {
      "text/html": [
       "<div>\n",
       "<style scoped>\n",
       "    .dataframe tbody tr th:only-of-type {\n",
       "        vertical-align: middle;\n",
       "    }\n",
       "\n",
       "    .dataframe tbody tr th {\n",
       "        vertical-align: top;\n",
       "    }\n",
       "\n",
       "    .dataframe thead th {\n",
       "        text-align: right;\n",
       "    }\n",
       "</style>\n",
       "<table border=\"1\" class=\"dataframe\">\n",
       "  <thead>\n",
       "    <tr style=\"text-align: right;\">\n",
       "      <th></th>\n",
       "      <th>girl_birth_rate</th>\n",
       "    </tr>\n",
       "  </thead>\n",
       "  <tbody>\n",
       "    <tr>\n",
       "      <th>0</th>\n",
       "      <td>0.4777</td>\n",
       "    </tr>\n",
       "    <tr>\n",
       "      <th>1</th>\n",
       "      <td>0.4875</td>\n",
       "    </tr>\n",
       "    <tr>\n",
       "      <th>2</th>\n",
       "      <td>0.4859</td>\n",
       "    </tr>\n",
       "    <tr>\n",
       "      <th>3</th>\n",
       "      <td>0.4754</td>\n",
       "    </tr>\n",
       "    <tr>\n",
       "      <th>4</th>\n",
       "      <td>0.4874</td>\n",
       "    </tr>\n",
       "    <tr>\n",
       "      <th>5</th>\n",
       "      <td>0.4864</td>\n",
       "    </tr>\n",
       "    <tr>\n",
       "      <th>6</th>\n",
       "      <td>0.4813</td>\n",
       "    </tr>\n",
       "    <tr>\n",
       "      <th>7</th>\n",
       "      <td>0.4787</td>\n",
       "    </tr>\n",
       "    <tr>\n",
       "      <th>8</th>\n",
       "      <td>0.4895</td>\n",
       "    </tr>\n",
       "    <tr>\n",
       "      <th>9</th>\n",
       "      <td>0.4797</td>\n",
       "    </tr>\n",
       "    <tr>\n",
       "      <th>10</th>\n",
       "      <td>0.4876</td>\n",
       "    </tr>\n",
       "    <tr>\n",
       "      <th>11</th>\n",
       "      <td>0.4859</td>\n",
       "    </tr>\n",
       "    <tr>\n",
       "      <th>12</th>\n",
       "      <td>0.4857</td>\n",
       "    </tr>\n",
       "    <tr>\n",
       "      <th>13</th>\n",
       "      <td>0.4907</td>\n",
       "    </tr>\n",
       "    <tr>\n",
       "      <th>14</th>\n",
       "      <td>0.5010</td>\n",
       "    </tr>\n",
       "    <tr>\n",
       "      <th>15</th>\n",
       "      <td>0.4903</td>\n",
       "    </tr>\n",
       "    <tr>\n",
       "      <th>16</th>\n",
       "      <td>0.4860</td>\n",
       "    </tr>\n",
       "    <tr>\n",
       "      <th>17</th>\n",
       "      <td>0.4911</td>\n",
       "    </tr>\n",
       "    <tr>\n",
       "      <th>18</th>\n",
       "      <td>0.4871</td>\n",
       "    </tr>\n",
       "    <tr>\n",
       "      <th>19</th>\n",
       "      <td>0.4725</td>\n",
       "    </tr>\n",
       "    <tr>\n",
       "      <th>20</th>\n",
       "      <td>0.4822</td>\n",
       "    </tr>\n",
       "    <tr>\n",
       "      <th>21</th>\n",
       "      <td>0.4870</td>\n",
       "    </tr>\n",
       "    <tr>\n",
       "      <th>22</th>\n",
       "      <td>0.4823</td>\n",
       "    </tr>\n",
       "    <tr>\n",
       "      <th>23</th>\n",
       "      <td>0.4973</td>\n",
       "    </tr>\n",
       "  </tbody>\n",
       "</table>\n",
       "</div>"
      ],
      "text/plain": [
       "    girl_birth_rate\n",
       "0            0.4777\n",
       "1            0.4875\n",
       "2            0.4859\n",
       "3            0.4754\n",
       "4            0.4874\n",
       "5            0.4864\n",
       "6            0.4813\n",
       "7            0.4787\n",
       "8            0.4895\n",
       "9            0.4797\n",
       "10           0.4876\n",
       "11           0.4859\n",
       "12           0.4857\n",
       "13           0.4907\n",
       "14           0.5010\n",
       "15           0.4903\n",
       "16           0.4860\n",
       "17           0.4911\n",
       "18           0.4871\n",
       "19           0.4725\n",
       "20           0.4822\n",
       "21           0.4870\n",
       "22           0.4823\n",
       "23           0.4973"
      ]
     },
     "execution_count": 38,
     "metadata": {},
     "output_type": "execute_result"
    }
   ],
   "source": [
    "df"
   ]
  },
  {
   "cell_type": "code",
   "execution_count": 39,
   "id": "ae227800",
   "metadata": {
    "execution": {
     "iopub.execute_input": "2021-05-30T20:43:27.402699Z",
     "iopub.status.busy": "2021-05-30T20:43:27.402339Z",
     "iopub.status.idle": "2021-05-30T20:43:27.866741Z",
     "shell.execute_reply": "2021-05-30T20:43:27.864840Z",
     "shell.execute_reply.started": "2021-05-30T20:43:27.402656Z"
    },
    "tags": []
   },
   "outputs": [
    {
     "data": {
      "text/plain": [
       "0.006409724269997214"
      ]
     },
     "execution_count": 39,
     "metadata": {},
     "output_type": "execute_result"
    }
   ],
   "source": [
    "std_observed = df['girl_birth_rate'].std()\n",
    "std_observed"
   ]
  },
  {
   "cell_type": "markdown",
   "id": "798a77c1",
   "metadata": {},
   "source": [
    "what would be expected if the birth proportions were constant? See p. 64"
   ]
  },
  {
   "cell_type": "code",
   "execution_count": 40,
   "id": "642c6f33",
   "metadata": {
    "execution": {
     "iopub.execute_input": "2021-05-30T20:43:28.095216Z",
     "iopub.status.busy": "2021-05-30T20:43:28.094932Z",
     "iopub.status.idle": "2021-05-30T20:43:28.100791Z",
     "shell.execute_reply": "2021-05-30T20:43:28.100016Z",
     "shell.execute_reply.started": "2021-05-30T20:43:28.095184Z"
    },
    "tags": []
   },
   "outputs": [],
   "source": [
    "p_hat = sum(df['girl_birth_rate']*3900)/(3900*len(df)) #empirical rate\n",
    "theoretical_std = np.sqrt(p_hat*(1-p_hat)/3900)"
   ]
  },
  {
   "cell_type": "code",
   "execution_count": 41,
   "id": "2dbe94e9",
   "metadata": {
    "execution": {
     "iopub.execute_input": "2021-05-30T20:43:28.653633Z",
     "iopub.status.busy": "2021-05-30T20:43:28.652947Z",
     "iopub.status.idle": "2021-05-30T20:43:28.661196Z",
     "shell.execute_reply": "2021-05-30T20:43:28.660180Z",
     "shell.execute_reply.started": "2021-05-30T20:43:28.653551Z"
    },
    "tags": []
   },
   "outputs": [
    {
     "data": {
      "text/plain": [
       "0.008003121095900088"
      ]
     },
     "execution_count": 41,
     "metadata": {},
     "output_type": "execute_result"
    }
   ],
   "source": [
    "theoretical_std"
   ]
  },
  {
   "cell_type": "code",
   "execution_count": 42,
   "id": "d10a06db",
   "metadata": {
    "execution": {
     "iopub.execute_input": "2021-05-30T20:43:28.663149Z",
     "iopub.status.busy": "2021-05-30T20:43:28.662680Z",
     "iopub.status.idle": "2021-05-30T20:43:28.725468Z",
     "shell.execute_reply": "2021-05-30T20:43:28.725069Z",
     "shell.execute_reply.started": "2021-05-30T20:43:28.663108Z"
    },
    "tags": []
   },
   "outputs": [],
   "source": [
    "n = 24\n",
    "chi_stats = sum(np.power(df['girl_birth_rate']-p_hat,2))/np.power(p_hat,2)"
   ]
  },
  {
   "cell_type": "code",
   "execution_count": 43,
   "id": "cc6c605e",
   "metadata": {
    "execution": {
     "iopub.execute_input": "2021-05-30T20:43:28.903221Z",
     "iopub.status.busy": "2021-05-30T20:43:28.902578Z",
     "iopub.status.idle": "2021-05-30T20:43:29.591729Z",
     "shell.execute_reply": "2021-05-30T20:43:29.590341Z",
     "shell.execute_reply.started": "2021-05-30T20:43:28.903141Z"
    },
    "tags": []
   },
   "outputs": [
    {
     "data": {
      "text/plain": [
       "0.004006037715187785"
      ]
     },
     "execution_count": 43,
     "metadata": {},
     "output_type": "execute_result"
    }
   ],
   "source": [
    "chi_stats"
   ]
  },
  {
   "cell_type": "code",
   "execution_count": 44,
   "id": "12ac9f81",
   "metadata": {
    "execution": {
     "iopub.execute_input": "2021-05-30T20:43:29.593876Z",
     "iopub.status.busy": "2021-05-30T20:43:29.593450Z",
     "iopub.status.idle": "2021-05-30T20:43:29.655491Z",
     "shell.execute_reply": "2021-05-30T20:43:29.654783Z",
     "shell.execute_reply.started": "2021-05-30T20:43:29.593805Z"
    },
    "tags": []
   },
   "outputs": [
    {
     "data": {
      "text/plain": [
       "0.5015809013819601"
      ]
     },
     "execution_count": 44,
     "metadata": {},
     "output_type": "execute_result"
    }
   ],
   "source": [
    "stats.t.cdf(chi_stats, df=23)"
   ]
  },
  {
   "cell_type": "markdown",
   "id": "972cd2e1",
   "metadata": {},
   "source": [
    "so there is not enough evidence to reject the hypothesis that the \"constant variance\" is actually chance"
   ]
  },
  {
   "cell_type": "markdown",
   "id": "8b18713a",
   "metadata": {},
   "source": [
    "## 4.7 Inference from a proportion with y=0"
   ]
  },
  {
   "cell_type": "markdown",
   "id": "ff6a75a9",
   "metadata": {},
   "source": [
    "apparently according to p. 52, if y = 0 then we use a quick correction where $\\hat{y} = \\frac{y+2}{n+4}$"
   ]
  },
  {
   "cell_type": "code",
   "execution_count": 45,
   "id": "d211e286",
   "metadata": {
    "execution": {
     "iopub.execute_input": "2021-05-30T20:43:30.959870Z",
     "iopub.status.busy": "2021-05-30T20:43:30.959239Z",
     "iopub.status.idle": "2021-05-30T20:43:30.968526Z",
     "shell.execute_reply": "2021-05-30T20:43:30.966467Z",
     "shell.execute_reply.started": "2021-05-30T20:43:30.959793Z"
    },
    "tags": []
   },
   "outputs": [],
   "source": [
    "p_hat = 2/(50+4)\n",
    "\n",
    "se = np.sqrt(p_hat*(1-p_hat)/(50+4))"
   ]
  },
  {
   "cell_type": "code",
   "execution_count": 46,
   "id": "f7c7967a",
   "metadata": {
    "execution": {
     "iopub.execute_input": "2021-05-30T20:43:31.141993Z",
     "iopub.status.busy": "2021-05-30T20:43:31.141302Z",
     "iopub.status.idle": "2021-05-30T20:43:31.152035Z",
     "shell.execute_reply": "2021-05-30T20:43:31.150521Z",
     "shell.execute_reply.started": "2021-05-30T20:43:31.141914Z"
    },
    "tags": []
   },
   "outputs": [
    {
     "data": {
      "text/plain": [
       "0.025699580240322626"
      ]
     },
     "execution_count": 46,
     "metadata": {},
     "output_type": "execute_result"
    }
   ],
   "source": [
    "se"
   ]
  },
  {
   "cell_type": "code",
   "execution_count": 47,
   "id": "82a7bcd3",
   "metadata": {
    "execution": {
     "iopub.execute_input": "2021-05-30T20:43:31.653944Z",
     "iopub.status.busy": "2021-05-30T20:43:31.653268Z",
     "iopub.status.idle": "2021-05-30T20:43:32.050796Z",
     "shell.execute_reply": "2021-05-30T20:43:32.048896Z",
     "shell.execute_reply.started": "2021-05-30T20:43:31.653867Z"
    },
    "tags": []
   },
   "outputs": [
    {
     "data": {
      "text/plain": [
       "0.037037037037037035"
      ]
     },
     "execution_count": 47,
     "metadata": {},
     "output_type": "execute_result"
    }
   ],
   "source": [
    "p_hat"
   ]
  },
  {
   "cell_type": "code",
   "execution_count": 48,
   "id": "c0bb55a7",
   "metadata": {
    "execution": {
     "iopub.execute_input": "2021-05-30T20:43:32.174199Z",
     "iopub.status.busy": "2021-05-30T20:43:32.173487Z",
     "iopub.status.idle": "2021-05-30T20:43:32.183650Z",
     "shell.execute_reply": "2021-05-30T20:43:32.182229Z",
     "shell.execute_reply.started": "2021-05-30T20:43:32.174120Z"
    },
    "tags": []
   },
   "outputs": [
    {
     "data": {
      "text/plain": [
       "-0.014362123443608217"
      ]
     },
     "execution_count": 48,
     "metadata": {},
     "output_type": "execute_result"
    }
   ],
   "source": [
    "p_hat-2*se"
   ]
  },
  {
   "cell_type": "code",
   "execution_count": 49,
   "id": "d106da5e",
   "metadata": {
    "execution": {
     "iopub.execute_input": "2021-05-30T20:43:33.014813Z",
     "iopub.status.busy": "2021-05-30T20:43:33.014160Z",
     "iopub.status.idle": "2021-05-30T20:43:33.024420Z",
     "shell.execute_reply": "2021-05-30T20:43:33.022946Z",
     "shell.execute_reply.started": "2021-05-30T20:43:33.014734Z"
    },
    "tags": []
   },
   "outputs": [
    {
     "data": {
      "text/plain": [
       "0.08843619751768228"
      ]
     },
     "execution_count": 49,
     "metadata": {},
     "output_type": "execute_result"
    }
   ],
   "source": [
    "p_hat+2*se"
   ]
  },
  {
   "cell_type": "markdown",
   "id": "e71ce1be",
   "metadata": {},
   "source": [
    "Effect cannot be 0, so we have \\[0, 0.088\\]\n",
    "\n",
    "this answer is correct, according to the [answer key](https://statmodeling.stat.columbia.edu/2019/06/09/question-9-of-our-applied-regression-final-exam-and-solution-to-question-8/)"
   ]
  },
  {
   "cell_type": "markdown",
   "id": "51f73408",
   "metadata": {},
   "source": [
    "## 4.8 Transformation of confidence or uncertainty intervals"
   ]
  },
  {
   "cell_type": "markdown",
   "id": "af318d54",
   "metadata": {},
   "source": [
    "I think this question is literally asking if a distribution has mean 1.42 and som 95% CL, what happens if you log transform it...."
   ]
  },
  {
   "cell_type": "code",
   "execution_count": 125,
   "id": "c2e00722",
   "metadata": {
    "execution": {
     "iopub.execute_input": "2021-05-30T21:34:49.668884Z",
     "iopub.status.busy": "2021-05-30T21:34:49.668679Z",
     "iopub.status.idle": "2021-05-30T21:34:49.672873Z",
     "shell.execute_reply": "2021-05-30T21:34:49.672196Z",
     "shell.execute_reply.started": "2021-05-30T21:34:49.668861Z"
    },
    "tags": []
   },
   "outputs": [
    {
     "data": {
      "text/plain": [
       "0.35065687161316933"
      ]
     },
     "execution_count": 125,
     "metadata": {},
     "output_type": "execute_result"
    }
   ],
   "source": [
    "np.log(1.42)"
   ]
  },
  {
   "cell_type": "markdown",
   "id": "3c00b403",
   "metadata": {},
   "source": [
    "For standard error you have to transform the end points"
   ]
  },
  {
   "cell_type": "code",
   "execution_count": 124,
   "id": "3eafb637",
   "metadata": {
    "execution": {
     "iopub.execute_input": "2021-05-30T21:33:19.990182Z",
     "iopub.status.busy": "2021-05-30T21:33:19.989964Z",
     "iopub.status.idle": "2021-05-30T21:33:19.994178Z",
     "shell.execute_reply": "2021-05-30T21:33:19.993697Z",
     "shell.execute_reply.started": "2021-05-30T21:33:19.990158Z"
    }
   },
   "outputs": [
    {
     "data": {
      "text/plain": [
       "0.1654271221584948"
      ]
     },
     "execution_count": 124,
     "metadata": {},
     "output_type": "execute_result"
    }
   ],
   "source": [
    "(np.log(1.42)-np.log(1.02))/2"
   ]
  },
  {
   "cell_type": "markdown",
   "id": "3d7cf147",
   "metadata": {},
   "source": [
    "# 4.9 Inference for a probability"
   ]
  },
  {
   "cell_type": "markdown",
   "id": "219cf974",
   "metadata": {},
   "source": [
    "Let p be the proportion of students in the population who would get the question correct. p has an estimate of 0.6 and a standard error of sqrt(0.5^2/100) = 0.05.\n",
    "\n",
    "Let theta be the proportion of students in the population who actually know the answer. Based on the description above, we can write:\n",
    "p = theta + 0.25*(1 – theta) = 0.25 + 0.75*theta,\n",
    "thus theta = (p – 0.25)/0.75.\n",
    "This gives us an estimate of theta of (0.6 – 0.25)/0.75 = 0.47 and a standard error of 0.05/0.75 = 0.07, so the 95% confidence interval is [0.47 +/- 2*0.07] = [0.31, 0.59]\n",
    "\n",
    "this I got from [answer](https://statmodeling.stat.columbia.edu/2019/06/03/question-3-of-our-applied-regression-final-exam-and-solution-to-question-2/)"
   ]
  },
  {
   "cell_type": "markdown",
   "id": "c323a9a8",
   "metadata": {},
   "source": [
    "this was a strange question for me because I wasn't sure what the question wanted me to do, as if there's some kind of shortcut somewhere that I am not seeing. Had I not have the context of the chapter, I probably would have started by writing down the Bayesian equation and try to do this in a probability, which is shown in [the first comment](https://statmodeling.stat.columbia.edu/2019/06/02/question-2-of-our-applied-regression-final-exam-and-solution-to-question-1/). But I didn't, kinda makes me feel stupid"
   ]
  },
  {
   "cell_type": "code",
   "execution_count": 53,
   "id": "0fab6688",
   "metadata": {
    "execution": {
     "iopub.execute_input": "2021-04-05T19:39:50.638830Z",
     "iopub.status.busy": "2021-04-05T19:39:50.638665Z",
     "iopub.status.idle": "2021-04-05T19:39:50.642405Z",
     "shell.execute_reply": "2021-04-05T19:39:50.641867Z",
     "shell.execute_reply.started": "2021-04-05T19:39:50.638813Z"
    },
    "tags": []
   },
   "outputs": [
    {
     "data": {
      "text/plain": [
       "0.05"
      ]
     },
     "execution_count": 53,
     "metadata": {},
     "output_type": "execute_result"
    }
   ],
   "source": [
    "p = 0.6\n",
    "se_p = np.sqrt(0.5*0.5/100) #this is apparently becuase that's standard practice when the probability is near 50%\n",
    "se_p"
   ]
  },
  {
   "cell_type": "code",
   "execution_count": 54,
   "id": "ec7b9f14",
   "metadata": {
    "execution": {
     "iopub.execute_input": "2021-04-05T19:41:55.890888Z",
     "iopub.status.busy": "2021-04-05T19:41:55.890733Z",
     "iopub.status.idle": "2021-04-05T19:41:55.893438Z",
     "shell.execute_reply": "2021-04-05T19:41:55.892889Z",
     "shell.execute_reply.started": "2021-04-05T19:41:55.890871Z"
    }
   },
   "outputs": [],
   "source": [
    "#p = theta + 0.25*(1-theta) where theta are people who knew the answer, 0.25 since pure guess\n",
    "theta = (p-0.25)/0.75"
   ]
  },
  {
   "cell_type": "code",
   "execution_count": 55,
   "id": "37ae2969",
   "metadata": {
    "execution": {
     "iopub.execute_input": "2021-04-05T19:41:57.542940Z",
     "iopub.status.busy": "2021-04-05T19:41:57.542780Z",
     "iopub.status.idle": "2021-04-05T19:41:57.545973Z",
     "shell.execute_reply": "2021-04-05T19:41:57.545456Z",
     "shell.execute_reply.started": "2021-04-05T19:41:57.542923Z"
    }
   },
   "outputs": [
    {
     "data": {
      "text/plain": [
       "0.4666666666666666"
      ]
     },
     "execution_count": 55,
     "metadata": {},
     "output_type": "execute_result"
    }
   ],
   "source": [
    "theta"
   ]
  },
  {
   "cell_type": "code",
   "execution_count": 57,
   "id": "1bf3c7b9",
   "metadata": {
    "execution": {
     "iopub.execute_input": "2021-04-05T19:55:10.358630Z",
     "iopub.status.busy": "2021-04-05T19:55:10.358445Z",
     "iopub.status.idle": "2021-04-05T19:55:10.361966Z",
     "shell.execute_reply": "2021-04-05T19:55:10.361358Z",
     "shell.execute_reply.started": "2021-04-05T19:55:10.358611Z"
    },
    "tags": []
   },
   "outputs": [
    {
     "data": {
      "text/plain": [
       "0.06666666666666667"
      ]
     },
     "execution_count": 57,
     "metadata": {},
     "output_type": "execute_result"
    }
   ],
   "source": [
    "0.05/0.75 # because SE is invariant under transformation"
   ]
  },
  {
   "cell_type": "markdown",
   "id": "0f46c711",
   "metadata": {
    "tags": []
   },
   "source": [
    "## 4.10 Survey weighting"
   ]
  },
  {
   "cell_type": "markdown",
   "id": "1d923951",
   "metadata": {},
   "source": [
    "Survey A is a random sample of 1000 Americans, survey B is a sample that over samples Lations with 300 randomly sapled Lationos and 700 other randomly sampled from non-Latinos. From a glance it would look like survey A would be a better representation of overall population, and the survey B would be better on the accurate comparisons. \n",
    "\n",
    "But we were told to check for the standard errors, so let's see. Assumption is that the national population is 15% Latino, and the questions are yes/no with approximately equal proportions of each response and there's no non-response"
   ]
  },
  {
   "cell_type": "code",
   "execution_count": 58,
   "id": "1bf315a7",
   "metadata": {
    "execution": {
     "iopub.execute_input": "2021-04-05T19:58:03.741975Z",
     "iopub.status.busy": "2021-04-05T19:58:03.741816Z",
     "iopub.status.idle": "2021-04-05T19:58:03.745926Z",
     "shell.execute_reply": "2021-04-05T19:58:03.745553Z",
     "shell.execute_reply.started": "2021-04-05T19:58:03.741958Z"
    }
   },
   "outputs": [
    {
     "data": {
      "text/plain": [
       "0.0447213595499958"
      ]
     },
     "execution_count": 58,
     "metadata": {},
     "output_type": "execute_result"
    }
   ],
   "source": [
    "# for Survey A, SE = sqrt(se1^2_+ se2^2)\n",
    "se1 = np.sqrt(0.5*0.5/(0.15*1000))\n",
    "se2 = np.sqrt(0.5*0.5/(0.75*1000))\n",
    "\n",
    "se_a = np.sqrt(np.power(se1,2)+np.power(se2,2))\n",
    "\n",
    "se_a"
   ]
  },
  {
   "cell_type": "code",
   "execution_count": 59,
   "id": "d33d3162",
   "metadata": {
    "execution": {
     "iopub.execute_input": "2021-04-05T19:58:36.622151Z",
     "iopub.status.busy": "2021-04-05T19:58:36.621901Z",
     "iopub.status.idle": "2021-04-05T19:58:36.627013Z",
     "shell.execute_reply": "2021-04-05T19:58:36.626372Z",
     "shell.execute_reply.started": "2021-04-05T19:58:36.622123Z"
    }
   },
   "outputs": [
    {
     "data": {
      "text/plain": [
       "0.03450327796711771"
      ]
     },
     "execution_count": 59,
     "metadata": {},
     "output_type": "execute_result"
    }
   ],
   "source": [
    "#for Survey B\n",
    "\n",
    "se1 = np.sqrt(0.5*0.5/(0.3*1000))\n",
    "se2 = np.sqrt(0.5*0.5/(0.7*1000))\n",
    "\n",
    "se_b = np.sqrt(np.power(se1,2)+np.power(se2,2))\n",
    "\n",
    "se_b"
   ]
  },
  {
   "cell_type": "markdown",
   "id": "0c4bd23a",
   "metadata": {},
   "source": [
    "Looks like SE_B would have a smaller 95% confidence interval than SE_A, so that supports that survey B is more appropriate for Latino specific response"
   ]
  },
  {
   "cell_type": "code",
   "execution_count": null,
   "id": "67910ad8",
   "metadata": {},
   "outputs": [],
   "source": []
  }
 ],
 "metadata": {
  "kernelspec": {
   "display_name": "Python [conda env:ros]",
   "language": "python",
   "name": "conda-env-ros-py"
  },
  "language_info": {
   "codemirror_mode": {
    "name": "ipython",
    "version": 3
   },
   "file_extension": ".py",
   "mimetype": "text/x-python",
   "name": "python",
   "nbconvert_exporter": "python",
   "pygments_lexer": "ipython3",
   "version": "3.8.8"
  }
 },
 "nbformat": 4,
 "nbformat_minor": 5
}
