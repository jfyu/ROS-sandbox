{
 "cells": [
  {
   "cell_type": "code",
   "execution_count": 1,
   "id": "75988a1f",
   "metadata": {
    "execution": {
     "iopub.execute_input": "2021-05-20T13:45:42.946571Z",
     "iopub.status.busy": "2021-05-20T13:45:42.946386Z",
     "iopub.status.idle": "2021-05-20T13:45:49.027367Z",
     "shell.execute_reply": "2021-05-20T13:45:49.026455Z",
     "shell.execute_reply.started": "2021-05-20T13:45:42.946525Z"
    },
    "tags": []
   },
   "outputs": [],
   "source": [
    "import pandas as pd\n",
    "import numpy as np\n",
    "import matplotlib.pyplot as plt\n",
    "import seaborn as sns\n",
    "\n",
    "import scipy.stats as stats"
   ]
  },
  {
   "cell_type": "code",
   "execution_count": 10,
   "id": "cd091be5",
   "metadata": {
    "execution": {
     "iopub.execute_input": "2021-05-20T13:58:09.045947Z",
     "iopub.status.busy": "2021-05-20T13:58:09.045781Z",
     "iopub.status.idle": "2021-05-20T13:58:12.551074Z",
     "shell.execute_reply": "2021-05-20T13:58:12.548903Z",
     "shell.execute_reply.started": "2021-05-20T13:58:09.045929Z"
    },
    "tags": []
   },
   "outputs": [],
   "source": [
    "import statsmodels.api as sm\n",
    "import statsmodels.formula.api as smf"
   ]
  },
  {
   "cell_type": "code",
   "execution_count": 2,
   "id": "0cc363b6",
   "metadata": {
    "execution": {
     "iopub.execute_input": "2021-05-20T13:45:49.029060Z",
     "iopub.status.busy": "2021-05-20T13:45:49.028740Z",
     "iopub.status.idle": "2021-05-20T13:45:49.033505Z",
     "shell.execute_reply": "2021-05-20T13:45:49.032905Z",
     "shell.execute_reply.started": "2021-05-20T13:45:49.029021Z"
    },
    "tags": []
   },
   "outputs": [],
   "source": [
    "plt.style.use('seaborn-notebook')\n",
    "plt.style.use('ggplot')"
   ]
  },
  {
   "cell_type": "markdown",
   "id": "949caa49",
   "metadata": {},
   "source": [
    "# 7.1 regression predictors"
   ]
  },
  {
   "cell_type": "code",
   "execution_count": 3,
   "id": "b5ca2eaf",
   "metadata": {
    "execution": {
     "iopub.execute_input": "2021-05-20T13:46:37.150350Z",
     "iopub.status.busy": "2021-05-20T13:46:37.150194Z",
     "iopub.status.idle": "2021-05-20T13:46:38.042383Z",
     "shell.execute_reply": "2021-05-20T13:46:38.040226Z",
     "shell.execute_reply.started": "2021-05-20T13:46:37.150333Z"
    }
   },
   "outputs": [],
   "source": [
    "hibbs = pd.read_csv('../ROS-Examples/ElectionsEconomy/data/hibbs.dat', sep=' ')"
   ]
  },
  {
   "cell_type": "code",
   "execution_count": 4,
   "id": "89466004",
   "metadata": {
    "execution": {
     "iopub.execute_input": "2021-05-20T13:46:40.207009Z",
     "iopub.status.busy": "2021-05-20T13:46:40.206850Z",
     "iopub.status.idle": "2021-05-20T13:46:40.458065Z",
     "shell.execute_reply": "2021-05-20T13:46:40.456057Z",
     "shell.execute_reply.started": "2021-05-20T13:46:40.206992Z"
    }
   },
   "outputs": [
    {
     "data": {
      "text/html": [
       "<div>\n",
       "<style scoped>\n",
       "    .dataframe tbody tr th:only-of-type {\n",
       "        vertical-align: middle;\n",
       "    }\n",
       "\n",
       "    .dataframe tbody tr th {\n",
       "        vertical-align: top;\n",
       "    }\n",
       "\n",
       "    .dataframe thead th {\n",
       "        text-align: right;\n",
       "    }\n",
       "</style>\n",
       "<table border=\"1\" class=\"dataframe\">\n",
       "  <thead>\n",
       "    <tr style=\"text-align: right;\">\n",
       "      <th></th>\n",
       "      <th>year</th>\n",
       "      <th>growth</th>\n",
       "      <th>vote</th>\n",
       "      <th>inc_party_candidate</th>\n",
       "      <th>other_candidate</th>\n",
       "    </tr>\n",
       "  </thead>\n",
       "  <tbody>\n",
       "    <tr>\n",
       "      <th>0</th>\n",
       "      <td>1952</td>\n",
       "      <td>2.40</td>\n",
       "      <td>44.60</td>\n",
       "      <td>Stevenson</td>\n",
       "      <td>Eisenhower</td>\n",
       "    </tr>\n",
       "    <tr>\n",
       "      <th>1</th>\n",
       "      <td>1956</td>\n",
       "      <td>2.89</td>\n",
       "      <td>57.76</td>\n",
       "      <td>Eisenhower</td>\n",
       "      <td>Stevenson</td>\n",
       "    </tr>\n",
       "    <tr>\n",
       "      <th>2</th>\n",
       "      <td>1960</td>\n",
       "      <td>0.85</td>\n",
       "      <td>49.91</td>\n",
       "      <td>Nixon</td>\n",
       "      <td>Kennedy</td>\n",
       "    </tr>\n",
       "    <tr>\n",
       "      <th>3</th>\n",
       "      <td>1964</td>\n",
       "      <td>4.21</td>\n",
       "      <td>61.34</td>\n",
       "      <td>Johnson</td>\n",
       "      <td>Goldwater</td>\n",
       "    </tr>\n",
       "    <tr>\n",
       "      <th>4</th>\n",
       "      <td>1968</td>\n",
       "      <td>3.02</td>\n",
       "      <td>49.60</td>\n",
       "      <td>Humphrey</td>\n",
       "      <td>Nixon</td>\n",
       "    </tr>\n",
       "  </tbody>\n",
       "</table>\n",
       "</div>"
      ],
      "text/plain": [
       "   year  growth   vote inc_party_candidate other_candidate\n",
       "0  1952    2.40  44.60           Stevenson      Eisenhower\n",
       "1  1956    2.89  57.76          Eisenhower       Stevenson\n",
       "2  1960    0.85  49.91               Nixon         Kennedy\n",
       "3  1964    4.21  61.34             Johnson       Goldwater\n",
       "4  1968    3.02  49.60            Humphrey           Nixon"
      ]
     },
     "execution_count": 4,
     "metadata": {},
     "output_type": "execute_result"
    }
   ],
   "source": [
    "hibbs.head()"
   ]
  },
  {
   "cell_type": "markdown",
   "id": "8b421310",
   "metadata": {},
   "source": [
    "If the regression has used growth in average personal income without adjusting for inflation, then the average personal income will have an additional relationship with the year (i.e. income increases with year due to inflation, which increases at an exponential rate). But since we are talking about growth, the change would go from $x-x_0$ to $x*(1+inflation) - x_0$ where the $x_0$ is the previous year. This adds an additional $inflation*x$ to the growth. \n",
    "\n",
    "\n",
    "The regression line right now is $y = a_0x+b_0$ where $x$ is the growth adjusted for inflation (sorry for thet notation issue). It will now be $y = a_1(x*(1+inflation))+b_1$ So the slope will change, as $a_0 = a_1(1+inflation)$. "
   ]
  },
  {
   "cell_type": "markdown",
   "id": "3e0e64fc",
   "metadata": {},
   "source": [
    "# 7.2 Fake-data simulation and regression"
   ]
  },
  {
   "cell_type": "code",
   "execution_count": 11,
   "id": "2b4d1aac",
   "metadata": {
    "execution": {
     "iopub.execute_input": "2021-05-20T13:58:27.675552Z",
     "iopub.status.busy": "2021-05-20T13:58:27.674885Z",
     "iopub.status.idle": "2021-05-20T13:58:27.680914Z",
     "shell.execute_reply": "2021-05-20T13:58:27.680392Z",
     "shell.execute_reply.started": "2021-05-20T13:58:27.675474Z"
    },
    "tags": []
   },
   "outputs": [],
   "source": [
    "def sim_fake(a,b):\n",
    "    x = np.random.uniform(0,50,100)\n",
    "    error = np.random.normal(0, 3, 100)\n",
    "    return x, a+b*x+error"
   ]
  },
  {
   "cell_type": "code",
   "execution_count": 12,
   "id": "d14f8956",
   "metadata": {
    "execution": {
     "iopub.execute_input": "2021-05-20T13:58:32.579513Z",
     "iopub.status.busy": "2021-05-20T13:58:32.579340Z",
     "iopub.status.idle": "2021-05-20T13:58:32.582167Z",
     "shell.execute_reply": "2021-05-20T13:58:32.581621Z",
     "shell.execute_reply.started": "2021-05-20T13:58:32.579494Z"
    },
    "tags": []
   },
   "outputs": [],
   "source": [
    "x,y = sim_fake(5,7)"
   ]
  },
  {
   "cell_type": "code",
   "execution_count": 13,
   "id": "93e603b8",
   "metadata": {
    "execution": {
     "iopub.execute_input": "2021-05-20T13:58:41.101389Z",
     "iopub.status.busy": "2021-05-20T13:58:41.101235Z",
     "iopub.status.idle": "2021-05-20T13:58:41.103973Z",
     "shell.execute_reply": "2021-05-20T13:58:41.103390Z",
     "shell.execute_reply.started": "2021-05-20T13:58:41.101373Z"
    }
   },
   "outputs": [],
   "source": [
    "x_sm = sm.add_constant(x)"
   ]
  },
  {
   "cell_type": "code",
   "execution_count": 14,
   "id": "4221aa5b",
   "metadata": {
    "execution": {
     "iopub.execute_input": "2021-05-20T13:59:28.162137Z",
     "iopub.status.busy": "2021-05-20T13:59:28.161982Z",
     "iopub.status.idle": "2021-05-20T13:59:28.624577Z",
     "shell.execute_reply": "2021-05-20T13:59:28.624003Z",
     "shell.execute_reply.started": "2021-05-20T13:59:28.162120Z"
    }
   },
   "outputs": [],
   "source": [
    "res = sm.GLM(y, x_sm).fit()"
   ]
  },
  {
   "cell_type": "code",
   "execution_count": 15,
   "id": "bf627fa7",
   "metadata": {
    "execution": {
     "iopub.execute_input": "2021-05-20T13:59:30.511447Z",
     "iopub.status.busy": "2021-05-20T13:59:30.511283Z",
     "iopub.status.idle": "2021-05-20T13:59:30.515030Z",
     "shell.execute_reply": "2021-05-20T13:59:30.514471Z",
     "shell.execute_reply.started": "2021-05-20T13:59:30.511429Z"
    }
   },
   "outputs": [
    {
     "data": {
      "text/plain": [
       "array([4.82770323, 6.98624165])"
      ]
     },
     "execution_count": 15,
     "metadata": {},
     "output_type": "execute_result"
    }
   ],
   "source": [
    "res.params"
   ]
  },
  {
   "cell_type": "code",
   "execution_count": 16,
   "id": "18222b33",
   "metadata": {
    "execution": {
     "iopub.execute_input": "2021-05-20T13:59:37.142534Z",
     "iopub.status.busy": "2021-05-20T13:59:37.142376Z",
     "iopub.status.idle": "2021-05-20T13:59:37.149404Z",
     "shell.execute_reply": "2021-05-20T13:59:37.148967Z",
     "shell.execute_reply.started": "2021-05-20T13:59:37.142517Z"
    }
   },
   "outputs": [
    {
     "data": {
      "text/html": [
       "<table class=\"simpletable\">\n",
       "<caption>Generalized Linear Model Regression Results</caption>\n",
       "<tr>\n",
       "  <th>Dep. Variable:</th>           <td>y</td>        <th>  No. Observations:  </th>  <td>   100</td> \n",
       "</tr>\n",
       "<tr>\n",
       "  <th>Model:</th>                  <td>GLM</td>       <th>  Df Residuals:      </th>  <td>    98</td> \n",
       "</tr>\n",
       "<tr>\n",
       "  <th>Model Family:</th>        <td>Gaussian</td>     <th>  Df Model:          </th>  <td>     1</td> \n",
       "</tr>\n",
       "<tr>\n",
       "  <th>Link Function:</th>       <td>identity</td>     <th>  Scale:             </th> <td>  6.6304</td>\n",
       "</tr>\n",
       "<tr>\n",
       "  <th>Method:</th>                <td>IRLS</td>       <th>  Log-Likelihood:    </th> <td> -235.47</td>\n",
       "</tr>\n",
       "<tr>\n",
       "  <th>Date:</th>            <td>Thu, 20 May 2021</td> <th>  Deviance:          </th> <td>  649.78</td>\n",
       "</tr>\n",
       "<tr>\n",
       "  <th>Time:</th>                <td>09:59:37</td>     <th>  Pearson chi2:      </th>  <td>  650.</td> \n",
       "</tr>\n",
       "<tr>\n",
       "  <th>No. Iterations:</th>          <td>3</td>        <th>                     </th>     <td> </td>   \n",
       "</tr>\n",
       "<tr>\n",
       "  <th>Covariance Type:</th>     <td>nonrobust</td>    <th>                     </th>     <td> </td>   \n",
       "</tr>\n",
       "</table>\n",
       "<table class=\"simpletable\">\n",
       "<tr>\n",
       "    <td></td>       <th>coef</th>     <th>std err</th>      <th>z</th>      <th>P>|z|</th>  <th>[0.025</th>    <th>0.975]</th>  \n",
       "</tr>\n",
       "<tr>\n",
       "  <th>const</th> <td>    4.8277</td> <td>    0.503</td> <td>    9.604</td> <td> 0.000</td> <td>    3.843</td> <td>    5.813</td>\n",
       "</tr>\n",
       "<tr>\n",
       "  <th>x1</th>    <td>    6.9862</td> <td>    0.017</td> <td>  399.332</td> <td> 0.000</td> <td>    6.952</td> <td>    7.021</td>\n",
       "</tr>\n",
       "</table>"
      ],
      "text/plain": [
       "<class 'statsmodels.iolib.summary.Summary'>\n",
       "\"\"\"\n",
       "                 Generalized Linear Model Regression Results                  \n",
       "==============================================================================\n",
       "Dep. Variable:                      y   No. Observations:                  100\n",
       "Model:                            GLM   Df Residuals:                       98\n",
       "Model Family:                Gaussian   Df Model:                            1\n",
       "Link Function:               identity   Scale:                          6.6304\n",
       "Method:                          IRLS   Log-Likelihood:                -235.47\n",
       "Date:                Thu, 20 May 2021   Deviance:                       649.78\n",
       "Time:                        09:59:37   Pearson chi2:                     650.\n",
       "No. Iterations:                     3                                         \n",
       "Covariance Type:            nonrobust                                         \n",
       "==============================================================================\n",
       "                 coef    std err          z      P>|z|      [0.025      0.975]\n",
       "------------------------------------------------------------------------------\n",
       "const          4.8277      0.503      9.604      0.000       3.843       5.813\n",
       "x1             6.9862      0.017    399.332      0.000       6.952       7.021\n",
       "==============================================================================\n",
       "\"\"\""
      ]
     },
     "execution_count": 16,
     "metadata": {},
     "output_type": "execute_result"
    }
   ],
   "source": [
    "res.summary()"
   ]
  },
  {
   "cell_type": "code",
   "execution_count": 26,
   "id": "6c3789d7",
   "metadata": {
    "execution": {
     "iopub.execute_input": "2021-05-20T14:04:48.941065Z",
     "iopub.status.busy": "2021-05-20T14:04:48.940883Z",
     "iopub.status.idle": "2021-05-20T14:04:49.065154Z",
     "shell.execute_reply": "2021-05-20T14:04:49.064666Z",
     "shell.execute_reply.started": "2021-05-20T14:04:48.941044Z"
    },
    "tags": []
   },
   "outputs": [
    {
     "data": {
      "text/plain": [
       "<matplotlib.legend.Legend at 0x7f3f096e1bb0>"
      ]
     },
     "execution_count": 26,
     "metadata": {},
     "output_type": "execute_result"
    },
    {
     "data": {
      "image/png": "[encoded data removed]",
      "text/plain": [
       "<Figure size 576x396 with 1 Axes>"
      ]
     },
     "metadata": {},
     "output_type": "display_data"
    }
   ],
   "source": [
    "plt.scatter(x,y)\n",
    "plt.plot(x, res.params[0]+res.params[1]*x, color='b', label = r\"$y = a+bx$\")\n",
    "plt.legend()"
   ]
  },
  {
   "cell_type": "markdown",
   "id": "6f6316a9",
   "metadata": {},
   "source": [
    "# 7.3 Fake-data simulation and fitting the wrong model"
   ]
  },
  {
   "cell_type": "code",
   "execution_count": 28,
   "id": "c3e93805",
   "metadata": {
    "execution": {
     "iopub.execute_input": "2021-05-20T16:54:41.768553Z",
     "iopub.status.busy": "2021-05-20T16:54:41.768269Z",
     "iopub.status.idle": "2021-05-20T16:54:41.773294Z",
     "shell.execute_reply": "2021-05-20T16:54:41.772501Z",
     "shell.execute_reply.started": "2021-05-20T16:54:41.768519Z"
    }
   },
   "outputs": [],
   "source": [
    "def sim_fake2(a,b,c):\n",
    "    x = np.random.uniform(0,50,100)\n",
    "    error = np.random.normal(0, 3, 100)\n",
    "    return x, a+b*x++c*np.power(x,2)+error"
   ]
  },
  {
   "cell_type": "code",
   "execution_count": 29,
   "id": "069febe0",
   "metadata": {
    "execution": {
     "iopub.execute_input": "2021-05-20T16:55:57.414501Z",
     "iopub.status.busy": "2021-05-20T16:55:57.414038Z",
     "iopub.status.idle": "2021-05-20T16:55:57.420124Z",
     "shell.execute_reply": "2021-05-20T16:55:57.419051Z",
     "shell.execute_reply.started": "2021-05-20T16:55:57.414450Z"
    }
   },
   "outputs": [],
   "source": [
    "x2, y2 = sim_fake2(5,7,9)"
   ]
  },
  {
   "cell_type": "code",
   "execution_count": 30,
   "id": "df57d1af",
   "metadata": {
    "execution": {
     "iopub.execute_input": "2021-05-20T16:56:20.260539Z",
     "iopub.status.busy": "2021-05-20T16:56:20.260077Z",
     "iopub.status.idle": "2021-05-20T16:56:20.266005Z",
     "shell.execute_reply": "2021-05-20T16:56:20.264948Z",
     "shell.execute_reply.started": "2021-05-20T16:56:20.260485Z"
    }
   },
   "outputs": [],
   "source": [
    "x_sm2 = sm.add_constant(x2)"
   ]
  },
  {
   "cell_type": "code",
   "execution_count": 31,
   "id": "f70aac4a",
   "metadata": {
    "execution": {
     "iopub.execute_input": "2021-05-20T16:56:55.546943Z",
     "iopub.status.busy": "2021-05-20T16:56:55.546316Z",
     "iopub.status.idle": "2021-05-20T16:56:55.553214Z",
     "shell.execute_reply": "2021-05-20T16:56:55.552674Z",
     "shell.execute_reply.started": "2021-05-20T16:56:55.546869Z"
    }
   },
   "outputs": [],
   "source": [
    "res2 = sm.GLM(y2, x_sm2).fit()"
   ]
  },
  {
   "cell_type": "code",
   "execution_count": 33,
   "id": "e4f90bd1",
   "metadata": {
    "execution": {
     "iopub.execute_input": "2021-05-20T16:57:01.657340Z",
     "iopub.status.busy": "2021-05-20T16:57:01.657089Z",
     "iopub.status.idle": "2021-05-20T16:57:01.666572Z",
     "shell.execute_reply": "2021-05-20T16:57:01.666022Z",
     "shell.execute_reply.started": "2021-05-20T16:57:01.657313Z"
    },
    "tags": []
   },
   "outputs": [
    {
     "data": {
      "text/html": [
       "<table class=\"simpletable\">\n",
       "<caption>Generalized Linear Model Regression Results</caption>\n",
       "<tr>\n",
       "  <th>Dep. Variable:</th>           <td>y</td>        <th>  No. Observations:  </th>   <td>   100</td>  \n",
       "</tr>\n",
       "<tr>\n",
       "  <th>Model:</th>                  <td>GLM</td>       <th>  Df Residuals:      </th>   <td>    98</td>  \n",
       "</tr>\n",
       "<tr>\n",
       "  <th>Model Family:</th>        <td>Gaussian</td>     <th>  Df Model:          </th>   <td>     1</td>  \n",
       "</tr>\n",
       "<tr>\n",
       "  <th>Link Function:</th>       <td>identity</td>     <th>  Scale:             </th> <td>2.7947e+06</td>\n",
       "</tr>\n",
       "<tr>\n",
       "  <th>Method:</th>                <td>IRLS</td>       <th>  Log-Likelihood:    </th>  <td> -883.05</td> \n",
       "</tr>\n",
       "<tr>\n",
       "  <th>Date:</th>            <td>Thu, 20 May 2021</td> <th>  Deviance:          </th> <td>2.7388e+08</td>\n",
       "</tr>\n",
       "<tr>\n",
       "  <th>Time:</th>                <td>12:57:01</td>     <th>  Pearson chi2:      </th>  <td>2.74e+08</td> \n",
       "</tr>\n",
       "<tr>\n",
       "  <th>No. Iterations:</th>          <td>3</td>        <th>                     </th>      <td> </td>    \n",
       "</tr>\n",
       "<tr>\n",
       "  <th>Covariance Type:</th>     <td>nonrobust</td>    <th>                     </th>      <td> </td>    \n",
       "</tr>\n",
       "</table>\n",
       "<table class=\"simpletable\">\n",
       "<tr>\n",
       "    <td></td>       <th>coef</th>     <th>std err</th>      <th>z</th>      <th>P>|z|</th>  <th>[0.025</th>    <th>0.975]</th>  \n",
       "</tr>\n",
       "<tr>\n",
       "  <th>const</th> <td>-4346.4610</td> <td>  343.780</td> <td>  -12.643</td> <td> 0.000</td> <td>-5020.258</td> <td>-3672.664</td>\n",
       "</tr>\n",
       "<tr>\n",
       "  <th>x1</th>    <td>  481.6391</td> <td>   11.488</td> <td>   41.924</td> <td> 0.000</td> <td>  459.122</td> <td>  504.156</td>\n",
       "</tr>\n",
       "</table>"
      ],
      "text/plain": [
       "<class 'statsmodels.iolib.summary.Summary'>\n",
       "\"\"\"\n",
       "                 Generalized Linear Model Regression Results                  \n",
       "==============================================================================\n",
       "Dep. Variable:                      y   No. Observations:                  100\n",
       "Model:                            GLM   Df Residuals:                       98\n",
       "Model Family:                Gaussian   Df Model:                            1\n",
       "Link Function:               identity   Scale:                      2.7947e+06\n",
       "Method:                          IRLS   Log-Likelihood:                -883.05\n",
       "Date:                Thu, 20 May 2021   Deviance:                   2.7388e+08\n",
       "Time:                        12:57:01   Pearson chi2:                 2.74e+08\n",
       "No. Iterations:                     3                                         \n",
       "Covariance Type:            nonrobust                                         \n",
       "==============================================================================\n",
       "                 coef    std err          z      P>|z|      [0.025      0.975]\n",
       "------------------------------------------------------------------------------\n",
       "const      -4346.4610    343.780    -12.643      0.000   -5020.258   -3672.664\n",
       "x1           481.6391     11.488     41.924      0.000     459.122     504.156\n",
       "==============================================================================\n",
       "\"\"\""
      ]
     },
     "execution_count": 33,
     "metadata": {},
     "output_type": "execute_result"
    }
   ],
   "source": [
    "res2.summary()"
   ]
  },
  {
   "cell_type": "code",
   "execution_count": 35,
   "id": "e1213df6",
   "metadata": {
    "execution": {
     "iopub.execute_input": "2021-05-20T16:57:35.727607Z",
     "iopub.status.busy": "2021-05-20T16:57:35.727449Z",
     "iopub.status.idle": "2021-05-20T16:57:35.844579Z",
     "shell.execute_reply": "2021-05-20T16:57:35.844164Z",
     "shell.execute_reply.started": "2021-05-20T16:57:35.727590Z"
    },
    "tags": []
   },
   "outputs": [
    {
     "data": {
      "text/plain": [
       "<matplotlib.legend.Legend at 0x7f3f096369d0>"
      ]
     },
     "execution_count": 35,
     "metadata": {},
     "output_type": "execute_result"
    },
    {
     "data": {
      "image/png": "[encoded data removed]",
      "text/plain": [
       "<Figure size 576x396 with 1 Axes>"
      ]
     },
     "metadata": {},
     "output_type": "display_data"
    }
   ],
   "source": [
    "plt.scatter(x2,y2)\n",
    "plt.plot(x2, res2.params[0]+res2.params[1]*x2, color='b', label = r\"$y = a+bx$\")\n",
    "plt.legend()"
   ]
  },
  {
   "cell_type": "markdown",
   "id": "45326a23",
   "metadata": {},
   "source": [
    "Best fit in the sense that the mean-error square is minimized with the constrait of y=a+b*x"
   ]
  },
  {
   "cell_type": "markdown",
   "id": "21efad7b",
   "metadata": {},
   "source": [
    "# 7.4 Prediction"
   ]
  },
  {
   "cell_type": "markdown",
   "id": "b653136f",
   "metadata": {},
   "source": [
    "skipped for having to find new data"
   ]
  },
  {
   "cell_type": "markdown",
   "id": "8b8d0992",
   "metadata": {},
   "source": [
    "# 7.5 Convergence as sample size increases"
   ]
  },
  {
   "cell_type": "code",
   "execution_count": 36,
   "id": "944fdbdb",
   "metadata": {
    "execution": {
     "iopub.execute_input": "2021-05-20T17:01:32.624083Z",
     "iopub.status.busy": "2021-05-20T17:01:32.623921Z",
     "iopub.status.idle": "2021-05-20T17:01:32.627595Z",
     "shell.execute_reply": "2021-05-20T17:01:32.627043Z",
     "shell.execute_reply.started": "2021-05-20T17:01:32.624066Z"
    }
   },
   "outputs": [],
   "source": [
    "def sim_fake_n(a,b, n):\n",
    "    x = np.random.uniform(0,50,n)\n",
    "    error = np.random.normal(0, 3, n)\n",
    "    x_sm = sm.add_constant(x)\n",
    "    y = a+b*x+error\n",
    "    res = sm.GLM(y, x_sm).fit()\n",
    "    return x, y, res"
   ]
  },
  {
   "cell_type": "code",
   "execution_count": 37,
   "id": "177da3e6",
   "metadata": {
    "execution": {
     "iopub.execute_input": "2021-05-20T17:03:54.834285Z",
     "iopub.status.busy": "2021-05-20T17:03:54.834135Z",
     "iopub.status.idle": "2021-05-20T17:03:54.916623Z",
     "shell.execute_reply": "2021-05-20T17:03:54.916150Z",
     "shell.execute_reply.started": "2021-05-20T17:03:54.834269Z"
    }
   },
   "outputs": [],
   "source": [
    "n_list =  [10, 30, 100, 300, 1000, 3000, 10000, 30000]\n",
    "results = []\n",
    "x_list= []\n",
    "y_list = []\n",
    "for n in n_list:\n",
    "    x,y,res = sim_fake_n(5,7,n)\n",
    "    results.append(res)\n",
    "    x_list.append(x)\n",
    "    y_list.append(y)"
   ]
  },
  {
   "cell_type": "code",
   "execution_count": 41,
   "id": "34dfd015",
   "metadata": {
    "execution": {
     "iopub.execute_input": "2021-05-20T17:04:57.305043Z",
     "iopub.status.busy": "2021-05-20T17:04:57.304707Z",
     "iopub.status.idle": "2021-05-20T17:04:57.414893Z",
     "shell.execute_reply": "2021-05-20T17:04:57.414436Z",
     "shell.execute_reply.started": "2021-05-20T17:04:57.305004Z"
    },
    "tags": []
   },
   "outputs": [
    {
     "data": {
      "text/plain": [
       "Text(0, 0.5, 'constant bse')"
      ]
     },
     "execution_count": 41,
     "metadata": {},
     "output_type": "execute_result"
    },
    {
     "data": {
      "image/png": "[encoded data removed]",
      "text/plain": [
       "<Figure size 576x396 with 1 Axes>"
      ]
     },
     "metadata": {},
     "output_type": "display_data"
    }
   ],
   "source": [
    "plt.plot(n_list, [x.bse[0] for x in results])\n",
    "plt.ylabel('constant bse')"
   ]
  },
  {
   "cell_type": "code",
   "execution_count": 44,
   "id": "0fe80838",
   "metadata": {
    "execution": {
     "iopub.execute_input": "2021-05-20T17:05:36.518207Z",
     "iopub.status.busy": "2021-05-20T17:05:36.517560Z",
     "iopub.status.idle": "2021-05-20T17:05:36.636038Z",
     "shell.execute_reply": "2021-05-20T17:05:36.635543Z",
     "shell.execute_reply.started": "2021-05-20T17:05:36.518130Z"
    }
   },
   "outputs": [
    {
     "data": {
      "text/plain": [
       "Text(0, 0.5, 'constant')"
      ]
     },
     "execution_count": 44,
     "metadata": {},
     "output_type": "execute_result"
    },
    {
     "data": {
      "image/png": "[encoded data removed]",
      "text/plain": [
       "<Figure size 576x396 with 1 Axes>"
      ]
     },
     "metadata": {},
     "output_type": "display_data"
    }
   ],
   "source": [
    "plt.plot(n_list, [x.params[0] for x in results])\n",
    "plt.ylabel('constant')"
   ]
  },
  {
   "cell_type": "code",
   "execution_count": 42,
   "id": "de811aef",
   "metadata": {
    "execution": {
     "iopub.execute_input": "2021-05-20T17:05:12.424761Z",
     "iopub.status.busy": "2021-05-20T17:05:12.424608Z",
     "iopub.status.idle": "2021-05-20T17:05:12.521446Z",
     "shell.execute_reply": "2021-05-20T17:05:12.520929Z",
     "shell.execute_reply.started": "2021-05-20T17:05:12.424744Z"
    }
   },
   "outputs": [
    {
     "data": {
      "text/plain": [
       "Text(0, 0.5, 'slope bse')"
      ]
     },
     "execution_count": 42,
     "metadata": {},
     "output_type": "execute_result"
    },
    {
     "data": {
      "image/png": "[encoded data removed]",
      "text/plain": [
       "<Figure size 576x396 with 1 Axes>"
      ]
     },
     "metadata": {},
     "output_type": "display_data"
    }
   ],
   "source": [
    "plt.plot(n_list, [x.bse[1] for x in results])\n",
    "plt.ylabel('slope bse')"
   ]
  },
  {
   "cell_type": "code",
   "execution_count": 43,
   "id": "e94d79f8",
   "metadata": {
    "execution": {
     "iopub.execute_input": "2021-05-20T17:05:23.560746Z",
     "iopub.status.busy": "2021-05-20T17:05:23.560589Z",
     "iopub.status.idle": "2021-05-20T17:05:23.665331Z",
     "shell.execute_reply": "2021-05-20T17:05:23.664869Z",
     "shell.execute_reply.started": "2021-05-20T17:05:23.560730Z"
    }
   },
   "outputs": [
    {
     "data": {
      "text/plain": [
       "Text(0, 0.5, 'slope')"
      ]
     },
     "execution_count": 43,
     "metadata": {},
     "output_type": "execute_result"
    },
    {
     "data": {
      "image/png": "[encoded data removed]",
      "text/plain": [
       "<Figure size 576x396 with 1 Axes>"
      ]
     },
     "metadata": {},
     "output_type": "display_data"
    }
   ],
   "source": [
    "plt.plot(n_list, [x.params[1] for x in results])\n",
    "plt.ylabel('slope')"
   ]
  },
  {
   "cell_type": "markdown",
   "id": "e30c6fd1",
   "metadata": {},
   "source": [
    "# 7.6 Formulating comparisons as regression models"
   ]
  },
  {
   "cell_type": "code",
   "execution_count": 45,
   "id": "a678b9f6",
   "metadata": {
    "execution": {
     "iopub.execute_input": "2021-05-20T17:07:21.341650Z",
     "iopub.status.busy": "2021-05-20T17:07:21.340993Z",
     "iopub.status.idle": "2021-05-20T17:07:21.380531Z",
     "shell.execute_reply": "2021-05-20T17:07:21.380000Z",
     "shell.execute_reply.started": "2021-05-20T17:07:21.341574Z"
    }
   },
   "outputs": [],
   "source": [
    "hibbs['binary_prediction'] = np.where(hibbs['growth']>2, 1, 0)"
   ]
  },
  {
   "cell_type": "code",
   "execution_count": 47,
   "id": "4556e4e4",
   "metadata": {
    "execution": {
     "iopub.execute_input": "2021-05-20T17:07:28.655611Z",
     "iopub.status.busy": "2021-05-20T17:07:28.655155Z",
     "iopub.status.idle": "2021-05-20T17:07:28.673144Z",
     "shell.execute_reply": "2021-05-20T17:07:28.672364Z",
     "shell.execute_reply.started": "2021-05-20T17:07:28.655558Z"
    },
    "tags": []
   },
   "outputs": [
    {
     "data": {
      "text/html": [
       "<div>\n",
       "<style scoped>\n",
       "    .dataframe tbody tr th:only-of-type {\n",
       "        vertical-align: middle;\n",
       "    }\n",
       "\n",
       "    .dataframe tbody tr th {\n",
       "        vertical-align: top;\n",
       "    }\n",
       "\n",
       "    .dataframe thead th {\n",
       "        text-align: right;\n",
       "    }\n",
       "</style>\n",
       "<table border=\"1\" class=\"dataframe\">\n",
       "  <thead>\n",
       "    <tr style=\"text-align: right;\">\n",
       "      <th></th>\n",
       "      <th>year</th>\n",
       "      <th>growth</th>\n",
       "      <th>vote</th>\n",
       "      <th>inc_party_candidate</th>\n",
       "      <th>other_candidate</th>\n",
       "      <th>binary_prediction</th>\n",
       "    </tr>\n",
       "  </thead>\n",
       "  <tbody>\n",
       "    <tr>\n",
       "      <th>0</th>\n",
       "      <td>1952</td>\n",
       "      <td>2.40</td>\n",
       "      <td>44.60</td>\n",
       "      <td>Stevenson</td>\n",
       "      <td>Eisenhower</td>\n",
       "      <td>1</td>\n",
       "    </tr>\n",
       "    <tr>\n",
       "      <th>1</th>\n",
       "      <td>1956</td>\n",
       "      <td>2.89</td>\n",
       "      <td>57.76</td>\n",
       "      <td>Eisenhower</td>\n",
       "      <td>Stevenson</td>\n",
       "      <td>1</td>\n",
       "    </tr>\n",
       "    <tr>\n",
       "      <th>2</th>\n",
       "      <td>1960</td>\n",
       "      <td>0.85</td>\n",
       "      <td>49.91</td>\n",
       "      <td>Nixon</td>\n",
       "      <td>Kennedy</td>\n",
       "      <td>0</td>\n",
       "    </tr>\n",
       "    <tr>\n",
       "      <th>3</th>\n",
       "      <td>1964</td>\n",
       "      <td>4.21</td>\n",
       "      <td>61.34</td>\n",
       "      <td>Johnson</td>\n",
       "      <td>Goldwater</td>\n",
       "      <td>1</td>\n",
       "    </tr>\n",
       "    <tr>\n",
       "      <th>4</th>\n",
       "      <td>1968</td>\n",
       "      <td>3.02</td>\n",
       "      <td>49.60</td>\n",
       "      <td>Humphrey</td>\n",
       "      <td>Nixon</td>\n",
       "      <td>1</td>\n",
       "    </tr>\n",
       "    <tr>\n",
       "      <th>5</th>\n",
       "      <td>1972</td>\n",
       "      <td>3.62</td>\n",
       "      <td>61.79</td>\n",
       "      <td>Nixon</td>\n",
       "      <td>McGovern</td>\n",
       "      <td>1</td>\n",
       "    </tr>\n",
       "    <tr>\n",
       "      <th>6</th>\n",
       "      <td>1976</td>\n",
       "      <td>1.08</td>\n",
       "      <td>48.95</td>\n",
       "      <td>Ford</td>\n",
       "      <td>Carter</td>\n",
       "      <td>0</td>\n",
       "    </tr>\n",
       "    <tr>\n",
       "      <th>7</th>\n",
       "      <td>1980</td>\n",
       "      <td>-0.39</td>\n",
       "      <td>44.70</td>\n",
       "      <td>Carter</td>\n",
       "      <td>Reagan</td>\n",
       "      <td>0</td>\n",
       "    </tr>\n",
       "    <tr>\n",
       "      <th>8</th>\n",
       "      <td>1984</td>\n",
       "      <td>3.86</td>\n",
       "      <td>59.17</td>\n",
       "      <td>Reagan</td>\n",
       "      <td>Mondale</td>\n",
       "      <td>1</td>\n",
       "    </tr>\n",
       "    <tr>\n",
       "      <th>9</th>\n",
       "      <td>1988</td>\n",
       "      <td>2.27</td>\n",
       "      <td>53.94</td>\n",
       "      <td>Bush, Sr.</td>\n",
       "      <td>Dukakis</td>\n",
       "      <td>1</td>\n",
       "    </tr>\n",
       "    <tr>\n",
       "      <th>10</th>\n",
       "      <td>1992</td>\n",
       "      <td>0.38</td>\n",
       "      <td>46.55</td>\n",
       "      <td>Bush, Sr.</td>\n",
       "      <td>Clinton</td>\n",
       "      <td>0</td>\n",
       "    </tr>\n",
       "    <tr>\n",
       "      <th>11</th>\n",
       "      <td>1996</td>\n",
       "      <td>1.04</td>\n",
       "      <td>54.74</td>\n",
       "      <td>Clinton</td>\n",
       "      <td>Dole</td>\n",
       "      <td>0</td>\n",
       "    </tr>\n",
       "    <tr>\n",
       "      <th>12</th>\n",
       "      <td>2000</td>\n",
       "      <td>2.36</td>\n",
       "      <td>50.27</td>\n",
       "      <td>Gore</td>\n",
       "      <td>Bush, Jr.</td>\n",
       "      <td>1</td>\n",
       "    </tr>\n",
       "    <tr>\n",
       "      <th>13</th>\n",
       "      <td>2004</td>\n",
       "      <td>1.72</td>\n",
       "      <td>51.24</td>\n",
       "      <td>Bush, Jr.</td>\n",
       "      <td>Kerry</td>\n",
       "      <td>0</td>\n",
       "    </tr>\n",
       "    <tr>\n",
       "      <th>14</th>\n",
       "      <td>2008</td>\n",
       "      <td>0.10</td>\n",
       "      <td>46.32</td>\n",
       "      <td>McCain</td>\n",
       "      <td>Obama</td>\n",
       "      <td>0</td>\n",
       "    </tr>\n",
       "    <tr>\n",
       "      <th>15</th>\n",
       "      <td>2012</td>\n",
       "      <td>0.95</td>\n",
       "      <td>52.00</td>\n",
       "      <td>Obama</td>\n",
       "      <td>Romney</td>\n",
       "      <td>0</td>\n",
       "    </tr>\n",
       "  </tbody>\n",
       "</table>\n",
       "</div>"
      ],
      "text/plain": [
       "    year  growth   vote inc_party_candidate other_candidate  binary_prediction\n",
       "0   1952    2.40  44.60           Stevenson      Eisenhower                  1\n",
       "1   1956    2.89  57.76          Eisenhower       Stevenson                  1\n",
       "2   1960    0.85  49.91               Nixon         Kennedy                  0\n",
       "3   1964    4.21  61.34             Johnson       Goldwater                  1\n",
       "4   1968    3.02  49.60            Humphrey           Nixon                  1\n",
       "5   1972    3.62  61.79               Nixon        McGovern                  1\n",
       "6   1976    1.08  48.95                Ford          Carter                  0\n",
       "7   1980   -0.39  44.70              Carter          Reagan                  0\n",
       "8   1984    3.86  59.17              Reagan         Mondale                  1\n",
       "9   1988    2.27  53.94           Bush, Sr.         Dukakis                  1\n",
       "10  1992    0.38  46.55           Bush, Sr.         Clinton                  0\n",
       "11  1996    1.04  54.74             Clinton            Dole                  0\n",
       "12  2000    2.36  50.27                Gore       Bush, Jr.                  1\n",
       "13  2004    1.72  51.24           Bush, Jr.           Kerry                  0\n",
       "14  2008    0.10  46.32              McCain           Obama                  0\n",
       "15  2012    0.95  52.00               Obama          Romney                  0"
      ]
     },
     "execution_count": 47,
     "metadata": {},
     "output_type": "execute_result"
    }
   ],
   "source": [
    "hibbs"
   ]
  },
  {
   "cell_type": "code",
   "execution_count": 48,
   "id": "077eacc2",
   "metadata": {
    "execution": {
     "iopub.execute_input": "2021-05-20T17:08:44.864818Z",
     "iopub.status.busy": "2021-05-20T17:08:44.864662Z",
     "iopub.status.idle": "2021-05-20T17:08:45.276290Z",
     "shell.execute_reply": "2021-05-20T17:08:45.274153Z",
     "shell.execute_reply.started": "2021-05-20T17:08:44.864801Z"
    }
   },
   "outputs": [],
   "source": [
    "binary_1_votes = hibbs.query('binary_prediction == 1')['vote'].mean()"
   ]
  },
  {
   "cell_type": "code",
   "execution_count": 49,
   "id": "f672e924",
   "metadata": {
    "execution": {
     "iopub.execute_input": "2021-05-20T17:08:55.413290Z",
     "iopub.status.busy": "2021-05-20T17:08:55.413132Z",
     "iopub.status.idle": "2021-05-20T17:08:55.417803Z",
     "shell.execute_reply": "2021-05-20T17:08:55.417203Z",
     "shell.execute_reply.started": "2021-05-20T17:08:55.413273Z"
    }
   },
   "outputs": [],
   "source": [
    "binary_0_votes = hibbs.query('binary_prediction == 0')['vote'].mean()"
   ]
  },
  {
   "cell_type": "code",
   "execution_count": 52,
   "id": "d458654a",
   "metadata": {
    "execution": {
     "iopub.execute_input": "2021-05-20T17:09:32.968946Z",
     "iopub.status.busy": "2021-05-20T17:09:32.968784Z",
     "iopub.status.idle": "2021-05-20T17:09:32.972245Z",
     "shell.execute_reply": "2021-05-20T17:09:32.971725Z",
     "shell.execute_reply.started": "2021-05-20T17:09:32.968929Z"
    },
    "tags": []
   },
   "outputs": [
    {
     "data": {
      "text/plain": [
       "5.5075"
      ]
     },
     "execution_count": 52,
     "metadata": {},
     "output_type": "execute_result"
    }
   ],
   "source": [
    "mean_diff = binary_1_votes-binary_0_votes\n",
    "mean_diff"
   ]
  },
  {
   "cell_type": "code",
   "execution_count": 53,
   "id": "0dfe3b5a",
   "metadata": {
    "execution": {
     "iopub.execute_input": "2021-05-20T17:10:37.295990Z",
     "iopub.status.busy": "2021-05-20T17:10:37.295835Z",
     "iopub.status.idle": "2021-05-20T17:10:37.301392Z",
     "shell.execute_reply": "2021-05-20T17:10:37.300758Z",
     "shell.execute_reply.started": "2021-05-20T17:10:37.295974Z"
    }
   },
   "outputs": [],
   "source": [
    "binary_1_group = hibbs.query('binary_prediction == 1')\n",
    "binary_0_group = hibbs.query('binary_prediction == 0')"
   ]
  },
  {
   "cell_type": "code",
   "execution_count": 54,
   "id": "c0c2ed03",
   "metadata": {
    "execution": {
     "iopub.execute_input": "2021-05-20T17:11:03.765087Z",
     "iopub.status.busy": "2021-05-20T17:11:03.764930Z",
     "iopub.status.idle": "2021-05-20T17:11:03.767605Z",
     "shell.execute_reply": "2021-05-20T17:11:03.767104Z",
     "shell.execute_reply.started": "2021-05-20T17:11:03.765070Z"
    }
   },
   "outputs": [],
   "source": [
    "perc_1 = len(binary_1_group)/len(hibbs)\n",
    "perc_0 = len(binary_0_group)/len(hibbs)"
   ]
  },
  {
   "cell_type": "code",
   "execution_count": 55,
   "id": "69bdd7aa",
   "metadata": {
    "execution": {
     "iopub.execute_input": "2021-05-20T17:11:06.395225Z",
     "iopub.status.busy": "2021-05-20T17:11:06.395061Z",
     "iopub.status.idle": "2021-05-20T17:11:06.398524Z",
     "shell.execute_reply": "2021-05-20T17:11:06.397964Z",
     "shell.execute_reply.started": "2021-05-20T17:11:06.395208Z"
    }
   },
   "outputs": [
    {
     "data": {
      "text/plain": [
       "0.5"
      ]
     },
     "execution_count": 55,
     "metadata": {},
     "output_type": "execute_result"
    }
   ],
   "source": [
    "perc_1"
   ]
  },
  {
   "cell_type": "code",
   "execution_count": 56,
   "id": "842079a5",
   "metadata": {
    "execution": {
     "iopub.execute_input": "2021-05-20T17:11:08.667073Z",
     "iopub.status.busy": "2021-05-20T17:11:08.666917Z",
     "iopub.status.idle": "2021-05-20T17:11:08.670172Z",
     "shell.execute_reply": "2021-05-20T17:11:08.669728Z",
     "shell.execute_reply.started": "2021-05-20T17:11:08.667056Z"
    }
   },
   "outputs": [
    {
     "data": {
      "text/plain": [
       "0.5"
      ]
     },
     "execution_count": 56,
     "metadata": {},
     "output_type": "execute_result"
    }
   ],
   "source": [
    "perc_0"
   ]
  },
  {
   "cell_type": "code",
   "execution_count": 57,
   "id": "a420fa43",
   "metadata": {
    "execution": {
     "iopub.execute_input": "2021-05-20T17:11:28.735790Z",
     "iopub.status.busy": "2021-05-20T17:11:28.735623Z",
     "iopub.status.idle": "2021-05-20T17:11:28.739045Z",
     "shell.execute_reply": "2021-05-20T17:11:28.738532Z",
     "shell.execute_reply.started": "2021-05-20T17:11:28.735773Z"
    }
   },
   "outputs": [
    {
     "data": {
      "text/plain": [
       "8"
      ]
     },
     "execution_count": 57,
     "metadata": {},
     "output_type": "execute_result"
    }
   ],
   "source": [
    "hibbs['binary_prediction'].sum()"
   ]
  },
  {
   "cell_type": "code",
   "execution_count": 58,
   "id": "0099689a",
   "metadata": {
    "execution": {
     "iopub.execute_input": "2021-05-20T17:11:32.824086Z",
     "iopub.status.busy": "2021-05-20T17:11:32.823932Z",
     "iopub.status.idle": "2021-05-20T17:11:32.827168Z",
     "shell.execute_reply": "2021-05-20T17:11:32.826697Z",
     "shell.execute_reply.started": "2021-05-20T17:11:32.824070Z"
    }
   },
   "outputs": [
    {
     "data": {
      "text/plain": [
       "16"
      ]
     },
     "execution_count": 58,
     "metadata": {},
     "output_type": "execute_result"
    }
   ],
   "source": [
    "len(hibbs)"
   ]
  },
  {
   "cell_type": "code",
   "execution_count": 84,
   "id": "6213d3f6",
   "metadata": {
    "execution": {
     "iopub.execute_input": "2021-05-20T17:22:25.307188Z",
     "iopub.status.busy": "2021-05-20T17:22:25.307011Z",
     "iopub.status.idle": "2021-05-20T17:22:25.310503Z",
     "shell.execute_reply": "2021-05-20T17:22:25.309909Z",
     "shell.execute_reply.started": "2021-05-20T17:22:25.307168Z"
    },
    "tags": []
   },
   "outputs": [],
   "source": [
    "err1 = binary_1_group['vote'].std()/np.sqrt(8)\n",
    "err2 = binary_0_group['vote'].std()/np.sqrt(8)"
   ]
  },
  {
   "cell_type": "code",
   "execution_count": 85,
   "id": "c9622f48",
   "metadata": {
    "execution": {
     "iopub.execute_input": "2021-05-20T17:22:27.084214Z",
     "iopub.status.busy": "2021-05-20T17:22:27.084055Z",
     "iopub.status.idle": "2021-05-20T17:22:27.087337Z",
     "shell.execute_reply": "2021-05-20T17:22:27.086705Z",
     "shell.execute_reply.started": "2021-05-20T17:22:27.084197Z"
    },
    "tags": []
   },
   "outputs": [
    {
     "data": {
      "text/plain": [
       "2.203204190572708"
      ]
     },
     "execution_count": 85,
     "metadata": {},
     "output_type": "execute_result"
    }
   ],
   "source": [
    "err1"
   ]
  },
  {
   "cell_type": "code",
   "execution_count": 86,
   "id": "f1102478",
   "metadata": {
    "execution": {
     "iopub.execute_input": "2021-05-20T17:22:27.437306Z",
     "iopub.status.busy": "2021-05-20T17:22:27.436682Z",
     "iopub.status.idle": "2021-05-20T17:22:27.445472Z",
     "shell.execute_reply": "2021-05-20T17:22:27.444453Z",
     "shell.execute_reply.started": "2021-05-20T17:22:27.437232Z"
    },
    "tags": []
   },
   "outputs": [
    {
     "data": {
      "text/plain": [
       "1.1858141228407475"
      ]
     },
     "execution_count": 86,
     "metadata": {},
     "output_type": "execute_result"
    }
   ],
   "source": [
    "err2"
   ]
  },
  {
   "cell_type": "code",
   "execution_count": 88,
   "id": "bf3ffa46",
   "metadata": {
    "execution": {
     "iopub.execute_input": "2021-05-20T17:22:59.178064Z",
     "iopub.status.busy": "2021-05-20T17:22:59.177894Z",
     "iopub.status.idle": "2021-05-20T17:22:59.181565Z",
     "shell.execute_reply": "2021-05-20T17:22:59.181116Z",
     "shell.execute_reply.started": "2021-05-20T17:22:59.178046Z"
    },
    "tags": []
   },
   "outputs": [
    {
     "data": {
      "text/plain": [
       "2.5020519257772635"
      ]
     },
     "execution_count": 88,
     "metadata": {},
     "output_type": "execute_result"
    }
   ],
   "source": [
    "standard_err = np.sqrt(np.power(err1,2)+np.power(err2,2))\n",
    "standard_err"
   ]
  },
  {
   "cell_type": "code",
   "execution_count": 69,
   "id": "a9c8adaf",
   "metadata": {
    "execution": {
     "iopub.execute_input": "2021-05-20T17:14:59.015058Z",
     "iopub.status.busy": "2021-05-20T17:14:59.014887Z",
     "iopub.status.idle": "2021-05-20T17:14:59.024118Z",
     "shell.execute_reply": "2021-05-20T17:14:59.023648Z",
     "shell.execute_reply.started": "2021-05-20T17:14:59.015040Z"
    },
    "tags": []
   },
   "outputs": [],
   "source": [
    "res_vote = smf.glm('vote ~ binary_prediction', data = hibbs).fit()"
   ]
  },
  {
   "cell_type": "code",
   "execution_count": 70,
   "id": "109d7b0d",
   "metadata": {
    "execution": {
     "iopub.execute_input": "2021-05-20T17:15:01.888815Z",
     "iopub.status.busy": "2021-05-20T17:15:01.888651Z",
     "iopub.status.idle": "2021-05-20T17:15:01.895876Z",
     "shell.execute_reply": "2021-05-20T17:15:01.895345Z",
     "shell.execute_reply.started": "2021-05-20T17:15:01.888797Z"
    },
    "tags": []
   },
   "outputs": [
    {
     "data": {
      "text/html": [
       "<table class=\"simpletable\">\n",
       "<caption>Generalized Linear Model Regression Results</caption>\n",
       "<tr>\n",
       "  <th>Dep. Variable:</th>         <td>vote</td>       <th>  No. Observations:  </th>  <td>    16</td> \n",
       "</tr>\n",
       "<tr>\n",
       "  <th>Model:</th>                  <td>GLM</td>       <th>  Df Residuals:      </th>  <td>    14</td> \n",
       "</tr>\n",
       "<tr>\n",
       "  <th>Model Family:</th>        <td>Gaussian</td>     <th>  Df Model:          </th>  <td>     1</td> \n",
       "</tr>\n",
       "<tr>\n",
       "  <th>Link Function:</th>       <td>identity</td>     <th>  Scale:             </th> <td>  25.041</td>\n",
       "</tr>\n",
       "<tr>\n",
       "  <th>Method:</th>                <td>IRLS</td>       <th>  Log-Likelihood:    </th> <td> -47.399</td>\n",
       "</tr>\n",
       "<tr>\n",
       "  <th>Date:</th>            <td>Thu, 20 May 2021</td> <th>  Deviance:          </th> <td>  350.57</td>\n",
       "</tr>\n",
       "<tr>\n",
       "  <th>Time:</th>                <td>13:15:01</td>     <th>  Pearson chi2:      </th>  <td>  351.</td> \n",
       "</tr>\n",
       "<tr>\n",
       "  <th>No. Iterations:</th>          <td>3</td>        <th>                     </th>     <td> </td>   \n",
       "</tr>\n",
       "<tr>\n",
       "  <th>Covariance Type:</th>     <td>nonrobust</td>    <th>                     </th>     <td> </td>   \n",
       "</tr>\n",
       "</table>\n",
       "<table class=\"simpletable\">\n",
       "<tr>\n",
       "          <td></td>             <th>coef</th>     <th>std err</th>      <th>z</th>      <th>P>|z|</th>  <th>[0.025</th>    <th>0.975]</th>  \n",
       "</tr>\n",
       "<tr>\n",
       "  <th>Intercept</th>         <td>   49.3013</td> <td>    1.769</td> <td>   27.866</td> <td> 0.000</td> <td>   45.834</td> <td>   52.769</td>\n",
       "</tr>\n",
       "<tr>\n",
       "  <th>binary_prediction</th> <td>    5.5075</td> <td>    2.502</td> <td>    2.201</td> <td> 0.028</td> <td>    0.604</td> <td>   10.411</td>\n",
       "</tr>\n",
       "</table>"
      ],
      "text/plain": [
       "<class 'statsmodels.iolib.summary.Summary'>\n",
       "\"\"\"\n",
       "                 Generalized Linear Model Regression Results                  \n",
       "==============================================================================\n",
       "Dep. Variable:                   vote   No. Observations:                   16\n",
       "Model:                            GLM   Df Residuals:                       14\n",
       "Model Family:                Gaussian   Df Model:                            1\n",
       "Link Function:               identity   Scale:                          25.041\n",
       "Method:                          IRLS   Log-Likelihood:                -47.399\n",
       "Date:                Thu, 20 May 2021   Deviance:                       350.57\n",
       "Time:                        13:15:01   Pearson chi2:                     351.\n",
       "No. Iterations:                     3                                         \n",
       "Covariance Type:            nonrobust                                         \n",
       "=====================================================================================\n",
       "                        coef    std err          z      P>|z|      [0.025      0.975]\n",
       "-------------------------------------------------------------------------------------\n",
       "Intercept            49.3013      1.769     27.866      0.000      45.834      52.769\n",
       "binary_prediction     5.5075      2.502      2.201      0.028       0.604      10.411\n",
       "=====================================================================================\n",
       "\"\"\""
      ]
     },
     "execution_count": 70,
     "metadata": {},
     "output_type": "execute_result"
    }
   ],
   "source": [
    "res_vote.summary()"
   ]
  },
  {
   "cell_type": "markdown",
   "id": "8a04ad65",
   "metadata": {},
   "source": [
    "matches"
   ]
  },
  {
   "cell_type": "markdown",
   "id": "21380d5b",
   "metadata": {},
   "source": [
    "# 7.7 Comparing simulated data to assumed parameter values"
   ]
  },
  {
   "cell_type": "code",
   "execution_count": 89,
   "id": "8c5b2810",
   "metadata": {
    "execution": {
     "iopub.execute_input": "2021-05-20T17:25:03.013076Z",
     "iopub.status.busy": "2021-05-20T17:25:03.012914Z",
     "iopub.status.idle": "2021-05-20T17:25:03.016052Z",
     "shell.execute_reply": "2021-05-20T17:25:03.015575Z",
     "shell.execute_reply.started": "2021-05-20T17:25:03.013059Z"
    }
   },
   "outputs": [],
   "source": [
    "def sim_fake_n2(a, b, n):\n",
    "    x = np.random.uniform(0,20,n)\n",
    "    error = np.random.normal(0, 5, n)\n",
    "    x_sm = sm.add_constant(x)\n",
    "    y = a+b*x+error\n",
    "    res = sm.GLM(y, x_sm).fit()\n",
    "    return x, y, res"
   ]
  },
  {
   "cell_type": "code",
   "execution_count": 93,
   "id": "9d80886b",
   "metadata": {
    "execution": {
     "iopub.execute_input": "2021-05-20T17:26:31.078137Z",
     "iopub.status.busy": "2021-05-20T17:26:31.077966Z",
     "iopub.status.idle": "2021-05-20T17:26:31.082674Z",
     "shell.execute_reply": "2021-05-20T17:26:31.082116Z",
     "shell.execute_reply.started": "2021-05-20T17:26:31.078118Z"
    },
    "tags": []
   },
   "outputs": [],
   "source": [
    "x3,y3, res3 = sim_fake_n2(2,3,100)"
   ]
  },
  {
   "cell_type": "code",
   "execution_count": 94,
   "id": "61454bcd",
   "metadata": {
    "execution": {
     "iopub.execute_input": "2021-05-20T17:26:31.245716Z",
     "iopub.status.busy": "2021-05-20T17:26:31.245352Z",
     "iopub.status.idle": "2021-05-20T17:26:31.399242Z",
     "shell.execute_reply": "2021-05-20T17:26:31.397224Z",
     "shell.execute_reply.started": "2021-05-20T17:26:31.245676Z"
    },
    "tags": []
   },
   "outputs": [],
   "source": [
    "fake = pd.DataFrame({'x':x3, 'y':y3})"
   ]
  },
  {
   "cell_type": "code",
   "execution_count": 96,
   "id": "fd3415a2",
   "metadata": {
    "execution": {
     "iopub.execute_input": "2021-05-20T17:26:46.858133Z",
     "iopub.status.busy": "2021-05-20T17:26:46.857846Z",
     "iopub.status.idle": "2021-05-20T17:26:46.967413Z",
     "shell.execute_reply": "2021-05-20T17:26:46.966921Z",
     "shell.execute_reply.started": "2021-05-20T17:26:46.858100Z"
    },
    "tags": []
   },
   "outputs": [
    {
     "data": {
      "text/plain": [
       "[<matplotlib.lines.Line2D at 0x7f3f08545370>]"
      ]
     },
     "execution_count": 96,
     "metadata": {},
     "output_type": "execute_result"
    },
    {
     "data": {
      "image/png": "[encoded data removed]",
      "text/plain": [
       "<Figure size 576x396 with 1 Axes>"
      ]
     },
     "metadata": {},
     "output_type": "display_data"
    }
   ],
   "source": [
    "plt.scatter(x3,y3)\n",
    "plt.plot(x3, res3.params[0]+res3.params[1]*x3, color='b', label = r\"$y = a+bx$\")\n"
   ]
  },
  {
   "cell_type": "code",
   "execution_count": 97,
   "id": "76806121",
   "metadata": {
    "execution": {
     "iopub.execute_input": "2021-05-20T17:26:57.641892Z",
     "iopub.status.busy": "2021-05-20T17:26:57.641731Z",
     "iopub.status.idle": "2021-05-20T17:26:57.648857Z",
     "shell.execute_reply": "2021-05-20T17:26:57.648316Z",
     "shell.execute_reply.started": "2021-05-20T17:26:57.641874Z"
    }
   },
   "outputs": [
    {
     "data": {
      "text/html": [
       "<table class=\"simpletable\">\n",
       "<caption>Generalized Linear Model Regression Results</caption>\n",
       "<tr>\n",
       "  <th>Dep. Variable:</th>           <td>y</td>        <th>  No. Observations:  </th>  <td>   100</td> \n",
       "</tr>\n",
       "<tr>\n",
       "  <th>Model:</th>                  <td>GLM</td>       <th>  Df Residuals:      </th>  <td>    98</td> \n",
       "</tr>\n",
       "<tr>\n",
       "  <th>Model Family:</th>        <td>Gaussian</td>     <th>  Df Model:          </th>  <td>     1</td> \n",
       "</tr>\n",
       "<tr>\n",
       "  <th>Link Function:</th>       <td>identity</td>     <th>  Scale:             </th> <td>  26.303</td>\n",
       "</tr>\n",
       "<tr>\n",
       "  <th>Method:</th>                <td>IRLS</td>       <th>  Log-Likelihood:    </th> <td> -304.37</td>\n",
       "</tr>\n",
       "<tr>\n",
       "  <th>Date:</th>            <td>Thu, 20 May 2021</td> <th>  Deviance:          </th> <td>  2577.7</td>\n",
       "</tr>\n",
       "<tr>\n",
       "  <th>Time:</th>                <td>13:26:57</td>     <th>  Pearson chi2:      </th> <td>2.58e+03</td>\n",
       "</tr>\n",
       "<tr>\n",
       "  <th>No. Iterations:</th>          <td>3</td>        <th>                     </th>     <td> </td>   \n",
       "</tr>\n",
       "<tr>\n",
       "  <th>Covariance Type:</th>     <td>nonrobust</td>    <th>                     </th>     <td> </td>   \n",
       "</tr>\n",
       "</table>\n",
       "<table class=\"simpletable\">\n",
       "<tr>\n",
       "    <td></td>       <th>coef</th>     <th>std err</th>      <th>z</th>      <th>P>|z|</th>  <th>[0.025</th>    <th>0.975]</th>  \n",
       "</tr>\n",
       "<tr>\n",
       "  <th>const</th> <td>    2.5418</td> <td>    1.070</td> <td>    2.376</td> <td> 0.017</td> <td>    0.445</td> <td>    4.638</td>\n",
       "</tr>\n",
       "<tr>\n",
       "  <th>x1</th>    <td>    2.9089</td> <td>    0.096</td> <td>   30.224</td> <td> 0.000</td> <td>    2.720</td> <td>    3.098</td>\n",
       "</tr>\n",
       "</table>"
      ],
      "text/plain": [
       "<class 'statsmodels.iolib.summary.Summary'>\n",
       "\"\"\"\n",
       "                 Generalized Linear Model Regression Results                  \n",
       "==============================================================================\n",
       "Dep. Variable:                      y   No. Observations:                  100\n",
       "Model:                            GLM   Df Residuals:                       98\n",
       "Model Family:                Gaussian   Df Model:                            1\n",
       "Link Function:               identity   Scale:                          26.303\n",
       "Method:                          IRLS   Log-Likelihood:                -304.37\n",
       "Date:                Thu, 20 May 2021   Deviance:                       2577.7\n",
       "Time:                        13:26:57   Pearson chi2:                 2.58e+03\n",
       "No. Iterations:                     3                                         \n",
       "Covariance Type:            nonrobust                                         \n",
       "==============================================================================\n",
       "                 coef    std err          z      P>|z|      [0.025      0.975]\n",
       "------------------------------------------------------------------------------\n",
       "const          2.5418      1.070      2.376      0.017       0.445       4.638\n",
       "x1             2.9089      0.096     30.224      0.000       2.720       3.098\n",
       "==============================================================================\n",
       "\"\"\""
      ]
     },
     "execution_count": 97,
     "metadata": {},
     "output_type": "execute_result"
    }
   ],
   "source": [
    "res3.summary()"
   ]
  },
  {
   "cell_type": "markdown",
   "id": "90002479",
   "metadata": {},
   "source": [
    "reasonably close as in within the 2sigma (i.e. within the 95%)"
   ]
  },
  {
   "cell_type": "markdown",
   "id": "971a82c5",
   "metadata": {},
   "source": [
    "# 7.8 Sampling distribution"
   ]
  },
  {
   "cell_type": "code",
   "execution_count": 102,
   "id": "64850574",
   "metadata": {
    "execution": {
     "iopub.execute_input": "2021-05-20T17:30:51.906402Z",
     "iopub.status.busy": "2021-05-20T17:30:51.906159Z",
     "iopub.status.idle": "2021-05-20T17:30:53.395322Z",
     "shell.execute_reply": "2021-05-20T17:30:53.394831Z",
     "shell.execute_reply.started": "2021-05-20T17:30:51.906382Z"
    },
    "tags": []
   },
   "outputs": [],
   "source": [
    "results_list = []\n",
    "for n in range(0, 1000):\n",
    "    x3,y3, res3 = sim_fake_n2(2,3,1000)\n",
    "    results_list.append(res3)"
   ]
  },
  {
   "cell_type": "code",
   "execution_count": 124,
   "id": "17ab9865",
   "metadata": {
    "execution": {
     "iopub.execute_input": "2021-05-20T17:37:30.854919Z",
     "iopub.status.busy": "2021-05-20T17:37:30.854752Z",
     "iopub.status.idle": "2021-05-20T17:37:30.867140Z",
     "shell.execute_reply": "2021-05-20T17:37:30.866550Z",
     "shell.execute_reply.started": "2021-05-20T17:37:30.854901Z"
    },
    "tags": []
   },
   "outputs": [],
   "source": [
    "constant_est = []\n",
    "constant_err = []\n",
    "slope_est = []\n",
    "slope_err = []\n",
    "for res in results_list:\n",
    "    constant_est.append(res.params[0])\n",
    "    constant_err.append(res.bse[0])\n",
    "    slope_est.append(res.params[1])\n",
    "    slope_err.append(res.bse[1])"
   ]
  },
  {
   "cell_type": "code",
   "execution_count": 125,
   "id": "f97810f2",
   "metadata": {
    "execution": {
     "iopub.execute_input": "2021-05-20T17:37:31.017189Z",
     "iopub.status.busy": "2021-05-20T17:37:31.016523Z",
     "iopub.status.idle": "2021-05-20T17:37:31.108629Z",
     "shell.execute_reply": "2021-05-20T17:37:31.107578Z",
     "shell.execute_reply.started": "2021-05-20T17:37:31.017111Z"
    },
    "tags": []
   },
   "outputs": [
    {
     "data": {
      "text/plain": [
       "1.9965856489742386"
      ]
     },
     "execution_count": 125,
     "metadata": {},
     "output_type": "execute_result"
    }
   ],
   "source": [
    "np.mean(constant_est)"
   ]
  },
  {
   "cell_type": "code",
   "execution_count": 126,
   "id": "b9cb8e1b",
   "metadata": {
    "execution": {
     "iopub.execute_input": "2021-05-20T17:37:31.174681Z",
     "iopub.status.busy": "2021-05-20T17:37:31.174456Z",
     "iopub.status.idle": "2021-05-20T17:37:31.182303Z",
     "shell.execute_reply": "2021-05-20T17:37:31.181689Z",
     "shell.execute_reply.started": "2021-05-20T17:37:31.174658Z"
    },
    "tags": []
   },
   "outputs": [
    {
     "data": {
      "text/plain": [
       "0.31256439101917854"
      ]
     },
     "execution_count": 126,
     "metadata": {},
     "output_type": "execute_result"
    }
   ],
   "source": [
    "np.std(constant_est)"
   ]
  },
  {
   "cell_type": "code",
   "execution_count": 127,
   "id": "485e6e35",
   "metadata": {
    "execution": {
     "iopub.execute_input": "2021-05-20T17:37:31.343323Z",
     "iopub.status.busy": "2021-05-20T17:37:31.342687Z",
     "iopub.status.idle": "2021-05-20T17:37:31.354759Z",
     "shell.execute_reply": "2021-05-20T17:37:31.352758Z",
     "shell.execute_reply.started": "2021-05-20T17:37:31.343248Z"
    },
    "tags": []
   },
   "outputs": [
    {
     "data": {
      "text/plain": [
       "0.31639699101136093"
      ]
     },
     "execution_count": 127,
     "metadata": {},
     "output_type": "execute_result"
    }
   ],
   "source": [
    "np.mean(constant_err)"
   ]
  },
  {
   "cell_type": "code",
   "execution_count": 128,
   "id": "d33c124a",
   "metadata": {
    "execution": {
     "iopub.execute_input": "2021-05-20T17:37:31.510458Z",
     "iopub.status.busy": "2021-05-20T17:37:31.510101Z",
     "iopub.status.idle": "2021-05-20T17:37:31.516289Z",
     "shell.execute_reply": "2021-05-20T17:37:31.515387Z",
     "shell.execute_reply.started": "2021-05-20T17:37:31.510418Z"
    },
    "tags": []
   },
   "outputs": [
    {
     "data": {
      "text/plain": [
       "3.000017709241963"
      ]
     },
     "execution_count": 128,
     "metadata": {},
     "output_type": "execute_result"
    }
   ],
   "source": [
    "np.mean(slope_est)"
   ]
  },
  {
   "cell_type": "code",
   "execution_count": 129,
   "id": "480b1caa",
   "metadata": {
    "execution": {
     "iopub.execute_input": "2021-05-20T17:37:31.648382Z",
     "iopub.status.busy": "2021-05-20T17:37:31.648107Z",
     "iopub.status.idle": "2021-05-20T17:37:31.653684Z",
     "shell.execute_reply": "2021-05-20T17:37:31.652852Z",
     "shell.execute_reply.started": "2021-05-20T17:37:31.648351Z"
    },
    "tags": []
   },
   "outputs": [
    {
     "data": {
      "text/plain": [
       "0.026589768786916396"
      ]
     },
     "execution_count": 129,
     "metadata": {},
     "output_type": "execute_result"
    }
   ],
   "source": [
    "np.std(slope_est)"
   ]
  },
  {
   "cell_type": "code",
   "execution_count": 130,
   "id": "f648d571",
   "metadata": {
    "execution": {
     "iopub.execute_input": "2021-05-20T17:37:31.821143Z",
     "iopub.status.busy": "2021-05-20T17:37:31.820507Z",
     "iopub.status.idle": "2021-05-20T17:37:31.832758Z",
     "shell.execute_reply": "2021-05-20T17:37:31.830838Z",
     "shell.execute_reply.started": "2021-05-20T17:37:31.821070Z"
    },
    "tags": []
   },
   "outputs": [
    {
     "data": {
      "text/plain": [
       "0.027392386808505188"
      ]
     },
     "execution_count": 130,
     "metadata": {},
     "output_type": "execute_result"
    }
   ],
   "source": [
    "np.mean(slope_err)"
   ]
  },
  {
   "cell_type": "markdown",
   "id": "a51cacdb",
   "metadata": {},
   "source": [
    "So std(coeff) is essentially the same as mean(std_from_fit)"
   ]
  },
  {
   "cell_type": "code",
   "execution_count": 133,
   "id": "8495c912",
   "metadata": {
    "execution": {
     "iopub.execute_input": "2021-05-20T17:41:00.395609Z",
     "iopub.status.busy": "2021-05-20T17:41:00.395434Z",
     "iopub.status.idle": "2021-05-20T17:41:00.400522Z",
     "shell.execute_reply": "2021-05-20T17:41:00.399981Z",
     "shell.execute_reply.started": "2021-05-20T17:41:00.395590Z"
    },
    "tags": []
   },
   "outputs": [],
   "source": [
    "df = pd.DataFrame({'constant_est': constant_est, 'constant_err':constant_err, 'slope_est':slope_est, 'slope_err': slope_err})"
   ]
  },
  {
   "cell_type": "code",
   "execution_count": 134,
   "id": "f8de4f26",
   "metadata": {
    "execution": {
     "iopub.execute_input": "2021-05-20T17:41:01.966987Z",
     "iopub.status.busy": "2021-05-20T17:41:01.966831Z",
     "iopub.status.idle": "2021-05-20T17:41:01.975099Z",
     "shell.execute_reply": "2021-05-20T17:41:01.974693Z",
     "shell.execute_reply.started": "2021-05-20T17:41:01.966971Z"
    }
   },
   "outputs": [
    {
     "data": {
      "text/html": [
       "<div>\n",
       "<style scoped>\n",
       "    .dataframe tbody tr th:only-of-type {\n",
       "        vertical-align: middle;\n",
       "    }\n",
       "\n",
       "    .dataframe tbody tr th {\n",
       "        vertical-align: top;\n",
       "    }\n",
       "\n",
       "    .dataframe thead th {\n",
       "        text-align: right;\n",
       "    }\n",
       "</style>\n",
       "<table border=\"1\" class=\"dataframe\">\n",
       "  <thead>\n",
       "    <tr style=\"text-align: right;\">\n",
       "      <th></th>\n",
       "      <th>constant_est</th>\n",
       "      <th>constant_err</th>\n",
       "      <th>slope_est</th>\n",
       "      <th>slope_err</th>\n",
       "    </tr>\n",
       "  </thead>\n",
       "  <tbody>\n",
       "    <tr>\n",
       "      <th>0</th>\n",
       "      <td>2.160772</td>\n",
       "      <td>0.314232</td>\n",
       "      <td>2.999090</td>\n",
       "      <td>0.026973</td>\n",
       "    </tr>\n",
       "    <tr>\n",
       "      <th>1</th>\n",
       "      <td>2.087677</td>\n",
       "      <td>0.330693</td>\n",
       "      <td>2.979799</td>\n",
       "      <td>0.028562</td>\n",
       "    </tr>\n",
       "    <tr>\n",
       "      <th>2</th>\n",
       "      <td>1.744005</td>\n",
       "      <td>0.312022</td>\n",
       "      <td>3.000712</td>\n",
       "      <td>0.027546</td>\n",
       "    </tr>\n",
       "    <tr>\n",
       "      <th>3</th>\n",
       "      <td>2.003548</td>\n",
       "      <td>0.308387</td>\n",
       "      <td>2.997387</td>\n",
       "      <td>0.026756</td>\n",
       "    </tr>\n",
       "    <tr>\n",
       "      <th>4</th>\n",
       "      <td>1.363743</td>\n",
       "      <td>0.311054</td>\n",
       "      <td>3.034178</td>\n",
       "      <td>0.026841</td>\n",
       "    </tr>\n",
       "    <tr>\n",
       "      <th>...</th>\n",
       "      <td>...</td>\n",
       "      <td>...</td>\n",
       "      <td>...</td>\n",
       "      <td>...</td>\n",
       "    </tr>\n",
       "    <tr>\n",
       "      <th>995</th>\n",
       "      <td>2.183678</td>\n",
       "      <td>0.315475</td>\n",
       "      <td>2.985853</td>\n",
       "      <td>0.027544</td>\n",
       "    </tr>\n",
       "    <tr>\n",
       "      <th>996</th>\n",
       "      <td>1.497771</td>\n",
       "      <td>0.319741</td>\n",
       "      <td>3.059502</td>\n",
       "      <td>0.027361</td>\n",
       "    </tr>\n",
       "    <tr>\n",
       "      <th>997</th>\n",
       "      <td>2.486326</td>\n",
       "      <td>0.309314</td>\n",
       "      <td>2.975518</td>\n",
       "      <td>0.026852</td>\n",
       "    </tr>\n",
       "    <tr>\n",
       "      <th>998</th>\n",
       "      <td>2.235891</td>\n",
       "      <td>0.337048</td>\n",
       "      <td>2.998224</td>\n",
       "      <td>0.028768</td>\n",
       "    </tr>\n",
       "    <tr>\n",
       "      <th>999</th>\n",
       "      <td>1.695036</td>\n",
       "      <td>0.316801</td>\n",
       "      <td>3.040749</td>\n",
       "      <td>0.027094</td>\n",
       "    </tr>\n",
       "  </tbody>\n",
       "</table>\n",
       "<p>1000 rows × 4 columns</p>\n",
       "</div>"
      ],
      "text/plain": [
       "     constant_est  constant_err  slope_est  slope_err\n",
       "0        2.160772      0.314232   2.999090   0.026973\n",
       "1        2.087677      0.330693   2.979799   0.028562\n",
       "2        1.744005      0.312022   3.000712   0.027546\n",
       "3        2.003548      0.308387   2.997387   0.026756\n",
       "4        1.363743      0.311054   3.034178   0.026841\n",
       "..            ...           ...        ...        ...\n",
       "995      2.183678      0.315475   2.985853   0.027544\n",
       "996      1.497771      0.319741   3.059502   0.027361\n",
       "997      2.486326      0.309314   2.975518   0.026852\n",
       "998      2.235891      0.337048   2.998224   0.028768\n",
       "999      1.695036      0.316801   3.040749   0.027094\n",
       "\n",
       "[1000 rows x 4 columns]"
      ]
     },
     "execution_count": 134,
     "metadata": {},
     "output_type": "execute_result"
    }
   ],
   "source": [
    "df"
   ]
  },
  {
   "cell_type": "code",
   "execution_count": 136,
   "id": "2182484d",
   "metadata": {
    "execution": {
     "iopub.execute_input": "2021-05-20T17:42:03.329044Z",
     "iopub.status.busy": "2021-05-20T17:42:03.328873Z",
     "iopub.status.idle": "2021-05-20T17:42:03.333039Z",
     "shell.execute_reply": "2021-05-20T17:42:03.332494Z",
     "shell.execute_reply.started": "2021-05-20T17:42:03.329026Z"
    },
    "tags": []
   },
   "outputs": [],
   "source": [
    "df['constant_within_2_sigma'] = np.where(np.abs(df['constant_est']-2)<2*df['constant_err'], 1,0)"
   ]
  },
  {
   "cell_type": "code",
   "execution_count": 137,
   "id": "85e3f9f0",
   "metadata": {
    "execution": {
     "iopub.execute_input": "2021-05-20T17:42:33.019857Z",
     "iopub.status.busy": "2021-05-20T17:42:33.019699Z",
     "iopub.status.idle": "2021-05-20T17:42:33.023790Z",
     "shell.execute_reply": "2021-05-20T17:42:33.023287Z",
     "shell.execute_reply.started": "2021-05-20T17:42:33.019840Z"
    }
   },
   "outputs": [],
   "source": [
    "df['slope_within_2_sigma'] = np.where(np.abs(df['slope_est']-3)<2*df['slope_err'], 1,0)"
   ]
  },
  {
   "cell_type": "code",
   "execution_count": 138,
   "id": "f19df85d",
   "metadata": {
    "execution": {
     "iopub.execute_input": "2021-05-20T17:42:46.257815Z",
     "iopub.status.busy": "2021-05-20T17:42:46.257654Z",
     "iopub.status.idle": "2021-05-20T17:42:46.261600Z",
     "shell.execute_reply": "2021-05-20T17:42:46.261092Z",
     "shell.execute_reply.started": "2021-05-20T17:42:46.257798Z"
    }
   },
   "outputs": [
    {
     "data": {
      "text/plain": [
       "0.954"
      ]
     },
     "execution_count": 138,
     "metadata": {},
     "output_type": "execute_result"
    }
   ],
   "source": [
    "df['constant_within_2_sigma'].sum()/1000"
   ]
  },
  {
   "cell_type": "code",
   "execution_count": 139,
   "id": "473f77e2",
   "metadata": {
    "execution": {
     "iopub.execute_input": "2021-05-20T17:42:56.588706Z",
     "iopub.status.busy": "2021-05-20T17:42:56.588553Z",
     "iopub.status.idle": "2021-05-20T17:42:56.592269Z",
     "shell.execute_reply": "2021-05-20T17:42:56.591822Z",
     "shell.execute_reply.started": "2021-05-20T17:42:56.588689Z"
    }
   },
   "outputs": [
    {
     "data": {
      "text/plain": [
       "0.957"
      ]
     },
     "execution_count": 139,
     "metadata": {},
     "output_type": "execute_result"
    }
   ],
   "source": [
    "df['slope_within_2_sigma'].sum()/1000"
   ]
  },
  {
   "cell_type": "markdown",
   "id": "b295a634",
   "metadata": {},
   "source": [
    "# 7.9 interpretations of regressions "
   ]
  },
  {
   "cell_type": "markdown",
   "id": "464c3f99",
   "metadata": {},
   "source": [
    "If we just did an inverse of Sec 7.1 i.e."
   ]
  },
  {
   "cell_type": "code",
   "execution_count": 142,
   "id": "94ed3267",
   "metadata": {
    "execution": {
     "iopub.execute_input": "2021-05-20T17:44:19.320560Z",
     "iopub.status.busy": "2021-05-20T17:44:19.320396Z",
     "iopub.status.idle": "2021-05-20T17:44:19.329748Z",
     "shell.execute_reply": "2021-05-20T17:44:19.329338Z",
     "shell.execute_reply.started": "2021-05-20T17:44:19.320542Z"
    },
    "tags": []
   },
   "outputs": [],
   "source": [
    "res_inverse = smf.glm('growth~vote', data = hibbs).fit()"
   ]
  },
  {
   "cell_type": "code",
   "execution_count": 144,
   "id": "a3d9086d",
   "metadata": {
    "execution": {
     "iopub.execute_input": "2021-05-20T17:44:31.134403Z",
     "iopub.status.busy": "2021-05-20T17:44:31.134239Z",
     "iopub.status.idle": "2021-05-20T17:44:31.141361Z",
     "shell.execute_reply": "2021-05-20T17:44:31.140985Z",
     "shell.execute_reply.started": "2021-05-20T17:44:31.134386Z"
    },
    "tags": []
   },
   "outputs": [
    {
     "data": {
      "text/html": [
       "<table class=\"simpletable\">\n",
       "<caption>Generalized Linear Model Regression Results</caption>\n",
       "<tr>\n",
       "  <th>Dep. Variable:</th>        <td>growth</td>      <th>  No. Observations:  </th>  <td>    16</td> \n",
       "</tr>\n",
       "<tr>\n",
       "  <th>Model:</th>                  <td>GLM</td>       <th>  Df Residuals:      </th>  <td>    14</td> \n",
       "</tr>\n",
       "<tr>\n",
       "  <th>Model Family:</th>        <td>Gaussian</td>     <th>  Df Model:          </th>  <td>     1</td> \n",
       "</tr>\n",
       "<tr>\n",
       "  <th>Link Function:</th>       <td>identity</td>     <th>  Scale:             </th> <td> 0.87671</td>\n",
       "</tr>\n",
       "<tr>\n",
       "  <th>Method:</th>                <td>IRLS</td>       <th>  Log-Likelihood:    </th> <td> -20.582</td>\n",
       "</tr>\n",
       "<tr>\n",
       "  <th>Date:</th>            <td>Thu, 20 May 2021</td> <th>  Deviance:          </th> <td>  12.274</td>\n",
       "</tr>\n",
       "<tr>\n",
       "  <th>Time:</th>                <td>13:44:31</td>     <th>  Pearson chi2:      </th>  <td>  12.3</td> \n",
       "</tr>\n",
       "<tr>\n",
       "  <th>No. Iterations:</th>          <td>3</td>        <th>                     </th>     <td> </td>   \n",
       "</tr>\n",
       "<tr>\n",
       "  <th>Covariance Type:</th>     <td>nonrobust</td>    <th>                     </th>     <td> </td>   \n",
       "</tr>\n",
       "</table>\n",
       "<table class=\"simpletable\">\n",
       "<tr>\n",
       "      <td></td>         <th>coef</th>     <th>std err</th>      <th>z</th>      <th>P>|z|</th>  <th>[0.025</th>    <th>0.975]</th>  \n",
       "</tr>\n",
       "<tr>\n",
       "  <th>Intercept</th> <td>   -7.9648</td> <td>    2.256</td> <td>   -3.531</td> <td> 0.000</td> <td>  -12.386</td> <td>   -3.543</td>\n",
       "</tr>\n",
       "<tr>\n",
       "  <th>vote</th>      <td>    0.1895</td> <td>    0.043</td> <td>    4.396</td> <td> 0.000</td> <td>    0.105</td> <td>    0.274</td>\n",
       "</tr>\n",
       "</table>"
      ],
      "text/plain": [
       "<class 'statsmodels.iolib.summary.Summary'>\n",
       "\"\"\"\n",
       "                 Generalized Linear Model Regression Results                  \n",
       "==============================================================================\n",
       "Dep. Variable:                 growth   No. Observations:                   16\n",
       "Model:                            GLM   Df Residuals:                       14\n",
       "Model Family:                Gaussian   Df Model:                            1\n",
       "Link Function:               identity   Scale:                         0.87671\n",
       "Method:                          IRLS   Log-Likelihood:                -20.582\n",
       "Date:                Thu, 20 May 2021   Deviance:                       12.274\n",
       "Time:                        13:44:31   Pearson chi2:                     12.3\n",
       "No. Iterations:                     3                                         \n",
       "Covariance Type:            nonrobust                                         \n",
       "==============================================================================\n",
       "                 coef    std err          z      P>|z|      [0.025      0.975]\n",
       "------------------------------------------------------------------------------\n",
       "Intercept     -7.9648      2.256     -3.531      0.000     -12.386      -3.543\n",
       "vote           0.1895      0.043      4.396      0.000       0.105       0.274\n",
       "==============================================================================\n",
       "\"\"\""
      ]
     },
     "execution_count": 144,
     "metadata": {},
     "output_type": "execute_result"
    }
   ],
   "source": [
    "res_inverse.summary()"
   ]
  },
  {
   "cell_type": "markdown",
   "id": "4b7dcd36",
   "metadata": {},
   "source": [
    "We would have said that the growth is driven by the increase of vote share by the incumbent. That is simply not true. Since this is the inverse, it is reasonable to also say that there is no _causal_ relationship between the two variables, but they are simply _correlated_."
   ]
  },
  {
   "cell_type": "code",
   "execution_count": null,
   "id": "4e1ba162",
   "metadata": {},
   "outputs": [],
   "source": []
  }
 ],
 "metadata": {
  "kernelspec": {
   "display_name": "Python [conda env:ros]",
   "language": "python",
   "name": "conda-env-ros-py"
  },
  "language_info": {
   "codemirror_mode": {
    "name": "ipython",
    "version": 3
   },
   "file_extension": ".py",
   "mimetype": "text/x-python",
   "name": "python",
   "nbconvert_exporter": "python",
   "pygments_lexer": "ipython3",
   "version": "3.8.8"
  }
 },
 "nbformat": 4,
 "nbformat_minor": 5
}
