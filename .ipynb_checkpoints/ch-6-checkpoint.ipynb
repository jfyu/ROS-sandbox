{
 "cells": [
  {
   "cell_type": "code",
   "execution_count": 5,
   "id": "4f4f1c57",
   "metadata": {
    "execution": {
     "iopub.execute_input": "2021-05-13T00:40:07.106088Z",
     "iopub.status.busy": "2021-05-13T00:40:07.105915Z",
     "iopub.status.idle": "2021-05-13T00:40:12.981137Z",
     "shell.execute_reply": "2021-05-13T00:40:12.980419Z",
     "shell.execute_reply.started": "2021-05-13T00:40:07.106069Z"
    },
    "tags": []
   },
   "outputs": [],
   "source": [
    "import pandas as pd\n",
    "import numpy as np\n",
    "import matplotlib.pyplot as plt\n",
    "import seaborn as sns\n",
    "\n",
    "import scipy.stats as stats"
   ]
  },
  {
   "cell_type": "code",
   "execution_count": 6,
   "id": "d1d04c73",
   "metadata": {
    "execution": {
     "iopub.execute_input": "2021-05-13T00:40:12.982568Z",
     "iopub.status.busy": "2021-05-13T00:40:12.982231Z",
     "iopub.status.idle": "2021-05-13T00:40:12.986407Z",
     "shell.execute_reply": "2021-05-13T00:40:12.985742Z",
     "shell.execute_reply.started": "2021-05-13T00:40:12.982539Z"
    },
    "tags": []
   },
   "outputs": [],
   "source": [
    "plt.style.use('seaborn-notebook')\n",
    "plt.style.use('ggplot')"
   ]
  },
  {
   "cell_type": "markdown",
   "id": "f9ebc741",
   "metadata": {},
   "source": [
    "# 6.2 Programming fake-data simulation"
   ]
  },
  {
   "cell_type": "code",
   "execution_count": 7,
   "id": "22756396",
   "metadata": {
    "execution": {
     "iopub.execute_input": "2021-05-13T00:40:12.988167Z",
     "iopub.status.busy": "2021-05-13T00:40:12.987640Z",
     "iopub.status.idle": "2021-05-13T00:40:13.114374Z",
     "shell.execute_reply": "2021-05-13T00:40:13.112315Z",
     "shell.execute_reply.started": "2021-05-13T00:40:12.988134Z"
    },
    "tags": []
   },
   "outputs": [],
   "source": [
    "def sim_fake(a,b,n,sigma):\n",
    "    x = np.random.uniform(0,100,n)\n",
    "    error = np.random.normal(0,sigma,n)\n",
    "    y = a+b*x + error\n",
    "    return x, y"
   ]
  },
  {
   "cell_type": "code",
   "execution_count": 8,
   "id": "5f9a6e66",
   "metadata": {
    "execution": {
     "iopub.execute_input": "2021-05-13T00:40:13.118398Z",
     "iopub.status.busy": "2021-05-13T00:40:13.117760Z",
     "iopub.status.idle": "2021-05-13T00:40:13.170385Z",
     "shell.execute_reply": "2021-05-13T00:40:13.169615Z",
     "shell.execute_reply.started": "2021-05-13T00:40:13.118322Z"
    },
    "tags": []
   },
   "outputs": [],
   "source": [
    "x,y = sim_fake(2,5,1000,0.5)"
   ]
  },
  {
   "cell_type": "code",
   "execution_count": 9,
   "id": "5c3dcde4",
   "metadata": {
    "execution": {
     "iopub.execute_input": "2021-05-13T00:40:13.171574Z",
     "iopub.status.busy": "2021-05-13T00:40:13.171359Z",
     "iopub.status.idle": "2021-05-13T00:40:13.326580Z",
     "shell.execute_reply": "2021-05-13T00:40:13.324477Z",
     "shell.execute_reply.started": "2021-05-13T00:40:13.171548Z"
    },
    "tags": []
   },
   "outputs": [
    {
     "data": {
      "text/plain": [
       "(1000,)"
      ]
     },
     "execution_count": 9,
     "metadata": {},
     "output_type": "execute_result"
    }
   ],
   "source": [
    "x.shape"
   ]
  },
  {
   "cell_type": "code",
   "execution_count": 10,
   "id": "c5bb6d35",
   "metadata": {
    "execution": {
     "iopub.execute_input": "2021-05-13T00:40:13.329620Z",
     "iopub.status.busy": "2021-05-13T00:40:13.329002Z",
     "iopub.status.idle": "2021-05-13T00:40:13.394351Z",
     "shell.execute_reply": "2021-05-13T00:40:13.393752Z",
     "shell.execute_reply.started": "2021-05-13T00:40:13.329544Z"
    },
    "tags": []
   },
   "outputs": [
    {
     "data": {
      "text/plain": [
       "(1000,)"
      ]
     },
     "execution_count": 10,
     "metadata": {},
     "output_type": "execute_result"
    }
   ],
   "source": [
    "y.shape"
   ]
  },
  {
   "cell_type": "code",
   "execution_count": 11,
   "id": "c2fc354a",
   "metadata": {
    "execution": {
     "iopub.execute_input": "2021-05-13T00:40:13.395236Z",
     "iopub.status.busy": "2021-05-13T00:40:13.395073Z",
     "iopub.status.idle": "2021-05-13T00:40:13.620701Z",
     "shell.execute_reply": "2021-05-13T00:40:13.620194Z",
     "shell.execute_reply.started": "2021-05-13T00:40:13.395218Z"
    },
    "tags": []
   },
   "outputs": [],
   "source": [
    "coeff = np.polyfit(x,y,2)"
   ]
  },
  {
   "cell_type": "code",
   "execution_count": 12,
   "id": "089d56e1",
   "metadata": {
    "execution": {
     "iopub.execute_input": "2021-05-13T00:40:13.622262Z",
     "iopub.status.busy": "2021-05-13T00:40:13.622074Z",
     "iopub.status.idle": "2021-05-13T00:40:14.089566Z",
     "shell.execute_reply": "2021-05-13T00:40:14.089004Z",
     "shell.execute_reply.started": "2021-05-13T00:40:13.622242Z"
    },
    "tags": []
   },
   "outputs": [
    {
     "data": {
      "text/plain": [
       "[<matplotlib.lines.Line2D at 0x7fcf1b3b9a30>]"
      ]
     },
     "execution_count": 12,
     "metadata": {},
     "output_type": "execute_result"
    },
    {
     "data": {
      "image/png": "[encoded data removed]",
      "text/plain": [
       "<Figure size 576x396 with 1 Axes>"
      ]
     },
     "metadata": {},
     "output_type": "display_data"
    }
   ],
   "source": [
    "plt.scatter(x,y)\n",
    "plt.plot(x, np.polyval(coeff, x), color='b')"
   ]
  },
  {
   "cell_type": "markdown",
   "id": "ec69e00e",
   "metadata": {},
   "source": [
    "try scikitlearn"
   ]
  },
  {
   "cell_type": "code",
   "execution_count": 13,
   "id": "94bbe93f",
   "metadata": {
    "execution": {
     "iopub.execute_input": "2021-05-13T00:40:14.090698Z",
     "iopub.status.busy": "2021-05-13T00:40:14.090562Z",
     "iopub.status.idle": "2021-05-13T00:40:16.809329Z",
     "shell.execute_reply": "2021-05-13T00:40:16.808812Z",
     "shell.execute_reply.started": "2021-05-13T00:40:14.090678Z"
    },
    "tags": []
   },
   "outputs": [],
   "source": [
    "from sklearn.linear_model import LinearRegression"
   ]
  },
  {
   "cell_type": "code",
   "execution_count": 14,
   "id": "02123c47",
   "metadata": {
    "execution": {
     "iopub.execute_input": "2021-05-13T00:40:16.810166Z",
     "iopub.status.busy": "2021-05-13T00:40:16.809994Z",
     "iopub.status.idle": "2021-05-13T00:40:16.886101Z",
     "shell.execute_reply": "2021-05-13T00:40:16.884097Z",
     "shell.execute_reply.started": "2021-05-13T00:40:16.810131Z"
    },
    "tags": []
   },
   "outputs": [
    {
     "data": {
      "text/plain": [
       "LinearRegression()"
      ]
     },
     "execution_count": 14,
     "metadata": {},
     "output_type": "execute_result"
    }
   ],
   "source": [
    "model = LinearRegression()\n",
    "model.fit(x.reshape((-1,1)),y.reshape((-1,1)))"
   ]
  },
  {
   "cell_type": "code",
   "execution_count": 15,
   "id": "a95d36ab",
   "metadata": {
    "execution": {
     "iopub.execute_input": "2021-05-13T00:40:16.888788Z",
     "iopub.status.busy": "2021-05-13T00:40:16.888216Z",
     "iopub.status.idle": "2021-05-13T00:40:16.986016Z",
     "shell.execute_reply": "2021-05-13T00:40:16.985453Z",
     "shell.execute_reply.started": "2021-05-13T00:40:16.888715Z"
    },
    "tags": []
   },
   "outputs": [
    {
     "data": {
      "text/plain": [
       "0.9999879087397832"
      ]
     },
     "execution_count": 15,
     "metadata": {},
     "output_type": "execute_result"
    }
   ],
   "source": [
    "model.score(x.reshape((-1,1)),y.reshape((-1,1)))"
   ]
  },
  {
   "cell_type": "code",
   "execution_count": 16,
   "id": "25a762f2",
   "metadata": {
    "execution": {
     "iopub.execute_input": "2021-05-13T00:40:16.986933Z",
     "iopub.status.busy": "2021-05-13T00:40:16.986757Z",
     "iopub.status.idle": "2021-05-13T00:40:17.120799Z",
     "shell.execute_reply": "2021-05-13T00:40:17.118800Z",
     "shell.execute_reply.started": "2021-05-13T00:40:16.986915Z"
    },
    "tags": []
   },
   "outputs": [
    {
     "data": {
      "text/plain": [
       "array([2.01516854])"
      ]
     },
     "execution_count": 16,
     "metadata": {},
     "output_type": "execute_result"
    }
   ],
   "source": [
    "model.intercept_"
   ]
  },
  {
   "cell_type": "code",
   "execution_count": 17,
   "id": "75c9448c",
   "metadata": {
    "execution": {
     "iopub.execute_input": "2021-05-13T00:40:17.123825Z",
     "iopub.status.busy": "2021-05-13T00:40:17.123202Z",
     "iopub.status.idle": "2021-05-13T00:40:17.209394Z",
     "shell.execute_reply": "2021-05-13T00:40:17.208666Z",
     "shell.execute_reply.started": "2021-05-13T00:40:17.123749Z"
    },
    "tags": []
   },
   "outputs": [
    {
     "data": {
      "text/plain": [
       "array([[4.99949221]])"
      ]
     },
     "execution_count": 17,
     "metadata": {},
     "output_type": "execute_result"
    }
   ],
   "source": [
    "model.coef_"
   ]
  },
  {
   "cell_type": "code",
   "execution_count": 18,
   "id": "298e0765",
   "metadata": {
    "execution": {
     "iopub.execute_input": "2021-05-13T00:40:17.210312Z",
     "iopub.status.busy": "2021-05-13T00:40:17.210140Z",
     "iopub.status.idle": "2021-05-13T00:40:17.339147Z",
     "shell.execute_reply": "2021-05-13T00:40:17.338491Z",
     "shell.execute_reply.started": "2021-05-13T00:40:17.210293Z"
    },
    "tags": []
   },
   "outputs": [
    {
     "data": {
      "text/plain": [
       "array([4.02753432e-05, 4.99547336e+00, 2.08013954e+00])"
      ]
     },
     "execution_count": 18,
     "metadata": {},
     "output_type": "execute_result"
    }
   ],
   "source": [
    "coeff"
   ]
  },
  {
   "cell_type": "markdown",
   "id": "07789cfb",
   "metadata": {},
   "source": [
    "Actually we want to use something that gives us errors"
   ]
  },
  {
   "cell_type": "code",
   "execution_count": 19,
   "id": "5f2fc388",
   "metadata": {
    "execution": {
     "iopub.execute_input": "2021-05-13T00:40:17.340081Z",
     "iopub.status.busy": "2021-05-13T00:40:17.339874Z",
     "iopub.status.idle": "2021-05-13T00:40:19.630530Z",
     "shell.execute_reply": "2021-05-13T00:40:19.628999Z",
     "shell.execute_reply.started": "2021-05-13T00:40:17.340056Z"
    },
    "tags": []
   },
   "outputs": [],
   "source": [
    "import statsmodels.api as sm"
   ]
  },
  {
   "cell_type": "code",
   "execution_count": 20,
   "id": "2d264130",
   "metadata": {
    "execution": {
     "iopub.execute_input": "2021-05-13T00:40:19.632608Z",
     "iopub.status.busy": "2021-05-13T00:40:19.632201Z",
     "iopub.status.idle": "2021-05-13T00:40:19.638456Z",
     "shell.execute_reply": "2021-05-13T00:40:19.637062Z",
     "shell.execute_reply.started": "2021-05-13T00:40:19.632557Z"
    },
    "tags": []
   },
   "outputs": [],
   "source": [
    "X = sm.add_constant(x)"
   ]
  },
  {
   "cell_type": "code",
   "execution_count": 21,
   "id": "e67886e3",
   "metadata": {
    "execution": {
     "iopub.execute_input": "2021-05-13T00:40:19.640561Z",
     "iopub.status.busy": "2021-05-13T00:40:19.640132Z",
     "iopub.status.idle": "2021-05-13T00:40:20.445219Z",
     "shell.execute_reply": "2021-05-13T00:40:20.444131Z",
     "shell.execute_reply.started": "2021-05-13T00:40:19.640508Z"
    },
    "tags": []
   },
   "outputs": [],
   "source": [
    "lr_model = sm.OLS(y,X) #endo = dependent = y"
   ]
  },
  {
   "cell_type": "code",
   "execution_count": 22,
   "id": "f43f596f",
   "metadata": {
    "execution": {
     "iopub.execute_input": "2021-05-13T00:40:20.446912Z",
     "iopub.status.busy": "2021-05-13T00:40:20.446588Z",
     "iopub.status.idle": "2021-05-13T00:40:20.637489Z",
     "shell.execute_reply": "2021-05-13T00:40:20.637069Z",
     "shell.execute_reply.started": "2021-05-13T00:40:20.446873Z"
    },
    "tags": []
   },
   "outputs": [
    {
     "data": {
      "text/plain": [
       "array([2.01516854, 4.99949221])"
      ]
     },
     "execution_count": 22,
     "metadata": {},
     "output_type": "execute_result"
    }
   ],
   "source": [
    "lr_results = lr_model.fit()\n",
    "lr_results.params"
   ]
  },
  {
   "cell_type": "code",
   "execution_count": 23,
   "id": "222f4edd",
   "metadata": {
    "execution": {
     "iopub.execute_input": "2021-05-13T00:40:20.638238Z",
     "iopub.status.busy": "2021-05-13T00:40:20.638085Z",
     "iopub.status.idle": "2021-05-13T00:40:20.839903Z",
     "shell.execute_reply": "2021-05-13T00:40:20.837982Z",
     "shell.execute_reply.started": "2021-05-13T00:40:20.638219Z"
    },
    "tags": []
   },
   "outputs": [
    {
     "data": {
      "text/html": [
       "<table class=\"simpletable\">\n",
       "<caption>OLS Regression Results</caption>\n",
       "<tr>\n",
       "  <th>Dep. Variable:</th>            <td>y</td>        <th>  R-squared:         </th> <td>   1.000</td> \n",
       "</tr>\n",
       "<tr>\n",
       "  <th>Model:</th>                   <td>OLS</td>       <th>  Adj. R-squared:    </th> <td>   1.000</td> \n",
       "</tr>\n",
       "<tr>\n",
       "  <th>Method:</th>             <td>Least Squares</td>  <th>  F-statistic:       </th> <td>8.254e+07</td>\n",
       "</tr>\n",
       "<tr>\n",
       "  <th>Date:</th>             <td>Wed, 12 May 2021</td> <th>  Prob (F-statistic):</th>  <td>  0.00</td>  \n",
       "</tr>\n",
       "<tr>\n",
       "  <th>Time:</th>                 <td>20:40:20</td>     <th>  Log-Likelihood:    </th> <td> -754.39</td> \n",
       "</tr>\n",
       "<tr>\n",
       "  <th>No. Observations:</th>      <td>  1000</td>      <th>  AIC:               </th> <td>   1513.</td> \n",
       "</tr>\n",
       "<tr>\n",
       "  <th>Df Residuals:</th>          <td>   998</td>      <th>  BIC:               </th> <td>   1523.</td> \n",
       "</tr>\n",
       "<tr>\n",
       "  <th>Df Model:</th>              <td>     1</td>      <th>                     </th>     <td> </td>    \n",
       "</tr>\n",
       "<tr>\n",
       "  <th>Covariance Type:</th>      <td>nonrobust</td>    <th>                     </th>     <td> </td>    \n",
       "</tr>\n",
       "</table>\n",
       "<table class=\"simpletable\">\n",
       "<tr>\n",
       "    <td></td>       <th>coef</th>     <th>std err</th>      <th>t</th>      <th>P>|t|</th>  <th>[0.025</th>    <th>0.975]</th>  \n",
       "</tr>\n",
       "<tr>\n",
       "  <th>const</th> <td>    2.0152</td> <td>    0.032</td> <td>   62.756</td> <td> 0.000</td> <td>    1.952</td> <td>    2.078</td>\n",
       "</tr>\n",
       "<tr>\n",
       "  <th>x1</th>    <td>    4.9995</td> <td>    0.001</td> <td> 9085.040</td> <td> 0.000</td> <td>    4.998</td> <td>    5.001</td>\n",
       "</tr>\n",
       "</table>\n",
       "<table class=\"simpletable\">\n",
       "<tr>\n",
       "  <th>Omnibus:</th>       <td> 2.747</td> <th>  Durbin-Watson:     </th> <td>   2.050</td>\n",
       "</tr>\n",
       "<tr>\n",
       "  <th>Prob(Omnibus):</th> <td> 0.253</td> <th>  Jarque-Bera (JB):  </th> <td>   2.748</td>\n",
       "</tr>\n",
       "<tr>\n",
       "  <th>Skew:</th>          <td>-0.099</td> <th>  Prob(JB):          </th> <td>   0.253</td>\n",
       "</tr>\n",
       "<tr>\n",
       "  <th>Kurtosis:</th>      <td> 2.835</td> <th>  Cond. No.          </th> <td>    115.</td>\n",
       "</tr>\n",
       "</table><br/><br/>Notes:<br/>[1] Standard Errors assume that the covariance matrix of the errors is correctly specified."
      ],
      "text/plain": [
       "<class 'statsmodels.iolib.summary.Summary'>\n",
       "\"\"\"\n",
       "                            OLS Regression Results                            \n",
       "==============================================================================\n",
       "Dep. Variable:                      y   R-squared:                       1.000\n",
       "Model:                            OLS   Adj. R-squared:                  1.000\n",
       "Method:                 Least Squares   F-statistic:                 8.254e+07\n",
       "Date:                Wed, 12 May 2021   Prob (F-statistic):               0.00\n",
       "Time:                        20:40:20   Log-Likelihood:                -754.39\n",
       "No. Observations:                1000   AIC:                             1513.\n",
       "Df Residuals:                     998   BIC:                             1523.\n",
       "Df Model:                           1                                         \n",
       "Covariance Type:            nonrobust                                         \n",
       "==============================================================================\n",
       "                 coef    std err          t      P>|t|      [0.025      0.975]\n",
       "------------------------------------------------------------------------------\n",
       "const          2.0152      0.032     62.756      0.000       1.952       2.078\n",
       "x1             4.9995      0.001   9085.040      0.000       4.998       5.001\n",
       "==============================================================================\n",
       "Omnibus:                        2.747   Durbin-Watson:                   2.050\n",
       "Prob(Omnibus):                  0.253   Jarque-Bera (JB):                2.748\n",
       "Skew:                          -0.099   Prob(JB):                        0.253\n",
       "Kurtosis:                       2.835   Cond. No.                         115.\n",
       "==============================================================================\n",
       "\n",
       "Notes:\n",
       "[1] Standard Errors assume that the covariance matrix of the errors is correctly specified.\n",
       "\"\"\""
      ]
     },
     "execution_count": 23,
     "metadata": {},
     "output_type": "execute_result"
    }
   ],
   "source": [
    "lr_results.summary()"
   ]
  },
  {
   "cell_type": "markdown",
   "id": "ff852f59",
   "metadata": {},
   "source": [
    "# 6.3 variation, uncertainty and sample size"
   ]
  },
  {
   "cell_type": "code",
   "execution_count": 24,
   "id": "a511a74f",
   "metadata": {
    "execution": {
     "iopub.execute_input": "2021-05-13T00:40:20.842282Z",
     "iopub.status.busy": "2021-05-13T00:40:20.841837Z",
     "iopub.status.idle": "2021-05-13T00:40:20.893599Z",
     "shell.execute_reply": "2021-05-13T00:40:20.893078Z",
     "shell.execute_reply.started": "2021-05-13T00:40:20.842228Z"
    },
    "tags": []
   },
   "outputs": [],
   "source": [
    "x2,y2 = sim_fake(2,5,5000,0.5)"
   ]
  },
  {
   "cell_type": "code",
   "execution_count": 25,
   "id": "fcdb7e36",
   "metadata": {
    "execution": {
     "iopub.execute_input": "2021-05-13T00:40:20.894554Z",
     "iopub.status.busy": "2021-05-13T00:40:20.894384Z",
     "iopub.status.idle": "2021-05-13T00:40:21.027614Z",
     "shell.execute_reply": "2021-05-13T00:40:21.025543Z",
     "shell.execute_reply.started": "2021-05-13T00:40:20.894535Z"
    },
    "tags": []
   },
   "outputs": [],
   "source": [
    "X2 = sm.add_constant(x2)"
   ]
  },
  {
   "cell_type": "code",
   "execution_count": 26,
   "id": "3cc74aad",
   "metadata": {
    "execution": {
     "iopub.execute_input": "2021-05-13T00:40:21.030741Z",
     "iopub.status.busy": "2021-05-13T00:40:21.030105Z",
     "iopub.status.idle": "2021-05-13T00:40:21.110621Z",
     "shell.execute_reply": "2021-05-13T00:40:21.110009Z",
     "shell.execute_reply.started": "2021-05-13T00:40:21.030665Z"
    },
    "tags": []
   },
   "outputs": [],
   "source": [
    "lr_model2 = sm.OLS(y2,X2) #endo = dependent = y"
   ]
  },
  {
   "cell_type": "code",
   "execution_count": 27,
   "id": "5a221419",
   "metadata": {
    "execution": {
     "iopub.execute_input": "2021-05-13T00:40:21.112881Z",
     "iopub.status.busy": "2021-05-13T00:40:21.112724Z",
     "iopub.status.idle": "2021-05-13T00:40:21.246187Z",
     "shell.execute_reply": "2021-05-13T00:40:21.244105Z",
     "shell.execute_reply.started": "2021-05-13T00:40:21.112864Z"
    },
    "tags": []
   },
   "outputs": [],
   "source": [
    "res = sm.OLS(y2, x2).fit()"
   ]
  },
  {
   "cell_type": "code",
   "execution_count": 28,
   "id": "cff69a92",
   "metadata": {
    "execution": {
     "iopub.execute_input": "2021-05-13T00:40:21.251069Z",
     "iopub.status.busy": "2021-05-13T00:40:21.250450Z",
     "iopub.status.idle": "2021-05-13T00:40:21.357986Z",
     "shell.execute_reply": "2021-05-13T00:40:21.355936Z",
     "shell.execute_reply.started": "2021-05-13T00:40:21.250992Z"
    },
    "tags": []
   },
   "outputs": [
    {
     "data": {
      "text/plain": [
       "array([1.99369645, 5.00018587])"
      ]
     },
     "execution_count": 28,
     "metadata": {},
     "output_type": "execute_result"
    }
   ],
   "source": [
    "lr_results = lr_model2.fit()\n",
    "lr_results.params"
   ]
  },
  {
   "cell_type": "code",
   "execution_count": 29,
   "id": "adf299c9",
   "metadata": {
    "execution": {
     "iopub.execute_input": "2021-05-13T00:40:21.360690Z",
     "iopub.status.busy": "2021-05-13T00:40:21.360113Z",
     "iopub.status.idle": "2021-05-13T00:40:21.486521Z",
     "shell.execute_reply": "2021-05-13T00:40:21.485888Z",
     "shell.execute_reply.started": "2021-05-13T00:40:21.360617Z"
    },
    "tags": []
   },
   "outputs": [
    {
     "data": {
      "text/html": [
       "<table class=\"simpletable\">\n",
       "<caption>OLS Regression Results</caption>\n",
       "<tr>\n",
       "  <th>Dep. Variable:</th>            <td>y</td>        <th>  R-squared:         </th> <td>   1.000</td> \n",
       "</tr>\n",
       "<tr>\n",
       "  <th>Model:</th>                   <td>OLS</td>       <th>  Adj. R-squared:    </th> <td>   1.000</td> \n",
       "</tr>\n",
       "<tr>\n",
       "  <th>Method:</th>             <td>Least Squares</td>  <th>  F-statistic:       </th> <td>4.177e+08</td>\n",
       "</tr>\n",
       "<tr>\n",
       "  <th>Date:</th>             <td>Wed, 12 May 2021</td> <th>  Prob (F-statistic):</th>  <td>  0.00</td>  \n",
       "</tr>\n",
       "<tr>\n",
       "  <th>Time:</th>                 <td>20:40:21</td>     <th>  Log-Likelihood:    </th> <td> -3628.7</td> \n",
       "</tr>\n",
       "<tr>\n",
       "  <th>No. Observations:</th>      <td>  5000</td>      <th>  AIC:               </th> <td>   7261.</td> \n",
       "</tr>\n",
       "<tr>\n",
       "  <th>Df Residuals:</th>          <td>  4998</td>      <th>  BIC:               </th> <td>   7274.</td> \n",
       "</tr>\n",
       "<tr>\n",
       "  <th>Df Model:</th>              <td>     1</td>      <th>                     </th>     <td> </td>    \n",
       "</tr>\n",
       "<tr>\n",
       "  <th>Covariance Type:</th>      <td>nonrobust</td>    <th>                     </th>     <td> </td>    \n",
       "</tr>\n",
       "</table>\n",
       "<table class=\"simpletable\">\n",
       "<tr>\n",
       "    <td></td>       <th>coef</th>     <th>std err</th>      <th>t</th>      <th>P>|t|</th>  <th>[0.025</th>    <th>0.975]</th>  \n",
       "</tr>\n",
       "<tr>\n",
       "  <th>const</th> <td>    1.9937</td> <td>    0.014</td> <td>  141.006</td> <td> 0.000</td> <td>    1.966</td> <td>    2.021</td>\n",
       "</tr>\n",
       "<tr>\n",
       "  <th>x1</th>    <td>    5.0002</td> <td>    0.000</td> <td> 2.04e+04</td> <td> 0.000</td> <td>    5.000</td> <td>    5.001</td>\n",
       "</tr>\n",
       "</table>\n",
       "<table class=\"simpletable\">\n",
       "<tr>\n",
       "  <th>Omnibus:</th>       <td> 0.415</td> <th>  Durbin-Watson:     </th> <td>   2.001</td>\n",
       "</tr>\n",
       "<tr>\n",
       "  <th>Prob(Omnibus):</th> <td> 0.813</td> <th>  Jarque-Bera (JB):  </th> <td>   0.458</td>\n",
       "</tr>\n",
       "<tr>\n",
       "  <th>Skew:</th>          <td>-0.011</td> <th>  Prob(JB):          </th> <td>   0.795</td>\n",
       "</tr>\n",
       "<tr>\n",
       "  <th>Kurtosis:</th>      <td> 2.959</td> <th>  Cond. No.          </th> <td>    116.</td>\n",
       "</tr>\n",
       "</table><br/><br/>Notes:<br/>[1] Standard Errors assume that the covariance matrix of the errors is correctly specified."
      ],
      "text/plain": [
       "<class 'statsmodels.iolib.summary.Summary'>\n",
       "\"\"\"\n",
       "                            OLS Regression Results                            \n",
       "==============================================================================\n",
       "Dep. Variable:                      y   R-squared:                       1.000\n",
       "Model:                            OLS   Adj. R-squared:                  1.000\n",
       "Method:                 Least Squares   F-statistic:                 4.177e+08\n",
       "Date:                Wed, 12 May 2021   Prob (F-statistic):               0.00\n",
       "Time:                        20:40:21   Log-Likelihood:                -3628.7\n",
       "No. Observations:                5000   AIC:                             7261.\n",
       "Df Residuals:                    4998   BIC:                             7274.\n",
       "Df Model:                           1                                         \n",
       "Covariance Type:            nonrobust                                         \n",
       "==============================================================================\n",
       "                 coef    std err          t      P>|t|      [0.025      0.975]\n",
       "------------------------------------------------------------------------------\n",
       "const          1.9937      0.014    141.006      0.000       1.966       2.021\n",
       "x1             5.0002      0.000   2.04e+04      0.000       5.000       5.001\n",
       "==============================================================================\n",
       "Omnibus:                        0.415   Durbin-Watson:                   2.001\n",
       "Prob(Omnibus):                  0.813   Jarque-Bera (JB):                0.458\n",
       "Skew:                          -0.011   Prob(JB):                        0.795\n",
       "Kurtosis:                       2.959   Cond. No.                         116.\n",
       "==============================================================================\n",
       "\n",
       "Notes:\n",
       "[1] Standard Errors assume that the covariance matrix of the errors is correctly specified.\n",
       "\"\"\""
      ]
     },
     "execution_count": 29,
     "metadata": {},
     "output_type": "execute_result"
    }
   ],
   "source": [
    "lr_results.summary()"
   ]
  },
  {
   "cell_type": "code",
   "execution_count": 30,
   "id": "540a6513",
   "metadata": {
    "execution": {
     "iopub.execute_input": "2021-05-13T00:40:21.488139Z",
     "iopub.status.busy": "2021-05-13T00:40:21.487278Z",
     "iopub.status.idle": "2021-05-13T00:40:21.646533Z",
     "shell.execute_reply": "2021-05-13T00:40:21.645971Z",
     "shell.execute_reply.started": "2021-05-13T00:40:21.488110Z"
    },
    "tags": []
   },
   "outputs": [
    {
     "data": {
      "text/plain": [
       "[<matplotlib.lines.Line2D at 0x7fcf135124f0>]"
      ]
     },
     "execution_count": 30,
     "metadata": {},
     "output_type": "execute_result"
    },
    {
     "data": {
      "image/png": "[encoded data removed]",
      "text/plain": [
       "<Figure size 576x396 with 1 Axes>"
      ]
     },
     "metadata": {},
     "output_type": "display_data"
    }
   ],
   "source": [
    "plt.scatter(x2,y2)\n",
    "plt.plot(x2, lr_results.params[0]+lr_results.params[1]*x2,color='b')"
   ]
  },
  {
   "cell_type": "markdown",
   "id": "bf1dfc0d",
   "metadata": {},
   "source": [
    "# 6.4 Simulation Study "
   ]
  },
  {
   "cell_type": "code",
   "execution_count": 31,
   "id": "e5b1bebe",
   "metadata": {
    "execution": {
     "iopub.execute_input": "2021-05-13T00:40:21.647245Z",
     "iopub.status.busy": "2021-05-13T00:40:21.647111Z",
     "iopub.status.idle": "2021-05-13T00:40:21.650440Z",
     "shell.execute_reply": "2021-05-13T00:40:21.649972Z",
     "shell.execute_reply.started": "2021-05-13T00:40:21.647228Z"
    },
    "tags": []
   },
   "outputs": [
    {
     "data": {
      "text/plain": [
       "array([0.0141391 , 0.00024466])"
      ]
     },
     "execution_count": 31,
     "metadata": {},
     "output_type": "execute_result"
    }
   ],
   "source": [
    "lr_results.bse"
   ]
  },
  {
   "cell_type": "code",
   "execution_count": 32,
   "id": "70db3eee",
   "metadata": {
    "execution": {
     "iopub.execute_input": "2021-05-13T00:40:21.651147Z",
     "iopub.status.busy": "2021-05-13T00:40:21.651017Z",
     "iopub.status.idle": "2021-05-13T00:40:21.712580Z",
     "shell.execute_reply": "2021-05-13T00:40:21.712087Z",
     "shell.execute_reply.started": "2021-05-13T00:40:21.651131Z"
    },
    "tags": []
   },
   "outputs": [
    {
     "data": {
      "text/plain": [
       "0.014139096980878023"
      ]
     },
     "execution_count": 32,
     "metadata": {},
     "output_type": "execute_result"
    }
   ],
   "source": [
    "lr_results.bse[0]"
   ]
  },
  {
   "cell_type": "code",
   "execution_count": 33,
   "id": "b50a93bd",
   "metadata": {
    "execution": {
     "iopub.execute_input": "2021-05-13T00:40:21.713404Z",
     "iopub.status.busy": "2021-05-13T00:40:21.713218Z",
     "iopub.status.idle": "2021-05-13T00:40:22.183254Z",
     "shell.execute_reply": "2021-05-13T00:40:22.182572Z",
     "shell.execute_reply.started": "2021-05-13T00:40:21.713375Z"
    },
    "tags": []
   },
   "outputs": [
    {
     "data": {
      "text/plain": [
       "0.0002446585643125412"
      ]
     },
     "execution_count": 33,
     "metadata": {},
     "output_type": "execute_result"
    }
   ],
   "source": [
    "lr_results.bse[1]"
   ]
  },
  {
   "cell_type": "code",
   "execution_count": 34,
   "id": "017ad69a",
   "metadata": {
    "execution": {
     "iopub.execute_input": "2021-05-13T00:40:22.184558Z",
     "iopub.status.busy": "2021-05-13T00:40:22.184213Z",
     "iopub.status.idle": "2021-05-13T00:40:22.598650Z",
     "shell.execute_reply": "2021-05-13T00:40:22.598260Z",
     "shell.execute_reply.started": "2021-05-13T00:40:22.184536Z"
    },
    "tags": []
   },
   "outputs": [],
   "source": [
    "n_list = [100,1000,2000,5000,10000]\n",
    "a_bse_list = []\n",
    "b_bse_list = []\n",
    "for n in n_list:\n",
    "    x_n, y_n = sim_fake(2,5,n,0.5)\n",
    "    X_n = sm.add_constant(x_n)\n",
    "    res = sm.OLS(y_n,X_n).fit()\n",
    "    # y = a+b*x\n",
    "    a_bse_list.append(res.bse[0])\n",
    "    b_bse_list.append(res.bse[1])"
   ]
  },
  {
   "cell_type": "code",
   "execution_count": 35,
   "id": "b60ef143",
   "metadata": {
    "execution": {
     "iopub.execute_input": "2021-05-13T00:40:22.599331Z",
     "iopub.status.busy": "2021-05-13T00:40:22.599200Z",
     "iopub.status.idle": "2021-05-13T00:40:23.003779Z",
     "shell.execute_reply": "2021-05-13T00:40:23.003348Z",
     "shell.execute_reply.started": "2021-05-13T00:40:22.599314Z"
    },
    "tags": []
   },
   "outputs": [
    {
     "data": {
      "image/png": "[encoded data removed]",
      "text/plain": [
       "<Figure size 576x396 with 2 Axes>"
      ]
     },
     "metadata": {},
     "output_type": "display_data"
    }
   ],
   "source": [
    "fig, ax = plt.subplots(1,2)\n",
    "ax[0].plot(n_list, a_bse_list, label='a')\n",
    "ax[1].plot(n_list, b_bse_list, label='b')\n",
    "ax[1].legend()\n",
    "ax[1].set_xlabel('n')\n",
    "ax[0].set_xlabel('n')\n",
    "ax[1].set_ylabel('std err')\n",
    "ax[0].set_ylabel('std err')\n",
    "ax[0].legend()\n",
    "plt.tight_layout()"
   ]
  },
  {
   "cell_type": "markdown",
   "id": "a319ec8a",
   "metadata": {},
   "source": [
    "# 6.5 Regression prediction and averages"
   ]
  },
  {
   "cell_type": "code",
   "execution_count": 36,
   "id": "13800bae",
   "metadata": {
    "execution": {
     "iopub.execute_input": "2021-05-13T00:40:23.004707Z",
     "iopub.status.busy": "2021-05-13T00:40:23.004547Z",
     "iopub.status.idle": "2021-05-13T00:40:23.176715Z",
     "shell.execute_reply": "2021-05-13T00:40:23.175218Z",
     "shell.execute_reply.started": "2021-05-13T00:40:23.004690Z"
    },
    "tags": []
   },
   "outputs": [],
   "source": [
    "earnings = pd.read_csv('../ROS-Examples/Earnings/data/earnings.csv')"
   ]
  },
  {
   "cell_type": "code",
   "execution_count": 37,
   "id": "dfaadeb9",
   "metadata": {
    "execution": {
     "iopub.execute_input": "2021-05-13T00:40:23.178795Z",
     "iopub.status.busy": "2021-05-13T00:40:23.178449Z",
     "iopub.status.idle": "2021-05-13T00:40:23.415218Z",
     "shell.execute_reply": "2021-05-13T00:40:23.413091Z",
     "shell.execute_reply.started": "2021-05-13T00:40:23.178750Z"
    },
    "tags": []
   },
   "outputs": [
    {
     "data": {
      "text/html": [
       "<div>\n",
       "<style scoped>\n",
       "    .dataframe tbody tr th:only-of-type {\n",
       "        vertical-align: middle;\n",
       "    }\n",
       "\n",
       "    .dataframe tbody tr th {\n",
       "        vertical-align: top;\n",
       "    }\n",
       "\n",
       "    .dataframe thead th {\n",
       "        text-align: right;\n",
       "    }\n",
       "</style>\n",
       "<table border=\"1\" class=\"dataframe\">\n",
       "  <thead>\n",
       "    <tr style=\"text-align: right;\">\n",
       "      <th></th>\n",
       "      <th>height</th>\n",
       "      <th>weight</th>\n",
       "      <th>male</th>\n",
       "      <th>earn</th>\n",
       "      <th>earnk</th>\n",
       "      <th>ethnicity</th>\n",
       "      <th>education</th>\n",
       "      <th>mother_education</th>\n",
       "      <th>father_education</th>\n",
       "      <th>walk</th>\n",
       "      <th>exercise</th>\n",
       "      <th>smokenow</th>\n",
       "      <th>tense</th>\n",
       "      <th>angry</th>\n",
       "      <th>age</th>\n",
       "    </tr>\n",
       "  </thead>\n",
       "  <tbody>\n",
       "    <tr>\n",
       "      <th>0</th>\n",
       "      <td>74</td>\n",
       "      <td>210.0</td>\n",
       "      <td>1</td>\n",
       "      <td>50000.0</td>\n",
       "      <td>50.0</td>\n",
       "      <td>White</td>\n",
       "      <td>16.0</td>\n",
       "      <td>16.0</td>\n",
       "      <td>16.0</td>\n",
       "      <td>3</td>\n",
       "      <td>3</td>\n",
       "      <td>2.0</td>\n",
       "      <td>0.0</td>\n",
       "      <td>0.0</td>\n",
       "      <td>45</td>\n",
       "    </tr>\n",
       "    <tr>\n",
       "      <th>1</th>\n",
       "      <td>66</td>\n",
       "      <td>125.0</td>\n",
       "      <td>0</td>\n",
       "      <td>60000.0</td>\n",
       "      <td>60.0</td>\n",
       "      <td>White</td>\n",
       "      <td>16.0</td>\n",
       "      <td>16.0</td>\n",
       "      <td>16.0</td>\n",
       "      <td>6</td>\n",
       "      <td>5</td>\n",
       "      <td>1.0</td>\n",
       "      <td>0.0</td>\n",
       "      <td>0.0</td>\n",
       "      <td>58</td>\n",
       "    </tr>\n",
       "    <tr>\n",
       "      <th>2</th>\n",
       "      <td>64</td>\n",
       "      <td>126.0</td>\n",
       "      <td>0</td>\n",
       "      <td>30000.0</td>\n",
       "      <td>30.0</td>\n",
       "      <td>White</td>\n",
       "      <td>16.0</td>\n",
       "      <td>16.0</td>\n",
       "      <td>16.0</td>\n",
       "      <td>8</td>\n",
       "      <td>1</td>\n",
       "      <td>2.0</td>\n",
       "      <td>1.0</td>\n",
       "      <td>1.0</td>\n",
       "      <td>29</td>\n",
       "    </tr>\n",
       "    <tr>\n",
       "      <th>3</th>\n",
       "      <td>65</td>\n",
       "      <td>200.0</td>\n",
       "      <td>0</td>\n",
       "      <td>25000.0</td>\n",
       "      <td>25.0</td>\n",
       "      <td>White</td>\n",
       "      <td>17.0</td>\n",
       "      <td>17.0</td>\n",
       "      <td>NaN</td>\n",
       "      <td>8</td>\n",
       "      <td>1</td>\n",
       "      <td>2.0</td>\n",
       "      <td>0.0</td>\n",
       "      <td>0.0</td>\n",
       "      <td>57</td>\n",
       "    </tr>\n",
       "    <tr>\n",
       "      <th>4</th>\n",
       "      <td>63</td>\n",
       "      <td>110.0</td>\n",
       "      <td>0</td>\n",
       "      <td>50000.0</td>\n",
       "      <td>50.0</td>\n",
       "      <td>Other</td>\n",
       "      <td>16.0</td>\n",
       "      <td>16.0</td>\n",
       "      <td>16.0</td>\n",
       "      <td>5</td>\n",
       "      <td>6</td>\n",
       "      <td>2.0</td>\n",
       "      <td>0.0</td>\n",
       "      <td>0.0</td>\n",
       "      <td>91</td>\n",
       "    </tr>\n",
       "  </tbody>\n",
       "</table>\n",
       "</div>"
      ],
      "text/plain": [
       "   height  weight  male     earn  earnk ethnicity  education  \\\n",
       "0      74   210.0     1  50000.0   50.0     White       16.0   \n",
       "1      66   125.0     0  60000.0   60.0     White       16.0   \n",
       "2      64   126.0     0  30000.0   30.0     White       16.0   \n",
       "3      65   200.0     0  25000.0   25.0     White       17.0   \n",
       "4      63   110.0     0  50000.0   50.0     Other       16.0   \n",
       "\n",
       "   mother_education  father_education  walk  exercise  smokenow  tense  angry  \\\n",
       "0              16.0              16.0     3         3       2.0    0.0    0.0   \n",
       "1              16.0              16.0     6         5       1.0    0.0    0.0   \n",
       "2              16.0              16.0     8         1       2.0    1.0    1.0   \n",
       "3              17.0               NaN     8         1       2.0    0.0    0.0   \n",
       "4              16.0              16.0     5         6       2.0    0.0    0.0   \n",
       "\n",
       "   age  \n",
       "0   45  \n",
       "1   58  \n",
       "2   29  \n",
       "3   57  \n",
       "4   91  "
      ]
     },
     "execution_count": 37,
     "metadata": {},
     "output_type": "execute_result"
    }
   ],
   "source": [
    "earnings.head()"
   ]
  },
  {
   "cell_type": "code",
   "execution_count": 38,
   "id": "fc46cc93",
   "metadata": {
    "execution": {
     "iopub.execute_input": "2021-05-13T00:40:23.418400Z",
     "iopub.status.busy": "2021-05-13T00:40:23.417770Z",
     "iopub.status.idle": "2021-05-13T00:40:23.619617Z",
     "shell.execute_reply": "2021-05-13T00:40:23.617596Z",
     "shell.execute_reply.started": "2021-05-13T00:40:23.418325Z"
    },
    "tags": []
   },
   "outputs": [],
   "source": [
    "avg_male_height  = earnings.query('male == 1')['height'].mean()\n",
    "avg_female_height= earnings.query('male == 0')['height'].mean()"
   ]
  },
  {
   "cell_type": "code",
   "execution_count": 39,
   "id": "ccb498c5",
   "metadata": {
    "execution": {
     "iopub.execute_input": "2021-05-13T00:40:23.622598Z",
     "iopub.status.busy": "2021-05-13T00:40:23.621996Z",
     "iopub.status.idle": "2021-05-13T00:40:23.679104Z",
     "shell.execute_reply": "2021-05-13T00:40:23.678407Z",
     "shell.execute_reply.started": "2021-05-13T00:40:23.622526Z"
    },
    "tags": []
   },
   "outputs": [
    {
     "data": {
      "text/plain": [
       "64.48641542506573"
      ]
     },
     "execution_count": 39,
     "metadata": {},
     "output_type": "execute_result"
    }
   ],
   "source": [
    "avg_female_height"
   ]
  },
  {
   "cell_type": "code",
   "execution_count": 40,
   "id": "4de24fad",
   "metadata": {
    "execution": {
     "iopub.execute_input": "2021-05-13T00:40:23.680173Z",
     "iopub.status.busy": "2021-05-13T00:40:23.679975Z",
     "iopub.status.idle": "2021-05-13T00:40:23.796935Z",
     "shell.execute_reply": "2021-05-13T00:40:23.794966Z",
     "shell.execute_reply.started": "2021-05-13T00:40:23.680150Z"
    },
    "tags": []
   },
   "outputs": [
    {
     "data": {
      "text/plain": [
       "70.08888888888889"
      ]
     },
     "execution_count": 40,
     "metadata": {},
     "output_type": "execute_result"
    }
   ],
   "source": [
    "avg_male_height\n"
   ]
  },
  {
   "cell_type": "code",
   "execution_count": 41,
   "id": "1b2ca308",
   "metadata": {
    "execution": {
     "iopub.execute_input": "2021-05-13T00:40:23.799711Z",
     "iopub.status.busy": "2021-05-13T00:40:23.799107Z",
     "iopub.status.idle": "2021-05-13T00:40:23.930323Z",
     "shell.execute_reply": "2021-05-13T00:40:23.928234Z",
     "shell.execute_reply.started": "2021-05-13T00:40:23.799638Z"
    },
    "tags": []
   },
   "outputs": [],
   "source": [
    "import statsmodels.formula.api as smf"
   ]
  },
  {
   "cell_type": "code",
   "execution_count": 42,
   "id": "d01f79ec",
   "metadata": {
    "execution": {
     "iopub.execute_input": "2021-05-13T00:40:23.933303Z",
     "iopub.status.busy": "2021-05-13T00:40:23.932718Z",
     "iopub.status.idle": "2021-05-13T00:40:24.042104Z",
     "shell.execute_reply": "2021-05-13T00:40:24.041687Z",
     "shell.execute_reply.started": "2021-05-13T00:40:23.933230Z"
    },
    "tags": []
   },
   "outputs": [],
   "source": [
    "model = smf.glm('earnk ~ height + male', data=earnings)"
   ]
  },
  {
   "cell_type": "code",
   "execution_count": 43,
   "id": "eb193b37",
   "metadata": {
    "execution": {
     "iopub.execute_input": "2021-05-13T00:40:24.043118Z",
     "iopub.status.busy": "2021-05-13T00:40:24.042934Z",
     "iopub.status.idle": "2021-05-13T00:40:24.185232Z",
     "shell.execute_reply": "2021-05-13T00:40:24.183197Z",
     "shell.execute_reply.started": "2021-05-13T00:40:24.043099Z"
    },
    "tags": []
   },
   "outputs": [],
   "source": [
    "res=model.fit()"
   ]
  },
  {
   "cell_type": "code",
   "execution_count": 44,
   "id": "6024e796",
   "metadata": {
    "execution": {
     "iopub.execute_input": "2021-05-13T00:40:24.188312Z",
     "iopub.status.busy": "2021-05-13T00:40:24.187741Z",
     "iopub.status.idle": "2021-05-13T00:40:24.511221Z",
     "shell.execute_reply": "2021-05-13T00:40:24.509123Z",
     "shell.execute_reply.started": "2021-05-13T00:40:24.188239Z"
    },
    "tags": []
   },
   "outputs": [
    {
     "data": {
      "text/html": [
       "<table class=\"simpletable\">\n",
       "<caption>Generalized Linear Model Regression Results</caption>\n",
       "<tr>\n",
       "  <th>Dep. Variable:</th>         <td>earnk</td>      <th>  No. Observations:  </th>   <td>  1816</td>  \n",
       "</tr>\n",
       "<tr>\n",
       "  <th>Model:</th>                  <td>GLM</td>       <th>  Df Residuals:      </th>   <td>  1813</td>  \n",
       "</tr>\n",
       "<tr>\n",
       "  <th>Model Family:</th>        <td>Gaussian</td>     <th>  Df Model:          </th>   <td>     2</td>  \n",
       "</tr>\n",
       "<tr>\n",
       "  <th>Link Function:</th>       <td>identity</td>     <th>  Scale:             </th>  <td>  457.61</td> \n",
       "</tr>\n",
       "<tr>\n",
       "  <th>Method:</th>                <td>IRLS</td>       <th>  Log-Likelihood:    </th>  <td> -8137.7</td> \n",
       "</tr>\n",
       "<tr>\n",
       "  <th>Date:</th>            <td>Wed, 12 May 2021</td> <th>  Deviance:          </th> <td>8.2965e+05</td>\n",
       "</tr>\n",
       "<tr>\n",
       "  <th>Time:</th>                <td>20:40:24</td>     <th>  Pearson chi2:      </th>  <td>8.30e+05</td> \n",
       "</tr>\n",
       "<tr>\n",
       "  <th>No. Iterations:</th>          <td>3</td>        <th>                     </th>      <td> </td>    \n",
       "</tr>\n",
       "<tr>\n",
       "  <th>Covariance Type:</th>     <td>nonrobust</td>    <th>                     </th>      <td> </td>    \n",
       "</tr>\n",
       "</table>\n",
       "<table class=\"simpletable\">\n",
       "<tr>\n",
       "      <td></td>         <th>coef</th>     <th>std err</th>      <th>z</th>      <th>P>|z|</th>  <th>[0.025</th>    <th>0.975]</th>  \n",
       "</tr>\n",
       "<tr>\n",
       "  <th>Intercept</th> <td>  -25.8722</td> <td>   11.962</td> <td>   -2.163</td> <td> 0.031</td> <td>  -49.316</td> <td>   -2.428</td>\n",
       "</tr>\n",
       "<tr>\n",
       "  <th>height</th>    <td>    0.6470</td> <td>    0.185</td> <td>    3.493</td> <td> 0.000</td> <td>    0.284</td> <td>    1.010</td>\n",
       "</tr>\n",
       "<tr>\n",
       "  <th>male</th>      <td>   10.6327</td> <td>    1.468</td> <td>    7.241</td> <td> 0.000</td> <td>    7.755</td> <td>   13.510</td>\n",
       "</tr>\n",
       "</table>"
      ],
      "text/plain": [
       "<class 'statsmodels.iolib.summary.Summary'>\n",
       "\"\"\"\n",
       "                 Generalized Linear Model Regression Results                  \n",
       "==============================================================================\n",
       "Dep. Variable:                  earnk   No. Observations:                 1816\n",
       "Model:                            GLM   Df Residuals:                     1813\n",
       "Model Family:                Gaussian   Df Model:                            2\n",
       "Link Function:               identity   Scale:                          457.61\n",
       "Method:                          IRLS   Log-Likelihood:                -8137.7\n",
       "Date:                Wed, 12 May 2021   Deviance:                   8.2965e+05\n",
       "Time:                        20:40:24   Pearson chi2:                 8.30e+05\n",
       "No. Iterations:                     3                                         \n",
       "Covariance Type:            nonrobust                                         \n",
       "==============================================================================\n",
       "                 coef    std err          z      P>|z|      [0.025      0.975]\n",
       "------------------------------------------------------------------------------\n",
       "Intercept    -25.8722     11.962     -2.163      0.031     -49.316      -2.428\n",
       "height         0.6470      0.185      3.493      0.000       0.284       1.010\n",
       "male          10.6327      1.468      7.241      0.000       7.755      13.510\n",
       "==============================================================================\n",
       "\"\"\""
      ]
     },
     "execution_count": 44,
     "metadata": {},
     "output_type": "execute_result"
    }
   ],
   "source": [
    "res.summary()"
   ]
  },
  {
   "cell_type": "code",
   "execution_count": 45,
   "id": "66f975c0",
   "metadata": {
    "execution": {
     "iopub.execute_input": "2021-05-13T00:40:24.514419Z",
     "iopub.status.busy": "2021-05-13T00:40:24.513771Z",
     "iopub.status.idle": "2021-05-13T00:40:25.047761Z",
     "shell.execute_reply": "2021-05-13T00:40:25.045686Z",
     "shell.execute_reply.started": "2021-05-13T00:40:24.514340Z"
    },
    "tags": []
   },
   "outputs": [
    {
     "data": {
      "text/plain": [
       "21.380070633991032"
      ]
     },
     "execution_count": 45,
     "metadata": {},
     "output_type": "execute_result"
    }
   ],
   "source": [
    "res.resid_deviance.std()"
   ]
  },
  {
   "cell_type": "markdown",
   "id": "b407ed8c",
   "metadata": {},
   "source": [
    "This is the auxiliary sigma"
   ]
  },
  {
   "cell_type": "code",
   "execution_count": 46,
   "id": "cbac8d71",
   "metadata": {
    "execution": {
     "iopub.execute_input": "2021-05-13T00:40:25.049943Z",
     "iopub.status.busy": "2021-05-13T00:40:25.049772Z",
     "iopub.status.idle": "2021-05-13T00:40:25.169344Z",
     "shell.execute_reply": "2021-05-13T00:40:25.167293Z",
     "shell.execute_reply.started": "2021-05-13T00:40:25.049911Z"
    },
    "tags": []
   },
   "outputs": [
    {
     "data": {
      "text/plain": [
       "Intercept   -25.872186\n",
       "height        0.646960\n",
       "male         10.632669\n",
       "dtype: float64"
      ]
     },
     "execution_count": 46,
     "metadata": {},
     "output_type": "execute_result"
    }
   ],
   "source": [
    "res.params"
   ]
  },
  {
   "cell_type": "markdown",
   "id": "2a5bedd1",
   "metadata": {},
   "source": [
    "Matches the book (p.84)"
   ]
  },
  {
   "cell_type": "code",
   "execution_count": 47,
   "id": "613bb5e1",
   "metadata": {
    "execution": {
     "iopub.execute_input": "2021-05-13T00:40:25.172721Z",
     "iopub.status.busy": "2021-05-13T00:40:25.172126Z",
     "iopub.status.idle": "2021-05-13T00:40:25.237672Z",
     "shell.execute_reply": "2021-05-13T00:40:25.237078Z",
     "shell.execute_reply.started": "2021-05-13T00:40:25.172648Z"
    },
    "tags": []
   },
   "outputs": [
    {
     "data": {
      "text/plain": [
       "15.847935144609956"
      ]
     },
     "execution_count": 47,
     "metadata": {},
     "output_type": "execute_result"
    }
   ],
   "source": [
    "avg_female_earnk = res.predict(exog={'height':avg_female_height, 'male':0})[0]\n",
    "avg_female_earnk"
   ]
  },
  {
   "cell_type": "code",
   "execution_count": 48,
   "id": "e11f04ab",
   "metadata": {
    "execution": {
     "iopub.execute_input": "2021-05-13T00:40:25.238445Z",
     "iopub.status.busy": "2021-05-13T00:40:25.238279Z",
     "iopub.status.idle": "2021-05-13T00:40:25.309485Z",
     "shell.execute_reply": "2021-05-13T00:40:25.308898Z",
     "shell.execute_reply.started": "2021-05-13T00:40:25.238428Z"
    },
    "tags": []
   },
   "outputs": [
    {
     "data": {
      "text/plain": [
       "15.847945323400523"
      ]
     },
     "execution_count": 48,
     "metadata": {},
     "output_type": "execute_result"
    }
   ],
   "source": [
    "#just checking the API\n",
    "0.646960*avg_female_height-25.872186"
   ]
  },
  {
   "cell_type": "code",
   "execution_count": 49,
   "id": "40b1163f",
   "metadata": {
    "execution": {
     "iopub.execute_input": "2021-05-13T00:40:25.310479Z",
     "iopub.status.busy": "2021-05-13T00:40:25.310293Z",
     "iopub.status.idle": "2021-05-13T00:40:25.402457Z",
     "shell.execute_reply": "2021-05-13T00:40:25.401855Z",
     "shell.execute_reply.started": "2021-05-13T00:40:25.310457Z"
    },
    "tags": []
   },
   "outputs": [
    {
     "data": {
      "text/plain": [
       "30.105179259259202"
      ]
     },
     "execution_count": 49,
     "metadata": {},
     "output_type": "execute_result"
    }
   ],
   "source": [
    "avg_male_earnk = res.predict(exog={'height':avg_male_height, 'male':1})[0]\n",
    "avg_male_earnk"
   ]
  },
  {
   "cell_type": "code",
   "execution_count": 50,
   "id": "ee776142",
   "metadata": {
    "execution": {
     "iopub.execute_input": "2021-05-13T00:40:25.403609Z",
     "iopub.status.busy": "2021-05-13T00:40:25.403295Z",
     "iopub.status.idle": "2021-05-13T00:40:25.531241Z",
     "shell.execute_reply": "2021-05-13T00:40:25.529254Z",
     "shell.execute_reply.started": "2021-05-13T00:40:25.403585Z"
    },
    "tags": []
   },
   "outputs": [
    {
     "data": {
      "text/plain": [
       "22.691412319641593"
      ]
     },
     "execution_count": 50,
     "metadata": {},
     "output_type": "execute_result"
    }
   ],
   "source": [
    "#assume 52% of the population are women, estimate the avg earning in total population\n",
    "\n",
    "0.52*avg_female_earnk+0.48*avg_male_earnk"
   ]
  },
  {
   "cell_type": "code",
   "execution_count": 51,
   "id": "cbede6f7",
   "metadata": {
    "execution": {
     "iopub.execute_input": "2021-05-13T00:40:25.534514Z",
     "iopub.status.busy": "2021-05-13T00:40:25.533884Z",
     "iopub.status.idle": "2021-05-13T00:40:25.604964Z",
     "shell.execute_reply": "2021-05-13T00:40:25.604204Z",
     "shell.execute_reply.started": "2021-05-13T00:40:25.534440Z"
    },
    "tags": []
   },
   "outputs": [],
   "source": [
    "#now compute from sample data"
   ]
  },
  {
   "cell_type": "code",
   "execution_count": 52,
   "id": "bf0a4d46",
   "metadata": {
    "execution": {
     "iopub.execute_input": "2021-05-13T00:40:25.605616Z",
     "iopub.status.busy": "2021-05-13T00:40:25.605496Z",
     "iopub.status.idle": "2021-05-13T00:40:25.736360Z",
     "shell.execute_reply": "2021-05-13T00:40:25.734390Z",
     "shell.execute_reply.started": "2021-05-13T00:40:25.605600Z"
    },
    "tags": []
   },
   "outputs": [
    {
     "data": {
      "text/plain": [
       "30.10517925925926"
      ]
     },
     "execution_count": 52,
     "metadata": {},
     "output_type": "execute_result"
    }
   ],
   "source": [
    "earnings.query('male == 1')['earnk'].mean()"
   ]
  },
  {
   "cell_type": "code",
   "execution_count": 53,
   "id": "ad93e9c2",
   "metadata": {
    "execution": {
     "iopub.execute_input": "2021-05-13T00:40:25.739740Z",
     "iopub.status.busy": "2021-05-13T00:40:25.739133Z",
     "iopub.status.idle": "2021-05-13T00:40:25.811065Z",
     "shell.execute_reply": "2021-05-13T00:40:25.810514Z",
     "shell.execute_reply.started": "2021-05-13T00:40:25.739665Z"
    },
    "tags": []
   },
   "outputs": [
    {
     "data": {
      "text/plain": [
       "15.84793514460999"
      ]
     },
     "execution_count": 53,
     "metadata": {},
     "output_type": "execute_result"
    }
   ],
   "source": [
    "earnings.query('male == 0')['earnk'].mean()"
   ]
  },
  {
   "cell_type": "code",
   "execution_count": 54,
   "id": "70a7e5d8",
   "metadata": {
    "execution": {
     "iopub.execute_input": "2021-05-13T00:40:25.811784Z",
     "iopub.status.busy": "2021-05-13T00:40:25.811647Z",
     "iopub.status.idle": "2021-05-13T00:40:25.970724Z",
     "shell.execute_reply": "2021-05-13T00:40:25.968693Z",
     "shell.execute_reply.started": "2021-05-13T00:40:25.811768Z"
    },
    "tags": []
   },
   "outputs": [
    {
     "data": {
      "text/plain": [
       "21.147296255506607"
      ]
     },
     "execution_count": 54,
     "metadata": {},
     "output_type": "execute_result"
    }
   ],
   "source": [
    "earnings['earnk'].mean()"
   ]
  },
  {
   "cell_type": "markdown",
   "id": "045e902d",
   "metadata": {},
   "source": [
    "The average mean in the earnk is less!"
   ]
  },
  {
   "cell_type": "code",
   "execution_count": 55,
   "id": "28c491f8",
   "metadata": {
    "execution": {
     "iopub.execute_input": "2021-05-13T00:40:25.974092Z",
     "iopub.status.busy": "2021-05-13T00:40:25.973469Z",
     "iopub.status.idle": "2021-05-13T00:40:26.057578Z",
     "shell.execute_reply": "2021-05-13T00:40:26.056162Z",
     "shell.execute_reply.started": "2021-05-13T00:40:25.974015Z"
    },
    "tags": []
   },
   "outputs": [
    {
     "data": {
      "text/plain": [
       "0    0.628304\n",
       "1    0.371696\n",
       "Name: male, dtype: float64"
      ]
     },
     "execution_count": 55,
     "metadata": {},
     "output_type": "execute_result"
    }
   ],
   "source": [
    "earnings['male'].value_counts(normalize=True)"
   ]
  },
  {
   "cell_type": "markdown",
   "id": "13894b37",
   "metadata": {},
   "source": [
    "The percentage in the sample is not correct"
   ]
  },
  {
   "cell_type": "markdown",
   "id": "8cd3b485",
   "metadata": {},
   "source": [
    "# 6.6 Selection on x or y"
   ]
  },
  {
   "cell_type": "code",
   "execution_count": 56,
   "id": "b4161075",
   "metadata": {
    "execution": {
     "iopub.execute_input": "2021-05-13T00:40:26.059847Z",
     "iopub.status.busy": "2021-05-13T00:40:26.059419Z",
     "iopub.status.idle": "2021-05-13T00:40:26.894372Z",
     "shell.execute_reply": "2021-05-13T00:40:26.892197Z",
     "shell.execute_reply.started": "2021-05-13T00:40:26.059795Z"
    },
    "tags": []
   },
   "outputs": [],
   "source": [
    "height_data = pd.read_csv('../ROS-Examples/PearsonLee/data/Heights.txt', sep=' ')"
   ]
  },
  {
   "cell_type": "code",
   "execution_count": 57,
   "id": "711297aa",
   "metadata": {
    "execution": {
     "iopub.execute_input": "2021-05-13T00:40:26.897700Z",
     "iopub.status.busy": "2021-05-13T00:40:26.897088Z",
     "iopub.status.idle": "2021-05-13T00:40:27.061019Z",
     "shell.execute_reply": "2021-05-13T00:40:27.059067Z",
     "shell.execute_reply.started": "2021-05-13T00:40:26.897625Z"
    },
    "tags": []
   },
   "outputs": [
    {
     "data": {
      "text/html": [
       "<div>\n",
       "<style scoped>\n",
       "    .dataframe tbody tr th:only-of-type {\n",
       "        vertical-align: middle;\n",
       "    }\n",
       "\n",
       "    .dataframe tbody tr th {\n",
       "        vertical-align: top;\n",
       "    }\n",
       "\n",
       "    .dataframe thead th {\n",
       "        text-align: right;\n",
       "    }\n",
       "</style>\n",
       "<table border=\"1\" class=\"dataframe\">\n",
       "  <thead>\n",
       "    <tr style=\"text-align: right;\">\n",
       "      <th></th>\n",
       "      <th>daughter_height</th>\n",
       "      <th>mother_height</th>\n",
       "    </tr>\n",
       "  </thead>\n",
       "  <tbody>\n",
       "    <tr>\n",
       "      <th>0</th>\n",
       "      <td>52.5</td>\n",
       "      <td>59.5</td>\n",
       "    </tr>\n",
       "    <tr>\n",
       "      <th>1</th>\n",
       "      <td>52.5</td>\n",
       "      <td>59.5</td>\n",
       "    </tr>\n",
       "    <tr>\n",
       "      <th>2</th>\n",
       "      <td>53.5</td>\n",
       "      <td>59.5</td>\n",
       "    </tr>\n",
       "    <tr>\n",
       "      <th>3</th>\n",
       "      <td>53.5</td>\n",
       "      <td>59.5</td>\n",
       "    </tr>\n",
       "    <tr>\n",
       "      <th>4</th>\n",
       "      <td>55.5</td>\n",
       "      <td>59.5</td>\n",
       "    </tr>\n",
       "    <tr>\n",
       "      <th>...</th>\n",
       "      <td>...</td>\n",
       "      <td>...</td>\n",
       "    </tr>\n",
       "    <tr>\n",
       "      <th>5519</th>\n",
       "      <td>71.5</td>\n",
       "      <td>70.5</td>\n",
       "    </tr>\n",
       "    <tr>\n",
       "      <th>5520</th>\n",
       "      <td>73.5</td>\n",
       "      <td>63.5</td>\n",
       "    </tr>\n",
       "    <tr>\n",
       "      <th>5521</th>\n",
       "      <td>73.5</td>\n",
       "      <td>63.5</td>\n",
       "    </tr>\n",
       "    <tr>\n",
       "      <th>5522</th>\n",
       "      <td>73.5</td>\n",
       "      <td>63.5</td>\n",
       "    </tr>\n",
       "    <tr>\n",
       "      <th>5523</th>\n",
       "      <td>73.5</td>\n",
       "      <td>63.5</td>\n",
       "    </tr>\n",
       "  </tbody>\n",
       "</table>\n",
       "<p>5524 rows × 2 columns</p>\n",
       "</div>"
      ],
      "text/plain": [
       "      daughter_height  mother_height\n",
       "0                52.5           59.5\n",
       "1                52.5           59.5\n",
       "2                53.5           59.5\n",
       "3                53.5           59.5\n",
       "4                55.5           59.5\n",
       "...               ...            ...\n",
       "5519             71.5           70.5\n",
       "5520             73.5           63.5\n",
       "5521             73.5           63.5\n",
       "5522             73.5           63.5\n",
       "5523             73.5           63.5\n",
       "\n",
       "[5524 rows x 2 columns]"
      ]
     },
     "execution_count": 57,
     "metadata": {},
     "output_type": "execute_result"
    }
   ],
   "source": [
    "height_data"
   ]
  },
  {
   "cell_type": "code",
   "execution_count": 58,
   "id": "481bf14c",
   "metadata": {
    "execution": {
     "iopub.execute_input": "2021-05-13T00:40:27.064079Z",
     "iopub.status.busy": "2021-05-13T00:40:27.063519Z",
     "iopub.status.idle": "2021-05-13T00:40:27.224606Z",
     "shell.execute_reply": "2021-05-13T00:40:27.223629Z",
     "shell.execute_reply.started": "2021-05-13T00:40:27.064009Z"
    },
    "tags": []
   },
   "outputs": [],
   "source": [
    "#sanity check that it works\n",
    "res = smf.glm('daughter_height ~ mother_height', data = height_data).fit()"
   ]
  },
  {
   "cell_type": "code",
   "execution_count": 59,
   "id": "b9f21c83",
   "metadata": {
    "execution": {
     "iopub.execute_input": "2021-05-13T00:40:27.228882Z",
     "iopub.status.busy": "2021-05-13T00:40:27.228658Z",
     "iopub.status.idle": "2021-05-13T00:40:27.353877Z",
     "shell.execute_reply": "2021-05-13T00:40:27.353494Z",
     "shell.execute_reply.started": "2021-05-13T00:40:27.228855Z"
    },
    "tags": []
   },
   "outputs": [
    {
     "data": {
      "text/html": [
       "<table class=\"simpletable\">\n",
       "<caption>Generalized Linear Model Regression Results</caption>\n",
       "<tr>\n",
       "  <th>Dep. Variable:</th>    <td>daughter_height</td> <th>  No. Observations:  </th>  <td>  5524</td> \n",
       "</tr>\n",
       "<tr>\n",
       "  <th>Model:</th>                  <td>GLM</td>       <th>  Df Residuals:      </th>  <td>  5522</td> \n",
       "</tr>\n",
       "<tr>\n",
       "  <th>Model Family:</th>        <td>Gaussian</td>     <th>  Df Model:          </th>  <td>     1</td> \n",
       "</tr>\n",
       "<tr>\n",
       "  <th>Link Function:</th>       <td>identity</td>     <th>  Scale:             </th> <td>  5.1168</td>\n",
       "</tr>\n",
       "<tr>\n",
       "  <th>Method:</th>                <td>IRLS</td>       <th>  Log-Likelihood:    </th> <td> -12346.</td>\n",
       "</tr>\n",
       "<tr>\n",
       "  <th>Date:</th>            <td>Wed, 12 May 2021</td> <th>  Deviance:          </th> <td>  28255.</td>\n",
       "</tr>\n",
       "<tr>\n",
       "  <th>Time:</th>                <td>20:40:27</td>     <th>  Pearson chi2:      </th> <td>2.83e+04</td>\n",
       "</tr>\n",
       "<tr>\n",
       "  <th>No. Iterations:</th>          <td>3</td>        <th>                     </th>     <td> </td>   \n",
       "</tr>\n",
       "<tr>\n",
       "  <th>Covariance Type:</th>     <td>nonrobust</td>    <th>                     </th>     <td> </td>   \n",
       "</tr>\n",
       "</table>\n",
       "<table class=\"simpletable\">\n",
       "<tr>\n",
       "        <td></td>           <th>coef</th>     <th>std err</th>      <th>z</th>      <th>P>|z|</th>  <th>[0.025</th>    <th>0.975]</th>  \n",
       "</tr>\n",
       "<tr>\n",
       "  <th>Intercept</th>     <td>   29.7984</td> <td>    0.790</td> <td>   37.703</td> <td> 0.000</td> <td>   28.249</td> <td>   31.347</td>\n",
       "</tr>\n",
       "<tr>\n",
       "  <th>mother_height</th> <td>    0.5449</td> <td>    0.013</td> <td>   43.125</td> <td> 0.000</td> <td>    0.520</td> <td>    0.570</td>\n",
       "</tr>\n",
       "</table>"
      ],
      "text/plain": [
       "<class 'statsmodels.iolib.summary.Summary'>\n",
       "\"\"\"\n",
       "                 Generalized Linear Model Regression Results                  \n",
       "==============================================================================\n",
       "Dep. Variable:        daughter_height   No. Observations:                 5524\n",
       "Model:                            GLM   Df Residuals:                     5522\n",
       "Model Family:                Gaussian   Df Model:                            1\n",
       "Link Function:               identity   Scale:                          5.1168\n",
       "Method:                          IRLS   Log-Likelihood:                -12346.\n",
       "Date:                Wed, 12 May 2021   Deviance:                       28255.\n",
       "Time:                        20:40:27   Pearson chi2:                 2.83e+04\n",
       "No. Iterations:                     3                                         \n",
       "Covariance Type:            nonrobust                                         \n",
       "=================================================================================\n",
       "                    coef    std err          z      P>|z|      [0.025      0.975]\n",
       "---------------------------------------------------------------------------------\n",
       "Intercept        29.7984      0.790     37.703      0.000      28.249      31.347\n",
       "mother_height     0.5449      0.013     43.125      0.000       0.520       0.570\n",
       "=================================================================================\n",
       "\"\"\""
      ]
     },
     "execution_count": 59,
     "metadata": {},
     "output_type": "execute_result"
    }
   ],
   "source": [
    "res.summary()"
   ]
  },
  {
   "cell_type": "markdown",
   "id": "9d7637eb",
   "metadata": {},
   "source": [
    "I also note that the std error here looks like the MAD_SD in the book"
   ]
  },
  {
   "cell_type": "code",
   "execution_count": 60,
   "id": "b192334e",
   "metadata": {
    "execution": {
     "iopub.execute_input": "2021-05-13T00:40:27.354758Z",
     "iopub.status.busy": "2021-05-13T00:40:27.354509Z",
     "iopub.status.idle": "2021-05-13T00:40:27.421560Z",
     "shell.execute_reply": "2021-05-13T00:40:27.421071Z",
     "shell.execute_reply.started": "2021-05-13T00:40:27.354740Z"
    },
    "tags": []
   },
   "outputs": [
    {
     "data": {
      "text/plain": [
       "62.498732802317164"
      ]
     },
     "execution_count": 60,
     "metadata": {},
     "output_type": "execute_result"
    }
   ],
   "source": [
    "height_data['mother_height'].mean()"
   ]
  },
  {
   "cell_type": "code",
   "execution_count": 61,
   "id": "ec48b05d",
   "metadata": {
    "execution": {
     "iopub.execute_input": "2021-05-13T00:40:27.425588Z",
     "iopub.status.busy": "2021-05-13T00:40:27.423629Z",
     "iopub.status.idle": "2021-05-13T00:40:27.552581Z",
     "shell.execute_reply": "2021-05-13T00:40:27.552098Z",
     "shell.execute_reply.started": "2021-05-13T00:40:27.425561Z"
    },
    "tags": []
   },
   "outputs": [
    {
     "data": {
      "text/plain": [
       "63.85626357711803"
      ]
     },
     "execution_count": 61,
     "metadata": {},
     "output_type": "execute_result"
    }
   ],
   "source": [
    "height_data['daughter_height'].mean()"
   ]
  },
  {
   "cell_type": "code",
   "execution_count": 62,
   "id": "de694e7f",
   "metadata": {
    "execution": {
     "iopub.execute_input": "2021-05-13T00:40:27.554562Z",
     "iopub.status.busy": "2021-05-13T00:40:27.554377Z",
     "iopub.status.idle": "2021-05-13T00:40:27.696630Z",
     "shell.execute_reply": "2021-05-13T00:40:27.694588Z",
     "shell.execute_reply.started": "2021-05-13T00:40:27.554542Z"
    },
    "tags": []
   },
   "outputs": [],
   "source": [
    "mother_less_mean = height_data.query('mother_height < 62.5').copy()\n",
    "daughter_less_mean = height_data.query('daughter_height< 63.86').copy()"
   ]
  },
  {
   "cell_type": "code",
   "execution_count": 63,
   "id": "a96b50a1",
   "metadata": {
    "execution": {
     "iopub.execute_input": "2021-05-13T00:40:27.700374Z",
     "iopub.status.busy": "2021-05-13T00:40:27.699751Z",
     "iopub.status.idle": "2021-05-13T00:40:27.912677Z",
     "shell.execute_reply": "2021-05-13T00:40:27.911582Z",
     "shell.execute_reply.started": "2021-05-13T00:40:27.700297Z"
    },
    "tags": []
   },
   "outputs": [],
   "source": [
    "res_m_less = smf.glm('daughter_height ~ mother_height', data = mother_less_mean).fit()"
   ]
  },
  {
   "cell_type": "code",
   "execution_count": 64,
   "id": "06985e15",
   "metadata": {
    "execution": {
     "iopub.execute_input": "2021-05-13T00:40:27.914320Z",
     "iopub.status.busy": "2021-05-13T00:40:27.913821Z",
     "iopub.status.idle": "2021-05-13T00:40:28.636632Z",
     "shell.execute_reply": "2021-05-13T00:40:28.636154Z",
     "shell.execute_reply.started": "2021-05-13T00:40:27.914277Z"
    },
    "tags": []
   },
   "outputs": [
    {
     "data": {
      "text/html": [
       "<table class=\"simpletable\">\n",
       "<caption>Generalized Linear Model Regression Results</caption>\n",
       "<tr>\n",
       "  <th>Dep. Variable:</th>    <td>daughter_height</td> <th>  No. Observations:  </th>  <td>  2327</td> \n",
       "</tr>\n",
       "<tr>\n",
       "  <th>Model:</th>                  <td>GLM</td>       <th>  Df Residuals:      </th>  <td>  2325</td> \n",
       "</tr>\n",
       "<tr>\n",
       "  <th>Model Family:</th>        <td>Gaussian</td>     <th>  Df Model:          </th>  <td>     1</td> \n",
       "</tr>\n",
       "<tr>\n",
       "  <th>Link Function:</th>       <td>identity</td>     <th>  Scale:             </th> <td>  5.1201</td>\n",
       "</tr>\n",
       "<tr>\n",
       "  <th>Method:</th>                <td>IRLS</td>       <th>  Log-Likelihood:    </th> <td> -5201.1</td>\n",
       "</tr>\n",
       "<tr>\n",
       "  <th>Date:</th>            <td>Wed, 12 May 2021</td> <th>  Deviance:          </th> <td>  11904.</td>\n",
       "</tr>\n",
       "<tr>\n",
       "  <th>Time:</th>                <td>20:40:28</td>     <th>  Pearson chi2:      </th> <td>1.19e+04</td>\n",
       "</tr>\n",
       "<tr>\n",
       "  <th>No. Iterations:</th>          <td>3</td>        <th>                     </th>     <td> </td>   \n",
       "</tr>\n",
       "<tr>\n",
       "  <th>Covariance Type:</th>     <td>nonrobust</td>    <th>                     </th>     <td> </td>   \n",
       "</tr>\n",
       "</table>\n",
       "<table class=\"simpletable\">\n",
       "<tr>\n",
       "        <td></td>           <th>coef</th>     <th>std err</th>      <th>z</th>      <th>P>|z|</th>  <th>[0.025</th>    <th>0.975]</th>  \n",
       "</tr>\n",
       "<tr>\n",
       "  <th>Intercept</th>     <td>   30.3749</td> <td>    2.108</td> <td>   14.406</td> <td> 0.000</td> <td>   26.242</td> <td>   34.507</td>\n",
       "</tr>\n",
       "<tr>\n",
       "  <th>mother_height</th> <td>    0.5351</td> <td>    0.035</td> <td>   15.302</td> <td> 0.000</td> <td>    0.467</td> <td>    0.604</td>\n",
       "</tr>\n",
       "</table>"
      ],
      "text/plain": [
       "<class 'statsmodels.iolib.summary.Summary'>\n",
       "\"\"\"\n",
       "                 Generalized Linear Model Regression Results                  \n",
       "==============================================================================\n",
       "Dep. Variable:        daughter_height   No. Observations:                 2327\n",
       "Model:                            GLM   Df Residuals:                     2325\n",
       "Model Family:                Gaussian   Df Model:                            1\n",
       "Link Function:               identity   Scale:                          5.1201\n",
       "Method:                          IRLS   Log-Likelihood:                -5201.1\n",
       "Date:                Wed, 12 May 2021   Deviance:                       11904.\n",
       "Time:                        20:40:28   Pearson chi2:                 1.19e+04\n",
       "No. Iterations:                     3                                         \n",
       "Covariance Type:            nonrobust                                         \n",
       "=================================================================================\n",
       "                    coef    std err          z      P>|z|      [0.025      0.975]\n",
       "---------------------------------------------------------------------------------\n",
       "Intercept        30.3749      2.108     14.406      0.000      26.242      34.507\n",
       "mother_height     0.5351      0.035     15.302      0.000       0.467       0.604\n",
       "=================================================================================\n",
       "\"\"\""
      ]
     },
     "execution_count": 64,
     "metadata": {},
     "output_type": "execute_result"
    }
   ],
   "source": [
    "res_m_less.summary()"
   ]
  },
  {
   "cell_type": "markdown",
   "id": "c4856bc4",
   "metadata": {},
   "source": [
    "roughly the same as all data"
   ]
  },
  {
   "cell_type": "code",
   "execution_count": 65,
   "id": "eb0b4636",
   "metadata": {
    "execution": {
     "iopub.execute_input": "2021-05-13T00:40:28.637346Z",
     "iopub.status.busy": "2021-05-13T00:40:28.637206Z",
     "iopub.status.idle": "2021-05-13T00:40:28.850502Z",
     "shell.execute_reply": "2021-05-13T00:40:28.849651Z",
     "shell.execute_reply.started": "2021-05-13T00:40:28.637328Z"
    },
    "tags": []
   },
   "outputs": [
    {
     "data": {
      "text/html": [
       "<table class=\"simpletable\">\n",
       "<caption>Generalized Linear Model Regression Results</caption>\n",
       "<tr>\n",
       "  <th>Dep. Variable:</th>    <td>daughter_height</td> <th>  No. Observations:  </th>  <td>  2924</td> \n",
       "</tr>\n",
       "<tr>\n",
       "  <th>Model:</th>                  <td>GLM</td>       <th>  Df Residuals:      </th>  <td>  2922</td> \n",
       "</tr>\n",
       "<tr>\n",
       "  <th>Model Family:</th>        <td>Gaussian</td>     <th>  Df Model:          </th>  <td>     1</td> \n",
       "</tr>\n",
       "<tr>\n",
       "  <th>Link Function:</th>       <td>identity</td>     <th>  Scale:             </th> <td>  2.3041</td>\n",
       "</tr>\n",
       "<tr>\n",
       "  <th>Method:</th>                <td>IRLS</td>       <th>  Log-Likelihood:    </th> <td> -5368.3</td>\n",
       "</tr>\n",
       "<tr>\n",
       "  <th>Date:</th>            <td>Wed, 12 May 2021</td> <th>  Deviance:          </th> <td>  6732.5</td>\n",
       "</tr>\n",
       "<tr>\n",
       "  <th>Time:</th>                <td>20:40:28</td>     <th>  Pearson chi2:      </th> <td>6.73e+03</td>\n",
       "</tr>\n",
       "<tr>\n",
       "  <th>No. Iterations:</th>          <td>3</td>        <th>                     </th>     <td> </td>   \n",
       "</tr>\n",
       "<tr>\n",
       "  <th>Covariance Type:</th>     <td>nonrobust</td>    <th>                     </th>     <td> </td>   \n",
       "</tr>\n",
       "</table>\n",
       "<table class=\"simpletable\">\n",
       "<tr>\n",
       "        <td></td>           <th>coef</th>     <th>std err</th>      <th>z</th>      <th>P>|z|</th>  <th>[0.025</th>    <th>0.975]</th>  \n",
       "</tr>\n",
       "<tr>\n",
       "  <th>Intercept</th>     <td>   49.6472</td> <td>    0.788</td> <td>   62.991</td> <td> 0.000</td> <td>   48.102</td> <td>   51.192</td>\n",
       "</tr>\n",
       "<tr>\n",
       "  <th>mother_height</th> <td>    0.1987</td> <td>    0.013</td> <td>   15.529</td> <td> 0.000</td> <td>    0.174</td> <td>    0.224</td>\n",
       "</tr>\n",
       "</table>"
      ],
      "text/plain": [
       "<class 'statsmodels.iolib.summary.Summary'>\n",
       "\"\"\"\n",
       "                 Generalized Linear Model Regression Results                  \n",
       "==============================================================================\n",
       "Dep. Variable:        daughter_height   No. Observations:                 2924\n",
       "Model:                            GLM   Df Residuals:                     2922\n",
       "Model Family:                Gaussian   Df Model:                            1\n",
       "Link Function:               identity   Scale:                          2.3041\n",
       "Method:                          IRLS   Log-Likelihood:                -5368.3\n",
       "Date:                Wed, 12 May 2021   Deviance:                       6732.5\n",
       "Time:                        20:40:28   Pearson chi2:                 6.73e+03\n",
       "No. Iterations:                     3                                         \n",
       "Covariance Type:            nonrobust                                         \n",
       "=================================================================================\n",
       "                    coef    std err          z      P>|z|      [0.025      0.975]\n",
       "---------------------------------------------------------------------------------\n",
       "Intercept        49.6472      0.788     62.991      0.000      48.102      51.192\n",
       "mother_height     0.1987      0.013     15.529      0.000       0.174       0.224\n",
       "=================================================================================\n",
       "\"\"\""
      ]
     },
     "execution_count": 65,
     "metadata": {},
     "output_type": "execute_result"
    }
   ],
   "source": [
    "res_d_less = smf.glm('daughter_height ~ mother_height', data = daughter_less_mean).fit()\n",
    "res_d_less.summary()"
   ]
  },
  {
   "cell_type": "markdown",
   "id": "bd46e0be",
   "metadata": {},
   "source": [
    "The numbers are different"
   ]
  },
  {
   "cell_type": "code",
   "execution_count": 66,
   "id": "99a69206",
   "metadata": {
    "execution": {
     "iopub.execute_input": "2021-05-13T00:40:28.851649Z",
     "iopub.status.busy": "2021-05-13T00:40:28.851412Z",
     "iopub.status.idle": "2021-05-13T00:40:29.151612Z",
     "shell.execute_reply": "2021-05-13T00:40:29.151176Z",
     "shell.execute_reply.started": "2021-05-13T00:40:28.851622Z"
    },
    "tags": []
   },
   "outputs": [
    {
     "data": {
      "text/plain": [
       "<matplotlib.axes._subplots.AxesSubplot at 0x7fcf1336a280>"
      ]
     },
     "execution_count": 66,
     "metadata": {},
     "output_type": "execute_result"
    },
    {
     "data": {
      "image/png": "[encoded data removed]",
      "text/plain": [
       "<Figure size 576x396 with 1 Axes>"
      ]
     },
     "metadata": {},
     "output_type": "display_data"
    }
   ],
   "source": [
    "sns.scatterplot(x = 'mother_height', y = 'daughter_height', data = height_data, label = 'all')\n",
    "sns.scatterplot(x = 'mother_height', y = 'daughter_height', data = daughter_less_mean, label='daughter less than mean')\n",
    "sns.scatterplot(x = 'mother_height', y = 'daughter_height', data = mother_less_mean, label='mother less than mean')\n"
   ]
  },
  {
   "cell_type": "markdown",
   "id": "c37d2594",
   "metadata": {},
   "source": [
    "Select on y would change your fit parameters because you are reducing the variations in the depedent variable, whereas select on x does not affect the variation of the distribution"
   ]
  },
  {
   "cell_type": "markdown",
   "id": "d72311ce",
   "metadata": {},
   "source": [
    "# 6.8 Regression to the mean with fake data"
   ]
  },
  {
   "cell_type": "code",
   "execution_count": 97,
   "id": "460596e0",
   "metadata": {
    "execution": {
     "iopub.execute_input": "2021-05-13T00:53:17.536294Z",
     "iopub.status.busy": "2021-05-13T00:53:17.536111Z",
     "iopub.status.idle": "2021-05-13T00:53:17.541225Z",
     "shell.execute_reply": "2021-05-13T00:53:17.540651Z",
     "shell.execute_reply.started": "2021-05-13T00:53:17.536274Z"
    },
    "tags": []
   },
   "outputs": [],
   "source": [
    "def pilot_sim(n, ability, noise):\n",
    "    if not isinstance(ability, dict):\n",
    "        raise ValueError(\"ability has to be a dict {'mean': mean_val, 'sigma': sigma_val}\")\n",
    "    if not isinstance(noise, list):\n",
    "        raise ValueError(\"noise has to be a list [sigma_1, sigma_2]\")\n",
    "    true_ability = np.random.normal(ability['mean'], ability['sigma'], n)\n",
    "    noise_1 = np.random.normal(0, noise[0], n)\n",
    "    noise_2 = np.random.normal(0, noise[1], n)\n",
    "    man_1 = np.where(true_ability+noise_1>10, 10, np.where(true_ability+noise_1<0, 0, true_ability+noise_1))\n",
    "    man_2 = np.where(true_ability+noise_2>10, 10, np.where(true_ability+noise_2<0, 0, true_ability+noise_2))\n",
    "    praise = np.where(man_1>7, 1, 0)\n",
    "    scold = np.where(man_1 < 3, 1, 0)\n",
    "    df = pd.DataFrame({'true_ability': true_ability, 'noise_1': noise_1, 'noise_2': noise_2, 'maneuver_1':man_1, 'maneuver_2': man_2, 'praise': praise, 'scold':scold})\n",
    "    return df"
   ]
  },
  {
   "cell_type": "code",
   "execution_count": 115,
   "id": "e377843a",
   "metadata": {
    "execution": {
     "iopub.execute_input": "2021-05-13T01:00:50.662292Z",
     "iopub.status.busy": "2021-05-13T01:00:50.662036Z",
     "iopub.status.idle": "2021-05-13T01:00:50.665903Z",
     "shell.execute_reply": "2021-05-13T01:00:50.665438Z",
     "shell.execute_reply.started": "2021-05-13T01:00:50.662275Z"
    },
    "tags": []
   },
   "outputs": [],
   "source": [
    "df = pilot_sim(500, {'mean':5, 'sigma':2}, [1, 1])"
   ]
  },
  {
   "cell_type": "code",
   "execution_count": 116,
   "id": "ee644d31",
   "metadata": {
    "execution": {
     "iopub.execute_input": "2021-05-13T01:00:50.897410Z",
     "iopub.status.busy": "2021-05-13T01:00:50.896780Z",
     "iopub.status.idle": "2021-05-13T01:00:51.352275Z",
     "shell.execute_reply": "2021-05-13T01:00:51.351898Z",
     "shell.execute_reply.started": "2021-05-13T01:00:50.897333Z"
    },
    "tags": []
   },
   "outputs": [
    {
     "data": {
      "text/html": [
       "<div>\n",
       "<style scoped>\n",
       "    .dataframe tbody tr th:only-of-type {\n",
       "        vertical-align: middle;\n",
       "    }\n",
       "\n",
       "    .dataframe tbody tr th {\n",
       "        vertical-align: top;\n",
       "    }\n",
       "\n",
       "    .dataframe thead th {\n",
       "        text-align: right;\n",
       "    }\n",
       "</style>\n",
       "<table border=\"1\" class=\"dataframe\">\n",
       "  <thead>\n",
       "    <tr style=\"text-align: right;\">\n",
       "      <th></th>\n",
       "      <th>true_ability</th>\n",
       "      <th>noise_1</th>\n",
       "      <th>noise_2</th>\n",
       "      <th>maneuver_1</th>\n",
       "      <th>maneuver_2</th>\n",
       "      <th>praise</th>\n",
       "      <th>scold</th>\n",
       "    </tr>\n",
       "  </thead>\n",
       "  <tbody>\n",
       "    <tr>\n",
       "      <th>0</th>\n",
       "      <td>6.302779</td>\n",
       "      <td>0.545276</td>\n",
       "      <td>-1.752395</td>\n",
       "      <td>6.848054</td>\n",
       "      <td>4.550383</td>\n",
       "      <td>0</td>\n",
       "      <td>0</td>\n",
       "    </tr>\n",
       "    <tr>\n",
       "      <th>1</th>\n",
       "      <td>1.885778</td>\n",
       "      <td>-0.142279</td>\n",
       "      <td>-1.200519</td>\n",
       "      <td>1.743499</td>\n",
       "      <td>0.685259</td>\n",
       "      <td>0</td>\n",
       "      <td>1</td>\n",
       "    </tr>\n",
       "    <tr>\n",
       "      <th>2</th>\n",
       "      <td>6.471224</td>\n",
       "      <td>1.824424</td>\n",
       "      <td>-0.829915</td>\n",
       "      <td>8.295648</td>\n",
       "      <td>5.641309</td>\n",
       "      <td>1</td>\n",
       "      <td>0</td>\n",
       "    </tr>\n",
       "    <tr>\n",
       "      <th>3</th>\n",
       "      <td>6.146778</td>\n",
       "      <td>-0.187616</td>\n",
       "      <td>0.801769</td>\n",
       "      <td>5.959162</td>\n",
       "      <td>6.948547</td>\n",
       "      <td>0</td>\n",
       "      <td>0</td>\n",
       "    </tr>\n",
       "    <tr>\n",
       "      <th>4</th>\n",
       "      <td>4.082297</td>\n",
       "      <td>-0.363244</td>\n",
       "      <td>-0.490802</td>\n",
       "      <td>3.719052</td>\n",
       "      <td>3.591495</td>\n",
       "      <td>0</td>\n",
       "      <td>0</td>\n",
       "    </tr>\n",
       "    <tr>\n",
       "      <th>...</th>\n",
       "      <td>...</td>\n",
       "      <td>...</td>\n",
       "      <td>...</td>\n",
       "      <td>...</td>\n",
       "      <td>...</td>\n",
       "      <td>...</td>\n",
       "      <td>...</td>\n",
       "    </tr>\n",
       "    <tr>\n",
       "      <th>495</th>\n",
       "      <td>6.581456</td>\n",
       "      <td>-0.247392</td>\n",
       "      <td>0.544571</td>\n",
       "      <td>6.334064</td>\n",
       "      <td>7.126027</td>\n",
       "      <td>0</td>\n",
       "      <td>0</td>\n",
       "    </tr>\n",
       "    <tr>\n",
       "      <th>496</th>\n",
       "      <td>2.809293</td>\n",
       "      <td>2.220288</td>\n",
       "      <td>-0.256149</td>\n",
       "      <td>5.029581</td>\n",
       "      <td>2.553144</td>\n",
       "      <td>0</td>\n",
       "      <td>0</td>\n",
       "    </tr>\n",
       "    <tr>\n",
       "      <th>497</th>\n",
       "      <td>8.439962</td>\n",
       "      <td>0.752171</td>\n",
       "      <td>-0.990416</td>\n",
       "      <td>9.192133</td>\n",
       "      <td>7.449546</td>\n",
       "      <td>1</td>\n",
       "      <td>0</td>\n",
       "    </tr>\n",
       "    <tr>\n",
       "      <th>498</th>\n",
       "      <td>5.238867</td>\n",
       "      <td>-0.559863</td>\n",
       "      <td>0.907442</td>\n",
       "      <td>4.679004</td>\n",
       "      <td>6.146309</td>\n",
       "      <td>0</td>\n",
       "      <td>0</td>\n",
       "    </tr>\n",
       "    <tr>\n",
       "      <th>499</th>\n",
       "      <td>4.416331</td>\n",
       "      <td>-1.398500</td>\n",
       "      <td>-0.213964</td>\n",
       "      <td>3.017831</td>\n",
       "      <td>4.202368</td>\n",
       "      <td>0</td>\n",
       "      <td>0</td>\n",
       "    </tr>\n",
       "  </tbody>\n",
       "</table>\n",
       "<p>500 rows × 7 columns</p>\n",
       "</div>"
      ],
      "text/plain": [
       "     true_ability   noise_1   noise_2  maneuver_1  maneuver_2  praise  scold\n",
       "0        6.302779  0.545276 -1.752395    6.848054    4.550383       0      0\n",
       "1        1.885778 -0.142279 -1.200519    1.743499    0.685259       0      1\n",
       "2        6.471224  1.824424 -0.829915    8.295648    5.641309       1      0\n",
       "3        6.146778 -0.187616  0.801769    5.959162    6.948547       0      0\n",
       "4        4.082297 -0.363244 -0.490802    3.719052    3.591495       0      0\n",
       "..            ...       ...       ...         ...         ...     ...    ...\n",
       "495      6.581456 -0.247392  0.544571    6.334064    7.126027       0      0\n",
       "496      2.809293  2.220288 -0.256149    5.029581    2.553144       0      0\n",
       "497      8.439962  0.752171 -0.990416    9.192133    7.449546       1      0\n",
       "498      5.238867 -0.559863  0.907442    4.679004    6.146309       0      0\n",
       "499      4.416331 -1.398500 -0.213964    3.017831    4.202368       0      0\n",
       "\n",
       "[500 rows x 7 columns]"
      ]
     },
     "execution_count": 116,
     "metadata": {},
     "output_type": "execute_result"
    }
   ],
   "source": [
    "df"
   ]
  },
  {
   "cell_type": "code",
   "execution_count": 117,
   "id": "5d759ce6",
   "metadata": {
    "execution": {
     "iopub.execute_input": "2021-05-13T01:00:52.426479Z",
     "iopub.status.busy": "2021-05-13T01:00:52.425958Z",
     "iopub.status.idle": "2021-05-13T01:00:52.432778Z",
     "shell.execute_reply": "2021-05-13T01:00:52.432288Z",
     "shell.execute_reply.started": "2021-05-13T01:00:52.426418Z"
    },
    "tags": []
   },
   "outputs": [],
   "source": [
    "df['reinforcement'] = np.where(df['praise']==1, 'praise', np.where(df['scold']==1, 'scold', 'no reaction'))"
   ]
  },
  {
   "cell_type": "code",
   "execution_count": 118,
   "id": "112315bc",
   "metadata": {
    "execution": {
     "iopub.execute_input": "2021-05-13T01:00:53.044137Z",
     "iopub.status.busy": "2021-05-13T01:00:53.043971Z",
     "iopub.status.idle": "2021-05-13T01:00:53.052163Z",
     "shell.execute_reply": "2021-05-13T01:00:53.051683Z",
     "shell.execute_reply.started": "2021-05-13T01:00:53.044118Z"
    },
    "tags": []
   },
   "outputs": [
    {
     "data": {
      "text/html": [
       "<div>\n",
       "<style scoped>\n",
       "    .dataframe tbody tr th:only-of-type {\n",
       "        vertical-align: middle;\n",
       "    }\n",
       "\n",
       "    .dataframe tbody tr th {\n",
       "        vertical-align: top;\n",
       "    }\n",
       "\n",
       "    .dataframe thead th {\n",
       "        text-align: right;\n",
       "    }\n",
       "</style>\n",
       "<table border=\"1\" class=\"dataframe\">\n",
       "  <thead>\n",
       "    <tr style=\"text-align: right;\">\n",
       "      <th></th>\n",
       "      <th>praise</th>\n",
       "      <th>scold</th>\n",
       "      <th>reinforcement</th>\n",
       "    </tr>\n",
       "  </thead>\n",
       "  <tbody>\n",
       "    <tr>\n",
       "      <th>0</th>\n",
       "      <td>0</td>\n",
       "      <td>0</td>\n",
       "      <td>no reaction</td>\n",
       "    </tr>\n",
       "    <tr>\n",
       "      <th>1</th>\n",
       "      <td>0</td>\n",
       "      <td>1</td>\n",
       "      <td>scold</td>\n",
       "    </tr>\n",
       "    <tr>\n",
       "      <th>2</th>\n",
       "      <td>1</td>\n",
       "      <td>0</td>\n",
       "      <td>praise</td>\n",
       "    </tr>\n",
       "    <tr>\n",
       "      <th>3</th>\n",
       "      <td>0</td>\n",
       "      <td>0</td>\n",
       "      <td>no reaction</td>\n",
       "    </tr>\n",
       "    <tr>\n",
       "      <th>4</th>\n",
       "      <td>0</td>\n",
       "      <td>0</td>\n",
       "      <td>no reaction</td>\n",
       "    </tr>\n",
       "    <tr>\n",
       "      <th>...</th>\n",
       "      <td>...</td>\n",
       "      <td>...</td>\n",
       "      <td>...</td>\n",
       "    </tr>\n",
       "    <tr>\n",
       "      <th>495</th>\n",
       "      <td>0</td>\n",
       "      <td>0</td>\n",
       "      <td>no reaction</td>\n",
       "    </tr>\n",
       "    <tr>\n",
       "      <th>496</th>\n",
       "      <td>0</td>\n",
       "      <td>0</td>\n",
       "      <td>no reaction</td>\n",
       "    </tr>\n",
       "    <tr>\n",
       "      <th>497</th>\n",
       "      <td>1</td>\n",
       "      <td>0</td>\n",
       "      <td>praise</td>\n",
       "    </tr>\n",
       "    <tr>\n",
       "      <th>498</th>\n",
       "      <td>0</td>\n",
       "      <td>0</td>\n",
       "      <td>no reaction</td>\n",
       "    </tr>\n",
       "    <tr>\n",
       "      <th>499</th>\n",
       "      <td>0</td>\n",
       "      <td>0</td>\n",
       "      <td>no reaction</td>\n",
       "    </tr>\n",
       "  </tbody>\n",
       "</table>\n",
       "<p>500 rows × 3 columns</p>\n",
       "</div>"
      ],
      "text/plain": [
       "     praise  scold reinforcement\n",
       "0         0      0   no reaction\n",
       "1         0      1         scold\n",
       "2         1      0        praise\n",
       "3         0      0   no reaction\n",
       "4         0      0   no reaction\n",
       "..      ...    ...           ...\n",
       "495       0      0   no reaction\n",
       "496       0      0   no reaction\n",
       "497       1      0        praise\n",
       "498       0      0   no reaction\n",
       "499       0      0   no reaction\n",
       "\n",
       "[500 rows x 3 columns]"
      ]
     },
     "execution_count": 118,
     "metadata": {},
     "output_type": "execute_result"
    }
   ],
   "source": [
    "df[['praise', 'scold','reinforcement']]"
   ]
  },
  {
   "cell_type": "code",
   "execution_count": 119,
   "id": "1e4ad6f8",
   "metadata": {
    "execution": {
     "iopub.execute_input": "2021-05-13T01:00:53.513578Z",
     "iopub.status.busy": "2021-05-13T01:00:53.513405Z",
     "iopub.status.idle": "2021-05-13T01:00:53.517232Z",
     "shell.execute_reply": "2021-05-13T01:00:53.516670Z",
     "shell.execute_reply.started": "2021-05-13T01:00:53.513558Z"
    },
    "tags": []
   },
   "outputs": [
    {
     "data": {
      "text/plain": [
       "84"
      ]
     },
     "execution_count": 119,
     "metadata": {},
     "output_type": "execute_result"
    }
   ],
   "source": [
    "sum(df['scold'])"
   ]
  },
  {
   "cell_type": "code",
   "execution_count": 120,
   "id": "df8c0061",
   "metadata": {
    "execution": {
     "iopub.execute_input": "2021-05-13T01:00:54.004066Z",
     "iopub.status.busy": "2021-05-13T01:00:54.003895Z",
     "iopub.status.idle": "2021-05-13T01:00:54.007788Z",
     "shell.execute_reply": "2021-05-13T01:00:54.007181Z",
     "shell.execute_reply.started": "2021-05-13T01:00:54.004048Z"
    },
    "tags": []
   },
   "outputs": [
    {
     "data": {
      "text/plain": [
       "80"
      ]
     },
     "execution_count": 120,
     "metadata": {},
     "output_type": "execute_result"
    }
   ],
   "source": [
    "sum(df['praise'])"
   ]
  },
  {
   "cell_type": "code",
   "execution_count": 121,
   "id": "b52a9e63",
   "metadata": {
    "execution": {
     "iopub.execute_input": "2021-05-13T01:00:54.454820Z",
     "iopub.status.busy": "2021-05-13T01:00:54.454182Z",
     "iopub.status.idle": "2021-05-13T01:00:54.640431Z",
     "shell.execute_reply": "2021-05-13T01:00:54.640050Z",
     "shell.execute_reply.started": "2021-05-13T01:00:54.454742Z"
    },
    "tags": []
   },
   "outputs": [
    {
     "data": {
      "text/plain": [
       "<matplotlib.axes._subplots.AxesSubplot at 0x7fcf1323cbe0>"
      ]
     },
     "execution_count": 121,
     "metadata": {},
     "output_type": "execute_result"
    },
    {
     "data": {
      "image/png": "[encoded data removed]",
      "text/plain": [
       "<Figure size 576x396 with 1 Axes>"
      ]
     },
     "metadata": {},
     "output_type": "display_data"
    }
   ],
   "source": [
    "sns.scatterplot(x = 'maneuver_1', y = 'maneuver_2', hue = 'reinforcement', data = df)"
   ]
  },
  {
   "cell_type": "code",
   "execution_count": 122,
   "id": "098a5eff",
   "metadata": {
    "execution": {
     "iopub.execute_input": "2021-05-13T01:00:55.399381Z",
     "iopub.status.busy": "2021-05-13T01:00:55.399213Z",
     "iopub.status.idle": "2021-05-13T01:00:55.405584Z",
     "shell.execute_reply": "2021-05-13T01:00:55.405033Z",
     "shell.execute_reply.started": "2021-05-13T01:00:55.399362Z"
    },
    "tags": []
   },
   "outputs": [
    {
     "data": {
      "text/plain": [
       "-0.031923422283624735"
      ]
     },
     "execution_count": 122,
     "metadata": {},
     "output_type": "execute_result"
    }
   ],
   "source": [
    "no_reaction = df.query(\"reinforcement == 'no reaction'\").copy()\n",
    "np.mean(no_reaction['maneuver_2'] - no_reaction['maneuver_1'])"
   ]
  },
  {
   "cell_type": "code",
   "execution_count": 123,
   "id": "ecb5e241",
   "metadata": {
    "execution": {
     "iopub.execute_input": "2021-05-13T01:00:56.092415Z",
     "iopub.status.busy": "2021-05-13T01:00:56.092246Z",
     "iopub.status.idle": "2021-05-13T01:00:56.098498Z",
     "shell.execute_reply": "2021-05-13T01:00:56.097996Z",
     "shell.execute_reply.started": "2021-05-13T01:00:56.092395Z"
    },
    "tags": []
   },
   "outputs": [
    {
     "data": {
      "text/plain": [
       "-0.9122267020953654"
      ]
     },
     "execution_count": 123,
     "metadata": {},
     "output_type": "execute_result"
    }
   ],
   "source": [
    "praise = df.query(\"reinforcement == 'praise'\").copy()\n",
    "np.mean(praise['maneuver_2'] - praise['maneuver_1'])"
   ]
  },
  {
   "cell_type": "code",
   "execution_count": 124,
   "id": "d8fc9c76",
   "metadata": {
    "execution": {
     "iopub.execute_input": "2021-05-13T01:00:57.292369Z",
     "iopub.status.busy": "2021-05-13T01:00:57.292198Z",
     "iopub.status.idle": "2021-05-13T01:00:57.298355Z",
     "shell.execute_reply": "2021-05-13T01:00:57.297847Z",
     "shell.execute_reply.started": "2021-05-13T01:00:57.292350Z"
    },
    "tags": []
   },
   "outputs": [
    {
     "data": {
      "text/plain": [
       "0.4669263843486379"
      ]
     },
     "execution_count": 124,
     "metadata": {},
     "output_type": "execute_result"
    }
   ],
   "source": [
    "scold = df.query(\"reinforcement == 'scold'\").copy()\n",
    "np.mean(scold['maneuver_2'] - scold['maneuver_1'])"
   ]
  },
  {
   "cell_type": "markdown",
   "id": "5f7fe504",
   "metadata": {},
   "source": [
    "This is again, the result of `regression to the mean`. The true ability of the pilots did not change, but there were variations added. The pilots who are indeed above average (praise) group must have also gotten \"lucky\" with the variation to be exceptionally good in the first maneuver. So they would still perform better than average on the second maneuver, but worse than the first one; Similarly, the pilots who are worse than avearge in true ability also needs to be unlucky to get scolded on the first maneuver to score so low, and therefore in the second one, they are more likely to go towards the mean."
   ]
  },
  {
   "cell_type": "code",
   "execution_count": null,
   "id": "d1de5de8",
   "metadata": {},
   "outputs": [],
   "source": []
  }
 ],
 "metadata": {
  "kernelspec": {
   "display_name": "Python [conda env:ros]",
   "language": "python",
   "name": "conda-env-ros-py"
  },
  "language_info": {
   "codemirror_mode": {
    "name": "ipython",
    "version": 3
   },
   "file_extension": ".py",
   "mimetype": "text/x-python",
   "name": "python",
   "nbconvert_exporter": "python",
   "pygments_lexer": "ipython3",
   "version": "3.8.8"
  }
 },
 "nbformat": 4,
 "nbformat_minor": 5
}
