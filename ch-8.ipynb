{
 "cells": [
  {
   "cell_type": "code",
   "execution_count": 1,
   "id": "11532dc3",
   "metadata": {
    "execution": {
     "iopub.execute_input": "2021-05-30T17:20:06.611961Z",
     "iopub.status.busy": "2021-05-30T17:20:06.611209Z",
     "iopub.status.idle": "2021-05-30T17:20:07.083961Z",
     "shell.execute_reply": "2021-05-30T17:20:07.083490Z",
     "shell.execute_reply.started": "2021-05-30T17:20:06.611769Z"
    },
    "tags": []
   },
   "outputs": [],
   "source": [
    "import pandas as pd\n",
    "import numpy as np\n",
    "import matplotlib.pyplot as plt\n",
    "import seaborn as sns\n",
    "\n",
    "import scipy.stats as stats"
   ]
  },
  {
   "cell_type": "code",
   "execution_count": 2,
   "id": "dcf2ca8a",
   "metadata": {
    "execution": {
     "iopub.execute_input": "2021-05-30T17:20:07.084673Z",
     "iopub.status.busy": "2021-05-30T17:20:07.084556Z",
     "iopub.status.idle": "2021-05-30T17:20:07.249095Z",
     "shell.execute_reply": "2021-05-30T17:20:07.248609Z",
     "shell.execute_reply.started": "2021-05-30T17:20:07.084659Z"
    },
    "tags": []
   },
   "outputs": [],
   "source": [
    "import statsmodels.api as sm\n",
    "import statsmodels.formula.api as smf"
   ]
  },
  {
   "cell_type": "code",
   "execution_count": 3,
   "id": "4ca1f4eb",
   "metadata": {
    "execution": {
     "iopub.execute_input": "2021-05-30T17:20:07.250043Z",
     "iopub.status.busy": "2021-05-30T17:20:07.249840Z",
     "iopub.status.idle": "2021-05-30T17:20:07.252604Z",
     "shell.execute_reply": "2021-05-30T17:20:07.252101Z",
     "shell.execute_reply.started": "2021-05-30T17:20:07.250026Z"
    },
    "tags": []
   },
   "outputs": [],
   "source": [
    "plt.style.use('seaborn-notebook')\n",
    "plt.style.use('ggplot')"
   ]
  },
  {
   "cell_type": "code",
   "execution_count": 4,
   "id": "fb36c240",
   "metadata": {
    "execution": {
     "iopub.execute_input": "2021-05-30T17:20:07.253685Z",
     "iopub.status.busy": "2021-05-30T17:20:07.253461Z",
     "iopub.status.idle": "2021-05-30T17:20:07.881058Z",
     "shell.execute_reply": "2021-05-30T17:20:07.880553Z",
     "shell.execute_reply.started": "2021-05-30T17:20:07.253657Z"
    },
    "tags": []
   },
   "outputs": [],
   "source": [
    "import pymc3 as pm"
   ]
  },
  {
   "cell_type": "markdown",
   "id": "526e4bd9",
   "metadata": {},
   "source": [
    "# Note on using `PyMC3` as opposed to `statsmodels`\n",
    "\n",
    "This chapters talks about the difference between `stan-glm` and `glm` in R, which finally revealed why when I was using `statsmodels` in the previous chapters, the standard errors are slightly off from the book: `statsmodel` uses classical fitting, whereas `stan-glm` uses Bayesian fitting and the \"errors\" were shown as `MAD_sd`. We will try to use `pyMC3` as the closest python relative in this notebook, and for the question that compares `stan-glm` to `glm`, we will be using `statsmodels` vs `pymc3`"
   ]
  },
  {
   "cell_type": "markdown",
   "id": "c67ade7a",
   "metadata": {},
   "source": [
    "# 8.1 Least Squares"
   ]
  },
  {
   "cell_type": "code",
   "execution_count": 5,
   "id": "5e67b639",
   "metadata": {
    "execution": {
     "iopub.execute_input": "2021-05-30T17:20:07.881941Z",
     "iopub.status.busy": "2021-05-30T17:20:07.881776Z",
     "iopub.status.idle": "2021-05-30T17:20:07.887070Z",
     "shell.execute_reply": "2021-05-30T17:20:07.886542Z",
     "shell.execute_reply.started": "2021-05-30T17:20:07.881924Z"
    },
    "tags": []
   },
   "outputs": [],
   "source": [
    "data = pd.read_csv('../ROS-Examples/ElectionsEconomy/data/hibbs.dat', sep=' ')"
   ]
  },
  {
   "cell_type": "code",
   "execution_count": 6,
   "id": "c6fb3b23",
   "metadata": {
    "execution": {
     "iopub.execute_input": "2021-05-30T17:20:08.056265Z",
     "iopub.status.busy": "2021-05-30T17:20:08.055312Z",
     "iopub.status.idle": "2021-05-30T17:20:08.084386Z",
     "shell.execute_reply": "2021-05-30T17:20:08.083579Z",
     "shell.execute_reply.started": "2021-05-30T17:20:08.056187Z"
    },
    "tags": []
   },
   "outputs": [
    {
     "data": {
      "text/html": [
       "<div>\n",
       "<style scoped>\n",
       "    .dataframe tbody tr th:only-of-type {\n",
       "        vertical-align: middle;\n",
       "    }\n",
       "\n",
       "    .dataframe tbody tr th {\n",
       "        vertical-align: top;\n",
       "    }\n",
       "\n",
       "    .dataframe thead th {\n",
       "        text-align: right;\n",
       "    }\n",
       "</style>\n",
       "<table border=\"1\" class=\"dataframe\">\n",
       "  <thead>\n",
       "    <tr style=\"text-align: right;\">\n",
       "      <th></th>\n",
       "      <th>year</th>\n",
       "      <th>growth</th>\n",
       "      <th>vote</th>\n",
       "      <th>inc_party_candidate</th>\n",
       "      <th>other_candidate</th>\n",
       "    </tr>\n",
       "  </thead>\n",
       "  <tbody>\n",
       "    <tr>\n",
       "      <th>0</th>\n",
       "      <td>1952</td>\n",
       "      <td>2.40</td>\n",
       "      <td>44.60</td>\n",
       "      <td>Stevenson</td>\n",
       "      <td>Eisenhower</td>\n",
       "    </tr>\n",
       "    <tr>\n",
       "      <th>1</th>\n",
       "      <td>1956</td>\n",
       "      <td>2.89</td>\n",
       "      <td>57.76</td>\n",
       "      <td>Eisenhower</td>\n",
       "      <td>Stevenson</td>\n",
       "    </tr>\n",
       "    <tr>\n",
       "      <th>2</th>\n",
       "      <td>1960</td>\n",
       "      <td>0.85</td>\n",
       "      <td>49.91</td>\n",
       "      <td>Nixon</td>\n",
       "      <td>Kennedy</td>\n",
       "    </tr>\n",
       "    <tr>\n",
       "      <th>3</th>\n",
       "      <td>1964</td>\n",
       "      <td>4.21</td>\n",
       "      <td>61.34</td>\n",
       "      <td>Johnson</td>\n",
       "      <td>Goldwater</td>\n",
       "    </tr>\n",
       "    <tr>\n",
       "      <th>4</th>\n",
       "      <td>1968</td>\n",
       "      <td>3.02</td>\n",
       "      <td>49.60</td>\n",
       "      <td>Humphrey</td>\n",
       "      <td>Nixon</td>\n",
       "    </tr>\n",
       "  </tbody>\n",
       "</table>\n",
       "</div>"
      ],
      "text/plain": [
       "   year  growth   vote inc_party_candidate other_candidate\n",
       "0  1952    2.40  44.60           Stevenson      Eisenhower\n",
       "1  1956    2.89  57.76          Eisenhower       Stevenson\n",
       "2  1960    0.85  49.91               Nixon         Kennedy\n",
       "3  1964    4.21  61.34             Johnson       Goldwater\n",
       "4  1968    3.02  49.60            Humphrey           Nixon"
      ]
     },
     "execution_count": 6,
     "metadata": {},
     "output_type": "execute_result"
    }
   ],
   "source": [
    "data.head()"
   ]
  },
  {
   "cell_type": "code",
   "execution_count": 7,
   "id": "4c75cb05",
   "metadata": {
    "execution": {
     "iopub.execute_input": "2021-05-30T17:20:08.248156Z",
     "iopub.status.busy": "2021-05-30T17:20:08.247503Z",
     "iopub.status.idle": "2021-05-30T17:20:08.257292Z",
     "shell.execute_reply": "2021-05-30T17:20:08.255299Z",
     "shell.execute_reply.started": "2021-05-30T17:20:08.248081Z"
    },
    "tags": []
   },
   "outputs": [],
   "source": [
    "def rss(x,y,a,b):\n",
    "    resid = y-(a+b*x)\n",
    "    return sum(np.power(resid,2))"
   ]
  },
  {
   "cell_type": "code",
   "execution_count": 8,
   "id": "6bbfe917",
   "metadata": {
    "execution": {
     "iopub.execute_input": "2021-05-30T17:20:08.462170Z",
     "iopub.status.busy": "2021-05-30T17:20:08.461484Z",
     "iopub.status.idle": "2021-05-30T17:20:08.470313Z",
     "shell.execute_reply": "2021-05-30T17:20:08.468245Z",
     "shell.execute_reply.started": "2021-05-30T17:20:08.462092Z"
    },
    "tags": []
   },
   "outputs": [],
   "source": [
    "a_fixed = 46.3 # a is intercept \n",
    "b_fixed = 3 #b is slope"
   ]
  },
  {
   "cell_type": "code",
   "execution_count": 9,
   "id": "323ee6e4",
   "metadata": {
    "execution": {
     "iopub.execute_input": "2021-05-30T17:20:08.675680Z",
     "iopub.status.busy": "2021-05-30T17:20:08.675024Z",
     "iopub.status.idle": "2021-05-30T17:20:08.684094Z",
     "shell.execute_reply": "2021-05-30T17:20:08.682040Z",
     "shell.execute_reply.started": "2021-05-30T17:20:08.675606Z"
    },
    "tags": []
   },
   "outputs": [],
   "source": [
    "x = data['growth']\n",
    "y = data['vote']"
   ]
  },
  {
   "cell_type": "code",
   "execution_count": 10,
   "id": "6f0dba61",
   "metadata": {
    "execution": {
     "iopub.execute_input": "2021-05-30T17:20:09.093358Z",
     "iopub.status.busy": "2021-05-30T17:20:09.093187Z",
     "iopub.status.idle": "2021-05-30T17:20:09.131890Z",
     "shell.execute_reply": "2021-05-30T17:20:09.131356Z",
     "shell.execute_reply.started": "2021-05-30T17:20:09.093341Z"
    },
    "tags": []
   },
   "outputs": [],
   "source": [
    "a_free_rss = []\n",
    "for a in np.linspace(20,80,100):\n",
    "    a_free_rss.append(rss(x,y,a,b_fixed))"
   ]
  },
  {
   "cell_type": "code",
   "execution_count": 11,
   "id": "6bcf4d0b",
   "metadata": {
    "execution": {
     "iopub.execute_input": "2021-05-30T17:20:09.317199Z",
     "iopub.status.busy": "2021-05-30T17:20:09.316569Z",
     "iopub.status.idle": "2021-05-30T17:20:09.452263Z",
     "shell.execute_reply": "2021-05-30T17:20:09.451825Z",
     "shell.execute_reply.started": "2021-05-30T17:20:09.317125Z"
    },
    "tags": []
   },
   "outputs": [
    {
     "data": {
      "text/plain": [
       "<matplotlib.collections.PathCollection at 0x7f7b64925250>"
      ]
     },
     "execution_count": 11,
     "metadata": {},
     "output_type": "execute_result"
    },
    {
     "data": {
      "image/png": "[encoded data removed]",
      "text/plain": [
       "<Figure size 576x396 with 1 Axes>"
      ]
     },
     "metadata": {},
     "output_type": "display_data"
    }
   ],
   "source": [
    "plt.scatter(np.linspace(20,80,100), a_free_rss)"
   ]
  },
  {
   "cell_type": "code",
   "execution_count": 12,
   "id": "5c5b4ec9",
   "metadata": {
    "execution": {
     "iopub.execute_input": "2021-05-30T17:20:09.541176Z",
     "iopub.status.busy": "2021-05-30T17:20:09.540539Z",
     "iopub.status.idle": "2021-05-30T17:20:09.606314Z",
     "shell.execute_reply": "2021-05-30T17:20:09.605783Z",
     "shell.execute_reply.started": "2021-05-30T17:20:09.541100Z"
    },
    "tags": []
   },
   "outputs": [],
   "source": [
    "b_free_rss = []\n",
    "for b in np.linspace(1,10,100):\n",
    "    b_free_rss.append(rss(x,y,a_fixed,b))"
   ]
  },
  {
   "cell_type": "code",
   "execution_count": 13,
   "id": "d147f0c0",
   "metadata": {
    "execution": {
     "iopub.execute_input": "2021-05-30T17:20:09.762554Z",
     "iopub.status.busy": "2021-05-30T17:20:09.761923Z",
     "iopub.status.idle": "2021-05-30T17:20:09.879945Z",
     "shell.execute_reply": "2021-05-30T17:20:09.879475Z",
     "shell.execute_reply.started": "2021-05-30T17:20:09.762479Z"
    },
    "tags": []
   },
   "outputs": [
    {
     "data": {
      "text/plain": [
       "<matplotlib.collections.PathCollection at 0x7f7b648c5160>"
      ]
     },
     "execution_count": 13,
     "metadata": {},
     "output_type": "execute_result"
    },
    {
     "data": {
      "image/png": "[encoded data removed]",
      "text/plain": [
       "<Figure size 576x396 with 1 Axes>"
      ]
     },
     "metadata": {},
     "output_type": "display_data"
    }
   ],
   "source": [
    "plt.scatter(np.linspace(1,10,100), b_free_rss)"
   ]
  },
  {
   "cell_type": "markdown",
   "id": "ff76be3e",
   "metadata": {},
   "source": [
    "# 8.2 Maximum Likelihood"
   ]
  },
  {
   "cell_type": "code",
   "execution_count": 14,
   "id": "e16ad31b",
   "metadata": {
    "execution": {
     "iopub.execute_input": "2021-05-30T17:20:10.192097Z",
     "iopub.status.busy": "2021-05-30T17:20:10.191893Z",
     "iopub.status.idle": "2021-05-30T17:20:10.195539Z",
     "shell.execute_reply": "2021-05-30T17:20:10.194869Z",
     "shell.execute_reply.started": "2021-05-30T17:20:10.192075Z"
    },
    "tags": []
   },
   "outputs": [],
   "source": [
    "def rss_lh(x,y,a,b,sigma):\n",
    "    p = np.sum(-1/2*np.power((y-(a+b*x))/sigma,2)-np.log(sigma))    \n",
    "    return p"
   ]
  },
  {
   "cell_type": "code",
   "execution_count": 15,
   "id": "3f80a3a4",
   "metadata": {
    "execution": {
     "iopub.execute_input": "2021-05-30T17:20:10.422904Z",
     "iopub.status.busy": "2021-05-30T17:20:10.422278Z",
     "iopub.status.idle": "2021-05-30T17:20:10.690804Z",
     "shell.execute_reply": "2021-05-30T17:20:10.690378Z",
     "shell.execute_reply.started": "2021-05-30T17:20:10.422830Z"
    },
    "tags": []
   },
   "outputs": [
    {
     "data": {
      "text/plain": [
       "3.521737852254197"
      ]
     },
     "execution_count": 15,
     "metadata": {},
     "output_type": "execute_result"
    }
   ],
   "source": [
    "sigma_true = np.sqrt(1/len(x)*np.sum(np.power(y-(a_fixed+b_fixed*x),2)))\n",
    "sigma_true"
   ]
  },
  {
   "cell_type": "code",
   "execution_count": 16,
   "id": "37d105ba",
   "metadata": {
    "execution": {
     "iopub.execute_input": "2021-05-30T17:20:10.691681Z",
     "iopub.status.busy": "2021-05-30T17:20:10.691550Z",
     "iopub.status.idle": "2021-05-30T17:20:10.795289Z",
     "shell.execute_reply": "2021-05-30T17:20:10.793202Z",
     "shell.execute_reply.started": "2021-05-30T17:20:10.691665Z"
    },
    "tags": []
   },
   "outputs": [
    {
     "data": {
      "text/plain": [
       "3.764896128333803"
      ]
     },
     "execution_count": 16,
     "metadata": {},
     "output_type": "execute_result"
    }
   ],
   "source": [
    "sigma_classic = np.sqrt(1/(len(x)-2)*np.sum(np.power(y-(a_fixed+b_fixed*x),2)))\n",
    "sigma_classic"
   ]
  },
  {
   "cell_type": "code",
   "execution_count": 17,
   "id": "377ec00f",
   "metadata": {
    "execution": {
     "iopub.execute_input": "2021-05-30T17:20:10.867488Z",
     "iopub.status.busy": "2021-05-30T17:20:10.867303Z",
     "iopub.status.idle": "2021-05-30T17:20:11.639631Z",
     "shell.execute_reply": "2021-05-30T17:20:11.639219Z",
     "shell.execute_reply.started": "2021-05-30T17:20:10.867468Z"
    },
    "tags": []
   },
   "outputs": [
    {
     "data": {
      "text/plain": [
       "<matplotlib.collections.PathCollection at 0x7f7b6482b430>"
      ]
     },
     "execution_count": 17,
     "metadata": {},
     "output_type": "execute_result"
    },
    {
     "data": {
      "image/png": "[encoded data removed]",
      "text/plain": [
       "<Figure size 576x396 with 1 Axes>"
      ]
     },
     "metadata": {},
     "output_type": "display_data"
    }
   ],
   "source": [
    "sample_space = np.linspace(20,80,1000)\n",
    "a_free_rss = []\n",
    "for a in sample_space:\n",
    "    a_free_rss.append(rss_lh(x,y,a,b_fixed,sigma_true))\n",
    "plt.scatter(sample_space, a_free_rss)"
   ]
  },
  {
   "cell_type": "code",
   "execution_count": 18,
   "id": "174a38f5",
   "metadata": {
    "execution": {
     "iopub.execute_input": "2021-05-30T17:20:11.640427Z",
     "iopub.status.busy": "2021-05-30T17:20:11.640268Z",
     "iopub.status.idle": "2021-05-30T17:20:12.101815Z",
     "shell.execute_reply": "2021-05-30T17:20:12.101393Z",
     "shell.execute_reply.started": "2021-05-30T17:20:11.640411Z"
    },
    "tags": []
   },
   "outputs": [
    {
     "data": {
      "text/plain": [
       "<matplotlib.collections.PathCollection at 0x7f7b64805f10>"
      ]
     },
     "execution_count": 18,
     "metadata": {},
     "output_type": "execute_result"
    },
    {
     "data": {
      "image/png": "[encoded data removed]",
      "text/plain": [
       "<Figure size 576x396 with 1 Axes>"
      ]
     },
     "metadata": {},
     "output_type": "display_data"
    }
   ],
   "source": [
    "sample_space = np.linspace(0,10,100)\n",
    "b_free_rss = []\n",
    "for b in sample_space:\n",
    "    b_free_rss.append(rss_lh(x,y,a_fixed,b,sigma_true))\n",
    "plt.scatter(sample_space, b_free_rss)"
   ]
  },
  {
   "cell_type": "code",
   "execution_count": 19,
   "id": "79415d44",
   "metadata": {
    "execution": {
     "iopub.execute_input": "2021-05-30T17:20:12.102796Z",
     "iopub.status.busy": "2021-05-30T17:20:12.102651Z",
     "iopub.status.idle": "2021-05-30T17:20:12.266974Z",
     "shell.execute_reply": "2021-05-30T17:20:12.266392Z",
     "shell.execute_reply.started": "2021-05-30T17:20:12.102779Z"
    },
    "tags": []
   },
   "outputs": [
    {
     "data": {
      "text/plain": [
       "<matplotlib.collections.PathCollection at 0x7f7b6476c2b0>"
      ]
     },
     "execution_count": 19,
     "metadata": {},
     "output_type": "execute_result"
    },
    {
     "data": {
      "image/png": "[encoded data removed]",
      "text/plain": [
       "<Figure size 576x396 with 1 Axes>"
      ]
     },
     "metadata": {},
     "output_type": "display_data"
    }
   ],
   "source": [
    "sample_space = np.linspace(1,6,100)\n",
    "sigma_free_rss = []\n",
    "for sigma in sample_space:\n",
    "    sigma_free_rss.append(rss_lh(x,y,a_fixed,b_fixed,sigma))\n",
    "plt.scatter(sample_space, sigma_free_rss)"
   ]
  },
  {
   "cell_type": "markdown",
   "id": "22ab8675",
   "metadata": {},
   "source": [
    "# 8.3 Least Absolute deviation"
   ]
  },
  {
   "cell_type": "code",
   "execution_count": 20,
   "id": "89a62404",
   "metadata": {
    "execution": {
     "iopub.execute_input": "2021-05-30T17:20:12.267824Z",
     "iopub.status.busy": "2021-05-30T17:20:12.267672Z",
     "iopub.status.idle": "2021-05-30T17:20:12.931981Z",
     "shell.execute_reply": "2021-05-30T17:20:12.930056Z",
     "shell.execute_reply.started": "2021-05-30T17:20:12.267806Z"
    },
    "tags": []
   },
   "outputs": [],
   "source": [
    "def rss_abs(x,y,a,b):\n",
    "    resid = y-(a+b*x)\n",
    "    return sum(np.abs(resid))"
   ]
  },
  {
   "cell_type": "code",
   "execution_count": 21,
   "id": "76dc3ccb",
   "metadata": {
    "execution": {
     "iopub.execute_input": "2021-05-30T17:20:12.935259Z",
     "iopub.status.busy": "2021-05-30T17:20:12.934646Z",
     "iopub.status.idle": "2021-05-30T17:20:13.416784Z",
     "shell.execute_reply": "2021-05-30T17:20:13.416286Z",
     "shell.execute_reply.started": "2021-05-30T17:20:12.935186Z"
    },
    "tags": []
   },
   "outputs": [
    {
     "data": {
      "text/plain": [
       "<matplotlib.collections.PathCollection at 0x7f7b646cfac0>"
      ]
     },
     "execution_count": 21,
     "metadata": {},
     "output_type": "execute_result"
    },
    {
     "data": {
      "image/png": "[encoded data removed]",
      "text/plain": [
       "<Figure size 576x396 with 1 Axes>"
      ]
     },
     "metadata": {},
     "output_type": "display_data"
    }
   ],
   "source": [
    "sample_space = np.linspace(20,80,1000)\n",
    "a_free_rss = []\n",
    "for a in sample_space:\n",
    "    a_free_rss.append(rss_abs(x,y,a,b_fixed))\n",
    "plt.scatter(sample_space, a_free_rss)"
   ]
  },
  {
   "cell_type": "code",
   "execution_count": 22,
   "id": "8c613a2d",
   "metadata": {
    "execution": {
     "iopub.execute_input": "2021-05-30T17:20:13.417824Z",
     "iopub.status.busy": "2021-05-30T17:20:13.417671Z",
     "iopub.status.idle": "2021-05-30T17:20:13.421041Z",
     "shell.execute_reply": "2021-05-30T17:20:13.420595Z",
     "shell.execute_reply.started": "2021-05-30T17:20:13.417800Z"
    },
    "tags": []
   },
   "outputs": [
    {
     "data": {
      "text/plain": [
       "41.35999999999999"
      ]
     },
     "execution_count": 22,
     "metadata": {},
     "output_type": "execute_result"
    }
   ],
   "source": [
    "min(a_free_rss)"
   ]
  },
  {
   "cell_type": "code",
   "execution_count": 23,
   "id": "554b43d5",
   "metadata": {
    "execution": {
     "iopub.execute_input": "2021-05-30T17:20:13.421959Z",
     "iopub.status.busy": "2021-05-30T17:20:13.421776Z",
     "iopub.status.idle": "2021-05-30T17:20:13.683604Z",
     "shell.execute_reply": "2021-05-30T17:20:13.682970Z",
     "shell.execute_reply.started": "2021-05-30T17:20:13.421942Z"
    },
    "tags": []
   },
   "outputs": [
    {
     "data": {
      "text/plain": [
       "<matplotlib.collections.PathCollection at 0x7f7b646a7c40>"
      ]
     },
     "execution_count": 23,
     "metadata": {},
     "output_type": "execute_result"
    },
    {
     "data": {
      "image/png": "[encoded data removed]",
      "text/plain": [
       "<Figure size 576x396 with 1 Axes>"
      ]
     },
     "metadata": {},
     "output_type": "display_data"
    }
   ],
   "source": [
    "sample_space = np.linspace(0,10,100)\n",
    "b_free_rss = []\n",
    "for b in sample_space:\n",
    "    b_free_rss.append(rss_abs(x,y,a_fixed,b))\n",
    "plt.scatter(sample_space, b_free_rss)"
   ]
  },
  {
   "cell_type": "code",
   "execution_count": 24,
   "id": "46825bcc",
   "metadata": {
    "execution": {
     "iopub.execute_input": "2021-05-30T17:20:13.684342Z",
     "iopub.status.busy": "2021-05-30T17:20:13.684191Z",
     "iopub.status.idle": "2021-05-30T17:20:13.687250Z",
     "shell.execute_reply": "2021-05-30T17:20:13.686799Z",
     "shell.execute_reply.started": "2021-05-30T17:20:13.684325Z"
    },
    "tags": []
   },
   "outputs": [
    {
     "data": {
      "text/plain": [
       "38.35333333333332"
      ]
     },
     "execution_count": 24,
     "metadata": {},
     "output_type": "execute_result"
    }
   ],
   "source": [
    "min(b_free_rss)"
   ]
  },
  {
   "cell_type": "markdown",
   "id": "763ffe7e",
   "metadata": {},
   "source": [
    "# 8.4 Least squares and least absolute deviatioon"
   ]
  },
  {
   "cell_type": "code",
   "execution_count": 25,
   "id": "6f6b50fe",
   "metadata": {
    "execution": {
     "iopub.execute_input": "2021-05-30T17:20:13.687912Z",
     "iopub.status.busy": "2021-05-30T17:20:13.687790Z",
     "iopub.status.idle": "2021-05-30T17:20:13.750727Z",
     "shell.execute_reply": "2021-05-30T17:20:13.750229Z",
     "shell.execute_reply.started": "2021-05-30T17:20:13.687896Z"
    },
    "tags": []
   },
   "outputs": [],
   "source": [
    "x = np.linspace(-10,10,100)\n",
    "y = np.power(x,2)"
   ]
  },
  {
   "cell_type": "code",
   "execution_count": 26,
   "id": "1bb8b093",
   "metadata": {
    "execution": {
     "iopub.execute_input": "2021-05-30T17:20:13.751520Z",
     "iopub.status.busy": "2021-05-30T17:20:13.751397Z",
     "iopub.status.idle": "2021-05-30T17:20:14.405125Z",
     "shell.execute_reply": "2021-05-30T17:20:14.404655Z",
     "shell.execute_reply.started": "2021-05-30T17:20:13.751505Z"
    },
    "tags": []
   },
   "outputs": [
    {
     "data": {
      "text/plain": [
       "<matplotlib.collections.PathCollection at 0x7f7b64683970>"
      ]
     },
     "execution_count": 26,
     "metadata": {},
     "output_type": "execute_result"
    },
    {
     "data": {
      "image/png": "[encoded data removed]",
      "text/plain": [
       "<Figure size 576x396 with 1 Axes>"
      ]
     },
     "metadata": {},
     "output_type": "display_data"
    }
   ],
   "source": [
    "plt.scatter(x,y)"
   ]
  },
  {
   "cell_type": "code",
   "execution_count": 27,
   "id": "16d89296",
   "metadata": {
    "execution": {
     "iopub.execute_input": "2021-05-30T17:20:14.406083Z",
     "iopub.status.busy": "2021-05-30T17:20:14.405924Z",
     "iopub.status.idle": "2021-05-30T17:20:14.522405Z",
     "shell.execute_reply": "2021-05-30T17:20:14.521967Z",
     "shell.execute_reply.started": "2021-05-30T17:20:14.406053Z"
    },
    "tags": []
   },
   "outputs": [
    {
     "data": {
      "text/plain": [
       "<matplotlib.collections.PathCollection at 0x7f7b646362b0>"
      ]
     },
     "execution_count": 27,
     "metadata": {},
     "output_type": "execute_result"
    },
    {
     "data": {
      "image/png": "[encoded data removed]",
      "text/plain": [
       "<Figure size 576x396 with 1 Axes>"
      ]
     },
     "metadata": {},
     "output_type": "display_data"
    }
   ],
   "source": [
    "sample_space = np.linspace(10,80,1000)\n",
    "a_free_rss = []\n",
    "for a in sample_space:\n",
    "    a_free_rss.append(rss_abs(x,y,a,b_fixed))\n",
    "plt.scatter(sample_space, a_free_rss)"
   ]
  },
  {
   "cell_type": "code",
   "execution_count": 28,
   "id": "a077ec40",
   "metadata": {
    "execution": {
     "iopub.execute_input": "2021-05-30T17:20:14.523283Z",
     "iopub.status.busy": "2021-05-30T17:20:14.523149Z",
     "iopub.status.idle": "2021-05-30T17:20:14.640247Z",
     "shell.execute_reply": "2021-05-30T17:20:14.639860Z",
     "shell.execute_reply.started": "2021-05-30T17:20:14.523265Z"
    },
    "tags": []
   },
   "outputs": [
    {
     "data": {
      "text/plain": [
       "<matplotlib.collections.PathCollection at 0x7f7b645b3e80>"
      ]
     },
     "execution_count": 28,
     "metadata": {},
     "output_type": "execute_result"
    },
    {
     "data": {
      "image/png": "[encoded data removed]",
      "text/plain": [
       "<Figure size 576x396 with 1 Axes>"
      ]
     },
     "metadata": {},
     "output_type": "display_data"
    }
   ],
   "source": [
    "sample_space = np.linspace(10,80,1000)\n",
    "a_free_rss = []\n",
    "for a in sample_space:\n",
    "    a_free_rss.append(rss(x,y,a,b_fixed))\n",
    "plt.scatter(sample_space, a_free_rss)"
   ]
  },
  {
   "cell_type": "markdown",
   "id": "489fd70f",
   "metadata": {},
   "source": [
    "Basically, if the model is not linear...if it is linear the two agrees"
   ]
  },
  {
   "cell_type": "markdown",
   "id": "715af630",
   "metadata": {},
   "source": [
    "Okay maybe let's try big errors"
   ]
  },
  {
   "cell_type": "code",
   "execution_count": 29,
   "id": "0f672c55",
   "metadata": {
    "execution": {
     "iopub.execute_input": "2021-05-30T17:21:14.794822Z",
     "iopub.status.busy": "2021-05-30T17:21:14.794471Z",
     "iopub.status.idle": "2021-05-30T17:21:14.800205Z",
     "shell.execute_reply": "2021-05-30T17:21:14.799069Z",
     "shell.execute_reply.started": "2021-05-30T17:21:14.794781Z"
    },
    "tags": []
   },
   "outputs": [],
   "source": [
    "x = np.linspace(-10,10,100)\n",
    "y = 5*x+6+np.random.normal(0, 10, 100)"
   ]
  },
  {
   "cell_type": "code",
   "execution_count": 30,
   "id": "51c6d804",
   "metadata": {
    "execution": {
     "iopub.execute_input": "2021-05-30T17:21:15.001106Z",
     "iopub.status.busy": "2021-05-30T17:21:15.000468Z",
     "iopub.status.idle": "2021-05-30T17:21:16.085735Z",
     "shell.execute_reply": "2021-05-30T17:21:16.085176Z",
     "shell.execute_reply.started": "2021-05-30T17:21:15.001030Z"
    },
    "tags": []
   },
   "outputs": [
    {
     "data": {
      "text/plain": [
       "<matplotlib.collections.PathCollection at 0x7f7b647cf280>"
      ]
     },
     "execution_count": 30,
     "metadata": {},
     "output_type": "execute_result"
    },
    {
     "data": {
      "image/png": "[encoded data removed]",
      "text/plain": [
       "<Figure size 576x396 with 1 Axes>"
      ]
     },
     "metadata": {},
     "output_type": "display_data"
    }
   ],
   "source": [
    "sample_space = np.linspace(1,10,1000)\n",
    "a_free_rss = []\n",
    "for a in sample_space:\n",
    "    a_free_rss.append(rss_abs(x,y,a,5))\n",
    "plt.scatter(sample_space, a_free_rss)"
   ]
  },
  {
   "cell_type": "code",
   "execution_count": 31,
   "id": "d3b390e2",
   "metadata": {
    "execution": {
     "iopub.execute_input": "2021-05-30T17:21:16.086733Z",
     "iopub.status.busy": "2021-05-30T17:21:16.086580Z",
     "iopub.status.idle": "2021-05-30T17:21:16.202688Z",
     "shell.execute_reply": "2021-05-30T17:21:16.202270Z",
     "shell.execute_reply.started": "2021-05-30T17:21:16.086716Z"
    },
    "tags": []
   },
   "outputs": [
    {
     "data": {
      "text/plain": [
       "<matplotlib.collections.PathCollection at 0x7f7b6476ce80>"
      ]
     },
     "execution_count": 31,
     "metadata": {},
     "output_type": "execute_result"
    },
    {
     "data": {
      "image/png": "[encoded data removed]",
      "text/plain": [
       "<Figure size 576x396 with 1 Axes>"
      ]
     },
     "metadata": {},
     "output_type": "display_data"
    }
   ],
   "source": [
    "sample_space = np.linspace(1,10,1000)\n",
    "a_free_rss = []\n",
    "for a in sample_space:\n",
    "    a_free_rss.append(rss(x,y,a,5))\n",
    "plt.scatter(sample_space, a_free_rss)"
   ]
  },
  {
   "cell_type": "code",
   "execution_count": 32,
   "id": "d79b72de",
   "metadata": {
    "execution": {
     "iopub.execute_input": "2021-05-30T17:21:16.203539Z",
     "iopub.status.busy": "2021-05-30T17:21:16.203403Z",
     "iopub.status.idle": "2021-05-30T17:21:16.313877Z",
     "shell.execute_reply": "2021-05-30T17:21:16.305795Z",
     "shell.execute_reply.started": "2021-05-30T17:21:16.203523Z"
    },
    "tags": []
   },
   "outputs": [
    {
     "data": {
      "text/plain": [
       "<matplotlib.collections.PathCollection at 0x7f7b64495340>"
      ]
     },
     "execution_count": 32,
     "metadata": {},
     "output_type": "execute_result"
    },
    {
     "data": {
      "image/png": "[encoded data removed]",
      "text/plain": [
       "<Figure size 576x396 with 1 Axes>"
      ]
     },
     "metadata": {},
     "output_type": "display_data"
    }
   ],
   "source": [
    "plt.scatter(x,y)"
   ]
  },
  {
   "cell_type": "markdown",
   "id": "dadf6030",
   "metadata": {},
   "source": [
    "essentially we need big errors, so influenced by outliers"
   ]
  },
  {
   "cell_type": "markdown",
   "id": "e3378a8e",
   "metadata": {},
   "source": [
    "# 8.5 influence of individual data points"
   ]
  },
  {
   "cell_type": "markdown",
   "id": "e7632c9a",
   "metadata": {},
   "source": [
    "Skipping due to writing on the book, but it would be the biggest away point on the far end"
   ]
  },
  {
   "cell_type": "markdown",
   "id": "b4503947",
   "metadata": {},
   "source": [
    "# 8.6 Influence of individual data points"
   ]
  },
  {
   "cell_type": "code",
   "execution_count": 33,
   "id": "84217732",
   "metadata": {
    "execution": {
     "iopub.execute_input": "2021-05-30T17:21:16.513881Z",
     "iopub.status.busy": "2021-05-30T17:21:16.513205Z",
     "iopub.status.idle": "2021-05-30T17:21:16.523074Z",
     "shell.execute_reply": "2021-05-30T17:21:16.520829Z",
     "shell.execute_reply.started": "2021-05-30T17:21:16.513778Z"
    },
    "tags": []
   },
   "outputs": [],
   "source": [
    "def influence_slope(x):\n",
    "    x_bar = np.mean(x)\n",
    "    return (x-x_bar)/np.sum(np.power(x-x_bar, 2))"
   ]
  },
  {
   "cell_type": "code",
   "execution_count": 34,
   "id": "3aecde6a",
   "metadata": {
    "execution": {
     "iopub.execute_input": "2021-05-30T17:21:16.724697Z",
     "iopub.status.busy": "2021-05-30T17:21:16.724059Z",
     "iopub.status.idle": "2021-05-30T17:21:16.732857Z",
     "shell.execute_reply": "2021-05-30T17:21:16.730733Z",
     "shell.execute_reply.started": "2021-05-30T17:21:16.724620Z"
    },
    "tags": []
   },
   "outputs": [],
   "source": [
    "x = data['growth']\n",
    "y = data['vote']"
   ]
  },
  {
   "cell_type": "code",
   "execution_count": 35,
   "id": "69e86523",
   "metadata": {
    "execution": {
     "iopub.execute_input": "2021-05-30T17:21:16.926403Z",
     "iopub.status.busy": "2021-05-30T17:21:16.926236Z",
     "iopub.status.idle": "2021-05-30T17:21:17.024355Z",
     "shell.execute_reply": "2021-05-30T17:21:17.023906Z",
     "shell.execute_reply.started": "2021-05-30T17:21:16.926385Z"
    },
    "tags": []
   },
   "outputs": [
    {
     "data": {
      "text/plain": [
       "<matplotlib.collections.PathCollection at 0x7f7b6447a5e0>"
      ]
     },
     "execution_count": 35,
     "metadata": {},
     "output_type": "execute_result"
    },
    {
     "data": {
      "image/png": "[encoded data removed]",
      "text/plain": [
       "<Figure size 576x396 with 1 Axes>"
      ]
     },
     "metadata": {},
     "output_type": "display_data"
    }
   ],
   "source": [
    "plt.scatter(x, influence_slope(x))"
   ]
  },
  {
   "cell_type": "code",
   "execution_count": 36,
   "id": "eb460b04",
   "metadata": {
    "execution": {
     "iopub.execute_input": "2021-05-30T17:21:17.137331Z",
     "iopub.status.busy": "2021-05-30T17:21:17.136670Z",
     "iopub.status.idle": "2021-05-30T17:21:17.249770Z",
     "shell.execute_reply": "2021-05-30T17:21:17.249403Z",
     "shell.execute_reply.started": "2021-05-30T17:21:17.137254Z"
    },
    "tags": []
   },
   "outputs": [
    {
     "name": "stdout",
     "output_type": "stream",
     "text": [
      "b_hat is 3.0777293592899007\n",
      "b_hat is 3.0945027710360815\n",
      "b_hat is 3.0246706078479004\n",
      "b_hat is 3.13968828839314\n",
      "b_hat is 3.098952859866701\n",
      "b_hat is 3.1194917313926354\n",
      "b_hat is 3.032543841932843\n",
      "b_hat is 2.9822236066943013\n",
      "b_hat is 3.12770728000301\n",
      "b_hat is 3.073279270459282\n",
      "b_hat is 3.008581825152585\n",
      "b_hat is 3.031174583831114\n",
      "b_hat is 3.076360101188172\n",
      "b_hat is 3.054451971560508\n",
      "b_hat is 2.998997018440482\n",
      "b_hat is 3.0280937531022243\n"
     ]
    }
   ],
   "source": [
    "# we will actually do least square, i.e. statsmodel\n",
    "b_hat = []\n",
    "for i in range (0, len(x)):\n",
    "    new_y = y.copy()\n",
    "    new_y[i] += 1\n",
    "    x_sm = sm.add_constant(x)\n",
    "    res = sm.GLM(new_y, x_sm).fit()\n",
    "    print(f\"b_hat is {res.params[1]}\")\n",
    "    b_hat.append(res.params[1])"
   ]
  },
  {
   "cell_type": "code",
   "execution_count": 37,
   "id": "c672ed68",
   "metadata": {
    "execution": {
     "iopub.execute_input": "2021-05-30T17:21:17.325396Z",
     "iopub.status.busy": "2021-05-30T17:21:17.325203Z",
     "iopub.status.idle": "2021-05-30T17:21:17.329938Z",
     "shell.execute_reply": "2021-05-30T17:21:17.329402Z",
     "shell.execute_reply.started": "2021-05-30T17:21:17.325376Z"
    },
    "tags": []
   },
   "outputs": [],
   "source": [
    "true_res = sm.GLM(y,x_sm).fit()"
   ]
  },
  {
   "cell_type": "code",
   "execution_count": 38,
   "id": "b805e32d",
   "metadata": {
    "execution": {
     "iopub.execute_input": "2021-05-30T17:21:17.558502Z",
     "iopub.status.busy": "2021-05-30T17:21:17.557856Z",
     "iopub.status.idle": "2021-05-30T17:21:17.574982Z",
     "shell.execute_reply": "2021-05-30T17:21:17.572838Z",
     "shell.execute_reply.started": "2021-05-30T17:21:17.558426Z"
    },
    "tags": []
   },
   "outputs": [],
   "source": [
    "b_true = sm.GLM(y,x_sm).fit().params[1]"
   ]
  },
  {
   "cell_type": "code",
   "execution_count": 39,
   "id": "17c7bcee",
   "metadata": {
    "execution": {
     "iopub.execute_input": "2021-05-30T17:21:17.768066Z",
     "iopub.status.busy": "2021-05-30T17:21:17.767432Z",
     "iopub.status.idle": "2021-05-30T17:21:17.779055Z",
     "shell.execute_reply": "2021-05-30T17:21:17.777039Z",
     "shell.execute_reply.started": "2021-05-30T17:21:17.767990Z"
    },
    "tags": []
   },
   "outputs": [
    {
     "data": {
      "text/plain": [
       "3.06052805438693"
      ]
     },
     "execution_count": 39,
     "metadata": {},
     "output_type": "execute_result"
    }
   ],
   "source": [
    "b_true"
   ]
  },
  {
   "cell_type": "code",
   "execution_count": 40,
   "id": "9c8fbed1",
   "metadata": {
    "execution": {
     "iopub.execute_input": "2021-05-30T17:21:18.030228Z",
     "iopub.status.busy": "2021-05-30T17:21:18.029536Z",
     "iopub.status.idle": "2021-05-30T17:21:18.042989Z",
     "shell.execute_reply": "2021-05-30T17:21:18.040773Z",
     "shell.execute_reply.started": "2021-05-30T17:21:18.030150Z"
    },
    "tags": []
   },
   "outputs": [
    {
     "data": {
      "text/plain": [
       "array([ 0.0172013 ,  0.03397472, -0.03585745,  0.07916023,  0.03842481,\n",
       "        0.05896368, -0.02798421, -0.07830445,  0.06717923,  0.01275122,\n",
       "       -0.05194623, -0.02935347,  0.01583205, -0.00607608, -0.06153104,\n",
       "       -0.0324343 ])"
      ]
     },
     "execution_count": 40,
     "metadata": {},
     "output_type": "execute_result"
    }
   ],
   "source": [
    "np.array(b_hat)-b_true"
   ]
  },
  {
   "cell_type": "code",
   "execution_count": 41,
   "id": "bdaf9d24",
   "metadata": {
    "execution": {
     "iopub.execute_input": "2021-05-30T17:21:18.378993Z",
     "iopub.status.busy": "2021-05-30T17:21:18.378363Z",
     "iopub.status.idle": "2021-05-30T17:21:18.395187Z",
     "shell.execute_reply": "2021-05-30T17:21:18.393152Z",
     "shell.execute_reply.started": "2021-05-30T17:21:18.378920Z"
    },
    "tags": []
   },
   "outputs": [
    {
     "data": {
      "text/plain": [
       "0     0.017201\n",
       "1     0.033975\n",
       "2    -0.035857\n",
       "3     0.079160\n",
       "4     0.038425\n",
       "5     0.058964\n",
       "6    -0.027984\n",
       "7    -0.078304\n",
       "8     0.067179\n",
       "9     0.012751\n",
       "10   -0.051946\n",
       "11   -0.029353\n",
       "12    0.015832\n",
       "13   -0.006076\n",
       "14   -0.061531\n",
       "15   -0.032434\n",
       "Name: growth, dtype: float64"
      ]
     },
     "execution_count": 41,
     "metadata": {},
     "output_type": "execute_result"
    }
   ],
   "source": [
    "influence_slope(x)"
   ]
  },
  {
   "cell_type": "code",
   "execution_count": 42,
   "id": "413950a0",
   "metadata": {
    "execution": {
     "iopub.execute_input": "2021-05-30T17:21:18.658741Z",
     "iopub.status.busy": "2021-05-30T17:21:18.658095Z",
     "iopub.status.idle": "2021-05-30T17:21:18.673079Z",
     "shell.execute_reply": "2021-05-30T17:21:18.671962Z",
     "shell.execute_reply.started": "2021-05-30T17:21:18.658665Z"
    },
    "tags": []
   },
   "outputs": [
    {
     "data": {
      "text/plain": [
       "0    -4.961309e-16\n",
       "1    -2.706169e-16\n",
       "2    -7.979728e-16\n",
       "3     2.775558e-16\n",
       "4    -2.775558e-17\n",
       "5    -1.235123e-15\n",
       "6    -1.595946e-16\n",
       "7     4.163336e-17\n",
       "8    -6.383782e-16\n",
       "9     1.457168e-16\n",
       "10   -2.289835e-16\n",
       "11    3.816392e-17\n",
       "12   -2.949030e-16\n",
       "13    2.151057e-16\n",
       "14    2.636780e-16\n",
       "15    4.857226e-16\n",
       "Name: growth, dtype: float64"
      ]
     },
     "execution_count": 42,
     "metadata": {},
     "output_type": "execute_result"
    }
   ],
   "source": [
    "np.array(b_hat)-b_true - influence_slope(x)"
   ]
  },
  {
   "cell_type": "markdown",
   "id": "15baca0f",
   "metadata": {},
   "source": [
    "# 8.7 Least squares slope as a weighted average of individual slopes"
   ]
  },
  {
   "cell_type": "markdown",
   "id": "f8a3a25d",
   "metadata": {},
   "source": [
    "Just a math exercise, but is actually difficult, the key is to recognize that $\\sum_{i}^{n} x = n\\overline{x}$"
   ]
  },
  {
   "cell_type": "markdown",
   "id": "2b8def2b",
   "metadata": {},
   "source": [
    "# 8.8 Comparing `pymc3` and `statsmodel`"
   ]
  },
  {
   "cell_type": "code",
   "execution_count": 43,
   "id": "2a687f46",
   "metadata": {
    "execution": {
     "iopub.execute_input": "2021-05-30T17:21:20.280580Z",
     "iopub.status.busy": "2021-05-30T17:21:20.279935Z",
     "iopub.status.idle": "2021-05-30T17:21:20.285710Z",
     "shell.execute_reply": "2021-05-30T17:21:20.285125Z",
     "shell.execute_reply.started": "2021-05-30T17:21:20.280505Z"
    },
    "tags": []
   },
   "outputs": [],
   "source": [
    "x = np.random.uniform(0,20,100)\n",
    "error = np.random.normal(0,5,100)\n",
    "y = 2+3*x+error"
   ]
  },
  {
   "cell_type": "code",
   "execution_count": 44,
   "id": "0656193d",
   "metadata": {
    "execution": {
     "iopub.execute_input": "2021-05-30T17:21:20.546614Z",
     "iopub.status.busy": "2021-05-30T17:21:20.545971Z",
     "iopub.status.idle": "2021-05-30T17:21:20.561529Z",
     "shell.execute_reply": "2021-05-30T17:21:20.559755Z",
     "shell.execute_reply.started": "2021-05-30T17:21:20.546538Z"
    },
    "tags": []
   },
   "outputs": [],
   "source": [
    "x_sm = sm.add_constant(x)\n",
    "res = sm.GLM(y, x_sm).fit()"
   ]
  },
  {
   "cell_type": "code",
   "execution_count": 45,
   "id": "63f26bce",
   "metadata": {
    "execution": {
     "iopub.execute_input": "2021-05-30T17:21:20.804372Z",
     "iopub.status.busy": "2021-05-30T17:21:20.803678Z",
     "iopub.status.idle": "2021-05-30T17:21:20.960884Z",
     "shell.execute_reply": "2021-05-30T17:21:20.958980Z",
     "shell.execute_reply.started": "2021-05-30T17:21:20.804295Z"
    },
    "tags": []
   },
   "outputs": [
    {
     "data": {
      "text/html": [
       "<table class=\"simpletable\">\n",
       "<caption>Generalized Linear Model Regression Results</caption>\n",
       "<tr>\n",
       "  <th>Dep. Variable:</th>           <td>y</td>        <th>  No. Observations:  </th>  <td>   100</td> \n",
       "</tr>\n",
       "<tr>\n",
       "  <th>Model:</th>                  <td>GLM</td>       <th>  Df Residuals:      </th>  <td>    98</td> \n",
       "</tr>\n",
       "<tr>\n",
       "  <th>Model Family:</th>        <td>Gaussian</td>     <th>  Df Model:          </th>  <td>     1</td> \n",
       "</tr>\n",
       "<tr>\n",
       "  <th>Link Function:</th>       <td>identity</td>     <th>  Scale:             </th> <td>  22.426</td>\n",
       "</tr>\n",
       "<tr>\n",
       "  <th>Method:</th>                <td>IRLS</td>       <th>  Log-Likelihood:    </th> <td> -296.40</td>\n",
       "</tr>\n",
       "<tr>\n",
       "  <th>Date:</th>            <td>Sun, 30 May 2021</td> <th>  Deviance:          </th> <td>  2197.8</td>\n",
       "</tr>\n",
       "<tr>\n",
       "  <th>Time:</th>                <td>13:21:20</td>     <th>  Pearson chi2:      </th> <td>2.20e+03</td>\n",
       "</tr>\n",
       "<tr>\n",
       "  <th>No. Iterations:</th>          <td>3</td>        <th>                     </th>     <td> </td>   \n",
       "</tr>\n",
       "<tr>\n",
       "  <th>Covariance Type:</th>     <td>nonrobust</td>    <th>                     </th>     <td> </td>   \n",
       "</tr>\n",
       "</table>\n",
       "<table class=\"simpletable\">\n",
       "<tr>\n",
       "    <td></td>       <th>coef</th>     <th>std err</th>      <th>z</th>      <th>P>|z|</th>  <th>[0.025</th>    <th>0.975]</th>  \n",
       "</tr>\n",
       "<tr>\n",
       "  <th>const</th> <td>    1.4364</td> <td>    0.998</td> <td>    1.439</td> <td> 0.150</td> <td>   -0.520</td> <td>    3.393</td>\n",
       "</tr>\n",
       "<tr>\n",
       "  <th>x1</th>    <td>    3.0117</td> <td>    0.083</td> <td>   36.331</td> <td> 0.000</td> <td>    2.849</td> <td>    3.174</td>\n",
       "</tr>\n",
       "</table>"
      ],
      "text/plain": [
       "<class 'statsmodels.iolib.summary.Summary'>\n",
       "\"\"\"\n",
       "                 Generalized Linear Model Regression Results                  \n",
       "==============================================================================\n",
       "Dep. Variable:                      y   No. Observations:                  100\n",
       "Model:                            GLM   Df Residuals:                       98\n",
       "Model Family:                Gaussian   Df Model:                            1\n",
       "Link Function:               identity   Scale:                          22.426\n",
       "Method:                          IRLS   Log-Likelihood:                -296.40\n",
       "Date:                Sun, 30 May 2021   Deviance:                       2197.8\n",
       "Time:                        13:21:20   Pearson chi2:                 2.20e+03\n",
       "No. Iterations:                     3                                         \n",
       "Covariance Type:            nonrobust                                         \n",
       "==============================================================================\n",
       "                 coef    std err          z      P>|z|      [0.025      0.975]\n",
       "------------------------------------------------------------------------------\n",
       "const          1.4364      0.998      1.439      0.150      -0.520       3.393\n",
       "x1             3.0117      0.083     36.331      0.000       2.849       3.174\n",
       "==============================================================================\n",
       "\"\"\""
      ]
     },
     "execution_count": 45,
     "metadata": {},
     "output_type": "execute_result"
    }
   ],
   "source": [
    "res.summary()"
   ]
  },
  {
   "cell_type": "code",
   "execution_count": 46,
   "id": "17cd039c",
   "metadata": {
    "execution": {
     "iopub.execute_input": "2021-05-30T17:21:21.401602Z",
     "iopub.status.busy": "2021-05-30T17:21:21.401439Z",
     "iopub.status.idle": "2021-05-30T17:21:36.521429Z",
     "shell.execute_reply": "2021-05-30T17:21:36.520844Z",
     "shell.execute_reply.started": "2021-05-30T17:21:21.401584Z"
    },
    "tags": []
   },
   "outputs": [
    {
     "name": "stderr",
     "output_type": "stream",
     "text": [
      "Auto-assigning NUTS sampler...\n",
      "Initializing NUTS using jitter+adapt_diag...\n",
      "Multiprocess sampling (3 chains in 3 jobs)\n",
      "NUTS: [sd, x0, Intercept]\n"
     ]
    },
    {
     "data": {
      "text/html": [
       "\n",
       "    <div>\n",
       "        <style>\n",
       "            /* Turns off some styling */\n",
       "            progress {\n",
       "                /* gets rid of default border in Firefox and Opera. */\n",
       "                border: none;\n",
       "                /* Needs to be in here for Safari polyfill so background images work as expected. */\n",
       "                background-size: auto;\n",
       "            }\n",
       "            .progress-bar-interrupted, .progress-bar-interrupted::-webkit-progress-bar {\n",
       "                background: #F44336;\n",
       "            }\n",
       "        </style>\n",
       "      <progress value='33000' class='' max='33000' style='width:300px; height:20px; vertical-align: middle;'></progress>\n",
       "      100.00% [33000/33000 00:09<00:00 Sampling 3 chains, 0 divergences]\n",
       "    </div>\n",
       "    "
      ],
      "text/plain": [
       "<IPython.core.display.HTML object>"
      ]
     },
     "metadata": {},
     "output_type": "display_data"
    },
    {
     "name": "stderr",
     "output_type": "stream",
     "text": [
      "Sampling 3 chains for 1_000 tune and 10_000 draw iterations (3_000 + 30_000 draws total) took 10 seconds.\n",
      "The acceptance probability does not match the target. It is 0.9060540738779924, but should be close to 0.8. Try to increase the number of tuning steps.\n"
     ]
    }
   ],
   "source": [
    "with pm.Model() as model:\n",
    "    pm.glm.GLM(x,y,intercept=True)\n",
    "    trace = pm.sample(10000)"
   ]
  },
  {
   "cell_type": "code",
   "execution_count": 47,
   "id": "60039ef7",
   "metadata": {
    "execution": {
     "iopub.execute_input": "2021-05-30T17:21:36.522465Z",
     "iopub.status.busy": "2021-05-30T17:21:36.522300Z",
     "iopub.status.idle": "2021-05-30T17:21:39.244967Z",
     "shell.execute_reply": "2021-05-30T17:21:39.244481Z",
     "shell.execute_reply.started": "2021-05-30T17:21:36.522444Z"
    },
    "tags": []
   },
   "outputs": [
    {
     "name": "stderr",
     "output_type": "stream",
     "text": [
      "/home/jfyu/miniconda3/envs/ros/lib/python3.8/site-packages/arviz/data/io_pymc3.py:88: FutureWarning: Using `from_pymc3` without the model will be deprecated in a future release. Not using the model will return less accurate and less useful results. Make sure you use the model argument or call from_pymc3 within a model context.\n",
      "  warnings.warn(\n"
     ]
    },
    {
     "data": {
      "text/plain": [
       "array([[<matplotlib.axes._subplots.AxesSubplot object at 0x7f7b630b9dc0>,\n",
       "        <matplotlib.axes._subplots.AxesSubplot object at 0x7f7b630d7460>],\n",
       "       [<matplotlib.axes._subplots.AxesSubplot object at 0x7f7b63189f70>,\n",
       "        <matplotlib.axes._subplots.AxesSubplot object at 0x7f7b6314c310>],\n",
       "       [<matplotlib.axes._subplots.AxesSubplot object at 0x7f7b63078f40>,\n",
       "        <matplotlib.axes._subplots.AxesSubplot object at 0x7f7b6303b460>]],\n",
       "      dtype=object)"
      ]
     },
     "execution_count": 47,
     "metadata": {},
     "output_type": "execute_result"
    },
    {
     "data": {
      "image/png": "[encoded data removed]",
      "text/plain": [
       "<Figure size 864x432 with 6 Axes>"
      ]
     },
     "metadata": {},
     "output_type": "display_data"
    }
   ],
   "source": [
    "pm.traceplot(trace)"
   ]
  },
  {
   "cell_type": "code",
   "execution_count": 72,
   "id": "c79133f5",
   "metadata": {
    "execution": {
     "iopub.execute_input": "2021-05-30T19:19:40.951175Z",
     "iopub.status.busy": "2021-05-30T19:19:40.950809Z",
     "iopub.status.idle": "2021-05-30T19:19:40.976357Z",
     "shell.execute_reply": "2021-05-30T19:19:40.975749Z",
     "shell.execute_reply.started": "2021-05-30T19:19:40.951132Z"
    },
    "tags": []
   },
   "outputs": [
    {
     "data": {
      "text/plain": [
       "1.4565430224587248"
      ]
     },
     "execution_count": 72,
     "metadata": {},
     "output_type": "execute_result"
    }
   ],
   "source": [
    "intercept = np.mean(trace[:3000]['Intercept'])\n",
    "intercept"
   ]
  },
  {
   "cell_type": "code",
   "execution_count": 73,
   "id": "2d1c04ba",
   "metadata": {
    "execution": {
     "iopub.execute_input": "2021-05-30T19:19:41.082144Z",
     "iopub.status.busy": "2021-05-30T19:19:41.081473Z",
     "iopub.status.idle": "2021-05-30T19:19:41.497063Z",
     "shell.execute_reply": "2021-05-30T19:19:41.496575Z",
     "shell.execute_reply.started": "2021-05-30T19:19:41.082067Z"
    },
    "tags": []
   },
   "outputs": [
    {
     "data": {
      "text/plain": [
       "3.0102828119331835"
      ]
     },
     "execution_count": 73,
     "metadata": {},
     "output_type": "execute_result"
    }
   ],
   "source": [
    "slope = np.mean(trace[:3000]['x0'])\n",
    "slope"
   ]
  },
  {
   "cell_type": "code",
   "execution_count": 74,
   "id": "8db2c6b5",
   "metadata": {
    "execution": {
     "iopub.execute_input": "2021-05-30T19:19:41.498121Z",
     "iopub.status.busy": "2021-05-30T19:19:41.497758Z",
     "iopub.status.idle": "2021-05-30T19:19:41.560125Z",
     "shell.execute_reply": "2021-05-30T19:19:41.558042Z",
     "shell.execute_reply.started": "2021-05-30T19:19:41.498101Z"
    },
    "tags": []
   },
   "outputs": [
    {
     "data": {
      "text/plain": [
       "4.791207231303886"
      ]
     },
     "execution_count": 74,
     "metadata": {},
     "output_type": "execute_result"
    }
   ],
   "source": [
    "np.mean(trace['sd'])"
   ]
  },
  {
   "cell_type": "code",
   "execution_count": 52,
   "id": "183d96b1",
   "metadata": {
    "execution": {
     "iopub.execute_input": "2021-05-30T17:21:57.678490Z",
     "iopub.status.busy": "2021-05-30T17:21:57.678321Z",
     "iopub.status.idle": "2021-05-30T17:21:57.801155Z",
     "shell.execute_reply": "2021-05-30T17:21:57.800702Z",
     "shell.execute_reply.started": "2021-05-30T17:21:57.678471Z"
    },
    "tags": []
   },
   "outputs": [
    {
     "data": {
      "text/plain": [
       "<matplotlib.legend.Legend at 0x7f7b58f3e0d0>"
      ]
     },
     "execution_count": 52,
     "metadata": {},
     "output_type": "execute_result"
    },
    {
     "data": {
      "image/png": "[encoded data removed]",
      "text/plain": [
       "<Figure size 576x396 with 1 Axes>"
      ]
     },
     "metadata": {},
     "output_type": "display_data"
    }
   ],
   "source": [
    "plt.scatter(x,y)\n",
    "plt.plot(x, res.params[0]+res.params[1]*x, color= 'b', label='GLM line')\n",
    "plt.plot(x, intercept+slope*x, color='k', label='pymc3 line')\n",
    "plt.legend()"
   ]
  },
  {
   "cell_type": "markdown",
   "id": "59d77e80",
   "metadata": {},
   "source": [
    "# 8.9 Leave-one-out cross validation"
   ]
  },
  {
   "cell_type": "code",
   "execution_count": 53,
   "id": "f46556d7",
   "metadata": {
    "execution": {
     "iopub.execute_input": "2021-05-30T17:22:06.584066Z",
     "iopub.status.busy": "2021-05-30T17:22:06.583890Z",
     "iopub.status.idle": "2021-05-30T17:22:06.592600Z",
     "shell.execute_reply": "2021-05-30T17:22:06.592134Z",
     "shell.execute_reply.started": "2021-05-30T17:22:06.584047Z"
    },
    "tags": []
   },
   "outputs": [
    {
     "data": {
      "text/html": [
       "<div>\n",
       "<style scoped>\n",
       "    .dataframe tbody tr th:only-of-type {\n",
       "        vertical-align: middle;\n",
       "    }\n",
       "\n",
       "    .dataframe tbody tr th {\n",
       "        vertical-align: top;\n",
       "    }\n",
       "\n",
       "    .dataframe thead th {\n",
       "        text-align: right;\n",
       "    }\n",
       "</style>\n",
       "<table border=\"1\" class=\"dataframe\">\n",
       "  <thead>\n",
       "    <tr style=\"text-align: right;\">\n",
       "      <th></th>\n",
       "      <th>year</th>\n",
       "      <th>growth</th>\n",
       "      <th>vote</th>\n",
       "      <th>inc_party_candidate</th>\n",
       "      <th>other_candidate</th>\n",
       "    </tr>\n",
       "  </thead>\n",
       "  <tbody>\n",
       "    <tr>\n",
       "      <th>0</th>\n",
       "      <td>1952</td>\n",
       "      <td>2.40</td>\n",
       "      <td>44.60</td>\n",
       "      <td>Stevenson</td>\n",
       "      <td>Eisenhower</td>\n",
       "    </tr>\n",
       "    <tr>\n",
       "      <th>1</th>\n",
       "      <td>1956</td>\n",
       "      <td>2.89</td>\n",
       "      <td>57.76</td>\n",
       "      <td>Eisenhower</td>\n",
       "      <td>Stevenson</td>\n",
       "    </tr>\n",
       "    <tr>\n",
       "      <th>2</th>\n",
       "      <td>1960</td>\n",
       "      <td>0.85</td>\n",
       "      <td>49.91</td>\n",
       "      <td>Nixon</td>\n",
       "      <td>Kennedy</td>\n",
       "    </tr>\n",
       "    <tr>\n",
       "      <th>3</th>\n",
       "      <td>1964</td>\n",
       "      <td>4.21</td>\n",
       "      <td>61.34</td>\n",
       "      <td>Johnson</td>\n",
       "      <td>Goldwater</td>\n",
       "    </tr>\n",
       "    <tr>\n",
       "      <th>4</th>\n",
       "      <td>1968</td>\n",
       "      <td>3.02</td>\n",
       "      <td>49.60</td>\n",
       "      <td>Humphrey</td>\n",
       "      <td>Nixon</td>\n",
       "    </tr>\n",
       "    <tr>\n",
       "      <th>5</th>\n",
       "      <td>1972</td>\n",
       "      <td>3.62</td>\n",
       "      <td>61.79</td>\n",
       "      <td>Nixon</td>\n",
       "      <td>McGovern</td>\n",
       "    </tr>\n",
       "    <tr>\n",
       "      <th>6</th>\n",
       "      <td>1976</td>\n",
       "      <td>1.08</td>\n",
       "      <td>48.95</td>\n",
       "      <td>Ford</td>\n",
       "      <td>Carter</td>\n",
       "    </tr>\n",
       "    <tr>\n",
       "      <th>7</th>\n",
       "      <td>1980</td>\n",
       "      <td>-0.39</td>\n",
       "      <td>44.70</td>\n",
       "      <td>Carter</td>\n",
       "      <td>Reagan</td>\n",
       "    </tr>\n",
       "    <tr>\n",
       "      <th>8</th>\n",
       "      <td>1984</td>\n",
       "      <td>3.86</td>\n",
       "      <td>59.17</td>\n",
       "      <td>Reagan</td>\n",
       "      <td>Mondale</td>\n",
       "    </tr>\n",
       "    <tr>\n",
       "      <th>9</th>\n",
       "      <td>1988</td>\n",
       "      <td>2.27</td>\n",
       "      <td>53.94</td>\n",
       "      <td>Bush, Sr.</td>\n",
       "      <td>Dukakis</td>\n",
       "    </tr>\n",
       "    <tr>\n",
       "      <th>10</th>\n",
       "      <td>1992</td>\n",
       "      <td>0.38</td>\n",
       "      <td>46.55</td>\n",
       "      <td>Bush, Sr.</td>\n",
       "      <td>Clinton</td>\n",
       "    </tr>\n",
       "    <tr>\n",
       "      <th>11</th>\n",
       "      <td>1996</td>\n",
       "      <td>1.04</td>\n",
       "      <td>54.74</td>\n",
       "      <td>Clinton</td>\n",
       "      <td>Dole</td>\n",
       "    </tr>\n",
       "    <tr>\n",
       "      <th>12</th>\n",
       "      <td>2000</td>\n",
       "      <td>2.36</td>\n",
       "      <td>50.27</td>\n",
       "      <td>Gore</td>\n",
       "      <td>Bush, Jr.</td>\n",
       "    </tr>\n",
       "    <tr>\n",
       "      <th>13</th>\n",
       "      <td>2004</td>\n",
       "      <td>1.72</td>\n",
       "      <td>51.24</td>\n",
       "      <td>Bush, Jr.</td>\n",
       "      <td>Kerry</td>\n",
       "    </tr>\n",
       "    <tr>\n",
       "      <th>14</th>\n",
       "      <td>2008</td>\n",
       "      <td>0.10</td>\n",
       "      <td>46.32</td>\n",
       "      <td>McCain</td>\n",
       "      <td>Obama</td>\n",
       "    </tr>\n",
       "    <tr>\n",
       "      <th>15</th>\n",
       "      <td>2012</td>\n",
       "      <td>0.95</td>\n",
       "      <td>52.00</td>\n",
       "      <td>Obama</td>\n",
       "      <td>Romney</td>\n",
       "    </tr>\n",
       "  </tbody>\n",
       "</table>\n",
       "</div>"
      ],
      "text/plain": [
       "    year  growth   vote inc_party_candidate other_candidate\n",
       "0   1952    2.40  44.60           Stevenson      Eisenhower\n",
       "1   1956    2.89  57.76          Eisenhower       Stevenson\n",
       "2   1960    0.85  49.91               Nixon         Kennedy\n",
       "3   1964    4.21  61.34             Johnson       Goldwater\n",
       "4   1968    3.02  49.60            Humphrey           Nixon\n",
       "5   1972    3.62  61.79               Nixon        McGovern\n",
       "6   1976    1.08  48.95                Ford          Carter\n",
       "7   1980   -0.39  44.70              Carter          Reagan\n",
       "8   1984    3.86  59.17              Reagan         Mondale\n",
       "9   1988    2.27  53.94           Bush, Sr.         Dukakis\n",
       "10  1992    0.38  46.55           Bush, Sr.         Clinton\n",
       "11  1996    1.04  54.74             Clinton            Dole\n",
       "12  2000    2.36  50.27                Gore       Bush, Jr.\n",
       "13  2004    1.72  51.24           Bush, Jr.           Kerry\n",
       "14  2008    0.10  46.32              McCain           Obama\n",
       "15  2012    0.95  52.00               Obama          Romney"
      ]
     },
     "execution_count": 53,
     "metadata": {},
     "output_type": "execute_result"
    }
   ],
   "source": [
    "data"
   ]
  },
  {
   "cell_type": "code",
   "execution_count": 54,
   "id": "ebfd5d7d",
   "metadata": {
    "execution": {
     "iopub.execute_input": "2021-05-30T17:22:06.781902Z",
     "iopub.status.busy": "2021-05-30T17:22:06.781245Z",
     "iopub.status.idle": "2021-05-30T17:22:07.626772Z",
     "shell.execute_reply": "2021-05-30T17:22:07.624658Z",
     "shell.execute_reply.started": "2021-05-30T17:22:06.781795Z"
    },
    "tags": []
   },
   "outputs": [],
   "source": [
    "from sklearn.model_selection import LeaveOneOut"
   ]
  },
  {
   "cell_type": "code",
   "execution_count": 55,
   "id": "2b9eeaca",
   "metadata": {
    "execution": {
     "iopub.execute_input": "2021-05-30T17:22:07.630380Z",
     "iopub.status.busy": "2021-05-30T17:22:07.629762Z",
     "iopub.status.idle": "2021-05-30T17:22:07.634880Z",
     "shell.execute_reply": "2021-05-30T17:22:07.634182Z",
     "shell.execute_reply.started": "2021-05-30T17:22:07.630307Z"
    },
    "tags": []
   },
   "outputs": [],
   "source": [
    "loo = LeaveOneOut()"
   ]
  },
  {
   "cell_type": "code",
   "execution_count": 56,
   "id": "7a44e7e1",
   "metadata": {
    "execution": {
     "iopub.execute_input": "2021-05-30T17:22:07.635868Z",
     "iopub.status.busy": "2021-05-30T17:22:07.635695Z",
     "iopub.status.idle": "2021-05-30T17:22:07.746803Z",
     "shell.execute_reply": "2021-05-30T17:22:07.744868Z",
     "shell.execute_reply.started": "2021-05-30T17:22:07.635849Z"
    },
    "tags": []
   },
   "outputs": [
    {
     "data": {
      "text/plain": [
       "16"
      ]
     },
     "execution_count": 56,
     "metadata": {},
     "output_type": "execute_result"
    }
   ],
   "source": [
    "loo.get_n_splits(data['vote'])"
   ]
  },
  {
   "cell_type": "markdown",
   "id": "0a3b99db",
   "metadata": {},
   "source": [
    "Can't compare `stan_glm` since we can't figure out how to do that in Python"
   ]
  },
  {
   "cell_type": "code",
   "execution_count": 57,
   "id": "24667163",
   "metadata": {
    "execution": {
     "iopub.execute_input": "2021-05-30T17:22:07.887418Z",
     "iopub.status.busy": "2021-05-30T17:22:07.886783Z",
     "iopub.status.idle": "2021-05-30T17:22:08.013694Z",
     "shell.execute_reply": "2021-05-30T17:22:08.013227Z",
     "shell.execute_reply.started": "2021-05-30T17:22:07.887340Z"
    },
    "tags": []
   },
   "outputs": [],
   "source": [
    "cv_res_n = []\n",
    "for train_index, test_index in loo.split(data[['growth', 'vote']]):\n",
    "    x = data['growth'][train_index]\n",
    "    y = data['vote'][train_index]\n",
    "    x_sm = sm.add_constant(x)\n",
    "    res = sm.GLM(y,x_sm).fit()\n",
    "    x_test = data['growth'][test_index]\n",
    "    y_test = data['vote'][test_index]\n",
    "    cv_residual = y_test - (res.params[0]+res.params[1]*x_test)\n",
    "    cv_res_n.append(cv_residual.values[0])"
   ]
  },
  {
   "cell_type": "code",
   "execution_count": 58,
   "id": "f02a2190",
   "metadata": {
    "execution": {
     "iopub.execute_input": "2021-05-30T17:22:08.093602Z",
     "iopub.status.busy": "2021-05-30T17:22:08.092967Z",
     "iopub.status.idle": "2021-05-30T17:22:08.104265Z",
     "shell.execute_reply": "2021-05-30T17:22:08.102505Z",
     "shell.execute_reply.started": "2021-05-30T17:22:08.093526Z"
    },
    "tags": []
   },
   "outputs": [
    {
     "data": {
      "text/plain": [
       "[-9.681707405723408,\n",
       " 2.9514103314942943,\n",
       " 1.1788607384887655,\n",
       " 2.9260420212630294,\n",
       " -6.5861499009409386,\n",
       " 5.339219044567301,\n",
       " -0.6593081272868488,\n",
       " -0.46684081913613085,\n",
       " 1.3761544994171118,\n",
       " 0.7986632670708644,\n",
       " -1.002302487164549,\n",
       " 5.819611658317484,\n",
       " -3.4407342808053016,\n",
       " -0.29020721086688894,\n",
       " -0.28262353123204775,\n",
       " 3.137350197980574]"
      ]
     },
     "execution_count": 58,
     "metadata": {},
     "output_type": "execute_result"
    }
   ],
   "source": [
    "cv_res_n"
   ]
  },
  {
   "cell_type": "code",
   "execution_count": 59,
   "id": "4c97c5d3",
   "metadata": {
    "execution": {
     "iopub.execute_input": "2021-05-30T17:22:08.293530Z",
     "iopub.status.busy": "2021-05-30T17:22:08.292877Z",
     "iopub.status.idle": "2021-05-30T17:22:08.302601Z",
     "shell.execute_reply": "2021-05-30T17:22:08.300556Z",
     "shell.execute_reply.started": "2021-05-30T17:22:08.293453Z"
    },
    "tags": []
   },
   "outputs": [],
   "source": [
    "sigma_cv = np.sqrt(1/len(cv_res_n)*np.sum(np.power(cv_res_n,2)))"
   ]
  },
  {
   "cell_type": "code",
   "execution_count": 60,
   "id": "3a76cfca",
   "metadata": {
    "execution": {
     "iopub.execute_input": "2021-05-30T17:22:08.518701Z",
     "iopub.status.busy": "2021-05-30T17:22:08.518046Z",
     "iopub.status.idle": "2021-05-30T17:22:08.529727Z",
     "shell.execute_reply": "2021-05-30T17:22:08.527640Z",
     "shell.execute_reply.started": "2021-05-30T17:22:08.518626Z"
    },
    "tags": []
   },
   "outputs": [
    {
     "data": {
      "text/plain": [
       "3.9066037292468696"
      ]
     },
     "execution_count": 60,
     "metadata": {},
     "output_type": "execute_result"
    }
   ],
   "source": [
    "sigma_cv"
   ]
  },
  {
   "cell_type": "markdown",
   "id": "8d8aa8f8",
   "metadata": {},
   "source": [
    "formula 8.5"
   ]
  },
  {
   "cell_type": "code",
   "execution_count": 61,
   "id": "6f47f9eb",
   "metadata": {
    "execution": {
     "iopub.execute_input": "2021-05-30T17:22:08.918555Z",
     "iopub.status.busy": "2021-05-30T17:22:08.917899Z",
     "iopub.status.idle": "2021-05-30T17:22:08.925245Z",
     "shell.execute_reply": "2021-05-30T17:22:08.924638Z",
     "shell.execute_reply.started": "2021-05-30T17:22:08.918477Z"
    },
    "tags": []
   },
   "outputs": [],
   "source": [
    "sigma_classic = np.sqrt(1/(len(data['growth'])-2)*np.sum(np.power(data['vote'] - (res.params[0]+res.params[1]*data['growth']), 2)))"
   ]
  },
  {
   "cell_type": "code",
   "execution_count": 62,
   "id": "5d1369b8",
   "metadata": {
    "execution": {
     "iopub.execute_input": "2021-05-30T17:22:09.087710Z",
     "iopub.status.busy": "2021-05-30T17:22:09.087414Z",
     "iopub.status.idle": "2021-05-30T17:22:09.092755Z",
     "shell.execute_reply": "2021-05-30T17:22:09.091903Z",
     "shell.execute_reply.started": "2021-05-30T17:22:09.087677Z"
    },
    "tags": []
   },
   "outputs": [
    {
     "data": {
      "text/plain": [
       "3.7719864869488466"
      ]
     },
     "execution_count": 62,
     "metadata": {},
     "output_type": "execute_result"
    }
   ],
   "source": [
    "sigma_classic"
   ]
  },
  {
   "cell_type": "code",
   "execution_count": 63,
   "id": "10f08d12",
   "metadata": {
    "execution": {
     "iopub.execute_input": "2021-05-30T17:22:09.590922Z",
     "iopub.status.busy": "2021-05-30T17:22:09.590278Z",
     "iopub.status.idle": "2021-05-30T17:22:09.601072Z",
     "shell.execute_reply": "2021-05-30T17:22:09.600160Z",
     "shell.execute_reply.started": "2021-05-30T17:22:09.590847Z"
    },
    "tags": []
   },
   "outputs": [
    {
     "data": {
      "text/plain": [
       "3.521737852254197"
      ]
     },
     "execution_count": 63,
     "metadata": {},
     "output_type": "execute_result"
    }
   ],
   "source": [
    "sigma_true # this uses 1/n as opposed to 1/(n-2) in the classic case"
   ]
  },
  {
   "cell_type": "code",
   "execution_count": 64,
   "id": "b1723663",
   "metadata": {
    "execution": {
     "iopub.execute_input": "2021-05-30T17:22:09.621054Z",
     "iopub.status.busy": "2021-05-30T17:22:09.620829Z",
     "iopub.status.idle": "2021-05-30T17:22:09.682632Z",
     "shell.execute_reply": "2021-05-30T17:22:09.682152Z",
     "shell.execute_reply.started": "2021-05-30T17:22:09.621021Z"
    },
    "tags": []
   },
   "outputs": [],
   "source": [
    "sigma_stan = 3.9 # see sec.7.1"
   ]
  },
  {
   "cell_type": "markdown",
   "id": "a014b8b6",
   "metadata": {},
   "source": [
    "Looks like leave-one-out is the closest to stan. It fixes the overfitting issue that is coming out of the sigma_true, and sigma_classic tries to fix it, but I think the sample size is too small so it did not do a great job"
   ]
  },
  {
   "cell_type": "markdown",
   "id": "57b42d5d",
   "metadata": {},
   "source": [
    "# 8.10 Leave one out cross validation"
   ]
  },
  {
   "cell_type": "code",
   "execution_count": 65,
   "id": "9679b048",
   "metadata": {
    "execution": {
     "iopub.execute_input": "2021-05-30T17:22:09.704102Z",
     "iopub.status.busy": "2021-05-30T17:22:09.703933Z",
     "iopub.status.idle": "2021-05-30T17:22:09.742740Z",
     "shell.execute_reply": "2021-05-30T17:22:09.742157Z",
     "shell.execute_reply.started": "2021-05-30T17:22:09.704084Z"
    },
    "tags": []
   },
   "outputs": [],
   "source": [
    "x_data = np.linspace(-10,10,10)\n",
    "y_data = 5*x_data+6+np.random.normal(0, 10, 10)"
   ]
  },
  {
   "cell_type": "code",
   "execution_count": 66,
   "id": "8dcbd04c",
   "metadata": {
    "execution": {
     "iopub.execute_input": "2021-05-30T17:22:09.743515Z",
     "iopub.status.busy": "2021-05-30T17:22:09.743373Z",
     "iopub.status.idle": "2021-05-30T17:22:09.815222Z",
     "shell.execute_reply": "2021-05-30T17:22:09.814722Z",
     "shell.execute_reply.started": "2021-05-30T17:22:09.743497Z"
    },
    "tags": []
   },
   "outputs": [],
   "source": [
    "cv_res_n = []\n",
    "for train_index, test_index in loo.split(x_data):\n",
    "    x = x_data[train_index]\n",
    "    y = y_data[train_index]\n",
    "    x_sm = sm.add_constant(x)\n",
    "    res = sm.GLM(y,x_sm).fit()\n",
    "    x_test = x_data[test_index]\n",
    "    y_test = y_data[test_index]\n",
    "    cv_residual = y_test - (res.params[0]+res.params[1]*x_test)\n",
    "    cv_res_n.append(cv_residual[0])"
   ]
  },
  {
   "cell_type": "code",
   "execution_count": 67,
   "id": "d1a957b6",
   "metadata": {
    "execution": {
     "iopub.execute_input": "2021-05-30T17:22:09.816248Z",
     "iopub.status.busy": "2021-05-30T17:22:09.816084Z",
     "iopub.status.idle": "2021-05-30T17:22:10.985229Z",
     "shell.execute_reply": "2021-05-30T17:22:10.983165Z",
     "shell.execute_reply.started": "2021-05-30T17:22:09.816229Z"
    },
    "tags": []
   },
   "outputs": [],
   "source": [
    "sigma_cv = np.sqrt(1/len(cv_res_n)*np.sum(np.power(cv_res_n,2)))"
   ]
  },
  {
   "cell_type": "code",
   "execution_count": 68,
   "id": "abd46e1a",
   "metadata": {
    "execution": {
     "iopub.execute_input": "2021-05-30T17:22:10.989124Z",
     "iopub.status.busy": "2021-05-30T17:22:10.988492Z",
     "iopub.status.idle": "2021-05-30T17:22:11.047757Z",
     "shell.execute_reply": "2021-05-30T17:22:11.045674Z",
     "shell.execute_reply.started": "2021-05-30T17:22:10.989049Z"
    },
    "tags": []
   },
   "outputs": [
    {
     "data": {
      "text/plain": [
       "15.69707699308483"
      ]
     },
     "execution_count": 68,
     "metadata": {},
     "output_type": "execute_result"
    }
   ],
   "source": [
    "sigma_cv"
   ]
  },
  {
   "cell_type": "code",
   "execution_count": 69,
   "id": "dfefa752",
   "metadata": {
    "execution": {
     "iopub.execute_input": "2021-05-30T17:22:11.050518Z",
     "iopub.status.busy": "2021-05-30T17:22:11.049917Z",
     "iopub.status.idle": "2021-05-30T17:22:11.198889Z",
     "shell.execute_reply": "2021-05-30T17:22:11.196742Z",
     "shell.execute_reply.started": "2021-05-30T17:22:11.050443Z"
    },
    "tags": []
   },
   "outputs": [],
   "source": [
    "x_sm = sm.add_constant(x_data)\n",
    "res = sm.GLM(y_data,x_sm).fit()"
   ]
  },
  {
   "cell_type": "code",
   "execution_count": 70,
   "id": "64a69615",
   "metadata": {
    "execution": {
     "iopub.execute_input": "2021-05-30T17:22:11.203022Z",
     "iopub.status.busy": "2021-05-30T17:22:11.202436Z",
     "iopub.status.idle": "2021-05-30T17:22:11.951965Z",
     "shell.execute_reply": "2021-05-30T17:22:11.949973Z",
     "shell.execute_reply.started": "2021-05-30T17:22:11.202948Z"
    },
    "tags": []
   },
   "outputs": [],
   "source": [
    "sigma_classic = np.sqrt(1/(len(x_data)-2)*np.sum(np.power(y_data - (res.params[0]+res.params[1]*x_data), 2)))"
   ]
  },
  {
   "cell_type": "code",
   "execution_count": 71,
   "id": "e8b428fd",
   "metadata": {
    "execution": {
     "iopub.execute_input": "2021-05-30T17:22:11.954842Z",
     "iopub.status.busy": "2021-05-30T17:22:11.954265Z",
     "iopub.status.idle": "2021-05-30T17:22:12.048840Z",
     "shell.execute_reply": "2021-05-30T17:22:12.046881Z",
     "shell.execute_reply.started": "2021-05-30T17:22:11.954769Z"
    },
    "tags": []
   },
   "outputs": [
    {
     "data": {
      "text/plain": [
       "14.00254448228555"
      ]
     },
     "execution_count": 71,
     "metadata": {},
     "output_type": "execute_result"
    }
   ],
   "source": [
    "sigma_classic"
   ]
  },
  {
   "cell_type": "markdown",
   "id": "7f199557",
   "metadata": {},
   "source": [
    "Fewer points. So every point has a larger influence on the line. This would make leave-one-out really large because the residuals would be huge. "
   ]
  }
 ],
 "metadata": {
  "kernelspec": {
   "display_name": "Python [conda env:ros]",
   "language": "python",
   "name": "conda-env-ros-py"
  },
  "language_info": {
   "codemirror_mode": {
    "name": "ipython",
    "version": 3
   },
   "file_extension": ".py",
   "mimetype": "text/x-python",
   "name": "python",
   "nbconvert_exporter": "python",
   "pygments_lexer": "ipython3",
   "version": "3.8.8"
  }
 },
 "nbformat": 4,
 "nbformat_minor": 5
}
