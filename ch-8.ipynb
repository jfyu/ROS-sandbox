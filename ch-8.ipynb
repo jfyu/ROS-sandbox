{
 "cells": [
  {
   "cell_type": "code",
   "execution_count": 2,
   "id": "7ea4ae8d",
   "metadata": {
    "execution": {
     "iopub.execute_input": "2021-05-24T15:51:08.798260Z",
     "iopub.status.busy": "2021-05-24T15:51:08.798071Z",
     "iopub.status.idle": "2021-05-24T15:51:15.416219Z",
     "shell.execute_reply": "2021-05-24T15:51:15.414037Z",
     "shell.execute_reply.started": "2021-05-24T15:51:08.798230Z"
    },
    "tags": []
   },
   "outputs": [],
   "source": [
    "import pandas as pd\n",
    "import numpy as np\n",
    "import matplotlib.pyplot as plt\n",
    "import seaborn as sns\n",
    "\n",
    "import scipy.stats as stats"
   ]
  },
  {
   "cell_type": "code",
   "execution_count": 3,
   "id": "07672068",
   "metadata": {
    "execution": {
     "iopub.execute_input": "2021-05-24T15:51:15.420041Z",
     "iopub.status.busy": "2021-05-24T15:51:15.419338Z",
     "iopub.status.idle": "2021-05-24T15:51:17.548925Z",
     "shell.execute_reply": "2021-05-24T15:51:17.546734Z",
     "shell.execute_reply.started": "2021-05-24T15:51:15.419963Z"
    },
    "tags": []
   },
   "outputs": [],
   "source": [
    "import statsmodels.api as sm\n",
    "import statsmodels.formula.api as smf"
   ]
  },
  {
   "cell_type": "code",
   "execution_count": 4,
   "id": "be833561",
   "metadata": {
    "execution": {
     "iopub.execute_input": "2021-05-24T15:51:17.553487Z",
     "iopub.status.busy": "2021-05-24T15:51:17.552874Z",
     "iopub.status.idle": "2021-05-24T15:51:17.562387Z",
     "shell.execute_reply": "2021-05-24T15:51:17.560301Z",
     "shell.execute_reply.started": "2021-05-24T15:51:17.553411Z"
    },
    "tags": []
   },
   "outputs": [],
   "source": [
    "plt.style.use('seaborn-notebook')\n",
    "plt.style.use('ggplot')"
   ]
  },
  {
   "cell_type": "code",
   "execution_count": 5,
   "id": "00b7b814",
   "metadata": {
    "execution": {
     "iopub.execute_input": "2021-05-24T15:51:17.566405Z",
     "iopub.status.busy": "2021-05-24T15:51:17.565779Z",
     "iopub.status.idle": "2021-05-24T15:51:24.112931Z",
     "shell.execute_reply": "2021-05-24T15:51:24.112413Z",
     "shell.execute_reply.started": "2021-05-24T15:51:17.566328Z"
    }
   },
   "outputs": [],
   "source": [
    "import pymc3 as pm"
   ]
  },
  {
   "cell_type": "markdown",
   "id": "b41edc46",
   "metadata": {},
   "source": [
    "# Note on using `PyMC3` as opposed to `statsmodels`\n",
    "\n",
    "This chapters talks about the difference between `stan-glm` and `glm` in R, which finally revealed why when I was using `statsmodels` in the previous chapters, the standard errors are slightly off from the book: `statsmodel` uses classical fitting, whereas `stan-glm` uses Bayesian fitting and the \"errors\" were shown as `MAD_sd`. We will try to use `pyMC3` as the closest python relative in this notebook, and for the question that compares `stan-glm` to `glm`, we will be using `statsmodels` vs `pymc3`"
   ]
  },
  {
   "cell_type": "markdown",
   "id": "20e833b8",
   "metadata": {},
   "source": [
    "# 8.1 Least Squares"
   ]
  },
  {
   "cell_type": "code",
   "execution_count": 6,
   "id": "a36be17c",
   "metadata": {
    "execution": {
     "iopub.execute_input": "2021-05-24T15:51:24.113911Z",
     "iopub.status.busy": "2021-05-24T15:51:24.113671Z",
     "iopub.status.idle": "2021-05-24T15:51:24.276701Z",
     "shell.execute_reply": "2021-05-24T15:51:24.276104Z",
     "shell.execute_reply.started": "2021-05-24T15:51:24.113892Z"
    }
   },
   "outputs": [],
   "source": [
    "data = pd.read_csv('../ROS-Examples/ElectionsEconomy/data/hibbs.dat', sep=' ')"
   ]
  },
  {
   "cell_type": "code",
   "execution_count": 7,
   "id": "96187115",
   "metadata": {
    "execution": {
     "iopub.execute_input": "2021-05-24T15:51:24.277544Z",
     "iopub.status.busy": "2021-05-24T15:51:24.277386Z",
     "iopub.status.idle": "2021-05-24T15:51:24.432942Z",
     "shell.execute_reply": "2021-05-24T15:51:24.432421Z",
     "shell.execute_reply.started": "2021-05-24T15:51:24.277526Z"
    }
   },
   "outputs": [
    {
     "data": {
      "text/html": [
       "<div>\n",
       "<style scoped>\n",
       "    .dataframe tbody tr th:only-of-type {\n",
       "        vertical-align: middle;\n",
       "    }\n",
       "\n",
       "    .dataframe tbody tr th {\n",
       "        vertical-align: top;\n",
       "    }\n",
       "\n",
       "    .dataframe thead th {\n",
       "        text-align: right;\n",
       "    }\n",
       "</style>\n",
       "<table border=\"1\" class=\"dataframe\">\n",
       "  <thead>\n",
       "    <tr style=\"text-align: right;\">\n",
       "      <th></th>\n",
       "      <th>year</th>\n",
       "      <th>growth</th>\n",
       "      <th>vote</th>\n",
       "      <th>inc_party_candidate</th>\n",
       "      <th>other_candidate</th>\n",
       "    </tr>\n",
       "  </thead>\n",
       "  <tbody>\n",
       "    <tr>\n",
       "      <th>0</th>\n",
       "      <td>1952</td>\n",
       "      <td>2.40</td>\n",
       "      <td>44.60</td>\n",
       "      <td>Stevenson</td>\n",
       "      <td>Eisenhower</td>\n",
       "    </tr>\n",
       "    <tr>\n",
       "      <th>1</th>\n",
       "      <td>1956</td>\n",
       "      <td>2.89</td>\n",
       "      <td>57.76</td>\n",
       "      <td>Eisenhower</td>\n",
       "      <td>Stevenson</td>\n",
       "    </tr>\n",
       "    <tr>\n",
       "      <th>2</th>\n",
       "      <td>1960</td>\n",
       "      <td>0.85</td>\n",
       "      <td>49.91</td>\n",
       "      <td>Nixon</td>\n",
       "      <td>Kennedy</td>\n",
       "    </tr>\n",
       "    <tr>\n",
       "      <th>3</th>\n",
       "      <td>1964</td>\n",
       "      <td>4.21</td>\n",
       "      <td>61.34</td>\n",
       "      <td>Johnson</td>\n",
       "      <td>Goldwater</td>\n",
       "    </tr>\n",
       "    <tr>\n",
       "      <th>4</th>\n",
       "      <td>1968</td>\n",
       "      <td>3.02</td>\n",
       "      <td>49.60</td>\n",
       "      <td>Humphrey</td>\n",
       "      <td>Nixon</td>\n",
       "    </tr>\n",
       "  </tbody>\n",
       "</table>\n",
       "</div>"
      ],
      "text/plain": [
       "   year  growth   vote inc_party_candidate other_candidate\n",
       "0  1952    2.40  44.60           Stevenson      Eisenhower\n",
       "1  1956    2.89  57.76          Eisenhower       Stevenson\n",
       "2  1960    0.85  49.91               Nixon         Kennedy\n",
       "3  1964    4.21  61.34             Johnson       Goldwater\n",
       "4  1968    3.02  49.60            Humphrey           Nixon"
      ]
     },
     "execution_count": 7,
     "metadata": {},
     "output_type": "execute_result"
    }
   ],
   "source": [
    "data.head()"
   ]
  },
  {
   "cell_type": "code",
   "execution_count": 8,
   "id": "90825e04",
   "metadata": {
    "execution": {
     "iopub.execute_input": "2021-05-24T15:51:24.433700Z",
     "iopub.status.busy": "2021-05-24T15:51:24.433558Z",
     "iopub.status.idle": "2021-05-24T15:51:24.599375Z",
     "shell.execute_reply": "2021-05-24T15:51:24.597348Z",
     "shell.execute_reply.started": "2021-05-24T15:51:24.433683Z"
    },
    "tags": []
   },
   "outputs": [],
   "source": [
    "def rss(x,y,a,b):\n",
    "    resid = y-(a+b*x)\n",
    "    return sum(np.power(resid,2))"
   ]
  },
  {
   "cell_type": "code",
   "execution_count": 9,
   "id": "82609eb0",
   "metadata": {
    "execution": {
     "iopub.execute_input": "2021-05-24T15:51:24.602819Z",
     "iopub.status.busy": "2021-05-24T15:51:24.602219Z",
     "iopub.status.idle": "2021-05-24T15:51:24.736989Z",
     "shell.execute_reply": "2021-05-24T15:51:24.734996Z",
     "shell.execute_reply.started": "2021-05-24T15:51:24.602744Z"
    },
    "tags": []
   },
   "outputs": [],
   "source": [
    "a_fixed = 46.3 # a is intercept \n",
    "b_fixed = 3 #b is slope"
   ]
  },
  {
   "cell_type": "code",
   "execution_count": 10,
   "id": "77cbeacc",
   "metadata": {
    "execution": {
     "iopub.execute_input": "2021-05-24T15:51:24.744459Z",
     "iopub.status.busy": "2021-05-24T15:51:24.743847Z",
     "iopub.status.idle": "2021-05-24T15:51:24.887804Z",
     "shell.execute_reply": "2021-05-24T15:51:24.885696Z",
     "shell.execute_reply.started": "2021-05-24T15:51:24.744385Z"
    },
    "tags": []
   },
   "outputs": [],
   "source": [
    "x = data['growth']\n",
    "y = data['vote']"
   ]
  },
  {
   "cell_type": "code",
   "execution_count": 11,
   "id": "19a1da68",
   "metadata": {
    "execution": {
     "iopub.execute_input": "2021-05-24T15:51:24.892546Z",
     "iopub.status.busy": "2021-05-24T15:51:24.891939Z",
     "iopub.status.idle": "2021-05-24T15:51:25.166917Z",
     "shell.execute_reply": "2021-05-24T15:51:25.166512Z",
     "shell.execute_reply.started": "2021-05-24T15:51:24.892471Z"
    },
    "tags": []
   },
   "outputs": [],
   "source": [
    "a_free_rss = []\n",
    "for a in np.linspace(20,80,100):\n",
    "    a_free_rss.append(rss(x,y,a,b_fixed))"
   ]
  },
  {
   "cell_type": "code",
   "execution_count": 12,
   "id": "b3dafe1c",
   "metadata": {
    "execution": {
     "iopub.execute_input": "2021-05-24T15:51:25.167663Z",
     "iopub.status.busy": "2021-05-24T15:51:25.167502Z",
     "iopub.status.idle": "2021-05-24T15:51:26.656769Z",
     "shell.execute_reply": "2021-05-24T15:51:26.656332Z",
     "shell.execute_reply.started": "2021-05-24T15:51:25.167646Z"
    },
    "tags": []
   },
   "outputs": [
    {
     "data": {
      "text/plain": [
       "<matplotlib.collections.PathCollection at 0x7fb134b5ceb0>"
      ]
     },
     "execution_count": 12,
     "metadata": {},
     "output_type": "execute_result"
    },
    {
     "data": {
      "image/png": "[encoded data removed]",
      "text/plain": [
       "<Figure size 576x396 with 1 Axes>"
      ]
     },
     "metadata": {},
     "output_type": "display_data"
    }
   ],
   "source": [
    "plt.scatter(np.linspace(20,80,100), a_free_rss)"
   ]
  },
  {
   "cell_type": "code",
   "execution_count": 13,
   "id": "910b13fe",
   "metadata": {
    "execution": {
     "iopub.execute_input": "2021-05-24T15:51:26.657515Z",
     "iopub.status.busy": "2021-05-24T15:51:26.657349Z",
     "iopub.status.idle": "2021-05-24T15:51:26.694981Z",
     "shell.execute_reply": "2021-05-24T15:51:26.694307Z",
     "shell.execute_reply.started": "2021-05-24T15:51:26.657485Z"
    },
    "tags": []
   },
   "outputs": [],
   "source": [
    "b_free_rss = []\n",
    "for b in np.linspace(1,10,100):\n",
    "    b_free_rss.append(rss(x,y,a_fixed,b))"
   ]
  },
  {
   "cell_type": "code",
   "execution_count": 14,
   "id": "eaf42bc2",
   "metadata": {
    "execution": {
     "iopub.execute_input": "2021-05-24T15:51:26.695844Z",
     "iopub.status.busy": "2021-05-24T15:51:26.695604Z",
     "iopub.status.idle": "2021-05-24T15:51:27.133918Z",
     "shell.execute_reply": "2021-05-24T15:51:27.133428Z",
     "shell.execute_reply.started": "2021-05-24T15:51:26.695825Z"
    }
   },
   "outputs": [
    {
     "data": {
      "text/plain": [
       "<matplotlib.collections.PathCollection at 0x7fb134aff730>"
      ]
     },
     "execution_count": 14,
     "metadata": {},
     "output_type": "execute_result"
    },
    {
     "data": {
      "image/png": "[encoded data removed]",
      "text/plain": [
       "<Figure size 576x396 with 1 Axes>"
      ]
     },
     "metadata": {},
     "output_type": "display_data"
    }
   ],
   "source": [
    "plt.scatter(np.linspace(1,10,100), b_free_rss)"
   ]
  },
  {
   "cell_type": "markdown",
   "id": "48678328",
   "metadata": {},
   "source": [
    "# 8.2 Maximum Likelihood"
   ]
  },
  {
   "cell_type": "code",
   "execution_count": 15,
   "id": "ea044237",
   "metadata": {
    "execution": {
     "iopub.execute_input": "2021-05-24T15:51:27.134664Z",
     "iopub.status.busy": "2021-05-24T15:51:27.134506Z",
     "iopub.status.idle": "2021-05-24T15:51:27.157433Z",
     "shell.execute_reply": "2021-05-24T15:51:27.156972Z",
     "shell.execute_reply.started": "2021-05-24T15:51:27.134647Z"
    },
    "tags": []
   },
   "outputs": [],
   "source": [
    "def rss_lh(x,y,a,b,sigma):\n",
    "    p = np.sum(-1/2*np.power((y-(a+b*x))/sigma,2)-np.log(sigma))    \n",
    "    return p"
   ]
  },
  {
   "cell_type": "code",
   "execution_count": 16,
   "id": "2a1969f3",
   "metadata": {
    "execution": {
     "iopub.execute_input": "2021-05-24T15:51:27.158106Z",
     "iopub.status.busy": "2021-05-24T15:51:27.157981Z",
     "iopub.status.idle": "2021-05-24T15:51:27.293388Z",
     "shell.execute_reply": "2021-05-24T15:51:27.292860Z",
     "shell.execute_reply.started": "2021-05-24T15:51:27.158090Z"
    },
    "tags": []
   },
   "outputs": [
    {
     "data": {
      "text/plain": [
       "3.521737852254197"
      ]
     },
     "execution_count": 16,
     "metadata": {},
     "output_type": "execute_result"
    }
   ],
   "source": [
    "sigma_true = np.sqrt(1/len(x)*np.sum(np.power(y-(a_fixed+b_fixed*x),2)))\n",
    "sigma_true"
   ]
  },
  {
   "cell_type": "code",
   "execution_count": 17,
   "id": "53ad9d12",
   "metadata": {
    "execution": {
     "iopub.execute_input": "2021-05-24T15:51:27.294234Z",
     "iopub.status.busy": "2021-05-24T15:51:27.294078Z",
     "iopub.status.idle": "2021-05-24T15:51:27.436628Z",
     "shell.execute_reply": "2021-05-24T15:51:27.434639Z",
     "shell.execute_reply.started": "2021-05-24T15:51:27.294217Z"
    },
    "tags": []
   },
   "outputs": [
    {
     "data": {
      "text/plain": [
       "3.764896128333803"
      ]
     },
     "execution_count": 17,
     "metadata": {},
     "output_type": "execute_result"
    }
   ],
   "source": [
    "sigma_classic = np.sqrt(1/(len(x)-2)*np.sum(np.power(y-(a_fixed+b_fixed*x),2)))\n",
    "sigma_classic"
   ]
  },
  {
   "cell_type": "code",
   "execution_count": 18,
   "id": "54742453",
   "metadata": {
    "execution": {
     "iopub.execute_input": "2021-05-24T15:51:27.439785Z",
     "iopub.status.busy": "2021-05-24T15:51:27.439153Z",
     "iopub.status.idle": "2021-05-24T15:51:28.263669Z",
     "shell.execute_reply": "2021-05-24T15:51:28.263216Z",
     "shell.execute_reply.started": "2021-05-24T15:51:27.439712Z"
    },
    "tags": []
   },
   "outputs": [
    {
     "data": {
      "text/plain": [
       "<matplotlib.collections.PathCollection at 0x7fb134a6e400>"
      ]
     },
     "execution_count": 18,
     "metadata": {},
     "output_type": "execute_result"
    },
    {
     "data": {
      "image/png": "[encoded data removed]",
      "text/plain": [
       "<Figure size 576x396 with 1 Axes>"
      ]
     },
     "metadata": {},
     "output_type": "display_data"
    }
   ],
   "source": [
    "sample_space = np.linspace(20,80,1000)\n",
    "a_free_rss = []\n",
    "for a in sample_space:\n",
    "    a_free_rss.append(rss_lh(x,y,a,b_fixed,sigma_true))\n",
    "plt.scatter(sample_space, a_free_rss)"
   ]
  },
  {
   "cell_type": "code",
   "execution_count": 19,
   "id": "a61568c2",
   "metadata": {
    "execution": {
     "iopub.execute_input": "2021-05-24T15:51:28.264372Z",
     "iopub.status.busy": "2021-05-24T15:51:28.264240Z",
     "iopub.status.idle": "2021-05-24T15:51:28.424928Z",
     "shell.execute_reply": "2021-05-24T15:51:28.424488Z",
     "shell.execute_reply.started": "2021-05-24T15:51:28.264354Z"
    },
    "tags": []
   },
   "outputs": [
    {
     "data": {
      "text/plain": [
       "<matplotlib.collections.PathCollection at 0x7fb1349d10d0>"
      ]
     },
     "execution_count": 19,
     "metadata": {},
     "output_type": "execute_result"
    },
    {
     "data": {
      "image/png": "[encoded data removed]",
      "text/plain": [
       "<Figure size 576x396 with 1 Axes>"
      ]
     },
     "metadata": {},
     "output_type": "display_data"
    }
   ],
   "source": [
    "sample_space = np.linspace(0,10,100)\n",
    "b_free_rss = []\n",
    "for b in sample_space:\n",
    "    b_free_rss.append(rss_lh(x,y,a_fixed,b,sigma_true))\n",
    "plt.scatter(sample_space, b_free_rss)"
   ]
  },
  {
   "cell_type": "code",
   "execution_count": 20,
   "id": "a02e4673",
   "metadata": {
    "execution": {
     "iopub.execute_input": "2021-05-24T15:51:28.425707Z",
     "iopub.status.busy": "2021-05-24T15:51:28.425565Z",
     "iopub.status.idle": "2021-05-24T15:51:29.182401Z",
     "shell.execute_reply": "2021-05-24T15:51:29.181926Z",
     "shell.execute_reply.started": "2021-05-24T15:51:28.425688Z"
    },
    "tags": []
   },
   "outputs": [
    {
     "data": {
      "text/plain": [
       "<matplotlib.collections.PathCollection at 0x7fb1349ae520>"
      ]
     },
     "execution_count": 20,
     "metadata": {},
     "output_type": "execute_result"
    },
    {
     "data": {
      "image/png": "[encoded data removed]",
      "text/plain": [
       "<Figure size 576x396 with 1 Axes>"
      ]
     },
     "metadata": {},
     "output_type": "display_data"
    }
   ],
   "source": [
    "sample_space = np.linspace(1,6,100)\n",
    "sigma_free_rss = []\n",
    "for sigma in sample_space:\n",
    "    sigma_free_rss.append(rss_lh(x,y,a_fixed,b_fixed,sigma))\n",
    "plt.scatter(sample_space, sigma_free_rss)"
   ]
  },
  {
   "cell_type": "markdown",
   "id": "5eecc85f",
   "metadata": {},
   "source": [
    "# 8.3 Least Absolute deviation"
   ]
  },
  {
   "cell_type": "code",
   "execution_count": 21,
   "id": "3898f548",
   "metadata": {
    "execution": {
     "iopub.execute_input": "2021-05-24T15:51:29.183098Z",
     "iopub.status.busy": "2021-05-24T15:51:29.182967Z",
     "iopub.status.idle": "2021-05-24T15:51:29.185664Z",
     "shell.execute_reply": "2021-05-24T15:51:29.185232Z",
     "shell.execute_reply.started": "2021-05-24T15:51:29.183081Z"
    }
   },
   "outputs": [],
   "source": [
    "def rss_abs(x,y,a,b):\n",
    "    resid = y-(a+b*x)\n",
    "    return sum(np.abs(resid))"
   ]
  },
  {
   "cell_type": "code",
   "execution_count": 22,
   "id": "3a4685b7",
   "metadata": {
    "execution": {
     "iopub.execute_input": "2021-05-24T15:51:29.186364Z",
     "iopub.status.busy": "2021-05-24T15:51:29.186231Z",
     "iopub.status.idle": "2021-05-24T15:51:29.726066Z",
     "shell.execute_reply": "2021-05-24T15:51:29.725439Z",
     "shell.execute_reply.started": "2021-05-24T15:51:29.186347Z"
    }
   },
   "outputs": [
    {
     "data": {
      "text/plain": [
       "<matplotlib.collections.PathCollection at 0x7fb13491f160>"
      ]
     },
     "execution_count": 22,
     "metadata": {},
     "output_type": "execute_result"
    },
    {
     "data": {
      "image/png": "[encoded data removed]",
      "text/plain": [
       "<Figure size 576x396 with 1 Axes>"
      ]
     },
     "metadata": {},
     "output_type": "display_data"
    }
   ],
   "source": [
    "sample_space = np.linspace(20,80,1000)\n",
    "a_free_rss = []\n",
    "for a in sample_space:\n",
    "    a_free_rss.append(rss_abs(x,y,a,b_fixed))\n",
    "plt.scatter(sample_space, a_free_rss)"
   ]
  },
  {
   "cell_type": "code",
   "execution_count": 23,
   "id": "4b74bc14",
   "metadata": {
    "execution": {
     "iopub.execute_input": "2021-05-24T15:51:29.726905Z",
     "iopub.status.busy": "2021-05-24T15:51:29.726743Z",
     "iopub.status.idle": "2021-05-24T15:51:29.730075Z",
     "shell.execute_reply": "2021-05-24T15:51:29.729505Z",
     "shell.execute_reply.started": "2021-05-24T15:51:29.726882Z"
    }
   },
   "outputs": [
    {
     "data": {
      "text/plain": [
       "41.35999999999999"
      ]
     },
     "execution_count": 23,
     "metadata": {},
     "output_type": "execute_result"
    }
   ],
   "source": [
    "min(a_free_rss)"
   ]
  },
  {
   "cell_type": "code",
   "execution_count": 24,
   "id": "5afff56d",
   "metadata": {
    "execution": {
     "iopub.execute_input": "2021-05-24T15:51:29.730961Z",
     "iopub.status.busy": "2021-05-24T15:51:29.730803Z",
     "iopub.status.idle": "2021-05-24T15:51:31.111852Z",
     "shell.execute_reply": "2021-05-24T15:51:31.111310Z",
     "shell.execute_reply.started": "2021-05-24T15:51:29.730943Z"
    }
   },
   "outputs": [
    {
     "data": {
      "text/plain": [
       "<matplotlib.collections.PathCollection at 0x7fb1348eeeb0>"
      ]
     },
     "execution_count": 24,
     "metadata": {},
     "output_type": "execute_result"
    },
    {
     "data": {
      "image/png": "[encoded data removed]",
      "text/plain": [
       "<Figure size 576x396 with 1 Axes>"
      ]
     },
     "metadata": {},
     "output_type": "display_data"
    }
   ],
   "source": [
    "sample_space = np.linspace(0,10,100)\n",
    "b_free_rss = []\n",
    "for b in sample_space:\n",
    "    b_free_rss.append(rss_abs(x,y,a_fixed,b))\n",
    "plt.scatter(sample_space, b_free_rss)"
   ]
  },
  {
   "cell_type": "code",
   "execution_count": 25,
   "id": "4c9b8f86",
   "metadata": {
    "execution": {
     "iopub.execute_input": "2021-05-24T15:51:31.112678Z",
     "iopub.status.busy": "2021-05-24T15:51:31.112498Z",
     "iopub.status.idle": "2021-05-24T15:51:31.364807Z",
     "shell.execute_reply": "2021-05-24T15:51:31.363832Z",
     "shell.execute_reply.started": "2021-05-24T15:51:31.112659Z"
    },
    "tags": []
   },
   "outputs": [
    {
     "data": {
      "text/plain": [
       "38.35333333333332"
      ]
     },
     "execution_count": 25,
     "metadata": {},
     "output_type": "execute_result"
    }
   ],
   "source": [
    "min(b_free_rss)"
   ]
  },
  {
   "cell_type": "markdown",
   "id": "1cb69e03",
   "metadata": {},
   "source": [
    "# 8.4 Least squares and least absolute deviatioon"
   ]
  },
  {
   "cell_type": "code",
   "execution_count": 26,
   "id": "b08b83d7",
   "metadata": {
    "execution": {
     "iopub.execute_input": "2021-05-24T15:51:31.367597Z",
     "iopub.status.busy": "2021-05-24T15:51:31.367114Z",
     "iopub.status.idle": "2021-05-24T15:51:31.718994Z",
     "shell.execute_reply": "2021-05-24T15:51:31.718310Z",
     "shell.execute_reply.started": "2021-05-24T15:51:31.367557Z"
    }
   },
   "outputs": [],
   "source": [
    "x = np.linspace(-10,10,100)\n",
    "y = np.power(x,2)"
   ]
  },
  {
   "cell_type": "code",
   "execution_count": 27,
   "id": "e44af299",
   "metadata": {
    "execution": {
     "iopub.execute_input": "2021-05-24T15:51:31.720083Z",
     "iopub.status.busy": "2021-05-24T15:51:31.719893Z",
     "iopub.status.idle": "2021-05-24T15:51:32.024147Z",
     "shell.execute_reply": "2021-05-24T15:51:32.023687Z",
     "shell.execute_reply.started": "2021-05-24T15:51:31.720060Z"
    }
   },
   "outputs": [
    {
     "data": {
      "text/plain": [
       "<matplotlib.collections.PathCollection at 0x7fb134852490>"
      ]
     },
     "execution_count": 27,
     "metadata": {},
     "output_type": "execute_result"
    },
    {
     "data": {
      "image/png": "[encoded data removed]",
      "text/plain": [
       "<Figure size 576x396 with 1 Axes>"
      ]
     },
     "metadata": {},
     "output_type": "display_data"
    }
   ],
   "source": [
    "plt.scatter(x,y)"
   ]
  },
  {
   "cell_type": "code",
   "execution_count": 28,
   "id": "55a23564",
   "metadata": {
    "execution": {
     "iopub.execute_input": "2021-05-24T15:51:32.026566Z",
     "iopub.status.busy": "2021-05-24T15:51:32.026250Z",
     "iopub.status.idle": "2021-05-24T15:51:32.158422Z",
     "shell.execute_reply": "2021-05-24T15:51:32.157965Z",
     "shell.execute_reply.started": "2021-05-24T15:51:32.026544Z"
    },
    "tags": []
   },
   "outputs": [
    {
     "data": {
      "text/plain": [
       "<matplotlib.collections.PathCollection at 0x7fb134884790>"
      ]
     },
     "execution_count": 28,
     "metadata": {},
     "output_type": "execute_result"
    },
    {
     "data": {
      "image/png": "[encoded data removed]",
      "text/plain": [
       "<Figure size 576x396 with 1 Axes>"
      ]
     },
     "metadata": {},
     "output_type": "display_data"
    }
   ],
   "source": [
    "sample_space = np.linspace(10,80,1000)\n",
    "a_free_rss = []\n",
    "for a in sample_space:\n",
    "    a_free_rss.append(rss_abs(x,y,a,b_fixed))\n",
    "plt.scatter(sample_space, a_free_rss)"
   ]
  },
  {
   "cell_type": "code",
   "execution_count": 29,
   "id": "ef0835fe",
   "metadata": {
    "execution": {
     "iopub.execute_input": "2021-05-24T15:51:32.159420Z",
     "iopub.status.busy": "2021-05-24T15:51:32.159255Z",
     "iopub.status.idle": "2021-05-24T15:51:32.275135Z",
     "shell.execute_reply": "2021-05-24T15:51:32.274660Z",
     "shell.execute_reply.started": "2021-05-24T15:51:32.159400Z"
    }
   },
   "outputs": [
    {
     "data": {
      "text/plain": [
       "<matplotlib.collections.PathCollection at 0x7fb1347fc790>"
      ]
     },
     "execution_count": 29,
     "metadata": {},
     "output_type": "execute_result"
    },
    {
     "data": {
      "image/png": "[encoded data removed]",
      "text/plain": [
       "<Figure size 576x396 with 1 Axes>"
      ]
     },
     "metadata": {},
     "output_type": "display_data"
    }
   ],
   "source": [
    "sample_space = np.linspace(10,80,1000)\n",
    "a_free_rss = []\n",
    "for a in sample_space:\n",
    "    a_free_rss.append(rss(x,y,a,b_fixed))\n",
    "plt.scatter(sample_space, a_free_rss)"
   ]
  },
  {
   "cell_type": "markdown",
   "id": "d2d3678a",
   "metadata": {},
   "source": [
    "Basically, if the model is not linear...if it is linear the two agrees"
   ]
  },
  {
   "cell_type": "markdown",
   "id": "593f1d8d",
   "metadata": {},
   "source": [
    "Okay maybe let's try big errors"
   ]
  },
  {
   "cell_type": "code",
   "execution_count": 30,
   "id": "f07d2d2b",
   "metadata": {
    "execution": {
     "iopub.execute_input": "2021-05-24T15:51:32.275876Z",
     "iopub.status.busy": "2021-05-24T15:51:32.275736Z",
     "iopub.status.idle": "2021-05-24T15:51:33.119217Z",
     "shell.execute_reply": "2021-05-24T15:51:33.118709Z",
     "shell.execute_reply.started": "2021-05-24T15:51:32.275858Z"
    },
    "tags": []
   },
   "outputs": [],
   "source": [
    "x = np.linspace(-10,10,100)\n",
    "y = 5*x+6+np.random.normal(0, 10, 100)"
   ]
  },
  {
   "cell_type": "code",
   "execution_count": 31,
   "id": "15f4272d",
   "metadata": {
    "execution": {
     "iopub.execute_input": "2021-05-24T15:51:33.119897Z",
     "iopub.status.busy": "2021-05-24T15:51:33.119779Z",
     "iopub.status.idle": "2021-05-24T15:51:33.927819Z",
     "shell.execute_reply": "2021-05-24T15:51:33.926975Z",
     "shell.execute_reply.started": "2021-05-24T15:51:33.119881Z"
    },
    "tags": []
   },
   "outputs": [
    {
     "data": {
      "text/plain": [
       "<matplotlib.collections.PathCollection at 0x7fb134a7cfa0>"
      ]
     },
     "execution_count": 31,
     "metadata": {},
     "output_type": "execute_result"
    },
    {
     "data": {
      "image/png": "[encoded data removed]",
      "text/plain": [
       "<Figure size 576x396 with 1 Axes>"
      ]
     },
     "metadata": {},
     "output_type": "display_data"
    }
   ],
   "source": [
    "sample_space = np.linspace(1,10,1000)\n",
    "a_free_rss = []\n",
    "for a in sample_space:\n",
    "    a_free_rss.append(rss_abs(x,y,a,5))\n",
    "plt.scatter(sample_space, a_free_rss)"
   ]
  },
  {
   "cell_type": "code",
   "execution_count": 32,
   "id": "2046d2f1",
   "metadata": {
    "execution": {
     "iopub.execute_input": "2021-05-24T15:51:33.929036Z",
     "iopub.status.busy": "2021-05-24T15:51:33.928759Z",
     "iopub.status.idle": "2021-05-24T15:51:34.295934Z",
     "shell.execute_reply": "2021-05-24T15:51:34.295097Z",
     "shell.execute_reply.started": "2021-05-24T15:51:33.929003Z"
    },
    "tags": []
   },
   "outputs": [
    {
     "data": {
      "text/plain": [
       "<matplotlib.collections.PathCollection at 0x7fb1347b87f0>"
      ]
     },
     "execution_count": 32,
     "metadata": {},
     "output_type": "execute_result"
    },
    {
     "data": {
      "image/png": "[encoded data removed]",
      "text/plain": [
       "<Figure size 576x396 with 1 Axes>"
      ]
     },
     "metadata": {},
     "output_type": "display_data"
    }
   ],
   "source": [
    "sample_space = np.linspace(1,10,1000)\n",
    "a_free_rss = []\n",
    "for a in sample_space:\n",
    "    a_free_rss.append(rss(x,y,a,5))\n",
    "plt.scatter(sample_space, a_free_rss)"
   ]
  },
  {
   "cell_type": "code",
   "execution_count": 33,
   "id": "23760c7f",
   "metadata": {
    "execution": {
     "iopub.execute_input": "2021-05-24T15:51:34.297221Z",
     "iopub.status.busy": "2021-05-24T15:51:34.296897Z",
     "iopub.status.idle": "2021-05-24T15:51:34.500263Z",
     "shell.execute_reply": "2021-05-24T15:51:34.499578Z",
     "shell.execute_reply.started": "2021-05-24T15:51:34.297198Z"
    },
    "tags": []
   },
   "outputs": [
    {
     "data": {
      "text/plain": [
       "<matplotlib.collections.PathCollection at 0x7fb1346db370>"
      ]
     },
     "execution_count": 33,
     "metadata": {},
     "output_type": "execute_result"
    },
    {
     "data": {
      "image/png": "[encoded data removed]",
      "text/plain": [
       "<Figure size 576x396 with 1 Axes>"
      ]
     },
     "metadata": {},
     "output_type": "display_data"
    }
   ],
   "source": [
    "plt.scatter(x,y)"
   ]
  },
  {
   "cell_type": "markdown",
   "id": "6b16f612",
   "metadata": {},
   "source": [
    "essentially we need big errors, so influenced by outliers"
   ]
  },
  {
   "cell_type": "markdown",
   "id": "237f4fe3",
   "metadata": {},
   "source": [
    "# 8.5 influence of individual data points"
   ]
  },
  {
   "cell_type": "markdown",
   "id": "2c8ef040",
   "metadata": {},
   "source": [
    "Skipping due to writing on the book, but it would be the biggest away point on the far end"
   ]
  },
  {
   "cell_type": "markdown",
   "id": "7a3fb640",
   "metadata": {},
   "source": [
    "# 8.6 Influence of individual data points"
   ]
  },
  {
   "cell_type": "code",
   "execution_count": 34,
   "id": "ddb6ec5a",
   "metadata": {
    "execution": {
     "iopub.execute_input": "2021-05-24T15:51:34.501136Z",
     "iopub.status.busy": "2021-05-24T15:51:34.500980Z",
     "iopub.status.idle": "2021-05-24T15:51:34.505998Z",
     "shell.execute_reply": "2021-05-24T15:51:34.505317Z",
     "shell.execute_reply.started": "2021-05-24T15:51:34.501117Z"
    },
    "tags": []
   },
   "outputs": [],
   "source": [
    "def influence_slope(x):\n",
    "    x_bar = np.mean(x)\n",
    "    return (x-x_bar)/np.sum(np.power(x-x_bar, 2))"
   ]
  },
  {
   "cell_type": "code",
   "execution_count": 35,
   "id": "1aaeb1ca",
   "metadata": {
    "execution": {
     "iopub.execute_input": "2021-05-24T15:51:34.512459Z",
     "iopub.status.busy": "2021-05-24T15:51:34.512241Z",
     "iopub.status.idle": "2021-05-24T15:51:34.621147Z",
     "shell.execute_reply": "2021-05-24T15:51:34.620622Z",
     "shell.execute_reply.started": "2021-05-24T15:51:34.512437Z"
    },
    "tags": []
   },
   "outputs": [],
   "source": [
    "x = data['growth']\n",
    "y = data['vote']"
   ]
  },
  {
   "cell_type": "code",
   "execution_count": 36,
   "id": "e886b073",
   "metadata": {
    "execution": {
     "iopub.execute_input": "2021-05-24T15:51:34.621914Z",
     "iopub.status.busy": "2021-05-24T15:51:34.621772Z",
     "iopub.status.idle": "2021-05-24T15:51:34.835242Z",
     "shell.execute_reply": "2021-05-24T15:51:34.834695Z",
     "shell.execute_reply.started": "2021-05-24T15:51:34.621896Z"
    },
    "tags": []
   },
   "outputs": [
    {
     "data": {
      "text/plain": [
       "<matplotlib.collections.PathCollection at 0x7fb1346bb850>"
      ]
     },
     "execution_count": 36,
     "metadata": {},
     "output_type": "execute_result"
    },
    {
     "data": {
      "image/png": "[encoded data removed]",
      "text/plain": [
       "<Figure size 576x396 with 1 Axes>"
      ]
     },
     "metadata": {},
     "output_type": "display_data"
    }
   ],
   "source": [
    "plt.scatter(x, influence_slope(x))"
   ]
  },
  {
   "cell_type": "code",
   "execution_count": 37,
   "id": "dd222d15",
   "metadata": {
    "execution": {
     "iopub.execute_input": "2021-05-24T15:51:34.836097Z",
     "iopub.status.busy": "2021-05-24T15:51:34.835939Z",
     "iopub.status.idle": "2021-05-24T15:51:35.433421Z",
     "shell.execute_reply": "2021-05-24T15:51:35.432634Z",
     "shell.execute_reply.started": "2021-05-24T15:51:34.836076Z"
    },
    "tags": []
   },
   "outputs": [
    {
     "name": "stdout",
     "output_type": "stream",
     "text": [
      "b_hat is 3.0777293592899007\n",
      "b_hat is 3.0945027710360815\n",
      "b_hat is 3.0246706078479004\n",
      "b_hat is 3.13968828839314\n",
      "b_hat is 3.098952859866701\n",
      "b_hat is 3.1194917313926354\n",
      "b_hat is 3.032543841932843\n",
      "b_hat is 2.9822236066943013\n",
      "b_hat is 3.12770728000301\n",
      "b_hat is 3.073279270459282\n",
      "b_hat is 3.008581825152585\n",
      "b_hat is 3.031174583831114\n",
      "b_hat is 3.076360101188172\n",
      "b_hat is 3.054451971560508\n",
      "b_hat is 2.998997018440482\n",
      "b_hat is 3.0280937531022243\n"
     ]
    }
   ],
   "source": [
    "# we will actually do least square, i.e. statsmodel\n",
    "b_hat = []\n",
    "for i in range (0, len(x)):\n",
    "    new_y = y.copy()\n",
    "    new_y[i] += 1\n",
    "    x_sm = sm.add_constant(x)\n",
    "    res = sm.GLM(new_y, x_sm).fit()\n",
    "    print(f\"b_hat is {res.params[1]}\")\n",
    "    b_hat.append(res.params[1])"
   ]
  },
  {
   "cell_type": "code",
   "execution_count": 38,
   "id": "0b0abf29",
   "metadata": {
    "execution": {
     "iopub.execute_input": "2021-05-24T15:51:35.434530Z",
     "iopub.status.busy": "2021-05-24T15:51:35.434313Z",
     "iopub.status.idle": "2021-05-24T15:51:35.439246Z",
     "shell.execute_reply": "2021-05-24T15:51:35.438617Z",
     "shell.execute_reply.started": "2021-05-24T15:51:35.434506Z"
    },
    "tags": []
   },
   "outputs": [],
   "source": [
    "true_res = sm.GLM(y,x_sm).fit()"
   ]
  },
  {
   "cell_type": "code",
   "execution_count": 39,
   "id": "377951a7",
   "metadata": {
    "execution": {
     "iopub.execute_input": "2021-05-24T15:51:35.440225Z",
     "iopub.status.busy": "2021-05-24T15:51:35.439949Z",
     "iopub.status.idle": "2021-05-24T15:51:36.461002Z",
     "shell.execute_reply": "2021-05-24T15:51:36.459292Z",
     "shell.execute_reply.started": "2021-05-24T15:51:35.440201Z"
    },
    "tags": []
   },
   "outputs": [],
   "source": [
    "b_true = sm.GLM(y,x_sm).fit().params[1]"
   ]
  },
  {
   "cell_type": "code",
   "execution_count": 40,
   "id": "4682881f",
   "metadata": {
    "execution": {
     "iopub.execute_input": "2021-05-24T15:51:36.462981Z",
     "iopub.status.busy": "2021-05-24T15:51:36.462601Z",
     "iopub.status.idle": "2021-05-24T15:51:36.772381Z",
     "shell.execute_reply": "2021-05-24T15:51:36.770264Z",
     "shell.execute_reply.started": "2021-05-24T15:51:36.462932Z"
    },
    "tags": []
   },
   "outputs": [
    {
     "data": {
      "text/plain": [
       "3.06052805438693"
      ]
     },
     "execution_count": 40,
     "metadata": {},
     "output_type": "execute_result"
    }
   ],
   "source": [
    "b_true"
   ]
  },
  {
   "cell_type": "code",
   "execution_count": 41,
   "id": "823a33c5",
   "metadata": {
    "execution": {
     "iopub.execute_input": "2021-05-24T15:51:36.775221Z",
     "iopub.status.busy": "2021-05-24T15:51:36.774593Z",
     "iopub.status.idle": "2021-05-24T15:51:37.003737Z",
     "shell.execute_reply": "2021-05-24T15:51:37.002117Z",
     "shell.execute_reply.started": "2021-05-24T15:51:36.775144Z"
    },
    "tags": []
   },
   "outputs": [
    {
     "data": {
      "text/plain": [
       "array([ 0.0172013 ,  0.03397472, -0.03585745,  0.07916023,  0.03842481,\n",
       "        0.05896368, -0.02798421, -0.07830445,  0.06717923,  0.01275122,\n",
       "       -0.05194623, -0.02935347,  0.01583205, -0.00607608, -0.06153104,\n",
       "       -0.0324343 ])"
      ]
     },
     "execution_count": 41,
     "metadata": {},
     "output_type": "execute_result"
    }
   ],
   "source": [
    "np.array(b_hat)-b_true"
   ]
  },
  {
   "cell_type": "code",
   "execution_count": 42,
   "id": "9d11a1d5",
   "metadata": {
    "execution": {
     "iopub.execute_input": "2021-05-24T15:51:37.007569Z",
     "iopub.status.busy": "2021-05-24T15:51:37.006775Z",
     "iopub.status.idle": "2021-05-24T15:51:37.136309Z",
     "shell.execute_reply": "2021-05-24T15:51:37.134821Z",
     "shell.execute_reply.started": "2021-05-24T15:51:37.007472Z"
    },
    "tags": []
   },
   "outputs": [
    {
     "data": {
      "text/plain": [
       "0     0.017201\n",
       "1     0.033975\n",
       "2    -0.035857\n",
       "3     0.079160\n",
       "4     0.038425\n",
       "5     0.058964\n",
       "6    -0.027984\n",
       "7    -0.078304\n",
       "8     0.067179\n",
       "9     0.012751\n",
       "10   -0.051946\n",
       "11   -0.029353\n",
       "12    0.015832\n",
       "13   -0.006076\n",
       "14   -0.061531\n",
       "15   -0.032434\n",
       "Name: growth, dtype: float64"
      ]
     },
     "execution_count": 42,
     "metadata": {},
     "output_type": "execute_result"
    }
   ],
   "source": [
    "influence_slope(x)"
   ]
  },
  {
   "cell_type": "code",
   "execution_count": 43,
   "id": "85a3827f",
   "metadata": {
    "execution": {
     "iopub.execute_input": "2021-05-24T15:51:37.139141Z",
     "iopub.status.busy": "2021-05-24T15:51:37.138352Z",
     "iopub.status.idle": "2021-05-24T15:51:37.308833Z",
     "shell.execute_reply": "2021-05-24T15:51:37.307080Z",
     "shell.execute_reply.started": "2021-05-24T15:51:37.139080Z"
    }
   },
   "outputs": [
    {
     "data": {
      "text/plain": [
       "0    -4.961309e-16\n",
       "1    -2.706169e-16\n",
       "2    -7.979728e-16\n",
       "3     2.775558e-16\n",
       "4    -2.775558e-17\n",
       "5    -1.235123e-15\n",
       "6    -1.595946e-16\n",
       "7     4.163336e-17\n",
       "8    -6.383782e-16\n",
       "9     1.457168e-16\n",
       "10   -2.289835e-16\n",
       "11    3.816392e-17\n",
       "12   -2.949030e-16\n",
       "13    2.151057e-16\n",
       "14    2.636780e-16\n",
       "15    4.857226e-16\n",
       "Name: growth, dtype: float64"
      ]
     },
     "execution_count": 43,
     "metadata": {},
     "output_type": "execute_result"
    }
   ],
   "source": [
    "np.array(b_hat)-b_true - influence_slope(x)"
   ]
  },
  {
   "cell_type": "markdown",
   "id": "5b2c2d94",
   "metadata": {},
   "source": [
    "# 8.7 Least squares slope as a weighted average of individual slopes"
   ]
  },
  {
   "cell_type": "markdown",
   "id": "ee7023c9",
   "metadata": {},
   "source": [
    "Just a math exercise, but is actually difficult, the key is to recognize that $\\sum_{i}^{n} x = n\\overline{x}$"
   ]
  },
  {
   "cell_type": "markdown",
   "id": "e811e81e",
   "metadata": {},
   "source": [
    "# 8.8 Comparing `pymc3` and `statsmodel`"
   ]
  },
  {
   "cell_type": "code",
   "execution_count": 44,
   "id": "1af6e69f",
   "metadata": {
    "execution": {
     "iopub.execute_input": "2021-05-24T15:51:37.312685Z",
     "iopub.status.busy": "2021-05-24T15:51:37.311385Z",
     "iopub.status.idle": "2021-05-24T15:51:37.425863Z",
     "shell.execute_reply": "2021-05-24T15:51:37.424081Z",
     "shell.execute_reply.started": "2021-05-24T15:51:37.312597Z"
    }
   },
   "outputs": [],
   "source": [
    "x = np.random.uniform(0,20,100)\n",
    "error = np.random.normal(0,5,100)\n",
    "y = 2+3*x+error"
   ]
  },
  {
   "cell_type": "code",
   "execution_count": 45,
   "id": "f4cc99d8",
   "metadata": {
    "execution": {
     "iopub.execute_input": "2021-05-24T15:59:04.520897Z",
     "iopub.status.busy": "2021-05-24T15:59:04.520725Z",
     "iopub.status.idle": "2021-05-24T15:59:04.524953Z",
     "shell.execute_reply": "2021-05-24T15:59:04.524420Z",
     "shell.execute_reply.started": "2021-05-24T15:59:04.520879Z"
    }
   },
   "outputs": [],
   "source": [
    "x_sm = sm.add_constant(x)\n",
    "res = sm.GLM(y, x_sm).fit()"
   ]
  },
  {
   "cell_type": "code",
   "execution_count": 46,
   "id": "bcba0e90",
   "metadata": {
    "execution": {
     "iopub.execute_input": "2021-05-24T15:59:08.302381Z",
     "iopub.status.busy": "2021-05-24T15:59:08.301730Z",
     "iopub.status.idle": "2021-05-24T15:59:08.311997Z",
     "shell.execute_reply": "2021-05-24T15:59:08.311402Z",
     "shell.execute_reply.started": "2021-05-24T15:59:08.302307Z"
    }
   },
   "outputs": [
    {
     "data": {
      "text/html": [
       "<table class=\"simpletable\">\n",
       "<caption>Generalized Linear Model Regression Results</caption>\n",
       "<tr>\n",
       "  <th>Dep. Variable:</th>           <td>y</td>        <th>  No. Observations:  </th>  <td>   100</td> \n",
       "</tr>\n",
       "<tr>\n",
       "  <th>Model:</th>                  <td>GLM</td>       <th>  Df Residuals:      </th>  <td>    98</td> \n",
       "</tr>\n",
       "<tr>\n",
       "  <th>Model Family:</th>        <td>Gaussian</td>     <th>  Df Model:          </th>  <td>     1</td> \n",
       "</tr>\n",
       "<tr>\n",
       "  <th>Link Function:</th>       <td>identity</td>     <th>  Scale:             </th> <td>  18.199</td>\n",
       "</tr>\n",
       "<tr>\n",
       "  <th>Method:</th>                <td>IRLS</td>       <th>  Log-Likelihood:    </th> <td> -285.95</td>\n",
       "</tr>\n",
       "<tr>\n",
       "  <th>Date:</th>            <td>Mon, 24 May 2021</td> <th>  Deviance:          </th> <td>  1783.5</td>\n",
       "</tr>\n",
       "<tr>\n",
       "  <th>Time:</th>                <td>11:59:08</td>     <th>  Pearson chi2:      </th> <td>1.78e+03</td>\n",
       "</tr>\n",
       "<tr>\n",
       "  <th>No. Iterations:</th>          <td>3</td>        <th>                     </th>     <td> </td>   \n",
       "</tr>\n",
       "<tr>\n",
       "  <th>Covariance Type:</th>     <td>nonrobust</td>    <th>                     </th>     <td> </td>   \n",
       "</tr>\n",
       "</table>\n",
       "<table class=\"simpletable\">\n",
       "<tr>\n",
       "    <td></td>       <th>coef</th>     <th>std err</th>      <th>z</th>      <th>P>|z|</th>  <th>[0.025</th>    <th>0.975]</th>  \n",
       "</tr>\n",
       "<tr>\n",
       "  <th>const</th> <td>    3.5165</td> <td>    0.922</td> <td>    3.815</td> <td> 0.000</td> <td>    1.710</td> <td>    5.323</td>\n",
       "</tr>\n",
       "<tr>\n",
       "  <th>x1</th>    <td>    2.8234</td> <td>    0.075</td> <td>   37.404</td> <td> 0.000</td> <td>    2.675</td> <td>    2.971</td>\n",
       "</tr>\n",
       "</table>"
      ],
      "text/plain": [
       "<class 'statsmodels.iolib.summary.Summary'>\n",
       "\"\"\"\n",
       "                 Generalized Linear Model Regression Results                  \n",
       "==============================================================================\n",
       "Dep. Variable:                      y   No. Observations:                  100\n",
       "Model:                            GLM   Df Residuals:                       98\n",
       "Model Family:                Gaussian   Df Model:                            1\n",
       "Link Function:               identity   Scale:                          18.199\n",
       "Method:                          IRLS   Log-Likelihood:                -285.95\n",
       "Date:                Mon, 24 May 2021   Deviance:                       1783.5\n",
       "Time:                        11:59:08   Pearson chi2:                 1.78e+03\n",
       "No. Iterations:                     3                                         \n",
       "Covariance Type:            nonrobust                                         \n",
       "==============================================================================\n",
       "                 coef    std err          z      P>|z|      [0.025      0.975]\n",
       "------------------------------------------------------------------------------\n",
       "const          3.5165      0.922      3.815      0.000       1.710       5.323\n",
       "x1             2.8234      0.075     37.404      0.000       2.675       2.971\n",
       "==============================================================================\n",
       "\"\"\""
      ]
     },
     "execution_count": 46,
     "metadata": {},
     "output_type": "execute_result"
    }
   ],
   "source": [
    "res.summary()"
   ]
  },
  {
   "cell_type": "code",
   "execution_count": 86,
   "id": "0b844a2e",
   "metadata": {
    "execution": {
     "iopub.execute_input": "2021-05-24T16:14:36.200736Z",
     "iopub.status.busy": "2021-05-24T16:14:36.200574Z",
     "iopub.status.idle": "2021-05-24T16:14:47.412512Z",
     "shell.execute_reply": "2021-05-24T16:14:47.412007Z",
     "shell.execute_reply.started": "2021-05-24T16:14:36.200719Z"
    },
    "tags": []
   },
   "outputs": [
    {
     "name": "stderr",
     "output_type": "stream",
     "text": [
      "Auto-assigning NUTS sampler...\n",
      "Initializing NUTS using jitter+adapt_diag...\n",
      "Multiprocess sampling (3 chains in 3 jobs)\n",
      "NUTS: [sd, x0, Intercept]\n"
     ]
    },
    {
     "data": {
      "text/html": [
       "\n",
       "    <div>\n",
       "        <style>\n",
       "            /* Turns off some styling */\n",
       "            progress {\n",
       "                /* gets rid of default border in Firefox and Opera. */\n",
       "                border: none;\n",
       "                /* Needs to be in here for Safari polyfill so background images work as expected. */\n",
       "                background-size: auto;\n",
       "            }\n",
       "            .progress-bar-interrupted, .progress-bar-interrupted::-webkit-progress-bar {\n",
       "                background: #F44336;\n",
       "            }\n",
       "        </style>\n",
       "      <progress value='33000' class='' max='33000' style='width:300px; height:20px; vertical-align: middle;'></progress>\n",
       "      100.00% [33000/33000 00:09<00:00 Sampling 3 chains, 0 divergences]\n",
       "    </div>\n",
       "    "
      ],
      "text/plain": [
       "<IPython.core.display.HTML object>"
      ]
     },
     "metadata": {},
     "output_type": "display_data"
    },
    {
     "name": "stderr",
     "output_type": "stream",
     "text": [
      "Sampling 3 chains for 1_000 tune and 10_000 draw iterations (3_000 + 30_000 draws total) took 9 seconds.\n"
     ]
    }
   ],
   "source": [
    "with pm.Model() as model:\n",
    "    pm.glm.GLM(x,y,intercept=True)\n",
    "    trace = pm.sample(10000)"
   ]
  },
  {
   "cell_type": "code",
   "execution_count": 74,
   "id": "a8b2b5a6",
   "metadata": {
    "execution": {
     "iopub.execute_input": "2021-05-24T16:12:45.767633Z",
     "iopub.status.busy": "2021-05-24T16:12:45.767411Z",
     "iopub.status.idle": "2021-05-24T16:12:47.659780Z",
     "shell.execute_reply": "2021-05-24T16:12:47.659314Z",
     "shell.execute_reply.started": "2021-05-24T16:12:45.767612Z"
    },
    "tags": []
   },
   "outputs": [
    {
     "name": "stderr",
     "output_type": "stream",
     "text": [
      "/home/jfyu/miniconda3/envs/ros/lib/python3.8/site-packages/arviz/data/io_pymc3.py:88: FutureWarning: Using `from_pymc3` without the model will be deprecated in a future release. Not using the model will return less accurate and less useful results. Make sure you use the model argument or call from_pymc3 within a model context.\n",
      "  warnings.warn(\n"
     ]
    },
    {
     "data": {
      "text/plain": [
       "array([[<matplotlib.axes._subplots.AxesSubplot object at 0x7fb151ec4d60>,\n",
       "        <matplotlib.axes._subplots.AxesSubplot object at 0x7fb1347df100>],\n",
       "       [<matplotlib.axes._subplots.AxesSubplot object at 0x7fb1336274f0>,\n",
       "        <matplotlib.axes._subplots.AxesSubplot object at 0x7fb133537490>],\n",
       "       [<matplotlib.axes._subplots.AxesSubplot object at 0x7fb133623130>,\n",
       "        <matplotlib.axes._subplots.AxesSubplot object at 0x7fb1336c1670>]],\n",
       "      dtype=object)"
      ]
     },
     "execution_count": 74,
     "metadata": {},
     "output_type": "execute_result"
    },
    {
     "data": {
      "image/png": "[encoded data removed]",
      "text/plain": [
       "<Figure size 864x432 with 6 Axes>"
      ]
     },
     "metadata": {},
     "output_type": "display_data"
    }
   ],
   "source": [
    "pm.traceplot(trace)"
   ]
  },
  {
   "cell_type": "code",
   "execution_count": 83,
   "id": "094849d4",
   "metadata": {
    "execution": {
     "iopub.execute_input": "2021-05-24T16:14:04.141340Z",
     "iopub.status.busy": "2021-05-24T16:14:04.140697Z",
     "iopub.status.idle": "2021-05-24T16:14:04.185139Z",
     "shell.execute_reply": "2021-05-24T16:14:04.184388Z",
     "shell.execute_reply.started": "2021-05-24T16:14:04.141263Z"
    },
    "tags": []
   },
   "outputs": [
    {
     "data": {
      "text/plain": [
       "6.8477815863150315"
      ]
     },
     "execution_count": 83,
     "metadata": {},
     "output_type": "execute_result"
    }
   ],
   "source": [
    "intercept = max(trace[:3000]['Intercept'])\n",
    "intercept"
   ]
  },
  {
   "cell_type": "code",
   "execution_count": 84,
   "id": "ffe42839",
   "metadata": {
    "execution": {
     "iopub.execute_input": "2021-05-24T16:14:04.650628Z",
     "iopub.status.busy": "2021-05-24T16:14:04.650465Z",
     "iopub.status.idle": "2021-05-24T16:14:04.673243Z",
     "shell.execute_reply": "2021-05-24T16:14:04.672674Z",
     "shell.execute_reply.started": "2021-05-24T16:14:04.650611Z"
    },
    "tags": []
   },
   "outputs": [
    {
     "data": {
      "text/plain": [
       "3.130683898677267"
      ]
     },
     "execution_count": 84,
     "metadata": {},
     "output_type": "execute_result"
    }
   ],
   "source": [
    "slope = max(trace[:3000]['x0'])\n",
    "slope"
   ]
  },
  {
   "cell_type": "code",
   "execution_count": 72,
   "id": "b3070600",
   "metadata": {
    "execution": {
     "iopub.execute_input": "2021-05-24T16:11:55.453659Z",
     "iopub.status.busy": "2021-05-24T16:11:55.453491Z",
     "iopub.status.idle": "2021-05-24T16:11:55.458418Z",
     "shell.execute_reply": "2021-05-24T16:11:55.457845Z",
     "shell.execute_reply.started": "2021-05-24T16:11:55.453642Z"
    },
    "tags": []
   },
   "outputs": [
    {
     "data": {
      "text/plain": [
       "5.620752964619886"
      ]
     },
     "execution_count": 72,
     "metadata": {},
     "output_type": "execute_result"
    }
   ],
   "source": [
    "max(trace['sd'])"
   ]
  },
  {
   "cell_type": "code",
   "execution_count": 85,
   "id": "5ef31ca3",
   "metadata": {
    "execution": {
     "iopub.execute_input": "2021-05-24T16:14:15.678119Z",
     "iopub.status.busy": "2021-05-24T16:14:15.677486Z",
     "iopub.status.idle": "2021-05-24T16:14:15.818086Z",
     "shell.execute_reply": "2021-05-24T16:14:15.817630Z",
     "shell.execute_reply.started": "2021-05-24T16:14:15.678042Z"
    },
    "tags": []
   },
   "outputs": [
    {
     "data": {
      "text/plain": [
       "<matplotlib.legend.Legend at 0x7fb132b3efd0>"
      ]
     },
     "execution_count": 85,
     "metadata": {},
     "output_type": "execute_result"
    },
    {
     "data": {
      "image/png": "[encoded data removed]",
      "text/plain": [
       "<Figure size 576x396 with 1 Axes>"
      ]
     },
     "metadata": {},
     "output_type": "display_data"
    }
   ],
   "source": [
    "plt.scatter(x,y)\n",
    "plt.plot(x, res.params[0]+res.params[1]*x, color= 'b', label='GLM line')\n",
    "plt.plot(x, intercept+slope*x, color='k', label='pymc3 line')\n",
    "plt.legend()"
   ]
  },
  {
   "cell_type": "markdown",
   "id": "4e4d3715",
   "metadata": {},
   "source": [
    "Doesn't seem to take much to get the wrong line................\n",
    "this is a weird one needs further dive, but it's mostly a code issue, leave for now"
   ]
  },
  {
   "cell_type": "markdown",
   "id": "d4dfebd1",
   "metadata": {},
   "source": [
    "# 8.9 Leave-one-out cross validation"
   ]
  },
  {
   "cell_type": "code",
   "execution_count": 87,
   "id": "1eba4746",
   "metadata": {
    "execution": {
     "iopub.execute_input": "2021-05-24T16:17:48.053178Z",
     "iopub.status.busy": "2021-05-24T16:17:48.052826Z",
     "iopub.status.idle": "2021-05-24T16:17:48.064207Z",
     "shell.execute_reply": "2021-05-24T16:17:48.063653Z",
     "shell.execute_reply.started": "2021-05-24T16:17:48.053137Z"
    }
   },
   "outputs": [
    {
     "data": {
      "text/html": [
       "<div>\n",
       "<style scoped>\n",
       "    .dataframe tbody tr th:only-of-type {\n",
       "        vertical-align: middle;\n",
       "    }\n",
       "\n",
       "    .dataframe tbody tr th {\n",
       "        vertical-align: top;\n",
       "    }\n",
       "\n",
       "    .dataframe thead th {\n",
       "        text-align: right;\n",
       "    }\n",
       "</style>\n",
       "<table border=\"1\" class=\"dataframe\">\n",
       "  <thead>\n",
       "    <tr style=\"text-align: right;\">\n",
       "      <th></th>\n",
       "      <th>year</th>\n",
       "      <th>growth</th>\n",
       "      <th>vote</th>\n",
       "      <th>inc_party_candidate</th>\n",
       "      <th>other_candidate</th>\n",
       "    </tr>\n",
       "  </thead>\n",
       "  <tbody>\n",
       "    <tr>\n",
       "      <th>0</th>\n",
       "      <td>1952</td>\n",
       "      <td>2.40</td>\n",
       "      <td>44.60</td>\n",
       "      <td>Stevenson</td>\n",
       "      <td>Eisenhower</td>\n",
       "    </tr>\n",
       "    <tr>\n",
       "      <th>1</th>\n",
       "      <td>1956</td>\n",
       "      <td>2.89</td>\n",
       "      <td>57.76</td>\n",
       "      <td>Eisenhower</td>\n",
       "      <td>Stevenson</td>\n",
       "    </tr>\n",
       "    <tr>\n",
       "      <th>2</th>\n",
       "      <td>1960</td>\n",
       "      <td>0.85</td>\n",
       "      <td>49.91</td>\n",
       "      <td>Nixon</td>\n",
       "      <td>Kennedy</td>\n",
       "    </tr>\n",
       "    <tr>\n",
       "      <th>3</th>\n",
       "      <td>1964</td>\n",
       "      <td>4.21</td>\n",
       "      <td>61.34</td>\n",
       "      <td>Johnson</td>\n",
       "      <td>Goldwater</td>\n",
       "    </tr>\n",
       "    <tr>\n",
       "      <th>4</th>\n",
       "      <td>1968</td>\n",
       "      <td>3.02</td>\n",
       "      <td>49.60</td>\n",
       "      <td>Humphrey</td>\n",
       "      <td>Nixon</td>\n",
       "    </tr>\n",
       "    <tr>\n",
       "      <th>5</th>\n",
       "      <td>1972</td>\n",
       "      <td>3.62</td>\n",
       "      <td>61.79</td>\n",
       "      <td>Nixon</td>\n",
       "      <td>McGovern</td>\n",
       "    </tr>\n",
       "    <tr>\n",
       "      <th>6</th>\n",
       "      <td>1976</td>\n",
       "      <td>1.08</td>\n",
       "      <td>48.95</td>\n",
       "      <td>Ford</td>\n",
       "      <td>Carter</td>\n",
       "    </tr>\n",
       "    <tr>\n",
       "      <th>7</th>\n",
       "      <td>1980</td>\n",
       "      <td>-0.39</td>\n",
       "      <td>44.70</td>\n",
       "      <td>Carter</td>\n",
       "      <td>Reagan</td>\n",
       "    </tr>\n",
       "    <tr>\n",
       "      <th>8</th>\n",
       "      <td>1984</td>\n",
       "      <td>3.86</td>\n",
       "      <td>59.17</td>\n",
       "      <td>Reagan</td>\n",
       "      <td>Mondale</td>\n",
       "    </tr>\n",
       "    <tr>\n",
       "      <th>9</th>\n",
       "      <td>1988</td>\n",
       "      <td>2.27</td>\n",
       "      <td>53.94</td>\n",
       "      <td>Bush, Sr.</td>\n",
       "      <td>Dukakis</td>\n",
       "    </tr>\n",
       "    <tr>\n",
       "      <th>10</th>\n",
       "      <td>1992</td>\n",
       "      <td>0.38</td>\n",
       "      <td>46.55</td>\n",
       "      <td>Bush, Sr.</td>\n",
       "      <td>Clinton</td>\n",
       "    </tr>\n",
       "    <tr>\n",
       "      <th>11</th>\n",
       "      <td>1996</td>\n",
       "      <td>1.04</td>\n",
       "      <td>54.74</td>\n",
       "      <td>Clinton</td>\n",
       "      <td>Dole</td>\n",
       "    </tr>\n",
       "    <tr>\n",
       "      <th>12</th>\n",
       "      <td>2000</td>\n",
       "      <td>2.36</td>\n",
       "      <td>50.27</td>\n",
       "      <td>Gore</td>\n",
       "      <td>Bush, Jr.</td>\n",
       "    </tr>\n",
       "    <tr>\n",
       "      <th>13</th>\n",
       "      <td>2004</td>\n",
       "      <td>1.72</td>\n",
       "      <td>51.24</td>\n",
       "      <td>Bush, Jr.</td>\n",
       "      <td>Kerry</td>\n",
       "    </tr>\n",
       "    <tr>\n",
       "      <th>14</th>\n",
       "      <td>2008</td>\n",
       "      <td>0.10</td>\n",
       "      <td>46.32</td>\n",
       "      <td>McCain</td>\n",
       "      <td>Obama</td>\n",
       "    </tr>\n",
       "    <tr>\n",
       "      <th>15</th>\n",
       "      <td>2012</td>\n",
       "      <td>0.95</td>\n",
       "      <td>52.00</td>\n",
       "      <td>Obama</td>\n",
       "      <td>Romney</td>\n",
       "    </tr>\n",
       "  </tbody>\n",
       "</table>\n",
       "</div>"
      ],
      "text/plain": [
       "    year  growth   vote inc_party_candidate other_candidate\n",
       "0   1952    2.40  44.60           Stevenson      Eisenhower\n",
       "1   1956    2.89  57.76          Eisenhower       Stevenson\n",
       "2   1960    0.85  49.91               Nixon         Kennedy\n",
       "3   1964    4.21  61.34             Johnson       Goldwater\n",
       "4   1968    3.02  49.60            Humphrey           Nixon\n",
       "5   1972    3.62  61.79               Nixon        McGovern\n",
       "6   1976    1.08  48.95                Ford          Carter\n",
       "7   1980   -0.39  44.70              Carter          Reagan\n",
       "8   1984    3.86  59.17              Reagan         Mondale\n",
       "9   1988    2.27  53.94           Bush, Sr.         Dukakis\n",
       "10  1992    0.38  46.55           Bush, Sr.         Clinton\n",
       "11  1996    1.04  54.74             Clinton            Dole\n",
       "12  2000    2.36  50.27                Gore       Bush, Jr.\n",
       "13  2004    1.72  51.24           Bush, Jr.           Kerry\n",
       "14  2008    0.10  46.32              McCain           Obama\n",
       "15  2012    0.95  52.00               Obama          Romney"
      ]
     },
     "execution_count": 87,
     "metadata": {},
     "output_type": "execute_result"
    }
   ],
   "source": [
    "data"
   ]
  },
  {
   "cell_type": "code",
   "execution_count": 96,
   "id": "67fb3a15",
   "metadata": {
    "execution": {
     "iopub.execute_input": "2021-05-24T16:24:38.776639Z",
     "iopub.status.busy": "2021-05-24T16:24:38.776475Z",
     "iopub.status.idle": "2021-05-24T16:24:39.610970Z",
     "shell.execute_reply": "2021-05-24T16:24:39.608902Z",
     "shell.execute_reply.started": "2021-05-24T16:24:38.776621Z"
    }
   },
   "outputs": [],
   "source": [
    "from sklearn.model_selection import LeaveOneOut"
   ]
  },
  {
   "cell_type": "code",
   "execution_count": 97,
   "id": "e8ac9a2a",
   "metadata": {
    "execution": {
     "iopub.execute_input": "2021-05-24T16:24:51.753958Z",
     "iopub.status.busy": "2021-05-24T16:24:51.753791Z",
     "iopub.status.idle": "2021-05-24T16:24:51.756548Z",
     "shell.execute_reply": "2021-05-24T16:24:51.755997Z",
     "shell.execute_reply.started": "2021-05-24T16:24:51.753935Z"
    }
   },
   "outputs": [],
   "source": [
    "loo = LeaveOneOut()"
   ]
  },
  {
   "cell_type": "code",
   "execution_count": 98,
   "id": "00bc8331",
   "metadata": {
    "execution": {
     "iopub.execute_input": "2021-05-24T16:25:09.012819Z",
     "iopub.status.busy": "2021-05-24T16:25:09.012659Z",
     "iopub.status.idle": "2021-05-24T16:25:09.016604Z",
     "shell.execute_reply": "2021-05-24T16:25:09.016018Z",
     "shell.execute_reply.started": "2021-05-24T16:25:09.012802Z"
    }
   },
   "outputs": [
    {
     "data": {
      "text/plain": [
       "16"
      ]
     },
     "execution_count": 98,
     "metadata": {},
     "output_type": "execute_result"
    }
   ],
   "source": [
    "loo.get_n_splits(data['vote'])"
   ]
  },
  {
   "cell_type": "markdown",
   "id": "19b923a9",
   "metadata": {},
   "source": [
    "Can't compare `stan_glm` since we can't figure out how to do that in Python"
   ]
  },
  {
   "cell_type": "code",
   "execution_count": 129,
   "id": "1e53e45f",
   "metadata": {
    "execution": {
     "iopub.execute_input": "2021-05-24T17:11:17.447310Z",
     "iopub.status.busy": "2021-05-24T17:11:17.447136Z",
     "iopub.status.idle": "2021-05-24T17:11:17.541846Z",
     "shell.execute_reply": "2021-05-24T17:11:17.541241Z",
     "shell.execute_reply.started": "2021-05-24T17:11:17.447293Z"
    },
    "tags": []
   },
   "outputs": [],
   "source": [
    "cv_res_n = []\n",
    "for train_index, test_index in loo.split(data[['growth', 'vote']]):\n",
    "    x = data['growth'][train_index]\n",
    "    y = data['vote'][train_index]\n",
    "    x_sm = sm.add_constant(x)\n",
    "    res = sm.GLM(y,x_sm).fit()\n",
    "    x_test = data['growth'][test_index]\n",
    "    y_test = data['vote'][test_index]\n",
    "    cv_residual = y_test - (res.params[0]+res.params[1]*x_test)\n",
    "    cv_res_n.append(cv_residual.values[0])"
   ]
  },
  {
   "cell_type": "code",
   "execution_count": 130,
   "id": "43a504f5",
   "metadata": {
    "execution": {
     "iopub.execute_input": "2021-05-24T17:11:20.737748Z",
     "iopub.status.busy": "2021-05-24T17:11:20.737577Z",
     "iopub.status.idle": "2021-05-24T17:11:20.741316Z",
     "shell.execute_reply": "2021-05-24T17:11:20.740793Z",
     "shell.execute_reply.started": "2021-05-24T17:11:20.737729Z"
    },
    "tags": []
   },
   "outputs": [
    {
     "data": {
      "text/plain": [
       "[-9.681707405723408,\n",
       " 2.9514103314942943,\n",
       " 1.1788607384887655,\n",
       " 2.9260420212630294,\n",
       " -6.5861499009409386,\n",
       " 5.339219044567301,\n",
       " -0.6593081272868488,\n",
       " -0.46684081913613085,\n",
       " 1.3761544994171118,\n",
       " 0.7986632670708644,\n",
       " -1.002302487164549,\n",
       " 5.819611658317484,\n",
       " -3.4407342808053016,\n",
       " -0.29020721086688894,\n",
       " -0.28262353123204775,\n",
       " 3.137350197980574]"
      ]
     },
     "execution_count": 130,
     "metadata": {},
     "output_type": "execute_result"
    }
   ],
   "source": [
    "cv_res_n"
   ]
  },
  {
   "cell_type": "code",
   "execution_count": 131,
   "id": "b3dc1c28",
   "metadata": {
    "execution": {
     "iopub.execute_input": "2021-05-24T17:11:21.452641Z",
     "iopub.status.busy": "2021-05-24T17:11:21.452469Z",
     "iopub.status.idle": "2021-05-24T17:11:21.455364Z",
     "shell.execute_reply": "2021-05-24T17:11:21.454864Z",
     "shell.execute_reply.started": "2021-05-24T17:11:21.452622Z"
    },
    "tags": []
   },
   "outputs": [],
   "source": [
    "sigma_cv = np.sqrt(1/len(cv_res_n)*np.sum(np.power(cv_res_n,2)))"
   ]
  },
  {
   "cell_type": "code",
   "execution_count": 132,
   "id": "dad50b42",
   "metadata": {
    "execution": {
     "iopub.execute_input": "2021-05-24T17:11:21.979038Z",
     "iopub.status.busy": "2021-05-24T17:11:21.978365Z",
     "iopub.status.idle": "2021-05-24T17:11:22.591602Z",
     "shell.execute_reply": "2021-05-24T17:11:22.589549Z",
     "shell.execute_reply.started": "2021-05-24T17:11:21.978958Z"
    },
    "tags": []
   },
   "outputs": [
    {
     "data": {
      "text/plain": [
       "3.9066037292468696"
      ]
     },
     "execution_count": 132,
     "metadata": {},
     "output_type": "execute_result"
    }
   ],
   "source": [
    "sigma_cv"
   ]
  },
  {
   "cell_type": "markdown",
   "id": "b5439de6",
   "metadata": {},
   "source": [
    "formula 8.5"
   ]
  },
  {
   "cell_type": "code",
   "execution_count": 133,
   "id": "0bc487ca",
   "metadata": {
    "execution": {
     "iopub.execute_input": "2021-05-24T17:11:49.969451Z",
     "iopub.status.busy": "2021-05-24T17:11:49.968538Z",
     "iopub.status.idle": "2021-05-24T17:11:49.979800Z",
     "shell.execute_reply": "2021-05-24T17:11:49.978625Z",
     "shell.execute_reply.started": "2021-05-24T17:11:49.969103Z"
    },
    "tags": []
   },
   "outputs": [],
   "source": [
    "sigma_classic = np.sqrt(1/(len(data['growth'])-2)*np.sum(np.power(data['vote'] - (res.params[0]+res.params[1]*data['growth']), 2)))"
   ]
  },
  {
   "cell_type": "code",
   "execution_count": 135,
   "id": "d1c4ca56",
   "metadata": {
    "execution": {
     "iopub.execute_input": "2021-05-24T17:11:59.232186Z",
     "iopub.status.busy": "2021-05-24T17:11:59.232017Z",
     "iopub.status.idle": "2021-05-24T17:11:59.235444Z",
     "shell.execute_reply": "2021-05-24T17:11:59.235003Z",
     "shell.execute_reply.started": "2021-05-24T17:11:59.232168Z"
    }
   },
   "outputs": [
    {
     "data": {
      "text/plain": [
       "3.7719864869488466"
      ]
     },
     "execution_count": 135,
     "metadata": {},
     "output_type": "execute_result"
    }
   ],
   "source": [
    "sigma_classic"
   ]
  },
  {
   "cell_type": "code",
   "execution_count": 134,
   "id": "1464eaaf",
   "metadata": {
    "execution": {
     "iopub.execute_input": "2021-05-24T17:11:51.167696Z",
     "iopub.status.busy": "2021-05-24T17:11:51.167291Z",
     "iopub.status.idle": "2021-05-24T17:11:51.174395Z",
     "shell.execute_reply": "2021-05-24T17:11:51.173432Z",
     "shell.execute_reply.started": "2021-05-24T17:11:51.167650Z"
    },
    "tags": []
   },
   "outputs": [
    {
     "data": {
      "text/plain": [
       "3.521737852254197"
      ]
     },
     "execution_count": 134,
     "metadata": {},
     "output_type": "execute_result"
    }
   ],
   "source": [
    "sigma_true # this uses 1/n as opposed to 1/(n-2) in the classic case"
   ]
  },
  {
   "cell_type": "code",
   "execution_count": 117,
   "id": "a4b300e6",
   "metadata": {
    "execution": {
     "iopub.execute_input": "2021-05-24T17:02:28.826289Z",
     "iopub.status.busy": "2021-05-24T17:02:28.826125Z",
     "iopub.status.idle": "2021-05-24T17:02:28.828705Z",
     "shell.execute_reply": "2021-05-24T17:02:28.828083Z",
     "shell.execute_reply.started": "2021-05-24T17:02:28.826271Z"
    },
    "tags": []
   },
   "outputs": [],
   "source": [
    "sigma_stan = 3.9 # see sec.7.1"
   ]
  },
  {
   "cell_type": "markdown",
   "id": "c8ddc50f",
   "metadata": {},
   "source": [
    "Looks like leave-one-out is the closest to stan. It fixes the overfitting issue that is coming out of the sigma_true, and sigma_classic tries to fix it, but I think the sample size is too small so it did not do a great job"
   ]
  },
  {
   "cell_type": "markdown",
   "id": "661f6ba4",
   "metadata": {},
   "source": [
    "# 8.10 Leave one out cross validation"
   ]
  },
  {
   "cell_type": "code",
   "execution_count": 144,
   "id": "d9fe8adb",
   "metadata": {
    "execution": {
     "iopub.execute_input": "2021-05-24T17:12:46.466867Z",
     "iopub.status.busy": "2021-05-24T17:12:46.466699Z",
     "iopub.status.idle": "2021-05-24T17:12:46.469770Z",
     "shell.execute_reply": "2021-05-24T17:12:46.469282Z",
     "shell.execute_reply.started": "2021-05-24T17:12:46.466848Z"
    },
    "tags": []
   },
   "outputs": [],
   "source": [
    "x_data = np.linspace(-10,10,10)\n",
    "y_data = 5*x_data+6+np.random.normal(0, 10, 10)"
   ]
  },
  {
   "cell_type": "code",
   "execution_count": 145,
   "id": "3cc0177f",
   "metadata": {
    "execution": {
     "iopub.execute_input": "2021-05-24T17:12:46.927758Z",
     "iopub.status.busy": "2021-05-24T17:12:46.927083Z",
     "iopub.status.idle": "2021-05-24T17:12:46.976456Z",
     "shell.execute_reply": "2021-05-24T17:12:46.975712Z",
     "shell.execute_reply.started": "2021-05-24T17:12:46.927679Z"
    },
    "tags": []
   },
   "outputs": [],
   "source": [
    "cv_res_n = []\n",
    "for train_index, test_index in loo.split(x_data):\n",
    "    x = x_data[train_index]\n",
    "    y = y_data[train_index]\n",
    "    x_sm = sm.add_constant(x)\n",
    "    res = sm.GLM(y,x_sm).fit()\n",
    "    x_test = x_data[test_index]\n",
    "    y_test = y_data[test_index]\n",
    "    cv_residual = y_test - (res.params[0]+res.params[1]*x_test)\n",
    "    cv_res_n.append(cv_residual[0])"
   ]
  },
  {
   "cell_type": "code",
   "execution_count": 146,
   "id": "a1174b8a",
   "metadata": {
    "execution": {
     "iopub.execute_input": "2021-05-24T17:12:47.295699Z",
     "iopub.status.busy": "2021-05-24T17:12:47.295005Z",
     "iopub.status.idle": "2021-05-24T17:12:47.403136Z",
     "shell.execute_reply": "2021-05-24T17:12:47.402585Z",
     "shell.execute_reply.started": "2021-05-24T17:12:47.295617Z"
    },
    "tags": []
   },
   "outputs": [],
   "source": [
    "sigma_cv = np.sqrt(1/len(cv_res_n)*np.sum(np.power(cv_res_n,2)))"
   ]
  },
  {
   "cell_type": "code",
   "execution_count": 147,
   "id": "5d02d39e",
   "metadata": {
    "execution": {
     "iopub.execute_input": "2021-05-24T17:12:47.486427Z",
     "iopub.status.busy": "2021-05-24T17:12:47.485782Z",
     "iopub.status.idle": "2021-05-24T17:12:47.491558Z",
     "shell.execute_reply": "2021-05-24T17:12:47.491081Z",
     "shell.execute_reply.started": "2021-05-24T17:12:47.486350Z"
    },
    "tags": []
   },
   "outputs": [
    {
     "data": {
      "text/plain": [
       "14.058865126056567"
      ]
     },
     "execution_count": 147,
     "metadata": {},
     "output_type": "execute_result"
    }
   ],
   "source": [
    "sigma_cv"
   ]
  },
  {
   "cell_type": "code",
   "execution_count": 148,
   "id": "80a5ce0d",
   "metadata": {
    "execution": {
     "iopub.execute_input": "2021-05-24T17:12:48.002863Z",
     "iopub.status.busy": "2021-05-24T17:12:48.002193Z",
     "iopub.status.idle": "2021-05-24T17:12:48.009866Z",
     "shell.execute_reply": "2021-05-24T17:12:48.009370Z",
     "shell.execute_reply.started": "2021-05-24T17:12:48.002784Z"
    },
    "tags": []
   },
   "outputs": [],
   "source": [
    "x_sm = sm.add_constant(x_data)\n",
    "res = sm.GLM(y_data,x_sm).fit()"
   ]
  },
  {
   "cell_type": "code",
   "execution_count": 149,
   "id": "0040c166",
   "metadata": {
    "execution": {
     "iopub.execute_input": "2021-05-24T17:12:48.612432Z",
     "iopub.status.busy": "2021-05-24T17:12:48.611789Z",
     "iopub.status.idle": "2021-05-24T17:12:48.617608Z",
     "shell.execute_reply": "2021-05-24T17:12:48.617005Z",
     "shell.execute_reply.started": "2021-05-24T17:12:48.612355Z"
    },
    "tags": []
   },
   "outputs": [],
   "source": [
    "sigma_classic = np.sqrt(1/(len(x_data)-2)*np.sum(np.power(y_data - (res.params[0]+res.params[1]*x_data), 2)))"
   ]
  },
  {
   "cell_type": "code",
   "execution_count": 150,
   "id": "cdf3ca79",
   "metadata": {
    "execution": {
     "iopub.execute_input": "2021-05-24T17:12:50.282294Z",
     "iopub.status.busy": "2021-05-24T17:12:50.282127Z",
     "iopub.status.idle": "2021-05-24T17:12:50.285968Z",
     "shell.execute_reply": "2021-05-24T17:12:50.285201Z",
     "shell.execute_reply.started": "2021-05-24T17:12:50.282277Z"
    },
    "tags": []
   },
   "outputs": [
    {
     "data": {
      "text/plain": [
       "12.62498407530528"
      ]
     },
     "execution_count": 150,
     "metadata": {},
     "output_type": "execute_result"
    }
   ],
   "source": [
    "sigma_classic"
   ]
  },
  {
   "cell_type": "markdown",
   "id": "870f23ab",
   "metadata": {},
   "source": [
    "Fewer points. So every point has a larger influence on the line. This would make leave-one-out really large because the residuals would be huge. "
   ]
  },
  {
   "cell_type": "code",
   "execution_count": null,
   "id": "b122d3e9",
   "metadata": {},
   "outputs": [],
   "source": []
  }
 ],
 "metadata": {
  "kernelspec": {
   "display_name": "Python [conda env:ros]",
   "language": "python",
   "name": "conda-env-ros-py"
  },
  "language_info": {
   "codemirror_mode": {
    "name": "ipython",
    "version": 3
   },
   "file_extension": ".py",
   "mimetype": "text/x-python",
   "name": "python",
   "nbconvert_exporter": "python",
   "pygments_lexer": "ipython3",
   "version": "3.8.8"
  }
 },
 "nbformat": 4,
 "nbformat_minor": 5
}
