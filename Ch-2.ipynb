{
 "cells": [
  {
   "cell_type": "code",
   "execution_count": 1,
   "id": "threatened-saver",
   "metadata": {
    "execution": {
     "iopub.execute_input": "2021-04-02T22:38:31.885641Z",
     "iopub.status.busy": "2021-04-02T22:38:31.885363Z",
     "iopub.status.idle": "2021-04-02T22:38:32.378213Z",
     "shell.execute_reply": "2021-04-02T22:38:32.377659Z",
     "shell.execute_reply.started": "2021-04-02T22:38:31.885568Z"
    }
   },
   "outputs": [],
   "source": [
    "import pandas as pd\n",
    "import numpy as np\n",
    "import matplotlib.pyplot as plt\n",
    "\n",
    "import scipy.stats as stats"
   ]
  },
  {
   "cell_type": "markdown",
   "id": "little-advance",
   "metadata": {},
   "source": [
    "## inference for discrete data p. 54\n",
    "\n",
    "1000 randomly selected adults responding to questions about how many dogs they own. Q: what's the 95% confidence interval for the average number of dogs in the population"
   ]
  },
  {
   "cell_type": "code",
   "execution_count": 2,
   "id": "careful-harrison",
   "metadata": {
    "execution": {
     "iopub.execute_input": "2021-04-02T22:38:32.379380Z",
     "iopub.status.busy": "2021-04-02T22:38:32.379149Z",
     "iopub.status.idle": "2021-04-02T22:38:32.383104Z",
     "shell.execute_reply": "2021-04-02T22:38:32.382696Z",
     "shell.execute_reply.started": "2021-04-02T22:38:32.379361Z"
    }
   },
   "outputs": [],
   "source": [
    "df = pd.DataFrame(data={'n_dogs':[0,1,2,3,4], 'n_ppl':[600,300,50,30,20]})"
   ]
  },
  {
   "cell_type": "code",
   "execution_count": 3,
   "id": "greatest-jewelry",
   "metadata": {
    "execution": {
     "iopub.execute_input": "2021-04-02T22:38:32.384124Z",
     "iopub.status.busy": "2021-04-02T22:38:32.383962Z",
     "iopub.status.idle": "2021-04-02T22:38:32.519315Z",
     "shell.execute_reply": "2021-04-02T22:38:32.518238Z",
     "shell.execute_reply.started": "2021-04-02T22:38:32.384108Z"
    }
   },
   "outputs": [
    {
     "data": {
      "text/html": [
       "<div>\n",
       "<style scoped>\n",
       "    .dataframe tbody tr th:only-of-type {\n",
       "        vertical-align: middle;\n",
       "    }\n",
       "\n",
       "    .dataframe tbody tr th {\n",
       "        vertical-align: top;\n",
       "    }\n",
       "\n",
       "    .dataframe thead th {\n",
       "        text-align: right;\n",
       "    }\n",
       "</style>\n",
       "<table border=\"1\" class=\"dataframe\">\n",
       "  <thead>\n",
       "    <tr style=\"text-align: right;\">\n",
       "      <th></th>\n",
       "      <th>n_dogs</th>\n",
       "      <th>n_ppl</th>\n",
       "    </tr>\n",
       "  </thead>\n",
       "  <tbody>\n",
       "    <tr>\n",
       "      <th>0</th>\n",
       "      <td>0</td>\n",
       "      <td>600</td>\n",
       "    </tr>\n",
       "    <tr>\n",
       "      <th>1</th>\n",
       "      <td>1</td>\n",
       "      <td>300</td>\n",
       "    </tr>\n",
       "    <tr>\n",
       "      <th>2</th>\n",
       "      <td>2</td>\n",
       "      <td>50</td>\n",
       "    </tr>\n",
       "    <tr>\n",
       "      <th>3</th>\n",
       "      <td>3</td>\n",
       "      <td>30</td>\n",
       "    </tr>\n",
       "    <tr>\n",
       "      <th>4</th>\n",
       "      <td>4</td>\n",
       "      <td>20</td>\n",
       "    </tr>\n",
       "  </tbody>\n",
       "</table>\n",
       "</div>"
      ],
      "text/plain": [
       "   n_dogs  n_ppl\n",
       "0       0    600\n",
       "1       1    300\n",
       "2       2     50\n",
       "3       3     30\n",
       "4       4     20"
      ]
     },
     "execution_count": 3,
     "metadata": {},
     "output_type": "execute_result"
    }
   ],
   "source": [
    "df"
   ]
  },
  {
   "cell_type": "markdown",
   "id": "twenty-olympus",
   "metadata": {},
   "source": [
    "Use formula $\\overline{y} = \\frac{1}{n}\\sum_{i=1}^{n}y_{i}$ where $n=1000$, $y_i = \\textrm{n_dogs}\\times\\textrm{n_ppl}$  "
   ]
  },
  {
   "cell_type": "code",
   "execution_count": 4,
   "id": "solved-dylan",
   "metadata": {
    "execution": {
     "iopub.execute_input": "2021-04-02T22:38:32.709980Z",
     "iopub.status.busy": "2021-04-02T22:38:32.709693Z",
     "iopub.status.idle": "2021-04-02T22:38:32.762903Z",
     "shell.execute_reply": "2021-04-02T22:38:32.762336Z",
     "shell.execute_reply.started": "2021-04-02T22:38:32.709949Z"
    }
   },
   "outputs": [
    {
     "data": {
      "text/plain": [
       "0.57"
      ]
     },
     "execution_count": 4,
     "metadata": {},
     "output_type": "execute_result"
    }
   ],
   "source": [
    "sum(df['n_dogs']*df['n_ppl'])/1000"
   ]
  },
  {
   "cell_type": "code",
   "execution_count": 5,
   "id": "charitable-worcester",
   "metadata": {
    "execution": {
     "iopub.execute_input": "2021-04-02T22:38:32.886169Z",
     "iopub.status.busy": "2021-04-02T22:38:32.885948Z",
     "iopub.status.idle": "2021-04-02T22:38:32.889085Z",
     "shell.execute_reply": "2021-04-02T22:38:32.888374Z",
     "shell.execute_reply.started": "2021-04-02T22:38:32.886145Z"
    }
   },
   "outputs": [],
   "source": [
    "mean = 0.57"
   ]
  },
  {
   "cell_type": "markdown",
   "id": "concrete-destination",
   "metadata": {},
   "source": [
    "This is the average number of dogs per person, as agreed with R"
   ]
  },
  {
   "cell_type": "markdown",
   "id": "mechanical-focus",
   "metadata": {},
   "source": [
    "Use formula $s_{y} = \\sqrt{\\frac{1}{n-1}\\sum_{i=1}^{n}(y_{i}-\\overline{y})^2}$"
   ]
  },
  {
   "cell_type": "code",
   "execution_count": 6,
   "id": "turkish-trash",
   "metadata": {
    "execution": {
     "iopub.execute_input": "2021-04-02T22:38:33.435012Z",
     "iopub.status.busy": "2021-04-02T22:38:33.434631Z",
     "iopub.status.idle": "2021-04-02T22:38:33.442024Z",
     "shell.execute_reply": "2021-04-02T22:38:33.440829Z",
     "shell.execute_reply.started": "2021-04-02T22:38:33.434968Z"
    }
   },
   "outputs": [],
   "source": [
    "std = np.sqrt(sum(np.power((df['n_dogs']-0.57),2)*df['n_ppl'])/999)"
   ]
  },
  {
   "cell_type": "code",
   "execution_count": 7,
   "id": "adolescent-welding",
   "metadata": {
    "execution": {
     "iopub.execute_input": "2021-04-02T22:38:33.614900Z",
     "iopub.status.busy": "2021-04-02T22:38:33.614430Z",
     "iopub.status.idle": "2021-04-02T22:38:33.622649Z",
     "shell.execute_reply": "2021-04-02T22:38:33.620941Z",
     "shell.execute_reply.started": "2021-04-02T22:38:33.614847Z"
    }
   },
   "outputs": [
    {
     "data": {
      "text/plain": [
       "0.8751376268141291"
      ]
     },
     "execution_count": 7,
     "metadata": {},
     "output_type": "execute_result"
    }
   ],
   "source": [
    "std"
   ]
  },
  {
   "cell_type": "markdown",
   "id": "tested-majority",
   "metadata": {},
   "source": [
    "Also matches with the R output"
   ]
  },
  {
   "cell_type": "markdown",
   "id": "electoral-flood",
   "metadata": {},
   "source": [
    "Standard Error is $se = \\frac{\\sigma}{\\sqrt{n}}$"
   ]
  },
  {
   "cell_type": "code",
   "execution_count": 8,
   "id": "buried-migration",
   "metadata": {
    "execution": {
     "iopub.execute_input": "2021-04-02T22:38:34.176245Z",
     "iopub.status.busy": "2021-04-02T22:38:34.175948Z",
     "iopub.status.idle": "2021-04-02T22:38:34.179950Z",
     "shell.execute_reply": "2021-04-02T22:38:34.179241Z",
     "shell.execute_reply.started": "2021-04-02T22:38:34.176212Z"
    }
   },
   "outputs": [],
   "source": [
    "se = std/np.sqrt(1000)"
   ]
  },
  {
   "cell_type": "code",
   "execution_count": 9,
   "id": "primary-mediterranean",
   "metadata": {
    "execution": {
     "iopub.execute_input": "2021-04-02T22:38:34.389530Z",
     "iopub.status.busy": "2021-04-02T22:38:34.389233Z",
     "iopub.status.idle": "2021-04-02T22:38:35.123230Z",
     "shell.execute_reply": "2021-04-02T22:38:35.122685Z",
     "shell.execute_reply.started": "2021-04-02T22:38:34.389505Z"
    }
   },
   "outputs": [
    {
     "data": {
      "text/plain": [
       "0.027674281668470926"
      ]
     },
     "execution_count": 9,
     "metadata": {},
     "output_type": "execute_result"
    }
   ],
   "source": [
    "se"
   ]
  },
  {
   "cell_type": "markdown",
   "id": "satisfactory-accordance",
   "metadata": {},
   "source": [
    "95% confidence interval is based on a t-distribution with n-1 degrees of freedom (dof)"
   ]
  },
  {
   "cell_type": "markdown",
   "id": "possible-oasis",
   "metadata": {},
   "source": [
    "`stats.t.ppf` seems to be the equivalent of `qt` in R"
   ]
  },
  {
   "cell_type": "code",
   "execution_count": 10,
   "id": "modular-flexibility",
   "metadata": {
    "execution": {
     "iopub.execute_input": "2021-04-02T22:38:35.124249Z",
     "iopub.status.busy": "2021-04-02T22:38:35.124002Z",
     "iopub.status.idle": "2021-04-02T22:38:35.299527Z",
     "shell.execute_reply": "2021-04-02T22:38:35.298913Z",
     "shell.execute_reply.started": "2021-04-02T22:38:35.124224Z"
    }
   },
   "outputs": [
    {
     "data": {
      "text/plain": [
       "\u001b[0;31mSignature:\u001b[0m \u001b[0mstats\u001b[0m\u001b[0;34m.\u001b[0m\u001b[0mt\u001b[0m\u001b[0;34m.\u001b[0m\u001b[0mppf\u001b[0m\u001b[0;34m(\u001b[0m\u001b[0mq\u001b[0m\u001b[0;34m,\u001b[0m \u001b[0;34m*\u001b[0m\u001b[0margs\u001b[0m\u001b[0;34m,\u001b[0m \u001b[0;34m**\u001b[0m\u001b[0mkwds\u001b[0m\u001b[0;34m)\u001b[0m\u001b[0;34m\u001b[0m\u001b[0;34m\u001b[0m\u001b[0m\n",
       "\u001b[0;31mDocstring:\u001b[0m\n",
       "Percent point function (inverse of `cdf`) at q of the given RV.\n",
       "\n",
       "Parameters\n",
       "----------\n",
       "q : array_like\n",
       "    lower tail probability\n",
       "arg1, arg2, arg3,... : array_like\n",
       "    The shape parameter(s) for the distribution (see docstring of the\n",
       "    instance object for more information)\n",
       "loc : array_like, optional\n",
       "    location parameter (default=0)\n",
       "scale : array_like, optional\n",
       "    scale parameter (default=1)\n",
       "\n",
       "Returns\n",
       "-------\n",
       "x : array_like\n",
       "    quantile corresponding to the lower tail probability q.\n",
       "\u001b[0;31mFile:\u001b[0m      ~/miniconda3/envs/ros/lib/python3.8/site-packages/scipy/stats/_distn_infrastructure.py\n",
       "\u001b[0;31mType:\u001b[0m      method\n"
      ]
     },
     "metadata": {},
     "output_type": "display_data"
    }
   ],
   "source": [
    "stats.t.ppf?"
   ]
  },
  {
   "cell_type": "code",
   "execution_count": 11,
   "id": "generous-noise",
   "metadata": {
    "execution": {
     "iopub.execute_input": "2021-04-02T22:38:35.300719Z",
     "iopub.status.busy": "2021-04-02T22:38:35.300479Z",
     "iopub.status.idle": "2021-04-02T22:38:35.353687Z",
     "shell.execute_reply": "2021-04-02T22:38:35.353171Z",
     "shell.execute_reply.started": "2021-04-02T22:38:35.300692Z"
    }
   },
   "outputs": [],
   "source": [
    "int_95 = mean+stats.t.ppf([0.025, 0.975], 1000-1)*se"
   ]
  },
  {
   "cell_type": "code",
   "execution_count": 12,
   "id": "continent-geology",
   "metadata": {
    "execution": {
     "iopub.execute_input": "2021-04-02T22:38:35.454708Z",
     "iopub.status.busy": "2021-04-02T22:38:35.454420Z",
     "iopub.status.idle": "2021-04-02T22:38:35.458949Z",
     "shell.execute_reply": "2021-04-02T22:38:35.458299Z",
     "shell.execute_reply.started": "2021-04-02T22:38:35.454676Z"
    }
   },
   "outputs": [
    {
     "data": {
      "text/plain": [
       "array([0.51569361, 0.62430639])"
      ]
     },
     "execution_count": 12,
     "metadata": {},
     "output_type": "execute_result"
    }
   ],
   "source": [
    "int_95"
   ]
  },
  {
   "cell_type": "markdown",
   "id": "compound-karen",
   "metadata": {},
   "source": [
    "This looks correct"
   ]
  },
  {
   "cell_type": "markdown",
   "id": "driven-action",
   "metadata": {},
   "source": [
    "# Exercises"
   ]
  },
  {
   "cell_type": "markdown",
   "id": "medium-fraud",
   "metadata": {},
   "source": [
    "## 4.1 Comparison of proportions"
   ]
  },
  {
   "cell_type": "code",
   "execution_count": 13,
   "id": "convertible-haven",
   "metadata": {
    "execution": {
     "iopub.execute_input": "2021-04-02T22:38:36.521115Z",
     "iopub.status.busy": "2021-04-02T22:38:36.520780Z",
     "iopub.status.idle": "2021-04-02T22:38:36.526758Z",
     "shell.execute_reply": "2021-04-02T22:38:36.525817Z",
     "shell.execute_reply.started": "2021-04-02T22:38:36.521079Z"
    }
   },
   "outputs": [
    {
     "data": {
      "text/plain": [
       "0.09999999999999998"
      ]
     },
     "execution_count": 13,
     "metadata": {},
     "output_type": "execute_result"
    }
   ],
   "source": [
    "#average treatment effect\n",
    "estimate = 0.5-0.4\n",
    "estimate"
   ]
  },
  {
   "cell_type": "code",
   "execution_count": 14,
   "id": "handmade-wages",
   "metadata": {
    "execution": {
     "iopub.execute_input": "2021-04-02T22:38:36.700035Z",
     "iopub.status.busy": "2021-04-02T22:38:36.699718Z",
     "iopub.status.idle": "2021-04-02T22:38:36.709092Z",
     "shell.execute_reply": "2021-04-02T22:38:36.707591Z",
     "shell.execute_reply.started": "2021-04-02T22:38:36.700001Z"
    }
   },
   "outputs": [
    {
     "data": {
      "text/plain": [
       "0.03130495168499706"
      ]
     },
     "execution_count": 14,
     "metadata": {},
     "output_type": "execute_result"
    }
   ],
   "source": [
    "#standard error of the treatment effect, see standard error for a comparison\n",
    "se_ctrl = np.sqrt(0.4*0.6/500)\n",
    "se_treat = np.sqrt(0.5*0.5/500)\n",
    "se = np.sqrt(np.power(se_ctrl, 2)+np.power(se_treat,2))\n",
    "\n",
    "se"
   ]
  },
  {
   "cell_type": "markdown",
   "id": "mental-freeware",
   "metadata": {},
   "source": [
    "Answer: the estimated treatment effect is 0.1$\\pm$0.03"
   ]
  },
  {
   "cell_type": "markdown",
   "id": "recovered-cheese",
   "metadata": {},
   "source": [
    "## 4.2 Choosing sample size"
   ]
  },
  {
   "cell_type": "markdown",
   "id": "critical-finland",
   "metadata": {},
   "source": [
    "Note that $se_{\\textrm{tot}} = \\sqrt{se_{1}^2+se_{2}^2}$, and $se = \\sqrt{\\frac{\\hat{p}(1-\\hat{p})}{n}}$, so $se_{\\textrm{tot}} = \\sqrt{\\frac{\\hat{p}_1\\left(1-\\hat{p}_1\\right)}{N/2}+\\frac{\\hat{p}_2\\left(1-\\hat{p}_2\\right)}{N/2}}$, if we assume that men and women are making up 0.5 of the total population\n",
    "\n",
    "Since we are asking about supporting a candidate, we can assme 0.5 for $\\hat{p}$ for both men and women as a mean since the response is either 0 or 1. Then we have\n",
    "\n",
    "$se_{\\textrm{tot}}^2 = \\frac{4*0.5^2}{N} \\leq 0.05^2 \\implies \\frac{4*0.5^2}{0.05^2} \\leq N \\implies 400 \\leq N$"
   ]
  },
  {
   "cell_type": "code",
   "execution_count": 15,
   "id": "intelligent-airport",
   "metadata": {
    "execution": {
     "iopub.execute_input": "2021-04-02T22:38:37.658733Z",
     "iopub.status.busy": "2021-04-02T22:38:37.658065Z",
     "iopub.status.idle": "2021-04-02T22:38:37.669683Z",
     "shell.execute_reply": "2021-04-02T22:38:37.667679Z",
     "shell.execute_reply.started": "2021-04-02T22:38:37.658657Z"
    }
   },
   "outputs": [
    {
     "data": {
      "text/plain": [
       "400.0"
      ]
     },
     "execution_count": 15,
     "metadata": {},
     "output_type": "execute_result"
    }
   ],
   "source": [
    "4*0.5*0.5/0.05/0.05"
   ]
  },
  {
   "cell_type": "markdown",
   "id": "needed-diana",
   "metadata": {},
   "source": [
    "Or, you think, $se = \\frac{\\sigma}{\\sqrt{N}}$, for a general population $\\sigma = 1$, so $1/\\sqrt{N} \\leq 0.05 \\implies N \\geq 0.05^{-2} = 400$ "
   ]
  },
  {
   "cell_type": "code",
   "execution_count": 16,
   "id": "covered-visit",
   "metadata": {
    "execution": {
     "iopub.execute_input": "2021-04-02T22:38:38.317748Z",
     "iopub.status.busy": "2021-04-02T22:38:38.317106Z",
     "iopub.status.idle": "2021-04-02T22:38:38.331343Z",
     "shell.execute_reply": "2021-04-02T22:38:38.328782Z",
     "shell.execute_reply.started": "2021-04-02T22:38:38.317675Z"
    }
   },
   "outputs": [
    {
     "data": {
      "text/plain": [
       "400.0"
      ]
     },
     "execution_count": 16,
     "metadata": {},
     "output_type": "execute_result"
    }
   ],
   "source": [
    "np.power((1/0.05),2)"
   ]
  },
  {
   "cell_type": "markdown",
   "id": "banned-wilderness",
   "metadata": {},
   "source": [
    "## 4.3 Comparison of Proportions"
   ]
  },
  {
   "cell_type": "markdown",
   "id": "angry-oakland",
   "metadata": {},
   "source": [
    "The question is asking for a p-value, with Null hypothesis that the better shooter makes more shots\n",
    "\n",
    "average (mean) treatment effect is 0.1\n",
    "\n",
    "standard error is"
   ]
  },
  {
   "cell_type": "code",
   "execution_count": 74,
   "id": "danish-timer",
   "metadata": {
    "execution": {
     "iopub.execute_input": "2021-04-02T23:05:27.507621Z",
     "iopub.status.busy": "2021-04-02T23:05:27.507407Z",
     "iopub.status.idle": "2021-04-02T23:05:27.512497Z",
     "shell.execute_reply": "2021-04-02T23:05:27.511955Z",
     "shell.execute_reply.started": "2021-04-02T23:05:27.507597Z"
    }
   },
   "outputs": [
    {
     "data": {
      "text/plain": [
       "0.15"
      ]
     },
     "execution_count": 74,
     "metadata": {},
     "output_type": "execute_result"
    }
   ],
   "source": [
    "se = se_ctrl = np.sqrt(0.4*0.6/20)\n",
    "se_treat = np.sqrt(0.3*0.7/20)\n",
    "se = np.sqrt(np.power(se_ctrl, 2)+np.power(se_treat,2))\n",
    "\n",
    "se"
   ]
  },
  {
   "cell_type": "markdown",
   "id": "distinct-psychology",
   "metadata": {},
   "source": [
    "We know for a normal distribution $z=\\frac{x-\\mu}{\\sigma/\\sqrt{N}}$, we are trying to find the p-value. Here we know that if $x=0$, then the z-score would be for all the cdf of a Normal distribution up to 0, which means the cdf for this z-score gives the probability mass for us seeing $x\\leq0$. So we need $1-\\textrm{cdf}(z)$"
   ]
  },
  {
   "cell_type": "code",
   "execution_count": 76,
   "id": "nonprofit-cannon",
   "metadata": {
    "execution": {
     "iopub.execute_input": "2021-04-02T23:05:49.025630Z",
     "iopub.status.busy": "2021-04-02T23:05:49.025383Z",
     "iopub.status.idle": "2021-04-02T23:05:49.029922Z",
     "shell.execute_reply": "2021-04-02T23:05:49.029335Z",
     "shell.execute_reply.started": "2021-04-02T23:05:49.025605Z"
    }
   },
   "outputs": [
    {
     "data": {
      "text/plain": [
       "-0.6666666666666667"
      ]
     },
     "execution_count": 76,
     "metadata": {},
     "output_type": "execute_result"
    }
   ],
   "source": [
    "z = (0-0.1)/(0.15)\n",
    "z"
   ]
  },
  {
   "cell_type": "code",
   "execution_count": 77,
   "id": "million-entrance",
   "metadata": {
    "execution": {
     "iopub.execute_input": "2021-04-02T23:05:50.513291Z",
     "iopub.status.busy": "2021-04-02T23:05:50.513126Z",
     "iopub.status.idle": "2021-04-02T23:05:50.517180Z",
     "shell.execute_reply": "2021-04-02T23:05:50.516597Z",
     "shell.execute_reply.started": "2021-04-02T23:05:50.513274Z"
    }
   },
   "outputs": [
    {
     "data": {
      "text/plain": [
       "0.7475074624530771"
      ]
     },
     "execution_count": 77,
     "metadata": {},
     "output_type": "execute_result"
    }
   ],
   "source": [
    "1-stats.norm.cdf(z)"
   ]
  },
  {
   "cell_type": "markdown",
   "id": "valid-definition",
   "metadata": {},
   "source": [
    "So 75% chance of seeing a mean > 0 with normal"
   ]
  },
  {
   "cell_type": "markdown",
   "id": "polar-chorus",
   "metadata": {},
   "source": [
    "But the book talked about t tests. And our N is way too small to use a normal distribution, so what does the t look like?"
   ]
  },
  {
   "cell_type": "code",
   "execution_count": 78,
   "id": "improving-somewhere",
   "metadata": {
    "execution": {
     "iopub.execute_input": "2021-04-02T23:05:57.767882Z",
     "iopub.status.busy": "2021-04-02T23:05:57.767718Z",
     "iopub.status.idle": "2021-04-02T23:05:57.772326Z",
     "shell.execute_reply": "2021-04-02T23:05:57.771946Z",
     "shell.execute_reply.started": "2021-04-02T23:05:57.767864Z"
    }
   },
   "outputs": [
    {
     "data": {
      "text/plain": [
       "0.7455937742565715"
      ]
     },
     "execution_count": 78,
     "metadata": {},
     "output_type": "execute_result"
    }
   ],
   "source": [
    "1-stats.t.cdf(-0.1/0.15, df=40)"
   ]
  },
  {
   "cell_type": "markdown",
   "id": "satisfactory-bandwidth",
   "metadata": {},
   "source": [
    "for a t distribution it appears that we will see the effect 74% of the time, which looks very close"
   ]
  },
  {
   "cell_type": "code",
   "execution_count": 23,
   "id": "adult-melbourne",
   "metadata": {
    "execution": {
     "iopub.execute_input": "2021-04-02T22:38:42.363259Z",
     "iopub.status.busy": "2021-04-02T22:38:42.362620Z",
     "iopub.status.idle": "2021-04-02T22:38:42.877450Z",
     "shell.execute_reply": "2021-04-02T22:38:42.876908Z",
     "shell.execute_reply.started": "2021-04-02T22:38:42.363196Z"
    }
   },
   "outputs": [],
   "source": [
    "import pymc3 as pm"
   ]
  },
  {
   "cell_type": "code",
   "execution_count": 58,
   "id": "elementary-celtic",
   "metadata": {
    "execution": {
     "iopub.execute_input": "2021-04-02T22:53:43.841505Z",
     "iopub.status.busy": "2021-04-02T22:53:43.841295Z",
     "iopub.status.idle": "2021-04-02T22:55:13.248623Z",
     "shell.execute_reply": "2021-04-02T22:55:13.248096Z",
     "shell.execute_reply.started": "2021-04-02T22:53:43.841480Z"
    }
   },
   "outputs": [
    {
     "name": "stderr",
     "output_type": "stream",
     "text": [
      "Multiprocess sampling (3 chains in 3 jobs)\n",
      "CompoundStep\n",
      ">Metropolis: [n2]\n",
      ">Metropolis: [n1]\n"
     ]
    },
    {
     "data": {
      "text/html": [
       "\n",
       "    <div>\n",
       "        <style>\n",
       "            /* Turns off some styling */\n",
       "            progress {\n",
       "                /* gets rid of default border in Firefox and Opera. */\n",
       "                border: none;\n",
       "                /* Needs to be in here for Safari polyfill so background images work as expected. */\n",
       "                background-size: auto;\n",
       "            }\n",
       "            .progress-bar-interrupted, .progress-bar-interrupted::-webkit-progress-bar {\n",
       "                background: #F44336;\n",
       "            }\n",
       "        </style>\n",
       "      <progress value='903000' class='' max='903000' style='width:300px; height:20px; vertical-align: middle;'></progress>\n",
       "      100.00% [903000/903000 01:27<00:00 Sampling 3 chains, 0 divergences]\n",
       "    </div>\n",
       "    "
      ],
      "text/plain": [
       "<IPython.core.display.HTML object>"
      ]
     },
     "metadata": {},
     "output_type": "display_data"
    },
    {
     "name": "stderr",
     "output_type": "stream",
     "text": [
      "Sampling 3 chains for 1_000 tune and 300_000 draw iterations (3_000 + 900_000 draws total) took 88 seconds.\n",
      "The number of effective samples is smaller than 25% for some parameters.\n"
     ]
    }
   ],
   "source": [
    "with pm.Model() as model:\n",
    "    n1 = pm.Binomial('n1',p=0.4,n=20)\n",
    "    n2 = pm.Binomial('n2',p=0.3,n=20)\n",
    "    diff = pm.Deterministic('diff', n1-n2)\n",
    "    \n",
    "    trace = pm.sample(300000)"
   ]
  },
  {
   "cell_type": "code",
   "execution_count": 59,
   "id": "facial-picnic",
   "metadata": {
    "execution": {
     "iopub.execute_input": "2021-04-02T22:56:34.199263Z",
     "iopub.status.busy": "2021-04-02T22:56:34.199009Z",
     "iopub.status.idle": "2021-04-02T22:56:34.221163Z",
     "shell.execute_reply": "2021-04-02T22:56:34.220643Z",
     "shell.execute_reply.started": "2021-04-02T22:56:34.199230Z"
    }
   },
   "outputs": [],
   "source": [
    "burned_trace = trace[10000:]"
   ]
  },
  {
   "cell_type": "code",
   "execution_count": 60,
   "id": "closed-identifier",
   "metadata": {
    "execution": {
     "iopub.execute_input": "2021-04-02T22:56:34.788599Z",
     "iopub.status.busy": "2021-04-02T22:56:34.787958Z",
     "iopub.status.idle": "2021-04-02T22:56:34.801999Z",
     "shell.execute_reply": "2021-04-02T22:56:34.800373Z",
     "shell.execute_reply.started": "2021-04-02T22:56:34.788526Z"
    }
   },
   "outputs": [
    {
     "data": {
      "text/plain": [
       "array([ 5,  5,  5, ..., 10, 10, 10])"
      ]
     },
     "execution_count": 60,
     "metadata": {},
     "output_type": "execute_result"
    }
   ],
   "source": [
    "burned_trace['n1']"
   ]
  },
  {
   "cell_type": "code",
   "execution_count": 61,
   "id": "cutting-facial",
   "metadata": {
    "execution": {
     "iopub.execute_input": "2021-04-02T22:56:35.088715Z",
     "iopub.status.busy": "2021-04-02T22:56:35.088219Z",
     "iopub.status.idle": "2021-04-02T22:56:35.099598Z",
     "shell.execute_reply": "2021-04-02T22:56:35.098098Z",
     "shell.execute_reply.started": "2021-04-02T22:56:35.088656Z"
    }
   },
   "outputs": [
    {
     "data": {
      "text/plain": [
       "array([3, 5, 5, ..., 5, 6, 5])"
      ]
     },
     "execution_count": 61,
     "metadata": {},
     "output_type": "execute_result"
    }
   ],
   "source": [
    "burned_trace['n2']"
   ]
  },
  {
   "cell_type": "code",
   "execution_count": 62,
   "id": "grand-explosion",
   "metadata": {
    "execution": {
     "iopub.execute_input": "2021-04-02T22:56:35.382647Z",
     "iopub.status.busy": "2021-04-02T22:56:35.382100Z",
     "iopub.status.idle": "2021-04-02T22:56:35.396679Z",
     "shell.execute_reply": "2021-04-02T22:56:35.395702Z",
     "shell.execute_reply.started": "2021-04-02T22:56:35.382583Z"
    }
   },
   "outputs": [
    {
     "data": {
      "text/plain": [
       "2.002029885057471"
      ]
     },
     "execution_count": 62,
     "metadata": {},
     "output_type": "execute_result"
    }
   ],
   "source": [
    "burned_trace['diff'].mean()"
   ]
  },
  {
   "cell_type": "markdown",
   "id": "demographic-chassis",
   "metadata": {},
   "source": [
    "This is correct, we should see $0.1*20 = 2$ as mean"
   ]
  },
  {
   "cell_type": "code",
   "execution_count": 64,
   "id": "outdoor-infrastructure",
   "metadata": {
    "execution": {
     "iopub.execute_input": "2021-04-02T22:57:52.645923Z",
     "iopub.status.busy": "2021-04-02T22:57:52.645756Z",
     "iopub.status.idle": "2021-04-02T22:57:52.654919Z",
     "shell.execute_reply": "2021-04-02T22:57:52.654461Z",
     "shell.execute_reply.started": "2021-04-02T22:57:52.645906Z"
    }
   },
   "outputs": [
    {
     "data": {
      "text/plain": [
       "2.9998288102924993"
      ]
     },
     "execution_count": 64,
     "metadata": {},
     "output_type": "execute_result"
    }
   ],
   "source": [
    "burned_trace['diff'].std()"
   ]
  },
  {
   "cell_type": "code",
   "execution_count": 63,
   "id": "toxic-thursday",
   "metadata": {
    "execution": {
     "iopub.execute_input": "2021-04-02T22:56:36.509218Z",
     "iopub.status.busy": "2021-04-02T22:56:36.508970Z",
     "iopub.status.idle": "2021-04-02T22:56:36.648763Z",
     "shell.execute_reply": "2021-04-02T22:56:36.648355Z",
     "shell.execute_reply.started": "2021-04-02T22:56:36.509190Z"
    }
   },
   "outputs": [
    {
     "data": {
      "text/plain": [
       "0.6921229885057472"
      ]
     },
     "execution_count": 63,
     "metadata": {},
     "output_type": "execute_result"
    }
   ],
   "source": [
    "sum(np.where(burned_trace['diff']>0,1,0))/len(burned_trace['diff'])"
   ]
  },
  {
   "cell_type": "markdown",
   "id": "unlimited-omaha",
   "metadata": {},
   "source": [
    "So actually it should be 69%, close to the normal value....."
   ]
  },
  {
   "cell_type": "markdown",
   "id": "specialized-madison",
   "metadata": {},
   "source": [
    "## 4.4 Design an Experiment"
   ]
  },
  {
   "cell_type": "markdown",
   "id": "stock-creature",
   "metadata": {},
   "source": [
    "This is the inverse of the previous question, I think this is asking for the 95% confidence interval"
   ]
  },
  {
   "cell_type": "code",
   "execution_count": 81,
   "id": "sophisticated-cinema",
   "metadata": {
    "execution": {
     "iopub.execute_input": "2021-04-02T23:58:17.004870Z",
     "iopub.status.busy": "2021-04-02T23:58:17.004612Z",
     "iopub.status.idle": "2021-04-02T23:58:17.008097Z",
     "shell.execute_reply": "2021-04-02T23:58:17.007417Z",
     "shell.execute_reply.started": "2021-04-02T23:58:17.004843Z"
    }
   },
   "outputs": [],
   "source": [
    "z = -1.65 #the z score for 95% one sided Normal distribution"
   ]
  },
  {
   "cell_type": "code",
   "execution_count": 83,
   "id": "favorite-manner",
   "metadata": {
    "execution": {
     "iopub.execute_input": "2021-04-03T00:00:21.653560Z",
     "iopub.status.busy": "2021-04-03T00:00:21.653397Z",
     "iopub.status.idle": "2021-04-03T00:00:21.657366Z",
     "shell.execute_reply": "2021-04-03T00:00:21.656998Z",
     "shell.execute_reply.started": "2021-04-03T00:00:21.653543Z"
    }
   },
   "outputs": [
    {
     "data": {
      "text/plain": [
       "122.5125"
      ]
     },
     "execution_count": 83,
     "metadata": {},
     "output_type": "execute_result"
    }
   ],
   "source": [
    "sigma = np.sqrt(0.6*0.4+0.3*0.7)\n",
    "\n",
    "N= np.power(sigma*z/(-0.1),2)\n",
    "\n",
    "N"
   ]
  },
  {
   "cell_type": "markdown",
   "id": "national-course",
   "metadata": {},
   "source": [
    "We need roughly 123 trials"
   ]
  },
  {
   "cell_type": "markdown",
   "id": "included-permission",
   "metadata": {},
   "source": [
    "## 4.6 Hypothesis testing"
   ]
  },
  {
   "cell_type": "code",
   "execution_count": 88,
   "id": "saving-flashing",
   "metadata": {
    "execution": {
     "iopub.execute_input": "2021-04-03T00:04:55.538472Z",
     "iopub.status.busy": "2021-04-03T00:04:55.538304Z",
     "iopub.status.idle": "2021-04-03T00:04:55.541579Z",
     "shell.execute_reply": "2021-04-03T00:04:55.540961Z",
     "shell.execute_reply.started": "2021-04-03T00:04:55.538454Z"
    }
   },
   "outputs": [],
   "source": [
    "with open('/home/jfyu/projects/ROS-Examples/Girls/girls.dat', 'r') as f:\n",
    "    data = f.readlines()"
   ]
  },
  {
   "cell_type": "code",
   "execution_count": 89,
   "id": "affected-silly",
   "metadata": {
    "execution": {
     "iopub.execute_input": "2021-04-03T00:04:56.302628Z",
     "iopub.status.busy": "2021-04-03T00:04:56.302001Z",
     "iopub.status.idle": "2021-04-03T00:04:56.313654Z",
     "shell.execute_reply": "2021-04-03T00:04:56.312607Z",
     "shell.execute_reply.started": "2021-04-03T00:04:56.302554Z"
    }
   },
   "outputs": [
    {
     "data": {
      "text/plain": [
       "['Proportion of girl births in 24 successive months in Vienna, 1908-1909, out of an average of 3900 births per month.  Data from Mises (1953). See Chapter 4 in Regression and Other Stories.\\n',\n",
       " ' .4777\\n',\n",
       " ' .4875\\n',\n",
       " ' .4859\\n',\n",
       " ' .4754\\n',\n",
       " ' .4874\\n',\n",
       " ' .4864\\n',\n",
       " ' .4813\\n',\n",
       " ' .4787\\n',\n",
       " ' .4895\\n',\n",
       " ' .4797\\n',\n",
       " ' .4876\\n',\n",
       " ' .4859\\n',\n",
       " ' .4857\\n',\n",
       " ' .4907\\n',\n",
       " ' .5010\\n',\n",
       " ' .4903\\n',\n",
       " ' .4860\\n',\n",
       " ' .4911\\n',\n",
       " ' .4871\\n',\n",
       " ' .4725\\n',\n",
       " ' .4822\\n',\n",
       " ' .4870\\n',\n",
       " ' .4823\\n',\n",
       " ' .4973']"
      ]
     },
     "execution_count": 89,
     "metadata": {},
     "output_type": "execute_result"
    }
   ],
   "source": [
    "data"
   ]
  },
  {
   "cell_type": "code",
   "execution_count": 90,
   "id": "exterior-budget",
   "metadata": {
    "execution": {
     "iopub.execute_input": "2021-04-03T00:05:07.771433Z",
     "iopub.status.busy": "2021-04-03T00:05:07.771273Z",
     "iopub.status.idle": "2021-04-03T00:05:07.773932Z",
     "shell.execute_reply": "2021-04-03T00:05:07.773326Z",
     "shell.execute_reply.started": "2021-04-03T00:05:07.771415Z"
    }
   },
   "outputs": [],
   "source": [
    "data = data[1:]"
   ]
  },
  {
   "cell_type": "code",
   "execution_count": 91,
   "id": "psychological-brass",
   "metadata": {
    "execution": {
     "iopub.execute_input": "2021-04-03T00:05:08.788155Z",
     "iopub.status.busy": "2021-04-03T00:05:08.787917Z",
     "iopub.status.idle": "2021-04-03T00:05:08.792602Z",
     "shell.execute_reply": "2021-04-03T00:05:08.791971Z",
     "shell.execute_reply.started": "2021-04-03T00:05:08.788129Z"
    }
   },
   "outputs": [
    {
     "data": {
      "text/plain": [
       "[' .4777\\n',\n",
       " ' .4875\\n',\n",
       " ' .4859\\n',\n",
       " ' .4754\\n',\n",
       " ' .4874\\n',\n",
       " ' .4864\\n',\n",
       " ' .4813\\n',\n",
       " ' .4787\\n',\n",
       " ' .4895\\n',\n",
       " ' .4797\\n',\n",
       " ' .4876\\n',\n",
       " ' .4859\\n',\n",
       " ' .4857\\n',\n",
       " ' .4907\\n',\n",
       " ' .5010\\n',\n",
       " ' .4903\\n',\n",
       " ' .4860\\n',\n",
       " ' .4911\\n',\n",
       " ' .4871\\n',\n",
       " ' .4725\\n',\n",
       " ' .4822\\n',\n",
       " ' .4870\\n',\n",
       " ' .4823\\n',\n",
       " ' .4973']"
      ]
     },
     "execution_count": 91,
     "metadata": {},
     "output_type": "execute_result"
    }
   ],
   "source": [
    "data"
   ]
  },
  {
   "cell_type": "code",
   "execution_count": 94,
   "id": "arabic-counter",
   "metadata": {
    "execution": {
     "iopub.execute_input": "2021-04-03T00:06:26.029911Z",
     "iopub.status.busy": "2021-04-03T00:06:26.029663Z",
     "iopub.status.idle": "2021-04-03T00:06:26.033250Z",
     "shell.execute_reply": "2021-04-03T00:06:26.032615Z",
     "shell.execute_reply.started": "2021-04-03T00:06:26.029884Z"
    }
   },
   "outputs": [],
   "source": [
    "girl_birth = []\n",
    "for i in data:\n",
    "    girl_birth.append(np.float(i.strip('\\n')))"
   ]
  },
  {
   "cell_type": "code",
   "execution_count": 118,
   "id": "liked-priest",
   "metadata": {
    "execution": {
     "iopub.execute_input": "2021-04-03T00:33:56.853171Z",
     "iopub.status.busy": "2021-04-03T00:33:56.853008Z",
     "iopub.status.idle": "2021-04-03T00:33:56.856101Z",
     "shell.execute_reply": "2021-04-03T00:33:56.855563Z",
     "shell.execute_reply.started": "2021-04-03T00:33:56.853154Z"
    }
   },
   "outputs": [],
   "source": [
    "df = pd.DataFrame({'girl_birth_rate':girl_birth})"
   ]
  },
  {
   "cell_type": "code",
   "execution_count": 119,
   "id": "loose-firmware",
   "metadata": {
    "execution": {
     "iopub.execute_input": "2021-04-03T00:34:00.534951Z",
     "iopub.status.busy": "2021-04-03T00:34:00.534793Z",
     "iopub.status.idle": "2021-04-03T00:34:00.537955Z",
     "shell.execute_reply": "2021-04-03T00:34:00.537443Z",
     "shell.execute_reply.started": "2021-04-03T00:34:00.534934Z"
    }
   },
   "outputs": [],
   "source": [
    "df['total_monthly_girl_births'] = df['girl_birth_rate']*3900"
   ]
  },
  {
   "cell_type": "code",
   "execution_count": 120,
   "id": "insured-particle",
   "metadata": {
    "execution": {
     "iopub.execute_input": "2021-04-03T00:34:01.417030Z",
     "iopub.status.busy": "2021-04-03T00:34:01.416872Z",
     "iopub.status.idle": "2021-04-03T00:34:01.423771Z",
     "shell.execute_reply": "2021-04-03T00:34:01.423281Z",
     "shell.execute_reply.started": "2021-04-03T00:34:01.417014Z"
    }
   },
   "outputs": [
    {
     "data": {
      "text/html": [
       "<div>\n",
       "<style scoped>\n",
       "    .dataframe tbody tr th:only-of-type {\n",
       "        vertical-align: middle;\n",
       "    }\n",
       "\n",
       "    .dataframe tbody tr th {\n",
       "        vertical-align: top;\n",
       "    }\n",
       "\n",
       "    .dataframe thead th {\n",
       "        text-align: right;\n",
       "    }\n",
       "</style>\n",
       "<table border=\"1\" class=\"dataframe\">\n",
       "  <thead>\n",
       "    <tr style=\"text-align: right;\">\n",
       "      <th></th>\n",
       "      <th>girl_birth_rate</th>\n",
       "      <th>total_monthly_girl_births</th>\n",
       "    </tr>\n",
       "  </thead>\n",
       "  <tbody>\n",
       "    <tr>\n",
       "      <th>0</th>\n",
       "      <td>0.4777</td>\n",
       "      <td>1863.03</td>\n",
       "    </tr>\n",
       "    <tr>\n",
       "      <th>1</th>\n",
       "      <td>0.4875</td>\n",
       "      <td>1901.25</td>\n",
       "    </tr>\n",
       "    <tr>\n",
       "      <th>2</th>\n",
       "      <td>0.4859</td>\n",
       "      <td>1895.01</td>\n",
       "    </tr>\n",
       "    <tr>\n",
       "      <th>3</th>\n",
       "      <td>0.4754</td>\n",
       "      <td>1854.06</td>\n",
       "    </tr>\n",
       "    <tr>\n",
       "      <th>4</th>\n",
       "      <td>0.4874</td>\n",
       "      <td>1900.86</td>\n",
       "    </tr>\n",
       "    <tr>\n",
       "      <th>5</th>\n",
       "      <td>0.4864</td>\n",
       "      <td>1896.96</td>\n",
       "    </tr>\n",
       "    <tr>\n",
       "      <th>6</th>\n",
       "      <td>0.4813</td>\n",
       "      <td>1877.07</td>\n",
       "    </tr>\n",
       "    <tr>\n",
       "      <th>7</th>\n",
       "      <td>0.4787</td>\n",
       "      <td>1866.93</td>\n",
       "    </tr>\n",
       "    <tr>\n",
       "      <th>8</th>\n",
       "      <td>0.4895</td>\n",
       "      <td>1909.05</td>\n",
       "    </tr>\n",
       "    <tr>\n",
       "      <th>9</th>\n",
       "      <td>0.4797</td>\n",
       "      <td>1870.83</td>\n",
       "    </tr>\n",
       "    <tr>\n",
       "      <th>10</th>\n",
       "      <td>0.4876</td>\n",
       "      <td>1901.64</td>\n",
       "    </tr>\n",
       "    <tr>\n",
       "      <th>11</th>\n",
       "      <td>0.4859</td>\n",
       "      <td>1895.01</td>\n",
       "    </tr>\n",
       "    <tr>\n",
       "      <th>12</th>\n",
       "      <td>0.4857</td>\n",
       "      <td>1894.23</td>\n",
       "    </tr>\n",
       "    <tr>\n",
       "      <th>13</th>\n",
       "      <td>0.4907</td>\n",
       "      <td>1913.73</td>\n",
       "    </tr>\n",
       "    <tr>\n",
       "      <th>14</th>\n",
       "      <td>0.5010</td>\n",
       "      <td>1953.90</td>\n",
       "    </tr>\n",
       "    <tr>\n",
       "      <th>15</th>\n",
       "      <td>0.4903</td>\n",
       "      <td>1912.17</td>\n",
       "    </tr>\n",
       "    <tr>\n",
       "      <th>16</th>\n",
       "      <td>0.4860</td>\n",
       "      <td>1895.40</td>\n",
       "    </tr>\n",
       "    <tr>\n",
       "      <th>17</th>\n",
       "      <td>0.4911</td>\n",
       "      <td>1915.29</td>\n",
       "    </tr>\n",
       "    <tr>\n",
       "      <th>18</th>\n",
       "      <td>0.4871</td>\n",
       "      <td>1899.69</td>\n",
       "    </tr>\n",
       "    <tr>\n",
       "      <th>19</th>\n",
       "      <td>0.4725</td>\n",
       "      <td>1842.75</td>\n",
       "    </tr>\n",
       "    <tr>\n",
       "      <th>20</th>\n",
       "      <td>0.4822</td>\n",
       "      <td>1880.58</td>\n",
       "    </tr>\n",
       "    <tr>\n",
       "      <th>21</th>\n",
       "      <td>0.4870</td>\n",
       "      <td>1899.30</td>\n",
       "    </tr>\n",
       "    <tr>\n",
       "      <th>22</th>\n",
       "      <td>0.4823</td>\n",
       "      <td>1880.97</td>\n",
       "    </tr>\n",
       "    <tr>\n",
       "      <th>23</th>\n",
       "      <td>0.4973</td>\n",
       "      <td>1939.47</td>\n",
       "    </tr>\n",
       "  </tbody>\n",
       "</table>\n",
       "</div>"
      ],
      "text/plain": [
       "    girl_birth_rate  total_monthly_girl_births\n",
       "0            0.4777                    1863.03\n",
       "1            0.4875                    1901.25\n",
       "2            0.4859                    1895.01\n",
       "3            0.4754                    1854.06\n",
       "4            0.4874                    1900.86\n",
       "5            0.4864                    1896.96\n",
       "6            0.4813                    1877.07\n",
       "7            0.4787                    1866.93\n",
       "8            0.4895                    1909.05\n",
       "9            0.4797                    1870.83\n",
       "10           0.4876                    1901.64\n",
       "11           0.4859                    1895.01\n",
       "12           0.4857                    1894.23\n",
       "13           0.4907                    1913.73\n",
       "14           0.5010                    1953.90\n",
       "15           0.4903                    1912.17\n",
       "16           0.4860                    1895.40\n",
       "17           0.4911                    1915.29\n",
       "18           0.4871                    1899.69\n",
       "19           0.4725                    1842.75\n",
       "20           0.4822                    1880.58\n",
       "21           0.4870                    1899.30\n",
       "22           0.4823                    1880.97\n",
       "23           0.4973                    1939.47"
      ]
     },
     "execution_count": 120,
     "metadata": {},
     "output_type": "execute_result"
    }
   ],
   "source": [
    "df"
   ]
  },
  {
   "cell_type": "code",
   "execution_count": 121,
   "id": "sonic-defensive",
   "metadata": {
    "execution": {
     "iopub.execute_input": "2021-04-03T00:34:06.236710Z",
     "iopub.status.busy": "2021-04-03T00:34:06.236517Z",
     "iopub.status.idle": "2021-04-03T00:34:06.240066Z",
     "shell.execute_reply": "2021-04-03T00:34:06.239539Z",
     "shell.execute_reply.started": "2021-04-03T00:34:06.236689Z"
    }
   },
   "outputs": [],
   "source": [
    "df['total_girl_births'] = df['total_monthly_girl_births'].cumsum()"
   ]
  },
  {
   "cell_type": "code",
   "execution_count": 122,
   "id": "monthly-central",
   "metadata": {
    "execution": {
     "iopub.execute_input": "2021-04-03T00:34:08.073932Z",
     "iopub.status.busy": "2021-04-03T00:34:08.073768Z",
     "iopub.status.idle": "2021-04-03T00:34:08.081682Z",
     "shell.execute_reply": "2021-04-03T00:34:08.081127Z",
     "shell.execute_reply.started": "2021-04-03T00:34:08.073915Z"
    }
   },
   "outputs": [
    {
     "data": {
      "text/html": [
       "<div>\n",
       "<style scoped>\n",
       "    .dataframe tbody tr th:only-of-type {\n",
       "        vertical-align: middle;\n",
       "    }\n",
       "\n",
       "    .dataframe tbody tr th {\n",
       "        vertical-align: top;\n",
       "    }\n",
       "\n",
       "    .dataframe thead th {\n",
       "        text-align: right;\n",
       "    }\n",
       "</style>\n",
       "<table border=\"1\" class=\"dataframe\">\n",
       "  <thead>\n",
       "    <tr style=\"text-align: right;\">\n",
       "      <th></th>\n",
       "      <th>girl_birth_rate</th>\n",
       "      <th>total_monthly_girl_births</th>\n",
       "      <th>total_girl_births</th>\n",
       "    </tr>\n",
       "  </thead>\n",
       "  <tbody>\n",
       "    <tr>\n",
       "      <th>0</th>\n",
       "      <td>0.4777</td>\n",
       "      <td>1863.03</td>\n",
       "      <td>1863.03</td>\n",
       "    </tr>\n",
       "    <tr>\n",
       "      <th>1</th>\n",
       "      <td>0.4875</td>\n",
       "      <td>1901.25</td>\n",
       "      <td>3764.28</td>\n",
       "    </tr>\n",
       "    <tr>\n",
       "      <th>2</th>\n",
       "      <td>0.4859</td>\n",
       "      <td>1895.01</td>\n",
       "      <td>5659.29</td>\n",
       "    </tr>\n",
       "    <tr>\n",
       "      <th>3</th>\n",
       "      <td>0.4754</td>\n",
       "      <td>1854.06</td>\n",
       "      <td>7513.35</td>\n",
       "    </tr>\n",
       "    <tr>\n",
       "      <th>4</th>\n",
       "      <td>0.4874</td>\n",
       "      <td>1900.86</td>\n",
       "      <td>9414.21</td>\n",
       "    </tr>\n",
       "    <tr>\n",
       "      <th>5</th>\n",
       "      <td>0.4864</td>\n",
       "      <td>1896.96</td>\n",
       "      <td>11311.17</td>\n",
       "    </tr>\n",
       "    <tr>\n",
       "      <th>6</th>\n",
       "      <td>0.4813</td>\n",
       "      <td>1877.07</td>\n",
       "      <td>13188.24</td>\n",
       "    </tr>\n",
       "    <tr>\n",
       "      <th>7</th>\n",
       "      <td>0.4787</td>\n",
       "      <td>1866.93</td>\n",
       "      <td>15055.17</td>\n",
       "    </tr>\n",
       "    <tr>\n",
       "      <th>8</th>\n",
       "      <td>0.4895</td>\n",
       "      <td>1909.05</td>\n",
       "      <td>16964.22</td>\n",
       "    </tr>\n",
       "    <tr>\n",
       "      <th>9</th>\n",
       "      <td>0.4797</td>\n",
       "      <td>1870.83</td>\n",
       "      <td>18835.05</td>\n",
       "    </tr>\n",
       "    <tr>\n",
       "      <th>10</th>\n",
       "      <td>0.4876</td>\n",
       "      <td>1901.64</td>\n",
       "      <td>20736.69</td>\n",
       "    </tr>\n",
       "    <tr>\n",
       "      <th>11</th>\n",
       "      <td>0.4859</td>\n",
       "      <td>1895.01</td>\n",
       "      <td>22631.70</td>\n",
       "    </tr>\n",
       "    <tr>\n",
       "      <th>12</th>\n",
       "      <td>0.4857</td>\n",
       "      <td>1894.23</td>\n",
       "      <td>24525.93</td>\n",
       "    </tr>\n",
       "    <tr>\n",
       "      <th>13</th>\n",
       "      <td>0.4907</td>\n",
       "      <td>1913.73</td>\n",
       "      <td>26439.66</td>\n",
       "    </tr>\n",
       "    <tr>\n",
       "      <th>14</th>\n",
       "      <td>0.5010</td>\n",
       "      <td>1953.90</td>\n",
       "      <td>28393.56</td>\n",
       "    </tr>\n",
       "    <tr>\n",
       "      <th>15</th>\n",
       "      <td>0.4903</td>\n",
       "      <td>1912.17</td>\n",
       "      <td>30305.73</td>\n",
       "    </tr>\n",
       "    <tr>\n",
       "      <th>16</th>\n",
       "      <td>0.4860</td>\n",
       "      <td>1895.40</td>\n",
       "      <td>32201.13</td>\n",
       "    </tr>\n",
       "    <tr>\n",
       "      <th>17</th>\n",
       "      <td>0.4911</td>\n",
       "      <td>1915.29</td>\n",
       "      <td>34116.42</td>\n",
       "    </tr>\n",
       "    <tr>\n",
       "      <th>18</th>\n",
       "      <td>0.4871</td>\n",
       "      <td>1899.69</td>\n",
       "      <td>36016.11</td>\n",
       "    </tr>\n",
       "    <tr>\n",
       "      <th>19</th>\n",
       "      <td>0.4725</td>\n",
       "      <td>1842.75</td>\n",
       "      <td>37858.86</td>\n",
       "    </tr>\n",
       "    <tr>\n",
       "      <th>20</th>\n",
       "      <td>0.4822</td>\n",
       "      <td>1880.58</td>\n",
       "      <td>39739.44</td>\n",
       "    </tr>\n",
       "    <tr>\n",
       "      <th>21</th>\n",
       "      <td>0.4870</td>\n",
       "      <td>1899.30</td>\n",
       "      <td>41638.74</td>\n",
       "    </tr>\n",
       "    <tr>\n",
       "      <th>22</th>\n",
       "      <td>0.4823</td>\n",
       "      <td>1880.97</td>\n",
       "      <td>43519.71</td>\n",
       "    </tr>\n",
       "    <tr>\n",
       "      <th>23</th>\n",
       "      <td>0.4973</td>\n",
       "      <td>1939.47</td>\n",
       "      <td>45459.18</td>\n",
       "    </tr>\n",
       "  </tbody>\n",
       "</table>\n",
       "</div>"
      ],
      "text/plain": [
       "    girl_birth_rate  total_monthly_girl_births  total_girl_births\n",
       "0            0.4777                    1863.03            1863.03\n",
       "1            0.4875                    1901.25            3764.28\n",
       "2            0.4859                    1895.01            5659.29\n",
       "3            0.4754                    1854.06            7513.35\n",
       "4            0.4874                    1900.86            9414.21\n",
       "5            0.4864                    1896.96           11311.17\n",
       "6            0.4813                    1877.07           13188.24\n",
       "7            0.4787                    1866.93           15055.17\n",
       "8            0.4895                    1909.05           16964.22\n",
       "9            0.4797                    1870.83           18835.05\n",
       "10           0.4876                    1901.64           20736.69\n",
       "11           0.4859                    1895.01           22631.70\n",
       "12           0.4857                    1894.23           24525.93\n",
       "13           0.4907                    1913.73           26439.66\n",
       "14           0.5010                    1953.90           28393.56\n",
       "15           0.4903                    1912.17           30305.73\n",
       "16           0.4860                    1895.40           32201.13\n",
       "17           0.4911                    1915.29           34116.42\n",
       "18           0.4871                    1899.69           36016.11\n",
       "19           0.4725                    1842.75           37858.86\n",
       "20           0.4822                    1880.58           39739.44\n",
       "21           0.4870                    1899.30           41638.74\n",
       "22           0.4823                    1880.97           43519.71\n",
       "23           0.4973                    1939.47           45459.18"
      ]
     },
     "execution_count": 122,
     "metadata": {},
     "output_type": "execute_result"
    }
   ],
   "source": [
    "df"
   ]
  },
  {
   "cell_type": "code",
   "execution_count": 142,
   "id": "reliable-morgan",
   "metadata": {
    "execution": {
     "iopub.execute_input": "2021-04-03T00:39:34.886103Z",
     "iopub.status.busy": "2021-04-03T00:39:34.885941Z",
     "iopub.status.idle": "2021-04-03T00:39:34.889128Z",
     "shell.execute_reply": "2021-04-03T00:39:34.888618Z",
     "shell.execute_reply.started": "2021-04-03T00:39:34.886086Z"
    }
   },
   "outputs": [],
   "source": [
    "df['extra_girl_births'] = df['total_monthly_girl_births'].diff().fillna(1863.03)"
   ]
  },
  {
   "cell_type": "code",
   "execution_count": 143,
   "id": "organized-responsibility",
   "metadata": {
    "execution": {
     "iopub.execute_input": "2021-04-03T00:39:35.256642Z",
     "iopub.status.busy": "2021-04-03T00:39:35.256474Z",
     "iopub.status.idle": "2021-04-03T00:39:35.268311Z",
     "shell.execute_reply": "2021-04-03T00:39:35.267821Z",
     "shell.execute_reply.started": "2021-04-03T00:39:35.256624Z"
    }
   },
   "outputs": [
    {
     "data": {
      "text/html": [
       "<div>\n",
       "<style scoped>\n",
       "    .dataframe tbody tr th:only-of-type {\n",
       "        vertical-align: middle;\n",
       "    }\n",
       "\n",
       "    .dataframe tbody tr th {\n",
       "        vertical-align: top;\n",
       "    }\n",
       "\n",
       "    .dataframe thead th {\n",
       "        text-align: right;\n",
       "    }\n",
       "</style>\n",
       "<table border=\"1\" class=\"dataframe\">\n",
       "  <thead>\n",
       "    <tr style=\"text-align: right;\">\n",
       "      <th></th>\n",
       "      <th>girl_birth_rate</th>\n",
       "      <th>total_monthly_girl_births</th>\n",
       "      <th>total_girl_births</th>\n",
       "      <th>extra_girl_births</th>\n",
       "      <th>total_births</th>\n",
       "      <th>actual_variance</th>\n",
       "      <th>p_hat</th>\n",
       "    </tr>\n",
       "  </thead>\n",
       "  <tbody>\n",
       "    <tr>\n",
       "      <th>0</th>\n",
       "      <td>0.4777</td>\n",
       "      <td>1863.03</td>\n",
       "      <td>1863.03</td>\n",
       "      <td>1863.03</td>\n",
       "      <td>3900</td>\n",
       "      <td>0.00799</td>\n",
       "      <td>0.477700</td>\n",
       "    </tr>\n",
       "    <tr>\n",
       "      <th>1</th>\n",
       "      <td>0.4875</td>\n",
       "      <td>1901.25</td>\n",
       "      <td>3764.28</td>\n",
       "      <td>38.22</td>\n",
       "      <td>7800</td>\n",
       "      <td>0.00799</td>\n",
       "      <td>0.482600</td>\n",
       "    </tr>\n",
       "    <tr>\n",
       "      <th>2</th>\n",
       "      <td>0.4859</td>\n",
       "      <td>1895.01</td>\n",
       "      <td>5659.29</td>\n",
       "      <td>-6.24</td>\n",
       "      <td>11700</td>\n",
       "      <td>0.00799</td>\n",
       "      <td>0.483700</td>\n",
       "    </tr>\n",
       "    <tr>\n",
       "      <th>3</th>\n",
       "      <td>0.4754</td>\n",
       "      <td>1854.06</td>\n",
       "      <td>7513.35</td>\n",
       "      <td>-40.95</td>\n",
       "      <td>15600</td>\n",
       "      <td>0.00799</td>\n",
       "      <td>0.481625</td>\n",
       "    </tr>\n",
       "    <tr>\n",
       "      <th>4</th>\n",
       "      <td>0.4874</td>\n",
       "      <td>1900.86</td>\n",
       "      <td>9414.21</td>\n",
       "      <td>46.80</td>\n",
       "      <td>19500</td>\n",
       "      <td>0.00799</td>\n",
       "      <td>0.482780</td>\n",
       "    </tr>\n",
       "    <tr>\n",
       "      <th>5</th>\n",
       "      <td>0.4864</td>\n",
       "      <td>1896.96</td>\n",
       "      <td>11311.17</td>\n",
       "      <td>-3.90</td>\n",
       "      <td>23400</td>\n",
       "      <td>0.00799</td>\n",
       "      <td>0.483383</td>\n",
       "    </tr>\n",
       "    <tr>\n",
       "      <th>6</th>\n",
       "      <td>0.4813</td>\n",
       "      <td>1877.07</td>\n",
       "      <td>13188.24</td>\n",
       "      <td>-19.89</td>\n",
       "      <td>27300</td>\n",
       "      <td>0.00799</td>\n",
       "      <td>0.483086</td>\n",
       "    </tr>\n",
       "    <tr>\n",
       "      <th>7</th>\n",
       "      <td>0.4787</td>\n",
       "      <td>1866.93</td>\n",
       "      <td>15055.17</td>\n",
       "      <td>-10.14</td>\n",
       "      <td>31200</td>\n",
       "      <td>0.00799</td>\n",
       "      <td>0.482538</td>\n",
       "    </tr>\n",
       "    <tr>\n",
       "      <th>8</th>\n",
       "      <td>0.4895</td>\n",
       "      <td>1909.05</td>\n",
       "      <td>16964.22</td>\n",
       "      <td>42.12</td>\n",
       "      <td>35100</td>\n",
       "      <td>0.00799</td>\n",
       "      <td>0.483311</td>\n",
       "    </tr>\n",
       "    <tr>\n",
       "      <th>9</th>\n",
       "      <td>0.4797</td>\n",
       "      <td>1870.83</td>\n",
       "      <td>18835.05</td>\n",
       "      <td>-38.22</td>\n",
       "      <td>39000</td>\n",
       "      <td>0.00799</td>\n",
       "      <td>0.482950</td>\n",
       "    </tr>\n",
       "    <tr>\n",
       "      <th>10</th>\n",
       "      <td>0.4876</td>\n",
       "      <td>1901.64</td>\n",
       "      <td>20736.69</td>\n",
       "      <td>30.81</td>\n",
       "      <td>42900</td>\n",
       "      <td>0.00799</td>\n",
       "      <td>0.483373</td>\n",
       "    </tr>\n",
       "    <tr>\n",
       "      <th>11</th>\n",
       "      <td>0.4859</td>\n",
       "      <td>1895.01</td>\n",
       "      <td>22631.70</td>\n",
       "      <td>-6.63</td>\n",
       "      <td>46800</td>\n",
       "      <td>0.00799</td>\n",
       "      <td>0.483583</td>\n",
       "    </tr>\n",
       "    <tr>\n",
       "      <th>12</th>\n",
       "      <td>0.4857</td>\n",
       "      <td>1894.23</td>\n",
       "      <td>24525.93</td>\n",
       "      <td>-0.78</td>\n",
       "      <td>50700</td>\n",
       "      <td>0.00799</td>\n",
       "      <td>0.483746</td>\n",
       "    </tr>\n",
       "    <tr>\n",
       "      <th>13</th>\n",
       "      <td>0.4907</td>\n",
       "      <td>1913.73</td>\n",
       "      <td>26439.66</td>\n",
       "      <td>19.50</td>\n",
       "      <td>54600</td>\n",
       "      <td>0.00799</td>\n",
       "      <td>0.484243</td>\n",
       "    </tr>\n",
       "    <tr>\n",
       "      <th>14</th>\n",
       "      <td>0.5010</td>\n",
       "      <td>1953.90</td>\n",
       "      <td>28393.56</td>\n",
       "      <td>40.17</td>\n",
       "      <td>58500</td>\n",
       "      <td>0.00799</td>\n",
       "      <td>0.485360</td>\n",
       "    </tr>\n",
       "    <tr>\n",
       "      <th>15</th>\n",
       "      <td>0.4903</td>\n",
       "      <td>1912.17</td>\n",
       "      <td>30305.73</td>\n",
       "      <td>-41.73</td>\n",
       "      <td>62400</td>\n",
       "      <td>0.00799</td>\n",
       "      <td>0.485669</td>\n",
       "    </tr>\n",
       "    <tr>\n",
       "      <th>16</th>\n",
       "      <td>0.4860</td>\n",
       "      <td>1895.40</td>\n",
       "      <td>32201.13</td>\n",
       "      <td>-16.77</td>\n",
       "      <td>66300</td>\n",
       "      <td>0.00799</td>\n",
       "      <td>0.485688</td>\n",
       "    </tr>\n",
       "    <tr>\n",
       "      <th>17</th>\n",
       "      <td>0.4911</td>\n",
       "      <td>1915.29</td>\n",
       "      <td>34116.42</td>\n",
       "      <td>19.89</td>\n",
       "      <td>70200</td>\n",
       "      <td>0.00799</td>\n",
       "      <td>0.485989</td>\n",
       "    </tr>\n",
       "    <tr>\n",
       "      <th>18</th>\n",
       "      <td>0.4871</td>\n",
       "      <td>1899.69</td>\n",
       "      <td>36016.11</td>\n",
       "      <td>-15.60</td>\n",
       "      <td>74100</td>\n",
       "      <td>0.00799</td>\n",
       "      <td>0.486047</td>\n",
       "    </tr>\n",
       "    <tr>\n",
       "      <th>19</th>\n",
       "      <td>0.4725</td>\n",
       "      <td>1842.75</td>\n",
       "      <td>37858.86</td>\n",
       "      <td>-56.94</td>\n",
       "      <td>78000</td>\n",
       "      <td>0.00799</td>\n",
       "      <td>0.485370</td>\n",
       "    </tr>\n",
       "    <tr>\n",
       "      <th>20</th>\n",
       "      <td>0.4822</td>\n",
       "      <td>1880.58</td>\n",
       "      <td>39739.44</td>\n",
       "      <td>37.83</td>\n",
       "      <td>81900</td>\n",
       "      <td>0.00799</td>\n",
       "      <td>0.485219</td>\n",
       "    </tr>\n",
       "    <tr>\n",
       "      <th>21</th>\n",
       "      <td>0.4870</td>\n",
       "      <td>1899.30</td>\n",
       "      <td>41638.74</td>\n",
       "      <td>18.72</td>\n",
       "      <td>85800</td>\n",
       "      <td>0.00799</td>\n",
       "      <td>0.485300</td>\n",
       "    </tr>\n",
       "    <tr>\n",
       "      <th>22</th>\n",
       "      <td>0.4823</td>\n",
       "      <td>1880.97</td>\n",
       "      <td>43519.71</td>\n",
       "      <td>-18.33</td>\n",
       "      <td>89700</td>\n",
       "      <td>0.00799</td>\n",
       "      <td>0.485170</td>\n",
       "    </tr>\n",
       "    <tr>\n",
       "      <th>23</th>\n",
       "      <td>0.4973</td>\n",
       "      <td>1939.47</td>\n",
       "      <td>45459.18</td>\n",
       "      <td>58.50</td>\n",
       "      <td>93600</td>\n",
       "      <td>0.00799</td>\n",
       "      <td>0.485675</td>\n",
       "    </tr>\n",
       "  </tbody>\n",
       "</table>\n",
       "</div>"
      ],
      "text/plain": [
       "    girl_birth_rate  total_monthly_girl_births  total_girl_births  \\\n",
       "0            0.4777                    1863.03            1863.03   \n",
       "1            0.4875                    1901.25            3764.28   \n",
       "2            0.4859                    1895.01            5659.29   \n",
       "3            0.4754                    1854.06            7513.35   \n",
       "4            0.4874                    1900.86            9414.21   \n",
       "5            0.4864                    1896.96           11311.17   \n",
       "6            0.4813                    1877.07           13188.24   \n",
       "7            0.4787                    1866.93           15055.17   \n",
       "8            0.4895                    1909.05           16964.22   \n",
       "9            0.4797                    1870.83           18835.05   \n",
       "10           0.4876                    1901.64           20736.69   \n",
       "11           0.4859                    1895.01           22631.70   \n",
       "12           0.4857                    1894.23           24525.93   \n",
       "13           0.4907                    1913.73           26439.66   \n",
       "14           0.5010                    1953.90           28393.56   \n",
       "15           0.4903                    1912.17           30305.73   \n",
       "16           0.4860                    1895.40           32201.13   \n",
       "17           0.4911                    1915.29           34116.42   \n",
       "18           0.4871                    1899.69           36016.11   \n",
       "19           0.4725                    1842.75           37858.86   \n",
       "20           0.4822                    1880.58           39739.44   \n",
       "21           0.4870                    1899.30           41638.74   \n",
       "22           0.4823                    1880.97           43519.71   \n",
       "23           0.4973                    1939.47           45459.18   \n",
       "\n",
       "    extra_girl_births  total_births  actual_variance     p_hat  \n",
       "0             1863.03          3900          0.00799  0.477700  \n",
       "1               38.22          7800          0.00799  0.482600  \n",
       "2               -6.24         11700          0.00799  0.483700  \n",
       "3              -40.95         15600          0.00799  0.481625  \n",
       "4               46.80         19500          0.00799  0.482780  \n",
       "5               -3.90         23400          0.00799  0.483383  \n",
       "6              -19.89         27300          0.00799  0.483086  \n",
       "7              -10.14         31200          0.00799  0.482538  \n",
       "8               42.12         35100          0.00799  0.483311  \n",
       "9              -38.22         39000          0.00799  0.482950  \n",
       "10              30.81         42900          0.00799  0.483373  \n",
       "11              -6.63         46800          0.00799  0.483583  \n",
       "12              -0.78         50700          0.00799  0.483746  \n",
       "13              19.50         54600          0.00799  0.484243  \n",
       "14              40.17         58500          0.00799  0.485360  \n",
       "15             -41.73         62400          0.00799  0.485669  \n",
       "16             -16.77         66300          0.00799  0.485688  \n",
       "17              19.89         70200          0.00799  0.485989  \n",
       "18             -15.60         74100          0.00799  0.486047  \n",
       "19             -56.94         78000          0.00799  0.485370  \n",
       "20              37.83         81900          0.00799  0.485219  \n",
       "21              18.72         85800          0.00799  0.485300  \n",
       "22             -18.33         89700          0.00799  0.485170  \n",
       "23              58.50         93600          0.00799  0.485675  "
      ]
     },
     "execution_count": 143,
     "metadata": {},
     "output_type": "execute_result"
    }
   ],
   "source": [
    "df"
   ]
  },
  {
   "cell_type": "code",
   "execution_count": 144,
   "id": "convenient-complement",
   "metadata": {
    "execution": {
     "iopub.execute_input": "2021-04-03T00:39:35.667736Z",
     "iopub.status.busy": "2021-04-03T00:39:35.667408Z",
     "iopub.status.idle": "2021-04-03T00:39:35.671988Z",
     "shell.execute_reply": "2021-04-03T00:39:35.671241Z",
     "shell.execute_reply.started": "2021-04-03T00:39:35.667699Z"
    }
   },
   "outputs": [],
   "source": [
    "df['total_births'] = np.arange(1,len(df)+1)*3900"
   ]
  },
  {
   "cell_type": "code",
   "execution_count": 145,
   "id": "czech-cyprus",
   "metadata": {
    "execution": {
     "iopub.execute_input": "2021-04-03T00:39:36.253564Z",
     "iopub.status.busy": "2021-04-03T00:39:36.253315Z",
     "iopub.status.idle": "2021-04-03T00:39:36.518853Z",
     "shell.execute_reply": "2021-04-03T00:39:36.517930Z",
     "shell.execute_reply.started": "2021-04-03T00:39:36.253536Z"
    }
   },
   "outputs": [
    {
     "data": {
      "text/html": [
       "<div>\n",
       "<style scoped>\n",
       "    .dataframe tbody tr th:only-of-type {\n",
       "        vertical-align: middle;\n",
       "    }\n",
       "\n",
       "    .dataframe tbody tr th {\n",
       "        vertical-align: top;\n",
       "    }\n",
       "\n",
       "    .dataframe thead th {\n",
       "        text-align: right;\n",
       "    }\n",
       "</style>\n",
       "<table border=\"1\" class=\"dataframe\">\n",
       "  <thead>\n",
       "    <tr style=\"text-align: right;\">\n",
       "      <th></th>\n",
       "      <th>girl_birth_rate</th>\n",
       "      <th>total_monthly_girl_births</th>\n",
       "      <th>total_girl_births</th>\n",
       "      <th>extra_girl_births</th>\n",
       "      <th>total_births</th>\n",
       "      <th>actual_variance</th>\n",
       "      <th>p_hat</th>\n",
       "    </tr>\n",
       "  </thead>\n",
       "  <tbody>\n",
       "    <tr>\n",
       "      <th>0</th>\n",
       "      <td>0.4777</td>\n",
       "      <td>1863.03</td>\n",
       "      <td>1863.03</td>\n",
       "      <td>1863.03</td>\n",
       "      <td>3900</td>\n",
       "      <td>0.00799</td>\n",
       "      <td>0.477700</td>\n",
       "    </tr>\n",
       "    <tr>\n",
       "      <th>1</th>\n",
       "      <td>0.4875</td>\n",
       "      <td>1901.25</td>\n",
       "      <td>3764.28</td>\n",
       "      <td>38.22</td>\n",
       "      <td>7800</td>\n",
       "      <td>0.00799</td>\n",
       "      <td>0.482600</td>\n",
       "    </tr>\n",
       "    <tr>\n",
       "      <th>2</th>\n",
       "      <td>0.4859</td>\n",
       "      <td>1895.01</td>\n",
       "      <td>5659.29</td>\n",
       "      <td>-6.24</td>\n",
       "      <td>11700</td>\n",
       "      <td>0.00799</td>\n",
       "      <td>0.483700</td>\n",
       "    </tr>\n",
       "    <tr>\n",
       "      <th>3</th>\n",
       "      <td>0.4754</td>\n",
       "      <td>1854.06</td>\n",
       "      <td>7513.35</td>\n",
       "      <td>-40.95</td>\n",
       "      <td>15600</td>\n",
       "      <td>0.00799</td>\n",
       "      <td>0.481625</td>\n",
       "    </tr>\n",
       "    <tr>\n",
       "      <th>4</th>\n",
       "      <td>0.4874</td>\n",
       "      <td>1900.86</td>\n",
       "      <td>9414.21</td>\n",
       "      <td>46.80</td>\n",
       "      <td>19500</td>\n",
       "      <td>0.00799</td>\n",
       "      <td>0.482780</td>\n",
       "    </tr>\n",
       "    <tr>\n",
       "      <th>5</th>\n",
       "      <td>0.4864</td>\n",
       "      <td>1896.96</td>\n",
       "      <td>11311.17</td>\n",
       "      <td>-3.90</td>\n",
       "      <td>23400</td>\n",
       "      <td>0.00799</td>\n",
       "      <td>0.483383</td>\n",
       "    </tr>\n",
       "    <tr>\n",
       "      <th>6</th>\n",
       "      <td>0.4813</td>\n",
       "      <td>1877.07</td>\n",
       "      <td>13188.24</td>\n",
       "      <td>-19.89</td>\n",
       "      <td>27300</td>\n",
       "      <td>0.00799</td>\n",
       "      <td>0.483086</td>\n",
       "    </tr>\n",
       "    <tr>\n",
       "      <th>7</th>\n",
       "      <td>0.4787</td>\n",
       "      <td>1866.93</td>\n",
       "      <td>15055.17</td>\n",
       "      <td>-10.14</td>\n",
       "      <td>31200</td>\n",
       "      <td>0.00799</td>\n",
       "      <td>0.482538</td>\n",
       "    </tr>\n",
       "    <tr>\n",
       "      <th>8</th>\n",
       "      <td>0.4895</td>\n",
       "      <td>1909.05</td>\n",
       "      <td>16964.22</td>\n",
       "      <td>42.12</td>\n",
       "      <td>35100</td>\n",
       "      <td>0.00799</td>\n",
       "      <td>0.483311</td>\n",
       "    </tr>\n",
       "    <tr>\n",
       "      <th>9</th>\n",
       "      <td>0.4797</td>\n",
       "      <td>1870.83</td>\n",
       "      <td>18835.05</td>\n",
       "      <td>-38.22</td>\n",
       "      <td>39000</td>\n",
       "      <td>0.00799</td>\n",
       "      <td>0.482950</td>\n",
       "    </tr>\n",
       "    <tr>\n",
       "      <th>10</th>\n",
       "      <td>0.4876</td>\n",
       "      <td>1901.64</td>\n",
       "      <td>20736.69</td>\n",
       "      <td>30.81</td>\n",
       "      <td>42900</td>\n",
       "      <td>0.00799</td>\n",
       "      <td>0.483373</td>\n",
       "    </tr>\n",
       "    <tr>\n",
       "      <th>11</th>\n",
       "      <td>0.4859</td>\n",
       "      <td>1895.01</td>\n",
       "      <td>22631.70</td>\n",
       "      <td>-6.63</td>\n",
       "      <td>46800</td>\n",
       "      <td>0.00799</td>\n",
       "      <td>0.483583</td>\n",
       "    </tr>\n",
       "    <tr>\n",
       "      <th>12</th>\n",
       "      <td>0.4857</td>\n",
       "      <td>1894.23</td>\n",
       "      <td>24525.93</td>\n",
       "      <td>-0.78</td>\n",
       "      <td>50700</td>\n",
       "      <td>0.00799</td>\n",
       "      <td>0.483746</td>\n",
       "    </tr>\n",
       "    <tr>\n",
       "      <th>13</th>\n",
       "      <td>0.4907</td>\n",
       "      <td>1913.73</td>\n",
       "      <td>26439.66</td>\n",
       "      <td>19.50</td>\n",
       "      <td>54600</td>\n",
       "      <td>0.00799</td>\n",
       "      <td>0.484243</td>\n",
       "    </tr>\n",
       "    <tr>\n",
       "      <th>14</th>\n",
       "      <td>0.5010</td>\n",
       "      <td>1953.90</td>\n",
       "      <td>28393.56</td>\n",
       "      <td>40.17</td>\n",
       "      <td>58500</td>\n",
       "      <td>0.00799</td>\n",
       "      <td>0.485360</td>\n",
       "    </tr>\n",
       "    <tr>\n",
       "      <th>15</th>\n",
       "      <td>0.4903</td>\n",
       "      <td>1912.17</td>\n",
       "      <td>30305.73</td>\n",
       "      <td>-41.73</td>\n",
       "      <td>62400</td>\n",
       "      <td>0.00799</td>\n",
       "      <td>0.485669</td>\n",
       "    </tr>\n",
       "    <tr>\n",
       "      <th>16</th>\n",
       "      <td>0.4860</td>\n",
       "      <td>1895.40</td>\n",
       "      <td>32201.13</td>\n",
       "      <td>-16.77</td>\n",
       "      <td>66300</td>\n",
       "      <td>0.00799</td>\n",
       "      <td>0.485688</td>\n",
       "    </tr>\n",
       "    <tr>\n",
       "      <th>17</th>\n",
       "      <td>0.4911</td>\n",
       "      <td>1915.29</td>\n",
       "      <td>34116.42</td>\n",
       "      <td>19.89</td>\n",
       "      <td>70200</td>\n",
       "      <td>0.00799</td>\n",
       "      <td>0.485989</td>\n",
       "    </tr>\n",
       "    <tr>\n",
       "      <th>18</th>\n",
       "      <td>0.4871</td>\n",
       "      <td>1899.69</td>\n",
       "      <td>36016.11</td>\n",
       "      <td>-15.60</td>\n",
       "      <td>74100</td>\n",
       "      <td>0.00799</td>\n",
       "      <td>0.486047</td>\n",
       "    </tr>\n",
       "    <tr>\n",
       "      <th>19</th>\n",
       "      <td>0.4725</td>\n",
       "      <td>1842.75</td>\n",
       "      <td>37858.86</td>\n",
       "      <td>-56.94</td>\n",
       "      <td>78000</td>\n",
       "      <td>0.00799</td>\n",
       "      <td>0.485370</td>\n",
       "    </tr>\n",
       "    <tr>\n",
       "      <th>20</th>\n",
       "      <td>0.4822</td>\n",
       "      <td>1880.58</td>\n",
       "      <td>39739.44</td>\n",
       "      <td>37.83</td>\n",
       "      <td>81900</td>\n",
       "      <td>0.00799</td>\n",
       "      <td>0.485219</td>\n",
       "    </tr>\n",
       "    <tr>\n",
       "      <th>21</th>\n",
       "      <td>0.4870</td>\n",
       "      <td>1899.30</td>\n",
       "      <td>41638.74</td>\n",
       "      <td>18.72</td>\n",
       "      <td>85800</td>\n",
       "      <td>0.00799</td>\n",
       "      <td>0.485300</td>\n",
       "    </tr>\n",
       "    <tr>\n",
       "      <th>22</th>\n",
       "      <td>0.4823</td>\n",
       "      <td>1880.97</td>\n",
       "      <td>43519.71</td>\n",
       "      <td>-18.33</td>\n",
       "      <td>89700</td>\n",
       "      <td>0.00799</td>\n",
       "      <td>0.485170</td>\n",
       "    </tr>\n",
       "    <tr>\n",
       "      <th>23</th>\n",
       "      <td>0.4973</td>\n",
       "      <td>1939.47</td>\n",
       "      <td>45459.18</td>\n",
       "      <td>58.50</td>\n",
       "      <td>93600</td>\n",
       "      <td>0.00799</td>\n",
       "      <td>0.485675</td>\n",
       "    </tr>\n",
       "  </tbody>\n",
       "</table>\n",
       "</div>"
      ],
      "text/plain": [
       "    girl_birth_rate  total_monthly_girl_births  total_girl_births  \\\n",
       "0            0.4777                    1863.03            1863.03   \n",
       "1            0.4875                    1901.25            3764.28   \n",
       "2            0.4859                    1895.01            5659.29   \n",
       "3            0.4754                    1854.06            7513.35   \n",
       "4            0.4874                    1900.86            9414.21   \n",
       "5            0.4864                    1896.96           11311.17   \n",
       "6            0.4813                    1877.07           13188.24   \n",
       "7            0.4787                    1866.93           15055.17   \n",
       "8            0.4895                    1909.05           16964.22   \n",
       "9            0.4797                    1870.83           18835.05   \n",
       "10           0.4876                    1901.64           20736.69   \n",
       "11           0.4859                    1895.01           22631.70   \n",
       "12           0.4857                    1894.23           24525.93   \n",
       "13           0.4907                    1913.73           26439.66   \n",
       "14           0.5010                    1953.90           28393.56   \n",
       "15           0.4903                    1912.17           30305.73   \n",
       "16           0.4860                    1895.40           32201.13   \n",
       "17           0.4911                    1915.29           34116.42   \n",
       "18           0.4871                    1899.69           36016.11   \n",
       "19           0.4725                    1842.75           37858.86   \n",
       "20           0.4822                    1880.58           39739.44   \n",
       "21           0.4870                    1899.30           41638.74   \n",
       "22           0.4823                    1880.97           43519.71   \n",
       "23           0.4973                    1939.47           45459.18   \n",
       "\n",
       "    extra_girl_births  total_births  actual_variance     p_hat  \n",
       "0             1863.03          3900          0.00799  0.477700  \n",
       "1               38.22          7800          0.00799  0.482600  \n",
       "2               -6.24         11700          0.00799  0.483700  \n",
       "3              -40.95         15600          0.00799  0.481625  \n",
       "4               46.80         19500          0.00799  0.482780  \n",
       "5               -3.90         23400          0.00799  0.483383  \n",
       "6              -19.89         27300          0.00799  0.483086  \n",
       "7              -10.14         31200          0.00799  0.482538  \n",
       "8               42.12         35100          0.00799  0.483311  \n",
       "9              -38.22         39000          0.00799  0.482950  \n",
       "10              30.81         42900          0.00799  0.483373  \n",
       "11              -6.63         46800          0.00799  0.483583  \n",
       "12              -0.78         50700          0.00799  0.483746  \n",
       "13              19.50         54600          0.00799  0.484243  \n",
       "14              40.17         58500          0.00799  0.485360  \n",
       "15             -41.73         62400          0.00799  0.485669  \n",
       "16             -16.77         66300          0.00799  0.485688  \n",
       "17              19.89         70200          0.00799  0.485989  \n",
       "18             -15.60         74100          0.00799  0.486047  \n",
       "19             -56.94         78000          0.00799  0.485370  \n",
       "20              37.83         81900          0.00799  0.485219  \n",
       "21              18.72         85800          0.00799  0.485300  \n",
       "22             -18.33         89700          0.00799  0.485170  \n",
       "23              58.50         93600          0.00799  0.485675  "
      ]
     },
     "execution_count": 145,
     "metadata": {},
     "output_type": "execute_result"
    }
   ],
   "source": [
    "df"
   ]
  },
  {
   "cell_type": "markdown",
   "id": "identical-gabriel",
   "metadata": {},
   "source": [
    "What's the standard deviation for these births?"
   ]
  },
  {
   "cell_type": "code",
   "execution_count": 146,
   "id": "economic-night",
   "metadata": {
    "execution": {
     "iopub.execute_input": "2021-04-03T00:39:39.101345Z",
     "iopub.status.busy": "2021-04-03T00:39:39.101184Z",
     "iopub.status.idle": "2021-04-03T00:39:39.104560Z",
     "shell.execute_reply": "2021-04-03T00:39:39.104020Z",
     "shell.execute_reply.started": "2021-04-03T00:39:39.101327Z"
    }
   },
   "outputs": [],
   "source": [
    "df['actual_variance'] = np.std(df['extra_girl_births']/3900)"
   ]
  },
  {
   "cell_type": "markdown",
   "id": "modified-implementation",
   "metadata": {},
   "source": [
    "what would be expected if the birth proportions were constant? See p. 64"
   ]
  },
  {
   "cell_type": "code",
   "execution_count": 147,
   "id": "aerial-career",
   "metadata": {
    "execution": {
     "iopub.execute_input": "2021-04-03T00:39:39.924384Z",
     "iopub.status.busy": "2021-04-03T00:39:39.924100Z",
     "iopub.status.idle": "2021-04-03T00:39:40.007054Z",
     "shell.execute_reply": "2021-04-03T00:39:40.006466Z",
     "shell.execute_reply.started": "2021-04-03T00:39:39.924352Z"
    }
   },
   "outputs": [],
   "source": [
    "df['p_hat'] = df['total_girl_births']/df['total_births'].fillna(1863.03)"
   ]
  },
  {
   "cell_type": "code",
   "execution_count": 148,
   "id": "editorial-reynolds",
   "metadata": {
    "execution": {
     "iopub.execute_input": "2021-04-03T00:39:40.668260Z",
     "iopub.status.busy": "2021-04-03T00:39:40.667980Z",
     "iopub.status.idle": "2021-04-03T00:39:40.683836Z",
     "shell.execute_reply": "2021-04-03T00:39:40.683284Z",
     "shell.execute_reply.started": "2021-04-03T00:39:40.668229Z"
    }
   },
   "outputs": [
    {
     "data": {
      "text/html": [
       "<div>\n",
       "<style scoped>\n",
       "    .dataframe tbody tr th:only-of-type {\n",
       "        vertical-align: middle;\n",
       "    }\n",
       "\n",
       "    .dataframe tbody tr th {\n",
       "        vertical-align: top;\n",
       "    }\n",
       "\n",
       "    .dataframe thead th {\n",
       "        text-align: right;\n",
       "    }\n",
       "</style>\n",
       "<table border=\"1\" class=\"dataframe\">\n",
       "  <thead>\n",
       "    <tr style=\"text-align: right;\">\n",
       "      <th></th>\n",
       "      <th>girl_birth_rate</th>\n",
       "      <th>total_monthly_girl_births</th>\n",
       "      <th>total_girl_births</th>\n",
       "      <th>extra_girl_births</th>\n",
       "      <th>total_births</th>\n",
       "      <th>actual_variance</th>\n",
       "      <th>p_hat</th>\n",
       "    </tr>\n",
       "  </thead>\n",
       "  <tbody>\n",
       "    <tr>\n",
       "      <th>0</th>\n",
       "      <td>0.4777</td>\n",
       "      <td>1863.03</td>\n",
       "      <td>1863.03</td>\n",
       "      <td>1863.03</td>\n",
       "      <td>3900</td>\n",
       "      <td>0.095621</td>\n",
       "      <td>0.477700</td>\n",
       "    </tr>\n",
       "    <tr>\n",
       "      <th>1</th>\n",
       "      <td>0.4875</td>\n",
       "      <td>1901.25</td>\n",
       "      <td>3764.28</td>\n",
       "      <td>38.22</td>\n",
       "      <td>7800</td>\n",
       "      <td>0.095621</td>\n",
       "      <td>0.482600</td>\n",
       "    </tr>\n",
       "    <tr>\n",
       "      <th>2</th>\n",
       "      <td>0.4859</td>\n",
       "      <td>1895.01</td>\n",
       "      <td>5659.29</td>\n",
       "      <td>-6.24</td>\n",
       "      <td>11700</td>\n",
       "      <td>0.095621</td>\n",
       "      <td>0.483700</td>\n",
       "    </tr>\n",
       "    <tr>\n",
       "      <th>3</th>\n",
       "      <td>0.4754</td>\n",
       "      <td>1854.06</td>\n",
       "      <td>7513.35</td>\n",
       "      <td>-40.95</td>\n",
       "      <td>15600</td>\n",
       "      <td>0.095621</td>\n",
       "      <td>0.481625</td>\n",
       "    </tr>\n",
       "    <tr>\n",
       "      <th>4</th>\n",
       "      <td>0.4874</td>\n",
       "      <td>1900.86</td>\n",
       "      <td>9414.21</td>\n",
       "      <td>46.80</td>\n",
       "      <td>19500</td>\n",
       "      <td>0.095621</td>\n",
       "      <td>0.482780</td>\n",
       "    </tr>\n",
       "    <tr>\n",
       "      <th>5</th>\n",
       "      <td>0.4864</td>\n",
       "      <td>1896.96</td>\n",
       "      <td>11311.17</td>\n",
       "      <td>-3.90</td>\n",
       "      <td>23400</td>\n",
       "      <td>0.095621</td>\n",
       "      <td>0.483383</td>\n",
       "    </tr>\n",
       "    <tr>\n",
       "      <th>6</th>\n",
       "      <td>0.4813</td>\n",
       "      <td>1877.07</td>\n",
       "      <td>13188.24</td>\n",
       "      <td>-19.89</td>\n",
       "      <td>27300</td>\n",
       "      <td>0.095621</td>\n",
       "      <td>0.483086</td>\n",
       "    </tr>\n",
       "    <tr>\n",
       "      <th>7</th>\n",
       "      <td>0.4787</td>\n",
       "      <td>1866.93</td>\n",
       "      <td>15055.17</td>\n",
       "      <td>-10.14</td>\n",
       "      <td>31200</td>\n",
       "      <td>0.095621</td>\n",
       "      <td>0.482538</td>\n",
       "    </tr>\n",
       "    <tr>\n",
       "      <th>8</th>\n",
       "      <td>0.4895</td>\n",
       "      <td>1909.05</td>\n",
       "      <td>16964.22</td>\n",
       "      <td>42.12</td>\n",
       "      <td>35100</td>\n",
       "      <td>0.095621</td>\n",
       "      <td>0.483311</td>\n",
       "    </tr>\n",
       "    <tr>\n",
       "      <th>9</th>\n",
       "      <td>0.4797</td>\n",
       "      <td>1870.83</td>\n",
       "      <td>18835.05</td>\n",
       "      <td>-38.22</td>\n",
       "      <td>39000</td>\n",
       "      <td>0.095621</td>\n",
       "      <td>0.482950</td>\n",
       "    </tr>\n",
       "    <tr>\n",
       "      <th>10</th>\n",
       "      <td>0.4876</td>\n",
       "      <td>1901.64</td>\n",
       "      <td>20736.69</td>\n",
       "      <td>30.81</td>\n",
       "      <td>42900</td>\n",
       "      <td>0.095621</td>\n",
       "      <td>0.483373</td>\n",
       "    </tr>\n",
       "    <tr>\n",
       "      <th>11</th>\n",
       "      <td>0.4859</td>\n",
       "      <td>1895.01</td>\n",
       "      <td>22631.70</td>\n",
       "      <td>-6.63</td>\n",
       "      <td>46800</td>\n",
       "      <td>0.095621</td>\n",
       "      <td>0.483583</td>\n",
       "    </tr>\n",
       "    <tr>\n",
       "      <th>12</th>\n",
       "      <td>0.4857</td>\n",
       "      <td>1894.23</td>\n",
       "      <td>24525.93</td>\n",
       "      <td>-0.78</td>\n",
       "      <td>50700</td>\n",
       "      <td>0.095621</td>\n",
       "      <td>0.483746</td>\n",
       "    </tr>\n",
       "    <tr>\n",
       "      <th>13</th>\n",
       "      <td>0.4907</td>\n",
       "      <td>1913.73</td>\n",
       "      <td>26439.66</td>\n",
       "      <td>19.50</td>\n",
       "      <td>54600</td>\n",
       "      <td>0.095621</td>\n",
       "      <td>0.484243</td>\n",
       "    </tr>\n",
       "    <tr>\n",
       "      <th>14</th>\n",
       "      <td>0.5010</td>\n",
       "      <td>1953.90</td>\n",
       "      <td>28393.56</td>\n",
       "      <td>40.17</td>\n",
       "      <td>58500</td>\n",
       "      <td>0.095621</td>\n",
       "      <td>0.485360</td>\n",
       "    </tr>\n",
       "    <tr>\n",
       "      <th>15</th>\n",
       "      <td>0.4903</td>\n",
       "      <td>1912.17</td>\n",
       "      <td>30305.73</td>\n",
       "      <td>-41.73</td>\n",
       "      <td>62400</td>\n",
       "      <td>0.095621</td>\n",
       "      <td>0.485669</td>\n",
       "    </tr>\n",
       "    <tr>\n",
       "      <th>16</th>\n",
       "      <td>0.4860</td>\n",
       "      <td>1895.40</td>\n",
       "      <td>32201.13</td>\n",
       "      <td>-16.77</td>\n",
       "      <td>66300</td>\n",
       "      <td>0.095621</td>\n",
       "      <td>0.485688</td>\n",
       "    </tr>\n",
       "    <tr>\n",
       "      <th>17</th>\n",
       "      <td>0.4911</td>\n",
       "      <td>1915.29</td>\n",
       "      <td>34116.42</td>\n",
       "      <td>19.89</td>\n",
       "      <td>70200</td>\n",
       "      <td>0.095621</td>\n",
       "      <td>0.485989</td>\n",
       "    </tr>\n",
       "    <tr>\n",
       "      <th>18</th>\n",
       "      <td>0.4871</td>\n",
       "      <td>1899.69</td>\n",
       "      <td>36016.11</td>\n",
       "      <td>-15.60</td>\n",
       "      <td>74100</td>\n",
       "      <td>0.095621</td>\n",
       "      <td>0.486047</td>\n",
       "    </tr>\n",
       "    <tr>\n",
       "      <th>19</th>\n",
       "      <td>0.4725</td>\n",
       "      <td>1842.75</td>\n",
       "      <td>37858.86</td>\n",
       "      <td>-56.94</td>\n",
       "      <td>78000</td>\n",
       "      <td>0.095621</td>\n",
       "      <td>0.485370</td>\n",
       "    </tr>\n",
       "    <tr>\n",
       "      <th>20</th>\n",
       "      <td>0.4822</td>\n",
       "      <td>1880.58</td>\n",
       "      <td>39739.44</td>\n",
       "      <td>37.83</td>\n",
       "      <td>81900</td>\n",
       "      <td>0.095621</td>\n",
       "      <td>0.485219</td>\n",
       "    </tr>\n",
       "    <tr>\n",
       "      <th>21</th>\n",
       "      <td>0.4870</td>\n",
       "      <td>1899.30</td>\n",
       "      <td>41638.74</td>\n",
       "      <td>18.72</td>\n",
       "      <td>85800</td>\n",
       "      <td>0.095621</td>\n",
       "      <td>0.485300</td>\n",
       "    </tr>\n",
       "    <tr>\n",
       "      <th>22</th>\n",
       "      <td>0.4823</td>\n",
       "      <td>1880.97</td>\n",
       "      <td>43519.71</td>\n",
       "      <td>-18.33</td>\n",
       "      <td>89700</td>\n",
       "      <td>0.095621</td>\n",
       "      <td>0.485170</td>\n",
       "    </tr>\n",
       "    <tr>\n",
       "      <th>23</th>\n",
       "      <td>0.4973</td>\n",
       "      <td>1939.47</td>\n",
       "      <td>45459.18</td>\n",
       "      <td>58.50</td>\n",
       "      <td>93600</td>\n",
       "      <td>0.095621</td>\n",
       "      <td>0.485675</td>\n",
       "    </tr>\n",
       "  </tbody>\n",
       "</table>\n",
       "</div>"
      ],
      "text/plain": [
       "    girl_birth_rate  total_monthly_girl_births  total_girl_births  \\\n",
       "0            0.4777                    1863.03            1863.03   \n",
       "1            0.4875                    1901.25            3764.28   \n",
       "2            0.4859                    1895.01            5659.29   \n",
       "3            0.4754                    1854.06            7513.35   \n",
       "4            0.4874                    1900.86            9414.21   \n",
       "5            0.4864                    1896.96           11311.17   \n",
       "6            0.4813                    1877.07           13188.24   \n",
       "7            0.4787                    1866.93           15055.17   \n",
       "8            0.4895                    1909.05           16964.22   \n",
       "9            0.4797                    1870.83           18835.05   \n",
       "10           0.4876                    1901.64           20736.69   \n",
       "11           0.4859                    1895.01           22631.70   \n",
       "12           0.4857                    1894.23           24525.93   \n",
       "13           0.4907                    1913.73           26439.66   \n",
       "14           0.5010                    1953.90           28393.56   \n",
       "15           0.4903                    1912.17           30305.73   \n",
       "16           0.4860                    1895.40           32201.13   \n",
       "17           0.4911                    1915.29           34116.42   \n",
       "18           0.4871                    1899.69           36016.11   \n",
       "19           0.4725                    1842.75           37858.86   \n",
       "20           0.4822                    1880.58           39739.44   \n",
       "21           0.4870                    1899.30           41638.74   \n",
       "22           0.4823                    1880.97           43519.71   \n",
       "23           0.4973                    1939.47           45459.18   \n",
       "\n",
       "    extra_girl_births  total_births  actual_variance     p_hat  \n",
       "0             1863.03          3900         0.095621  0.477700  \n",
       "1               38.22          7800         0.095621  0.482600  \n",
       "2               -6.24         11700         0.095621  0.483700  \n",
       "3              -40.95         15600         0.095621  0.481625  \n",
       "4               46.80         19500         0.095621  0.482780  \n",
       "5               -3.90         23400         0.095621  0.483383  \n",
       "6              -19.89         27300         0.095621  0.483086  \n",
       "7              -10.14         31200         0.095621  0.482538  \n",
       "8               42.12         35100         0.095621  0.483311  \n",
       "9              -38.22         39000         0.095621  0.482950  \n",
       "10              30.81         42900         0.095621  0.483373  \n",
       "11              -6.63         46800         0.095621  0.483583  \n",
       "12              -0.78         50700         0.095621  0.483746  \n",
       "13              19.50         54600         0.095621  0.484243  \n",
       "14              40.17         58500         0.095621  0.485360  \n",
       "15             -41.73         62400         0.095621  0.485669  \n",
       "16             -16.77         66300         0.095621  0.485688  \n",
       "17              19.89         70200         0.095621  0.485989  \n",
       "18             -15.60         74100         0.095621  0.486047  \n",
       "19             -56.94         78000         0.095621  0.485370  \n",
       "20              37.83         81900         0.095621  0.485219  \n",
       "21              18.72         85800         0.095621  0.485300  \n",
       "22             -18.33         89700         0.095621  0.485170  \n",
       "23              58.50         93600         0.095621  0.485675  "
      ]
     },
     "execution_count": 148,
     "metadata": {},
     "output_type": "execute_result"
    }
   ],
   "source": [
    "df"
   ]
  },
  {
   "cell_type": "code",
   "execution_count": 139,
   "id": "proof-touch",
   "metadata": {
    "execution": {
     "iopub.execute_input": "2021-04-03T00:38:21.221841Z",
     "iopub.status.busy": "2021-04-03T00:38:21.221680Z",
     "iopub.status.idle": "2021-04-03T00:38:21.225881Z",
     "shell.execute_reply": "2021-04-03T00:38:21.225493Z",
     "shell.execute_reply.started": "2021-04-03T00:38:21.221824Z"
    }
   },
   "outputs": [
    {
     "data": {
      "text/plain": [
       "inf"
      ]
     },
     "execution_count": 139,
     "metadata": {},
     "output_type": "execute_result"
    }
   ],
   "source": [
    "(df['p_hat']*(1-df['p_hat'])/df['extra_girl_births']).mean()"
   ]
  },
  {
   "cell_type": "markdown",
   "id": "russian-worst",
   "metadata": {},
   "source": []
  }
 ],
 "metadata": {
  "kernelspec": {
   "display_name": "Python [conda env:ros]",
   "language": "python",
   "name": "conda-env-ros-py"
  },
  "language_info": {
   "codemirror_mode": {
    "name": "ipython",
    "version": 3
   },
   "file_extension": ".py",
   "mimetype": "text/x-python",
   "name": "python",
   "nbconvert_exporter": "python",
   "pygments_lexer": "ipython3",
   "version": "3.8.8"
  }
 },
 "nbformat": 4,
 "nbformat_minor": 5
}
